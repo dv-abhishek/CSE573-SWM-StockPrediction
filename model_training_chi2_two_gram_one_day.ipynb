{
  "nbformat": 4,
  "nbformat_minor": 0,
  "metadata": {
    "colab": {
      "name": "model-training-chi2-two-gram-one-day.ipynb",
      "provenance": [],
      "collapsed_sections": []
    },
    "kernelspec": {
      "display_name": "Python 3",
      "language": "python",
      "name": "python3"
    },
    "language_info": {
      "codemirror_mode": {
        "name": "ipython",
        "version": 3
      },
      "file_extension": ".py",
      "mimetype": "text/x-python",
      "name": "python",
      "nbconvert_exporter": "python",
      "pygments_lexer": "ipython3",
      "version": "3.8.5"
    }
  },
  "cells": [
    {
      "cell_type": "markdown",
      "metadata": {
        "id": "1MciYYTm2z-j"
      },
      "source": [
        "#All the libraries used in this notebook"
      ]
    },
    {
      "cell_type": "code",
      "metadata": {
        "id": "atgE2T1bKbNp"
      },
      "source": [
        "from sklearn.model_selection import train_test_split\n",
        "from sklearn.decomposition import PCA\n",
        "from sklearn.metrics import accuracy_score\n",
        "from sklearn.linear_model import LogisticRegression\n",
        "from sklearn.ensemble import RandomForestClassifier\n",
        "from sklearn import svm\n",
        "from sklearn import tree\n",
        "from tensorflow import keras\n",
        "import pickle\n",
        "import datetime\n",
        "import numpy as np\n",
        "from sklearn.feature_selection import chi2\n",
        "from sklearn.feature_selection import SelectKBest"
      ],
      "execution_count": null,
      "outputs": []
    },
    {
      "cell_type": "code",
      "metadata": {
        "id": "mv1TlZxtKgQd",
        "colab": {
          "base_uri": "https://localhost:8080/"
        },
        "outputId": "748ade5c-12e5-4604-f819-091cd25b3255"
      },
      "source": [
        "from google.colab import drive\n",
        "drive.mount('/content/drive')"
      ],
      "execution_count": null,
      "outputs": [
        {
          "output_type": "stream",
          "text": [
            "Mounted at /content/drive\n"
          ],
          "name": "stdout"
        }
      ]
    },
    {
      "cell_type": "markdown",
      "metadata": {
        "id": "szAVvdwk3nWV"
      },
      "source": [
        "#Loading the Apple two gram features for 1 day time interval"
      ]
    },
    {
      "cell_type": "code",
      "metadata": {
        "id": "NahmOD2enpN1"
      },
      "source": [
        "with open('/content/drive/MyDrive/SWM/CSE573-SWM-Data/aapl_two_gram_features_labelled_df.pkl', 'rb') as f:\n",
        "    labelled_aapl_news_df = pickle.load(f)"
      ],
      "execution_count": null,
      "outputs": []
    },
    {
      "cell_type": "markdown",
      "metadata": {
        "id": "gnIIYblE32O4"
      },
      "source": [
        "#Splitting the dataset for training and testing"
      ]
    },
    {
      "cell_type": "code",
      "metadata": {
        "id": "w9B3DCR6KbOD"
      },
      "source": [
        "trainX_df=labelled_aapl_news_df['features']\n",
        "trainY_df=labelled_aapl_news_df['label']\n",
        "trainX = np.stack(trainX_df)\n",
        "\n",
        "trainY_df=trainY_df.astype('int')\n",
        "trainY = np.stack(trainY_df)"
      ],
      "execution_count": null,
      "outputs": []
    },
    {
      "cell_type": "code",
      "metadata": {
        "colab": {
          "base_uri": "https://localhost:8080/"
        },
        "id": "pG3puTud8jk6",
        "outputId": "30624f9b-2277-4e54-8f1b-f892bf0e7fb4"
      },
      "source": [
        "print(trainX.shape)\n",
        "print(trainY.shape)"
      ],
      "execution_count": null,
      "outputs": [
        {
          "output_type": "stream",
          "text": [
            "(71941, 3831)\n",
            "(71941,)\n"
          ],
          "name": "stdout"
        }
      ]
    },
    {
      "cell_type": "markdown",
      "metadata": {
        "id": "j0IEO_N0347_"
      },
      "source": [
        "#Feature Extraction using chi2"
      ]
    },
    {
      "cell_type": "code",
      "metadata": {
        "id": "2s9OlZEbKbOG"
      },
      "source": [
        "chi2_selector = SelectKBest(chi2, k = 2000)\n",
        "chi_trainX = chi2_selector.fit_transform(trainX, trainY)"
      ],
      "execution_count": null,
      "outputs": []
    },
    {
      "cell_type": "code",
      "metadata": {
        "id": "vwBQwWgGKbOH"
      },
      "source": [
        "X_train, X_test, y_train, y_test = train_test_split(chi_trainX, trainY, test_size=0.2, random_state=23)"
      ],
      "execution_count": null,
      "outputs": []
    },
    {
      "cell_type": "code",
      "metadata": {
        "colab": {
          "base_uri": "https://localhost:8080/"
        },
        "id": "wq-mCERbKbOI",
        "outputId": "23a721d4-af56-499b-d21c-248c6aa286ce"
      },
      "source": [
        "print(X_train.shape)\n",
        "print(y_train.shape)"
      ],
      "execution_count": null,
      "outputs": [
        {
          "output_type": "stream",
          "text": [
            "(57552, 2000)\n",
            "(57552,)\n"
          ],
          "name": "stdout"
        }
      ]
    },
    {
      "cell_type": "markdown",
      "metadata": {
        "id": "q9plzQt9uJ1B"
      },
      "source": [
        "#Without feature extraction"
      ]
    },
    {
      "cell_type": "markdown",
      "metadata": {
        "id": "ELUo7ZVa3ZYh"
      },
      "source": [
        "Logistic Regression\n",
        "\n",
        "*   Accuracy: 60.19%\n",
        "\n"
      ]
    },
    {
      "cell_type": "code",
      "metadata": {
        "colab": {
          "base_uri": "https://localhost:8080/"
        },
        "id": "GMLzZOQbKbOI",
        "outputId": "43520713-5754-42de-96d5-3159991dcb41"
      },
      "source": [
        "print(\"training Logistic Regression now ...\")\n",
        "\n",
        "logistic_regression = LogisticRegression(max_iter=1000, verbose=15).fit(X_train,y_train)\n",
        "y_pred = logistic_regression.predict(X_test)\n",
        "acc = accuracy_score(y_test,y_pred)\n",
        "\n",
        "print('Accuracy of Logistic Regression classifier is: %f ' % acc)"
      ],
      "execution_count": null,
      "outputs": [
        {
          "output_type": "stream",
          "text": [
            "training Logistic Regression now ...\n"
          ],
          "name": "stdout"
        },
        {
          "output_type": "stream",
          "text": [
            "[Parallel(n_jobs=1)]: Using backend SequentialBackend with 1 concurrent workers.\n"
          ],
          "name": "stderr"
        },
        {
          "output_type": "stream",
          "text": [
            "Accuracy of Logistic Regression classifier is: 0.601918 \n"
          ],
          "name": "stdout"
        },
        {
          "output_type": "stream",
          "text": [
            "[Parallel(n_jobs=1)]: Done   1 out of   1 | elapsed:   56.5s remaining:    0.0s\n",
            "[Parallel(n_jobs=1)]: Done   1 out of   1 | elapsed:   56.5s finished\n"
          ],
          "name": "stderr"
        }
      ]
    },
    {
      "cell_type": "code",
      "metadata": {
        "id": "gTSwRiPx5anp"
      },
      "source": [
        "from sklearn.metrics import confusion_matrix\n",
        "from sklearn.metrics import classification_report"
      ],
      "execution_count": null,
      "outputs": []
    },
    {
      "cell_type": "code",
      "metadata": {
        "colab": {
          "base_uri": "https://localhost:8080/"
        },
        "id": "IEu62TEc5or5",
        "outputId": "9a0c9479-596a-421c-9750-2884c2229db1"
      },
      "source": [
        "from sklearn.metrics import confusion_matrix\n",
        "from sklearn.metrics import classification_report\n",
        "matrix = confusion_matrix(y_test,y_pred, labels=[1,-1])\n",
        "print('Confusion matrix : \\n',matrix)\n",
        "\n",
        "# outcome values order in sklearn\n",
        "tp, fn, fp, tn = confusion_matrix(y_test,y_pred,labels=[1,-1]).reshape(-1)\n",
        "print('Outcome values : \\n', tp, fn, fp, tn)\n",
        "\n",
        "# classification report for precision, recall f1-score and accuracy\n",
        "matrix = classification_report(y_test,y_pred,labels=[1,-1])\n",
        "print('Classification report : \\n',matrix)"
      ],
      "execution_count": null,
      "outputs": [
        {
          "output_type": "stream",
          "text": [
            "Confusion matrix : \n",
            " [[3158 3704]\n",
            " [2024 5503]]\n",
            "Outcome values : \n",
            " 3158 3704 2024 5503\n",
            "Classification report : \n",
            "               precision    recall  f1-score   support\n",
            "\n",
            "           1       0.61      0.46      0.52      6862\n",
            "          -1       0.60      0.73      0.66      7527\n",
            "\n",
            "    accuracy                           0.60     14389\n",
            "   macro avg       0.60      0.60      0.59     14389\n",
            "weighted avg       0.60      0.60      0.59     14389\n",
            "\n"
          ],
          "name": "stdout"
        }
      ]
    },
    {
      "cell_type": "markdown",
      "metadata": {
        "id": "EfFAtHwx3S0j"
      },
      "source": [
        "#Decision Tree\n",
        "\n",
        "*   Accuracy: 64.5%\n",
        "\n"
      ]
    },
    {
      "cell_type": "code",
      "metadata": {
        "colab": {
          "base_uri": "https://localhost:8080/"
        },
        "id": "Qq_635lwKbOK",
        "outputId": "b207ed7f-977e-4aa6-cba0-e6e1d92c2a95"
      },
      "source": [
        "print(\"training Decision Tree now ...\")\n",
        "decision_tree = tree.DecisionTreeClassifier(random_state=0).fit(X_train,y_train)\n",
        "y_pred = decision_tree.predict(X_test)\n",
        "acc=accuracy_score(y_test,y_pred)\n",
        "print('Accuracy of Decision Tree classifier is: %f ' % acc)"
      ],
      "execution_count": null,
      "outputs": [
        {
          "output_type": "stream",
          "text": [
            "training Decision Tree now ...\n",
            "Accuracy of Decision Tree classifier is: 0.645146 \n"
          ],
          "name": "stdout"
        }
      ]
    },
    {
      "cell_type": "code",
      "metadata": {
        "colab": {
          "base_uri": "https://localhost:8080/"
        },
        "id": "PGpuUUFHc42Q",
        "outputId": "f88b5727-532c-4377-d2d8-d6f5a99d28a8"
      },
      "source": [
        "from sklearn.metrics import confusion_matrix\n",
        "from sklearn.metrics import classification_report\n",
        "matrix = confusion_matrix(y_test,y_pred, labels=[1,-1])\n",
        "print('Confusion matrix : \\n',matrix)\n",
        "\n",
        "# outcome values order in sklearn\n",
        "tp, fn, fp, tn = confusion_matrix(y_test,y_pred,labels=[1,-1]).reshape(-1)\n",
        "print('Outcome values : \\n', tp, fn, fp, tn)\n",
        "\n",
        "# classification report for precision, recall f1-score and accuracy\n",
        "matrix = classification_report(y_test,y_pred,labels=[1,-1])\n",
        "print('Classification report : \\n',matrix)"
      ],
      "execution_count": null,
      "outputs": [
        {
          "output_type": "stream",
          "text": [
            "Confusion matrix : \n",
            " [[3467 3395]\n",
            " [1711 5816]]\n",
            "Outcome values : \n",
            " 3467 3395 1711 5816\n",
            "Classification report : \n",
            "               precision    recall  f1-score   support\n",
            "\n",
            "           1       0.67      0.51      0.58      6862\n",
            "          -1       0.63      0.77      0.69      7527\n",
            "\n",
            "    accuracy                           0.65     14389\n",
            "   macro avg       0.65      0.64      0.64     14389\n",
            "weighted avg       0.65      0.65      0.64     14389\n",
            "\n"
          ],
          "name": "stdout"
        }
      ]
    },
    {
      "cell_type": "markdown",
      "metadata": {
        "id": "m41SqhUn3G17"
      },
      "source": [
        "#Random Forest\n",
        "\n",
        "*   Accuracy: 66.5%\n",
        "\n"
      ]
    },
    {
      "cell_type": "code",
      "metadata": {
        "colab": {
          "base_uri": "https://localhost:8080/"
        },
        "id": "X9T9Wj6OKbOM",
        "outputId": "78c046a3-c4f7-4549-d61f-7f263c66a1e2"
      },
      "source": [
        "print(\"training Random Forest classifier now ...\")\n",
        "\n",
        "random_forest_classifier = RandomForestClassifier(n_estimators=100, verbose=15, n_jobs=-1).fit(X_train,y_train)\n",
        "#increase n_estimators if you face issues in training\n",
        "y_pred=random_forest_classifier.predict(X_test)\n",
        "acc=accuracy_score(y_test,y_pred)\n",
        "print('Accuracy of Random Forest classifier is: %f ' % acc)"
      ],
      "execution_count": null,
      "outputs": [
        {
          "output_type": "stream",
          "text": [
            "training Random Forest classifier now ...\n"
          ],
          "name": "stdout"
        },
        {
          "output_type": "stream",
          "text": [
            "[Parallel(n_jobs=-1)]: Using backend ThreadingBackend with 2 concurrent workers.\n"
          ],
          "name": "stderr"
        },
        {
          "output_type": "stream",
          "text": [
            "building tree 1 of 100\n",
            "building tree 2 of 100\n"
          ],
          "name": "stdout"
        },
        {
          "output_type": "stream",
          "text": [
            "[Parallel(n_jobs=-1)]: Done   1 tasks      | elapsed:   13.2s\n"
          ],
          "name": "stderr"
        },
        {
          "output_type": "stream",
          "text": [
            "building tree 3 of 100\n"
          ],
          "name": "stdout"
        },
        {
          "output_type": "stream",
          "text": [
            "[Parallel(n_jobs=-1)]: Done   2 tasks      | elapsed:   14.3s\n"
          ],
          "name": "stderr"
        },
        {
          "output_type": "stream",
          "text": [
            "building tree 4 of 100\n"
          ],
          "name": "stdout"
        },
        {
          "output_type": "stream",
          "text": [
            "[Parallel(n_jobs=-1)]: Done   3 tasks      | elapsed:   26.2s\n"
          ],
          "name": "stderr"
        },
        {
          "output_type": "stream",
          "text": [
            "building tree 5 of 100\n"
          ],
          "name": "stdout"
        },
        {
          "output_type": "stream",
          "text": [
            "[Parallel(n_jobs=-1)]: Done   4 tasks      | elapsed:   27.9s\n"
          ],
          "name": "stderr"
        },
        {
          "output_type": "stream",
          "text": [
            "building tree 6 of 100\n"
          ],
          "name": "stdout"
        },
        {
          "output_type": "stream",
          "text": [
            "[Parallel(n_jobs=-1)]: Done   5 tasks      | elapsed:   39.3s\n"
          ],
          "name": "stderr"
        },
        {
          "output_type": "stream",
          "text": [
            "building tree 7 of 100\n"
          ],
          "name": "stdout"
        },
        {
          "output_type": "stream",
          "text": [
            "[Parallel(n_jobs=-1)]: Done   6 tasks      | elapsed:   41.0s\n"
          ],
          "name": "stderr"
        },
        {
          "output_type": "stream",
          "text": [
            "building tree 8 of 100\n"
          ],
          "name": "stdout"
        },
        {
          "output_type": "stream",
          "text": [
            "[Parallel(n_jobs=-1)]: Done   7 tasks      | elapsed:   52.5s\n"
          ],
          "name": "stderr"
        },
        {
          "output_type": "stream",
          "text": [
            "building tree 9 of 100\n"
          ],
          "name": "stdout"
        },
        {
          "output_type": "stream",
          "text": [
            "[Parallel(n_jobs=-1)]: Done   8 tasks      | elapsed:   54.2s\n"
          ],
          "name": "stderr"
        },
        {
          "output_type": "stream",
          "text": [
            "building tree 10 of 100\n"
          ],
          "name": "stdout"
        },
        {
          "output_type": "stream",
          "text": [
            "[Parallel(n_jobs=-1)]: Done   9 tasks      | elapsed:  1.1min\n"
          ],
          "name": "stderr"
        },
        {
          "output_type": "stream",
          "text": [
            "building tree 11 of 100\n"
          ],
          "name": "stdout"
        },
        {
          "output_type": "stream",
          "text": [
            "[Parallel(n_jobs=-1)]: Done  10 tasks      | elapsed:  1.1min\n"
          ],
          "name": "stderr"
        },
        {
          "output_type": "stream",
          "text": [
            "building tree 12 of 100\n"
          ],
          "name": "stdout"
        },
        {
          "output_type": "stream",
          "text": [
            "[Parallel(n_jobs=-1)]: Done  11 tasks      | elapsed:  1.3min\n"
          ],
          "name": "stderr"
        },
        {
          "output_type": "stream",
          "text": [
            "building tree 13 of 100\n"
          ],
          "name": "stdout"
        },
        {
          "output_type": "stream",
          "text": [
            "[Parallel(n_jobs=-1)]: Done  12 tasks      | elapsed:  1.3min\n"
          ],
          "name": "stderr"
        },
        {
          "output_type": "stream",
          "text": [
            "building tree 14 of 100\n"
          ],
          "name": "stdout"
        },
        {
          "output_type": "stream",
          "text": [
            "[Parallel(n_jobs=-1)]: Done  13 tasks      | elapsed:  1.5min\n"
          ],
          "name": "stderr"
        },
        {
          "output_type": "stream",
          "text": [
            "building tree 15 of 100\n"
          ],
          "name": "stdout"
        },
        {
          "output_type": "stream",
          "text": [
            "[Parallel(n_jobs=-1)]: Done  14 tasks      | elapsed:  1.6min\n"
          ],
          "name": "stderr"
        },
        {
          "output_type": "stream",
          "text": [
            "building tree 16 of 100\n"
          ],
          "name": "stdout"
        },
        {
          "output_type": "stream",
          "text": [
            "[Parallel(n_jobs=-1)]: Done  15 tasks      | elapsed:  1.8min\n"
          ],
          "name": "stderr"
        },
        {
          "output_type": "stream",
          "text": [
            "building tree 17 of 100\n"
          ],
          "name": "stdout"
        },
        {
          "output_type": "stream",
          "text": [
            "[Parallel(n_jobs=-1)]: Done  16 tasks      | elapsed:  1.8min\n"
          ],
          "name": "stderr"
        },
        {
          "output_type": "stream",
          "text": [
            "building tree 18 of 100\n"
          ],
          "name": "stdout"
        },
        {
          "output_type": "stream",
          "text": [
            "[Parallel(n_jobs=-1)]: Done  17 tasks      | elapsed:  2.0min\n"
          ],
          "name": "stderr"
        },
        {
          "output_type": "stream",
          "text": [
            "building tree 19 of 100\n"
          ],
          "name": "stdout"
        },
        {
          "output_type": "stream",
          "text": [
            "[Parallel(n_jobs=-1)]: Done  18 tasks      | elapsed:  2.0min\n"
          ],
          "name": "stderr"
        },
        {
          "output_type": "stream",
          "text": [
            "building tree 20 of 100\n"
          ],
          "name": "stdout"
        },
        {
          "output_type": "stream",
          "text": [
            "[Parallel(n_jobs=-1)]: Done  19 tasks      | elapsed:  2.2min\n"
          ],
          "name": "stderr"
        },
        {
          "output_type": "stream",
          "text": [
            "building tree 21 of 100\n"
          ],
          "name": "stdout"
        },
        {
          "output_type": "stream",
          "text": [
            "[Parallel(n_jobs=-1)]: Done  20 tasks      | elapsed:  2.3min\n"
          ],
          "name": "stderr"
        },
        {
          "output_type": "stream",
          "text": [
            "building tree 22 of 100\n"
          ],
          "name": "stdout"
        },
        {
          "output_type": "stream",
          "text": [
            "[Parallel(n_jobs=-1)]: Done  21 tasks      | elapsed:  2.4min\n"
          ],
          "name": "stderr"
        },
        {
          "output_type": "stream",
          "text": [
            "building tree 23 of 100\n"
          ],
          "name": "stdout"
        },
        {
          "output_type": "stream",
          "text": [
            "[Parallel(n_jobs=-1)]: Done  22 tasks      | elapsed:  2.5min\n"
          ],
          "name": "stderr"
        },
        {
          "output_type": "stream",
          "text": [
            "building tree 24 of 100\n"
          ],
          "name": "stdout"
        },
        {
          "output_type": "stream",
          "text": [
            "[Parallel(n_jobs=-1)]: Done  23 tasks      | elapsed:  2.7min\n"
          ],
          "name": "stderr"
        },
        {
          "output_type": "stream",
          "text": [
            "building tree 25 of 100\n"
          ],
          "name": "stdout"
        },
        {
          "output_type": "stream",
          "text": [
            "[Parallel(n_jobs=-1)]: Done  24 tasks      | elapsed:  2.7min\n"
          ],
          "name": "stderr"
        },
        {
          "output_type": "stream",
          "text": [
            "building tree 26 of 100\n"
          ],
          "name": "stdout"
        },
        {
          "output_type": "stream",
          "text": [
            "[Parallel(n_jobs=-1)]: Done  25 tasks      | elapsed:  2.9min\n"
          ],
          "name": "stderr"
        },
        {
          "output_type": "stream",
          "text": [
            "building tree 27 of 100\n"
          ],
          "name": "stdout"
        },
        {
          "output_type": "stream",
          "text": [
            "[Parallel(n_jobs=-1)]: Done  26 tasks      | elapsed:  2.9min\n"
          ],
          "name": "stderr"
        },
        {
          "output_type": "stream",
          "text": [
            "building tree 28 of 100\n"
          ],
          "name": "stdout"
        },
        {
          "output_type": "stream",
          "text": [
            "[Parallel(n_jobs=-1)]: Done  27 tasks      | elapsed:  3.1min\n"
          ],
          "name": "stderr"
        },
        {
          "output_type": "stream",
          "text": [
            "building tree 29 of 100\n"
          ],
          "name": "stdout"
        },
        {
          "output_type": "stream",
          "text": [
            "[Parallel(n_jobs=-1)]: Done  28 tasks      | elapsed:  3.2min\n"
          ],
          "name": "stderr"
        },
        {
          "output_type": "stream",
          "text": [
            "building tree 30 of 100\n"
          ],
          "name": "stdout"
        },
        {
          "output_type": "stream",
          "text": [
            "[Parallel(n_jobs=-1)]: Done  29 tasks      | elapsed:  3.4min\n"
          ],
          "name": "stderr"
        },
        {
          "output_type": "stream",
          "text": [
            "building tree 31 of 100\n"
          ],
          "name": "stdout"
        },
        {
          "output_type": "stream",
          "text": [
            "[Parallel(n_jobs=-1)]: Done  30 tasks      | elapsed:  3.4min\n"
          ],
          "name": "stderr"
        },
        {
          "output_type": "stream",
          "text": [
            "building tree 32 of 100\n"
          ],
          "name": "stdout"
        },
        {
          "output_type": "stream",
          "text": [
            "[Parallel(n_jobs=-1)]: Done  31 tasks      | elapsed:  3.6min\n"
          ],
          "name": "stderr"
        },
        {
          "output_type": "stream",
          "text": [
            "building tree 33 of 100\n"
          ],
          "name": "stdout"
        },
        {
          "output_type": "stream",
          "text": [
            "[Parallel(n_jobs=-1)]: Done  32 tasks      | elapsed:  3.6min\n"
          ],
          "name": "stderr"
        },
        {
          "output_type": "stream",
          "text": [
            "building tree 34 of 100\n"
          ],
          "name": "stdout"
        },
        {
          "output_type": "stream",
          "text": [
            "[Parallel(n_jobs=-1)]: Done  33 tasks      | elapsed:  3.8min\n"
          ],
          "name": "stderr"
        },
        {
          "output_type": "stream",
          "text": [
            "building tree 35 of 100\n"
          ],
          "name": "stdout"
        },
        {
          "output_type": "stream",
          "text": [
            "[Parallel(n_jobs=-1)]: Done  34 tasks      | elapsed:  3.8min\n"
          ],
          "name": "stderr"
        },
        {
          "output_type": "stream",
          "text": [
            "building tree 36 of 100\n"
          ],
          "name": "stdout"
        },
        {
          "output_type": "stream",
          "text": [
            "[Parallel(n_jobs=-1)]: Done  35 tasks      | elapsed:  4.0min\n"
          ],
          "name": "stderr"
        },
        {
          "output_type": "stream",
          "text": [
            "building tree 37 of 100\n"
          ],
          "name": "stdout"
        },
        {
          "output_type": "stream",
          "text": [
            "[Parallel(n_jobs=-1)]: Done  36 tasks      | elapsed:  4.1min\n"
          ],
          "name": "stderr"
        },
        {
          "output_type": "stream",
          "text": [
            "building tree 38 of 100\n"
          ],
          "name": "stdout"
        },
        {
          "output_type": "stream",
          "text": [
            "[Parallel(n_jobs=-1)]: Done  37 tasks      | elapsed:  4.3min\n"
          ],
          "name": "stderr"
        },
        {
          "output_type": "stream",
          "text": [
            "building tree 39 of 100\n"
          ],
          "name": "stdout"
        },
        {
          "output_type": "stream",
          "text": [
            "[Parallel(n_jobs=-1)]: Done  38 tasks      | elapsed:  4.3min\n"
          ],
          "name": "stderr"
        },
        {
          "output_type": "stream",
          "text": [
            "building tree 40 of 100\n"
          ],
          "name": "stdout"
        },
        {
          "output_type": "stream",
          "text": [
            "[Parallel(n_jobs=-1)]: Done  39 tasks      | elapsed:  4.5min\n"
          ],
          "name": "stderr"
        },
        {
          "output_type": "stream",
          "text": [
            "building tree 41 of 100\n"
          ],
          "name": "stdout"
        },
        {
          "output_type": "stream",
          "text": [
            "[Parallel(n_jobs=-1)]: Done  40 tasks      | elapsed:  4.5min\n"
          ],
          "name": "stderr"
        },
        {
          "output_type": "stream",
          "text": [
            "building tree 42 of 100\n"
          ],
          "name": "stdout"
        },
        {
          "output_type": "stream",
          "text": [
            "[Parallel(n_jobs=-1)]: Done  41 tasks      | elapsed:  4.7min\n"
          ],
          "name": "stderr"
        },
        {
          "output_type": "stream",
          "text": [
            "building tree 43 of 100\n",
            "building tree 44 of 100\n"
          ],
          "name": "stdout"
        },
        {
          "output_type": "stream",
          "text": [
            "[Parallel(n_jobs=-1)]: Done  42 tasks      | elapsed:  4.7min\n",
            "[Parallel(n_jobs=-1)]: Done  43 tasks      | elapsed:  4.9min\n"
          ],
          "name": "stderr"
        },
        {
          "output_type": "stream",
          "text": [
            "building tree 45 of 100\n"
          ],
          "name": "stdout"
        },
        {
          "output_type": "stream",
          "text": [
            "[Parallel(n_jobs=-1)]: Done  44 tasks      | elapsed:  5.0min\n"
          ],
          "name": "stderr"
        },
        {
          "output_type": "stream",
          "text": [
            "building tree 46 of 100\n"
          ],
          "name": "stdout"
        },
        {
          "output_type": "stream",
          "text": [
            "[Parallel(n_jobs=-1)]: Done  45 tasks      | elapsed:  5.2min\n"
          ],
          "name": "stderr"
        },
        {
          "output_type": "stream",
          "text": [
            "building tree 47 of 100\n"
          ],
          "name": "stdout"
        },
        {
          "output_type": "stream",
          "text": [
            "[Parallel(n_jobs=-1)]: Done  46 tasks      | elapsed:  5.2min\n"
          ],
          "name": "stderr"
        },
        {
          "output_type": "stream",
          "text": [
            "building tree 48 of 100\n"
          ],
          "name": "stdout"
        },
        {
          "output_type": "stream",
          "text": [
            "[Parallel(n_jobs=-1)]: Done  47 tasks      | elapsed:  5.4min\n"
          ],
          "name": "stderr"
        },
        {
          "output_type": "stream",
          "text": [
            "building tree 49 of 100\n"
          ],
          "name": "stdout"
        },
        {
          "output_type": "stream",
          "text": [
            "[Parallel(n_jobs=-1)]: Done  48 tasks      | elapsed:  5.4min\n"
          ],
          "name": "stderr"
        },
        {
          "output_type": "stream",
          "text": [
            "building tree 50 of 100\n"
          ],
          "name": "stdout"
        },
        {
          "output_type": "stream",
          "text": [
            "[Parallel(n_jobs=-1)]: Done  49 tasks      | elapsed:  5.6min\n"
          ],
          "name": "stderr"
        },
        {
          "output_type": "stream",
          "text": [
            "building tree 51 of 100\n"
          ],
          "name": "stdout"
        },
        {
          "output_type": "stream",
          "text": [
            "[Parallel(n_jobs=-1)]: Done  50 tasks      | elapsed:  5.7min\n"
          ],
          "name": "stderr"
        },
        {
          "output_type": "stream",
          "text": [
            "building tree 52 of 100\n"
          ],
          "name": "stdout"
        },
        {
          "output_type": "stream",
          "text": [
            "[Parallel(n_jobs=-1)]: Done  51 tasks      | elapsed:  5.9min\n"
          ],
          "name": "stderr"
        },
        {
          "output_type": "stream",
          "text": [
            "building tree 53 of 100\n"
          ],
          "name": "stdout"
        },
        {
          "output_type": "stream",
          "text": [
            "[Parallel(n_jobs=-1)]: Done  52 tasks      | elapsed:  5.9min\n"
          ],
          "name": "stderr"
        },
        {
          "output_type": "stream",
          "text": [
            "building tree 54 of 100\n"
          ],
          "name": "stdout"
        },
        {
          "output_type": "stream",
          "text": [
            "[Parallel(n_jobs=-1)]: Done  53 tasks      | elapsed:  6.1min\n"
          ],
          "name": "stderr"
        },
        {
          "output_type": "stream",
          "text": [
            "building tree 55 of 100\n"
          ],
          "name": "stdout"
        },
        {
          "output_type": "stream",
          "text": [
            "[Parallel(n_jobs=-1)]: Done  54 tasks      | elapsed:  6.1min\n"
          ],
          "name": "stderr"
        },
        {
          "output_type": "stream",
          "text": [
            "building tree 56 of 100\n"
          ],
          "name": "stdout"
        },
        {
          "output_type": "stream",
          "text": [
            "[Parallel(n_jobs=-1)]: Done  55 tasks      | elapsed:  6.3min\n"
          ],
          "name": "stderr"
        },
        {
          "output_type": "stream",
          "text": [
            "building tree 57 of 100\n"
          ],
          "name": "stdout"
        },
        {
          "output_type": "stream",
          "text": [
            "[Parallel(n_jobs=-1)]: Done  56 tasks      | elapsed:  6.3min\n"
          ],
          "name": "stderr"
        },
        {
          "output_type": "stream",
          "text": [
            "building tree 58 of 100\n"
          ],
          "name": "stdout"
        },
        {
          "output_type": "stream",
          "text": [
            "[Parallel(n_jobs=-1)]: Done  57 tasks      | elapsed:  6.5min\n"
          ],
          "name": "stderr"
        },
        {
          "output_type": "stream",
          "text": [
            "building tree 59 of 100\n"
          ],
          "name": "stdout"
        },
        {
          "output_type": "stream",
          "text": [
            "[Parallel(n_jobs=-1)]: Done  58 tasks      | elapsed:  6.6min\n"
          ],
          "name": "stderr"
        },
        {
          "output_type": "stream",
          "text": [
            "building tree 60 of 100\n"
          ],
          "name": "stdout"
        },
        {
          "output_type": "stream",
          "text": [
            "[Parallel(n_jobs=-1)]: Done  59 tasks      | elapsed:  6.8min\n"
          ],
          "name": "stderr"
        },
        {
          "output_type": "stream",
          "text": [
            "building tree 61 of 100\n"
          ],
          "name": "stdout"
        },
        {
          "output_type": "stream",
          "text": [
            "[Parallel(n_jobs=-1)]: Done  60 tasks      | elapsed:  6.8min\n"
          ],
          "name": "stderr"
        },
        {
          "output_type": "stream",
          "text": [
            "building tree 62 of 100\n"
          ],
          "name": "stdout"
        },
        {
          "output_type": "stream",
          "text": [
            "[Parallel(n_jobs=-1)]: Done  61 tasks      | elapsed:  7.0min\n"
          ],
          "name": "stderr"
        },
        {
          "output_type": "stream",
          "text": [
            "building tree 63 of 100\n"
          ],
          "name": "stdout"
        },
        {
          "output_type": "stream",
          "text": [
            "[Parallel(n_jobs=-1)]: Done  62 tasks      | elapsed:  7.0min\n"
          ],
          "name": "stderr"
        },
        {
          "output_type": "stream",
          "text": [
            "building tree 64 of 100\n"
          ],
          "name": "stdout"
        },
        {
          "output_type": "stream",
          "text": [
            "[Parallel(n_jobs=-1)]: Done  63 tasks      | elapsed:  7.2min\n"
          ],
          "name": "stderr"
        },
        {
          "output_type": "stream",
          "text": [
            "building tree 65 of 100\n"
          ],
          "name": "stdout"
        },
        {
          "output_type": "stream",
          "text": [
            "[Parallel(n_jobs=-1)]: Done  64 tasks      | elapsed:  7.3min\n"
          ],
          "name": "stderr"
        },
        {
          "output_type": "stream",
          "text": [
            "building tree 66 of 100\n"
          ],
          "name": "stdout"
        },
        {
          "output_type": "stream",
          "text": [
            "[Parallel(n_jobs=-1)]: Done  65 tasks      | elapsed:  7.5min\n"
          ],
          "name": "stderr"
        },
        {
          "output_type": "stream",
          "text": [
            "building tree 67 of 100\n"
          ],
          "name": "stdout"
        },
        {
          "output_type": "stream",
          "text": [
            "[Parallel(n_jobs=-1)]: Done  66 tasks      | elapsed:  7.5min\n"
          ],
          "name": "stderr"
        },
        {
          "output_type": "stream",
          "text": [
            "building tree 68 of 100\n"
          ],
          "name": "stdout"
        },
        {
          "output_type": "stream",
          "text": [
            "[Parallel(n_jobs=-1)]: Done  67 tasks      | elapsed:  7.7min\n"
          ],
          "name": "stderr"
        },
        {
          "output_type": "stream",
          "text": [
            "building tree 69 of 100\n"
          ],
          "name": "stdout"
        },
        {
          "output_type": "stream",
          "text": [
            "[Parallel(n_jobs=-1)]: Done  68 tasks      | elapsed:  7.7min\n"
          ],
          "name": "stderr"
        },
        {
          "output_type": "stream",
          "text": [
            "building tree 70 of 100\n"
          ],
          "name": "stdout"
        },
        {
          "output_type": "stream",
          "text": [
            "[Parallel(n_jobs=-1)]: Done  69 tasks      | elapsed:  7.9min\n"
          ],
          "name": "stderr"
        },
        {
          "output_type": "stream",
          "text": [
            "building tree 71 of 100\n"
          ],
          "name": "stdout"
        },
        {
          "output_type": "stream",
          "text": [
            "[Parallel(n_jobs=-1)]: Done  70 tasks      | elapsed:  7.9min\n"
          ],
          "name": "stderr"
        },
        {
          "output_type": "stream",
          "text": [
            "building tree 72 of 100\n"
          ],
          "name": "stdout"
        },
        {
          "output_type": "stream",
          "text": [
            "[Parallel(n_jobs=-1)]: Done  71 tasks      | elapsed:  8.1min\n"
          ],
          "name": "stderr"
        },
        {
          "output_type": "stream",
          "text": [
            "building tree 73 of 100\n"
          ],
          "name": "stdout"
        },
        {
          "output_type": "stream",
          "text": [
            "[Parallel(n_jobs=-1)]: Done  72 tasks      | elapsed:  8.2min\n"
          ],
          "name": "stderr"
        },
        {
          "output_type": "stream",
          "text": [
            "building tree 74 of 100\n"
          ],
          "name": "stdout"
        },
        {
          "output_type": "stream",
          "text": [
            "[Parallel(n_jobs=-1)]: Done  73 tasks      | elapsed:  8.4min\n"
          ],
          "name": "stderr"
        },
        {
          "output_type": "stream",
          "text": [
            "building tree 75 of 100\n"
          ],
          "name": "stdout"
        },
        {
          "output_type": "stream",
          "text": [
            "[Parallel(n_jobs=-1)]: Done  74 tasks      | elapsed:  8.4min\n"
          ],
          "name": "stderr"
        },
        {
          "output_type": "stream",
          "text": [
            "building tree 76 of 100\n"
          ],
          "name": "stdout"
        },
        {
          "output_type": "stream",
          "text": [
            "[Parallel(n_jobs=-1)]: Done  75 tasks      | elapsed:  8.6min\n"
          ],
          "name": "stderr"
        },
        {
          "output_type": "stream",
          "text": [
            "building tree 77 of 100\n"
          ],
          "name": "stdout"
        },
        {
          "output_type": "stream",
          "text": [
            "[Parallel(n_jobs=-1)]: Done  76 tasks      | elapsed:  8.6min\n"
          ],
          "name": "stderr"
        },
        {
          "output_type": "stream",
          "text": [
            "building tree 78 of 100\n"
          ],
          "name": "stdout"
        },
        {
          "output_type": "stream",
          "text": [
            "[Parallel(n_jobs=-1)]: Done  77 tasks      | elapsed:  8.8min\n"
          ],
          "name": "stderr"
        },
        {
          "output_type": "stream",
          "text": [
            "building tree 79 of 100\n"
          ],
          "name": "stdout"
        },
        {
          "output_type": "stream",
          "text": [
            "[Parallel(n_jobs=-1)]: Done  78 tasks      | elapsed:  8.9min\n"
          ],
          "name": "stderr"
        },
        {
          "output_type": "stream",
          "text": [
            "building tree 80 of 100\n"
          ],
          "name": "stdout"
        },
        {
          "output_type": "stream",
          "text": [
            "[Parallel(n_jobs=-1)]: Done  79 tasks      | elapsed:  9.1min\n"
          ],
          "name": "stderr"
        },
        {
          "output_type": "stream",
          "text": [
            "building tree 81 of 100\n"
          ],
          "name": "stdout"
        },
        {
          "output_type": "stream",
          "text": [
            "[Parallel(n_jobs=-1)]: Done  80 tasks      | elapsed:  9.1min\n"
          ],
          "name": "stderr"
        },
        {
          "output_type": "stream",
          "text": [
            "building tree 82 of 100\n"
          ],
          "name": "stdout"
        },
        {
          "output_type": "stream",
          "text": [
            "[Parallel(n_jobs=-1)]: Done  81 tasks      | elapsed:  9.3min\n"
          ],
          "name": "stderr"
        },
        {
          "output_type": "stream",
          "text": [
            "building tree 83 of 100\n"
          ],
          "name": "stdout"
        },
        {
          "output_type": "stream",
          "text": [
            "[Parallel(n_jobs=-1)]: Done  82 tasks      | elapsed:  9.3min\n"
          ],
          "name": "stderr"
        },
        {
          "output_type": "stream",
          "text": [
            "building tree 84 of 100\n"
          ],
          "name": "stdout"
        },
        {
          "output_type": "stream",
          "text": [
            "[Parallel(n_jobs=-1)]: Done  83 tasks      | elapsed:  9.5min\n"
          ],
          "name": "stderr"
        },
        {
          "output_type": "stream",
          "text": [
            "building tree 85 of 100\n"
          ],
          "name": "stdout"
        },
        {
          "output_type": "stream",
          "text": [
            "[Parallel(n_jobs=-1)]: Done  84 tasks      | elapsed:  9.6min\n"
          ],
          "name": "stderr"
        },
        {
          "output_type": "stream",
          "text": [
            "building tree 86 of 100\n"
          ],
          "name": "stdout"
        },
        {
          "output_type": "stream",
          "text": [
            "[Parallel(n_jobs=-1)]: Done  85 tasks      | elapsed:  9.8min\n"
          ],
          "name": "stderr"
        },
        {
          "output_type": "stream",
          "text": [
            "building tree 87 of 100\n"
          ],
          "name": "stdout"
        },
        {
          "output_type": "stream",
          "text": [
            "[Parallel(n_jobs=-1)]: Done  86 tasks      | elapsed:  9.8min\n"
          ],
          "name": "stderr"
        },
        {
          "output_type": "stream",
          "text": [
            "building tree 88 of 100\n"
          ],
          "name": "stdout"
        },
        {
          "output_type": "stream",
          "text": [
            "[Parallel(n_jobs=-1)]: Done  87 tasks      | elapsed: 10.0min\n"
          ],
          "name": "stderr"
        },
        {
          "output_type": "stream",
          "text": [
            "building tree 89 of 100\n",
            "building tree 90 of 100\n"
          ],
          "name": "stdout"
        },
        {
          "output_type": "stream",
          "text": [
            "[Parallel(n_jobs=-1)]: Done  88 tasks      | elapsed: 10.0min\n",
            "[Parallel(n_jobs=-1)]: Done  89 tasks      | elapsed: 10.2min\n"
          ],
          "name": "stderr"
        },
        {
          "output_type": "stream",
          "text": [
            "building tree 91 of 100\n"
          ],
          "name": "stdout"
        },
        {
          "output_type": "stream",
          "text": [
            "[Parallel(n_jobs=-1)]: Done  90 tasks      | elapsed: 10.2min\n"
          ],
          "name": "stderr"
        },
        {
          "output_type": "stream",
          "text": [
            "building tree 92 of 100\n"
          ],
          "name": "stdout"
        },
        {
          "output_type": "stream",
          "text": [
            "[Parallel(n_jobs=-1)]: Done  91 tasks      | elapsed: 10.4min\n"
          ],
          "name": "stderr"
        },
        {
          "output_type": "stream",
          "text": [
            "building tree 93 of 100\n"
          ],
          "name": "stdout"
        },
        {
          "output_type": "stream",
          "text": [
            "[Parallel(n_jobs=-1)]: Done  92 tasks      | elapsed: 10.5min\n"
          ],
          "name": "stderr"
        },
        {
          "output_type": "stream",
          "text": [
            "building tree 94 of 100\n"
          ],
          "name": "stdout"
        },
        {
          "output_type": "stream",
          "text": [
            "[Parallel(n_jobs=-1)]: Done  93 tasks      | elapsed: 10.7min\n"
          ],
          "name": "stderr"
        },
        {
          "output_type": "stream",
          "text": [
            "building tree 95 of 100\n"
          ],
          "name": "stdout"
        },
        {
          "output_type": "stream",
          "text": [
            "[Parallel(n_jobs=-1)]: Done  94 tasks      | elapsed: 10.7min\n"
          ],
          "name": "stderr"
        },
        {
          "output_type": "stream",
          "text": [
            "building tree 96 of 100\n"
          ],
          "name": "stdout"
        },
        {
          "output_type": "stream",
          "text": [
            "[Parallel(n_jobs=-1)]: Done  95 tasks      | elapsed: 10.9min\n"
          ],
          "name": "stderr"
        },
        {
          "output_type": "stream",
          "text": [
            "building tree 97 of 100\n"
          ],
          "name": "stdout"
        },
        {
          "output_type": "stream",
          "text": [
            "[Parallel(n_jobs=-1)]: Done  96 tasks      | elapsed: 10.9min\n"
          ],
          "name": "stderr"
        },
        {
          "output_type": "stream",
          "text": [
            "building tree 98 of 100\n"
          ],
          "name": "stdout"
        },
        {
          "output_type": "stream",
          "text": [
            "[Parallel(n_jobs=-1)]: Done  97 tasks      | elapsed: 11.1min\n"
          ],
          "name": "stderr"
        },
        {
          "output_type": "stream",
          "text": [
            "building tree 99 of 100\n",
            "building tree 100 of 100\n"
          ],
          "name": "stdout"
        },
        {
          "output_type": "stream",
          "text": [
            "[Parallel(n_jobs=-1)]: Done 100 out of 100 | elapsed: 11.4min finished\n",
            "[Parallel(n_jobs=2)]: Using backend ThreadingBackend with 2 concurrent workers.\n",
            "[Parallel(n_jobs=2)]: Done   1 tasks      | elapsed:    0.1s\n",
            "[Parallel(n_jobs=2)]: Done   2 tasks      | elapsed:    0.1s\n",
            "[Parallel(n_jobs=2)]: Done   3 tasks      | elapsed:    0.1s\n",
            "[Parallel(n_jobs=2)]: Done   4 tasks      | elapsed:    0.1s\n",
            "[Parallel(n_jobs=2)]: Done   5 tasks      | elapsed:    0.2s\n",
            "[Parallel(n_jobs=2)]: Done   6 tasks      | elapsed:    0.2s\n",
            "[Parallel(n_jobs=2)]: Done   7 tasks      | elapsed:    0.2s\n",
            "[Parallel(n_jobs=2)]: Done   8 tasks      | elapsed:    0.3s\n",
            "[Parallel(n_jobs=2)]: Done   9 tasks      | elapsed:    0.3s\n",
            "[Parallel(n_jobs=2)]: Done  10 tasks      | elapsed:    0.3s\n",
            "[Parallel(n_jobs=2)]: Done  11 tasks      | elapsed:    0.4s\n",
            "[Parallel(n_jobs=2)]: Done  12 tasks      | elapsed:    0.4s\n",
            "[Parallel(n_jobs=2)]: Done  13 tasks      | elapsed:    0.4s\n",
            "[Parallel(n_jobs=2)]: Done  14 tasks      | elapsed:    0.5s\n",
            "[Parallel(n_jobs=2)]: Done  15 tasks      | elapsed:    0.5s\n",
            "[Parallel(n_jobs=2)]: Done  16 tasks      | elapsed:    0.5s\n",
            "[Parallel(n_jobs=2)]: Done  17 tasks      | elapsed:    0.6s\n",
            "[Parallel(n_jobs=2)]: Done  18 tasks      | elapsed:    0.6s\n",
            "[Parallel(n_jobs=2)]: Done  19 tasks      | elapsed:    0.6s\n",
            "[Parallel(n_jobs=2)]: Done  20 tasks      | elapsed:    0.7s\n",
            "[Parallel(n_jobs=2)]: Done  21 tasks      | elapsed:    0.7s\n",
            "[Parallel(n_jobs=2)]: Done  22 tasks      | elapsed:    0.7s\n",
            "[Parallel(n_jobs=2)]: Done  23 tasks      | elapsed:    0.7s\n",
            "[Parallel(n_jobs=2)]: Done  24 tasks      | elapsed:    0.8s\n",
            "[Parallel(n_jobs=2)]: Done  25 tasks      | elapsed:    0.8s\n",
            "[Parallel(n_jobs=2)]: Done  26 tasks      | elapsed:    0.9s\n",
            "[Parallel(n_jobs=2)]: Done  27 tasks      | elapsed:    0.9s\n",
            "[Parallel(n_jobs=2)]: Done  28 tasks      | elapsed:    0.9s\n",
            "[Parallel(n_jobs=2)]: Done  29 tasks      | elapsed:    0.9s\n",
            "[Parallel(n_jobs=2)]: Done  30 tasks      | elapsed:    1.0s\n",
            "[Parallel(n_jobs=2)]: Done  31 tasks      | elapsed:    1.0s\n",
            "[Parallel(n_jobs=2)]: Done  32 tasks      | elapsed:    1.1s\n",
            "[Parallel(n_jobs=2)]: Done  33 tasks      | elapsed:    1.1s\n",
            "[Parallel(n_jobs=2)]: Done  34 tasks      | elapsed:    1.1s\n",
            "[Parallel(n_jobs=2)]: Done  35 tasks      | elapsed:    1.1s\n",
            "[Parallel(n_jobs=2)]: Done  36 tasks      | elapsed:    1.2s\n",
            "[Parallel(n_jobs=2)]: Done  37 tasks      | elapsed:    1.2s\n",
            "[Parallel(n_jobs=2)]: Done  38 tasks      | elapsed:    1.2s\n",
            "[Parallel(n_jobs=2)]: Done  39 tasks      | elapsed:    1.3s\n",
            "[Parallel(n_jobs=2)]: Done  40 tasks      | elapsed:    1.3s\n",
            "[Parallel(n_jobs=2)]: Done  41 tasks      | elapsed:    1.3s\n",
            "[Parallel(n_jobs=2)]: Done  42 tasks      | elapsed:    1.4s\n",
            "[Parallel(n_jobs=2)]: Done  43 tasks      | elapsed:    1.4s\n",
            "[Parallel(n_jobs=2)]: Done  44 tasks      | elapsed:    1.4s\n",
            "[Parallel(n_jobs=2)]: Done  45 tasks      | elapsed:    1.5s\n",
            "[Parallel(n_jobs=2)]: Done  46 tasks      | elapsed:    1.5s\n",
            "[Parallel(n_jobs=2)]: Done  47 tasks      | elapsed:    1.5s\n",
            "[Parallel(n_jobs=2)]: Done  48 tasks      | elapsed:    1.6s\n",
            "[Parallel(n_jobs=2)]: Done  49 tasks      | elapsed:    1.6s\n",
            "[Parallel(n_jobs=2)]: Done  50 tasks      | elapsed:    1.6s\n",
            "[Parallel(n_jobs=2)]: Done  51 tasks      | elapsed:    1.7s\n",
            "[Parallel(n_jobs=2)]: Done  52 tasks      | elapsed:    1.7s\n",
            "[Parallel(n_jobs=2)]: Done  53 tasks      | elapsed:    1.7s\n",
            "[Parallel(n_jobs=2)]: Done  54 tasks      | elapsed:    1.8s\n",
            "[Parallel(n_jobs=2)]: Done  55 tasks      | elapsed:    1.8s\n",
            "[Parallel(n_jobs=2)]: Done  56 tasks      | elapsed:    1.8s\n",
            "[Parallel(n_jobs=2)]: Done  57 tasks      | elapsed:    1.9s\n",
            "[Parallel(n_jobs=2)]: Done  58 tasks      | elapsed:    1.9s\n",
            "[Parallel(n_jobs=2)]: Done  59 tasks      | elapsed:    1.9s\n",
            "[Parallel(n_jobs=2)]: Done  60 tasks      | elapsed:    2.0s\n",
            "[Parallel(n_jobs=2)]: Done  61 tasks      | elapsed:    2.0s\n",
            "[Parallel(n_jobs=2)]: Done  62 tasks      | elapsed:    2.0s\n",
            "[Parallel(n_jobs=2)]: Done  63 tasks      | elapsed:    2.1s\n",
            "[Parallel(n_jobs=2)]: Done  64 tasks      | elapsed:    2.1s\n",
            "[Parallel(n_jobs=2)]: Done  65 tasks      | elapsed:    2.1s\n",
            "[Parallel(n_jobs=2)]: Done  66 tasks      | elapsed:    2.2s\n",
            "[Parallel(n_jobs=2)]: Done  67 tasks      | elapsed:    2.2s\n",
            "[Parallel(n_jobs=2)]: Done  68 tasks      | elapsed:    2.2s\n",
            "[Parallel(n_jobs=2)]: Done  69 tasks      | elapsed:    2.2s\n",
            "[Parallel(n_jobs=2)]: Done  70 tasks      | elapsed:    2.3s\n",
            "[Parallel(n_jobs=2)]: Done  71 tasks      | elapsed:    2.3s\n",
            "[Parallel(n_jobs=2)]: Done  72 tasks      | elapsed:    2.3s\n",
            "[Parallel(n_jobs=2)]: Done  73 tasks      | elapsed:    2.4s\n",
            "[Parallel(n_jobs=2)]: Done  74 tasks      | elapsed:    2.4s\n",
            "[Parallel(n_jobs=2)]: Done  75 tasks      | elapsed:    2.4s\n",
            "[Parallel(n_jobs=2)]: Done  76 tasks      | elapsed:    2.5s\n",
            "[Parallel(n_jobs=2)]: Done  77 tasks      | elapsed:    2.5s\n",
            "[Parallel(n_jobs=2)]: Done  78 tasks      | elapsed:    2.5s\n",
            "[Parallel(n_jobs=2)]: Done  79 tasks      | elapsed:    2.6s\n",
            "[Parallel(n_jobs=2)]: Done  80 tasks      | elapsed:    2.6s\n",
            "[Parallel(n_jobs=2)]: Done  81 tasks      | elapsed:    2.6s\n",
            "[Parallel(n_jobs=2)]: Done  82 tasks      | elapsed:    2.7s\n",
            "[Parallel(n_jobs=2)]: Done  83 tasks      | elapsed:    2.7s\n",
            "[Parallel(n_jobs=2)]: Done  84 tasks      | elapsed:    2.7s\n",
            "[Parallel(n_jobs=2)]: Done  85 tasks      | elapsed:    2.7s\n",
            "[Parallel(n_jobs=2)]: Done  86 tasks      | elapsed:    2.8s\n",
            "[Parallel(n_jobs=2)]: Done  87 tasks      | elapsed:    2.8s\n",
            "[Parallel(n_jobs=2)]: Done  88 tasks      | elapsed:    2.9s\n",
            "[Parallel(n_jobs=2)]: Done  89 tasks      | elapsed:    2.9s\n",
            "[Parallel(n_jobs=2)]: Done  90 tasks      | elapsed:    2.9s\n",
            "[Parallel(n_jobs=2)]: Done  91 tasks      | elapsed:    2.9s\n",
            "[Parallel(n_jobs=2)]: Done  92 tasks      | elapsed:    3.0s\n",
            "[Parallel(n_jobs=2)]: Done  93 tasks      | elapsed:    3.0s\n",
            "[Parallel(n_jobs=2)]: Done  94 tasks      | elapsed:    3.1s\n",
            "[Parallel(n_jobs=2)]: Done  95 tasks      | elapsed:    3.1s\n",
            "[Parallel(n_jobs=2)]: Done  96 tasks      | elapsed:    3.1s\n",
            "[Parallel(n_jobs=2)]: Done  97 tasks      | elapsed:    3.1s\n",
            "[Parallel(n_jobs=2)]: Done 100 out of 100 | elapsed:    3.2s finished\n"
          ],
          "name": "stderr"
        },
        {
          "output_type": "stream",
          "text": [
            "Accuracy of Random Forest classifier is: 0.660852 \n"
          ],
          "name": "stdout"
        }
      ]
    },
    {
      "cell_type": "code",
      "metadata": {
        "colab": {
          "base_uri": "https://localhost:8080/"
        },
        "id": "45tsYzgnc-4u",
        "outputId": "407a2163-fb69-4f87-89ab-c46d791d78a1"
      },
      "source": [
        "from sklearn.metrics import confusion_matrix\n",
        "from sklearn.metrics import classification_report\n",
        "matrix = confusion_matrix(y_test,y_pred, labels=[1,-1])\n",
        "print('Confusion matrix : \\n',matrix)\n",
        "\n",
        "# outcome values order in sklearn\n",
        "tp, fn, fp, tn = confusion_matrix(y_test,y_pred,labels=[1,-1]).reshape(-1)\n",
        "print('Outcome values : \\n', tp, fn, fp, tn)\n",
        "\n",
        "# classification report for precision, recall f1-score and accuracy\n",
        "matrix = classification_report(y_test,y_pred,labels=[1,-1])\n",
        "print('Classification report : \\n',matrix)"
      ],
      "execution_count": null,
      "outputs": [
        {
          "output_type": "stream",
          "text": [
            "Confusion matrix : \n",
            " [[3584 3278]\n",
            " [1602 5925]]\n",
            "Outcome values : \n",
            " 3584 3278 1602 5925\n",
            "Classification report : \n",
            "               precision    recall  f1-score   support\n",
            "\n",
            "           1       0.69      0.52      0.59      6862\n",
            "          -1       0.64      0.79      0.71      7527\n",
            "\n",
            "    accuracy                           0.66     14389\n",
            "   macro avg       0.67      0.65      0.65     14389\n",
            "weighted avg       0.67      0.66      0.65     14389\n",
            "\n"
          ],
          "name": "stdout"
        }
      ]
    },
    {
      "cell_type": "markdown",
      "metadata": {
        "id": "R1fksoLX28CA"
      },
      "source": [
        "#SVM Classifier\n",
        "\n",
        "*   Accuracy: 62.63%\n",
        "\n"
      ]
    },
    {
      "cell_type": "code",
      "metadata": {
        "id": "NajJm5A9KbON",
        "colab": {
          "base_uri": "https://localhost:8080/"
        },
        "outputId": "46d771e8-6f32-423c-f8b3-229a15907268"
      },
      "source": [
        "print(\"training SVM classifier now ...\")\n",
        "\n",
        "svm_classifier = svm.SVC(verbose=12).fit(X_train,y_train)\n",
        "y_pred = svm_classifier.predict(X_test)\n",
        "acc = accuracy_score(y_test,y_pred)\n",
        "print('Accuracy of SVM classifier is: %f ' % acc)\n",
        "print(\"current time:-\", datetime.datetime.now())"
      ],
      "execution_count": null,
      "outputs": [
        {
          "output_type": "stream",
          "text": [
            "training SVM classifier now ...\n",
            "[LibSVM]"
          ],
          "name": "stdout"
        }
      ]
    },
    {
      "cell_type": "code",
      "metadata": {
        "id": "FoVPKAoE8wWJ"
      },
      "source": [
        "from sklearn.metrics import confusion_matrix\n",
        "from sklearn.metrics import classification_report\n",
        "matrix = confusion_matrix(y_test,y_pred, labels=[1,-1])\n",
        "print('Confusion matrix : \\n',matrix)\n",
        "\n",
        "# outcome values order in sklearn\n",
        "tp, fn, fp, tn = confusion_matrix(y_test,y_pred,labels=[1,-1]).reshape(-1)\n",
        "print('Outcome values : \\n', tp, fn, fp, tn)\n",
        "\n",
        "# classification report for precision, recall f1-score and accuracy\n",
        "matrix = classification_report(y_test,y_pred,labels=[1,-1])\n",
        "print('Classification report : \\n',matrix)"
      ],
      "execution_count": null,
      "outputs": []
    },
    {
      "cell_type": "code",
      "metadata": {
        "id": "ZWhRNf-XdAjz"
      },
      "source": [
        ""
      ],
      "execution_count": null,
      "outputs": []
    }
  ]
}