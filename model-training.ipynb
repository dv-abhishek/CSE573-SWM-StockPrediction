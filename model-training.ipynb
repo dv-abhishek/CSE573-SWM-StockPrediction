{
 "cells": [
  {
   "cell_type": "code",
   "execution_count": 23,
   "metadata": {},
   "outputs": [],
   "source": [
    "from sklearn.model_selection import train_test_split\n",
    "from sklearn.decomposition import PCA\n",
    "from sklearn.metrics import accuracy_score\n",
    "from sklearn.linear_model import LogisticRegression\n",
    "from sklearn import tree\n",
    "import pickle\n",
    "import numpy as np"
   ]
  },
  {
   "cell_type": "code",
   "execution_count": 24,
   "metadata": {},
   "outputs": [],
   "source": [
    "# Load tokenized news data\n",
    "\n",
    "with open('aapl_two_gram_features_labelled_df.pkl', 'rb') as f:\n",
    "    labelled_aapl_news_df = pickle.load(f)"
   ]
  },
  {
   "cell_type": "code",
   "execution_count": 91,
   "metadata": {},
   "outputs": [
    {
     "name": "stdout",
     "output_type": "stream",
     "text": [
      "(71941, 3831)\n",
      "(71941,)\n"
     ]
    }
   ],
   "source": [
    "trainX_df=labelled_aapl_news_df['features']\n",
    "trainY_df=labelled_aapl_news_df['label']\n",
    "\n",
    "trainX = np.stack(trainX_df)\n",
    "\n",
    "trainY_df=trainY_df.astype('int')\n",
    "trainY = np.stack(trainY_df)\n",
    "\n",
    "print(trainX.shape)\n",
    "print(trainY.shape)"
   ]
  },
  {
   "cell_type": "code",
   "execution_count": 92,
   "metadata": {},
   "outputs": [],
   "source": [
    "pca = PCA(n_components=15)\n",
    "pComponents= pca.fit_transform(trainX)\n",
    "X_train, X_test, y_train, y_test = train_test_split(pComponents, trainY, test_size=0.2, random_state=23)"
   ]
  },
  {
   "cell_type": "code",
   "execution_count": 93,
   "metadata": {},
   "outputs": [
    {
     "name": "stdout",
     "output_type": "stream",
     "text": [
      "(57552, 15)\n",
      "(57552,)\n"
     ]
    },
    {
     "data": {
      "text/plain": [
       "array([[ 3.93269243e+00, -3.97856925e-01,  1.01028589e-02, ...,\n",
       "         8.19317389e-02,  3.83500150e-01, -1.13806154e+00],\n",
       "       [ 1.82679029e+00, -1.24392245e-01, -1.01973909e-02, ...,\n",
       "        -1.21677673e-02,  2.52299221e-01, -1.57631603e+00],\n",
       "       [ 1.65224838e+00, -2.06896337e-01, -1.73037617e-02, ...,\n",
       "         2.45366121e-02,  1.18799216e-01, -3.90365454e-01],\n",
       "       ...,\n",
       "       [-3.12783395e-01, -1.61490832e-01, -3.86479632e-02, ...,\n",
       "         3.27178671e-03, -4.51923996e-02, -1.71317781e-03],\n",
       "       [-8.58787070e-02, -2.04240233e-01, -3.89622591e-02, ...,\n",
       "        -8.36377677e-04, -3.31888678e-02, -1.91941905e-02],\n",
       "       [-3.11908736e-01, -1.78170026e-01, -3.92241058e-02, ...,\n",
       "        -1.29027669e-02, -9.23705138e-02, -1.73521087e-02]])"
      ]
     },
     "execution_count": 93,
     "metadata": {},
     "output_type": "execute_result"
    }
   ],
   "source": [
    "print(X_train.shape)\n",
    "print(y_train.shape)\n",
    "X_train"
   ]
  },
  {
   "cell_type": "code",
   "execution_count": 85,
   "metadata": {},
   "outputs": [
    {
     "name": "stdout",
     "output_type": "stream",
     "text": [
      "Accuracy of LogisticRegression classifier is: 0 \n",
      "[-1 -1 -1 ... -1 -1 -1]\n",
      "53601   -1\n",
      "17288    1\n",
      "8799     1\n",
      "32713   -1\n",
      "19457   -1\n",
      "        ..\n",
      "29724   -1\n",
      "19102   -1\n",
      "55152    1\n",
      "43386    1\n",
      "47849   -1\n",
      "Name: label, Length: 14389, dtype: int32\n"
     ]
    }
   ],
   "source": [
    "clf = LogisticRegression(random_state=20)\n",
    "clf.fit(X_train,y_train)\n",
    "y_pred=clf.predict(X_test)\n",
    "acc=accuracy_score(y_test,y_pred)\n",
    "print('Accuracy of LogisticRegression classifier is: %d ' % acc)\n",
    "#print(y_pred)\n",
    "#print(y_test)"
   ]
  },
  {
   "cell_type": "code",
   "execution_count": null,
   "metadata": {},
   "outputs": [],
   "source": []
  }
 ],
 "metadata": {
  "kernelspec": {
   "display_name": "Python 3",
   "language": "python",
   "name": "python3"
  },
  "language_info": {
   "codemirror_mode": {
    "name": "ipython",
    "version": 3
   },
   "file_extension": ".py",
   "mimetype": "text/x-python",
   "name": "python",
   "nbconvert_exporter": "python",
   "pygments_lexer": "ipython3",
   "version": "3.8.5"
  }
 },
 "nbformat": 4,
 "nbformat_minor": 4
}
