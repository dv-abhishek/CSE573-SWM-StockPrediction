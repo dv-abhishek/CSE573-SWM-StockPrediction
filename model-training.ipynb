{
 "cells": [
  {
   "cell_type": "code",
   "execution_count": 6,
   "metadata": {},
   "outputs": [],
   "source": [
    "from sklearn.model_selection import train_test_split\n",
    "from sklearn.decomposition import PCA\n",
    "from sklearn.metrics import accuracy_score\n",
    "from sklearn.linear_model import LogisticRegression\n",
    "from sklearn.ensemble import RandomForestClassifier\n",
    "from sklearn import svm\n",
    "from sklearn import tree\n",
    "import tensorflow as tf\n",
    "from tensorflow import keras\n",
    "import pickle\n",
    "import datetime\n",
    "import numpy as np"
   ]
  },
  {
   "cell_type": "code",
   "execution_count": 2,
   "metadata": {},
   "outputs": [],
   "source": [
    "# Load features and labels data\n",
    "\n",
    "with open('aapl_two_gram_features_labelled_df.pkl', 'rb') as f:\n",
    "    labelled_aapl_news_df = pickle.load(f)"
   ]
  },
  {
   "cell_type": "code",
   "execution_count": 3,
   "metadata": {},
   "outputs": [
    {
     "name": "stdout",
     "output_type": "stream",
     "text": [
      "(71941, 3831)\n",
      "(71941,)\n"
     ]
    },
    {
     "data": {
      "text/plain": [
       "array([[0, 0, 0, ..., 0, 0, 0],\n",
       "       [0, 0, 0, ..., 0, 0, 0],\n",
       "       [0, 0, 0, ..., 0, 0, 0],\n",
       "       ...,\n",
       "       [0, 0, 0, ..., 0, 0, 0],\n",
       "       [0, 0, 0, ..., 0, 0, 0],\n",
       "       [0, 0, 0, ..., 0, 0, 0]], dtype=int64)"
      ]
     },
     "execution_count": 3,
     "metadata": {},
     "output_type": "execute_result"
    }
   ],
   "source": [
    "trainX_df=labelled_aapl_news_df['features']\n",
    "trainY_df=labelled_aapl_news_df['label']\n",
    "\n",
    "trainX = np.stack(trainX_df)\n",
    "\n",
    "trainY_df=trainY_df.astype('int')\n",
    "trainY = np.stack(trainY_df)\n",
    "\n",
    "print(trainX.shape)\n",
    "print(trainY.shape)\n",
    "trainX"
   ]
  },
  {
   "cell_type": "code",
   "execution_count": 4,
   "metadata": {},
   "outputs": [
    {
     "name": "stdout",
     "output_type": "stream",
     "text": [
      "[8.01939841e-02 4.59203231e-02 3.82233813e-02 ... 7.04995361e-34\n",
      " 7.04995361e-34 7.04995361e-34]\n"
     ]
    },
    {
     "data": {
      "text/plain": [
       "1.0000000000000004"
      ]
     },
     "execution_count": 4,
     "metadata": {},
     "output_type": "execute_result"
    }
   ],
   "source": [
    "pca = PCA(n_components=3800)\n",
    "pComponents= pca.fit_transform(trainX)\n",
    "print(pca.explained_variance_ratio_)\n",
    "sum([float(x) for x in pca.explained_variance_ratio_])"
   ]
  },
  {
   "cell_type": "code",
   "execution_count": 5,
   "metadata": {},
   "outputs": [],
   "source": [
    "X_train, X_test, y_train, y_test = train_test_split(trainX, trainY, test_size=0.2, random_state=23)"
   ]
  },
  {
   "cell_type": "code",
   "execution_count": 6,
   "metadata": {},
   "outputs": [
    {
     "name": "stdout",
     "output_type": "stream",
     "text": [
      "(57552, 3831)\n",
      "(57552,)\n"
     ]
    }
   ],
   "source": [
    "print(X_train.shape)\n",
    "print(y_train.shape)"
   ]
  },
  {
   "cell_type": "code",
   "execution_count": 8,
   "metadata": {},
   "outputs": [],
   "source": [
    "print(\"training Logistic Regression now ...\")\n",
    "\n",
    "logistic_regression = LogisticRegression(max_iter=1000, verbose=15, n_jobs=-1).fit(X_train,y_train)\n",
    "y_pred = logistic_regression.predict(X_test)\n",
    "acc = accuracy_score(y_test,y_pred)\n",
    "print('Accuracy of Logistic Regression classifier is: %f ' % acc)"
   ]
  },
  {
   "cell_type": "code",
   "execution_count": 9,
   "metadata": {},
   "outputs": [
    {
     "name": "stdout",
     "output_type": "stream",
     "text": [
      "Accuracy of Logistic Regression classifier is: 0.598652 \n"
     ]
    }
   ],
   "source": []
  },
  {
   "cell_type": "code",
   "execution_count": 10,
   "metadata": {},
   "outputs": [
    {
     "name": "stdout",
     "output_type": "stream",
     "text": [
      "training decision tree now\n"
     ]
    }
   ],
   "source": [
    "print(\"training Decision Tree now ...\")\n",
    "decision_tree = tree.DecisionTreeClassifier(random_state=0).fit(X_train,y_train)\n",
    "y_pred = decision_tree.predict(X_test)\n",
    "acc=accuracy_score(y_test,y_pred)\n",
    "print('Accuracy of Decision Tree classifier is: %f ' % acc)"
   ]
  },
  {
   "cell_type": "code",
   "execution_count": 12,
   "metadata": {},
   "outputs": [
    {
     "name": "stdout",
     "output_type": "stream",
     "text": [
      "Accuracy of Decision Tree classifier is: 0.665578 \n"
     ]
    }
   ],
   "source": []
  },
  {
   "cell_type": "code",
   "execution_count": 16,
   "metadata": {},
   "outputs": [
    {
     "name": "stdout",
     "output_type": "stream",
     "text": [
      "training Random Forest classifier now ...\n"
     ]
    },
    {
     "name": "stderr",
     "output_type": "stream",
     "text": [
      "[Parallel(n_jobs=1)]: Using backend SequentialBackend with 1 concurrent workers.\n",
      "[Parallel(n_jobs=1)]: Done 1000 out of 1000 | elapsed: 222.7min finished\n",
      "[Parallel(n_jobs=1)]: Using backend SequentialBackend with 1 concurrent workers.\n"
     ]
    },
    {
     "name": "stdout",
     "output_type": "stream",
     "text": [
      "Accuracy of Random Forest classifier is: 0.678157 \n"
     ]
    },
    {
     "name": "stderr",
     "output_type": "stream",
     "text": [
      "[Parallel(n_jobs=1)]: Done 1000 out of 1000 | elapsed:   45.1s finished\n"
     ]
    }
   ],
   "source": [
    "print(\"training Random Forest classifier now ...\")\n",
    "\n",
    "random_forest_classifier = RandomForestClassifier(n_estimators=100, verbose=15, n_jobs=-1).fit(X_train,y_train)\n",
    "#increase n_estimators if you face issues in training\n",
    "y_pred=random_forest_classifier.predict(X_test)\n",
    "acc=accuracy_score(y_test,y_pred)\n",
    "print('Accuracy of Random Forest classifier is: %f ' % acc)"
   ]
  },
  {
   "cell_type": "code",
   "execution_count": 4,
   "metadata": {},
   "outputs": [
    {
     "name": "stdout",
     "output_type": "stream",
     "text": [
      "current time:- 2021-04-05 14:56:09.711582\n",
      "[0.08019398 0.04592032 0.03822338 ... 0.00010264 0.00010252 0.00010225]\n",
      "0.8816114817322985\n",
      "(57552, 1500)\n",
      "(57552,)\n",
      "training SVM classifier now ...\n",
      "[LibSVM]Accuracy of SVM classifier is: 0.619223 \n",
      "current time:- 2021-04-05 17:10:51.641437\n"
     ]
    }
   ],
   "source": [
    "print(\"current time:-\", datetime.datetime.now())\n",
    "\n",
    "pca = PCA(n_components=1500)\n",
    "pComponents= pca.fit_transform(trainX)\n",
    "print(pca.explained_variance_ratio_)\n",
    "print(sum([float(x) for x in pca.explained_variance_ratio_]))\n",
    "\n",
    "X_train, X_test, y_train, y_test = train_test_split(pComponents, trainY, test_size=0.2, random_state=23)\n",
    "print(X_train.shape)\n",
    "print(y_train.shape)\n",
    "\n",
    "print(\"training SVM classifier now ...\")\n",
    "\n",
    "svm_classifier = svm.SVC(verbose=12).fit(X_train,y_train)\n",
    "y_pred = svm_classifier.predict(X_test)\n",
    "acc = accuracy_score(y_test,y_pred)\n",
    "print('Accuracy of SVM classifier is: %f ' % acc)\n",
    "print(\"current time:-\", datetime.datetime.now())"
   ]
  },
  {
   "cell_type": "code",
   "execution_count": 7,
   "metadata": {},
   "outputs": [
    {
     "name": "stdout",
     "output_type": "stream",
     "text": [
      "[0.08019398 0.04592032 0.03822338 0.02302324 0.01630195 0.01025567\n",
      " 0.00907625 0.00836145 0.00744542 0.00688101 0.00629214 0.00582196\n",
      " 0.00525544 0.00489219 0.00479393 0.00437124 0.00432898 0.00416345\n",
      " 0.0039819  0.00377176 0.00371864 0.00371087 0.00361883 0.0032395\n",
      " 0.00308442 0.00305171 0.00302348 0.00294405 0.00288199 0.00284649\n",
      " 0.00278903 0.00269139 0.00264729 0.00262152 0.00258664 0.00256707\n",
      " 0.00251749 0.00250193 0.00249337 0.00248105 0.00241319 0.00239169\n",
      " 0.00229377 0.00226504 0.00225156 0.00223218 0.0021955  0.00214689\n",
      " 0.00211538 0.00206738]\n",
      "training Deep Neural Network now ...\n",
      "current time:- 2021-04-05 17:26:05.007403\n",
      "Epoch 1/50\n",
      "57552/57552 [==============================] - 28s 480us/step - loss: -113.7152 - accuracy: 0.0012\n",
      "Epoch 2/50\n",
      "57552/57552 [==============================] - 28s 491us/step - loss: -3733.3513 - accuracy: 0.0000e+00\n",
      "Epoch 3/50\n",
      "57552/57552 [==============================] - 27s 461us/step - loss: -21214.1536 - accuracy: 0.0000e+00\n",
      "Epoch 4/50\n",
      "57552/57552 [==============================] - 27s 477us/step - loss: -60949.2146 - accuracy: 0.0000e+00\n",
      "Epoch 5/50\n",
      "57552/57552 [==============================] - 27s 462us/step - loss: -134172.4637 - accuracy: 0.0000e+00\n",
      "Epoch 6/50\n",
      "57552/57552 [==============================] - 27s 468us/step - loss: -270652.5639 - accuracy: 0.0000e+00\n",
      "Epoch 7/50\n",
      "57552/57552 [==============================] - 27s 471us/step - loss: -405309.6582 - accuracy: 0.0000e+00\n",
      "Epoch 8/50\n",
      "57552/57552 [==============================] - 27s 461us/step - loss: -613014.6059 - accuracy: 0.0000e+00\n",
      "Epoch 9/50\n",
      "57552/57552 [==============================] - 27s 468us/step - loss: -1037169.0525 - accuracy: 0.0000e+00\n",
      "Epoch 10/50\n",
      "57552/57552 [==============================] - 27s 463us/step - loss: -1545816.7372 - accuracy: 0.0000e+00\n",
      "Epoch 11/50\n",
      "57552/57552 [==============================] - 27s 462us/step - loss: -1941234.6917 - accuracy: 0.0000e+00\n",
      "Epoch 12/50\n",
      "57552/57552 [==============================] - 27s 471us/step - loss: -2647106.9855 - accuracy: 0.0000e+00\n",
      "Epoch 13/50\n",
      "57552/57552 [==============================] - 29s 507us/step - loss: -3286400.9211 - accuracy: 0.0000e+00\n",
      "Epoch 14/50\n",
      "57552/57552 [==============================] - 27s 462us/step - loss: -4191194.3780 - accuracy: 0.0000e+00\n",
      "Epoch 15/50\n",
      "57552/57552 [==============================] - 26s 460us/step - loss: -4890810.6861 - accuracy: 0.0000e+00\n",
      "Epoch 16/50\n",
      "57552/57552 [==============================] - 27s 461us/step - loss: -6190752.1149 - accuracy: 0.0000e+00\n",
      "Epoch 17/50\n",
      "57552/57552 [==============================] - 26s 458us/step - loss: -7993820.6479 - accuracy: 0.0000e+00\n",
      "Epoch 18/50\n",
      "57552/57552 [==============================] - 26s 460us/step - loss: -8877334.4052 - accuracy: 0.0000e+00\n",
      "Epoch 19/50\n",
      "57552/57552 [==============================] - 27s 463us/step - loss: -10837580.3388 - accuracy: 0.0000e+00\n",
      "Epoch 20/50\n",
      "57552/57552 [==============================] - 27s 469us/step - loss: -12514320.9872 - accuracy: 0.0000e+00\n",
      "Epoch 21/50\n",
      "57552/57552 [==============================] - 36s 617us/step - loss: -14590628.5639 - accuracy: 0.0000e+00\n",
      "Epoch 22/50\n",
      "57552/57552 [==============================] - 35s 610us/step - loss: -16386507.6841 - accuracy: 0.0000e+00\n",
      "Epoch 23/50\n",
      "57552/57552 [==============================] - 30s 524us/step - loss: -20799106.6441 - accuracy: 0.0000e+00\n",
      "Epoch 24/50\n",
      "57552/57552 [==============================] - 28s 494us/step - loss: -20962162.8306 - accuracy: 0.0000e+00\n",
      "Epoch 25/50\n",
      "57552/57552 [==============================] - 29s 505us/step - loss: -25236777.1738 - accuracy: 0.0000e+00\n",
      "Epoch 26/50\n",
      "57552/57552 [==============================] - 30s 521us/step - loss: -28759362.5821 - accuracy: 0.0000e+00\n",
      "Epoch 27/50\n",
      "57552/57552 [==============================] - 28s 488us/step - loss: -32386912.8759 - accuracy: 0.0000e+00\n",
      "Epoch 28/50\n",
      "57552/57552 [==============================] - 29s 512us/step - loss: -36340610.8738 - accuracy: 0.0000e+00\n",
      "Epoch 29/50\n",
      "57552/57552 [==============================] - 28s 492us/step - loss: -42885382.2999 - accuracy: 0.0000e+00\n",
      "Epoch 30/50\n",
      "57552/57552 [==============================] - 30s 518us/step - loss: -44448059.1971 - accuracy: 0.0000e+00\n",
      "Epoch 31/50\n",
      "57552/57552 [==============================] - 28s 482us/step - loss: -48911728.2607 - accuracy: 0.0000e+00\n",
      "Epoch 32/50\n",
      "57552/57552 [==============================] - 27s 476us/step - loss: -55503707.4120 - accuracy: 0.0000e+00\n",
      "Epoch 33/50\n",
      "57552/57552 [==============================] - 29s 500us/step - loss: -65649672.0535 - accuracy: 0.0000e+00\n",
      "Epoch 34/50\n",
      "57552/57552 [==============================] - 29s 513us/step - loss: -72194825.1307 - accuracy: 0.0000e+00\n",
      "Epoch 35/50\n",
      "57552/57552 [==============================] - 29s 509us/step - loss: -76401321.3029 - accuracy: 0.0000e+00\n",
      "Epoch 36/50\n",
      "57552/57552 [==============================] - 31s 546us/step - loss: -67789876.3425 - accuracy: 0.0000e+00\n",
      "Epoch 37/50\n",
      "57552/57552 [==============================] - 29s 508us/step - loss: -80738461.2742 - accuracy: 0.0000e+00\n",
      "Epoch 38/50\n",
      "57552/57552 [==============================] - 29s 502us/step - loss: -98834038.8221 - accuracy: 0.0000e+00\n",
      "Epoch 39/50\n",
      "57552/57552 [==============================] - 28s 490us/step - loss: -98271375.1958 - accuracy: 0.0000e+00\n",
      "Epoch 40/50\n",
      "57552/57552 [==============================] - 30s 520us/step - loss: -116494400.6498 - accuracy: 0.0000e+00\n",
      "Epoch 41/50\n",
      "57552/57552 [==============================] - 28s 494us/step - loss: -111983315.0112 - accuracy: 0.0000e+00\n",
      "Epoch 42/50\n",
      "57552/57552 [==============================] - 28s 488us/step - loss: -137084762.1006 - accuracy: 0.0000e+00\n",
      "Epoch 43/50\n",
      "57552/57552 [==============================] - 28s 493us/step - loss: -140259675.6129 - accuracy: 0.0000e+00\n",
      "Epoch 44/50\n",
      "57552/57552 [==============================] - 29s 496us/step - loss: -144555551.3958 - accuracy: 0.0000e+00\n",
      "Epoch 45/50\n",
      "57552/57552 [==============================] - 29s 497us/step - loss: -144403335.1436 - accuracy: 0.0000e+00\n",
      "Epoch 46/50\n",
      "57552/57552 [==============================] - 28s 489us/step - loss: -163078693.1663 - accuracy: 0.0000e+00\n",
      "Epoch 47/50\n",
      "57552/57552 [==============================] - 29s 508us/step - loss: -191038418.3783 - accuracy: 0.0000e+00\n",
      "Epoch 48/50\n",
      "57552/57552 [==============================] - 29s 497us/step - loss: -188604499.2636 - accuracy: 0.0000e+00\n",
      "Epoch 49/50\n",
      "57552/57552 [==============================] - 28s 491us/step - loss: -196137267.0665 - accuracy: 0.0000e+00\n",
      "Epoch 50/50\n",
      "57552/57552 [==============================] - 30s 513us/step - loss: -230530133.9942 - accuracy: 0.0000e+00\n",
      "450/450 [==============================] - 0s 451us/step - loss: -236602944.0000 - accuracy: 0.0000e+00\n",
      "Accuracy of Deep Neural Network is: -236602944.000000 \n",
      "current time:- 2021-04-05 17:49:45.856294\n"
     ]
    }
   ],
   "source": [
    "pca = PCA(n_components=50)\n",
    "pComponents= pca.fit_transform(trainX)\n",
    "print(pca.explained_variance_ratio_)\n",
    "sum([float(x) for x in pca.explained_variance_ratio_])\n",
    "\n",
    "X_train, X_test, y_train, y_test = train_test_split(pComponents, trainY, test_size=0.2, random_state=23)\n",
    "\n",
    "print(\"training Deep Neural Network now ...\")\n",
    "\n",
    "dnn_model = keras.Sequential([\n",
    "    keras.layers.Flatten(input_shape=(50,)),\n",
    "    keras.layers.Dense(40, activation=tf.nn.relu),\n",
    "    keras.layers.Dense(30, activation=tf.nn.relu),\n",
    "    keras.layers.Dense(1, activation=tf.nn.sigmoid),\n",
    "])\n",
    "\n",
    "dnn_model.compile(optimizer='adam',\n",
    "              loss='binary_crossentropy',\n",
    "              metrics=['accuracy'])\n",
    "\n",
    "print(\"current time:-\", datetime.datetime.now())\n",
    "dnn_model.fit(X_train, y_train, epochs=50, batch_size=1)\n",
    "\n",
    "test_loss, test_acc = dnn_model.evaluate(X_test, y_test)\n",
    "print('Accuracy of Deep Neural Network is: %f ' % test_loss)\n",
    "print(\"current time:-\", datetime.datetime.now())"
   ]
  },
  {
   "cell_type": "code",
   "execution_count": null,
   "metadata": {},
   "outputs": [],
   "source": []
  }
 ],
 "metadata": {
  "kernelspec": {
   "display_name": "Python 3",
   "language": "python",
   "name": "python3"
  },
  "language_info": {
   "codemirror_mode": {
    "name": "ipython",
    "version": 3
   },
   "file_extension": ".py",
   "mimetype": "text/x-python",
   "name": "python",
   "nbconvert_exporter": "python",
   "pygments_lexer": "ipython3",
   "version": "3.8.5"
  }
 },
 "nbformat": 4,
 "nbformat_minor": 4
}
