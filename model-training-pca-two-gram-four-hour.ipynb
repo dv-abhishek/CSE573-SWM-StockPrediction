{
 "cells": [
  {
   "cell_type": "code",
   "execution_count": 1,
   "metadata": {},
   "outputs": [],
   "source": [
    "from sklearn.model_selection import train_test_split\n",
    "from sklearn.decomposition import PCA\n",
    "from sklearn.metrics import accuracy_score\n",
    "from sklearn.linear_model import LogisticRegression\n",
    "from sklearn.ensemble import RandomForestClassifier\n",
    "from sklearn import svm\n",
    "from sklearn import tree\n",
    "import tensorflow as tf\n",
    "from tensorflow import keras\n",
    "import pickle\n",
    "import datetime\n",
    "import numpy as np\n",
    "import matplotlib.pyplot as plt"
   ]
  },
  {
   "cell_type": "code",
   "execution_count": 2,
   "metadata": {},
   "outputs": [],
   "source": [
    "# Load features and labels data\n",
    "\n",
    "with open('aapl_two_gram_features_labelled_df_four_hour.pkl', 'rb') as f:\n",
    "    labelled_aapl_news_df = pickle.load(f)"
   ]
  },
  {
   "cell_type": "code",
   "execution_count": 3,
   "metadata": {},
   "outputs": [
    {
     "name": "stdout",
     "output_type": "stream",
     "text": [
      "(72122, 5394)\n",
      "(72122,)\n"
     ]
    },
    {
     "data": {
      "text/plain": [
       "array([[0, 0, 0, ..., 0, 0, 0],\n",
       "       [0, 0, 0, ..., 0, 0, 0],\n",
       "       [0, 0, 0, ..., 0, 0, 0],\n",
       "       ...,\n",
       "       [0, 0, 0, ..., 0, 0, 0],\n",
       "       [0, 0, 0, ..., 0, 0, 0],\n",
       "       [0, 0, 0, ..., 0, 0, 0]], dtype=int64)"
      ]
     },
     "execution_count": 3,
     "metadata": {},
     "output_type": "execute_result"
    }
   ],
   "source": [
    "trainX_df=labelled_aapl_news_df['features']\n",
    "trainY_df=labelled_aapl_news_df['label']\n",
    "\n",
    "trainX = np.stack(trainX_df)\n",
    "\n",
    "trainY_df=trainY_df.astype('int')\n",
    "trainY = np.stack(trainY_df)\n",
    "\n",
    "print(trainX.shape)\n",
    "print(trainY.shape)\n",
    "trainX"
   ]
  },
  {
   "cell_type": "code",
   "execution_count": 4,
   "metadata": {},
   "outputs": [
    {
     "data": {
      "text/plain": [
       "0.9751118202563637"
      ]
     },
     "execution_count": 4,
     "metadata": {},
     "output_type": "execute_result"
    }
   ],
   "source": [
    "pca = PCA(n_components=4000)\n",
    "pComponents= pca.fit_transform(trainX)\n",
    "sum([float(x) for x in pca.explained_variance_ratio_])"
   ]
  },
  {
   "cell_type": "code",
   "execution_count": 5,
   "metadata": {},
   "outputs": [],
   "source": [
    "X_train, X_test, y_train, y_test = train_test_split(trainX, trainY, test_size=0.2, random_state=23)"
   ]
  },
  {
   "cell_type": "code",
   "execution_count": 6,
   "metadata": {},
   "outputs": [
    {
     "name": "stdout",
     "output_type": "stream",
     "text": [
      "(57697, 5394)\n",
      "(57697,)\n"
     ]
    }
   ],
   "source": [
    "print(X_train.shape)\n",
    "print(y_train.shape)"
   ]
  },
  {
   "cell_type": "code",
   "execution_count": 8,
   "metadata": {},
   "outputs": [
    {
     "name": "stdout",
     "output_type": "stream",
     "text": [
      "training Logistic Regression now ...\n"
     ]
    },
    {
     "name": "stderr",
     "output_type": "stream",
     "text": [
      "[Parallel(n_jobs=-1)]: Using backend LokyBackend with 8 concurrent workers.\n",
      "[Parallel(n_jobs=-1)]: Done   1 tasks      | elapsed:  2.0min\n",
      "[Parallel(n_jobs=-1)]: Done   1 out of   1 | elapsed:  2.0min finished\n"
     ]
    },
    {
     "name": "stdout",
     "output_type": "stream",
     "text": [
      "Accuracy of Logistic Regression classifier is: 0.587244 \n"
     ]
    }
   ],
   "source": [
    "print(\"training Logistic Regression now ...\")\n",
    "\n",
    "logistic_regression = LogisticRegression(max_iter=1000, verbose=15, n_jobs=-1).fit(X_train,y_train)\n",
    "y_pred = logistic_regression.predict(X_test)\n",
    "acc = accuracy_score(y_test,y_pred)\n",
    "print('Accuracy of Logistic Regression classifier is: %f ' % acc)"
   ]
  },
  {
   "cell_type": "code",
   "execution_count": 10,
   "metadata": {},
   "outputs": [
    {
     "name": "stdout",
     "output_type": "stream",
     "text": [
      "training Random Forest classifier now ...\n"
     ]
    },
    {
     "name": "stderr",
     "output_type": "stream",
     "text": [
      "[Parallel(n_jobs=-1)]: Using backend ThreadingBackend with 8 concurrent workers.\n"
     ]
    },
    {
     "name": "stdout",
     "output_type": "stream",
     "text": [
      "building tree 1 of 100building tree 2 of 100\n",
      "building tree 3 of 100\n",
      "building tree 4 of 100\n",
      "\n",
      "building tree 5 of 100\n",
      "building tree 6 of 100\n",
      "building tree 7 of 100building tree 8 of 100\n",
      "\n"
     ]
    },
    {
     "name": "stderr",
     "output_type": "stream",
     "text": [
      "[Parallel(n_jobs=-1)]: Done   1 tasks      | elapsed:    3.0s\n",
      "[Parallel(n_jobs=-1)]: Done   2 tasks      | elapsed:    3.0s\n",
      "[Parallel(n_jobs=-1)]: Done   3 tasks      | elapsed:    3.0s\n",
      "[Parallel(n_jobs=-1)]: Done   4 tasks      | elapsed:    3.1s\n",
      "[Parallel(n_jobs=-1)]: Done   5 tasks      | elapsed:    3.1s\n"
     ]
    },
    {
     "name": "stdout",
     "output_type": "stream",
     "text": [
      "building tree 9 of 100building tree 10 of 100\n",
      "\n",
      "building tree 11 of 100\n",
      "building tree 12 of 100\n",
      "building tree 13 of 100\n"
     ]
    },
    {
     "name": "stderr",
     "output_type": "stream",
     "text": [
      "[Parallel(n_jobs=-1)]: Done   6 tasks      | elapsed:    3.3s\n",
      "[Parallel(n_jobs=-1)]: Done   7 tasks      | elapsed:    3.3s\n"
     ]
    },
    {
     "name": "stdout",
     "output_type": "stream",
     "text": [
      "building tree 14 of 100\n",
      "building tree 15 of 100\n",
      "building tree 16 of 100\n"
     ]
    },
    {
     "name": "stderr",
     "output_type": "stream",
     "text": [
      "[Parallel(n_jobs=-1)]: Done   8 tasks      | elapsed:    3.5s\n",
      "[Parallel(n_jobs=-1)]: Done   9 tasks      | elapsed:    6.0s\n"
     ]
    },
    {
     "name": "stdout",
     "output_type": "stream",
     "text": [
      "building tree 17 of 100\n"
     ]
    },
    {
     "name": "stderr",
     "output_type": "stream",
     "text": [
      "[Parallel(n_jobs=-1)]: Done  10 tasks      | elapsed:    6.4s\n",
      "[Parallel(n_jobs=-1)]: Done  11 tasks      | elapsed:    6.6s\n",
      "[Parallel(n_jobs=-1)]: Done  12 tasks      | elapsed:    6.6s\n",
      "[Parallel(n_jobs=-1)]: Done  13 tasks      | elapsed:    6.6s\n"
     ]
    },
    {
     "name": "stdout",
     "output_type": "stream",
     "text": [
      "building tree 18 of 100\n",
      "building tree 19 of 100\n",
      "building tree 20 of 100\n",
      "building tree 21 of 100\n"
     ]
    },
    {
     "name": "stderr",
     "output_type": "stream",
     "text": [
      "[Parallel(n_jobs=-1)]: Done  14 tasks      | elapsed:    6.7s\n",
      "[Parallel(n_jobs=-1)]: Done  15 tasks      | elapsed:    6.7s\n",
      "[Parallel(n_jobs=-1)]: Done  16 tasks      | elapsed:    6.7s\n"
     ]
    },
    {
     "name": "stdout",
     "output_type": "stream",
     "text": [
      "building tree 22 of 100\n",
      "building tree 23 of 100\n",
      "building tree 24 of 100\n"
     ]
    },
    {
     "name": "stderr",
     "output_type": "stream",
     "text": [
      "[Parallel(n_jobs=-1)]: Done  17 tasks      | elapsed:    9.8s\n",
      "[Parallel(n_jobs=-1)]: Done  18 tasks      | elapsed:    9.8s\n",
      "[Parallel(n_jobs=-1)]: Done  19 tasks      | elapsed:    9.9s\n"
     ]
    },
    {
     "name": "stdout",
     "output_type": "stream",
     "text": [
      "building tree 25 of 100\n",
      "building tree 26 of 100\n",
      "building tree 27 of 100\n"
     ]
    },
    {
     "name": "stderr",
     "output_type": "stream",
     "text": [
      "[Parallel(n_jobs=-1)]: Done  20 tasks      | elapsed:   10.1s\n",
      "[Parallel(n_jobs=-1)]: Done  21 tasks      | elapsed:   10.3s\n"
     ]
    },
    {
     "name": "stdout",
     "output_type": "stream",
     "text": [
      "building tree 28 of 100\n",
      "building tree 29 of 100\n"
     ]
    },
    {
     "name": "stderr",
     "output_type": "stream",
     "text": [
      "[Parallel(n_jobs=-1)]: Done  22 tasks      | elapsed:   10.4s\n"
     ]
    },
    {
     "name": "stdout",
     "output_type": "stream",
     "text": [
      "building tree 30 of 100\n"
     ]
    },
    {
     "name": "stderr",
     "output_type": "stream",
     "text": [
      "[Parallel(n_jobs=-1)]: Done  23 tasks      | elapsed:   10.9s\n"
     ]
    },
    {
     "name": "stdout",
     "output_type": "stream",
     "text": [
      "building tree 31 of 100\n"
     ]
    },
    {
     "name": "stderr",
     "output_type": "stream",
     "text": [
      "[Parallel(n_jobs=-1)]: Done  24 tasks      | elapsed:   11.3s\n"
     ]
    },
    {
     "name": "stdout",
     "output_type": "stream",
     "text": [
      "building tree 32 of 100\n"
     ]
    },
    {
     "name": "stderr",
     "output_type": "stream",
     "text": [
      "[Parallel(n_jobs=-1)]: Done  25 tasks      | elapsed:   13.1s\n",
      "[Parallel(n_jobs=-1)]: Done  26 tasks      | elapsed:   13.3s\n"
     ]
    },
    {
     "name": "stdout",
     "output_type": "stream",
     "text": [
      "building tree 33 of 100\n",
      "building tree 34 of 100\n"
     ]
    },
    {
     "name": "stderr",
     "output_type": "stream",
     "text": [
      "[Parallel(n_jobs=-1)]: Done  27 tasks      | elapsed:   13.5s\n",
      "[Parallel(n_jobs=-1)]: Done  28 tasks      | elapsed:   13.6s\n"
     ]
    },
    {
     "name": "stdout",
     "output_type": "stream",
     "text": [
      "building tree 35 of 100\n",
      "building tree 36 of 100\n"
     ]
    },
    {
     "name": "stderr",
     "output_type": "stream",
     "text": [
      "[Parallel(n_jobs=-1)]: Done  29 tasks      | elapsed:   13.9s\n",
      "[Parallel(n_jobs=-1)]: Done  30 tasks      | elapsed:   14.0s\n"
     ]
    },
    {
     "name": "stdout",
     "output_type": "stream",
     "text": [
      "building tree 37 of 100\n",
      "building tree 38 of 100\n"
     ]
    },
    {
     "name": "stderr",
     "output_type": "stream",
     "text": [
      "[Parallel(n_jobs=-1)]: Done  31 tasks      | elapsed:   14.2s\n"
     ]
    },
    {
     "name": "stdout",
     "output_type": "stream",
     "text": [
      "building tree 39 of 100\n"
     ]
    },
    {
     "name": "stderr",
     "output_type": "stream",
     "text": [
      "[Parallel(n_jobs=-1)]: Done  32 tasks      | elapsed:   14.8s\n"
     ]
    },
    {
     "name": "stdout",
     "output_type": "stream",
     "text": [
      "building tree 40 of 100\n"
     ]
    },
    {
     "name": "stderr",
     "output_type": "stream",
     "text": [
      "[Parallel(n_jobs=-1)]: Done  33 tasks      | elapsed:   16.3s\n"
     ]
    },
    {
     "name": "stdout",
     "output_type": "stream",
     "text": [
      "building tree 41 of 100\n"
     ]
    },
    {
     "name": "stderr",
     "output_type": "stream",
     "text": [
      "[Parallel(n_jobs=-1)]: Done  34 tasks      | elapsed:   16.9s\n",
      "[Parallel(n_jobs=-1)]: Done  35 tasks      | elapsed:   16.9s\n"
     ]
    },
    {
     "name": "stdout",
     "output_type": "stream",
     "text": [
      "building tree 42 of 100\n",
      "building tree 43 of 100\n"
     ]
    },
    {
     "name": "stderr",
     "output_type": "stream",
     "text": [
      "[Parallel(n_jobs=-1)]: Done  36 tasks      | elapsed:   17.3s\n",
      "[Parallel(n_jobs=-1)]: Done  37 tasks      | elapsed:   17.4s\n"
     ]
    },
    {
     "name": "stdout",
     "output_type": "stream",
     "text": [
      "building tree 44 of 100\n",
      "building tree 45 of 100\n"
     ]
    },
    {
     "name": "stderr",
     "output_type": "stream",
     "text": [
      "[Parallel(n_jobs=-1)]: Done  38 tasks      | elapsed:   17.8s\n",
      "[Parallel(n_jobs=-1)]: Done  39 tasks      | elapsed:   17.8s\n",
      "[Parallel(n_jobs=-1)]: Done  40 tasks      | elapsed:   18.0s\n"
     ]
    },
    {
     "name": "stdout",
     "output_type": "stream",
     "text": [
      "building tree 46 of 100\n",
      "building tree 47 of 100\n",
      "building tree 48 of 100\n"
     ]
    },
    {
     "name": "stderr",
     "output_type": "stream",
     "text": [
      "[Parallel(n_jobs=-1)]: Done  41 tasks      | elapsed:   19.4s\n"
     ]
    },
    {
     "name": "stdout",
     "output_type": "stream",
     "text": [
      "building tree 49 of 100\n",
      "building tree 50 of 100\n"
     ]
    },
    {
     "name": "stderr",
     "output_type": "stream",
     "text": [
      "[Parallel(n_jobs=-1)]: Done  42 tasks      | elapsed:   20.3s\n"
     ]
    },
    {
     "name": "stdout",
     "output_type": "stream",
     "text": [
      "building tree 51 of 100\n"
     ]
    },
    {
     "name": "stderr",
     "output_type": "stream",
     "text": [
      "[Parallel(n_jobs=-1)]: Done  43 tasks      | elapsed:   20.6s\n",
      "[Parallel(n_jobs=-1)]: Done  44 tasks      | elapsed:   21.1s\n",
      "[Parallel(n_jobs=-1)]: Done  45 tasks      | elapsed:   21.1s\n",
      "[Parallel(n_jobs=-1)]: Done  46 tasks      | elapsed:   21.2s\n"
     ]
    },
    {
     "name": "stdout",
     "output_type": "stream",
     "text": [
      "building tree 52 of 100\n",
      "building tree 53 of 100\n",
      "building tree 54 of 100\n"
     ]
    },
    {
     "name": "stderr",
     "output_type": "stream",
     "text": [
      "[Parallel(n_jobs=-1)]: Done  47 tasks      | elapsed:   21.3s\n",
      "[Parallel(n_jobs=-1)]: Done  48 tasks      | elapsed:   21.3s\n"
     ]
    },
    {
     "name": "stdout",
     "output_type": "stream",
     "text": [
      "building tree 55 of 100\n",
      "building tree 56 of 100\n"
     ]
    },
    {
     "name": "stderr",
     "output_type": "stream",
     "text": [
      "[Parallel(n_jobs=-1)]: Done  49 tasks      | elapsed:   23.5s\n",
      "[Parallel(n_jobs=-1)]: Done  50 tasks      | elapsed:   23.7s\n"
     ]
    },
    {
     "name": "stdout",
     "output_type": "stream",
     "text": [
      "building tree 57 of 100\n",
      "building tree 58 of 100\n"
     ]
    },
    {
     "name": "stderr",
     "output_type": "stream",
     "text": [
      "[Parallel(n_jobs=-1)]: Done  51 tasks      | elapsed:   24.2s\n"
     ]
    },
    {
     "name": "stdout",
     "output_type": "stream",
     "text": [
      "building tree 59 of 100\n"
     ]
    },
    {
     "name": "stderr",
     "output_type": "stream",
     "text": [
      "[Parallel(n_jobs=-1)]: Done  52 tasks      | elapsed:   24.5s\n"
     ]
    },
    {
     "name": "stdout",
     "output_type": "stream",
     "text": [
      "building tree 60 of 100\n"
     ]
    },
    {
     "name": "stderr",
     "output_type": "stream",
     "text": [
      "[Parallel(n_jobs=-1)]: Done  53 tasks      | elapsed:   24.8s\n"
     ]
    },
    {
     "name": "stdout",
     "output_type": "stream",
     "text": [
      "building tree 61 of 100\n",
      "building tree 62 of 100\n",
      "building tree 63 of 100\n"
     ]
    },
    {
     "name": "stderr",
     "output_type": "stream",
     "text": [
      "[Parallel(n_jobs=-1)]: Done  54 tasks      | elapsed:   25.0s\n",
      "[Parallel(n_jobs=-1)]: Done  55 tasks      | elapsed:   25.2s\n",
      "[Parallel(n_jobs=-1)]: Done  56 tasks      | elapsed:   25.7s\n"
     ]
    },
    {
     "name": "stdout",
     "output_type": "stream",
     "text": [
      "building tree 64 of 100\n"
     ]
    },
    {
     "name": "stderr",
     "output_type": "stream",
     "text": [
      "[Parallel(n_jobs=-1)]: Done  57 tasks      | elapsed:   27.5s\n",
      "[Parallel(n_jobs=-1)]: Done  58 tasks      | elapsed:   27.5s\n"
     ]
    },
    {
     "name": "stdout",
     "output_type": "stream",
     "text": [
      "building tree 65 of 100\n",
      "building tree 66 of 100\n"
     ]
    },
    {
     "name": "stderr",
     "output_type": "stream",
     "text": [
      "[Parallel(n_jobs=-1)]: Done  59 tasks      | elapsed:   27.8s\n",
      "[Parallel(n_jobs=-1)]: Done  60 tasks      | elapsed:   27.9s\n"
     ]
    },
    {
     "name": "stdout",
     "output_type": "stream",
     "text": [
      "building tree 67 of 100\n",
      "building tree 68 of 100\n"
     ]
    },
    {
     "name": "stderr",
     "output_type": "stream",
     "text": [
      "[Parallel(n_jobs=-1)]: Done  61 tasks      | elapsed:   28.2s\n"
     ]
    },
    {
     "name": "stdout",
     "output_type": "stream",
     "text": [
      "building tree 69 of 100\n"
     ]
    },
    {
     "name": "stderr",
     "output_type": "stream",
     "text": [
      "[Parallel(n_jobs=-1)]: Done  62 tasks      | elapsed:   28.7s\n"
     ]
    },
    {
     "name": "stdout",
     "output_type": "stream",
     "text": [
      "building tree 70 of 100\n"
     ]
    },
    {
     "name": "stderr",
     "output_type": "stream",
     "text": [
      "[Parallel(n_jobs=-1)]: Done  63 tasks      | elapsed:   29.4s\n",
      "[Parallel(n_jobs=-1)]: Done  64 tasks      | elapsed:   29.4s\n"
     ]
    },
    {
     "name": "stdout",
     "output_type": "stream",
     "text": [
      "building tree 71 of 100\n",
      "building tree 72 of 100\n"
     ]
    },
    {
     "name": "stderr",
     "output_type": "stream",
     "text": [
      "[Parallel(n_jobs=-1)]: Done  65 tasks      | elapsed:   30.8s\n"
     ]
    },
    {
     "name": "stdout",
     "output_type": "stream",
     "text": [
      "building tree 73 of 100\n"
     ]
    },
    {
     "name": "stderr",
     "output_type": "stream",
     "text": [
      "[Parallel(n_jobs=-1)]: Done  66 tasks      | elapsed:   31.1s\n"
     ]
    },
    {
     "name": "stdout",
     "output_type": "stream",
     "text": [
      "building tree 74 of 100\n"
     ]
    },
    {
     "name": "stderr",
     "output_type": "stream",
     "text": [
      "[Parallel(n_jobs=-1)]: Done  67 tasks      | elapsed:   31.3s\n",
      "[Parallel(n_jobs=-1)]: Done  68 tasks      | elapsed:   31.5s\n"
     ]
    },
    {
     "name": "stdout",
     "output_type": "stream",
     "text": [
      "building tree 75 of 100\n",
      "building tree 76 of 100\n",
      "building tree 77 of 100\n"
     ]
    },
    {
     "name": "stderr",
     "output_type": "stream",
     "text": [
      "[Parallel(n_jobs=-1)]: Done  69 tasks      | elapsed:   31.7s\n",
      "[Parallel(n_jobs=-1)]: Done  70 tasks      | elapsed:   32.2s\n"
     ]
    },
    {
     "name": "stdout",
     "output_type": "stream",
     "text": [
      "building tree 78 of 100\n"
     ]
    },
    {
     "name": "stderr",
     "output_type": "stream",
     "text": [
      "[Parallel(n_jobs=-1)]: Done  71 tasks      | elapsed:   32.8s\n"
     ]
    },
    {
     "name": "stdout",
     "output_type": "stream",
     "text": [
      "building tree 79 of 100\n"
     ]
    },
    {
     "name": "stderr",
     "output_type": "stream",
     "text": [
      "[Parallel(n_jobs=-1)]: Done  72 tasks      | elapsed:   33.3s\n"
     ]
    },
    {
     "name": "stdout",
     "output_type": "stream",
     "text": [
      "building tree 80 of 100\n"
     ]
    },
    {
     "name": "stderr",
     "output_type": "stream",
     "text": [
      "[Parallel(n_jobs=-1)]: Done  73 tasks      | elapsed:   34.4s\n",
      "[Parallel(n_jobs=-1)]: Done  74 tasks      | elapsed:   34.6s\n"
     ]
    },
    {
     "name": "stdout",
     "output_type": "stream",
     "text": [
      "building tree 81 of 100\n",
      "building tree 82 of 100"
     ]
    },
    {
     "name": "stderr",
     "output_type": "stream",
     "text": [
      "[Parallel(n_jobs=-1)]: Done  75 tasks      | elapsed:   34.8s\n"
     ]
    },
    {
     "name": "stdout",
     "output_type": "stream",
     "text": [
      "\n",
      "building tree 83 of 100\n"
     ]
    },
    {
     "name": "stderr",
     "output_type": "stream",
     "text": [
      "[Parallel(n_jobs=-1)]: Done  76 tasks      | elapsed:   35.1s\n",
      "[Parallel(n_jobs=-1)]: Done  77 tasks      | elapsed:   35.3s\n"
     ]
    },
    {
     "name": "stdout",
     "output_type": "stream",
     "text": [
      "building tree 84 of 100\n",
      "building tree 85 of 100\n"
     ]
    },
    {
     "name": "stderr",
     "output_type": "stream",
     "text": [
      "[Parallel(n_jobs=-1)]: Done  78 tasks      | elapsed:   35.9s\n"
     ]
    },
    {
     "name": "stdout",
     "output_type": "stream",
     "text": [
      "building tree 86 of 100\n"
     ]
    },
    {
     "name": "stderr",
     "output_type": "stream",
     "text": [
      "[Parallel(n_jobs=-1)]: Done  79 tasks      | elapsed:   36.5s\n"
     ]
    },
    {
     "name": "stdout",
     "output_type": "stream",
     "text": [
      "building tree 87 of 100\n",
      "building tree 88 of 100\n",
      "building tree 89 of 100\n"
     ]
    },
    {
     "name": "stderr",
     "output_type": "stream",
     "text": [
      "[Parallel(n_jobs=-1)]: Done  80 tasks      | elapsed:   37.3s\n",
      "[Parallel(n_jobs=-1)]: Done  81 tasks      | elapsed:   37.4s\n",
      "[Parallel(n_jobs=-1)]: Done  82 tasks      | elapsed:   37.9s\n"
     ]
    },
    {
     "name": "stdout",
     "output_type": "stream",
     "text": [
      "building tree 90 of 100\n"
     ]
    },
    {
     "name": "stderr",
     "output_type": "stream",
     "text": [
      "[Parallel(n_jobs=-1)]: Done  83 tasks      | elapsed:   38.9s\n",
      "[Parallel(n_jobs=-1)]: Done  84 tasks      | elapsed:   39.0s\n",
      "[Parallel(n_jobs=-1)]: Done  85 tasks      | elapsed:   39.0s\n"
     ]
    },
    {
     "name": "stdout",
     "output_type": "stream",
     "text": [
      "building tree 91 of 100\n",
      "building tree 92 of 100\n",
      "building tree 93 of 100\n",
      "building tree 94 of 100\n",
      "building tree 95 of 100\n",
      "building tree 96 of 100\n",
      "building tree 97 of 100\n",
      "building tree 98 of 100\n",
      "building tree 99 of 100\n",
      "building tree 100 of 100"
     ]
    },
    {
     "name": "stderr",
     "output_type": "stream",
     "text": [
      "[Parallel(n_jobs=-1)]: Done  92 out of 100 | elapsed:   42.6s remaining:    3.6s\n"
     ]
    },
    {
     "name": "stdout",
     "output_type": "stream",
     "text": [
      "\n"
     ]
    },
    {
     "name": "stderr",
     "output_type": "stream",
     "text": [
      "[Parallel(n_jobs=-1)]: Done 100 out of 100 | elapsed:   45.9s finished\n",
      "[Parallel(n_jobs=8)]: Using backend ThreadingBackend with 8 concurrent workers.\n",
      "[Parallel(n_jobs=8)]: Done   1 tasks      | elapsed:    0.0s\n",
      "[Parallel(n_jobs=8)]: Done   2 tasks      | elapsed:    0.0s\n",
      "[Parallel(n_jobs=8)]: Done   3 tasks      | elapsed:    0.0s\n",
      "[Parallel(n_jobs=8)]: Done   4 tasks      | elapsed:    0.0s\n",
      "[Parallel(n_jobs=8)]: Done   5 tasks      | elapsed:    0.0s\n",
      "[Parallel(n_jobs=8)]: Done   6 tasks      | elapsed:    0.0s\n",
      "[Parallel(n_jobs=8)]: Done   7 tasks      | elapsed:    0.0s\n",
      "[Parallel(n_jobs=8)]: Done   8 tasks      | elapsed:    0.0s\n",
      "[Parallel(n_jobs=8)]: Done   9 tasks      | elapsed:    0.0s\n",
      "[Parallel(n_jobs=8)]: Done  10 tasks      | elapsed:    0.0s\n",
      "[Parallel(n_jobs=8)]: Done  11 tasks      | elapsed:    0.0s\n",
      "[Parallel(n_jobs=8)]: Done  12 tasks      | elapsed:    0.0s\n",
      "[Parallel(n_jobs=8)]: Done  13 tasks      | elapsed:    0.0s\n",
      "[Parallel(n_jobs=8)]: Done  14 tasks      | elapsed:    0.0s\n",
      "[Parallel(n_jobs=8)]: Done  15 tasks      | elapsed:    0.0s\n",
      "[Parallel(n_jobs=8)]: Done  16 tasks      | elapsed:    0.0s\n",
      "[Parallel(n_jobs=8)]: Done  17 tasks      | elapsed:    0.0s\n",
      "[Parallel(n_jobs=8)]: Done  18 tasks      | elapsed:    0.0s\n",
      "[Parallel(n_jobs=8)]: Done  19 tasks      | elapsed:    0.0s\n",
      "[Parallel(n_jobs=8)]: Done  20 tasks      | elapsed:    0.0s\n",
      "[Parallel(n_jobs=8)]: Done  21 tasks      | elapsed:    0.0s\n",
      "[Parallel(n_jobs=8)]: Done  22 tasks      | elapsed:    0.0s\n",
      "[Parallel(n_jobs=8)]: Done  23 tasks      | elapsed:    0.0s\n",
      "[Parallel(n_jobs=8)]: Done  24 tasks      | elapsed:    0.0s\n",
      "[Parallel(n_jobs=8)]: Done  25 tasks      | elapsed:    0.0s\n",
      "[Parallel(n_jobs=8)]: Done  26 tasks      | elapsed:    0.0s\n",
      "[Parallel(n_jobs=8)]: Done  27 tasks      | elapsed:    0.0s\n",
      "[Parallel(n_jobs=8)]: Done  28 tasks      | elapsed:    0.0s\n",
      "[Parallel(n_jobs=8)]: Done  29 tasks      | elapsed:    0.0s\n",
      "[Parallel(n_jobs=8)]: Done  30 tasks      | elapsed:    0.0s\n",
      "[Parallel(n_jobs=8)]: Done  31 tasks      | elapsed:    0.0s\n",
      "[Parallel(n_jobs=8)]: Done  32 tasks      | elapsed:    0.0s\n",
      "[Parallel(n_jobs=8)]: Done  33 tasks      | elapsed:    0.0s\n",
      "[Parallel(n_jobs=8)]: Done  34 tasks      | elapsed:    0.0s\n",
      "[Parallel(n_jobs=8)]: Done  35 tasks      | elapsed:    0.0s\n",
      "[Parallel(n_jobs=8)]: Done  36 tasks      | elapsed:    0.0s\n",
      "[Parallel(n_jobs=8)]: Done  37 tasks      | elapsed:    0.0s\n",
      "[Parallel(n_jobs=8)]: Done  38 tasks      | elapsed:    0.0s\n",
      "[Parallel(n_jobs=8)]: Done  39 tasks      | elapsed:    0.0s\n",
      "[Parallel(n_jobs=8)]: Done  40 tasks      | elapsed:    0.0s\n",
      "[Parallel(n_jobs=8)]: Done  41 tasks      | elapsed:    0.0s\n",
      "[Parallel(n_jobs=8)]: Done  42 tasks      | elapsed:    0.0s\n",
      "[Parallel(n_jobs=8)]: Done  43 tasks      | elapsed:    0.0s\n",
      "[Parallel(n_jobs=8)]: Done  44 tasks      | elapsed:    0.0s\n"
     ]
    },
    {
     "name": "stdout",
     "output_type": "stream",
     "text": [
      "Accuracy of Random Forest classifier is: 0.621560 \n"
     ]
    },
    {
     "name": "stderr",
     "output_type": "stream",
     "text": [
      "[Parallel(n_jobs=8)]: Done  45 tasks      | elapsed:    0.0s\n",
      "[Parallel(n_jobs=8)]: Done  46 tasks      | elapsed:    0.0s\n",
      "[Parallel(n_jobs=8)]: Done  47 tasks      | elapsed:    0.0s\n",
      "[Parallel(n_jobs=8)]: Done  48 tasks      | elapsed:    0.0s\n",
      "[Parallel(n_jobs=8)]: Done  49 tasks      | elapsed:    0.0s\n",
      "[Parallel(n_jobs=8)]: Done  50 tasks      | elapsed:    0.0s\n",
      "[Parallel(n_jobs=8)]: Done  51 tasks      | elapsed:    0.0s\n",
      "[Parallel(n_jobs=8)]: Done  52 tasks      | elapsed:    0.0s\n",
      "[Parallel(n_jobs=8)]: Done  53 tasks      | elapsed:    0.0s\n",
      "[Parallel(n_jobs=8)]: Done  54 tasks      | elapsed:    0.0s\n",
      "[Parallel(n_jobs=8)]: Done  55 tasks      | elapsed:    0.0s\n",
      "[Parallel(n_jobs=8)]: Done  56 tasks      | elapsed:    0.0s\n",
      "[Parallel(n_jobs=8)]: Done  57 tasks      | elapsed:    0.0s\n",
      "[Parallel(n_jobs=8)]: Done  58 tasks      | elapsed:    0.0s\n",
      "[Parallel(n_jobs=8)]: Done  59 tasks      | elapsed:    0.0s\n",
      "[Parallel(n_jobs=8)]: Done  60 tasks      | elapsed:    0.0s\n",
      "[Parallel(n_jobs=8)]: Done  61 tasks      | elapsed:    0.0s\n",
      "[Parallel(n_jobs=8)]: Done  62 tasks      | elapsed:    0.0s\n",
      "[Parallel(n_jobs=8)]: Done  63 tasks      | elapsed:    0.0s\n",
      "[Parallel(n_jobs=8)]: Done  64 tasks      | elapsed:    0.0s\n",
      "[Parallel(n_jobs=8)]: Done  65 tasks      | elapsed:    0.0s\n",
      "[Parallel(n_jobs=8)]: Done  66 tasks      | elapsed:    0.0s\n",
      "[Parallel(n_jobs=8)]: Done  67 tasks      | elapsed:    0.0s\n",
      "[Parallel(n_jobs=8)]: Done  68 tasks      | elapsed:    0.0s\n",
      "[Parallel(n_jobs=8)]: Done  69 tasks      | elapsed:    0.0s\n",
      "[Parallel(n_jobs=8)]: Done  70 tasks      | elapsed:    0.0s\n",
      "[Parallel(n_jobs=8)]: Done  71 tasks      | elapsed:    0.0s\n",
      "[Parallel(n_jobs=8)]: Done  72 tasks      | elapsed:    0.0s\n",
      "[Parallel(n_jobs=8)]: Done  73 tasks      | elapsed:    0.0s\n",
      "[Parallel(n_jobs=8)]: Done  74 tasks      | elapsed:    0.0s\n",
      "[Parallel(n_jobs=8)]: Done  75 tasks      | elapsed:    0.1s\n",
      "[Parallel(n_jobs=8)]: Done  76 tasks      | elapsed:    0.1s\n",
      "[Parallel(n_jobs=8)]: Done  77 tasks      | elapsed:    0.1s\n",
      "[Parallel(n_jobs=8)]: Done  78 tasks      | elapsed:    0.1s\n",
      "[Parallel(n_jobs=8)]: Done  79 tasks      | elapsed:    0.1s\n",
      "[Parallel(n_jobs=8)]: Done  80 tasks      | elapsed:    0.1s\n",
      "[Parallel(n_jobs=8)]: Done  81 tasks      | elapsed:    0.1s\n",
      "[Parallel(n_jobs=8)]: Done  82 tasks      | elapsed:    0.1s\n",
      "[Parallel(n_jobs=8)]: Done  83 tasks      | elapsed:    0.1s\n",
      "[Parallel(n_jobs=8)]: Done  84 tasks      | elapsed:    0.1s\n",
      "[Parallel(n_jobs=8)]: Done  85 tasks      | elapsed:    0.1s\n",
      "[Parallel(n_jobs=8)]: Done  92 out of 100 | elapsed:    0.1s remaining:    0.0s\n",
      "[Parallel(n_jobs=8)]: Done 100 out of 100 | elapsed:    0.1s finished\n"
     ]
    }
   ],
   "source": [
    "print(\"training Random Forest classifier now ...\")\n",
    "\n",
    "random_forest_classifier = RandomForestClassifier(n_estimators=100, verbose=15, n_jobs=-1).fit(X_train,y_train)\n",
    "#increase n_estimators if you face issues in training\n",
    "y_pred=random_forest_classifier.predict(X_test)\n",
    "acc=accuracy_score(y_test,y_pred)\n",
    "print('Accuracy of Random Forest classifier is: %f ' % acc)"
   ]
  },
  {
   "cell_type": "code",
   "execution_count": 9,
   "metadata": {},
   "outputs": [
    {
     "name": "stdout",
     "output_type": "stream",
     "text": [
      "current time:- 2021-04-06 01:59:19.412163\n",
      "[7.01443434e-02 2.51867448e-02 2.43313067e-02 ... 8.73053316e-05\n",
      " 8.71056770e-05 8.69992546e-05]\n",
      "0.8501592176696093\n",
      "(57697, 2000)\n",
      "(57697,)\n",
      "training SVM classifier now ...\n",
      "[LibSVM]Accuracy of SVM classifier is: 0.607556 \n",
      "current time:- 2021-04-06 05:08:50.680859\n"
     ]
    }
   ],
   "source": [
    "print(\"current time:-\", datetime.datetime.now())\n",
    "\n",
    "pca = PCA(n_components=2000)\n",
    "pComponents= pca.fit_transform(trainX)\n",
    "print(pca.explained_variance_ratio_)\n",
    "print(sum([float(x) for x in pca.explained_variance_ratio_]))\n",
    "\n",
    "X_train, X_test, y_train, y_test = train_test_split(pComponents, trainY, test_size=0.2, random_state=23)\n",
    "print(X_train.shape)\n",
    "print(y_train.shape)\n",
    "\n",
    "print(\"training SVM classifier now ...\")\n",
    "\n",
    "svm_classifier = svm.SVC(verbose=12).fit(X_train,y_train)\n",
    "y_pred = svm_classifier.predict(X_test)\n",
    "acc = accuracy_score(y_test,y_pred)\n",
    "print('Accuracy of SVM classifier is: %f ' % acc)\n",
    "print(\"current time:-\", datetime.datetime.now())"
   ]
  },
  {
   "cell_type": "code",
   "execution_count": null,
   "metadata": {},
   "outputs": [],
   "source": [
    "pca = PCA(n_components=1500)\n",
    "pComponents= pca.fit_transform(trainX)\n",
    "print(sum([float(x) for x in pca.explained_variance_ratio_]))\n",
    "\n",
    "#X_train, X_test, y_train, y_test = train_test_split(pComponents, trainY, test_size=0.15, random_state=23)"
   ]
  },
  {
   "cell_type": "code",
   "execution_count": 12,
   "metadata": {},
   "outputs": [
    {
     "name": "stdout",
     "output_type": "stream",
     "text": [
      "0.881605282561964\n",
      "training Deep Neural Network now ...\n",
      "current time:- 2021-04-05 19:46:15.355764\n",
      "Epoch 1/50\n",
      "10791/10791 [==============================] - 58s 5ms/step - loss: -16133.4768 - accuracy: 0.0195 - val_loss: -115413.3281 - val_accuracy: 0.0060\n",
      "Epoch 2/50\n",
      "10791/10791 [==============================] - 57s 5ms/step - loss: -532646.9718 - accuracy: 0.0243 - val_loss: -810780.1875 - val_accuracy: 0.0062\n",
      "Epoch 3/50\n",
      "10791/10791 [==============================] - 58s 5ms/step - loss: -2654629.8029 - accuracy: 0.0238 - val_loss: -2560511.5000 - val_accuracy: 0.0065\n",
      "Epoch 4/50\n",
      "10791/10791 [==============================] - 58s 5ms/step - loss: -7544641.7719 - accuracy: 0.0247 - val_loss: -5804017.0000 - val_accuracy: 0.0064\n",
      "Epoch 5/50\n",
      "10791/10791 [==============================] - 58s 5ms/step - loss: -15397657.3547 - accuracy: 0.0251 - val_loss: -11014126.0000 - val_accuracy: 0.0063\n",
      "Epoch 6/50\n",
      "10791/10791 [==============================] - 58s 5ms/step - loss: -28942600.1794 - accuracy: 0.0247 - val_loss: -18683492.0000 - val_accuracy: 0.0062\n",
      "Epoch 7/50\n",
      "10791/10791 [==============================] - 60s 6ms/step - loss: -48390802.5368 - accuracy: 0.0241 - val_loss: -29013706.0000 - val_accuracy: 0.0062\n",
      "Epoch 8/50\n",
      "10791/10791 [==============================] - 61s 6ms/step - loss: -75738839.5334 - accuracy: 0.0248 - val_loss: -42714924.0000 - val_accuracy: 0.0062\n",
      "Epoch 9/50\n",
      "10791/10791 [==============================] - 59s 5ms/step - loss: -118129151.9953 - accuracy: 0.0238 - val_loss: -59813180.0000 - val_accuracy: 0.0063\n",
      "Epoch 10/50\n",
      "10791/10791 [==============================] - 60s 6ms/step - loss: -145997063.5562 - accuracy: 0.0266 - val_loss: -81711160.0000 - val_accuracy: 0.0061\n",
      "Epoch 11/50\n",
      "10791/10791 [==============================] - 60s 6ms/step - loss: -209984477.0096 - accuracy: 0.0239 - val_loss: -107685712.0000 - val_accuracy: 0.0062\n",
      "Epoch 12/50\n",
      "10791/10791 [==============================] - 59s 5ms/step - loss: -260822043.9439 - accuracy: 0.0255 - val_loss: -139069312.0000 - val_accuracy: 0.0061\n",
      "Epoch 13/50\n",
      "10791/10791 [==============================] - 64s 6ms/step - loss: -336303702.3599 - accuracy: 0.0242 - val_loss: -176071008.0000 - val_accuracy: 0.0061\n",
      "Epoch 14/50\n",
      "10791/10791 [==============================] - 60s 6ms/step - loss: -447941650.8362 - accuracy: 0.0231 - val_loss: -217958848.0000 - val_accuracy: 0.0061\n",
      "Epoch 15/50\n",
      "10791/10791 [==============================] - 58s 5ms/step - loss: -549328893.5011 - accuracy: 0.0266 - val_loss: -266925504.0000 - val_accuracy: 0.0061\n",
      "Epoch 16/50\n",
      "10791/10791 [==============================] - 58s 5ms/step - loss: -653971098.7606 - accuracy: 0.0222 - val_loss: -322220288.0000 - val_accuracy: 0.0061\n",
      "Epoch 17/50\n",
      "10791/10791 [==============================] - 58s 5ms/step - loss: -813052508.3291 - accuracy: 0.0241 - val_loss: -384976160.0000 - val_accuracy: 0.0061\n",
      "Epoch 18/50\n",
      "10791/10791 [==============================] - 58s 5ms/step - loss: -944076723.7265 - accuracy: 0.0235 - val_loss: -455594272.0000 - val_accuracy: 0.0061\n",
      "Epoch 19/50\n",
      "10791/10791 [==============================] - 58s 5ms/step - loss: -1119481045.8710 - accuracy: 0.0260 - val_loss: -534597280.0000 - val_accuracy: 0.0062\n",
      "Epoch 20/50\n",
      "10791/10791 [==============================] - 58s 5ms/step - loss: -1370432171.3862 - accuracy: 0.0251 - val_loss: -621232320.0000 - val_accuracy: 0.0061\n",
      "Epoch 21/50\n",
      "10791/10791 [==============================] - 58s 5ms/step - loss: -1575221187.2261 - accuracy: 0.0235 - val_loss: -715907328.0000 - val_accuracy: 0.0062\n",
      "Epoch 22/50\n",
      "10791/10791 [==============================] - 58s 5ms/step - loss: -1778711010.3202 - accuracy: 0.0253 - val_loss: -819891968.0000 - val_accuracy: 0.0062\n",
      "Epoch 23/50\n",
      "10791/10791 [==============================] - 58s 5ms/step - loss: -1962452501.0667 - accuracy: 0.0255 - val_loss: -934208256.0000 - val_accuracy: 0.0062\n",
      "Epoch 24/50\n",
      "10791/10791 [==============================] - 58s 5ms/step - loss: -2282167472.8629 - accuracy: 0.0240 - val_loss: -1058258944.0000 - val_accuracy: 0.0062\n",
      "Epoch 25/50\n",
      "10791/10791 [==============================] - 59s 5ms/step - loss: -2597630354.4361 - accuracy: 0.0239 - val_loss: -1193002240.0000 - val_accuracy: 0.0061\n",
      "Epoch 26/50\n",
      "10791/10791 [==============================] - 58s 5ms/step - loss: -3011347488.7116 - accuracy: 0.0248 - val_loss: -1339502464.0000 - val_accuracy: 0.0061\n",
      "Epoch 27/50\n",
      "10791/10791 [==============================] - 59s 5ms/step - loss: -3247198615.7064 - accuracy: 0.0238 - val_loss: -1496125824.0000 - val_accuracy: 0.0061\n",
      "Epoch 28/50\n",
      "10791/10791 [==============================] - 58s 5ms/step - loss: -3669076936.7943 - accuracy: 0.0247 - val_loss: -1666933760.0000 - val_accuracy: 0.0061\n",
      "Epoch 29/50\n",
      "10791/10791 [==============================] - 58s 5ms/step - loss: -4060167802.8999 - accuracy: 0.0225 - val_loss: -1846774784.0000 - val_accuracy: 0.0061\n",
      "Epoch 30/50\n",
      "10791/10791 [==============================] - 58s 5ms/step - loss: -4600539997.6042 - accuracy: 0.0236 - val_loss: -2039021440.0000 - val_accuracy: 0.0061\n",
      "Epoch 31/50\n",
      "10791/10791 [==============================] - 58s 5ms/step - loss: -4786239232.2372 - accuracy: 0.0240 - val_loss: -2245826816.0000 - val_accuracy: 0.0062\n",
      "Epoch 32/50\n",
      "10791/10791 [==============================] - 58s 5ms/step - loss: -5497348258.2902 - accuracy: 0.0255 - val_loss: -2467315456.0000 - val_accuracy: 0.0061\n",
      "Epoch 33/50\n",
      "10791/10791 [==============================] - 58s 5ms/step - loss: -6036250100.1394 - accuracy: 0.0254 - val_loss: -2703858432.0000 - val_accuracy: 0.0062\n",
      "Epoch 34/50\n",
      "10791/10791 [==============================] - 58s 5ms/step - loss: -6396660041.8977 - accuracy: 0.0238 - val_loss: -2952617472.0000 - val_accuracy: 0.0061\n",
      "Epoch 35/50\n",
      "10791/10791 [==============================] - 58s 5ms/step - loss: -7134065644.5011 - accuracy: 0.0244 - val_loss: -3216587008.0000 - val_accuracy: 0.0061\n",
      "Epoch 36/50\n",
      "10791/10791 [==============================] - 58s 5ms/step - loss: -7873988662.0845 - accuracy: 0.0244 - val_loss: -3498010112.0000 - val_accuracy: 0.0061\n",
      "Epoch 37/50\n",
      "10791/10791 [==============================] - 58s 5ms/step - loss: -8635334020.4596 - accuracy: 0.0235 - val_loss: -3794379520.0000 - val_accuracy: 0.0061\n",
      "Epoch 38/50\n",
      "10791/10791 [==============================] - 58s 5ms/step - loss: -9044565936.2550 - accuracy: 0.0256 - val_loss: -4105356032.0000 - val_accuracy: 0.0061\n",
      "Epoch 39/50\n",
      "10791/10791 [==============================] - 59s 5ms/step - loss: -9964169301.2068 - accuracy: 0.0246 - val_loss: -4431773696.0000 - val_accuracy: 0.0061\n",
      "Epoch 40/50\n",
      "10791/10791 [==============================] - 59s 5ms/step - loss: -10954879311.9881 - accuracy: 0.0236 - val_loss: -4776421888.0000 - val_accuracy: 0.0061\n",
      "Epoch 41/50\n",
      "10791/10791 [==============================] - 62s 6ms/step - loss: -11807988048.2357 - accuracy: 0.0261 - val_loss: -5144710656.0000 - val_accuracy: 0.0061\n",
      "Epoch 42/50\n",
      "10791/10791 [==============================] - 62s 6ms/step - loss: -12529282550.7013 - accuracy: 0.0257 - val_loss: -5526667776.0000 - val_accuracy: 0.0062\n",
      "Epoch 43/50\n",
      "10791/10791 [==============================] - 60s 6ms/step - loss: -13585640007.4485 - accuracy: 0.0242 - val_loss: -5925711360.0000 - val_accuracy: 0.0062\n",
      "Epoch 44/50\n",
      "10791/10791 [==============================] - 63s 6ms/step - loss: -13678799984.0119 - accuracy: 0.0242 - val_loss: -6341630976.0000 - val_accuracy: 0.0062\n",
      "Epoch 45/50\n",
      "10791/10791 [==============================] - 62s 6ms/step - loss: -14866266523.3981 - accuracy: 0.0254 - val_loss: -6779515904.0000 - val_accuracy: 0.0062\n",
      "Epoch 46/50\n",
      "10791/10791 [==============================] - 63s 6ms/step - loss: -16254890051.6056 - accuracy: 0.0252 - val_loss: -7239257600.0000 - val_accuracy: 0.0062\n",
      "Epoch 47/50\n",
      "10791/10791 [==============================] - 61s 6ms/step - loss: -17974838745.8562 - accuracy: 0.0240 - val_loss: -7714190336.0000 - val_accuracy: 0.0062\n",
      "Epoch 48/50\n",
      "10791/10791 [==============================] - 62s 6ms/step - loss: -18165536298.4878 - accuracy: 0.0240 - val_loss: -8209381888.0000 - val_accuracy: 0.0062\n",
      "Epoch 49/50\n",
      "10791/10791 [==============================] - 60s 6ms/step - loss: -20571277971.6023 - accuracy: 0.0237 - val_loss: -8727871488.0000 - val_accuracy: 0.0062\n",
      "Epoch 50/50\n",
      "10791/10791 [==============================] - 62s 6ms/step - loss: -19749991291.8666 - accuracy: 0.0252 - val_loss: -9266349056.0000 - val_accuracy: 0.0061\n",
      "dict_keys(['loss', 'accuracy', 'val_loss', 'val_accuracy'])\n",
      "current time:- 2021-04-05 20:35:32.029106\n"
     ]
    },
    {
     "data": {
      "image/png": "[encoded data removed]",
      "text/plain": [
       "<Figure size 432x288 with 1 Axes>"
      ]
     },
     "metadata": {
      "needs_background": "light"
     },
     "output_type": "display_data"
    }
   ],
   "source": [
    "print(\"training Deep Neural Network now ...\")\n",
    "\n",
    "dnn_model = keras.Sequential([\n",
    "    keras.layers.Flatten(input_shape=(1500,)),\n",
    "    keras.layers.Dense(1000, activation=tf.nn.relu),\n",
    "    keras.layers.Dense(150, activation=tf.nn.relu),\n",
    "    keras.layers.Dense(1, activation=tf.nn.sigmoid),\n",
    "])\n",
    "\n",
    "dnn_model.compile(optimizer='adam', loss='binary_crossentropy', metrics=['accuracy'])\n",
    "\n",
    "print(\"current time:-\", datetime.datetime.now())\n",
    "history = dnn_model.fit(pComponents, trainY, validation_split=0.25, epochs=50, batch_size=5)\n",
    "\n",
    "# list all data in history\n",
    "print(history.history.keys())\n",
    "\n",
    "#test_loss, test_acc = dnn_model.evaluate(X_test, y_test)\n",
    "#print('Accuracy of Deep Neural Network is: %f ' % test_acc)\n",
    "print(\"current time:-\", datetime.datetime.now())\n",
    "\n",
    "# summarize history for loss\n",
    "plt.plot(history.history['loss'])\n",
    "plt.plot(history.history['val_loss'])\n",
    "plt.title('model loss')\n",
    "plt.ylabel('loss')\n",
    "plt.xlabel('epoch')\n",
    "plt.legend(['train', 'test'], loc='upper left')\n",
    "plt.show()"
   ]
  },
  {
   "cell_type": "code",
   "execution_count": null,
   "metadata": {},
   "outputs": [],
   "source": []
  }
 ],
 "metadata": {
  "kernelspec": {
   "display_name": "Python 3",
   "language": "python",
   "name": "python3"
  },
  "language_info": {
   "codemirror_mode": {
    "name": "ipython",
    "version": 3
   },
   "file_extension": ".py",
   "mimetype": "text/x-python",
   "name": "python",
   "nbconvert_exporter": "python",
   "pygments_lexer": "ipython3",
   "version": "3.8.5"
  }
 },
 "nbformat": 4,
 "nbformat_minor": 4
}
