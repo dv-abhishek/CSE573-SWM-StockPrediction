{
  "nbformat": 4,
  "nbformat_minor": 0,
  "metadata": {
    "colab": {
      "name": "FINBERT_DATASET_AAPL.ipynb",
      "provenance": [],
      "collapsed_sections": []
    },
    "kernelspec": {
      "display_name": "Python 3",
      "name": "python3"
    },
    "language_info": {
      "name": "python"
    }
  },
  "cells": [
    {
      "cell_type": "code",
      "metadata": {
        "colab": {
          "base_uri": "https://localhost:8080/"
        },
        "id": "H0-FO0cHv_Up",
        "outputId": "702b957c-1f80-4fc5-868e-2685e96d0693"
      },
      "source": [
        "pip install transformers"
      ],
      "execution_count": null,
      "outputs": [
        {
          "output_type": "stream",
          "text": [
            "Requirement already satisfied: transformers in /usr/local/lib/python3.7/dist-packages (4.4.2)\n",
            "Requirement already satisfied: requests in /usr/local/lib/python3.7/dist-packages (from transformers) (2.23.0)\n",
            "Requirement already satisfied: importlib-metadata; python_version < \"3.8\" in /usr/local/lib/python3.7/dist-packages (from transformers) (3.8.1)\n",
            "Requirement already satisfied: packaging in /usr/local/lib/python3.7/dist-packages (from transformers) (20.9)\n",
            "Requirement already satisfied: numpy>=1.17 in /usr/local/lib/python3.7/dist-packages (from transformers) (1.19.5)\n",
            "Requirement already satisfied: tqdm>=4.27 in /usr/local/lib/python3.7/dist-packages (from transformers) (4.41.1)\n",
            "Requirement already satisfied: filelock in /usr/local/lib/python3.7/dist-packages (from transformers) (3.0.12)\n",
            "Requirement already satisfied: sacremoses in /usr/local/lib/python3.7/dist-packages (from transformers) (0.0.44)\n",
            "Requirement already satisfied: regex!=2019.12.17 in /usr/local/lib/python3.7/dist-packages (from transformers) (2019.12.20)\n",
            "Requirement already satisfied: tokenizers<0.11,>=0.10.1 in /usr/local/lib/python3.7/dist-packages (from transformers) (0.10.2)\n",
            "Requirement already satisfied: certifi>=2017.4.17 in /usr/local/lib/python3.7/dist-packages (from requests->transformers) (2020.12.5)\n",
            "Requirement already satisfied: chardet<4,>=3.0.2 in /usr/local/lib/python3.7/dist-packages (from requests->transformers) (3.0.4)\n",
            "Requirement already satisfied: urllib3!=1.25.0,!=1.25.1,<1.26,>=1.21.1 in /usr/local/lib/python3.7/dist-packages (from requests->transformers) (1.24.3)\n",
            "Requirement already satisfied: idna<3,>=2.5 in /usr/local/lib/python3.7/dist-packages (from requests->transformers) (2.10)\n",
            "Requirement already satisfied: zipp>=0.5 in /usr/local/lib/python3.7/dist-packages (from importlib-metadata; python_version < \"3.8\"->transformers) (3.4.1)\n",
            "Requirement already satisfied: typing-extensions>=3.6.4; python_version < \"3.8\" in /usr/local/lib/python3.7/dist-packages (from importlib-metadata; python_version < \"3.8\"->transformers) (3.7.4.3)\n",
            "Requirement already satisfied: pyparsing>=2.0.2 in /usr/local/lib/python3.7/dist-packages (from packaging->transformers) (2.4.7)\n",
            "Requirement already satisfied: joblib in /usr/local/lib/python3.7/dist-packages (from sacremoses->transformers) (1.0.1)\n",
            "Requirement already satisfied: six in /usr/local/lib/python3.7/dist-packages (from sacremoses->transformers) (1.15.0)\n",
            "Requirement already satisfied: click in /usr/local/lib/python3.7/dist-packages (from sacremoses->transformers) (7.1.2)\n"
          ],
          "name": "stdout"
        }
      ]
    },
    {
      "cell_type": "code",
      "metadata": {
        "colab": {
          "base_uri": "https://localhost:8080/"
        },
        "id": "-C1CoCMoaSap",
        "outputId": "fb4180ea-7a0f-4486-9d87-89f07e95a6a3"
      },
      "source": [
        "import os\n",
        "import time\n",
        "import transformers as trn\n",
        "import numpy as np\n",
        "import pandas as pd\n",
        "import tensorflow as tf \n",
        "import pickle\n",
        "from transformers.trainer_utils import set_seed\n",
        "\n",
        "print(tf.config.list_physical_devices('GPU'))\n",
        "\n",
        "random_seed=4321\n",
        "\n",
        "set_seed(random_seed)"
      ],
      "execution_count": null,
      "outputs": [
        {
          "output_type": "stream",
          "text": [
            "[PhysicalDevice(name='/physical_device:GPU:0', device_type='GPU')]\n"
          ],
          "name": "stdout"
        }
      ]
    },
    {
      "cell_type": "code",
      "metadata": {
        "colab": {
          "base_uri": "https://localhost:8080/"
        },
        "id": "5IcfU89qaVcg",
        "outputId": "018811aa-9406-4590-936a-32c7f28d450e"
      },
      "source": [
        "from google.colab import drive\n",
        "drive.mount('/content/drive')"
      ],
      "execution_count": null,
      "outputs": [
        {
          "output_type": "stream",
          "text": [
            "Mounted at /content/drive\n"
          ],
          "name": "stdout"
        }
      ]
    },
    {
      "cell_type": "code",
      "metadata": {
        "id": "Pvvkf4huaSav"
      },
      "source": [
        "with open('/content/drive/MyDrive/CSE573-SWM-Data/AaplLabelledNewsData-OrderPreserved.pkl', 'rb') as f:\n",
        "    labelled_aapl_news_df = pickle.load(f)\n",
        "    \n",
        "with open('/content/drive/MyDrive/CSE573-SWM-Data/AmznLabelledNewsData-OrderPreserved.pkl', 'rb') as f:\n",
        "    labelled_amzn_news_df = pickle.load(f)"
      ],
      "execution_count": null,
      "outputs": []
    },
    {
      "cell_type": "code",
      "metadata": {
        "colab": {
          "base_uri": "https://localhost:8080/"
        },
        "id": "f6Q5MLg7aSax",
        "outputId": "100f059c-a45e-46e0-9dcf-b7d2cbeb4640"
      },
      "source": [
        "print(labelled_aapl_news_df.head(10))\n",
        "print(labelled_amzn_news_df.head(10))"
      ],
      "execution_count": null,
      "outputs": [
        {
          "output_type": "stream",
          "text": [
            "       news_timestamp  ... label\n",
            "0 2017-12-07 20:00:00  ...    -1\n",
            "1 2017-12-08 21:37:00  ...     1\n",
            "2 2017-12-12 01:55:00  ...     1\n",
            "3 2017-12-12 22:10:00  ...     1\n",
            "4 2017-12-14 11:42:00  ...     1\n",
            "5 2017-12-14 12:31:00  ...     1\n",
            "6 2017-12-15 02:32:00  ...     1\n",
            "7 2017-12-15 12:04:00  ...     1\n",
            "8 2017-12-18 20:05:00  ...    -1\n",
            "9 2017-12-21 00:00:00  ...     1\n",
            "\n",
            "[10 rows x 5 columns]\n",
            "       news_timestamp  ... label\n",
            "0 2017-12-15 12:04:00  ...     1\n",
            "1 2017-12-21 12:04:00  ...    -1\n",
            "2 2017-12-21 12:27:00  ...    -1\n",
            "3 2017-12-22 00:00:00  ...     1\n",
            "4 2017-12-22 20:57:00  ...     1\n",
            "5 2017-12-27 00:00:00  ...    -1\n",
            "6 2017-12-27 11:43:00  ...    -1\n",
            "7 2017-12-28 00:00:00  ...    -1\n",
            "8 2017-12-28 11:39:00  ...    -1\n",
            "9 2017-12-28 11:39:00  ...    -1\n",
            "\n",
            "[10 rows x 5 columns]\n"
          ],
          "name": "stdout"
        }
      ]
    },
    {
      "cell_type": "code",
      "metadata": {
        "colab": {
          "base_uri": "https://localhost:8080/"
        },
        "id": "VALuicRMaSay",
        "outputId": "329d7375-cbe5-468c-859a-ff95ec8ad843"
      },
      "source": [
        "columns = ['merged_tokens']\n",
        "corpus_aapl = []\n",
        "corpus_amzn = []\n",
        "\n",
        "#can try to vectorize this\n",
        "for index, row in labelled_aapl_news_df.iterrows():\n",
        "    corpus_aapl.append(' '.join(row['tokens']))\n",
        "    if index % 10000 == 0:\n",
        "        print(\"Completed %d rows for apple\" % index)\n",
        "    \n",
        "for index, row in labelled_amzn_news_df.iterrows():\n",
        "    corpus_amzn.append(' '.join(row['tokens']))\n",
        "    if index % 5000 == 0:\n",
        "        print(\"Completed %d rows for amazon\" % index)"
      ],
      "execution_count": null,
      "outputs": [
        {
          "output_type": "stream",
          "text": [
            "Completed 0 rows for apple\n",
            "Completed 10000 rows for apple\n",
            "Completed 20000 rows for apple\n",
            "Completed 30000 rows for apple\n",
            "Completed 40000 rows for apple\n",
            "Completed 50000 rows for apple\n",
            "Completed 60000 rows for apple\n",
            "Completed 70000 rows for apple\n",
            "Completed 0 rows for amazon\n",
            "Completed 5000 rows for amazon\n",
            "Completed 10000 rows for amazon\n",
            "Completed 15000 rows for amazon\n"
          ],
          "name": "stdout"
        }
      ]
    },
    {
      "cell_type": "code",
      "metadata": {
        "id": "34Wc9wpwaSaz"
      },
      "source": [
        "aapl_news = pd.DataFrame(corpus_aapl, columns = ['sentences'])\n",
        "amzn_news = pd.DataFrame(corpus_amzn, columns = ['sentences'])"
      ],
      "execution_count": null,
      "outputs": []
    },
    {
      "cell_type": "code",
      "metadata": {
        "id": "K-fbvmuCaSaz"
      },
      "source": [
        "amzn_news['labels'] = labelled_amzn_news_df['label']"
      ],
      "execution_count": null,
      "outputs": []
    },
    {
      "cell_type": "code",
      "metadata": {
        "id": "ymARXc9xaSaz"
      },
      "source": [
        "aapl_news['labels'] = labelled_aapl_news_df['label']"
      ],
      "execution_count": null,
      "outputs": []
    },
    {
      "cell_type": "code",
      "metadata": {
        "colab": {
          "base_uri": "https://localhost:8080/"
        },
        "id": "e3MwgDycaSaz",
        "outputId": "1aba2dbd-8629-499f-98e0-74959a4f28c6"
      },
      "source": [
        "print(aapl_news)"
      ],
      "execution_count": null,
      "outputs": [
        {
          "output_type": "stream",
          "text": [
            "                                               sentences labels\n",
            "0      nape summit also annual luncheon tom speaker n...     -1\n",
            "1      huge x comeback tour follow note big year best...      1\n",
            "2      browser os ad server make first move competito...      1\n",
            "3                humanitarian place conflict free region      1\n",
            "4                                          prefer invest      1\n",
            "...                                                  ...    ...\n",
            "71936                                         deem store      1\n",
            "71937                deem use key develop tool day later      1\n",
            "71938  tweet trader share trade tuesday stock track h...      1\n",
            "71939  obtain intern memo tri spin led block defend u...      1\n",
            "71940  correct stock predict post test learn past yea...      1\n",
            "\n",
            "[71941 rows x 2 columns]\n"
          ],
          "name": "stdout"
        }
      ]
    },
    {
      "cell_type": "code",
      "metadata": {
        "colab": {
          "base_uri": "https://localhost:8080/"
        },
        "id": "n_MDFGvldjIK",
        "outputId": "fcd10427-d0fb-44a6-e149-a36ab9be58dc"
      },
      "source": [
        "max(aapl_news['sentences'].str.len())"
      ],
      "execution_count": null,
      "outputs": [
        {
          "output_type": "execute_result",
          "data": {
            "text/plain": [
              "2816"
            ]
          },
          "metadata": {
            "tags": []
          },
          "execution_count": 38
        }
      ]
    },
    {
      "cell_type": "code",
      "metadata": {
        "colab": {
          "base_uri": "https://localhost:8080/"
        },
        "id": "ZS_O2eJyczdx",
        "outputId": "ab2d4daa-72a6-4090-bd1c-2d3226a0947c"
      },
      "source": [
        "aapl_news.sentences.str.len().max()"
      ],
      "execution_count": null,
      "outputs": [
        {
          "output_type": "execute_result",
          "data": {
            "text/plain": [
              "2816"
            ]
          },
          "metadata": {
            "tags": []
          },
          "execution_count": 13
        }
      ]
    },
    {
      "cell_type": "code",
      "metadata": {
        "colab": {
          "base_uri": "https://localhost:8080/"
        },
        "id": "oUOjqZycbrFb",
        "outputId": "cb98cc79-f94c-446c-a872-66dc45b6300e"
      },
      "source": [
        "pip install transformers"
      ],
      "execution_count": null,
      "outputs": [
        {
          "output_type": "stream",
          "text": [
            "Collecting transformers\n",
            "\u001b[?25l  Downloading https://files.pythonhosted.org/packages/ed/d5/f4157a376b8a79489a76ce6cfe147f4f3be1e029b7144fa7b8432e8acb26/transformers-4.4.2-py3-none-any.whl (2.0MB)\n",
            "\u001b[K     |████████████████████████████████| 2.0MB 17.0MB/s \n",
            "\u001b[?25hRequirement already satisfied: numpy>=1.17 in /usr/local/lib/python3.7/dist-packages (from transformers) (1.19.5)\n",
            "Requirement already satisfied: tqdm>=4.27 in /usr/local/lib/python3.7/dist-packages (from transformers) (4.41.1)\n",
            "Requirement already satisfied: importlib-metadata; python_version < \"3.8\" in /usr/local/lib/python3.7/dist-packages (from transformers) (3.8.1)\n",
            "Requirement already satisfied: packaging in /usr/local/lib/python3.7/dist-packages (from transformers) (20.9)\n",
            "Collecting tokenizers<0.11,>=0.10.1\n",
            "\u001b[?25l  Downloading https://files.pythonhosted.org/packages/71/23/2ddc317b2121117bf34dd00f5b0de194158f2a44ee2bf5e47c7166878a97/tokenizers-0.10.1-cp37-cp37m-manylinux2010_x86_64.whl (3.2MB)\n",
            "\u001b[K     |████████████████████████████████| 3.2MB 56.9MB/s \n",
            "\u001b[?25hRequirement already satisfied: filelock in /usr/local/lib/python3.7/dist-packages (from transformers) (3.0.12)\n",
            "Requirement already satisfied: requests in /usr/local/lib/python3.7/dist-packages (from transformers) (2.23.0)\n",
            "Collecting sacremoses\n",
            "\u001b[?25l  Downloading https://files.pythonhosted.org/packages/08/cd/342e584ee544d044fb573ae697404ce22ede086c9e87ce5960772084cad0/sacremoses-0.0.44.tar.gz (862kB)\n",
            "\u001b[K     |████████████████████████████████| 870kB 51.4MB/s \n",
            "\u001b[?25hRequirement already satisfied: regex!=2019.12.17 in /usr/local/lib/python3.7/dist-packages (from transformers) (2019.12.20)\n",
            "Requirement already satisfied: zipp>=0.5 in /usr/local/lib/python3.7/dist-packages (from importlib-metadata; python_version < \"3.8\"->transformers) (3.4.1)\n",
            "Requirement already satisfied: typing-extensions>=3.6.4; python_version < \"3.8\" in /usr/local/lib/python3.7/dist-packages (from importlib-metadata; python_version < \"3.8\"->transformers) (3.7.4.3)\n",
            "Requirement already satisfied: pyparsing>=2.0.2 in /usr/local/lib/python3.7/dist-packages (from packaging->transformers) (2.4.7)\n",
            "Requirement already satisfied: chardet<4,>=3.0.2 in /usr/local/lib/python3.7/dist-packages (from requests->transformers) (3.0.4)\n",
            "Requirement already satisfied: urllib3!=1.25.0,!=1.25.1,<1.26,>=1.21.1 in /usr/local/lib/python3.7/dist-packages (from requests->transformers) (1.24.3)\n",
            "Requirement already satisfied: idna<3,>=2.5 in /usr/local/lib/python3.7/dist-packages (from requests->transformers) (2.10)\n",
            "Requirement already satisfied: certifi>=2017.4.17 in /usr/local/lib/python3.7/dist-packages (from requests->transformers) (2020.12.5)\n",
            "Requirement already satisfied: six in /usr/local/lib/python3.7/dist-packages (from sacremoses->transformers) (1.15.0)\n",
            "Requirement already satisfied: click in /usr/local/lib/python3.7/dist-packages (from sacremoses->transformers) (7.1.2)\n",
            "Requirement already satisfied: joblib in /usr/local/lib/python3.7/dist-packages (from sacremoses->transformers) (1.0.1)\n",
            "Building wheels for collected packages: sacremoses\n",
            "  Building wheel for sacremoses (setup.py) ... \u001b[?25l\u001b[?25hdone\n",
            "  Created wheel for sacremoses: filename=sacremoses-0.0.44-cp37-none-any.whl size=886084 sha256=e41823c88e00afb10b47cea6b02f02c91a1cb9807bf238ead9246705ce719055\n",
            "  Stored in directory: /root/.cache/pip/wheels/3e/fb/c0/13ab4d63d537658f448366744654323077c4d90069b6512f3c\n",
            "Successfully built sacremoses\n",
            "Installing collected packages: tokenizers, sacremoses, transformers\n",
            "Successfully installed sacremoses-0.0.44 tokenizers-0.10.1 transformers-4.4.2\n"
          ],
          "name": "stdout"
        }
      ]
    },
    {
      "cell_type": "code",
      "metadata": {
        "id": "8hVOtrl0aSa0"
      },
      "source": [
        "from transformers import BertTokenizer, TFBertModel"
      ],
      "execution_count": null,
      "outputs": []
    },
    {
      "cell_type": "code",
      "metadata": {
        "id": "JfoUWMzGaSa0"
      },
      "source": [
        "tokenizer_class = {}\n",
        "model_class = {}"
      ],
      "execution_count": null,
      "outputs": []
    },
    {
      "cell_type": "code",
      "metadata": {
        "id": "AM74tFAbaSa0"
      },
      "source": [
        "tokenizer_class['finbert'] = BertTokenizer.from_pretrained('/content/drive/MyDrive/data/fin_vocab')"
      ],
      "execution_count": null,
      "outputs": []
    },
    {
      "cell_type": "code",
      "metadata": {
        "colab": {
          "base_uri": "https://localhost:8080/"
        },
        "id": "19KkUdJRU74G",
        "outputId": "a733dfab-e844-4979-d3ae-8240a405a97d"
      },
      "source": [
        "aapl_news['sentences'][1:10]"
      ],
      "execution_count": null,
      "outputs": [
        {
          "output_type": "execute_result",
          "data": {
            "text/plain": [
              "1    huge x comeback tour follow note big year best...\n",
              "2    browser os ad server make first move competito...\n",
              "3              humanitarian place conflict free region\n",
              "4                                        prefer invest\n",
              "5    invest good news fund new job refurbish close ...\n",
              "6    park made new invest four transact cisco partn...\n",
              "7    amazon soon sell pull e platform two year ago ...\n",
              "8    said pandora p sirius cumulus player radio aud...\n",
              "9    read earn north america may start gain speed s...\n",
              "Name: sentences, dtype: object"
            ]
          },
          "metadata": {
            "tags": []
          },
          "execution_count": 159
        }
      ]
    },
    {
      "cell_type": "code",
      "metadata": {
        "id": "nEuW20Unwk-I"
      },
      "source": [
        "aapl_sample = aapl_news.head()"
      ],
      "execution_count": null,
      "outputs": []
    },
    {
      "cell_type": "code",
      "metadata": {
        "colab": {
          "base_uri": "https://localhost:8080/"
        },
        "id": "N2gc0TofwoTE",
        "outputId": "49215a88-af3d-4a34-f974-1bf6b6fbe7c7"
      },
      "source": [
        "print(aapl_sample)"
      ],
      "execution_count": null,
      "outputs": [
        {
          "output_type": "stream",
          "text": [
            "                                           sentences labels\n",
            "0  nape summit also annual luncheon tom speaker n...     -1\n",
            "1  huge x comeback tour follow note big year best...      1\n",
            "2  browser os ad server make first move competito...      1\n",
            "3            humanitarian place conflict free region      1\n",
            "4                                      prefer invest      1\n"
          ],
          "name": "stdout"
        }
      ]
    },
    {
      "cell_type": "code",
      "metadata": {
        "id": "-98X23Ul1UyZ"
      },
      "source": [
        "encoded_ids_list = []\n",
        "encoded_tokens_list = []"
      ],
      "execution_count": null,
      "outputs": []
    },
    {
      "cell_type": "code",
      "metadata": {
        "id": "ChJFG_VL1GGU"
      },
      "source": [
        "for text in aapl_news['sentences']:\n",
        "    encoded_ids = tokenizer_class['finbert'](text, return_tensors='tf')\n",
        "    encoded_ids_list.append(encoded_ids)\n",
        "    #print(encode_ids_list)\n",
        "    encoded_tokens = tokenizer_class['finbert'].convert_ids_to_tokens(encoded_ids['input_ids'].numpy()[0])\n",
        "    #print(type(encoded_tokens))\n",
        "    encoded_tokens_list.append(encoded_tokens)"
      ],
      "execution_count": null,
      "outputs": []
    },
    {
      "cell_type": "code",
      "metadata": {
        "colab": {
          "base_uri": "https://localhost:8080/"
        },
        "id": "GHmEPJbjcLrS",
        "outputId": "18308a06-cfab-4b3a-fe29-fbd8adfb8bde"
      },
      "source": [
        "len(encoded_ids_list)"
      ],
      "execution_count": null,
      "outputs": [
        {
          "output_type": "execute_result",
          "data": {
            "text/plain": [
              "71941"
            ]
          },
          "metadata": {
            "tags": []
          },
          "execution_count": 164
        }
      ]
    },
    {
      "cell_type": "code",
      "metadata": {
        "colab": {
          "base_uri": "https://localhost:8080/",
          "height": 402
        },
        "id": "xjC32HPqc1It",
        "outputId": "4eb7b29f-8bb5-49cf-f8c1-47fb918ab177"
      },
      "source": [
        "encoded_ids_df = pd.DataFrame(encoded_ids_list)\n",
        "encoded_ids_df"
      ],
      "execution_count": null,
      "outputs": [
        {
          "output_type": "execute_result",
          "data": {
            "text/html": [
              "<div>\n",
              "<style scoped>\n",
              "    .dataframe tbody tr th:only-of-type {\n",
              "        vertical-align: middle;\n",
              "    }\n",
              "\n",
              "    .dataframe tbody tr th {\n",
              "        vertical-align: top;\n",
              "    }\n",
              "\n",
              "    .dataframe thead th {\n",
              "        text-align: right;\n",
              "    }\n",
              "</style>\n",
              "<table border=\"1\" class=\"dataframe\">\n",
              "  <thead>\n",
              "    <tr style=\"text-align: right;\">\n",
              "      <th></th>\n",
              "      <th>attention_mask</th>\n",
              "      <th>input_ids</th>\n",
              "      <th>token_type_ids</th>\n",
              "    </tr>\n",
              "  </thead>\n",
              "  <tbody>\n",
              "    <tr>\n",
              "      <th>0</th>\n",
              "      <td>((tf.Tensor(1, shape=(), dtype=int32), tf.Tens...</td>\n",
              "      <td>((tf.Tensor(3, shape=(), dtype=int32), tf.Tens...</td>\n",
              "      <td>((tf.Tensor(0, shape=(), dtype=int32), tf.Tens...</td>\n",
              "    </tr>\n",
              "    <tr>\n",
              "      <th>1</th>\n",
              "      <td>((tf.Tensor(1, shape=(), dtype=int32), tf.Tens...</td>\n",
              "      <td>((tf.Tensor(3, shape=(), dtype=int32), tf.Tens...</td>\n",
              "      <td>((tf.Tensor(0, shape=(), dtype=int32), tf.Tens...</td>\n",
              "    </tr>\n",
              "    <tr>\n",
              "      <th>2</th>\n",
              "      <td>((tf.Tensor(1, shape=(), dtype=int32), tf.Tens...</td>\n",
              "      <td>((tf.Tensor(3, shape=(), dtype=int32), tf.Tens...</td>\n",
              "      <td>((tf.Tensor(0, shape=(), dtype=int32), tf.Tens...</td>\n",
              "    </tr>\n",
              "    <tr>\n",
              "      <th>3</th>\n",
              "      <td>((tf.Tensor(1, shape=(), dtype=int32), tf.Tens...</td>\n",
              "      <td>((tf.Tensor(3, shape=(), dtype=int32), tf.Tens...</td>\n",
              "      <td>((tf.Tensor(0, shape=(), dtype=int32), tf.Tens...</td>\n",
              "    </tr>\n",
              "    <tr>\n",
              "      <th>4</th>\n",
              "      <td>((tf.Tensor(1, shape=(), dtype=int32), tf.Tens...</td>\n",
              "      <td>((tf.Tensor(3, shape=(), dtype=int32), tf.Tens...</td>\n",
              "      <td>((tf.Tensor(0, shape=(), dtype=int32), tf.Tens...</td>\n",
              "    </tr>\n",
              "    <tr>\n",
              "      <th>...</th>\n",
              "      <td>...</td>\n",
              "      <td>...</td>\n",
              "      <td>...</td>\n",
              "    </tr>\n",
              "    <tr>\n",
              "      <th>71936</th>\n",
              "      <td>((tf.Tensor(1, shape=(), dtype=int32), tf.Tens...</td>\n",
              "      <td>((tf.Tensor(3, shape=(), dtype=int32), tf.Tens...</td>\n",
              "      <td>((tf.Tensor(0, shape=(), dtype=int32), tf.Tens...</td>\n",
              "    </tr>\n",
              "    <tr>\n",
              "      <th>71937</th>\n",
              "      <td>((tf.Tensor(1, shape=(), dtype=int32), tf.Tens...</td>\n",
              "      <td>((tf.Tensor(3, shape=(), dtype=int32), tf.Tens...</td>\n",
              "      <td>((tf.Tensor(0, shape=(), dtype=int32), tf.Tens...</td>\n",
              "    </tr>\n",
              "    <tr>\n",
              "      <th>71938</th>\n",
              "      <td>((tf.Tensor(1, shape=(), dtype=int32), tf.Tens...</td>\n",
              "      <td>((tf.Tensor(3, shape=(), dtype=int32), tf.Tens...</td>\n",
              "      <td>((tf.Tensor(0, shape=(), dtype=int32), tf.Tens...</td>\n",
              "    </tr>\n",
              "    <tr>\n",
              "      <th>71939</th>\n",
              "      <td>((tf.Tensor(1, shape=(), dtype=int32), tf.Tens...</td>\n",
              "      <td>((tf.Tensor(3, shape=(), dtype=int32), tf.Tens...</td>\n",
              "      <td>((tf.Tensor(0, shape=(), dtype=int32), tf.Tens...</td>\n",
              "    </tr>\n",
              "    <tr>\n",
              "      <th>71940</th>\n",
              "      <td>((tf.Tensor(1, shape=(), dtype=int32), tf.Tens...</td>\n",
              "      <td>((tf.Tensor(3, shape=(), dtype=int32), tf.Tens...</td>\n",
              "      <td>((tf.Tensor(0, shape=(), dtype=int32), tf.Tens...</td>\n",
              "    </tr>\n",
              "  </tbody>\n",
              "</table>\n",
              "<p>71941 rows × 3 columns</p>\n",
              "</div>"
            ],
            "text/plain": [
              "                                          attention_mask  ...                                     token_type_ids\n",
              "0      ((tf.Tensor(1, shape=(), dtype=int32), tf.Tens...  ...  ((tf.Tensor(0, shape=(), dtype=int32), tf.Tens...\n",
              "1      ((tf.Tensor(1, shape=(), dtype=int32), tf.Tens...  ...  ((tf.Tensor(0, shape=(), dtype=int32), tf.Tens...\n",
              "2      ((tf.Tensor(1, shape=(), dtype=int32), tf.Tens...  ...  ((tf.Tensor(0, shape=(), dtype=int32), tf.Tens...\n",
              "3      ((tf.Tensor(1, shape=(), dtype=int32), tf.Tens...  ...  ((tf.Tensor(0, shape=(), dtype=int32), tf.Tens...\n",
              "4      ((tf.Tensor(1, shape=(), dtype=int32), tf.Tens...  ...  ((tf.Tensor(0, shape=(), dtype=int32), tf.Tens...\n",
              "...                                                  ...  ...                                                ...\n",
              "71936  ((tf.Tensor(1, shape=(), dtype=int32), tf.Tens...  ...  ((tf.Tensor(0, shape=(), dtype=int32), tf.Tens...\n",
              "71937  ((tf.Tensor(1, shape=(), dtype=int32), tf.Tens...  ...  ((tf.Tensor(0, shape=(), dtype=int32), tf.Tens...\n",
              "71938  ((tf.Tensor(1, shape=(), dtype=int32), tf.Tens...  ...  ((tf.Tensor(0, shape=(), dtype=int32), tf.Tens...\n",
              "71939  ((tf.Tensor(1, shape=(), dtype=int32), tf.Tens...  ...  ((tf.Tensor(0, shape=(), dtype=int32), tf.Tens...\n",
              "71940  ((tf.Tensor(1, shape=(), dtype=int32), tf.Tens...  ...  ((tf.Tensor(0, shape=(), dtype=int32), tf.Tens...\n",
              "\n",
              "[71941 rows x 3 columns]"
            ]
          },
          "metadata": {
            "tags": []
          },
          "execution_count": 165
        }
      ]
    },
    {
      "cell_type": "code",
      "metadata": {
        "id": "M3hhh268dUhD"
      },
      "source": [
        "encoded_ids_df.to_pickle('/content/drive/MyDrive/encoded_ids_fin.pkl')"
      ],
      "execution_count": null,
      "outputs": []
    },
    {
      "cell_type": "code",
      "metadata": {
        "colab": {
          "base_uri": "https://localhost:8080/"
        },
        "id": "l5zCmo1JaSa0",
        "outputId": "9408cbe2-09cd-40b8-d479-f6ce0109f426"
      },
      "source": [
        "model_class['finbert'] = TFBertModel.from_pretrained('/content/drive/MyDrive/models/finbert', from_pt=True)"
      ],
      "execution_count": null,
      "outputs": [
        {
          "output_type": "stream",
          "text": [
            "Some weights of the PyTorch model were not used when initializing the TF 2.0 model TFBertModel: ['cls.predictions.decoder.weight', 'cls.predictions.transform.LayerNorm.bias', 'cls.predictions.transform.dense.bias', 'cls.seq_relationship.weight', 'cls.predictions.transform.dense.weight', 'cls.predictions.transform.LayerNorm.weight', 'cls.seq_relationship.bias', 'cls.predictions.bias']\n",
            "- This IS expected if you are initializing TFBertModel from a PyTorch model trained on another task or with another architecture (e.g. initializing a TFBertForSequenceClassification model from a BertForPreTraining model).\n",
            "- This IS NOT expected if you are initializing TFBertModel from a PyTorch model that you expect to be exactly identical (e.g. initializing a TFBertForSequenceClassification model from a BertForSequenceClassification model).\n",
            "All the weights of TFBertModel were initialized from the PyTorch model.\n",
            "If your task is similar to the task the model of the checkpoint was trained on, you can already use TFBertModel for predictions without further training.\n"
          ],
          "name": "stderr"
        }
      ]
    },
    {
      "cell_type": "code",
      "metadata": {
        "id": "0u0HC2AIs0zH"
      },
      "source": [
        "def get_model_output(text, model, tokenizer):\n",
        "    \"\"\" Generate the model output for a given text \"\"\"\n",
        "    # [CLS] is automatically added by the tokenizer\n",
        "    encoded_input = tokenizer(text, return_tensors='tf')\n",
        "    output = model(encoded_input)\n",
        "    return output"
      ],
      "execution_count": null,
      "outputs": []
    },
    {
      "cell_type": "code",
      "metadata": {
        "id": "S2fMqfhTe_Te"
      },
      "source": [
        "0:1001 ---> 1001 --> f\n",
        "1001: 4003 --> 3002 --> features_two\n",
        "4003:7004 --> 3001 --> features_three\n",
        "7004:10005 --> 3001 --> features_four\n",
        "10005:13006 --> 3001 --> features_five\n",
        "13006:18007 --> 5001 --> features_six\n",
        "18007:25001 --> 6994    --> features_sev\n",
        "25001:35002 --> 10001 --> features_eight\n",
        "35002:45003 --> 10001 --> features_nine\n",
        "45003:55004 --> 10001 --> features_ten\n",
        "55004:65005 --> 10001 --> features_eleven\n",
        "65005:71941 -->       --> features_twelve\n"
      ],
      "execution_count": null,
      "outputs": []
    },
    {
      "cell_type": "code",
      "metadata": {
        "colab": {
          "base_uri": "https://localhost:8080/"
        },
        "id": "jV4Wbx5j0a5L",
        "outputId": "86c732a1-d526-4122-c36d-9fbc748f1244"
      },
      "source": [
        "output_list = []\n",
        "print(output_list)"
      ],
      "execution_count": null,
      "outputs": [
        {
          "output_type": "stream",
          "text": [
            "[]\n"
          ],
          "name": "stdout"
        }
      ]
    },
    {
      "cell_type": "code",
      "metadata": {
        "colab": {
          "base_uri": "https://localhost:8080/"
        },
        "id": "9jZrIJNngDif",
        "outputId": "f06ef425-6834-4794-e9a4-a304bf119798"
      },
      "source": [
        "for text in aapl_news['sentences'][65005:71941]:\n",
        "    output = get_model_output(text, model_class['finbert'], tokenizer_class['finbert'])\n",
        "    output_list.append(output)\n",
        "    \n",
        "# Checking various attributes of the final output\n",
        "print(output.pooler_output.shape)\n",
        "#print(output.last_hidden_state.shape)\n",
        "#print(output.attentions.shape)\n",
        "print(len(output_list))\n",
        "#for i in output_list:\n",
        "#    print(i.pooler_output.shape) "
      ],
      "execution_count": null,
      "outputs": [
        {
          "output_type": "stream",
          "text": [
            "(1, 768)\n",
            "6936\n"
          ],
          "name": "stdout"
        }
      ]
    },
    {
      "cell_type": "code",
      "metadata": {
        "colab": {
          "base_uri": "https://localhost:8080/"
        },
        "id": "nJcB6PJybNip",
        "outputId": "4ca9cfd7-a0bc-4d16-9d5c-f56f729557d1"
      },
      "source": [
        "print(len(output_list))"
      ],
      "execution_count": null,
      "outputs": [
        {
          "output_type": "stream",
          "text": [
            "1001\n"
          ],
          "name": "stdout"
        }
      ]
    },
    {
      "cell_type": "code",
      "metadata": {
        "id": "dye3yP18czSt"
      },
      "source": [
        "features = pd.DataFrame(output_list)"
      ],
      "execution_count": null,
      "outputs": []
    },
    {
      "cell_type": "code",
      "metadata": {
        "colab": {
          "base_uri": "https://localhost:8080/"
        },
        "id": "F5o1QUS4c9jV",
        "outputId": "599f14eb-883e-422f-bda0-4f5cdf296a82"
      },
      "source": [
        "print(features)"
      ],
      "execution_count": null,
      "outputs": [
        {
          "output_type": "stream",
          "text": [
            "                                      last_hidden_state  ... attentions\n",
            "0     (((tf.Tensor(0.84315795, shape=(), dtype=float...  ...       None\n",
            "1     (((tf.Tensor(0.2291574, shape=(), dtype=float3...  ...       None\n",
            "2     (((tf.Tensor(-0.025799029, shape=(), dtype=flo...  ...       None\n",
            "3     (((tf.Tensor(-0.1316198, shape=(), dtype=float...  ...       None\n",
            "4     (((tf.Tensor(-0.09950562, shape=(), dtype=floa...  ...       None\n",
            "...                                                 ...  ...        ...\n",
            "996   (((tf.Tensor(0.2838955, shape=(), dtype=float3...  ...       None\n",
            "997   (((tf.Tensor(0.4969926, shape=(), dtype=float3...  ...       None\n",
            "998   (((tf.Tensor(0.1430857, shape=(), dtype=float3...  ...       None\n",
            "999   (((tf.Tensor(-0.06504179, shape=(), dtype=floa...  ...       None\n",
            "1000  (((tf.Tensor(1.1982353, shape=(), dtype=float3...  ...       None\n",
            "\n",
            "[1001 rows x 4 columns]\n"
          ],
          "name": "stdout"
        }
      ]
    },
    {
      "cell_type": "code",
      "metadata": {
        "id": "OV2AMQ7SdXgf"
      },
      "source": [
        "pooler_output_list = []"
      ],
      "execution_count": null,
      "outputs": []
    },
    {
      "cell_type": "code",
      "metadata": {
        "colab": {
          "base_uri": "https://localhost:8080/"
        },
        "id": "LlaYLSt9Tbrz",
        "outputId": "5095f2b9-30a7-4729-9904-81fc46a7b203"
      },
      "source": [
        "for items in output_list:\n",
        "  pooler_output_list.append(items.pooler_output.numpy())\n",
        "\n",
        "#print(pooler_output_list[1])\n",
        "len(pooler_output_list)\n",
        "#numpy_ar = output_list[0].pooler_output.numpy()\n"
      ],
      "execution_count": null,
      "outputs": [
        {
          "output_type": "execute_result",
          "data": {
            "text/plain": [
              "6936"
            ]
          },
          "metadata": {
            "tags": []
          },
          "execution_count": 310
        }
      ]
    },
    {
      "cell_type": "code",
      "metadata": {
        "colab": {
          "base_uri": "https://localhost:8080/"
        },
        "id": "Flz95kiEbmj6",
        "outputId": "1bd2aee7-a6f5-4aff-c093-c563e54d79cf"
      },
      "source": [
        "pooler_output_list[1].shape"
      ],
      "execution_count": null,
      "outputs": [
        {
          "output_type": "execute_result",
          "data": {
            "text/plain": [
              "(1, 768)"
            ]
          },
          "metadata": {
            "tags": []
          },
          "execution_count": 72
        }
      ]
    },
    {
      "cell_type": "code",
      "metadata": {
        "id": "SsIMr9AEc0oO"
      },
      "source": [
        "features_tw = pd.DataFrame()"
      ],
      "execution_count": null,
      "outputs": []
    },
    {
      "cell_type": "code",
      "metadata": {
        "colab": {
          "base_uri": "https://localhost:8080/",
          "height": 31
        },
        "id": "0MOLmsoGZ5j7",
        "outputId": "5452922a-f8a8-47f8-f6ac-b27ce0c59292"
      },
      "source": [
        "features_tw"
      ],
      "execution_count": null,
      "outputs": [
        {
          "output_type": "execute_result",
          "data": {
            "text/html": [
              "<div>\n",
              "<style scoped>\n",
              "    .dataframe tbody tr th:only-of-type {\n",
              "        vertical-align: middle;\n",
              "    }\n",
              "\n",
              "    .dataframe tbody tr th {\n",
              "        vertical-align: top;\n",
              "    }\n",
              "\n",
              "    .dataframe thead th {\n",
              "        text-align: right;\n",
              "    }\n",
              "</style>\n",
              "<table border=\"1\" class=\"dataframe\">\n",
              "  <thead>\n",
              "    <tr style=\"text-align: right;\">\n",
              "      <th></th>\n",
              "    </tr>\n",
              "  </thead>\n",
              "  <tbody>\n",
              "  </tbody>\n",
              "</table>\n",
              "</div>"
            ],
            "text/plain": [
              "Empty DataFrame\n",
              "Columns: []\n",
              "Index: []"
            ]
          },
          "metadata": {
            "tags": []
          },
          "execution_count": 312
        }
      ]
    },
    {
      "cell_type": "code",
      "metadata": {
        "id": "8jQzfLPVcqWn"
      },
      "source": [
        "for items in pooler_output_list:\n",
        "  features_tw = features_tw.append(pd.DataFrame(items), ignore_index= True)\n",
        "\n"
      ],
      "execution_count": null,
      "outputs": []
    },
    {
      "cell_type": "code",
      "metadata": {
        "colab": {
          "base_uri": "https://localhost:8080/",
          "height": 422
        },
        "id": "oMQuGpTUaZNo",
        "outputId": "16c53f72-8186-403a-9843-226afc83e36b"
      },
      "source": [
        "features_tw"
      ],
      "execution_count": null,
      "outputs": [
        {
          "output_type": "execute_result",
          "data": {
            "text/html": [
              "<div>\n",
              "<style scoped>\n",
              "    .dataframe tbody tr th:only-of-type {\n",
              "        vertical-align: middle;\n",
              "    }\n",
              "\n",
              "    .dataframe tbody tr th {\n",
              "        vertical-align: top;\n",
              "    }\n",
              "\n",
              "    .dataframe thead th {\n",
              "        text-align: right;\n",
              "    }\n",
              "</style>\n",
              "<table border=\"1\" class=\"dataframe\">\n",
              "  <thead>\n",
              "    <tr style=\"text-align: right;\">\n",
              "      <th></th>\n",
              "      <th>0</th>\n",
              "      <th>1</th>\n",
              "      <th>2</th>\n",
              "      <th>3</th>\n",
              "      <th>4</th>\n",
              "      <th>5</th>\n",
              "      <th>6</th>\n",
              "      <th>7</th>\n",
              "      <th>8</th>\n",
              "      <th>9</th>\n",
              "      <th>10</th>\n",
              "      <th>11</th>\n",
              "      <th>12</th>\n",
              "      <th>13</th>\n",
              "      <th>14</th>\n",
              "      <th>15</th>\n",
              "      <th>16</th>\n",
              "      <th>17</th>\n",
              "      <th>18</th>\n",
              "      <th>19</th>\n",
              "      <th>20</th>\n",
              "      <th>21</th>\n",
              "      <th>22</th>\n",
              "      <th>23</th>\n",
              "      <th>24</th>\n",
              "      <th>25</th>\n",
              "      <th>26</th>\n",
              "      <th>27</th>\n",
              "      <th>28</th>\n",
              "      <th>29</th>\n",
              "      <th>30</th>\n",
              "      <th>31</th>\n",
              "      <th>32</th>\n",
              "      <th>33</th>\n",
              "      <th>34</th>\n",
              "      <th>35</th>\n",
              "      <th>36</th>\n",
              "      <th>37</th>\n",
              "      <th>38</th>\n",
              "      <th>39</th>\n",
              "      <th>...</th>\n",
              "      <th>728</th>\n",
              "      <th>729</th>\n",
              "      <th>730</th>\n",
              "      <th>731</th>\n",
              "      <th>732</th>\n",
              "      <th>733</th>\n",
              "      <th>734</th>\n",
              "      <th>735</th>\n",
              "      <th>736</th>\n",
              "      <th>737</th>\n",
              "      <th>738</th>\n",
              "      <th>739</th>\n",
              "      <th>740</th>\n",
              "      <th>741</th>\n",
              "      <th>742</th>\n",
              "      <th>743</th>\n",
              "      <th>744</th>\n",
              "      <th>745</th>\n",
              "      <th>746</th>\n",
              "      <th>747</th>\n",
              "      <th>748</th>\n",
              "      <th>749</th>\n",
              "      <th>750</th>\n",
              "      <th>751</th>\n",
              "      <th>752</th>\n",
              "      <th>753</th>\n",
              "      <th>754</th>\n",
              "      <th>755</th>\n",
              "      <th>756</th>\n",
              "      <th>757</th>\n",
              "      <th>758</th>\n",
              "      <th>759</th>\n",
              "      <th>760</th>\n",
              "      <th>761</th>\n",
              "      <th>762</th>\n",
              "      <th>763</th>\n",
              "      <th>764</th>\n",
              "      <th>765</th>\n",
              "      <th>766</th>\n",
              "      <th>767</th>\n",
              "    </tr>\n",
              "  </thead>\n",
              "  <tbody>\n",
              "    <tr>\n",
              "      <th>0</th>\n",
              "      <td>0.992519</td>\n",
              "      <td>0.162391</td>\n",
              "      <td>-0.999795</td>\n",
              "      <td>0.706420</td>\n",
              "      <td>0.933451</td>\n",
              "      <td>0.401218</td>\n",
              "      <td>-0.961831</td>\n",
              "      <td>-0.149847</td>\n",
              "      <td>0.999060</td>\n",
              "      <td>-0.232698</td>\n",
              "      <td>0.121431</td>\n",
              "      <td>0.863439</td>\n",
              "      <td>-0.999933</td>\n",
              "      <td>-0.007186</td>\n",
              "      <td>-0.043103</td>\n",
              "      <td>0.047057</td>\n",
              "      <td>-0.150552</td>\n",
              "      <td>-0.008027</td>\n",
              "      <td>-0.299268</td>\n",
              "      <td>-0.968755</td>\n",
              "      <td>0.221582</td>\n",
              "      <td>0.993981</td>\n",
              "      <td>0.999986</td>\n",
              "      <td>0.932122</td>\n",
              "      <td>0.562211</td>\n",
              "      <td>0.999990</td>\n",
              "      <td>0.995873</td>\n",
              "      <td>-0.048188</td>\n",
              "      <td>0.066478</td>\n",
              "      <td>0.047830</td>\n",
              "      <td>0.214891</td>\n",
              "      <td>0.355612</td>\n",
              "      <td>0.109028</td>\n",
              "      <td>-0.324649</td>\n",
              "      <td>-0.077918</td>\n",
              "      <td>0.999925</td>\n",
              "      <td>-0.226519</td>\n",
              "      <td>-0.147049</td>\n",
              "      <td>0.123917</td>\n",
              "      <td>0.179057</td>\n",
              "      <td>...</td>\n",
              "      <td>0.210639</td>\n",
              "      <td>0.035975</td>\n",
              "      <td>-0.999829</td>\n",
              "      <td>-0.144361</td>\n",
              "      <td>-0.154900</td>\n",
              "      <td>0.037330</td>\n",
              "      <td>0.152969</td>\n",
              "      <td>0.047440</td>\n",
              "      <td>0.304120</td>\n",
              "      <td>0.078779</td>\n",
              "      <td>0.231826</td>\n",
              "      <td>0.117461</td>\n",
              "      <td>-0.063812</td>\n",
              "      <td>0.424873</td>\n",
              "      <td>0.999985</td>\n",
              "      <td>-0.982603</td>\n",
              "      <td>-0.177264</td>\n",
              "      <td>0.177069</td>\n",
              "      <td>0.038038</td>\n",
              "      <td>-0.019516</td>\n",
              "      <td>-0.997425</td>\n",
              "      <td>-0.998444</td>\n",
              "      <td>-0.394916</td>\n",
              "      <td>0.792626</td>\n",
              "      <td>-0.055630</td>\n",
              "      <td>-0.076407</td>\n",
              "      <td>0.998449</td>\n",
              "      <td>-0.999859</td>\n",
              "      <td>0.980598</td>\n",
              "      <td>-0.240181</td>\n",
              "      <td>0.157679</td>\n",
              "      <td>-0.114261</td>\n",
              "      <td>-0.945299</td>\n",
              "      <td>0.154400</td>\n",
              "      <td>0.330171</td>\n",
              "      <td>-0.104870</td>\n",
              "      <td>-0.993522</td>\n",
              "      <td>0.876691</td>\n",
              "      <td>0.962474</td>\n",
              "      <td>-0.020555</td>\n",
              "    </tr>\n",
              "    <tr>\n",
              "      <th>1</th>\n",
              "      <td>0.998427</td>\n",
              "      <td>0.223063</td>\n",
              "      <td>-0.995576</td>\n",
              "      <td>0.886130</td>\n",
              "      <td>0.655030</td>\n",
              "      <td>0.606384</td>\n",
              "      <td>-0.960571</td>\n",
              "      <td>-0.009474</td>\n",
              "      <td>0.998343</td>\n",
              "      <td>-0.194857</td>\n",
              "      <td>0.125635</td>\n",
              "      <td>0.983134</td>\n",
              "      <td>-0.999014</td>\n",
              "      <td>-0.023436</td>\n",
              "      <td>-0.227324</td>\n",
              "      <td>0.070896</td>\n",
              "      <td>-0.109216</td>\n",
              "      <td>-0.025605</td>\n",
              "      <td>-0.083169</td>\n",
              "      <td>-0.984666</td>\n",
              "      <td>-0.009526</td>\n",
              "      <td>0.998770</td>\n",
              "      <td>0.999993</td>\n",
              "      <td>0.979310</td>\n",
              "      <td>-0.078207</td>\n",
              "      <td>0.999999</td>\n",
              "      <td>0.997064</td>\n",
              "      <td>0.126618</td>\n",
              "      <td>0.230820</td>\n",
              "      <td>0.124092</td>\n",
              "      <td>0.039584</td>\n",
              "      <td>0.295741</td>\n",
              "      <td>-0.231607</td>\n",
              "      <td>-0.269251</td>\n",
              "      <td>0.106118</td>\n",
              "      <td>0.999997</td>\n",
              "      <td>-0.141759</td>\n",
              "      <td>-0.008067</td>\n",
              "      <td>0.163639</td>\n",
              "      <td>-0.011901</td>\n",
              "      <td>...</td>\n",
              "      <td>-0.028399</td>\n",
              "      <td>-0.062131</td>\n",
              "      <td>-0.999983</td>\n",
              "      <td>-0.225753</td>\n",
              "      <td>-0.221161</td>\n",
              "      <td>0.009844</td>\n",
              "      <td>0.054524</td>\n",
              "      <td>-0.119893</td>\n",
              "      <td>0.529306</td>\n",
              "      <td>-0.202766</td>\n",
              "      <td>0.143812</td>\n",
              "      <td>-0.047916</td>\n",
              "      <td>-0.212078</td>\n",
              "      <td>0.053727</td>\n",
              "      <td>0.999998</td>\n",
              "      <td>-0.995530</td>\n",
              "      <td>-0.033023</td>\n",
              "      <td>-0.011080</td>\n",
              "      <td>-0.173867</td>\n",
              "      <td>-0.044845</td>\n",
              "      <td>-0.966912</td>\n",
              "      <td>-0.993743</td>\n",
              "      <td>-0.077215</td>\n",
              "      <td>0.170830</td>\n",
              "      <td>-0.037026</td>\n",
              "      <td>0.091869</td>\n",
              "      <td>0.999614</td>\n",
              "      <td>-0.998443</td>\n",
              "      <td>0.691898</td>\n",
              "      <td>0.144321</td>\n",
              "      <td>-0.370477</td>\n",
              "      <td>0.413160</td>\n",
              "      <td>-0.757180</td>\n",
              "      <td>-0.167172</td>\n",
              "      <td>0.001184</td>\n",
              "      <td>-0.240944</td>\n",
              "      <td>-0.903791</td>\n",
              "      <td>0.890541</td>\n",
              "      <td>0.539551</td>\n",
              "      <td>-0.060881</td>\n",
              "    </tr>\n",
              "    <tr>\n",
              "      <th>2</th>\n",
              "      <td>0.994161</td>\n",
              "      <td>0.321198</td>\n",
              "      <td>-0.816173</td>\n",
              "      <td>0.919914</td>\n",
              "      <td>0.384275</td>\n",
              "      <td>0.540132</td>\n",
              "      <td>0.058804</td>\n",
              "      <td>-0.013137</td>\n",
              "      <td>0.885211</td>\n",
              "      <td>-0.396692</td>\n",
              "      <td>-0.132781</td>\n",
              "      <td>0.974505</td>\n",
              "      <td>-0.983142</td>\n",
              "      <td>0.063994</td>\n",
              "      <td>-0.155593</td>\n",
              "      <td>-0.068041</td>\n",
              "      <td>-0.032636</td>\n",
              "      <td>-0.120653</td>\n",
              "      <td>-0.218149</td>\n",
              "      <td>-0.244029</td>\n",
              "      <td>-0.825965</td>\n",
              "      <td>0.999340</td>\n",
              "      <td>0.999980</td>\n",
              "      <td>0.793501</td>\n",
              "      <td>-0.350607</td>\n",
              "      <td>0.999993</td>\n",
              "      <td>0.906058</td>\n",
              "      <td>0.188085</td>\n",
              "      <td>0.126897</td>\n",
              "      <td>-0.144923</td>\n",
              "      <td>-0.007987</td>\n",
              "      <td>0.183489</td>\n",
              "      <td>-0.055392</td>\n",
              "      <td>-0.323950</td>\n",
              "      <td>0.002088</td>\n",
              "      <td>0.999986</td>\n",
              "      <td>0.005737</td>\n",
              "      <td>-0.066776</td>\n",
              "      <td>0.259358</td>\n",
              "      <td>-0.345393</td>\n",
              "      <td>...</td>\n",
              "      <td>0.269924</td>\n",
              "      <td>-0.094626</td>\n",
              "      <td>-0.999658</td>\n",
              "      <td>-0.419525</td>\n",
              "      <td>-0.061353</td>\n",
              "      <td>-0.192084</td>\n",
              "      <td>0.097201</td>\n",
              "      <td>0.263564</td>\n",
              "      <td>0.349031</td>\n",
              "      <td>-0.125898</td>\n",
              "      <td>0.409266</td>\n",
              "      <td>0.179921</td>\n",
              "      <td>-0.094777</td>\n",
              "      <td>0.335740</td>\n",
              "      <td>0.999984</td>\n",
              "      <td>-0.995990</td>\n",
              "      <td>-0.070235</td>\n",
              "      <td>0.342876</td>\n",
              "      <td>0.152105</td>\n",
              "      <td>-0.120379</td>\n",
              "      <td>-0.835088</td>\n",
              "      <td>-0.987900</td>\n",
              "      <td>0.561285</td>\n",
              "      <td>-0.556340</td>\n",
              "      <td>-0.080919</td>\n",
              "      <td>0.031692</td>\n",
              "      <td>0.999371</td>\n",
              "      <td>-0.964137</td>\n",
              "      <td>-0.249547</td>\n",
              "      <td>-0.280774</td>\n",
              "      <td>-0.339678</td>\n",
              "      <td>0.233878</td>\n",
              "      <td>-0.159580</td>\n",
              "      <td>0.084612</td>\n",
              "      <td>0.582453</td>\n",
              "      <td>-0.298648</td>\n",
              "      <td>-0.947983</td>\n",
              "      <td>-0.787903</td>\n",
              "      <td>0.088152</td>\n",
              "      <td>0.061869</td>\n",
              "    </tr>\n",
              "    <tr>\n",
              "      <th>3</th>\n",
              "      <td>0.999371</td>\n",
              "      <td>0.219726</td>\n",
              "      <td>-0.997043</td>\n",
              "      <td>0.915737</td>\n",
              "      <td>0.938324</td>\n",
              "      <td>0.354740</td>\n",
              "      <td>-0.957634</td>\n",
              "      <td>-0.268375</td>\n",
              "      <td>0.999538</td>\n",
              "      <td>-0.217264</td>\n",
              "      <td>0.056975</td>\n",
              "      <td>0.988587</td>\n",
              "      <td>-0.999717</td>\n",
              "      <td>-0.187608</td>\n",
              "      <td>-0.343832</td>\n",
              "      <td>-0.242380</td>\n",
              "      <td>-0.182141</td>\n",
              "      <td>-0.213708</td>\n",
              "      <td>-0.082080</td>\n",
              "      <td>-0.993839</td>\n",
              "      <td>-0.621489</td>\n",
              "      <td>0.998463</td>\n",
              "      <td>0.999993</td>\n",
              "      <td>0.993565</td>\n",
              "      <td>0.274817</td>\n",
              "      <td>0.999999</td>\n",
              "      <td>0.992998</td>\n",
              "      <td>-0.145593</td>\n",
              "      <td>0.121217</td>\n",
              "      <td>0.110130</td>\n",
              "      <td>0.168326</td>\n",
              "      <td>0.203767</td>\n",
              "      <td>-0.052538</td>\n",
              "      <td>-0.374700</td>\n",
              "      <td>0.117248</td>\n",
              "      <td>0.999992</td>\n",
              "      <td>-0.117724</td>\n",
              "      <td>0.057206</td>\n",
              "      <td>0.186188</td>\n",
              "      <td>0.070009</td>\n",
              "      <td>...</td>\n",
              "      <td>0.144663</td>\n",
              "      <td>0.153909</td>\n",
              "      <td>-0.999984</td>\n",
              "      <td>0.014434</td>\n",
              "      <td>-0.201309</td>\n",
              "      <td>0.103748</td>\n",
              "      <td>0.454853</td>\n",
              "      <td>-0.148085</td>\n",
              "      <td>0.231351</td>\n",
              "      <td>-0.135903</td>\n",
              "      <td>0.319238</td>\n",
              "      <td>-0.353717</td>\n",
              "      <td>-0.275320</td>\n",
              "      <td>0.300979</td>\n",
              "      <td>0.999997</td>\n",
              "      <td>-0.995446</td>\n",
              "      <td>0.079092</td>\n",
              "      <td>0.097596</td>\n",
              "      <td>-0.081836</td>\n",
              "      <td>0.125831</td>\n",
              "      <td>-0.993797</td>\n",
              "      <td>-0.999350</td>\n",
              "      <td>0.250811</td>\n",
              "      <td>0.577524</td>\n",
              "      <td>0.291716</td>\n",
              "      <td>0.015052</td>\n",
              "      <td>0.999796</td>\n",
              "      <td>-0.997346</td>\n",
              "      <td>0.957175</td>\n",
              "      <td>0.029973</td>\n",
              "      <td>-0.373495</td>\n",
              "      <td>0.207088</td>\n",
              "      <td>-0.736161</td>\n",
              "      <td>-0.228284</td>\n",
              "      <td>0.186568</td>\n",
              "      <td>-0.198086</td>\n",
              "      <td>-0.998501</td>\n",
              "      <td>0.974117</td>\n",
              "      <td>0.696353</td>\n",
              "      <td>0.042173</td>\n",
              "    </tr>\n",
              "    <tr>\n",
              "      <th>4</th>\n",
              "      <td>0.993550</td>\n",
              "      <td>0.305345</td>\n",
              "      <td>-0.912007</td>\n",
              "      <td>0.907005</td>\n",
              "      <td>0.632525</td>\n",
              "      <td>0.571457</td>\n",
              "      <td>-0.423483</td>\n",
              "      <td>-0.126026</td>\n",
              "      <td>0.955551</td>\n",
              "      <td>-0.438697</td>\n",
              "      <td>-0.118068</td>\n",
              "      <td>0.962295</td>\n",
              "      <td>-0.991873</td>\n",
              "      <td>0.034294</td>\n",
              "      <td>-0.167381</td>\n",
              "      <td>-0.028453</td>\n",
              "      <td>-0.070761</td>\n",
              "      <td>-0.309965</td>\n",
              "      <td>-0.215995</td>\n",
              "      <td>-0.594724</td>\n",
              "      <td>-0.621415</td>\n",
              "      <td>0.998913</td>\n",
              "      <td>0.999979</td>\n",
              "      <td>0.859973</td>\n",
              "      <td>0.037916</td>\n",
              "      <td>0.999994</td>\n",
              "      <td>0.941473</td>\n",
              "      <td>0.270936</td>\n",
              "      <td>0.262307</td>\n",
              "      <td>-0.129448</td>\n",
              "      <td>-0.058142</td>\n",
              "      <td>0.169341</td>\n",
              "      <td>-0.095812</td>\n",
              "      <td>-0.230890</td>\n",
              "      <td>0.017832</td>\n",
              "      <td>0.999986</td>\n",
              "      <td>-0.088987</td>\n",
              "      <td>-0.143221</td>\n",
              "      <td>0.230168</td>\n",
              "      <td>-0.249851</td>\n",
              "      <td>...</td>\n",
              "      <td>0.291229</td>\n",
              "      <td>0.049619</td>\n",
              "      <td>-0.999662</td>\n",
              "      <td>-0.472734</td>\n",
              "      <td>-0.055766</td>\n",
              "      <td>-0.153096</td>\n",
              "      <td>0.162398</td>\n",
              "      <td>0.231830</td>\n",
              "      <td>0.463658</td>\n",
              "      <td>-0.015155</td>\n",
              "      <td>0.258997</td>\n",
              "      <td>0.189534</td>\n",
              "      <td>-0.151412</td>\n",
              "      <td>0.261290</td>\n",
              "      <td>0.999989</td>\n",
              "      <td>-0.994307</td>\n",
              "      <td>-0.032350</td>\n",
              "      <td>0.385127</td>\n",
              "      <td>0.029546</td>\n",
              "      <td>-0.164645</td>\n",
              "      <td>-0.867400</td>\n",
              "      <td>-0.993389</td>\n",
              "      <td>0.589913</td>\n",
              "      <td>-0.205017</td>\n",
              "      <td>-0.041609</td>\n",
              "      <td>-0.014329</td>\n",
              "      <td>0.999375</td>\n",
              "      <td>-0.982083</td>\n",
              "      <td>0.273481</td>\n",
              "      <td>-0.367955</td>\n",
              "      <td>-0.335302</td>\n",
              "      <td>0.289080</td>\n",
              "      <td>-0.352723</td>\n",
              "      <td>0.062957</td>\n",
              "      <td>0.617641</td>\n",
              "      <td>-0.410121</td>\n",
              "      <td>-0.979374</td>\n",
              "      <td>-0.378132</td>\n",
              "      <td>0.499100</td>\n",
              "      <td>0.008253</td>\n",
              "    </tr>\n",
              "    <tr>\n",
              "      <th>...</th>\n",
              "      <td>...</td>\n",
              "      <td>...</td>\n",
              "      <td>...</td>\n",
              "      <td>...</td>\n",
              "      <td>...</td>\n",
              "      <td>...</td>\n",
              "      <td>...</td>\n",
              "      <td>...</td>\n",
              "      <td>...</td>\n",
              "      <td>...</td>\n",
              "      <td>...</td>\n",
              "      <td>...</td>\n",
              "      <td>...</td>\n",
              "      <td>...</td>\n",
              "      <td>...</td>\n",
              "      <td>...</td>\n",
              "      <td>...</td>\n",
              "      <td>...</td>\n",
              "      <td>...</td>\n",
              "      <td>...</td>\n",
              "      <td>...</td>\n",
              "      <td>...</td>\n",
              "      <td>...</td>\n",
              "      <td>...</td>\n",
              "      <td>...</td>\n",
              "      <td>...</td>\n",
              "      <td>...</td>\n",
              "      <td>...</td>\n",
              "      <td>...</td>\n",
              "      <td>...</td>\n",
              "      <td>...</td>\n",
              "      <td>...</td>\n",
              "      <td>...</td>\n",
              "      <td>...</td>\n",
              "      <td>...</td>\n",
              "      <td>...</td>\n",
              "      <td>...</td>\n",
              "      <td>...</td>\n",
              "      <td>...</td>\n",
              "      <td>...</td>\n",
              "      <td>...</td>\n",
              "      <td>...</td>\n",
              "      <td>...</td>\n",
              "      <td>...</td>\n",
              "      <td>...</td>\n",
              "      <td>...</td>\n",
              "      <td>...</td>\n",
              "      <td>...</td>\n",
              "      <td>...</td>\n",
              "      <td>...</td>\n",
              "      <td>...</td>\n",
              "      <td>...</td>\n",
              "      <td>...</td>\n",
              "      <td>...</td>\n",
              "      <td>...</td>\n",
              "      <td>...</td>\n",
              "      <td>...</td>\n",
              "      <td>...</td>\n",
              "      <td>...</td>\n",
              "      <td>...</td>\n",
              "      <td>...</td>\n",
              "      <td>...</td>\n",
              "      <td>...</td>\n",
              "      <td>...</td>\n",
              "      <td>...</td>\n",
              "      <td>...</td>\n",
              "      <td>...</td>\n",
              "      <td>...</td>\n",
              "      <td>...</td>\n",
              "      <td>...</td>\n",
              "      <td>...</td>\n",
              "      <td>...</td>\n",
              "      <td>...</td>\n",
              "      <td>...</td>\n",
              "      <td>...</td>\n",
              "      <td>...</td>\n",
              "      <td>...</td>\n",
              "      <td>...</td>\n",
              "      <td>...</td>\n",
              "      <td>...</td>\n",
              "      <td>...</td>\n",
              "    </tr>\n",
              "    <tr>\n",
              "      <th>6931</th>\n",
              "      <td>0.998674</td>\n",
              "      <td>-0.340337</td>\n",
              "      <td>-0.998431</td>\n",
              "      <td>-0.388076</td>\n",
              "      <td>0.915215</td>\n",
              "      <td>0.133936</td>\n",
              "      <td>-0.961845</td>\n",
              "      <td>-0.319299</td>\n",
              "      <td>0.983921</td>\n",
              "      <td>-0.288765</td>\n",
              "      <td>-0.224779</td>\n",
              "      <td>0.824314</td>\n",
              "      <td>-0.999540</td>\n",
              "      <td>-0.121808</td>\n",
              "      <td>-0.260595</td>\n",
              "      <td>-0.109558</td>\n",
              "      <td>-0.203178</td>\n",
              "      <td>0.342054</td>\n",
              "      <td>-0.189470</td>\n",
              "      <td>-0.992582</td>\n",
              "      <td>0.578316</td>\n",
              "      <td>0.996166</td>\n",
              "      <td>0.999902</td>\n",
              "      <td>0.992600</td>\n",
              "      <td>0.026838</td>\n",
              "      <td>0.999939</td>\n",
              "      <td>0.953629</td>\n",
              "      <td>-0.243915</td>\n",
              "      <td>-0.217893</td>\n",
              "      <td>-0.058403</td>\n",
              "      <td>-0.174243</td>\n",
              "      <td>-0.090586</td>\n",
              "      <td>0.374999</td>\n",
              "      <td>-0.066060</td>\n",
              "      <td>0.252598</td>\n",
              "      <td>0.999851</td>\n",
              "      <td>-0.293970</td>\n",
              "      <td>-0.124841</td>\n",
              "      <td>0.246327</td>\n",
              "      <td>-0.031342</td>\n",
              "      <td>...</td>\n",
              "      <td>0.286636</td>\n",
              "      <td>0.051191</td>\n",
              "      <td>-0.999097</td>\n",
              "      <td>-0.490069</td>\n",
              "      <td>0.285022</td>\n",
              "      <td>0.259077</td>\n",
              "      <td>0.253033</td>\n",
              "      <td>-0.152027</td>\n",
              "      <td>0.220746</td>\n",
              "      <td>0.347892</td>\n",
              "      <td>0.095403</td>\n",
              "      <td>-0.099248</td>\n",
              "      <td>-0.107950</td>\n",
              "      <td>0.101651</td>\n",
              "      <td>0.999894</td>\n",
              "      <td>-0.992340</td>\n",
              "      <td>-0.119125</td>\n",
              "      <td>0.302744</td>\n",
              "      <td>-0.007852</td>\n",
              "      <td>-0.167676</td>\n",
              "      <td>-0.988436</td>\n",
              "      <td>-0.999672</td>\n",
              "      <td>-0.236328</td>\n",
              "      <td>0.975177</td>\n",
              "      <td>0.551421</td>\n",
              "      <td>0.282300</td>\n",
              "      <td>0.999086</td>\n",
              "      <td>-0.999718</td>\n",
              "      <td>0.897668</td>\n",
              "      <td>-0.247356</td>\n",
              "      <td>-0.418696</td>\n",
              "      <td>0.490814</td>\n",
              "      <td>-0.415965</td>\n",
              "      <td>0.437055</td>\n",
              "      <td>0.350798</td>\n",
              "      <td>0.157768</td>\n",
              "      <td>-0.996883</td>\n",
              "      <td>0.945994</td>\n",
              "      <td>0.154084</td>\n",
              "      <td>0.163874</td>\n",
              "    </tr>\n",
              "    <tr>\n",
              "      <th>6932</th>\n",
              "      <td>0.994378</td>\n",
              "      <td>0.271104</td>\n",
              "      <td>-0.999224</td>\n",
              "      <td>0.358950</td>\n",
              "      <td>0.807616</td>\n",
              "      <td>0.081014</td>\n",
              "      <td>-0.989338</td>\n",
              "      <td>-0.097414</td>\n",
              "      <td>0.998691</td>\n",
              "      <td>-0.290639</td>\n",
              "      <td>0.025652</td>\n",
              "      <td>0.862736</td>\n",
              "      <td>-0.999985</td>\n",
              "      <td>-0.306527</td>\n",
              "      <td>0.163857</td>\n",
              "      <td>0.348081</td>\n",
              "      <td>-0.131496</td>\n",
              "      <td>0.206262</td>\n",
              "      <td>-0.195477</td>\n",
              "      <td>-0.988881</td>\n",
              "      <td>0.680405</td>\n",
              "      <td>0.990474</td>\n",
              "      <td>0.999973</td>\n",
              "      <td>0.999315</td>\n",
              "      <td>0.786453</td>\n",
              "      <td>0.999957</td>\n",
              "      <td>0.998975</td>\n",
              "      <td>-0.100827</td>\n",
              "      <td>0.159515</td>\n",
              "      <td>0.258665</td>\n",
              "      <td>0.016283</td>\n",
              "      <td>0.048920</td>\n",
              "      <td>-0.112513</td>\n",
              "      <td>-0.299242</td>\n",
              "      <td>0.112621</td>\n",
              "      <td>0.999883</td>\n",
              "      <td>0.182384</td>\n",
              "      <td>0.068707</td>\n",
              "      <td>0.114747</td>\n",
              "      <td>0.143196</td>\n",
              "      <td>...</td>\n",
              "      <td>0.139599</td>\n",
              "      <td>-0.322639</td>\n",
              "      <td>-0.999556</td>\n",
              "      <td>-0.016635</td>\n",
              "      <td>-0.023825</td>\n",
              "      <td>-0.167174</td>\n",
              "      <td>-0.393911</td>\n",
              "      <td>0.016763</td>\n",
              "      <td>0.358408</td>\n",
              "      <td>-0.220468</td>\n",
              "      <td>0.143624</td>\n",
              "      <td>0.155154</td>\n",
              "      <td>0.208886</td>\n",
              "      <td>0.263509</td>\n",
              "      <td>0.999966</td>\n",
              "      <td>-0.996243</td>\n",
              "      <td>0.218377</td>\n",
              "      <td>-0.026056</td>\n",
              "      <td>-0.207885</td>\n",
              "      <td>0.105160</td>\n",
              "      <td>-0.998886</td>\n",
              "      <td>-0.999584</td>\n",
              "      <td>-0.682347</td>\n",
              "      <td>0.915635</td>\n",
              "      <td>0.213795</td>\n",
              "      <td>-0.088223</td>\n",
              "      <td>0.996672</td>\n",
              "      <td>-0.999951</td>\n",
              "      <td>0.992825</td>\n",
              "      <td>0.019535</td>\n",
              "      <td>-0.028757</td>\n",
              "      <td>-0.328802</td>\n",
              "      <td>-0.949490</td>\n",
              "      <td>0.180049</td>\n",
              "      <td>0.187216</td>\n",
              "      <td>-0.068773</td>\n",
              "      <td>-0.994193</td>\n",
              "      <td>0.920226</td>\n",
              "      <td>0.980206</td>\n",
              "      <td>0.042602</td>\n",
              "    </tr>\n",
              "    <tr>\n",
              "      <th>6933</th>\n",
              "      <td>0.997230</td>\n",
              "      <td>0.166804</td>\n",
              "      <td>-0.897423</td>\n",
              "      <td>0.875233</td>\n",
              "      <td>0.336146</td>\n",
              "      <td>0.511070</td>\n",
              "      <td>-0.020668</td>\n",
              "      <td>-0.152556</td>\n",
              "      <td>0.898621</td>\n",
              "      <td>-0.199830</td>\n",
              "      <td>0.158566</td>\n",
              "      <td>0.989697</td>\n",
              "      <td>-0.996100</td>\n",
              "      <td>0.177988</td>\n",
              "      <td>0.056471</td>\n",
              "      <td>-0.202208</td>\n",
              "      <td>0.065915</td>\n",
              "      <td>-0.217649</td>\n",
              "      <td>-0.189166</td>\n",
              "      <td>-0.726084</td>\n",
              "      <td>-0.918338</td>\n",
              "      <td>0.999384</td>\n",
              "      <td>0.999992</td>\n",
              "      <td>0.638241</td>\n",
              "      <td>-0.276655</td>\n",
              "      <td>0.999999</td>\n",
              "      <td>0.970613</td>\n",
              "      <td>-0.051742</td>\n",
              "      <td>0.244661</td>\n",
              "      <td>-0.150682</td>\n",
              "      <td>0.018126</td>\n",
              "      <td>0.265998</td>\n",
              "      <td>-0.065808</td>\n",
              "      <td>-0.468604</td>\n",
              "      <td>0.125671</td>\n",
              "      <td>0.999994</td>\n",
              "      <td>-0.000986</td>\n",
              "      <td>-0.127254</td>\n",
              "      <td>-0.054985</td>\n",
              "      <td>-0.168967</td>\n",
              "      <td>...</td>\n",
              "      <td>0.356726</td>\n",
              "      <td>-0.105092</td>\n",
              "      <td>-0.999854</td>\n",
              "      <td>-0.374384</td>\n",
              "      <td>-0.136900</td>\n",
              "      <td>-0.233410</td>\n",
              "      <td>0.041907</td>\n",
              "      <td>0.219118</td>\n",
              "      <td>0.265580</td>\n",
              "      <td>-0.063474</td>\n",
              "      <td>0.545930</td>\n",
              "      <td>0.049912</td>\n",
              "      <td>-0.136450</td>\n",
              "      <td>0.328134</td>\n",
              "      <td>0.999994</td>\n",
              "      <td>-0.996609</td>\n",
              "      <td>0.127863</td>\n",
              "      <td>0.280418</td>\n",
              "      <td>0.216438</td>\n",
              "      <td>-0.180454</td>\n",
              "      <td>-0.980214</td>\n",
              "      <td>-0.988802</td>\n",
              "      <td>0.838360</td>\n",
              "      <td>-0.415445</td>\n",
              "      <td>0.011310</td>\n",
              "      <td>0.049075</td>\n",
              "      <td>0.999846</td>\n",
              "      <td>-0.988090</td>\n",
              "      <td>0.415557</td>\n",
              "      <td>-0.215965</td>\n",
              "      <td>-0.507820</td>\n",
              "      <td>0.050765</td>\n",
              "      <td>-0.414285</td>\n",
              "      <td>-0.127319</td>\n",
              "      <td>0.441977</td>\n",
              "      <td>-0.102775</td>\n",
              "      <td>-0.981895</td>\n",
              "      <td>-0.343067</td>\n",
              "      <td>0.064548</td>\n",
              "      <td>0.104286</td>\n",
              "    </tr>\n",
              "    <tr>\n",
              "      <th>6934</th>\n",
              "      <td>0.993905</td>\n",
              "      <td>0.219810</td>\n",
              "      <td>-0.805509</td>\n",
              "      <td>0.928771</td>\n",
              "      <td>0.137466</td>\n",
              "      <td>0.491001</td>\n",
              "      <td>0.083481</td>\n",
              "      <td>-0.111004</td>\n",
              "      <td>0.926198</td>\n",
              "      <td>-0.325032</td>\n",
              "      <td>-0.071491</td>\n",
              "      <td>0.986526</td>\n",
              "      <td>-0.969592</td>\n",
              "      <td>0.193832</td>\n",
              "      <td>-0.276164</td>\n",
              "      <td>-0.081622</td>\n",
              "      <td>0.045876</td>\n",
              "      <td>-0.137292</td>\n",
              "      <td>-0.263882</td>\n",
              "      <td>-0.084151</td>\n",
              "      <td>-0.915713</td>\n",
              "      <td>0.998889</td>\n",
              "      <td>0.999958</td>\n",
              "      <td>0.837545</td>\n",
              "      <td>-0.321077</td>\n",
              "      <td>0.999984</td>\n",
              "      <td>0.771055</td>\n",
              "      <td>0.255121</td>\n",
              "      <td>0.174802</td>\n",
              "      <td>-0.147691</td>\n",
              "      <td>0.249306</td>\n",
              "      <td>0.094806</td>\n",
              "      <td>-0.318244</td>\n",
              "      <td>-0.424799</td>\n",
              "      <td>-0.052843</td>\n",
              "      <td>0.999973</td>\n",
              "      <td>-0.182225</td>\n",
              "      <td>-0.033696</td>\n",
              "      <td>0.143649</td>\n",
              "      <td>-0.288247</td>\n",
              "      <td>...</td>\n",
              "      <td>0.206677</td>\n",
              "      <td>-0.034076</td>\n",
              "      <td>-0.999636</td>\n",
              "      <td>-0.305576</td>\n",
              "      <td>-0.163593</td>\n",
              "      <td>-0.220104</td>\n",
              "      <td>0.226838</td>\n",
              "      <td>0.089082</td>\n",
              "      <td>0.449882</td>\n",
              "      <td>-0.139288</td>\n",
              "      <td>0.442165</td>\n",
              "      <td>0.066853</td>\n",
              "      <td>-0.179245</td>\n",
              "      <td>0.330887</td>\n",
              "      <td>0.999973</td>\n",
              "      <td>-0.990190</td>\n",
              "      <td>0.209881</td>\n",
              "      <td>0.250785</td>\n",
              "      <td>0.200768</td>\n",
              "      <td>-0.124870</td>\n",
              "      <td>-0.718938</td>\n",
              "      <td>-0.978392</td>\n",
              "      <td>0.394525</td>\n",
              "      <td>-0.714982</td>\n",
              "      <td>-0.105633</td>\n",
              "      <td>0.149632</td>\n",
              "      <td>0.998610</td>\n",
              "      <td>-0.936246</td>\n",
              "      <td>-0.127116</td>\n",
              "      <td>-0.362003</td>\n",
              "      <td>-0.128046</td>\n",
              "      <td>0.045479</td>\n",
              "      <td>-0.237669</td>\n",
              "      <td>-0.170086</td>\n",
              "      <td>0.469077</td>\n",
              "      <td>-0.288613</td>\n",
              "      <td>-0.916356</td>\n",
              "      <td>-0.831444</td>\n",
              "      <td>0.085461</td>\n",
              "      <td>0.061188</td>\n",
              "    </tr>\n",
              "    <tr>\n",
              "      <th>6935</th>\n",
              "      <td>0.999627</td>\n",
              "      <td>0.050403</td>\n",
              "      <td>-0.999260</td>\n",
              "      <td>0.932814</td>\n",
              "      <td>0.426893</td>\n",
              "      <td>0.348107</td>\n",
              "      <td>-0.987881</td>\n",
              "      <td>-0.245771</td>\n",
              "      <td>0.999534</td>\n",
              "      <td>-0.112254</td>\n",
              "      <td>0.008593</td>\n",
              "      <td>0.983876</td>\n",
              "      <td>-0.999813</td>\n",
              "      <td>-0.302145</td>\n",
              "      <td>-0.035232</td>\n",
              "      <td>-0.029894</td>\n",
              "      <td>-0.400207</td>\n",
              "      <td>0.251789</td>\n",
              "      <td>-0.203674</td>\n",
              "      <td>-0.989789</td>\n",
              "      <td>0.784091</td>\n",
              "      <td>0.998803</td>\n",
              "      <td>0.999997</td>\n",
              "      <td>0.997187</td>\n",
              "      <td>0.079190</td>\n",
              "      <td>0.999999</td>\n",
              "      <td>0.999493</td>\n",
              "      <td>0.091055</td>\n",
              "      <td>0.158582</td>\n",
              "      <td>0.139110</td>\n",
              "      <td>-0.133773</td>\n",
              "      <td>-0.134256</td>\n",
              "      <td>-0.020186</td>\n",
              "      <td>-0.361149</td>\n",
              "      <td>-0.092764</td>\n",
              "      <td>0.999997</td>\n",
              "      <td>-0.164985</td>\n",
              "      <td>-0.061331</td>\n",
              "      <td>0.237278</td>\n",
              "      <td>-0.115736</td>\n",
              "      <td>...</td>\n",
              "      <td>0.353838</td>\n",
              "      <td>-0.194899</td>\n",
              "      <td>-0.999985</td>\n",
              "      <td>-0.236801</td>\n",
              "      <td>-0.052635</td>\n",
              "      <td>0.249116</td>\n",
              "      <td>0.077920</td>\n",
              "      <td>-0.046665</td>\n",
              "      <td>0.474352</td>\n",
              "      <td>0.022092</td>\n",
              "      <td>0.189746</td>\n",
              "      <td>-0.244108</td>\n",
              "      <td>-0.052588</td>\n",
              "      <td>0.441454</td>\n",
              "      <td>0.999999</td>\n",
              "      <td>-0.997505</td>\n",
              "      <td>-0.003118</td>\n",
              "      <td>-0.105291</td>\n",
              "      <td>-0.385139</td>\n",
              "      <td>0.265625</td>\n",
              "      <td>-0.984027</td>\n",
              "      <td>-0.996065</td>\n",
              "      <td>-0.701585</td>\n",
              "      <td>0.479378</td>\n",
              "      <td>0.188930</td>\n",
              "      <td>-0.030069</td>\n",
              "      <td>0.999809</td>\n",
              "      <td>-0.999285</td>\n",
              "      <td>0.922363</td>\n",
              "      <td>0.150601</td>\n",
              "      <td>-0.802958</td>\n",
              "      <td>0.314966</td>\n",
              "      <td>-0.648679</td>\n",
              "      <td>0.054197</td>\n",
              "      <td>-0.071018</td>\n",
              "      <td>-0.147294</td>\n",
              "      <td>-0.947531</td>\n",
              "      <td>0.984326</td>\n",
              "      <td>0.680379</td>\n",
              "      <td>0.052137</td>\n",
              "    </tr>\n",
              "  </tbody>\n",
              "</table>\n",
              "<p>6936 rows × 768 columns</p>\n",
              "</div>"
            ],
            "text/plain": [
              "           0         1         2    ...       765       766       767\n",
              "0     0.992519  0.162391 -0.999795  ...  0.876691  0.962474 -0.020555\n",
              "1     0.998427  0.223063 -0.995576  ...  0.890541  0.539551 -0.060881\n",
              "2     0.994161  0.321198 -0.816173  ... -0.787903  0.088152  0.061869\n",
              "3     0.999371  0.219726 -0.997043  ...  0.974117  0.696353  0.042173\n",
              "4     0.993550  0.305345 -0.912007  ... -0.378132  0.499100  0.008253\n",
              "...        ...       ...       ...  ...       ...       ...       ...\n",
              "6931  0.998674 -0.340337 -0.998431  ...  0.945994  0.154084  0.163874\n",
              "6932  0.994378  0.271104 -0.999224  ...  0.920226  0.980206  0.042602\n",
              "6933  0.997230  0.166804 -0.897423  ... -0.343067  0.064548  0.104286\n",
              "6934  0.993905  0.219810 -0.805509  ... -0.831444  0.085461  0.061188\n",
              "6935  0.999627  0.050403 -0.999260  ...  0.984326  0.680379  0.052137\n",
              "\n",
              "[6936 rows x 768 columns]"
            ]
          },
          "metadata": {
            "tags": []
          },
          "execution_count": 314
        }
      ]
    },
    {
      "cell_type": "code",
      "metadata": {
        "colab": {
          "base_uri": "https://localhost:8080/"
        },
        "id": "dfyJ6XbpZ9Oj",
        "outputId": "bfe669d7-3cf6-44c2-cf3e-d8cf3196bb84"
      },
      "source": [
        "type(features)"
      ],
      "execution_count": null,
      "outputs": [
        {
          "output_type": "execute_result",
          "data": {
            "text/plain": [
              "pandas.core.frame.DataFrame"
            ]
          },
          "metadata": {
            "tags": []
          },
          "execution_count": 62
        }
      ]
    },
    {
      "cell_type": "code",
      "metadata": {
        "id": "aNsS4q4j_ujF"
      },
      "source": [
        ""
      ],
      "execution_count": null,
      "outputs": []
    },
    {
      "cell_type": "code",
      "metadata": {
        "id": "iOpvhPr5_uV2"
      },
      "source": [
        ""
      ],
      "execution_count": null,
      "outputs": []
    }
  ]
}