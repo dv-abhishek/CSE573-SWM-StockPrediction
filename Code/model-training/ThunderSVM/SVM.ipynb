{
  "nbformat": 4,
  "nbformat_minor": 0,
  "metadata": {
    "colab": {
      "name": "SVM.ipynb",
      "provenance": []
    },
    "kernelspec": {
      "name": "python3",
      "display_name": "Python 3"
    },
    "language_info": {
      "name": "python"
    },
    "accelerator": "GPU"
  },
  "cells": [
    {
      "cell_type": "code",
      "metadata": {
        "id": "r6oIedc7UWxo"
      },
      "source": [
        "from sklearn.model_selection import train_test_split\n",
        "from sklearn.decomposition import PCA\n",
        "from sklearn.metrics import accuracy_score\n",
        "from sklearn.linear_model import LogisticRegression\n",
        "from sklearn.ensemble import RandomForestClassifier\n",
        "from sklearn import svm\n",
        "from sklearn import tree\n",
        "from tensorflow import keras\n",
        "import pickle\n",
        "import datetime\n",
        "import numpy as np\n",
        "import pandas as pd"
      ],
      "execution_count": null,
      "outputs": []
    },
    {
      "cell_type": "code",
      "metadata": {
        "colab": {
          "base_uri": "https://localhost:8080/"
        },
        "id": "9SqF2WOoXXEs",
        "outputId": "165bb11a-685c-4927-b186-cc9b389dd44c"
      },
      "source": [
        "!wget https://developer.nvidia.com/compute/cuda/9.0/Prod/local_installers/cuda-repo-ubuntu1704-9-0-local_9.0.176-1_amd64-deb"
      ],
      "execution_count": null,
      "outputs": [
        {
          "output_type": "stream",
          "text": [
            "--2021-04-07 04:14:51--  https://developer.nvidia.com/compute/cuda/9.0/Prod/local_installers/cuda-repo-ubuntu1704-9-0-local_9.0.176-1_amd64-deb\n",
            "Resolving developer.nvidia.com (developer.nvidia.com)... 152.199.0.24\n",
            "Connecting to developer.nvidia.com (developer.nvidia.com)|152.199.0.24|:443... connected.\n",
            "HTTP request sent, awaiting response... 301 Moved Permanently\n",
            "Location: https://developer.nvidia.com/compute/cuda/9.0/prod/local_installers/cuda-repo-ubuntu1704-9-0-local_9.0.176-1_amd64-deb [following]\n",
            "--2021-04-07 04:14:51--  https://developer.nvidia.com/compute/cuda/9.0/prod/local_installers/cuda-repo-ubuntu1704-9-0-local_9.0.176-1_amd64-deb\n",
            "Reusing existing connection to developer.nvidia.com:443.\n",
            "HTTP request sent, awaiting response... 302 Found\n",
            "Location: https://developer.download.nvidia.com/compute/cuda/9.0/secure/Prod/local_installers/cuda-repo-ubuntu1704-9-0-local_9.0.176-1_amd64.deb?tk1SBQTyXyuVlPvruyPhDdhJln-Kewu_Q05OmkPq2vq-fXQWAVjk9cFDf7aURpoorpimGennytDGvx40JPuAhfmtMKsisYN4mui542N5UAcCI4Lrq0QzVGy9EgL0-CtiQ1XlRUB8wE78xN9LFFU79y0lEI-HGrxBco8ewCv7IeTr0dxgsU08_gElL5mcxiWfjhwIe46WY-p5KcrTGTVS [following]\n",
            "--2021-04-07 04:14:51--  https://developer.download.nvidia.com/compute/cuda/9.0/secure/Prod/local_installers/cuda-repo-ubuntu1704-9-0-local_9.0.176-1_amd64.deb?tk1SBQTyXyuVlPvruyPhDdhJln-Kewu_Q05OmkPq2vq-fXQWAVjk9cFDf7aURpoorpimGennytDGvx40JPuAhfmtMKsisYN4mui542N5UAcCI4Lrq0QzVGy9EgL0-CtiQ1XlRUB8wE78xN9LFFU79y0lEI-HGrxBco8ewCv7IeTr0dxgsU08_gElL5mcxiWfjhwIe46WY-p5KcrTGTVS\n",
            "Resolving developer.download.nvidia.com (developer.download.nvidia.com)... 152.195.19.142\n",
            "Connecting to developer.download.nvidia.com (developer.download.nvidia.com)|152.195.19.142|:443... connected.\n",
            "HTTP request sent, awaiting response... 200 OK\n",
            "Length: 1216133170 (1.1G) [application/x-deb]\n",
            "Saving to: ‘cuda-repo-ubuntu1704-9-0-local_9.0.176-1_amd64-deb’\n",
            "\n",
            "cuda-repo-ubuntu170 100%[===================>]   1.13G   243MB/s    in 4.6s    \n",
            "\n",
            "2021-04-07 04:14:56 (249 MB/s) - ‘cuda-repo-ubuntu1704-9-0-local_9.0.176-1_amd64-deb’ saved [1216133170/1216133170]\n",
            "\n"
          ],
          "name": "stdout"
        }
      ]
    },
    {
      "cell_type": "code",
      "metadata": {
        "colab": {
          "base_uri": "https://localhost:8080/"
        },
        "id": "92LPiJBeXeGx",
        "outputId": "f00257c3-235f-4a67-fcf8-4cdc639605c8"
      },
      "source": [
        "!dpkg -i cuda-repo-ubuntu1704-9-0-local_9.0.176-1_amd64-deb"
      ],
      "execution_count": null,
      "outputs": [
        {
          "output_type": "stream",
          "text": [
            "Selecting previously unselected package cuda-repo-ubuntu1704-9-0-local.\n",
            "(Reading database ... 160980 files and directories currently installed.)\n",
            "Preparing to unpack cuda-repo-ubuntu1704-9-0-local_9.0.176-1_amd64-deb ...\n",
            "Unpacking cuda-repo-ubuntu1704-9-0-local (9.0.176-1) ...\n",
            "Setting up cuda-repo-ubuntu1704-9-0-local (9.0.176-1) ...\n"
          ],
          "name": "stdout"
        }
      ]
    },
    {
      "cell_type": "code",
      "metadata": {
        "colab": {
          "base_uri": "https://localhost:8080/"
        },
        "id": "9b0vAzPMXmF9",
        "outputId": "f6fb58d3-f596-4c86-f014-8b2334fb87ff"
      },
      "source": [
        "!ls /var/cuda-repo-9-0-local | grep .pub"
      ],
      "execution_count": null,
      "outputs": [
        {
          "output_type": "stream",
          "text": [
            "7fa2af80.pub\n"
          ],
          "name": "stdout"
        }
      ]
    },
    {
      "cell_type": "code",
      "metadata": {
        "colab": {
          "base_uri": "https://localhost:8080/"
        },
        "id": "EC-OGy6TXpe_",
        "outputId": "3fba37c7-8b95-4810-8aed-cdbee605378c"
      },
      "source": [
        "!apt-key add /var/cuda-repo-9-0-local/7fa2af80.pub"
      ],
      "execution_count": null,
      "outputs": [
        {
          "output_type": "stream",
          "text": [
            "OK\n"
          ],
          "name": "stdout"
        }
      ]
    },
    {
      "cell_type": "code",
      "metadata": {
        "colab": {
          "base_uri": "https://localhost:8080/"
        },
        "id": "0ldX3JTXXtJ6",
        "outputId": "6c07608c-172d-4a85-fa3d-f2b513e95489"
      },
      "source": [
        "!apt-get update"
      ],
      "execution_count": null,
      "outputs": [
        {
          "output_type": "stream",
          "text": [
            "\r0% [Working]\r            \rGet:1 file:/var/cuda-repo-9-0-local  InRelease\n",
            "\r0% [1 InRelease 0 B]\r                    \rIgn:1 file:/var/cuda-repo-9-0-local  InRelease\n",
            "\r                    \r0% [Working]\r            \rGet:2 file:/var/cuda-repo-9-0-local  Release [574 B]\n",
            "\r0% [Working]\r            \rGet:2 file:/var/cuda-repo-9-0-local  Release [574 B]\n",
            "\r0% [2 Release 0 B/574 B 0%] [Connecting to archive.ubuntu.com (91.189.88.142)] \r0% [Connecting to archive.ubuntu.com (91.189.88.142)] [Connecting to security.u\r                                                                               \rGet:3 file:/var/cuda-repo-9-0-local  Release.gpg [819 B]\n",
            "\r0% [Connecting to archive.ubuntu.com (91.189.88.142)] [Connecting to security.u\r                                                                               \rGet:3 file:/var/cuda-repo-9-0-local  Release.gpg [819 B]\n",
            "\r0% [3 Release.gpg 0 B/819 B 0%] [Connecting to archive.ubuntu.com (91.189.88.14\r0% [Connecting to archive.ubuntu.com (91.189.88.142)] [Connecting to security.u\r0% [3 Release.gpg gpgv 574 B] [Connecting to archive.ubuntu.com (91.189.88.142)\r                                                                               \rGet:4 https://cloud.r-project.org/bin/linux/ubuntu bionic-cran40/ InRelease [3,626 B]\n",
            "\r0% [3 Release.gpg gpgv 574 B] [Connecting to archive.ubuntu.com (91.189.88.142)\r0% [3 Release.gpg gpgv 574 B] [Connecting to archive.ubuntu.com (91.189.88.142)\r                                                                               \rIgn:5 https://developer.download.nvidia.com/compute/cuda/repos/ubuntu1804/x86_64  InRelease\n",
            "Ign:6 https://developer.download.nvidia.com/compute/machine-learning/repos/ubuntu1804/x86_64  InRelease\n",
            "Hit:7 https://developer.download.nvidia.com/compute/cuda/repos/ubuntu1804/x86_64  Release\n",
            "Hit:8 https://developer.download.nvidia.com/compute/machine-learning/repos/ubuntu1804/x86_64  Release\n",
            "Get:9 file:/var/cuda-repo-9-0-local  Packages [15.8 kB]\n",
            "Get:10 http://security.ubuntu.com/ubuntu bionic-security InRelease [88.7 kB]\n",
            "Hit:11 http://archive.ubuntu.com/ubuntu bionic InRelease\n",
            "Get:12 http://ppa.launchpad.net/c2d4u.team/c2d4u4.0+/ubuntu bionic InRelease [15.9 kB]\n",
            "Get:13 https://cloud.r-project.org/bin/linux/ubuntu bionic-cran40/ Packages [52.7 kB]\n",
            "Get:14 http://archive.ubuntu.com/ubuntu bionic-updates InRelease [88.7 kB]\n",
            "Hit:17 http://ppa.launchpad.net/cran/libgit2/ubuntu bionic InRelease\n",
            "Get:18 http://archive.ubuntu.com/ubuntu bionic-backports InRelease [74.6 kB]\n",
            "Get:19 http://ppa.launchpad.net/deadsnakes/ppa/ubuntu bionic InRelease [15.9 kB]\n",
            "Get:20 http://security.ubuntu.com/ubuntu bionic-security/universe amd64 Packages [1,402 kB]\n",
            "Hit:21 http://ppa.launchpad.net/graphics-drivers/ppa/ubuntu bionic InRelease\n",
            "Get:22 http://archive.ubuntu.com/ubuntu bionic-updates/universe amd64 Packages [2,172 kB]\n",
            "Get:23 http://ppa.launchpad.net/c2d4u.team/c2d4u4.0+/ubuntu bionic/main Sources [1,750 kB]\n",
            "Get:24 http://security.ubuntu.com/ubuntu bionic-security/main amd64 Packages [2,045 kB]\n",
            "Get:25 http://archive.ubuntu.com/ubuntu bionic-updates/main amd64 Packages [2,476 kB]\n",
            "Get:26 http://ppa.launchpad.net/c2d4u.team/c2d4u4.0+/ubuntu bionic/main amd64 Packages [895 kB]\n",
            "Get:27 http://ppa.launchpad.net/deadsnakes/ppa/ubuntu bionic/main amd64 Packages [39.5 kB]\n",
            "Fetched 11.1 MB in 4s (2,509 kB/s)\n",
            "Reading package lists... Done\n"
          ],
          "name": "stdout"
        }
      ]
    },
    {
      "cell_type": "code",
      "metadata": {
        "id": "R5Zs7ZWwXybt"
      },
      "source": [
        "!sudo apt-get install cuda-9.0"
      ],
      "execution_count": null,
      "outputs": []
    },
    {
      "cell_type": "code",
      "metadata": {
        "id": "p6tgC5otVFhX"
      },
      "source": [
        ""
      ],
      "execution_count": null,
      "outputs": []
    },
    {
      "cell_type": "code",
      "metadata": {
        "colab": {
          "base_uri": "https://localhost:8080/"
        },
        "id": "eyqw-yWLYSVz",
        "outputId": "12676521-0f2a-4484-82ea-b0542cf0d0f0"
      },
      "source": [
        "!nvcc --version"
      ],
      "execution_count": null,
      "outputs": [
        {
          "output_type": "stream",
          "text": [
            "nvcc: NVIDIA (R) Cuda compiler driver\n",
            "Copyright (c) 2005-2017 NVIDIA Corporation\n",
            "Built on Fri_Sep__1_21:08:03_CDT_2017\n",
            "Cuda compilation tools, release 9.0, V9.0.176\n"
          ],
          "name": "stdout"
        }
      ]
    },
    {
      "cell_type": "code",
      "metadata": {
        "id": "D6Ma8Rm51Cj8"
      },
      "source": [
        "with open('AaplLabelledNewsData-OrderPreserved.pkl', 'rb') as f:\n",
        "    labelled_aapl_news_df = pickle.load(f)"
      ],
      "execution_count": null,
      "outputs": []
    },
    {
      "cell_type": "code",
      "metadata": {
        "colab": {
          "base_uri": "https://localhost:8080/",
          "height": 419
        },
        "id": "7aN9tTJoVaUj",
        "outputId": "22e868d8-07db-4bfb-cfed-0a0338da542f"
      },
      "source": [
        "labelled_aapl_news_df"
      ],
      "execution_count": null,
      "outputs": [
        {
          "output_type": "execute_result",
          "data": {
            "text/html": [
              "<div>\n",
              "<style scoped>\n",
              "    .dataframe tbody tr th:only-of-type {\n",
              "        vertical-align: middle;\n",
              "    }\n",
              "\n",
              "    .dataframe tbody tr th {\n",
              "        vertical-align: top;\n",
              "    }\n",
              "\n",
              "    .dataframe thead th {\n",
              "        text-align: right;\n",
              "    }\n",
              "</style>\n",
              "<table border=\"1\" class=\"dataframe\">\n",
              "  <thead>\n",
              "    <tr style=\"text-align: right;\">\n",
              "      <th></th>\n",
              "      <th>news_timestamp</th>\n",
              "      <th>stock_timestamp</th>\n",
              "      <th>source</th>\n",
              "      <th>tokens</th>\n",
              "      <th>label</th>\n",
              "    </tr>\n",
              "  </thead>\n",
              "  <tbody>\n",
              "    <tr>\n",
              "      <th>0</th>\n",
              "      <td>2017-12-07 20:00:00</td>\n",
              "      <td>2017-12-08</td>\n",
              "      <td>businesswire.com</td>\n",
              "      <td>[nape, summit, also, annual, luncheon, tom, sp...</td>\n",
              "      <td>-1</td>\n",
              "    </tr>\n",
              "    <tr>\n",
              "      <th>1</th>\n",
              "      <td>2017-12-08 21:37:00</td>\n",
              "      <td>2017-12-11</td>\n",
              "      <td>yahoo.com</td>\n",
              "      <td>[huge, x, comeback, tour, follow, note, big, y...</td>\n",
              "      <td>1</td>\n",
              "    </tr>\n",
              "    <tr>\n",
              "      <th>2</th>\n",
              "      <td>2017-12-12 01:55:00</td>\n",
              "      <td>2017-12-13</td>\n",
              "      <td>yahoo.com</td>\n",
              "      <td>[browser, os, ad, server, make, first, move, c...</td>\n",
              "      <td>1</td>\n",
              "    </tr>\n",
              "    <tr>\n",
              "      <th>3</th>\n",
              "      <td>2017-12-12 22:10:00</td>\n",
              "      <td>2017-12-13</td>\n",
              "      <td>investingnews.com</td>\n",
              "      <td>[humanitarian, place, conflict, free, region]</td>\n",
              "      <td>1</td>\n",
              "    </tr>\n",
              "    <tr>\n",
              "      <th>4</th>\n",
              "      <td>2017-12-14 11:42:00</td>\n",
              "      <td>2017-12-15</td>\n",
              "      <td>seekingalpha.com</td>\n",
              "      <td>[prefer, invest]</td>\n",
              "      <td>1</td>\n",
              "    </tr>\n",
              "    <tr>\n",
              "      <th>...</th>\n",
              "      <td>...</td>\n",
              "      <td>...</td>\n",
              "      <td>...</td>\n",
              "      <td>...</td>\n",
              "      <td>...</td>\n",
              "    </tr>\n",
              "    <tr>\n",
              "      <th>71936</th>\n",
              "      <td>2019-01-31 23:24:00</td>\n",
              "      <td>2019-02-01</td>\n",
              "      <td>marketwatch.com</td>\n",
              "      <td>[deem, store]</td>\n",
              "      <td>1</td>\n",
              "    </tr>\n",
              "    <tr>\n",
              "      <th>71937</th>\n",
              "      <td>2019-01-31 23:31:00</td>\n",
              "      <td>2019-02-01</td>\n",
              "      <td>marketwatch.com</td>\n",
              "      <td>[deem, use, key, develop, tool, day, later]</td>\n",
              "      <td>1</td>\n",
              "    </tr>\n",
              "    <tr>\n",
              "      <th>71938</th>\n",
              "      <td>2019-01-31 23:52:00</td>\n",
              "      <td>2019-02-01</td>\n",
              "      <td>tickerreport.com</td>\n",
              "      <td>[tweet, trader, share, trade, tuesday, stock, ...</td>\n",
              "      <td>1</td>\n",
              "    </tr>\n",
              "    <tr>\n",
              "      <th>71939</th>\n",
              "      <td>2019-01-31 23:53:00</td>\n",
              "      <td>2019-02-01</td>\n",
              "      <td>redliontrader.com</td>\n",
              "      <td>[obtain, intern, memo, tri, spin, led, block, ...</td>\n",
              "      <td>1</td>\n",
              "    </tr>\n",
              "    <tr>\n",
              "      <th>71940</th>\n",
              "      <td>2019-01-31 23:55:00</td>\n",
              "      <td>2019-02-01</td>\n",
              "      <td>boxden.com</td>\n",
              "      <td>[correct, stock, predict, post, test, learn, p...</td>\n",
              "      <td>1</td>\n",
              "    </tr>\n",
              "  </tbody>\n",
              "</table>\n",
              "<p>71941 rows × 5 columns</p>\n",
              "</div>"
            ],
            "text/plain": [
              "           news_timestamp  ... label\n",
              "0     2017-12-07 20:00:00  ...    -1\n",
              "1     2017-12-08 21:37:00  ...     1\n",
              "2     2017-12-12 01:55:00  ...     1\n",
              "3     2017-12-12 22:10:00  ...     1\n",
              "4     2017-12-14 11:42:00  ...     1\n",
              "...                   ...  ...   ...\n",
              "71936 2019-01-31 23:24:00  ...     1\n",
              "71937 2019-01-31 23:31:00  ...     1\n",
              "71938 2019-01-31 23:52:00  ...     1\n",
              "71939 2019-01-31 23:53:00  ...     1\n",
              "71940 2019-01-31 23:55:00  ...     1\n",
              "\n",
              "[71941 rows x 5 columns]"
            ]
          },
          "metadata": {
            "tags": []
          },
          "execution_count": 10
        }
      ]
    },
    {
      "cell_type": "code",
      "metadata": {
        "id": "oNhwOC9gVQVi"
      },
      "source": [
        "# with open('trained-labels.pkl', 'rb') as f:\n",
        "#     trainY = pickle.load(f)"
      ],
      "execution_count": null,
      "outputs": []
    },
    {
      "cell_type": "code",
      "metadata": {
        "colab": {
          "base_uri": "https://localhost:8080/"
        },
        "id": "KY00RGG1VkLG",
        "outputId": "b41527d5-15c0-498c-80d8-273e1957895d"
      },
      "source": [
        "trainY"
      ],
      "execution_count": null,
      "outputs": [
        {
          "output_type": "execute_result",
          "data": {
            "text/plain": [
              "0   -1\n",
              "0    1\n",
              "0    1\n",
              "0    1\n",
              "0    1\n",
              "    ..\n",
              "0    1\n",
              "0    1\n",
              "0    1\n",
              "0    1\n",
              "0    1\n",
              "Name: label, Length: 71388, dtype: int64"
            ]
          },
          "metadata": {
            "tags": []
          },
          "execution_count": 7
        }
      ]
    },
    {
      "cell_type": "code",
      "metadata": {
        "id": "x35YEG2OVTjb"
      },
      "source": [
        "# with open('trained-Vectors.pkl', 'rb') as f:\n",
        "#     trainX = pickle.load(f)"
      ],
      "execution_count": null,
      "outputs": []
    },
    {
      "cell_type": "code",
      "metadata": {
        "id": "PQy5tGDcW1UT"
      },
      "source": [
        "# X_train, X_test, y_train, y_test = train_test_split(trainX, trainY, test_size=0.2, random_state=23)"
      ],
      "execution_count": null,
      "outputs": []
    },
    {
      "cell_type": "code",
      "metadata": {
        "id": "mAjMNkVUxCFq"
      },
      "source": [
        "# X_train = X_train.join(y_train)\n",
        "# X_test = X_test.join(y_test)\n",
        "# X_train = X_train.reset_index(drop=True)\n",
        "# X_train = X_train.dropna()\n",
        "\n",
        "# # X_test = X_train.reset_index(drop=True)\n",
        "# X_test = X_test.reset_index(drop=True)\n",
        "# X_test = X_test.dropna()"
      ],
      "execution_count": null,
      "outputs": []
    },
    {
      "cell_type": "code",
      "metadata": {
        "id": "Dc4iGYBP0GVp"
      },
      "source": [
        "with open('xtrain_aapl-4hr.pkl', 'rb') as f:\n",
        "    X_train = pickle.load(f)"
      ],
      "execution_count": null,
      "outputs": []
    },
    {
      "cell_type": "code",
      "metadata": {
        "id": "aiHHJAZD0Y_U"
      },
      "source": [
        "with open('xtest_aapl-4hr.pkl', 'rb') as f:\n",
        "    X_test = pickle.load(f)"
      ],
      "execution_count": null,
      "outputs": []
    },
    {
      "cell_type": "code",
      "metadata": {
        "colab": {
          "base_uri": "https://localhost:8080/"
        },
        "id": "AfPoF0U6W5md",
        "outputId": "b4fd9ca2-3284-4b2b-8b10-41ce3c62cbe4"
      },
      "source": [
        "!pip install thundersvm"
      ],
      "execution_count": null,
      "outputs": [
        {
          "output_type": "stream",
          "text": [
            "Collecting thundersvm\n",
            "\u001b[?25l  Downloading https://files.pythonhosted.org/packages/7d/16/281a54f6d1f70c59df242f2f93e5cc04daf01b9c9809c2b154d15ea6a346/thundersvm-0.3.12-py3-none-any.whl (507kB)\n",
            "\r\u001b[K     |▋                               | 10kB 23.1MB/s eta 0:00:01\r\u001b[K     |█▎                              | 20kB 14.5MB/s eta 0:00:01\r\u001b[K     |██                              | 30kB 8.7MB/s eta 0:00:01\r\u001b[K     |██▋                             | 40kB 7.6MB/s eta 0:00:01\r\u001b[K     |███▎                            | 51kB 9.1MB/s eta 0:00:01\r\u001b[K     |███▉                            | 61kB 9.5MB/s eta 0:00:01\r\u001b[K     |████▌                           | 71kB 10.6MB/s eta 0:00:01\r\u001b[K     |█████▏                          | 81kB 9.6MB/s eta 0:00:01\r\u001b[K     |█████▉                          | 92kB 8.2MB/s eta 0:00:01\r\u001b[K     |██████▌                         | 102kB 8.7MB/s eta 0:00:01\r\u001b[K     |███████                         | 112kB 8.7MB/s eta 0:00:01\r\u001b[K     |███████▊                        | 122kB 8.7MB/s eta 0:00:01\r\u001b[K     |████████▍                       | 133kB 8.7MB/s eta 0:00:01\r\u001b[K     |█████████                       | 143kB 8.7MB/s eta 0:00:01\r\u001b[K     |█████████▊                      | 153kB 8.7MB/s eta 0:00:01\r\u001b[K     |██████████▍                     | 163kB 8.7MB/s eta 0:00:01\r\u001b[K     |███████████                     | 174kB 8.7MB/s eta 0:00:01\r\u001b[K     |███████████▋                    | 184kB 8.7MB/s eta 0:00:01\r\u001b[K     |████████████▎                   | 194kB 8.7MB/s eta 0:00:01\r\u001b[K     |█████████████                   | 204kB 8.7MB/s eta 0:00:01\r\u001b[K     |█████████████▋                  | 215kB 8.7MB/s eta 0:00:01\r\u001b[K     |██████████████▏                 | 225kB 8.7MB/s eta 0:00:01\r\u001b[K     |██████████████▉                 | 235kB 8.7MB/s eta 0:00:01\r\u001b[K     |███████████████▌                | 245kB 8.7MB/s eta 0:00:01\r\u001b[K     |████████████████▏               | 256kB 8.7MB/s eta 0:00:01\r\u001b[K     |████████████████▉               | 266kB 8.7MB/s eta 0:00:01\r\u001b[K     |█████████████████▍              | 276kB 8.7MB/s eta 0:00:01\r\u001b[K     |██████████████████              | 286kB 8.7MB/s eta 0:00:01\r\u001b[K     |██████████████████▊             | 296kB 8.7MB/s eta 0:00:01\r\u001b[K     |███████████████████▍            | 307kB 8.7MB/s eta 0:00:01\r\u001b[K     |████████████████████            | 317kB 8.7MB/s eta 0:00:01\r\u001b[K     |████████████████████▊           | 327kB 8.7MB/s eta 0:00:01\r\u001b[K     |█████████████████████▎          | 337kB 8.7MB/s eta 0:00:01\r\u001b[K     |██████████████████████          | 348kB 8.7MB/s eta 0:00:01\r\u001b[K     |██████████████████████▋         | 358kB 8.7MB/s eta 0:00:01\r\u001b[K     |███████████████████████▎        | 368kB 8.7MB/s eta 0:00:01\r\u001b[K     |████████████████████████        | 378kB 8.7MB/s eta 0:00:01\r\u001b[K     |████████████████████████▌       | 389kB 8.7MB/s eta 0:00:01\r\u001b[K     |█████████████████████████▏      | 399kB 8.7MB/s eta 0:00:01\r\u001b[K     |█████████████████████████▉      | 409kB 8.7MB/s eta 0:00:01\r\u001b[K     |██████████████████████████▌     | 419kB 8.7MB/s eta 0:00:01\r\u001b[K     |███████████████████████████▏    | 430kB 8.7MB/s eta 0:00:01\r\u001b[K     |███████████████████████████▊    | 440kB 8.7MB/s eta 0:00:01\r\u001b[K     |████████████████████████████▍   | 450kB 8.7MB/s eta 0:00:01\r\u001b[K     |█████████████████████████████   | 460kB 8.7MB/s eta 0:00:01\r\u001b[K     |█████████████████████████████▊  | 471kB 8.7MB/s eta 0:00:01\r\u001b[K     |██████████████████████████████▍ | 481kB 8.7MB/s eta 0:00:01\r\u001b[K     |███████████████████████████████ | 491kB 8.7MB/s eta 0:00:01\r\u001b[K     |███████████████████████████████▋| 501kB 8.7MB/s eta 0:00:01\r\u001b[K     |████████████████████████████████| 512kB 8.7MB/s \n",
            "\u001b[?25hRequirement already satisfied: scikit-learn in /usr/local/lib/python3.7/dist-packages (from thundersvm) (0.22.2.post1)\n",
            "Requirement already satisfied: scipy in /usr/local/lib/python3.7/dist-packages (from thundersvm) (1.4.1)\n",
            "Requirement already satisfied: numpy in /usr/local/lib/python3.7/dist-packages (from thundersvm) (1.19.5)\n",
            "Requirement already satisfied: joblib>=0.11 in /usr/local/lib/python3.7/dist-packages (from scikit-learn->thundersvm) (1.0.1)\n",
            "Installing collected packages: thundersvm\n",
            "Successfully installed thundersvm-0.3.12\n"
          ],
          "name": "stdout"
        }
      ]
    },
    {
      "cell_type": "code",
      "metadata": {
        "id": "bkP1JKq1XAIy"
      },
      "source": [
        "from thundersvm import SVC"
      ],
      "execution_count": null,
      "outputs": []
    },
    {
      "cell_type": "code",
      "metadata": {
        "id": "p-wPYcPY0-y3"
      },
      "source": [
        "from sklearn.model_selection import KFold"
      ],
      "execution_count": null,
      "outputs": []
    },
    {
      "cell_type": "code",
      "metadata": {
        "id": "YV-RGSwhws__"
      },
      "source": [
        "#Using k-fold\n",
        "kf = KFold(n_splits=10)\n",
        "\n",
        "\n",
        "\n",
        "\n",
        "for train_index, test_index in kf.split(X_train):\n",
        "    #print(len(train_index), len(test_index))\n",
        "    \n",
        "    tr_index = sorted(train_index)\n",
        "    ts_index = sorted(test_index)\n",
        "    \n",
        "    print(tr_index[0],tr_index[-1])\n",
        "    print(ts_index[0],ts_index[-1])\n",
        "    \n",
        "    X_tr = X_train.iloc[tr_index,0:300]\n",
        "    y_tr = X_train.iloc[tr_index,[300]]\n",
        "    \n",
        "    X_ts = X_train.iloc[ts_index,0:300]\n",
        "    y_ts = X_train.iloc[ts_index,[300]]\n",
        "    \n",
        "    \n",
        "    \n",
        "#     print(train_index,test_index)\n",
        "    \n",
        "#     X_tr = X_train.iloc[tr_index]\n",
        "#     X_tr = X_train.dropna()\n",
        "#     y_tr = y_train.iloc[tr_index]\n",
        "#     y_tr = y_tr.dropna()\n",
        "\n",
        "#     X_ts = X_test.iloc[ts_index]\n",
        "#     X_ts = X_ts.dropna()\n",
        "    \n",
        "#     y_ts = y_test.iloc[ts_index]\n",
        "#     y_ts = y_ts.dropna()\n",
        "\n",
        "    \n",
        "#     print(X_tr)\n",
        "    \n",
        "    print(\"training Random Forest classifier now ...\")\n",
        "\n",
        "    model = SVC(C=100, kernel='rbf')\n",
        "\n",
        "    # Fit the model to training data\n",
        "    model.fit(X_tr, y_tr)\n",
        "\n",
        "    y_pred = model.predict(X_ts)\n",
        "\n",
        "    # Check test set accuracy\n",
        "    accuracy = model.score(X_ts, y_ts)\n",
        "\n",
        "    print('Accuracy: {}'.format(accuracy))\n",
        "    \n",
        "#     decision_tree = tree.DecisionTreeClassifier(random_state=0).fit(X_tr,y_tr)\n",
        "    \n",
        "#     y_pred = decision_tree.predict(X_ts)\n",
        "#     acc=accuracy_score(y_test,y_pred)\n",
        "#     print('Accuracy of Decision Tree classifier is: %f ' % acc)   \n",
        "\n"
      ],
      "execution_count": null,
      "outputs": []
    },
    {
      "cell_type": "code",
      "metadata": {
        "colab": {
          "base_uri": "https://localhost:8080/"
        },
        "id": "ToCL-7E8YvR9",
        "outputId": "df14a1ed-c034-430b-90a6-99f3b7318e2e"
      },
      "source": [
        "#Single run\n",
        "model = SVC(C=100, kernel='rbf')\n",
        "\n",
        "# Fit the model to training data\n",
        "model.fit(X_train, y_train)\n",
        "\n",
        "y_pred = model.predict(X_test)\n",
        "\n",
        "# Check test set accuracy\n",
        "accuracy = model.score(X_test, y_test)\n",
        "\n",
        "print('Accuracy: {}'.format(accuracy))"
      ],
      "execution_count": null,
      "outputs": [
        {
          "output_type": "stream",
          "text": [
            "Accuracy: 0.5219218377924079\n"
          ],
          "name": "stdout"
        }
      ]
    },
    {
      "cell_type": "code",
      "metadata": {
        "id": "gMKIR_kQvnr1"
      },
      "source": [
        ""
      ],
      "execution_count": null,
      "outputs": []
    }
  ]
}