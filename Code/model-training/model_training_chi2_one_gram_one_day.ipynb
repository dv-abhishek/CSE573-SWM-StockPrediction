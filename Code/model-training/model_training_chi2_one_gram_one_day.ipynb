{
  "nbformat": 4,
  "nbformat_minor": 0,
  "metadata": {
    "colab": {
      "name": "model-training-chi2-one-gram-one-day.ipynb",
      "provenance": []
    },
    "kernelspec": {
      "display_name": "Python 3",
      "name": "python3"
    },
    "language_info": {
      "name": "python"
    }
  },
  "cells": [
    {
      "cell_type": "markdown",
      "metadata": {
        "id": "hcnhFwqubgtJ"
      },
      "source": [
        "#All the libraries used in this notebook\n",
        "\n"
      ]
    },
    {
      "cell_type": "code",
      "metadata": {
        "id": "rYoH6l8qkna3"
      },
      "source": [
        "from sklearn.model_selection import train_test_split\n",
        "from sklearn.decomposition import PCA\n",
        "from sklearn.metrics import accuracy_score\n",
        "from sklearn.linear_model import LogisticRegression\n",
        "from sklearn.ensemble import RandomForestClassifier\n",
        "from sklearn import svm\n",
        "from sklearn import tree\n",
        "from tensorflow import keras\n",
        "import pickle\n",
        "import datetime\n",
        "import numpy as np\n",
        "from sklearn.feature_selection import chi2\n",
        "from sklearn.feature_selection import SelectKBest"
      ],
      "execution_count": null,
      "outputs": []
    },
    {
      "cell_type": "markdown",
      "metadata": {
        "id": "o1z4zXA7brsu"
      },
      "source": [
        "#Loading the Apple one gram features for 1 day time interval"
      ]
    },
    {
      "cell_type": "code",
      "metadata": {
        "id": "gxGhR5k6k04X"
      },
      "source": [
        "with open('/content/drive/MyDrive/SWM/CSE573-SWM-Data/aapl_one_gram_features_labelled_df.pkl', 'rb') as f:\n",
        "    labelled_aapl_news_df = pickle.load(f)"
      ],
      "execution_count": null,
      "outputs": []
    },
    {
      "cell_type": "markdown",
      "metadata": {
        "id": "sVZpjCqp3wCt"
      },
      "source": [
        "#Splitting the dataset for training and testing"
      ]
    },
    {
      "cell_type": "code",
      "metadata": {
        "id": "GC6TfbPZk_g_"
      },
      "source": [
        "trainX_df=labelled_aapl_news_df['features']\n",
        "trainY_df=labelled_aapl_news_df['label']\n",
        "\n",
        "trainX = np.stack(trainX_df)\n",
        "\n",
        "trainY_df=trainY_df.astype('int')\n",
        "trainY = np.stack(trainY_df)\n",
        "\n"
      ],
      "execution_count": null,
      "outputs": []
    },
    {
      "cell_type": "code",
      "metadata": {
        "colab": {
          "base_uri": "https://localhost:8080/"
        },
        "id": "i-fZ7IiBcpGe",
        "outputId": "1668b420-1db9-41c5-f8fe-5a20da992afc"
      },
      "source": [
        "print(trainX.shape)\n",
        "print(trainY.shape)"
      ],
      "execution_count": null,
      "outputs": [
        {
          "output_type": "stream",
          "text": [
            "(71941, 703)\n",
            "(71941,)\n"
          ],
          "name": "stdout"
        }
      ]
    },
    {
      "cell_type": "markdown",
      "metadata": {
        "id": "o1Ko4IVn30oB"
      },
      "source": [
        "#Feature Extraction using chi2"
      ]
    },
    {
      "cell_type": "code",
      "metadata": {
        "id": "F0hdfz5plBbF",
        "colab": {
          "base_uri": "https://localhost:8080/"
        },
        "outputId": "dcaaa2ce-2d4b-4fbb-f747-7f9ee57a1931"
      },
      "source": [
        "chi2_selector = SelectKBest(chi2, k = 500)\n",
        "chi_trainX = chi2_selector.fit_transform(trainX, trainY)\n",
        "X_train, X_test, y_train, y_test = train_test_split(chi_trainX, trainY, test_size=0.2, random_state=23)\n",
        "print(X_train.shape)\n",
        "print(y_train.shape)"
      ],
      "execution_count": null,
      "outputs": [
        {
          "output_type": "stream",
          "text": [
            "(57552, 500)\n",
            "(57552,)\n"
          ],
          "name": "stdout"
        }
      ]
    },
    {
      "cell_type": "markdown",
      "metadata": {
        "id": "OE8xbTtx59s9"
      },
      "source": [
        "#Model Training"
      ]
    },
    {
      "cell_type": "markdown",
      "metadata": {
        "id": "gsxv7fUAb_Br"
      },
      "source": [
        "Logistic Regression \n",
        "\n",
        "*   Accuracy: 60.19%"
      ]
    },
    {
      "cell_type": "code",
      "metadata": {
        "colab": {
          "base_uri": "https://localhost:8080/"
        },
        "id": "xq1cinZ8lH8m",
        "outputId": "2a46dca7-8c33-49fd-c88b-76c94a5256b5"
      },
      "source": [
        "print(\"training Logistic Regression now ...\")\n",
        "chi2_selector = SelectKBest(chi2, k = 700)\n",
        "chi_trainX = chi2_selector.fit_transform(trainX, trainY)\n",
        "X_train, X_test, y_train, y_test = train_test_split(chi_trainX, trainY, test_size=0.2, random_state=23)\n",
        "\n",
        "logistic_regression = LogisticRegression(max_iter=1000, verbose=15).fit(X_train,y_train)\n",
        "y_pred = logistic_regression.predict(X_test)\n",
        "acc = accuracy_score(y_test,y_pred)\n",
        "print('Accuracy of Logistic Regression classifier is: %f ' % acc)"
      ],
      "execution_count": null,
      "outputs": [
        {
          "output_type": "stream",
          "text": [
            "training Logistic Regression now ...\n"
          ],
          "name": "stdout"
        },
        {
          "output_type": "stream",
          "text": [
            "[Parallel(n_jobs=1)]: Using backend SequentialBackend with 1 concurrent workers.\n"
          ],
          "name": "stderr"
        },
        {
          "output_type": "stream",
          "text": [
            "Accuracy of Logistic Regression classifier is: 0.569741 \n"
          ],
          "name": "stdout"
        },
        {
          "output_type": "stream",
          "text": [
            "[Parallel(n_jobs=1)]: Done   1 out of   1 | elapsed:   11.6s remaining:    0.0s\n",
            "[Parallel(n_jobs=1)]: Done   1 out of   1 | elapsed:   11.6s finished\n"
          ],
          "name": "stderr"
        }
      ]
    },
    {
      "cell_type": "code",
      "metadata": {
        "colab": {
          "base_uri": "https://localhost:8080/"
        },
        "id": "UdFWU9H3b-tl",
        "outputId": "7fff9647-58ca-4089-d77f-a7eb133451f7"
      },
      "source": [
        "from sklearn.metrics import confusion_matrix\n",
        "from sklearn.metrics import classification_report\n",
        "matrix = confusion_matrix(y_test,y_pred, labels=[1,-1])\n",
        "print('Confusion matrix : \\n',matrix)\n",
        "\n",
        "# outcome values order in sklearn\n",
        "tp, fn, fp, tn = confusion_matrix(y_test,y_pred,labels=[1,-1]).reshape(-1)\n",
        "print('Outcome values : \\n', tp, fn, fp, tn)\n",
        "\n",
        "# classification report for precision, recall f1-score and accuracy\n",
        "matrix = classification_report(y_test,y_pred,labels=[1,-1])\n",
        "print('Classification report : \\n',matrix)"
      ],
      "execution_count": null,
      "outputs": [
        {
          "output_type": "stream",
          "text": [
            "Confusion matrix : \n",
            " [[3293 3569]\n",
            " [2622 4905]]\n",
            "Outcome values : \n",
            " 3293 3569 2622 4905\n",
            "Classification report : \n",
            "               precision    recall  f1-score   support\n",
            "\n",
            "           1       0.56      0.48      0.52      6862\n",
            "          -1       0.58      0.65      0.61      7527\n",
            "\n",
            "    accuracy                           0.57     14389\n",
            "   macro avg       0.57      0.57      0.56     14389\n",
            "weighted avg       0.57      0.57      0.57     14389\n",
            "\n"
          ],
          "name": "stdout"
        }
      ]
    },
    {
      "cell_type": "markdown",
      "metadata": {
        "id": "n5rlKXhzcCJQ"
      },
      "source": [
        "Decision Tree\n",
        "\n",
        "*   Accuracy: 68.26%"
      ]
    },
    {
      "cell_type": "code",
      "metadata": {
        "colab": {
          "base_uri": "https://localhost:8080/"
        },
        "id": "898kzPLNlKO2",
        "outputId": "8871f7dc-ab99-42d6-f65c-191072f5b687"
      },
      "source": [
        "print(\"training Decision Tree now ...\")\n",
        "chi2_selector = SelectKBest(chi2, k = 500)\n",
        "chi_trainX = chi2_selector.fit_transform(trainX, trainY)\n",
        "X_train, X_test, y_train, y_test = train_test_split(chi_trainX, trainY, test_size=0.2, random_state=23)\n",
        "\n",
        "decision_tree = tree.DecisionTreeClassifier(random_state=0).fit(X_train,y_train)\n",
        "y_pred = decision_tree.predict(X_test)\n",
        "acc=accuracy_score(y_test,y_pred)\n",
        "print('Accuracy of Decision Tree classifier is: %f ' % acc)"
      ],
      "execution_count": null,
      "outputs": [
        {
          "output_type": "stream",
          "text": [
            "training Decision Tree now ...\n",
            "Accuracy of Decision Tree classifier is: 0.682674 \n"
          ],
          "name": "stdout"
        }
      ]
    },
    {
      "cell_type": "code",
      "metadata": {
        "colab": {
          "base_uri": "https://localhost:8080/"
        },
        "id": "6RYn3stEcA5l",
        "outputId": "24b48325-b799-4cd4-ee8f-25b1e38afc78"
      },
      "source": [
        "from sklearn.metrics import confusion_matrix\n",
        "from sklearn.metrics import classification_report\n",
        "matrix = confusion_matrix(y_test,y_pred, labels=[1,-1])\n",
        "print('Confusion matrix : \\n',matrix)\n",
        "\n",
        "# outcome values order in sklearn\n",
        "tp, fn, fp, tn = confusion_matrix(y_test,y_pred,labels=[1,-1]).reshape(-1)\n",
        "print('Outcome values : \\n', tp, fn, fp, tn)\n",
        "\n",
        "# classification report for precision, recall f1-score and accuracy\n",
        "matrix = classification_report(y_test,y_pred,labels=[1,-1])\n",
        "print('Classification report : \\n',matrix)"
      ],
      "execution_count": null,
      "outputs": [
        {
          "output_type": "stream",
          "text": [
            "Confusion matrix : \n",
            " [[4567 2295]\n",
            " [2271 5256]]\n",
            "Outcome values : \n",
            " 4567 2295 2271 5256\n",
            "Classification report : \n",
            "               precision    recall  f1-score   support\n",
            "\n",
            "           1       0.67      0.67      0.67      6862\n",
            "          -1       0.70      0.70      0.70      7527\n",
            "\n",
            "    accuracy                           0.68     14389\n",
            "   macro avg       0.68      0.68      0.68     14389\n",
            "weighted avg       0.68      0.68      0.68     14389\n",
            "\n"
          ],
          "name": "stdout"
        }
      ]
    },
    {
      "cell_type": "markdown",
      "metadata": {
        "id": "0gBvTbnccJ1A"
      },
      "source": [
        "Random Forest Classification\n",
        "\n",
        "*   Accuracy: 71.17%"
      ]
    },
    {
      "cell_type": "code",
      "metadata": {
        "colab": {
          "base_uri": "https://localhost:8080/"
        },
        "id": "dPkQMnMNlMe1",
        "outputId": "08fa7d2d-725c-42d7-a17f-6dd081604573"
      },
      "source": [
        "print(\"training Random Forest classifier now ...\")\n",
        "chi2_selector = SelectKBest(chi2, k = 500)\n",
        "chi_trainX = chi2_selector.fit_transform(trainX, trainY)\n",
        "X_train, X_test, y_train, y_test = train_test_split(chi_trainX, trainY, test_size=0.2, random_state=23)\n",
        "\n",
        "random_forest_classifier = RandomForestClassifier(n_estimators=100, verbose=15, n_jobs=-1).fit(X_train,y_train)\n",
        "#increase n_estimators if you face issues in training\n",
        "y_pred=random_forest_classifier.predict(X_test)\n",
        "acc=accuracy_score(y_test,y_pred)\n",
        "print('Accuracy of Random Forest classifier is: %f ' % acc)"
      ],
      "execution_count": null,
      "outputs": [
        {
          "output_type": "stream",
          "text": [
            "training Random Forest classifier now ...\n"
          ],
          "name": "stdout"
        },
        {
          "output_type": "stream",
          "text": [
            "[Parallel(n_jobs=-1)]: Using backend ThreadingBackend with 2 concurrent workers.\n"
          ],
          "name": "stderr"
        },
        {
          "output_type": "stream",
          "text": [
            "building tree 1 of 100building tree 2 of 100\n",
            "\n"
          ],
          "name": "stdout"
        },
        {
          "output_type": "stream",
          "text": [
            "[Parallel(n_jobs=-1)]: Done   1 tasks      | elapsed:    1.0s\n",
            "[Parallel(n_jobs=-1)]: Done   2 tasks      | elapsed:    1.2s\n"
          ],
          "name": "stderr"
        },
        {
          "output_type": "stream",
          "text": [
            "building tree 3 of 100\n",
            "building tree 4 of 100\n"
          ],
          "name": "stdout"
        },
        {
          "output_type": "stream",
          "text": [
            "[Parallel(n_jobs=-1)]: Done   3 tasks      | elapsed:    2.2s\n"
          ],
          "name": "stderr"
        },
        {
          "output_type": "stream",
          "text": [
            "building tree 5 of 100\n"
          ],
          "name": "stdout"
        },
        {
          "output_type": "stream",
          "text": [
            "[Parallel(n_jobs=-1)]: Done   4 tasks      | elapsed:    2.4s\n"
          ],
          "name": "stderr"
        },
        {
          "output_type": "stream",
          "text": [
            "building tree 6 of 100\n"
          ],
          "name": "stdout"
        },
        {
          "output_type": "stream",
          "text": [
            "[Parallel(n_jobs=-1)]: Done   5 tasks      | elapsed:    3.2s\n"
          ],
          "name": "stderr"
        },
        {
          "output_type": "stream",
          "text": [
            "building tree 7 of 100\n"
          ],
          "name": "stdout"
        },
        {
          "output_type": "stream",
          "text": [
            "[Parallel(n_jobs=-1)]: Done   6 tasks      | elapsed:    3.5s\n"
          ],
          "name": "stderr"
        },
        {
          "output_type": "stream",
          "text": [
            "building tree 8 of 100\n"
          ],
          "name": "stdout"
        },
        {
          "output_type": "stream",
          "text": [
            "[Parallel(n_jobs=-1)]: Done   7 tasks      | elapsed:    4.5s\n"
          ],
          "name": "stderr"
        },
        {
          "output_type": "stream",
          "text": [
            "building tree 9 of 100\n"
          ],
          "name": "stdout"
        },
        {
          "output_type": "stream",
          "text": [
            "[Parallel(n_jobs=-1)]: Done   8 tasks      | elapsed:    4.8s\n"
          ],
          "name": "stderr"
        },
        {
          "output_type": "stream",
          "text": [
            "building tree 10 of 100\n"
          ],
          "name": "stdout"
        },
        {
          "output_type": "stream",
          "text": [
            "[Parallel(n_jobs=-1)]: Done   9 tasks      | elapsed:    5.6s\n"
          ],
          "name": "stderr"
        },
        {
          "output_type": "stream",
          "text": [
            "building tree 11 of 100\n"
          ],
          "name": "stdout"
        },
        {
          "output_type": "stream",
          "text": [
            "[Parallel(n_jobs=-1)]: Done  10 tasks      | elapsed:    6.0s\n"
          ],
          "name": "stderr"
        },
        {
          "output_type": "stream",
          "text": [
            "building tree 12 of 100\n"
          ],
          "name": "stdout"
        },
        {
          "output_type": "stream",
          "text": [
            "[Parallel(n_jobs=-1)]: Done  11 tasks      | elapsed:    6.8s\n"
          ],
          "name": "stderr"
        },
        {
          "output_type": "stream",
          "text": [
            "building tree 13 of 100\n"
          ],
          "name": "stdout"
        },
        {
          "output_type": "stream",
          "text": [
            "[Parallel(n_jobs=-1)]: Done  12 tasks      | elapsed:    7.2s\n"
          ],
          "name": "stderr"
        },
        {
          "output_type": "stream",
          "text": [
            "building tree 14 of 100\n"
          ],
          "name": "stdout"
        },
        {
          "output_type": "stream",
          "text": [
            "[Parallel(n_jobs=-1)]: Done  13 tasks      | elapsed:    8.1s\n"
          ],
          "name": "stderr"
        },
        {
          "output_type": "stream",
          "text": [
            "building tree 15 of 100\n",
            "building tree 16 of 100\n"
          ],
          "name": "stdout"
        },
        {
          "output_type": "stream",
          "text": [
            "[Parallel(n_jobs=-1)]: Done  14 tasks      | elapsed:    8.5s\n",
            "[Parallel(n_jobs=-1)]: Done  15 tasks      | elapsed:    9.4s\n",
            "[Parallel(n_jobs=-1)]: Done  16 tasks      | elapsed:    9.6s\n"
          ],
          "name": "stderr"
        },
        {
          "output_type": "stream",
          "text": [
            "building tree 17 of 100\n",
            "building tree 18 of 100\n"
          ],
          "name": "stdout"
        },
        {
          "output_type": "stream",
          "text": [
            "[Parallel(n_jobs=-1)]: Done  17 tasks      | elapsed:   10.6s\n",
            "[Parallel(n_jobs=-1)]: Done  18 tasks      | elapsed:   10.7s\n"
          ],
          "name": "stderr"
        },
        {
          "output_type": "stream",
          "text": [
            "building tree 19 of 100\n",
            "building tree 20 of 100\n"
          ],
          "name": "stdout"
        },
        {
          "output_type": "stream",
          "text": [
            "[Parallel(n_jobs=-1)]: Done  19 tasks      | elapsed:   11.8s\n",
            "[Parallel(n_jobs=-1)]: Done  20 tasks      | elapsed:   11.9s\n"
          ],
          "name": "stderr"
        },
        {
          "output_type": "stream",
          "text": [
            "building tree 21 of 100\n",
            "building tree 22 of 100\n"
          ],
          "name": "stdout"
        },
        {
          "output_type": "stream",
          "text": [
            "[Parallel(n_jobs=-1)]: Done  21 tasks      | elapsed:   13.0s\n",
            "[Parallel(n_jobs=-1)]: Done  22 tasks      | elapsed:   13.1s\n"
          ],
          "name": "stderr"
        },
        {
          "output_type": "stream",
          "text": [
            "building tree 23 of 100\n",
            "building tree 24 of 100\n"
          ],
          "name": "stdout"
        },
        {
          "output_type": "stream",
          "text": [
            "[Parallel(n_jobs=-1)]: Done  23 tasks      | elapsed:   14.2s\n",
            "[Parallel(n_jobs=-1)]: Done  24 tasks      | elapsed:   14.2s\n"
          ],
          "name": "stderr"
        },
        {
          "output_type": "stream",
          "text": [
            "building tree 25 of 100\n",
            "building tree 26 of 100\n"
          ],
          "name": "stdout"
        },
        {
          "output_type": "stream",
          "text": [
            "[Parallel(n_jobs=-1)]: Done  25 tasks      | elapsed:   15.3s\n",
            "[Parallel(n_jobs=-1)]: Done  26 tasks      | elapsed:   15.4s\n"
          ],
          "name": "stderr"
        },
        {
          "output_type": "stream",
          "text": [
            "building tree 27 of 100\n",
            "building tree 28 of 100\n"
          ],
          "name": "stdout"
        },
        {
          "output_type": "stream",
          "text": [
            "[Parallel(n_jobs=-1)]: Done  27 tasks      | elapsed:   16.5s\n",
            "[Parallel(n_jobs=-1)]: Done  28 tasks      | elapsed:   16.6s\n"
          ],
          "name": "stderr"
        },
        {
          "output_type": "stream",
          "text": [
            "building tree 29 of 100\n",
            "building tree 30 of 100\n"
          ],
          "name": "stdout"
        },
        {
          "output_type": "stream",
          "text": [
            "[Parallel(n_jobs=-1)]: Done  29 tasks      | elapsed:   17.6s\n",
            "[Parallel(n_jobs=-1)]: Done  30 tasks      | elapsed:   17.6s\n"
          ],
          "name": "stderr"
        },
        {
          "output_type": "stream",
          "text": [
            "building tree 31 of 100\n",
            "building tree 32 of 100\n"
          ],
          "name": "stdout"
        },
        {
          "output_type": "stream",
          "text": [
            "[Parallel(n_jobs=-1)]: Done  31 tasks      | elapsed:   18.7s\n",
            "[Parallel(n_jobs=-1)]: Done  32 tasks      | elapsed:   18.8s\n"
          ],
          "name": "stderr"
        },
        {
          "output_type": "stream",
          "text": [
            "building tree 33 of 100\n",
            "building tree 34 of 100\n",
            "building tree 35 of 100\n",
            "building tree 36 of 100\n"
          ],
          "name": "stdout"
        },
        {
          "output_type": "stream",
          "text": [
            "[Parallel(n_jobs=-1)]: Done  33 tasks      | elapsed:   19.8s\n",
            "[Parallel(n_jobs=-1)]: Done  34 tasks      | elapsed:   19.9s\n",
            "[Parallel(n_jobs=-1)]: Done  35 tasks      | elapsed:   20.8s\n"
          ],
          "name": "stderr"
        },
        {
          "output_type": "stream",
          "text": [
            "building tree 37 of 100\n"
          ],
          "name": "stdout"
        },
        {
          "output_type": "stream",
          "text": [
            "[Parallel(n_jobs=-1)]: Done  36 tasks      | elapsed:   21.0s\n"
          ],
          "name": "stderr"
        },
        {
          "output_type": "stream",
          "text": [
            "building tree 38 of 100\n"
          ],
          "name": "stdout"
        },
        {
          "output_type": "stream",
          "text": [
            "[Parallel(n_jobs=-1)]: Done  37 tasks      | elapsed:   21.9s\n",
            "[Parallel(n_jobs=-1)]: Done  38 tasks      | elapsed:   22.1s\n"
          ],
          "name": "stderr"
        },
        {
          "output_type": "stream",
          "text": [
            "building tree 39 of 100\n",
            "building tree 40 of 100\n"
          ],
          "name": "stdout"
        },
        {
          "output_type": "stream",
          "text": [
            "[Parallel(n_jobs=-1)]: Done  39 tasks      | elapsed:   23.1s\n",
            "[Parallel(n_jobs=-1)]: Done  40 tasks      | elapsed:   23.2s\n"
          ],
          "name": "stderr"
        },
        {
          "output_type": "stream",
          "text": [
            "building tree 41 of 100\n",
            "building tree 42 of 100\n"
          ],
          "name": "stdout"
        },
        {
          "output_type": "stream",
          "text": [
            "[Parallel(n_jobs=-1)]: Done  41 tasks      | elapsed:   24.0s\n"
          ],
          "name": "stderr"
        },
        {
          "output_type": "stream",
          "text": [
            "building tree 43 of 100\n"
          ],
          "name": "stdout"
        },
        {
          "output_type": "stream",
          "text": [
            "[Parallel(n_jobs=-1)]: Done  42 tasks      | elapsed:   24.4s\n"
          ],
          "name": "stderr"
        },
        {
          "output_type": "stream",
          "text": [
            "building tree 44 of 100\n"
          ],
          "name": "stdout"
        },
        {
          "output_type": "stream",
          "text": [
            "[Parallel(n_jobs=-1)]: Done  43 tasks      | elapsed:   25.2s\n"
          ],
          "name": "stderr"
        },
        {
          "output_type": "stream",
          "text": [
            "building tree 45 of 100\n"
          ],
          "name": "stdout"
        },
        {
          "output_type": "stream",
          "text": [
            "[Parallel(n_jobs=-1)]: Done  44 tasks      | elapsed:   25.5s\n"
          ],
          "name": "stderr"
        },
        {
          "output_type": "stream",
          "text": [
            "building tree 46 of 100\n"
          ],
          "name": "stdout"
        },
        {
          "output_type": "stream",
          "text": [
            "[Parallel(n_jobs=-1)]: Done  45 tasks      | elapsed:   26.2s\n"
          ],
          "name": "stderr"
        },
        {
          "output_type": "stream",
          "text": [
            "building tree 47 of 100\n"
          ],
          "name": "stdout"
        },
        {
          "output_type": "stream",
          "text": [
            "[Parallel(n_jobs=-1)]: Done  46 tasks      | elapsed:   26.6s\n"
          ],
          "name": "stderr"
        },
        {
          "output_type": "stream",
          "text": [
            "building tree 48 of 100\n"
          ],
          "name": "stdout"
        },
        {
          "output_type": "stream",
          "text": [
            "[Parallel(n_jobs=-1)]: Done  47 tasks      | elapsed:   27.5s\n"
          ],
          "name": "stderr"
        },
        {
          "output_type": "stream",
          "text": [
            "building tree 49 of 100\n"
          ],
          "name": "stdout"
        },
        {
          "output_type": "stream",
          "text": [
            "[Parallel(n_jobs=-1)]: Done  48 tasks      | elapsed:   27.8s\n"
          ],
          "name": "stderr"
        },
        {
          "output_type": "stream",
          "text": [
            "building tree 50 of 100\n"
          ],
          "name": "stdout"
        },
        {
          "output_type": "stream",
          "text": [
            "[Parallel(n_jobs=-1)]: Done  49 tasks      | elapsed:   28.7s\n"
          ],
          "name": "stderr"
        },
        {
          "output_type": "stream",
          "text": [
            "building tree 51 of 100\n"
          ],
          "name": "stdout"
        },
        {
          "output_type": "stream",
          "text": [
            "[Parallel(n_jobs=-1)]: Done  50 tasks      | elapsed:   29.1s\n"
          ],
          "name": "stderr"
        },
        {
          "output_type": "stream",
          "text": [
            "building tree 52 of 100\n"
          ],
          "name": "stdout"
        },
        {
          "output_type": "stream",
          "text": [
            "[Parallel(n_jobs=-1)]: Done  51 tasks      | elapsed:   29.9s\n"
          ],
          "name": "stderr"
        },
        {
          "output_type": "stream",
          "text": [
            "building tree 53 of 100\n"
          ],
          "name": "stdout"
        },
        {
          "output_type": "stream",
          "text": [
            "[Parallel(n_jobs=-1)]: Done  52 tasks      | elapsed:   30.3s\n"
          ],
          "name": "stderr"
        },
        {
          "output_type": "stream",
          "text": [
            "building tree 54 of 100\n"
          ],
          "name": "stdout"
        },
        {
          "output_type": "stream",
          "text": [
            "[Parallel(n_jobs=-1)]: Done  53 tasks      | elapsed:   31.2s\n",
            "[Parallel(n_jobs=-1)]: Done  54 tasks      | elapsed:   31.3s\n"
          ],
          "name": "stderr"
        },
        {
          "output_type": "stream",
          "text": [
            "building tree 55 of 100\n",
            "building tree 56 of 100\n"
          ],
          "name": "stdout"
        },
        {
          "output_type": "stream",
          "text": [
            "[Parallel(n_jobs=-1)]: Done  55 tasks      | elapsed:   32.3s\n",
            "[Parallel(n_jobs=-1)]: Done  56 tasks      | elapsed:   32.5s\n"
          ],
          "name": "stderr"
        },
        {
          "output_type": "stream",
          "text": [
            "building tree 57 of 100\n",
            "building tree 58 of 100\n"
          ],
          "name": "stdout"
        },
        {
          "output_type": "stream",
          "text": [
            "[Parallel(n_jobs=-1)]: Done  57 tasks      | elapsed:   33.4s\n"
          ],
          "name": "stderr"
        },
        {
          "output_type": "stream",
          "text": [
            "building tree 59 of 100\n"
          ],
          "name": "stdout"
        },
        {
          "output_type": "stream",
          "text": [
            "[Parallel(n_jobs=-1)]: Done  58 tasks      | elapsed:   33.6s\n"
          ],
          "name": "stderr"
        },
        {
          "output_type": "stream",
          "text": [
            "building tree 60 of 100\n"
          ],
          "name": "stdout"
        },
        {
          "output_type": "stream",
          "text": [
            "[Parallel(n_jobs=-1)]: Done  59 tasks      | elapsed:   34.5s\n",
            "[Parallel(n_jobs=-1)]: Done  60 tasks      | elapsed:   34.7s\n"
          ],
          "name": "stderr"
        },
        {
          "output_type": "stream",
          "text": [
            "building tree 61 of 100\n",
            "building tree 62 of 100\n"
          ],
          "name": "stdout"
        },
        {
          "output_type": "stream",
          "text": [
            "[Parallel(n_jobs=-1)]: Done  61 tasks      | elapsed:   35.8s\n",
            "[Parallel(n_jobs=-1)]: Done  62 tasks      | elapsed:   35.8s\n"
          ],
          "name": "stderr"
        },
        {
          "output_type": "stream",
          "text": [
            "building tree 63 of 100\n",
            "building tree 64 of 100\n"
          ],
          "name": "stdout"
        },
        {
          "output_type": "stream",
          "text": [
            "[Parallel(n_jobs=-1)]: Done  63 tasks      | elapsed:   37.0s\n",
            "[Parallel(n_jobs=-1)]: Done  64 tasks      | elapsed:   37.0s\n"
          ],
          "name": "stderr"
        },
        {
          "output_type": "stream",
          "text": [
            "building tree 65 of 100\n",
            "building tree 66 of 100\n"
          ],
          "name": "stdout"
        },
        {
          "output_type": "stream",
          "text": [
            "[Parallel(n_jobs=-1)]: Done  65 tasks      | elapsed:   38.1s\n",
            "[Parallel(n_jobs=-1)]: Done  66 tasks      | elapsed:   38.1s\n"
          ],
          "name": "stderr"
        },
        {
          "output_type": "stream",
          "text": [
            "building tree 67 of 100\n",
            "building tree 68 of 100\n"
          ],
          "name": "stdout"
        },
        {
          "output_type": "stream",
          "text": [
            "[Parallel(n_jobs=-1)]: Done  67 tasks      | elapsed:   39.3s\n",
            "[Parallel(n_jobs=-1)]: Done  68 tasks      | elapsed:   39.3s\n"
          ],
          "name": "stderr"
        },
        {
          "output_type": "stream",
          "text": [
            "building tree 69 of 100\n",
            "building tree 70 of 100\n"
          ],
          "name": "stdout"
        },
        {
          "output_type": "stream",
          "text": [
            "[Parallel(n_jobs=-1)]: Done  69 tasks      | elapsed:   40.5s\n",
            "[Parallel(n_jobs=-1)]: Done  70 tasks      | elapsed:   40.5s\n"
          ],
          "name": "stderr"
        },
        {
          "output_type": "stream",
          "text": [
            "building tree 71 of 100\n",
            "building tree 72 of 100\n"
          ],
          "name": "stdout"
        },
        {
          "output_type": "stream",
          "text": [
            "[Parallel(n_jobs=-1)]: Done  71 tasks      | elapsed:   41.7s\n",
            "[Parallel(n_jobs=-1)]: Done  72 tasks      | elapsed:   41.7s\n"
          ],
          "name": "stderr"
        },
        {
          "output_type": "stream",
          "text": [
            "building tree 73 of 100\n",
            "building tree 74 of 100\n"
          ],
          "name": "stdout"
        },
        {
          "output_type": "stream",
          "text": [
            "[Parallel(n_jobs=-1)]: Done  73 tasks      | elapsed:   42.7s\n",
            "[Parallel(n_jobs=-1)]: Done  74 tasks      | elapsed:   42.8s\n"
          ],
          "name": "stderr"
        },
        {
          "output_type": "stream",
          "text": [
            "building tree 75 of 100\n",
            "building tree 76 of 100\n"
          ],
          "name": "stdout"
        },
        {
          "output_type": "stream",
          "text": [
            "[Parallel(n_jobs=-1)]: Done  75 tasks      | elapsed:   43.9s\n",
            "[Parallel(n_jobs=-1)]: Done  76 tasks      | elapsed:   43.9s\n"
          ],
          "name": "stderr"
        },
        {
          "output_type": "stream",
          "text": [
            "building tree 77 of 100\n",
            "building tree 78 of 100\n"
          ],
          "name": "stdout"
        },
        {
          "output_type": "stream",
          "text": [
            "[Parallel(n_jobs=-1)]: Done  77 tasks      | elapsed:   45.0s\n",
            "[Parallel(n_jobs=-1)]: Done  78 tasks      | elapsed:   45.0s\n"
          ],
          "name": "stderr"
        },
        {
          "output_type": "stream",
          "text": [
            "building tree 79 of 100\n",
            "building tree 80 of 100\n"
          ],
          "name": "stdout"
        },
        {
          "output_type": "stream",
          "text": [
            "[Parallel(n_jobs=-1)]: Done  79 tasks      | elapsed:   46.2s\n",
            "[Parallel(n_jobs=-1)]: Done  80 tasks      | elapsed:   46.2s\n"
          ],
          "name": "stderr"
        },
        {
          "output_type": "stream",
          "text": [
            "building tree 81 of 100\n",
            "building tree 82 of 100\n"
          ],
          "name": "stdout"
        },
        {
          "output_type": "stream",
          "text": [
            "[Parallel(n_jobs=-1)]: Done  81 tasks      | elapsed:   47.2s\n",
            "[Parallel(n_jobs=-1)]: Done  82 tasks      | elapsed:   47.4s\n"
          ],
          "name": "stderr"
        },
        {
          "output_type": "stream",
          "text": [
            "building tree 83 of 100\n",
            "building tree 84 of 100\n"
          ],
          "name": "stdout"
        },
        {
          "output_type": "stream",
          "text": [
            "[Parallel(n_jobs=-1)]: Done  83 tasks      | elapsed:   48.5s\n",
            "[Parallel(n_jobs=-1)]: Done  84 tasks      | elapsed:   48.6s\n"
          ],
          "name": "stderr"
        },
        {
          "output_type": "stream",
          "text": [
            "building tree 85 of 100\n",
            "building tree 86 of 100\n",
            "building tree 87 of 100\n",
            "building tree 88 of 100\n"
          ],
          "name": "stdout"
        },
        {
          "output_type": "stream",
          "text": [
            "[Parallel(n_jobs=-1)]: Done  85 tasks      | elapsed:   49.6s\n",
            "[Parallel(n_jobs=-1)]: Done  86 tasks      | elapsed:   49.7s\n",
            "[Parallel(n_jobs=-1)]: Done  87 tasks      | elapsed:   50.7s\n",
            "[Parallel(n_jobs=-1)]: Done  88 tasks      | elapsed:   50.8s\n"
          ],
          "name": "stderr"
        },
        {
          "output_type": "stream",
          "text": [
            "building tree 89 of 100\n",
            "building tree 90 of 100\n"
          ],
          "name": "stdout"
        },
        {
          "output_type": "stream",
          "text": [
            "[Parallel(n_jobs=-1)]: Done  89 tasks      | elapsed:   51.8s\n",
            "[Parallel(n_jobs=-1)]: Done  90 tasks      | elapsed:   51.9s\n"
          ],
          "name": "stderr"
        },
        {
          "output_type": "stream",
          "text": [
            "building tree 91 of 100\n",
            "building tree 92 of 100\n"
          ],
          "name": "stdout"
        },
        {
          "output_type": "stream",
          "text": [
            "[Parallel(n_jobs=-1)]: Done  91 tasks      | elapsed:   52.9s\n"
          ],
          "name": "stderr"
        },
        {
          "output_type": "stream",
          "text": [
            "building tree 93 of 100\n"
          ],
          "name": "stdout"
        },
        {
          "output_type": "stream",
          "text": [
            "[Parallel(n_jobs=-1)]: Done  92 tasks      | elapsed:   53.1s\n"
          ],
          "name": "stderr"
        },
        {
          "output_type": "stream",
          "text": [
            "building tree 94 of 100\n",
            "building tree 95 of 100\n"
          ],
          "name": "stdout"
        },
        {
          "output_type": "stream",
          "text": [
            "[Parallel(n_jobs=-1)]: Done  93 tasks      | elapsed:   54.0s\n",
            "[Parallel(n_jobs=-1)]: Done  94 tasks      | elapsed:   54.3s\n"
          ],
          "name": "stderr"
        },
        {
          "output_type": "stream",
          "text": [
            "building tree 96 of 100\n"
          ],
          "name": "stdout"
        },
        {
          "output_type": "stream",
          "text": [
            "[Parallel(n_jobs=-1)]: Done  95 tasks      | elapsed:   55.2s\n"
          ],
          "name": "stderr"
        },
        {
          "output_type": "stream",
          "text": [
            "building tree 97 of 100\n"
          ],
          "name": "stdout"
        },
        {
          "output_type": "stream",
          "text": [
            "[Parallel(n_jobs=-1)]: Done  96 tasks      | elapsed:   55.5s\n"
          ],
          "name": "stderr"
        },
        {
          "output_type": "stream",
          "text": [
            "building tree 98 of 100\n"
          ],
          "name": "stdout"
        },
        {
          "output_type": "stream",
          "text": [
            "[Parallel(n_jobs=-1)]: Done  97 tasks      | elapsed:   56.4s\n"
          ],
          "name": "stderr"
        },
        {
          "output_type": "stream",
          "text": [
            "building tree 99 of 100\n",
            "building tree 100 of 100\n"
          ],
          "name": "stdout"
        },
        {
          "output_type": "stream",
          "text": [
            "[Parallel(n_jobs=-1)]: Done 100 out of 100 | elapsed:   57.6s finished\n",
            "[Parallel(n_jobs=2)]: Using backend ThreadingBackend with 2 concurrent workers.\n",
            "[Parallel(n_jobs=2)]: Done   1 tasks      | elapsed:    0.0s\n",
            "[Parallel(n_jobs=2)]: Done   2 tasks      | elapsed:    0.0s\n",
            "[Parallel(n_jobs=2)]: Done   3 tasks      | elapsed:    0.0s\n",
            "[Parallel(n_jobs=2)]: Done   4 tasks      | elapsed:    0.0s\n",
            "[Parallel(n_jobs=2)]: Done   5 tasks      | elapsed:    0.0s\n",
            "[Parallel(n_jobs=2)]: Done   6 tasks      | elapsed:    0.0s\n",
            "[Parallel(n_jobs=2)]: Done   7 tasks      | elapsed:    0.1s\n",
            "[Parallel(n_jobs=2)]: Done   8 tasks      | elapsed:    0.1s\n",
            "[Parallel(n_jobs=2)]: Done   9 tasks      | elapsed:    0.1s\n",
            "[Parallel(n_jobs=2)]: Done  10 tasks      | elapsed:    0.1s\n",
            "[Parallel(n_jobs=2)]: Done  11 tasks      | elapsed:    0.1s\n",
            "[Parallel(n_jobs=2)]: Done  12 tasks      | elapsed:    0.1s\n",
            "[Parallel(n_jobs=2)]: Done  13 tasks      | elapsed:    0.1s\n",
            "[Parallel(n_jobs=2)]: Done  14 tasks      | elapsed:    0.1s\n",
            "[Parallel(n_jobs=2)]: Done  15 tasks      | elapsed:    0.1s\n",
            "[Parallel(n_jobs=2)]: Done  16 tasks      | elapsed:    0.1s\n",
            "[Parallel(n_jobs=2)]: Done  17 tasks      | elapsed:    0.1s\n",
            "[Parallel(n_jobs=2)]: Done  18 tasks      | elapsed:    0.1s\n",
            "[Parallel(n_jobs=2)]: Done  19 tasks      | elapsed:    0.2s\n",
            "[Parallel(n_jobs=2)]: Done  20 tasks      | elapsed:    0.2s\n",
            "[Parallel(n_jobs=2)]: Done  21 tasks      | elapsed:    0.2s\n",
            "[Parallel(n_jobs=2)]: Done  22 tasks      | elapsed:    0.2s\n",
            "[Parallel(n_jobs=2)]: Done  23 tasks      | elapsed:    0.2s\n",
            "[Parallel(n_jobs=2)]: Done  24 tasks      | elapsed:    0.2s\n",
            "[Parallel(n_jobs=2)]: Done  25 tasks      | elapsed:    0.2s\n",
            "[Parallel(n_jobs=2)]: Done  26 tasks      | elapsed:    0.2s\n",
            "[Parallel(n_jobs=2)]: Done  27 tasks      | elapsed:    0.2s\n",
            "[Parallel(n_jobs=2)]: Done  28 tasks      | elapsed:    0.2s\n",
            "[Parallel(n_jobs=2)]: Done  29 tasks      | elapsed:    0.2s\n",
            "[Parallel(n_jobs=2)]: Done  30 tasks      | elapsed:    0.2s\n",
            "[Parallel(n_jobs=2)]: Done  31 tasks      | elapsed:    0.2s\n",
            "[Parallel(n_jobs=2)]: Done  32 tasks      | elapsed:    0.3s\n",
            "[Parallel(n_jobs=2)]: Done  33 tasks      | elapsed:    0.3s\n",
            "[Parallel(n_jobs=2)]: Done  34 tasks      | elapsed:    0.3s\n",
            "[Parallel(n_jobs=2)]: Done  35 tasks      | elapsed:    0.3s\n",
            "[Parallel(n_jobs=2)]: Done  36 tasks      | elapsed:    0.3s\n",
            "[Parallel(n_jobs=2)]: Done  37 tasks      | elapsed:    0.3s\n",
            "[Parallel(n_jobs=2)]: Done  38 tasks      | elapsed:    0.3s\n",
            "[Parallel(n_jobs=2)]: Done  39 tasks      | elapsed:    0.3s\n",
            "[Parallel(n_jobs=2)]: Done  40 tasks      | elapsed:    0.3s\n",
            "[Parallel(n_jobs=2)]: Done  41 tasks      | elapsed:    0.3s\n",
            "[Parallel(n_jobs=2)]: Done  42 tasks      | elapsed:    0.3s\n",
            "[Parallel(n_jobs=2)]: Done  43 tasks      | elapsed:    0.3s\n",
            "[Parallel(n_jobs=2)]: Done  44 tasks      | elapsed:    0.4s\n",
            "[Parallel(n_jobs=2)]: Done  45 tasks      | elapsed:    0.4s\n",
            "[Parallel(n_jobs=2)]: Done  46 tasks      | elapsed:    0.4s\n",
            "[Parallel(n_jobs=2)]: Done  47 tasks      | elapsed:    0.4s\n",
            "[Parallel(n_jobs=2)]: Done  48 tasks      | elapsed:    0.4s\n",
            "[Parallel(n_jobs=2)]: Done  49 tasks      | elapsed:    0.4s\n",
            "[Parallel(n_jobs=2)]: Done  50 tasks      | elapsed:    0.4s\n",
            "[Parallel(n_jobs=2)]: Done  51 tasks      | elapsed:    0.4s\n",
            "[Parallel(n_jobs=2)]: Done  52 tasks      | elapsed:    0.4s\n",
            "[Parallel(n_jobs=2)]: Done  53 tasks      | elapsed:    0.4s\n",
            "[Parallel(n_jobs=2)]: Done  54 tasks      | elapsed:    0.4s\n",
            "[Parallel(n_jobs=2)]: Done  55 tasks      | elapsed:    0.5s\n",
            "[Parallel(n_jobs=2)]: Done  56 tasks      | elapsed:    0.5s\n",
            "[Parallel(n_jobs=2)]: Done  57 tasks      | elapsed:    0.5s\n",
            "[Parallel(n_jobs=2)]: Done  58 tasks      | elapsed:    0.5s\n",
            "[Parallel(n_jobs=2)]: Done  59 tasks      | elapsed:    0.5s\n",
            "[Parallel(n_jobs=2)]: Done  60 tasks      | elapsed:    0.5s\n",
            "[Parallel(n_jobs=2)]: Done  61 tasks      | elapsed:    0.5s\n",
            "[Parallel(n_jobs=2)]: Done  62 tasks      | elapsed:    0.5s\n",
            "[Parallel(n_jobs=2)]: Done  63 tasks      | elapsed:    0.5s\n",
            "[Parallel(n_jobs=2)]: Done  64 tasks      | elapsed:    0.5s\n",
            "[Parallel(n_jobs=2)]: Done  65 tasks      | elapsed:    0.5s\n",
            "[Parallel(n_jobs=2)]: Done  66 tasks      | elapsed:    0.6s\n",
            "[Parallel(n_jobs=2)]: Done  67 tasks      | elapsed:    0.6s\n",
            "[Parallel(n_jobs=2)]: Done  68 tasks      | elapsed:    0.6s\n",
            "[Parallel(n_jobs=2)]: Done  69 tasks      | elapsed:    0.6s\n",
            "[Parallel(n_jobs=2)]: Done  70 tasks      | elapsed:    0.6s\n",
            "[Parallel(n_jobs=2)]: Done  71 tasks      | elapsed:    0.6s\n",
            "[Parallel(n_jobs=2)]: Done  72 tasks      | elapsed:    0.6s\n",
            "[Parallel(n_jobs=2)]: Done  73 tasks      | elapsed:    0.6s\n",
            "[Parallel(n_jobs=2)]: Done  74 tasks      | elapsed:    0.6s\n",
            "[Parallel(n_jobs=2)]: Done  75 tasks      | elapsed:    0.6s\n",
            "[Parallel(n_jobs=2)]: Done  76 tasks      | elapsed:    0.6s\n",
            "[Parallel(n_jobs=2)]: Done  77 tasks      | elapsed:    0.7s\n",
            "[Parallel(n_jobs=2)]: Done  78 tasks      | elapsed:    0.7s\n",
            "[Parallel(n_jobs=2)]: Done  79 tasks      | elapsed:    0.7s\n",
            "[Parallel(n_jobs=2)]: Done  80 tasks      | elapsed:    0.7s\n",
            "[Parallel(n_jobs=2)]: Done  81 tasks      | elapsed:    0.7s\n",
            "[Parallel(n_jobs=2)]: Done  82 tasks      | elapsed:    0.7s\n",
            "[Parallel(n_jobs=2)]: Done  83 tasks      | elapsed:    0.7s\n",
            "[Parallel(n_jobs=2)]: Done  84 tasks      | elapsed:    0.7s\n",
            "[Parallel(n_jobs=2)]: Done  85 tasks      | elapsed:    0.7s\n",
            "[Parallel(n_jobs=2)]: Done  86 tasks      | elapsed:    0.7s\n",
            "[Parallel(n_jobs=2)]: Done  87 tasks      | elapsed:    0.7s\n",
            "[Parallel(n_jobs=2)]: Done  88 tasks      | elapsed:    0.7s\n",
            "[Parallel(n_jobs=2)]: Done  89 tasks      | elapsed:    0.8s\n",
            "[Parallel(n_jobs=2)]: Done  90 tasks      | elapsed:    0.8s\n",
            "[Parallel(n_jobs=2)]: Done  91 tasks      | elapsed:    0.8s\n",
            "[Parallel(n_jobs=2)]: Done  92 tasks      | elapsed:    0.8s\n",
            "[Parallel(n_jobs=2)]: Done  93 tasks      | elapsed:    0.8s\n"
          ],
          "name": "stderr"
        },
        {
          "output_type": "stream",
          "text": [
            "Accuracy of Random Forest classifier is: 0.720064 \n"
          ],
          "name": "stdout"
        },
        {
          "output_type": "stream",
          "text": [
            "[Parallel(n_jobs=2)]: Done  94 tasks      | elapsed:    0.8s\n",
            "[Parallel(n_jobs=2)]: Done  95 tasks      | elapsed:    0.8s\n",
            "[Parallel(n_jobs=2)]: Done  96 tasks      | elapsed:    0.8s\n",
            "[Parallel(n_jobs=2)]: Done  97 tasks      | elapsed:    0.8s\n",
            "[Parallel(n_jobs=2)]: Done 100 out of 100 | elapsed:    0.8s finished\n"
          ],
          "name": "stderr"
        }
      ]
    },
    {
      "cell_type": "code",
      "metadata": {
        "colab": {
          "base_uri": "https://localhost:8080/"
        },
        "id": "jOAkG8BYcEJ8",
        "outputId": "f740c232-ab3b-433e-ab22-dc67755a3e34"
      },
      "source": [
        "from sklearn.metrics import confusion_matrix\n",
        "from sklearn.metrics import classification_report\n",
        "matrix = confusion_matrix(y_test,y_pred, labels=[1,-1])\n",
        "print('Confusion matrix : \\n',matrix)\n",
        "\n",
        "# outcome values order in sklearn\n",
        "tp, fn, fp, tn = confusion_matrix(y_test,y_pred,labels=[1,-1]).reshape(-1)\n",
        "print('Outcome values : \\n', tp, fn, fp, tn)\n",
        "\n",
        "# classification report for precision, recall f1-score and accuracy\n",
        "matrix = classification_report(y_test,y_pred,labels=[1,-1])\n",
        "print('Classification report : \\n',matrix)"
      ],
      "execution_count": null,
      "outputs": [
        {
          "output_type": "stream",
          "text": [
            "Confusion matrix : \n",
            " [[4743 2119]\n",
            " [1909 5618]]\n",
            "Outcome values : \n",
            " 4743 2119 1909 5618\n",
            "Classification report : \n",
            "               precision    recall  f1-score   support\n",
            "\n",
            "           1       0.71      0.69      0.70      6862\n",
            "          -1       0.73      0.75      0.74      7527\n",
            "\n",
            "    accuracy                           0.72     14389\n",
            "   macro avg       0.72      0.72      0.72     14389\n",
            "weighted avg       0.72      0.72      0.72     14389\n",
            "\n"
          ],
          "name": "stdout"
        }
      ]
    },
    {
      "cell_type": "markdown",
      "metadata": {
        "id": "GPmsRYEJcOnJ"
      },
      "source": [
        "SVM Classifier\n",
        "\n",
        "*   Accuracy: 67.6%"
      ]
    },
    {
      "cell_type": "code",
      "metadata": {
        "colab": {
          "base_uri": "https://localhost:8080/"
        },
        "id": "qH71-PYQcQ2T",
        "outputId": "28f83608-4889-4fc3-f7e4-abe2acc53c45"
      },
      "source": [
        "print(\"training SVM classifier now ...\")\n",
        "\n",
        "svm_classifier = svm.SVC(verbose=12).fit(X_train,y_train)\n",
        "y_pred = svm_classifier.predict(X_test)\n",
        "acc = accuracy_score(y_test,y_pred)\n",
        "print('Accuracy of SVM classifier is: %f ' % acc)\n",
        "\n",
        "print(\"current time:-\", datetime.datetime.now())"
      ],
      "execution_count": null,
      "outputs": [
        {
          "output_type": "stream",
          "text": [
            "training SVM classifier now ...\n",
            "[LibSVM]Accuracy of SVM classifier is: 0.665578 \n",
            "current time:- 2021-04-08 09:24:34.290903\n"
          ],
          "name": "stdout"
        }
      ]
    },
    {
      "cell_type": "code",
      "metadata": {
        "colab": {
          "base_uri": "https://localhost:8080/"
        },
        "id": "GyonSUrUcF27",
        "outputId": "c4d89178-2e14-4b6d-9ba3-2e0c7edacab0"
      },
      "source": [
        "from sklearn.metrics import confusion_matrix\n",
        "from sklearn.metrics import classification_report\n",
        "matrix = confusion_matrix(y_test,y_pred, labels=[1,-1])\n",
        "print('Confusion matrix : \\n',matrix)\n",
        "\n",
        "# outcome values order in sklearn\n",
        "tp, fn, fp, tn = confusion_matrix(y_test,y_pred,labels=[1,-1]).reshape(-1)\n",
        "print('Outcome values : \\n', tp, fn, fp, tn)\n",
        "\n",
        "# classification report for precision, recall f1-score and accuracy\n",
        "matrix = classification_report(y_test,y_pred,labels=[1,-1])\n",
        "print('Classification report : \\n',matrix)"
      ],
      "execution_count": null,
      "outputs": [
        {
          "output_type": "stream",
          "text": [
            "Confusion matrix : \n",
            " [[3675 3187]\n",
            " [1625 5902]]\n",
            "Outcome values : \n",
            " 3675 3187 1625 5902\n",
            "Classification report : \n",
            "               precision    recall  f1-score   support\n",
            "\n",
            "           1       0.69      0.54      0.60      6862\n",
            "          -1       0.65      0.78      0.71      7527\n",
            "\n",
            "    accuracy                           0.67     14389\n",
            "   macro avg       0.67      0.66      0.66     14389\n",
            "weighted avg       0.67      0.67      0.66     14389\n",
            "\n"
          ],
          "name": "stdout"
        }
      ]
    },
    {
      "cell_type": "code",
      "metadata": {
        "id": "wdV3vLp6cGPB"
      },
      "source": [
        ""
      ],
      "execution_count": null,
      "outputs": []
    }
  ]
}