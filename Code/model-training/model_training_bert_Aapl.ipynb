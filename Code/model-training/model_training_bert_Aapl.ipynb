{
  "nbformat": 4,
  "nbformat_minor": 0,
  "metadata": {
    "colab": {
      "name": "model_training_bert_lr.ipynb",
      "provenance": []
    },
    "kernelspec": {
      "name": "python3",
      "display_name": "Python 3"
    },
    "language_info": {
      "name": "python"
    },
    "accelerator": "GPU"
  },
  "cells": [
    {
      "cell_type": "code",
      "metadata": {
        "colab": {
          "base_uri": "https://localhost:8080/"
        },
        "id": "XGNy-BRiv10n",
        "outputId": "cb829eec-12a6-4223-e89e-16943456697d"
      },
      "source": [
        "from google.colab import drive\n",
        "drive.mount('/content/drive')"
      ],
      "execution_count": null,
      "outputs": [
        {
          "output_type": "stream",
          "text": [
            "Mounted at /content/drive\n"
          ],
          "name": "stdout"
        }
      ]
    },
    {
      "cell_type": "code",
      "metadata": {
        "id": "Iqc_1Pi6N7U7"
      },
      "source": [
        "from sklearn.model_selection import train_test_split\n",
        "from sklearn.decomposition import PCA\n",
        "from sklearn.metrics import accuracy_score\n",
        "from sklearn.linear_model import LogisticRegression\n",
        "from sklearn.ensemble import RandomForestClassifier\n",
        "from sklearn import svm\n",
        "from sklearn import tree\n",
        "from tensorflow import keras\n",
        "import pickle\n",
        "import datetime\n",
        "import numpy as np"
      ],
      "execution_count": null,
      "outputs": []
    },
    {
      "cell_type": "code",
      "metadata": {
        "id": "p-r3hZKZGRw9"
      },
      "source": [
        "from sklearn.metrics import classification_report\n",
        "from sklearn.metrics import confusion_matrix"
      ],
      "execution_count": null,
      "outputs": []
    },
    {
      "cell_type": "code",
      "metadata": {
        "id": "x_irzyTOOOhM"
      },
      "source": [
        "with open('/content/drive/MyDrive/CSE573-SWM-Data/features_bert.pkl', 'rb') as f:\n",
        "    labelled_aapl_news_df = pickle.load(f)"
      ],
      "execution_count": null,
      "outputs": []
    },
    {
      "cell_type": "code",
      "metadata": {
        "id": "zD8Y_9WCOXef"
      },
      "source": [
        "with open('/content/drive/MyDrive/CSE573-SWM-Data/AaplLabelledNewsData-OrderPreserved.pkl', 'rb') as f:\n",
        "    label = pickle.load(f)"
      ],
      "execution_count": null,
      "outputs": []
    },
    {
      "cell_type": "code",
      "metadata": {
        "id": "fT0AW3AtTx46"
      },
      "source": [
        "with open('/content/drive/MyDrive/CSE573-SWM-Data/AmznLabelledNewsData-OrderPreserved.pkl', 'rb') as f:\n",
        "    labelled_amzn_news_df = pickle.load(f)"
      ],
      "execution_count": null,
      "outputs": []
    },
    {
      "cell_type": "code",
      "metadata": {
        "colab": {
          "base_uri": "https://localhost:8080/",
          "height": 402
        },
        "id": "FhVqThwMTxgi",
        "outputId": "a87edf00-faae-4851-cf0c-cad81c87cfea"
      },
      "source": [
        "labelled_amzn_news_df"
      ],
      "execution_count": null,
      "outputs": [
        {
          "output_type": "execute_result",
          "data": {
            "text/html": [
              "<div>\n",
              "<style scoped>\n",
              "    .dataframe tbody tr th:only-of-type {\n",
              "        vertical-align: middle;\n",
              "    }\n",
              "\n",
              "    .dataframe tbody tr th {\n",
              "        vertical-align: top;\n",
              "    }\n",
              "\n",
              "    .dataframe thead th {\n",
              "        text-align: right;\n",
              "    }\n",
              "</style>\n",
              "<table border=\"1\" class=\"dataframe\">\n",
              "  <thead>\n",
              "    <tr style=\"text-align: right;\">\n",
              "      <th></th>\n",
              "      <th>news_timestamp</th>\n",
              "      <th>stock_timestamp</th>\n",
              "      <th>source</th>\n",
              "      <th>tokens</th>\n",
              "      <th>label</th>\n",
              "    </tr>\n",
              "  </thead>\n",
              "  <tbody>\n",
              "    <tr>\n",
              "      <th>0</th>\n",
              "      <td>2017-12-15 12:04:00</td>\n",
              "      <td>2017-12-18</td>\n",
              "      <td>seekingalpha.com</td>\n",
              "      <td>[amazon, soon, sell, pull, e, platform, two, y...</td>\n",
              "      <td>1</td>\n",
              "    </tr>\n",
              "    <tr>\n",
              "      <th>1</th>\n",
              "      <td>2017-12-21 12:04:00</td>\n",
              "      <td>2017-12-22</td>\n",
              "      <td>seekingalpha.com</td>\n",
              "      <td>[line, cashier, similar, fashion, futurist, am...</td>\n",
              "      <td>-1</td>\n",
              "    </tr>\n",
              "    <tr>\n",
              "      <th>2</th>\n",
              "      <td>2017-12-21 12:27:00</td>\n",
              "      <td>2017-12-22</td>\n",
              "      <td>thestreet.com</td>\n",
              "      <td>[fit, fang, stock, amazon, alphabet, drug, int...</td>\n",
              "      <td>-1</td>\n",
              "    </tr>\n",
              "    <tr>\n",
              "      <th>3</th>\n",
              "      <td>2017-12-22 00:00:00</td>\n",
              "      <td>2017-12-26</td>\n",
              "      <td>investors.com</td>\n",
              "      <td>[amazon, cloud, china]</td>\n",
              "      <td>1</td>\n",
              "    </tr>\n",
              "    <tr>\n",
              "      <th>4</th>\n",
              "      <td>2017-12-22 20:57:00</td>\n",
              "      <td>2017-12-26</td>\n",
              "      <td>yahoo.com</td>\n",
              "      <td>[stream, stick, plus, offer, play, amazon, con...</td>\n",
              "      <td>1</td>\n",
              "    </tr>\n",
              "    <tr>\n",
              "      <th>...</th>\n",
              "      <td>...</td>\n",
              "      <td>...</td>\n",
              "      <td>...</td>\n",
              "      <td>...</td>\n",
              "      <td>...</td>\n",
              "    </tr>\n",
              "    <tr>\n",
              "      <th>19911</th>\n",
              "      <td>2019-01-31 21:42:00</td>\n",
              "      <td>2019-02-01</td>\n",
              "      <td>nasdaq.com</td>\n",
              "      <td>[also, prove, reach, mani, entertain, age, soo...</td>\n",
              "      <td>-1</td>\n",
              "    </tr>\n",
              "    <tr>\n",
              "      <th>19912</th>\n",
              "      <td>2019-01-31 22:03:00</td>\n",
              "      <td>2019-02-01</td>\n",
              "      <td>makemefeed.com</td>\n",
              "      <td>[read, amazon, general, avail, publish, cost, ...</td>\n",
              "      <td>-1</td>\n",
              "    </tr>\n",
              "    <tr>\n",
              "      <th>19913</th>\n",
              "      <td>2019-01-31 22:05:00</td>\n",
              "      <td>2019-02-01</td>\n",
              "      <td>yahoo.com</td>\n",
              "      <td>[direct, cloud, amazon, unit, driven, match, l...</td>\n",
              "      <td>-1</td>\n",
              "    </tr>\n",
              "    <tr>\n",
              "      <th>19914</th>\n",
              "      <td>2019-01-31 23:24:00</td>\n",
              "      <td>2019-02-01</td>\n",
              "      <td>marketwatch.com</td>\n",
              "      <td>[earn, up, say, spend, strong, amazon, real, t...</td>\n",
              "      <td>-1</td>\n",
              "    </tr>\n",
              "    <tr>\n",
              "      <th>19915</th>\n",
              "      <td>2019-01-31 23:31:00</td>\n",
              "      <td>2019-02-01</td>\n",
              "      <td>marketwatch.com</td>\n",
              "      <td>[earn, up, say, spend, strong, amazon, real, t...</td>\n",
              "      <td>-1</td>\n",
              "    </tr>\n",
              "  </tbody>\n",
              "</table>\n",
              "<p>19916 rows × 5 columns</p>\n",
              "</div>"
            ],
            "text/plain": [
              "           news_timestamp  ... label\n",
              "0     2017-12-15 12:04:00  ...     1\n",
              "1     2017-12-21 12:04:00  ...    -1\n",
              "2     2017-12-21 12:27:00  ...    -1\n",
              "3     2017-12-22 00:00:00  ...     1\n",
              "4     2017-12-22 20:57:00  ...     1\n",
              "...                   ...  ...   ...\n",
              "19911 2019-01-31 21:42:00  ...    -1\n",
              "19912 2019-01-31 22:03:00  ...    -1\n",
              "19913 2019-01-31 22:05:00  ...    -1\n",
              "19914 2019-01-31 23:24:00  ...    -1\n",
              "19915 2019-01-31 23:31:00  ...    -1\n",
              "\n",
              "[19916 rows x 5 columns]"
            ]
          },
          "metadata": {
            "tags": []
          },
          "execution_count": 6
        }
      ]
    },
    {
      "cell_type": "code",
      "metadata": {
        "colab": {
          "base_uri": "https://localhost:8080/",
          "height": 422
        },
        "id": "OJ5n72ykuzYl",
        "outputId": "98c91cc1-787a-4d7f-85f8-f29668e8556e"
      },
      "source": [
        "labelled_aapl_news_df"
      ],
      "execution_count": null,
      "outputs": [
        {
          "output_type": "execute_result",
          "data": {
            "text/html": [
              "<div>\n",
              "<style scoped>\n",
              "    .dataframe tbody tr th:only-of-type {\n",
              "        vertical-align: middle;\n",
              "    }\n",
              "\n",
              "    .dataframe tbody tr th {\n",
              "        vertical-align: top;\n",
              "    }\n",
              "\n",
              "    .dataframe thead th {\n",
              "        text-align: right;\n",
              "    }\n",
              "</style>\n",
              "<table border=\"1\" class=\"dataframe\">\n",
              "  <thead>\n",
              "    <tr style=\"text-align: right;\">\n",
              "      <th></th>\n",
              "      <th>0</th>\n",
              "      <th>1</th>\n",
              "      <th>2</th>\n",
              "      <th>3</th>\n",
              "      <th>4</th>\n",
              "      <th>5</th>\n",
              "      <th>6</th>\n",
              "      <th>7</th>\n",
              "      <th>8</th>\n",
              "      <th>9</th>\n",
              "      <th>10</th>\n",
              "      <th>11</th>\n",
              "      <th>12</th>\n",
              "      <th>13</th>\n",
              "      <th>14</th>\n",
              "      <th>15</th>\n",
              "      <th>16</th>\n",
              "      <th>17</th>\n",
              "      <th>18</th>\n",
              "      <th>19</th>\n",
              "      <th>20</th>\n",
              "      <th>21</th>\n",
              "      <th>22</th>\n",
              "      <th>23</th>\n",
              "      <th>24</th>\n",
              "      <th>25</th>\n",
              "      <th>26</th>\n",
              "      <th>27</th>\n",
              "      <th>28</th>\n",
              "      <th>29</th>\n",
              "      <th>30</th>\n",
              "      <th>31</th>\n",
              "      <th>32</th>\n",
              "      <th>33</th>\n",
              "      <th>34</th>\n",
              "      <th>35</th>\n",
              "      <th>36</th>\n",
              "      <th>37</th>\n",
              "      <th>38</th>\n",
              "      <th>39</th>\n",
              "      <th>...</th>\n",
              "      <th>728</th>\n",
              "      <th>729</th>\n",
              "      <th>730</th>\n",
              "      <th>731</th>\n",
              "      <th>732</th>\n",
              "      <th>733</th>\n",
              "      <th>734</th>\n",
              "      <th>735</th>\n",
              "      <th>736</th>\n",
              "      <th>737</th>\n",
              "      <th>738</th>\n",
              "      <th>739</th>\n",
              "      <th>740</th>\n",
              "      <th>741</th>\n",
              "      <th>742</th>\n",
              "      <th>743</th>\n",
              "      <th>744</th>\n",
              "      <th>745</th>\n",
              "      <th>746</th>\n",
              "      <th>747</th>\n",
              "      <th>748</th>\n",
              "      <th>749</th>\n",
              "      <th>750</th>\n",
              "      <th>751</th>\n",
              "      <th>752</th>\n",
              "      <th>753</th>\n",
              "      <th>754</th>\n",
              "      <th>755</th>\n",
              "      <th>756</th>\n",
              "      <th>757</th>\n",
              "      <th>758</th>\n",
              "      <th>759</th>\n",
              "      <th>760</th>\n",
              "      <th>761</th>\n",
              "      <th>762</th>\n",
              "      <th>763</th>\n",
              "      <th>764</th>\n",
              "      <th>765</th>\n",
              "      <th>766</th>\n",
              "      <th>767</th>\n",
              "    </tr>\n",
              "  </thead>\n",
              "  <tbody>\n",
              "    <tr>\n",
              "      <th>0</th>\n",
              "      <td>0.998480</td>\n",
              "      <td>0.185802</td>\n",
              "      <td>-0.749198</td>\n",
              "      <td>0.942997</td>\n",
              "      <td>-0.001644</td>\n",
              "      <td>0.450542</td>\n",
              "      <td>0.076995</td>\n",
              "      <td>-0.081277</td>\n",
              "      <td>0.830933</td>\n",
              "      <td>-0.255133</td>\n",
              "      <td>0.009369</td>\n",
              "      <td>0.968556</td>\n",
              "      <td>-0.991179</td>\n",
              "      <td>0.013562</td>\n",
              "      <td>-0.184965</td>\n",
              "      <td>-0.101498</td>\n",
              "      <td>-0.234722</td>\n",
              "      <td>-0.267740</td>\n",
              "      <td>-0.142094</td>\n",
              "      <td>-0.494185</td>\n",
              "      <td>-0.833274</td>\n",
              "      <td>0.998694</td>\n",
              "      <td>0.999988</td>\n",
              "      <td>0.782629</td>\n",
              "      <td>-0.036399</td>\n",
              "      <td>0.999996</td>\n",
              "      <td>0.922234</td>\n",
              "      <td>0.084103</td>\n",
              "      <td>0.109626</td>\n",
              "      <td>-0.071285</td>\n",
              "      <td>-0.112432</td>\n",
              "      <td>0.112952</td>\n",
              "      <td>-0.114782</td>\n",
              "      <td>-0.407780</td>\n",
              "      <td>-0.075695</td>\n",
              "      <td>0.999991</td>\n",
              "      <td>-0.047267</td>\n",
              "      <td>-0.240663</td>\n",
              "      <td>0.200785</td>\n",
              "      <td>0.010552</td>\n",
              "      <td>...</td>\n",
              "      <td>-0.245162</td>\n",
              "      <td>-0.215614</td>\n",
              "      <td>-0.999718</td>\n",
              "      <td>-0.384240</td>\n",
              "      <td>-0.330383</td>\n",
              "      <td>-0.012683</td>\n",
              "      <td>0.215004</td>\n",
              "      <td>0.191728</td>\n",
              "      <td>0.557798</td>\n",
              "      <td>0.195679</td>\n",
              "      <td>0.033481</td>\n",
              "      <td>0.046389</td>\n",
              "      <td>-0.443322</td>\n",
              "      <td>0.227595</td>\n",
              "      <td>0.999995</td>\n",
              "      <td>-0.998695</td>\n",
              "      <td>0.139598</td>\n",
              "      <td>0.341556</td>\n",
              "      <td>-0.042029</td>\n",
              "      <td>-0.370607</td>\n",
              "      <td>-0.826716</td>\n",
              "      <td>-0.987370</td>\n",
              "      <td>0.053348</td>\n",
              "      <td>-0.149495</td>\n",
              "      <td>-0.043396</td>\n",
              "      <td>0.408270</td>\n",
              "      <td>0.999563</td>\n",
              "      <td>-0.985880</td>\n",
              "      <td>0.450992</td>\n",
              "      <td>-0.383486</td>\n",
              "      <td>-0.400671</td>\n",
              "      <td>0.081551</td>\n",
              "      <td>-0.187845</td>\n",
              "      <td>-0.078403</td>\n",
              "      <td>0.447242</td>\n",
              "      <td>-0.394602</td>\n",
              "      <td>-0.978382</td>\n",
              "      <td>-0.502592</td>\n",
              "      <td>-0.449744</td>\n",
              "      <td>0.125393</td>\n",
              "    </tr>\n",
              "    <tr>\n",
              "      <th>1</th>\n",
              "      <td>0.999215</td>\n",
              "      <td>0.163605</td>\n",
              "      <td>-0.754340</td>\n",
              "      <td>0.988832</td>\n",
              "      <td>-0.885227</td>\n",
              "      <td>0.466211</td>\n",
              "      <td>0.780001</td>\n",
              "      <td>0.039634</td>\n",
              "      <td>0.790406</td>\n",
              "      <td>-0.215173</td>\n",
              "      <td>-0.015994</td>\n",
              "      <td>0.997939</td>\n",
              "      <td>-0.886562</td>\n",
              "      <td>0.028385</td>\n",
              "      <td>-0.237472</td>\n",
              "      <td>0.064601</td>\n",
              "      <td>-0.159112</td>\n",
              "      <td>0.011418</td>\n",
              "      <td>-0.143358</td>\n",
              "      <td>0.420182</td>\n",
              "      <td>-0.868819</td>\n",
              "      <td>0.999715</td>\n",
              "      <td>0.999991</td>\n",
              "      <td>0.861396</td>\n",
              "      <td>-0.869721</td>\n",
              "      <td>0.999994</td>\n",
              "      <td>0.597488</td>\n",
              "      <td>0.062633</td>\n",
              "      <td>0.107319</td>\n",
              "      <td>0.040668</td>\n",
              "      <td>-0.168877</td>\n",
              "      <td>-0.005085</td>\n",
              "      <td>-0.133148</td>\n",
              "      <td>-0.318000</td>\n",
              "      <td>0.010220</td>\n",
              "      <td>0.999992</td>\n",
              "      <td>-0.105580</td>\n",
              "      <td>-0.096250</td>\n",
              "      <td>0.036694</td>\n",
              "      <td>-0.335544</td>\n",
              "      <td>...</td>\n",
              "      <td>-0.091442</td>\n",
              "      <td>-0.367908</td>\n",
              "      <td>-0.999878</td>\n",
              "      <td>-0.074757</td>\n",
              "      <td>-0.390964</td>\n",
              "      <td>-0.321635</td>\n",
              "      <td>0.277659</td>\n",
              "      <td>-0.086195</td>\n",
              "      <td>0.487315</td>\n",
              "      <td>-0.364122</td>\n",
              "      <td>0.363047</td>\n",
              "      <td>0.037546</td>\n",
              "      <td>-0.061638</td>\n",
              "      <td>0.293057</td>\n",
              "      <td>0.999992</td>\n",
              "      <td>-0.998933</td>\n",
              "      <td>0.208079</td>\n",
              "      <td>0.031070</td>\n",
              "      <td>0.201540</td>\n",
              "      <td>0.063337</td>\n",
              "      <td>-0.411108</td>\n",
              "      <td>-0.792206</td>\n",
              "      <td>-0.383569</td>\n",
              "      <td>-0.816493</td>\n",
              "      <td>0.003486</td>\n",
              "      <td>0.351372</td>\n",
              "      <td>0.999645</td>\n",
              "      <td>-0.890389</td>\n",
              "      <td>-0.534080</td>\n",
              "      <td>-0.296049</td>\n",
              "      <td>0.129302</td>\n",
              "      <td>0.023657</td>\n",
              "      <td>0.542901</td>\n",
              "      <td>-0.069524</td>\n",
              "      <td>0.450674</td>\n",
              "      <td>-0.524465</td>\n",
              "      <td>-0.347772</td>\n",
              "      <td>-0.918984</td>\n",
              "      <td>-0.467139</td>\n",
              "      <td>-0.177415</td>\n",
              "    </tr>\n",
              "    <tr>\n",
              "      <th>2</th>\n",
              "      <td>0.996632</td>\n",
              "      <td>0.200644</td>\n",
              "      <td>-0.888231</td>\n",
              "      <td>0.962662</td>\n",
              "      <td>-0.607704</td>\n",
              "      <td>0.486049</td>\n",
              "      <td>0.388193</td>\n",
              "      <td>-0.100889</td>\n",
              "      <td>0.950843</td>\n",
              "      <td>-0.298236</td>\n",
              "      <td>-0.003179</td>\n",
              "      <td>0.993116</td>\n",
              "      <td>-0.979245</td>\n",
              "      <td>0.040907</td>\n",
              "      <td>-0.271253</td>\n",
              "      <td>-0.182769</td>\n",
              "      <td>-0.140156</td>\n",
              "      <td>-0.119116</td>\n",
              "      <td>-0.035932</td>\n",
              "      <td>-0.140561</td>\n",
              "      <td>-0.789471</td>\n",
              "      <td>0.999446</td>\n",
              "      <td>0.999984</td>\n",
              "      <td>0.833500</td>\n",
              "      <td>-0.661385</td>\n",
              "      <td>0.999994</td>\n",
              "      <td>0.906260</td>\n",
              "      <td>0.261361</td>\n",
              "      <td>0.235644</td>\n",
              "      <td>-0.021435</td>\n",
              "      <td>0.067809</td>\n",
              "      <td>0.258160</td>\n",
              "      <td>-0.110639</td>\n",
              "      <td>-0.369449</td>\n",
              "      <td>0.038876</td>\n",
              "      <td>0.999986</td>\n",
              "      <td>0.012534</td>\n",
              "      <td>-0.036570</td>\n",
              "      <td>0.261372</td>\n",
              "      <td>-0.019274</td>\n",
              "      <td>...</td>\n",
              "      <td>0.085798</td>\n",
              "      <td>-0.274852</td>\n",
              "      <td>-0.999826</td>\n",
              "      <td>-0.400168</td>\n",
              "      <td>-0.126331</td>\n",
              "      <td>-0.384622</td>\n",
              "      <td>0.223157</td>\n",
              "      <td>0.048022</td>\n",
              "      <td>0.344656</td>\n",
              "      <td>-0.232582</td>\n",
              "      <td>0.433267</td>\n",
              "      <td>0.001603</td>\n",
              "      <td>-0.059757</td>\n",
              "      <td>0.429404</td>\n",
              "      <td>0.999986</td>\n",
              "      <td>-0.997673</td>\n",
              "      <td>0.236019</td>\n",
              "      <td>0.024690</td>\n",
              "      <td>0.233518</td>\n",
              "      <td>-0.019485</td>\n",
              "      <td>-0.819746</td>\n",
              "      <td>-0.973452</td>\n",
              "      <td>0.696693</td>\n",
              "      <td>-0.748834</td>\n",
              "      <td>-0.124074</td>\n",
              "      <td>0.062469</td>\n",
              "      <td>0.999443</td>\n",
              "      <td>-0.965706</td>\n",
              "      <td>-0.310333</td>\n",
              "      <td>-0.366676</td>\n",
              "      <td>-0.240682</td>\n",
              "      <td>0.112837</td>\n",
              "      <td>0.095569</td>\n",
              "      <td>-0.041268</td>\n",
              "      <td>0.508598</td>\n",
              "      <td>-0.404887</td>\n",
              "      <td>-0.894957</td>\n",
              "      <td>-0.844636</td>\n",
              "      <td>0.091629</td>\n",
              "      <td>0.014209</td>\n",
              "    </tr>\n",
              "    <tr>\n",
              "      <th>3</th>\n",
              "      <td>0.990957</td>\n",
              "      <td>-0.059283</td>\n",
              "      <td>-0.999814</td>\n",
              "      <td>-0.075123</td>\n",
              "      <td>0.983791</td>\n",
              "      <td>0.056874</td>\n",
              "      <td>-0.989448</td>\n",
              "      <td>-0.251563</td>\n",
              "      <td>0.998770</td>\n",
              "      <td>-0.478367</td>\n",
              "      <td>0.227619</td>\n",
              "      <td>0.640589</td>\n",
              "      <td>-0.999927</td>\n",
              "      <td>-0.105065</td>\n",
              "      <td>-0.119066</td>\n",
              "      <td>-0.259519</td>\n",
              "      <td>-0.475774</td>\n",
              "      <td>0.359653</td>\n",
              "      <td>-0.251564</td>\n",
              "      <td>-0.993214</td>\n",
              "      <td>0.725514</td>\n",
              "      <td>0.983999</td>\n",
              "      <td>0.999806</td>\n",
              "      <td>0.993885</td>\n",
              "      <td>0.707927</td>\n",
              "      <td>0.999864</td>\n",
              "      <td>0.989344</td>\n",
              "      <td>0.104022</td>\n",
              "      <td>0.035775</td>\n",
              "      <td>0.175765</td>\n",
              "      <td>-0.388242</td>\n",
              "      <td>-0.113267</td>\n",
              "      <td>-0.007732</td>\n",
              "      <td>-0.084828</td>\n",
              "      <td>-0.166341</td>\n",
              "      <td>0.999499</td>\n",
              "      <td>-0.304427</td>\n",
              "      <td>-0.454381</td>\n",
              "      <td>0.502280</td>\n",
              "      <td>-0.170090</td>\n",
              "      <td>...</td>\n",
              "      <td>0.261035</td>\n",
              "      <td>-0.214013</td>\n",
              "      <td>-0.998316</td>\n",
              "      <td>-0.291073</td>\n",
              "      <td>-0.027280</td>\n",
              "      <td>0.321257</td>\n",
              "      <td>0.176894</td>\n",
              "      <td>0.057309</td>\n",
              "      <td>0.344888</td>\n",
              "      <td>0.048494</td>\n",
              "      <td>0.053594</td>\n",
              "      <td>0.215197</td>\n",
              "      <td>-0.083335</td>\n",
              "      <td>0.235332</td>\n",
              "      <td>0.999833</td>\n",
              "      <td>-0.985713</td>\n",
              "      <td>0.194607</td>\n",
              "      <td>0.176791</td>\n",
              "      <td>0.022914</td>\n",
              "      <td>-0.155854</td>\n",
              "      <td>-0.991109</td>\n",
              "      <td>-0.999344</td>\n",
              "      <td>0.054284</td>\n",
              "      <td>0.968813</td>\n",
              "      <td>0.227097</td>\n",
              "      <td>0.133988</td>\n",
              "      <td>0.996090</td>\n",
              "      <td>-0.999921</td>\n",
              "      <td>0.987301</td>\n",
              "      <td>0.040438</td>\n",
              "      <td>-0.322037</td>\n",
              "      <td>0.356310</td>\n",
              "      <td>-0.899738</td>\n",
              "      <td>0.148538</td>\n",
              "      <td>0.415329</td>\n",
              "      <td>0.028968</td>\n",
              "      <td>-0.996693</td>\n",
              "      <td>0.963918</td>\n",
              "      <td>0.863770</td>\n",
              "      <td>0.266421</td>\n",
              "    </tr>\n",
              "    <tr>\n",
              "      <th>4</th>\n",
              "      <td>0.999812</td>\n",
              "      <td>0.003635</td>\n",
              "      <td>-0.999793</td>\n",
              "      <td>0.068379</td>\n",
              "      <td>0.283065</td>\n",
              "      <td>-0.076281</td>\n",
              "      <td>-0.980671</td>\n",
              "      <td>-0.404462</td>\n",
              "      <td>0.999505</td>\n",
              "      <td>-0.215896</td>\n",
              "      <td>0.123621</td>\n",
              "      <td>0.955704</td>\n",
              "      <td>-0.999966</td>\n",
              "      <td>-0.131925</td>\n",
              "      <td>0.027068</td>\n",
              "      <td>-0.058135</td>\n",
              "      <td>0.083311</td>\n",
              "      <td>-0.214461</td>\n",
              "      <td>-0.122911</td>\n",
              "      <td>-0.997286</td>\n",
              "      <td>0.400570</td>\n",
              "      <td>0.999759</td>\n",
              "      <td>0.999999</td>\n",
              "      <td>0.988179</td>\n",
              "      <td>0.539486</td>\n",
              "      <td>0.999999</td>\n",
              "      <td>0.998237</td>\n",
              "      <td>0.157139</td>\n",
              "      <td>-0.109904</td>\n",
              "      <td>0.329804</td>\n",
              "      <td>0.251624</td>\n",
              "      <td>-0.295712</td>\n",
              "      <td>0.075346</td>\n",
              "      <td>0.079470</td>\n",
              "      <td>0.304058</td>\n",
              "      <td>0.999996</td>\n",
              "      <td>-0.086393</td>\n",
              "      <td>-0.292006</td>\n",
              "      <td>0.234725</td>\n",
              "      <td>0.025382</td>\n",
              "      <td>...</td>\n",
              "      <td>0.102963</td>\n",
              "      <td>0.173734</td>\n",
              "      <td>-0.999965</td>\n",
              "      <td>-0.348900</td>\n",
              "      <td>0.232018</td>\n",
              "      <td>0.058031</td>\n",
              "      <td>0.158775</td>\n",
              "      <td>-0.197270</td>\n",
              "      <td>0.321655</td>\n",
              "      <td>0.349348</td>\n",
              "      <td>-0.065911</td>\n",
              "      <td>-0.225471</td>\n",
              "      <td>-0.049008</td>\n",
              "      <td>0.071741</td>\n",
              "      <td>0.999999</td>\n",
              "      <td>-0.999753</td>\n",
              "      <td>0.063202</td>\n",
              "      <td>-0.025522</td>\n",
              "      <td>-0.039823</td>\n",
              "      <td>0.148371</td>\n",
              "      <td>-0.999404</td>\n",
              "      <td>-0.999809</td>\n",
              "      <td>0.267438</td>\n",
              "      <td>0.981517</td>\n",
              "      <td>0.121742</td>\n",
              "      <td>-0.029247</td>\n",
              "      <td>0.999933</td>\n",
              "      <td>-0.999967</td>\n",
              "      <td>0.965086</td>\n",
              "      <td>0.038859</td>\n",
              "      <td>-0.853468</td>\n",
              "      <td>0.015143</td>\n",
              "      <td>-0.703690</td>\n",
              "      <td>0.387385</td>\n",
              "      <td>0.161892</td>\n",
              "      <td>-0.027713</td>\n",
              "      <td>-0.998367</td>\n",
              "      <td>0.967428</td>\n",
              "      <td>0.859057</td>\n",
              "      <td>0.125498</td>\n",
              "    </tr>\n",
              "    <tr>\n",
              "      <th>...</th>\n",
              "      <td>...</td>\n",
              "      <td>...</td>\n",
              "      <td>...</td>\n",
              "      <td>...</td>\n",
              "      <td>...</td>\n",
              "      <td>...</td>\n",
              "      <td>...</td>\n",
              "      <td>...</td>\n",
              "      <td>...</td>\n",
              "      <td>...</td>\n",
              "      <td>...</td>\n",
              "      <td>...</td>\n",
              "      <td>...</td>\n",
              "      <td>...</td>\n",
              "      <td>...</td>\n",
              "      <td>...</td>\n",
              "      <td>...</td>\n",
              "      <td>...</td>\n",
              "      <td>...</td>\n",
              "      <td>...</td>\n",
              "      <td>...</td>\n",
              "      <td>...</td>\n",
              "      <td>...</td>\n",
              "      <td>...</td>\n",
              "      <td>...</td>\n",
              "      <td>...</td>\n",
              "      <td>...</td>\n",
              "      <td>...</td>\n",
              "      <td>...</td>\n",
              "      <td>...</td>\n",
              "      <td>...</td>\n",
              "      <td>...</td>\n",
              "      <td>...</td>\n",
              "      <td>...</td>\n",
              "      <td>...</td>\n",
              "      <td>...</td>\n",
              "      <td>...</td>\n",
              "      <td>...</td>\n",
              "      <td>...</td>\n",
              "      <td>...</td>\n",
              "      <td>...</td>\n",
              "      <td>...</td>\n",
              "      <td>...</td>\n",
              "      <td>...</td>\n",
              "      <td>...</td>\n",
              "      <td>...</td>\n",
              "      <td>...</td>\n",
              "      <td>...</td>\n",
              "      <td>...</td>\n",
              "      <td>...</td>\n",
              "      <td>...</td>\n",
              "      <td>...</td>\n",
              "      <td>...</td>\n",
              "      <td>...</td>\n",
              "      <td>...</td>\n",
              "      <td>...</td>\n",
              "      <td>...</td>\n",
              "      <td>...</td>\n",
              "      <td>...</td>\n",
              "      <td>...</td>\n",
              "      <td>...</td>\n",
              "      <td>...</td>\n",
              "      <td>...</td>\n",
              "      <td>...</td>\n",
              "      <td>...</td>\n",
              "      <td>...</td>\n",
              "      <td>...</td>\n",
              "      <td>...</td>\n",
              "      <td>...</td>\n",
              "      <td>...</td>\n",
              "      <td>...</td>\n",
              "      <td>...</td>\n",
              "      <td>...</td>\n",
              "      <td>...</td>\n",
              "      <td>...</td>\n",
              "      <td>...</td>\n",
              "      <td>...</td>\n",
              "      <td>...</td>\n",
              "      <td>...</td>\n",
              "      <td>...</td>\n",
              "      <td>...</td>\n",
              "    </tr>\n",
              "    <tr>\n",
              "      <th>71936</th>\n",
              "      <td>0.998674</td>\n",
              "      <td>-0.340337</td>\n",
              "      <td>-0.998431</td>\n",
              "      <td>-0.388076</td>\n",
              "      <td>0.915215</td>\n",
              "      <td>0.133936</td>\n",
              "      <td>-0.961845</td>\n",
              "      <td>-0.319299</td>\n",
              "      <td>0.983921</td>\n",
              "      <td>-0.288765</td>\n",
              "      <td>-0.224779</td>\n",
              "      <td>0.824314</td>\n",
              "      <td>-0.999540</td>\n",
              "      <td>-0.121808</td>\n",
              "      <td>-0.260595</td>\n",
              "      <td>-0.109558</td>\n",
              "      <td>-0.203178</td>\n",
              "      <td>0.342054</td>\n",
              "      <td>-0.189470</td>\n",
              "      <td>-0.992582</td>\n",
              "      <td>0.578316</td>\n",
              "      <td>0.996166</td>\n",
              "      <td>0.999902</td>\n",
              "      <td>0.992600</td>\n",
              "      <td>0.026838</td>\n",
              "      <td>0.999939</td>\n",
              "      <td>0.953629</td>\n",
              "      <td>-0.243915</td>\n",
              "      <td>-0.217893</td>\n",
              "      <td>-0.058403</td>\n",
              "      <td>-0.174243</td>\n",
              "      <td>-0.090586</td>\n",
              "      <td>0.374999</td>\n",
              "      <td>-0.066060</td>\n",
              "      <td>0.252598</td>\n",
              "      <td>0.999851</td>\n",
              "      <td>-0.293970</td>\n",
              "      <td>-0.124841</td>\n",
              "      <td>0.246327</td>\n",
              "      <td>-0.031342</td>\n",
              "      <td>...</td>\n",
              "      <td>0.286636</td>\n",
              "      <td>0.051191</td>\n",
              "      <td>-0.999097</td>\n",
              "      <td>-0.490069</td>\n",
              "      <td>0.285022</td>\n",
              "      <td>0.259077</td>\n",
              "      <td>0.253033</td>\n",
              "      <td>-0.152027</td>\n",
              "      <td>0.220746</td>\n",
              "      <td>0.347892</td>\n",
              "      <td>0.095403</td>\n",
              "      <td>-0.099248</td>\n",
              "      <td>-0.107950</td>\n",
              "      <td>0.101651</td>\n",
              "      <td>0.999894</td>\n",
              "      <td>-0.992340</td>\n",
              "      <td>-0.119125</td>\n",
              "      <td>0.302744</td>\n",
              "      <td>-0.007852</td>\n",
              "      <td>-0.167676</td>\n",
              "      <td>-0.988436</td>\n",
              "      <td>-0.999672</td>\n",
              "      <td>-0.236328</td>\n",
              "      <td>0.975177</td>\n",
              "      <td>0.551421</td>\n",
              "      <td>0.282300</td>\n",
              "      <td>0.999086</td>\n",
              "      <td>-0.999718</td>\n",
              "      <td>0.897668</td>\n",
              "      <td>-0.247356</td>\n",
              "      <td>-0.418696</td>\n",
              "      <td>0.490814</td>\n",
              "      <td>-0.415965</td>\n",
              "      <td>0.437055</td>\n",
              "      <td>0.350798</td>\n",
              "      <td>0.157768</td>\n",
              "      <td>-0.996883</td>\n",
              "      <td>0.945994</td>\n",
              "      <td>0.154084</td>\n",
              "      <td>0.163874</td>\n",
              "    </tr>\n",
              "    <tr>\n",
              "      <th>71937</th>\n",
              "      <td>0.994378</td>\n",
              "      <td>0.271104</td>\n",
              "      <td>-0.999224</td>\n",
              "      <td>0.358950</td>\n",
              "      <td>0.807616</td>\n",
              "      <td>0.081014</td>\n",
              "      <td>-0.989338</td>\n",
              "      <td>-0.097414</td>\n",
              "      <td>0.998691</td>\n",
              "      <td>-0.290639</td>\n",
              "      <td>0.025652</td>\n",
              "      <td>0.862736</td>\n",
              "      <td>-0.999985</td>\n",
              "      <td>-0.306527</td>\n",
              "      <td>0.163857</td>\n",
              "      <td>0.348081</td>\n",
              "      <td>-0.131496</td>\n",
              "      <td>0.206262</td>\n",
              "      <td>-0.195477</td>\n",
              "      <td>-0.988881</td>\n",
              "      <td>0.680405</td>\n",
              "      <td>0.990474</td>\n",
              "      <td>0.999973</td>\n",
              "      <td>0.999315</td>\n",
              "      <td>0.786453</td>\n",
              "      <td>0.999957</td>\n",
              "      <td>0.998975</td>\n",
              "      <td>-0.100827</td>\n",
              "      <td>0.159515</td>\n",
              "      <td>0.258665</td>\n",
              "      <td>0.016283</td>\n",
              "      <td>0.048920</td>\n",
              "      <td>-0.112513</td>\n",
              "      <td>-0.299242</td>\n",
              "      <td>0.112621</td>\n",
              "      <td>0.999883</td>\n",
              "      <td>0.182384</td>\n",
              "      <td>0.068707</td>\n",
              "      <td>0.114747</td>\n",
              "      <td>0.143196</td>\n",
              "      <td>...</td>\n",
              "      <td>0.139599</td>\n",
              "      <td>-0.322639</td>\n",
              "      <td>-0.999556</td>\n",
              "      <td>-0.016635</td>\n",
              "      <td>-0.023825</td>\n",
              "      <td>-0.167174</td>\n",
              "      <td>-0.393911</td>\n",
              "      <td>0.016763</td>\n",
              "      <td>0.358408</td>\n",
              "      <td>-0.220468</td>\n",
              "      <td>0.143624</td>\n",
              "      <td>0.155154</td>\n",
              "      <td>0.208886</td>\n",
              "      <td>0.263509</td>\n",
              "      <td>0.999966</td>\n",
              "      <td>-0.996243</td>\n",
              "      <td>0.218377</td>\n",
              "      <td>-0.026056</td>\n",
              "      <td>-0.207885</td>\n",
              "      <td>0.105160</td>\n",
              "      <td>-0.998886</td>\n",
              "      <td>-0.999584</td>\n",
              "      <td>-0.682347</td>\n",
              "      <td>0.915635</td>\n",
              "      <td>0.213795</td>\n",
              "      <td>-0.088223</td>\n",
              "      <td>0.996672</td>\n",
              "      <td>-0.999951</td>\n",
              "      <td>0.992825</td>\n",
              "      <td>0.019535</td>\n",
              "      <td>-0.028757</td>\n",
              "      <td>-0.328802</td>\n",
              "      <td>-0.949490</td>\n",
              "      <td>0.180049</td>\n",
              "      <td>0.187216</td>\n",
              "      <td>-0.068773</td>\n",
              "      <td>-0.994193</td>\n",
              "      <td>0.920226</td>\n",
              "      <td>0.980206</td>\n",
              "      <td>0.042602</td>\n",
              "    </tr>\n",
              "    <tr>\n",
              "      <th>71938</th>\n",
              "      <td>0.997230</td>\n",
              "      <td>0.166804</td>\n",
              "      <td>-0.897423</td>\n",
              "      <td>0.875233</td>\n",
              "      <td>0.336146</td>\n",
              "      <td>0.511070</td>\n",
              "      <td>-0.020668</td>\n",
              "      <td>-0.152556</td>\n",
              "      <td>0.898621</td>\n",
              "      <td>-0.199830</td>\n",
              "      <td>0.158566</td>\n",
              "      <td>0.989697</td>\n",
              "      <td>-0.996100</td>\n",
              "      <td>0.177988</td>\n",
              "      <td>0.056471</td>\n",
              "      <td>-0.202208</td>\n",
              "      <td>0.065915</td>\n",
              "      <td>-0.217649</td>\n",
              "      <td>-0.189166</td>\n",
              "      <td>-0.726084</td>\n",
              "      <td>-0.918338</td>\n",
              "      <td>0.999384</td>\n",
              "      <td>0.999992</td>\n",
              "      <td>0.638241</td>\n",
              "      <td>-0.276655</td>\n",
              "      <td>0.999999</td>\n",
              "      <td>0.970613</td>\n",
              "      <td>-0.051742</td>\n",
              "      <td>0.244661</td>\n",
              "      <td>-0.150682</td>\n",
              "      <td>0.018126</td>\n",
              "      <td>0.265998</td>\n",
              "      <td>-0.065808</td>\n",
              "      <td>-0.468604</td>\n",
              "      <td>0.125671</td>\n",
              "      <td>0.999994</td>\n",
              "      <td>-0.000986</td>\n",
              "      <td>-0.127254</td>\n",
              "      <td>-0.054985</td>\n",
              "      <td>-0.168967</td>\n",
              "      <td>...</td>\n",
              "      <td>0.356726</td>\n",
              "      <td>-0.105092</td>\n",
              "      <td>-0.999854</td>\n",
              "      <td>-0.374384</td>\n",
              "      <td>-0.136900</td>\n",
              "      <td>-0.233410</td>\n",
              "      <td>0.041907</td>\n",
              "      <td>0.219118</td>\n",
              "      <td>0.265580</td>\n",
              "      <td>-0.063474</td>\n",
              "      <td>0.545930</td>\n",
              "      <td>0.049912</td>\n",
              "      <td>-0.136450</td>\n",
              "      <td>0.328134</td>\n",
              "      <td>0.999994</td>\n",
              "      <td>-0.996609</td>\n",
              "      <td>0.127863</td>\n",
              "      <td>0.280418</td>\n",
              "      <td>0.216438</td>\n",
              "      <td>-0.180454</td>\n",
              "      <td>-0.980214</td>\n",
              "      <td>-0.988802</td>\n",
              "      <td>0.838360</td>\n",
              "      <td>-0.415445</td>\n",
              "      <td>0.011310</td>\n",
              "      <td>0.049075</td>\n",
              "      <td>0.999846</td>\n",
              "      <td>-0.988090</td>\n",
              "      <td>0.415557</td>\n",
              "      <td>-0.215965</td>\n",
              "      <td>-0.507820</td>\n",
              "      <td>0.050765</td>\n",
              "      <td>-0.414285</td>\n",
              "      <td>-0.127319</td>\n",
              "      <td>0.441977</td>\n",
              "      <td>-0.102775</td>\n",
              "      <td>-0.981895</td>\n",
              "      <td>-0.343067</td>\n",
              "      <td>0.064548</td>\n",
              "      <td>0.104286</td>\n",
              "    </tr>\n",
              "    <tr>\n",
              "      <th>71939</th>\n",
              "      <td>0.993905</td>\n",
              "      <td>0.219810</td>\n",
              "      <td>-0.805509</td>\n",
              "      <td>0.928771</td>\n",
              "      <td>0.137466</td>\n",
              "      <td>0.491001</td>\n",
              "      <td>0.083481</td>\n",
              "      <td>-0.111004</td>\n",
              "      <td>0.926198</td>\n",
              "      <td>-0.325032</td>\n",
              "      <td>-0.071491</td>\n",
              "      <td>0.986526</td>\n",
              "      <td>-0.969592</td>\n",
              "      <td>0.193832</td>\n",
              "      <td>-0.276164</td>\n",
              "      <td>-0.081622</td>\n",
              "      <td>0.045876</td>\n",
              "      <td>-0.137292</td>\n",
              "      <td>-0.263882</td>\n",
              "      <td>-0.084151</td>\n",
              "      <td>-0.915713</td>\n",
              "      <td>0.998889</td>\n",
              "      <td>0.999958</td>\n",
              "      <td>0.837545</td>\n",
              "      <td>-0.321077</td>\n",
              "      <td>0.999984</td>\n",
              "      <td>0.771055</td>\n",
              "      <td>0.255121</td>\n",
              "      <td>0.174802</td>\n",
              "      <td>-0.147691</td>\n",
              "      <td>0.249306</td>\n",
              "      <td>0.094806</td>\n",
              "      <td>-0.318244</td>\n",
              "      <td>-0.424799</td>\n",
              "      <td>-0.052843</td>\n",
              "      <td>0.999973</td>\n",
              "      <td>-0.182225</td>\n",
              "      <td>-0.033696</td>\n",
              "      <td>0.143649</td>\n",
              "      <td>-0.288247</td>\n",
              "      <td>...</td>\n",
              "      <td>0.206677</td>\n",
              "      <td>-0.034076</td>\n",
              "      <td>-0.999636</td>\n",
              "      <td>-0.305576</td>\n",
              "      <td>-0.163593</td>\n",
              "      <td>-0.220104</td>\n",
              "      <td>0.226838</td>\n",
              "      <td>0.089082</td>\n",
              "      <td>0.449882</td>\n",
              "      <td>-0.139288</td>\n",
              "      <td>0.442165</td>\n",
              "      <td>0.066853</td>\n",
              "      <td>-0.179245</td>\n",
              "      <td>0.330887</td>\n",
              "      <td>0.999973</td>\n",
              "      <td>-0.990190</td>\n",
              "      <td>0.209881</td>\n",
              "      <td>0.250785</td>\n",
              "      <td>0.200768</td>\n",
              "      <td>-0.124870</td>\n",
              "      <td>-0.718938</td>\n",
              "      <td>-0.978392</td>\n",
              "      <td>0.394525</td>\n",
              "      <td>-0.714982</td>\n",
              "      <td>-0.105633</td>\n",
              "      <td>0.149632</td>\n",
              "      <td>0.998610</td>\n",
              "      <td>-0.936246</td>\n",
              "      <td>-0.127116</td>\n",
              "      <td>-0.362003</td>\n",
              "      <td>-0.128046</td>\n",
              "      <td>0.045479</td>\n",
              "      <td>-0.237669</td>\n",
              "      <td>-0.170086</td>\n",
              "      <td>0.469077</td>\n",
              "      <td>-0.288613</td>\n",
              "      <td>-0.916356</td>\n",
              "      <td>-0.831444</td>\n",
              "      <td>0.085461</td>\n",
              "      <td>0.061188</td>\n",
              "    </tr>\n",
              "    <tr>\n",
              "      <th>71940</th>\n",
              "      <td>0.999627</td>\n",
              "      <td>0.050403</td>\n",
              "      <td>-0.999260</td>\n",
              "      <td>0.932814</td>\n",
              "      <td>0.426893</td>\n",
              "      <td>0.348107</td>\n",
              "      <td>-0.987881</td>\n",
              "      <td>-0.245771</td>\n",
              "      <td>0.999534</td>\n",
              "      <td>-0.112254</td>\n",
              "      <td>0.008593</td>\n",
              "      <td>0.983876</td>\n",
              "      <td>-0.999813</td>\n",
              "      <td>-0.302145</td>\n",
              "      <td>-0.035232</td>\n",
              "      <td>-0.029894</td>\n",
              "      <td>-0.400207</td>\n",
              "      <td>0.251789</td>\n",
              "      <td>-0.203674</td>\n",
              "      <td>-0.989789</td>\n",
              "      <td>0.784091</td>\n",
              "      <td>0.998803</td>\n",
              "      <td>0.999997</td>\n",
              "      <td>0.997187</td>\n",
              "      <td>0.079190</td>\n",
              "      <td>0.999999</td>\n",
              "      <td>0.999493</td>\n",
              "      <td>0.091055</td>\n",
              "      <td>0.158582</td>\n",
              "      <td>0.139110</td>\n",
              "      <td>-0.133773</td>\n",
              "      <td>-0.134256</td>\n",
              "      <td>-0.020186</td>\n",
              "      <td>-0.361149</td>\n",
              "      <td>-0.092764</td>\n",
              "      <td>0.999997</td>\n",
              "      <td>-0.164985</td>\n",
              "      <td>-0.061331</td>\n",
              "      <td>0.237278</td>\n",
              "      <td>-0.115736</td>\n",
              "      <td>...</td>\n",
              "      <td>0.353838</td>\n",
              "      <td>-0.194899</td>\n",
              "      <td>-0.999985</td>\n",
              "      <td>-0.236801</td>\n",
              "      <td>-0.052635</td>\n",
              "      <td>0.249116</td>\n",
              "      <td>0.077920</td>\n",
              "      <td>-0.046665</td>\n",
              "      <td>0.474352</td>\n",
              "      <td>0.022092</td>\n",
              "      <td>0.189746</td>\n",
              "      <td>-0.244108</td>\n",
              "      <td>-0.052588</td>\n",
              "      <td>0.441454</td>\n",
              "      <td>0.999999</td>\n",
              "      <td>-0.997505</td>\n",
              "      <td>-0.003118</td>\n",
              "      <td>-0.105291</td>\n",
              "      <td>-0.385139</td>\n",
              "      <td>0.265625</td>\n",
              "      <td>-0.984027</td>\n",
              "      <td>-0.996065</td>\n",
              "      <td>-0.701585</td>\n",
              "      <td>0.479378</td>\n",
              "      <td>0.188930</td>\n",
              "      <td>-0.030069</td>\n",
              "      <td>0.999809</td>\n",
              "      <td>-0.999285</td>\n",
              "      <td>0.922363</td>\n",
              "      <td>0.150601</td>\n",
              "      <td>-0.802958</td>\n",
              "      <td>0.314966</td>\n",
              "      <td>-0.648679</td>\n",
              "      <td>0.054197</td>\n",
              "      <td>-0.071018</td>\n",
              "      <td>-0.147294</td>\n",
              "      <td>-0.947531</td>\n",
              "      <td>0.984326</td>\n",
              "      <td>0.680379</td>\n",
              "      <td>0.052137</td>\n",
              "    </tr>\n",
              "  </tbody>\n",
              "</table>\n",
              "<p>71941 rows × 768 columns</p>\n",
              "</div>"
            ],
            "text/plain": [
              "            0         1         2    ...       765       766       767\n",
              "0      0.998480  0.185802 -0.749198  ... -0.502592 -0.449744  0.125393\n",
              "1      0.999215  0.163605 -0.754340  ... -0.918984 -0.467139 -0.177415\n",
              "2      0.996632  0.200644 -0.888231  ... -0.844636  0.091629  0.014209\n",
              "3      0.990957 -0.059283 -0.999814  ...  0.963918  0.863770  0.266421\n",
              "4      0.999812  0.003635 -0.999793  ...  0.967428  0.859057  0.125498\n",
              "...         ...       ...       ...  ...       ...       ...       ...\n",
              "71936  0.998674 -0.340337 -0.998431  ...  0.945994  0.154084  0.163874\n",
              "71937  0.994378  0.271104 -0.999224  ...  0.920226  0.980206  0.042602\n",
              "71938  0.997230  0.166804 -0.897423  ... -0.343067  0.064548  0.104286\n",
              "71939  0.993905  0.219810 -0.805509  ... -0.831444  0.085461  0.061188\n",
              "71940  0.999627  0.050403 -0.999260  ...  0.984326  0.680379  0.052137\n",
              "\n",
              "[71941 rows x 768 columns]"
            ]
          },
          "metadata": {
            "tags": []
          },
          "execution_count": 26
        }
      ]
    },
    {
      "cell_type": "code",
      "metadata": {
        "colab": {
          "base_uri": "https://localhost:8080/",
          "height": 402
        },
        "id": "F2Si-MtBO9fu",
        "outputId": "4d8cd980-a29e-494e-dace-5c678061df6a"
      },
      "source": [
        "label"
      ],
      "execution_count": null,
      "outputs": [
        {
          "output_type": "execute_result",
          "data": {
            "text/html": [
              "<div>\n",
              "<style scoped>\n",
              "    .dataframe tbody tr th:only-of-type {\n",
              "        vertical-align: middle;\n",
              "    }\n",
              "\n",
              "    .dataframe tbody tr th {\n",
              "        vertical-align: top;\n",
              "    }\n",
              "\n",
              "    .dataframe thead th {\n",
              "        text-align: right;\n",
              "    }\n",
              "</style>\n",
              "<table border=\"1\" class=\"dataframe\">\n",
              "  <thead>\n",
              "    <tr style=\"text-align: right;\">\n",
              "      <th></th>\n",
              "      <th>news_timestamp</th>\n",
              "      <th>stock_timestamp</th>\n",
              "      <th>source</th>\n",
              "      <th>tokens</th>\n",
              "      <th>label</th>\n",
              "    </tr>\n",
              "  </thead>\n",
              "  <tbody>\n",
              "    <tr>\n",
              "      <th>0</th>\n",
              "      <td>2017-12-07 20:00:00</td>\n",
              "      <td>2017-12-08</td>\n",
              "      <td>businesswire.com</td>\n",
              "      <td>[nape, summit, also, annual, luncheon, tom, sp...</td>\n",
              "      <td>-1</td>\n",
              "    </tr>\n",
              "    <tr>\n",
              "      <th>1</th>\n",
              "      <td>2017-12-08 21:37:00</td>\n",
              "      <td>2017-12-11</td>\n",
              "      <td>yahoo.com</td>\n",
              "      <td>[huge, x, comeback, tour, follow, note, big, y...</td>\n",
              "      <td>1</td>\n",
              "    </tr>\n",
              "    <tr>\n",
              "      <th>2</th>\n",
              "      <td>2017-12-12 01:55:00</td>\n",
              "      <td>2017-12-13</td>\n",
              "      <td>yahoo.com</td>\n",
              "      <td>[browser, os, ad, server, make, first, move, c...</td>\n",
              "      <td>1</td>\n",
              "    </tr>\n",
              "    <tr>\n",
              "      <th>3</th>\n",
              "      <td>2017-12-12 22:10:00</td>\n",
              "      <td>2017-12-13</td>\n",
              "      <td>investingnews.com</td>\n",
              "      <td>[humanitarian, place, conflict, free, region]</td>\n",
              "      <td>1</td>\n",
              "    </tr>\n",
              "    <tr>\n",
              "      <th>4</th>\n",
              "      <td>2017-12-14 11:42:00</td>\n",
              "      <td>2017-12-15</td>\n",
              "      <td>seekingalpha.com</td>\n",
              "      <td>[prefer, invest]</td>\n",
              "      <td>1</td>\n",
              "    </tr>\n",
              "    <tr>\n",
              "      <th>...</th>\n",
              "      <td>...</td>\n",
              "      <td>...</td>\n",
              "      <td>...</td>\n",
              "      <td>...</td>\n",
              "      <td>...</td>\n",
              "    </tr>\n",
              "    <tr>\n",
              "      <th>71936</th>\n",
              "      <td>2019-01-31 23:24:00</td>\n",
              "      <td>2019-02-01</td>\n",
              "      <td>marketwatch.com</td>\n",
              "      <td>[deem, store]</td>\n",
              "      <td>1</td>\n",
              "    </tr>\n",
              "    <tr>\n",
              "      <th>71937</th>\n",
              "      <td>2019-01-31 23:31:00</td>\n",
              "      <td>2019-02-01</td>\n",
              "      <td>marketwatch.com</td>\n",
              "      <td>[deem, use, key, develop, tool, day, later]</td>\n",
              "      <td>1</td>\n",
              "    </tr>\n",
              "    <tr>\n",
              "      <th>71938</th>\n",
              "      <td>2019-01-31 23:52:00</td>\n",
              "      <td>2019-02-01</td>\n",
              "      <td>tickerreport.com</td>\n",
              "      <td>[tweet, trader, share, trade, tuesday, stock, ...</td>\n",
              "      <td>1</td>\n",
              "    </tr>\n",
              "    <tr>\n",
              "      <th>71939</th>\n",
              "      <td>2019-01-31 23:53:00</td>\n",
              "      <td>2019-02-01</td>\n",
              "      <td>redliontrader.com</td>\n",
              "      <td>[obtain, intern, memo, tri, spin, led, block, ...</td>\n",
              "      <td>1</td>\n",
              "    </tr>\n",
              "    <tr>\n",
              "      <th>71940</th>\n",
              "      <td>2019-01-31 23:55:00</td>\n",
              "      <td>2019-02-01</td>\n",
              "      <td>boxden.com</td>\n",
              "      <td>[correct, stock, predict, post, test, learn, p...</td>\n",
              "      <td>1</td>\n",
              "    </tr>\n",
              "  </tbody>\n",
              "</table>\n",
              "<p>71941 rows × 5 columns</p>\n",
              "</div>"
            ],
            "text/plain": [
              "           news_timestamp  ... label\n",
              "0     2017-12-07 20:00:00  ...    -1\n",
              "1     2017-12-08 21:37:00  ...     1\n",
              "2     2017-12-12 01:55:00  ...     1\n",
              "3     2017-12-12 22:10:00  ...     1\n",
              "4     2017-12-14 11:42:00  ...     1\n",
              "...                   ...  ...   ...\n",
              "71936 2019-01-31 23:24:00  ...     1\n",
              "71937 2019-01-31 23:31:00  ...     1\n",
              "71938 2019-01-31 23:52:00  ...     1\n",
              "71939 2019-01-31 23:53:00  ...     1\n",
              "71940 2019-01-31 23:55:00  ...     1\n",
              "\n",
              "[71941 rows x 5 columns]"
            ]
          },
          "metadata": {
            "tags": []
          },
          "execution_count": 27
        }
      ]
    },
    {
      "cell_type": "code",
      "metadata": {
        "id": "6LrRdxA1O_KY"
      },
      "source": [
        "trainY_df=label['label']"
      ],
      "execution_count": null,
      "outputs": []
    },
    {
      "cell_type": "code",
      "metadata": {
        "id": "fG7ufvmWPD2i"
      },
      "source": [
        "trainY_df=trainY_df.astype('int')\n",
        "trainY = np.stack(trainY_df)"
      ],
      "execution_count": null,
      "outputs": []
    },
    {
      "cell_type": "code",
      "metadata": {
        "colab": {
          "base_uri": "https://localhost:8080/"
        },
        "id": "PXBwJTxjPHgZ",
        "outputId": "e12224d1-0505-434e-c5f9-f3eabe3903d4"
      },
      "source": [
        "trainY"
      ],
      "execution_count": null,
      "outputs": [
        {
          "output_type": "execute_result",
          "data": {
            "text/plain": [
              "array([-1,  1,  1, ...,  1,  1,  1])"
            ]
          },
          "metadata": {
            "tags": []
          },
          "execution_count": 9
        }
      ]
    },
    {
      "cell_type": "code",
      "metadata": {
        "id": "0ef6NJQ8PMZQ"
      },
      "source": [
        "trainX = np.stack(labelled_aapl_news_df)"
      ],
      "execution_count": null,
      "outputs": []
    },
    {
      "cell_type": "code",
      "metadata": {
        "id": "XHzEQvktW5qZ",
        "colab": {
          "base_uri": "https://localhost:8080/"
        },
        "outputId": "79d4c903-bf70-4864-a5a0-2e14e077f613"
      },
      "source": [
        "trainX"
      ],
      "execution_count": null,
      "outputs": [
        {
          "output_type": "execute_result",
          "data": {
            "text/plain": [
              "array([  0,   1,   2,   3,   4,   5,   6,   7,   8,   9,  10,  11,  12,\n",
              "        13,  14,  15,  16,  17,  18,  19,  20,  21,  22,  23,  24,  25,\n",
              "        26,  27,  28,  29,  30,  31,  32,  33,  34,  35,  36,  37,  38,\n",
              "        39,  40,  41,  42,  43,  44,  45,  46,  47,  48,  49,  50,  51,\n",
              "        52,  53,  54,  55,  56,  57,  58,  59,  60,  61,  62,  63,  64,\n",
              "        65,  66,  67,  68,  69,  70,  71,  72,  73,  74,  75,  76,  77,\n",
              "        78,  79,  80,  81,  82,  83,  84,  85,  86,  87,  88,  89,  90,\n",
              "        91,  92,  93,  94,  95,  96,  97,  98,  99, 100, 101, 102, 103,\n",
              "       104, 105, 106, 107, 108, 109, 110, 111, 112, 113, 114, 115, 116,\n",
              "       117, 118, 119, 120, 121, 122, 123, 124, 125, 126, 127, 128, 129,\n",
              "       130, 131, 132, 133, 134, 135, 136, 137, 138, 139, 140, 141, 142,\n",
              "       143, 144, 145, 146, 147, 148, 149, 150, 151, 152, 153, 154, 155,\n",
              "       156, 157, 158, 159, 160, 161, 162, 163, 164, 165, 166, 167, 168,\n",
              "       169, 170, 171, 172, 173, 174, 175, 176, 177, 178, 179, 180, 181,\n",
              "       182, 183, 184, 185, 186, 187, 188, 189, 190, 191, 192, 193, 194,\n",
              "       195, 196, 197, 198, 199, 200, 201, 202, 203, 204, 205, 206, 207,\n",
              "       208, 209, 210, 211, 212, 213, 214, 215, 216, 217, 218, 219, 220,\n",
              "       221, 222, 223, 224, 225, 226, 227, 228, 229, 230, 231, 232, 233,\n",
              "       234, 235, 236, 237, 238, 239, 240, 241, 242, 243, 244, 245, 246,\n",
              "       247, 248, 249, 250, 251, 252, 253, 254, 255, 256, 257, 258, 259,\n",
              "       260, 261, 262, 263, 264, 265, 266, 267, 268, 269, 270, 271, 272,\n",
              "       273, 274, 275, 276, 277, 278, 279, 280, 281, 282, 283, 284, 285,\n",
              "       286, 287, 288, 289, 290, 291, 292, 293, 294, 295, 296, 297, 298,\n",
              "       299, 300, 301, 302, 303, 304, 305, 306, 307, 308, 309, 310, 311,\n",
              "       312, 313, 314, 315, 316, 317, 318, 319, 320, 321, 322, 323, 324,\n",
              "       325, 326, 327, 328, 329, 330, 331, 332, 333, 334, 335, 336, 337,\n",
              "       338, 339, 340, 341, 342, 343, 344, 345, 346, 347, 348, 349, 350,\n",
              "       351, 352, 353, 354, 355, 356, 357, 358, 359, 360, 361, 362, 363,\n",
              "       364, 365, 366, 367, 368, 369, 370, 371, 372, 373, 374, 375, 376,\n",
              "       377, 378, 379, 380, 381, 382, 383, 384, 385, 386, 387, 388, 389,\n",
              "       390, 391, 392, 393, 394, 395, 396, 397, 398, 399, 400, 401, 402,\n",
              "       403, 404, 405, 406, 407, 408, 409, 410, 411, 412, 413, 414, 415,\n",
              "       416, 417, 418, 419, 420, 421, 422, 423, 424, 425, 426, 427, 428,\n",
              "       429, 430, 431, 432, 433, 434, 435, 436, 437, 438, 439, 440, 441,\n",
              "       442, 443, 444, 445, 446, 447, 448, 449, 450, 451, 452, 453, 454,\n",
              "       455, 456, 457, 458, 459, 460, 461, 462, 463, 464, 465, 466, 467,\n",
              "       468, 469, 470, 471, 472, 473, 474, 475, 476, 477, 478, 479, 480,\n",
              "       481, 482, 483, 484, 485, 486, 487, 488, 489, 490, 491, 492, 493,\n",
              "       494, 495, 496, 497, 498, 499, 500, 501, 502, 503, 504, 505, 506,\n",
              "       507, 508, 509, 510, 511, 512, 513, 514, 515, 516, 517, 518, 519,\n",
              "       520, 521, 522, 523, 524, 525, 526, 527, 528, 529, 530, 531, 532,\n",
              "       533, 534, 535, 536, 537, 538, 539, 540, 541, 542, 543, 544, 545,\n",
              "       546, 547, 548, 549, 550, 551, 552, 553, 554, 555, 556, 557, 558,\n",
              "       559, 560, 561, 562, 563, 564, 565, 566, 567, 568, 569, 570, 571,\n",
              "       572, 573, 574, 575, 576, 577, 578, 579, 580, 581, 582, 583, 584,\n",
              "       585, 586, 587, 588, 589, 590, 591, 592, 593, 594, 595, 596, 597,\n",
              "       598, 599, 600, 601, 602, 603, 604, 605, 606, 607, 608, 609, 610,\n",
              "       611, 612, 613, 614, 615, 616, 617, 618, 619, 620, 621, 622, 623,\n",
              "       624, 625, 626, 627, 628, 629, 630, 631, 632, 633, 634, 635, 636,\n",
              "       637, 638, 639, 640, 641, 642, 643, 644, 645, 646, 647, 648, 649,\n",
              "       650, 651, 652, 653, 654, 655, 656, 657, 658, 659, 660, 661, 662,\n",
              "       663, 664, 665, 666, 667, 668, 669, 670, 671, 672, 673, 674, 675,\n",
              "       676, 677, 678, 679, 680, 681, 682, 683, 684, 685, 686, 687, 688,\n",
              "       689, 690, 691, 692, 693, 694, 695, 696, 697, 698, 699, 700, 701,\n",
              "       702, 703, 704, 705, 706, 707, 708, 709, 710, 711, 712, 713, 714,\n",
              "       715, 716, 717, 718, 719, 720, 721, 722, 723, 724, 725, 726, 727,\n",
              "       728, 729, 730, 731, 732, 733, 734, 735, 736, 737, 738, 739, 740,\n",
              "       741, 742, 743, 744, 745, 746, 747, 748, 749, 750, 751, 752, 753,\n",
              "       754, 755, 756, 757, 758, 759, 760, 761, 762, 763, 764, 765, 766,\n",
              "       767])"
            ]
          },
          "metadata": {
            "tags": []
          },
          "execution_count": 32
        }
      ]
    },
    {
      "cell_type": "code",
      "metadata": {
        "id": "s6VVcfwVPz-j",
        "colab": {
          "base_uri": "https://localhost:8080/"
        },
        "outputId": "4d95c135-8a2d-4dd5-ffab-17c9cc682508"
      },
      "source": [
        "feature_cols = [*range(0, 768)]\n",
        "feature_cols\n",
        "X = labelled_aapl_news_df[feature_cols]\n",
        "np.stack(X)"
      ],
      "execution_count": null,
      "outputs": [
        {
          "output_type": "execute_result",
          "data": {
            "text/plain": [
              "array([  0,   1,   2,   3,   4,   5,   6,   7,   8,   9,  10,  11,  12,\n",
              "        13,  14,  15,  16,  17,  18,  19,  20,  21,  22,  23,  24,  25,\n",
              "        26,  27,  28,  29,  30,  31,  32,  33,  34,  35,  36,  37,  38,\n",
              "        39,  40,  41,  42,  43,  44,  45,  46,  47,  48,  49,  50,  51,\n",
              "        52,  53,  54,  55,  56,  57,  58,  59,  60,  61,  62,  63,  64,\n",
              "        65,  66,  67,  68,  69,  70,  71,  72,  73,  74,  75,  76,  77,\n",
              "        78,  79,  80,  81,  82,  83,  84,  85,  86,  87,  88,  89,  90,\n",
              "        91,  92,  93,  94,  95,  96,  97,  98,  99, 100, 101, 102, 103,\n",
              "       104, 105, 106, 107, 108, 109, 110, 111, 112, 113, 114, 115, 116,\n",
              "       117, 118, 119, 120, 121, 122, 123, 124, 125, 126, 127, 128, 129,\n",
              "       130, 131, 132, 133, 134, 135, 136, 137, 138, 139, 140, 141, 142,\n",
              "       143, 144, 145, 146, 147, 148, 149, 150, 151, 152, 153, 154, 155,\n",
              "       156, 157, 158, 159, 160, 161, 162, 163, 164, 165, 166, 167, 168,\n",
              "       169, 170, 171, 172, 173, 174, 175, 176, 177, 178, 179, 180, 181,\n",
              "       182, 183, 184, 185, 186, 187, 188, 189, 190, 191, 192, 193, 194,\n",
              "       195, 196, 197, 198, 199, 200, 201, 202, 203, 204, 205, 206, 207,\n",
              "       208, 209, 210, 211, 212, 213, 214, 215, 216, 217, 218, 219, 220,\n",
              "       221, 222, 223, 224, 225, 226, 227, 228, 229, 230, 231, 232, 233,\n",
              "       234, 235, 236, 237, 238, 239, 240, 241, 242, 243, 244, 245, 246,\n",
              "       247, 248, 249, 250, 251, 252, 253, 254, 255, 256, 257, 258, 259,\n",
              "       260, 261, 262, 263, 264, 265, 266, 267, 268, 269, 270, 271, 272,\n",
              "       273, 274, 275, 276, 277, 278, 279, 280, 281, 282, 283, 284, 285,\n",
              "       286, 287, 288, 289, 290, 291, 292, 293, 294, 295, 296, 297, 298,\n",
              "       299, 300, 301, 302, 303, 304, 305, 306, 307, 308, 309, 310, 311,\n",
              "       312, 313, 314, 315, 316, 317, 318, 319, 320, 321, 322, 323, 324,\n",
              "       325, 326, 327, 328, 329, 330, 331, 332, 333, 334, 335, 336, 337,\n",
              "       338, 339, 340, 341, 342, 343, 344, 345, 346, 347, 348, 349, 350,\n",
              "       351, 352, 353, 354, 355, 356, 357, 358, 359, 360, 361, 362, 363,\n",
              "       364, 365, 366, 367, 368, 369, 370, 371, 372, 373, 374, 375, 376,\n",
              "       377, 378, 379, 380, 381, 382, 383, 384, 385, 386, 387, 388, 389,\n",
              "       390, 391, 392, 393, 394, 395, 396, 397, 398, 399, 400, 401, 402,\n",
              "       403, 404, 405, 406, 407, 408, 409, 410, 411, 412, 413, 414, 415,\n",
              "       416, 417, 418, 419, 420, 421, 422, 423, 424, 425, 426, 427, 428,\n",
              "       429, 430, 431, 432, 433, 434, 435, 436, 437, 438, 439, 440, 441,\n",
              "       442, 443, 444, 445, 446, 447, 448, 449, 450, 451, 452, 453, 454,\n",
              "       455, 456, 457, 458, 459, 460, 461, 462, 463, 464, 465, 466, 467,\n",
              "       468, 469, 470, 471, 472, 473, 474, 475, 476, 477, 478, 479, 480,\n",
              "       481, 482, 483, 484, 485, 486, 487, 488, 489, 490, 491, 492, 493,\n",
              "       494, 495, 496, 497, 498, 499, 500, 501, 502, 503, 504, 505, 506,\n",
              "       507, 508, 509, 510, 511, 512, 513, 514, 515, 516, 517, 518, 519,\n",
              "       520, 521, 522, 523, 524, 525, 526, 527, 528, 529, 530, 531, 532,\n",
              "       533, 534, 535, 536, 537, 538, 539, 540, 541, 542, 543, 544, 545,\n",
              "       546, 547, 548, 549, 550, 551, 552, 553, 554, 555, 556, 557, 558,\n",
              "       559, 560, 561, 562, 563, 564, 565, 566, 567, 568, 569, 570, 571,\n",
              "       572, 573, 574, 575, 576, 577, 578, 579, 580, 581, 582, 583, 584,\n",
              "       585, 586, 587, 588, 589, 590, 591, 592, 593, 594, 595, 596, 597,\n",
              "       598, 599, 600, 601, 602, 603, 604, 605, 606, 607, 608, 609, 610,\n",
              "       611, 612, 613, 614, 615, 616, 617, 618, 619, 620, 621, 622, 623,\n",
              "       624, 625, 626, 627, 628, 629, 630, 631, 632, 633, 634, 635, 636,\n",
              "       637, 638, 639, 640, 641, 642, 643, 644, 645, 646, 647, 648, 649,\n",
              "       650, 651, 652, 653, 654, 655, 656, 657, 658, 659, 660, 661, 662,\n",
              "       663, 664, 665, 666, 667, 668, 669, 670, 671, 672, 673, 674, 675,\n",
              "       676, 677, 678, 679, 680, 681, 682, 683, 684, 685, 686, 687, 688,\n",
              "       689, 690, 691, 692, 693, 694, 695, 696, 697, 698, 699, 700, 701,\n",
              "       702, 703, 704, 705, 706, 707, 708, 709, 710, 711, 712, 713, 714,\n",
              "       715, 716, 717, 718, 719, 720, 721, 722, 723, 724, 725, 726, 727,\n",
              "       728, 729, 730, 731, 732, 733, 734, 735, 736, 737, 738, 739, 740,\n",
              "       741, 742, 743, 744, 745, 746, 747, 748, 749, 750, 751, 752, 753,\n",
              "       754, 755, 756, 757, 758, 759, 760, 761, 762, 763, 764, 765, 766,\n",
              "       767])"
            ]
          },
          "metadata": {
            "tags": []
          },
          "execution_count": 11
        }
      ]
    },
    {
      "cell_type": "code",
      "metadata": {
        "id": "KYimFCzeutYg"
      },
      "source": [
        ""
      ],
      "execution_count": null,
      "outputs": []
    },
    {
      "cell_type": "code",
      "metadata": {
        "colab": {
          "base_uri": "https://localhost:8080/",
          "height": 422
        },
        "id": "mpDF2DkLW_jI",
        "outputId": "6aca818f-5a02-4778-a2cf-ce777dd1ccdf"
      },
      "source": [
        "X"
      ],
      "execution_count": null,
      "outputs": [
        {
          "output_type": "execute_result",
          "data": {
            "text/html": [
              "<div>\n",
              "<style scoped>\n",
              "    .dataframe tbody tr th:only-of-type {\n",
              "        vertical-align: middle;\n",
              "    }\n",
              "\n",
              "    .dataframe tbody tr th {\n",
              "        vertical-align: top;\n",
              "    }\n",
              "\n",
              "    .dataframe thead th {\n",
              "        text-align: right;\n",
              "    }\n",
              "</style>\n",
              "<table border=\"1\" class=\"dataframe\">\n",
              "  <thead>\n",
              "    <tr style=\"text-align: right;\">\n",
              "      <th></th>\n",
              "      <th>0</th>\n",
              "      <th>1</th>\n",
              "      <th>2</th>\n",
              "      <th>3</th>\n",
              "      <th>4</th>\n",
              "      <th>5</th>\n",
              "      <th>6</th>\n",
              "      <th>7</th>\n",
              "      <th>8</th>\n",
              "      <th>9</th>\n",
              "      <th>10</th>\n",
              "      <th>11</th>\n",
              "      <th>12</th>\n",
              "      <th>13</th>\n",
              "      <th>14</th>\n",
              "      <th>15</th>\n",
              "      <th>16</th>\n",
              "      <th>17</th>\n",
              "      <th>18</th>\n",
              "      <th>19</th>\n",
              "      <th>20</th>\n",
              "      <th>21</th>\n",
              "      <th>22</th>\n",
              "      <th>23</th>\n",
              "      <th>24</th>\n",
              "      <th>25</th>\n",
              "      <th>26</th>\n",
              "      <th>27</th>\n",
              "      <th>28</th>\n",
              "      <th>29</th>\n",
              "      <th>30</th>\n",
              "      <th>31</th>\n",
              "      <th>32</th>\n",
              "      <th>33</th>\n",
              "      <th>34</th>\n",
              "      <th>35</th>\n",
              "      <th>36</th>\n",
              "      <th>37</th>\n",
              "      <th>38</th>\n",
              "      <th>39</th>\n",
              "      <th>...</th>\n",
              "      <th>728</th>\n",
              "      <th>729</th>\n",
              "      <th>730</th>\n",
              "      <th>731</th>\n",
              "      <th>732</th>\n",
              "      <th>733</th>\n",
              "      <th>734</th>\n",
              "      <th>735</th>\n",
              "      <th>736</th>\n",
              "      <th>737</th>\n",
              "      <th>738</th>\n",
              "      <th>739</th>\n",
              "      <th>740</th>\n",
              "      <th>741</th>\n",
              "      <th>742</th>\n",
              "      <th>743</th>\n",
              "      <th>744</th>\n",
              "      <th>745</th>\n",
              "      <th>746</th>\n",
              "      <th>747</th>\n",
              "      <th>748</th>\n",
              "      <th>749</th>\n",
              "      <th>750</th>\n",
              "      <th>751</th>\n",
              "      <th>752</th>\n",
              "      <th>753</th>\n",
              "      <th>754</th>\n",
              "      <th>755</th>\n",
              "      <th>756</th>\n",
              "      <th>757</th>\n",
              "      <th>758</th>\n",
              "      <th>759</th>\n",
              "      <th>760</th>\n",
              "      <th>761</th>\n",
              "      <th>762</th>\n",
              "      <th>763</th>\n",
              "      <th>764</th>\n",
              "      <th>765</th>\n",
              "      <th>766</th>\n",
              "      <th>767</th>\n",
              "    </tr>\n",
              "  </thead>\n",
              "  <tbody>\n",
              "    <tr>\n",
              "      <th>0</th>\n",
              "      <td>0.998480</td>\n",
              "      <td>0.185802</td>\n",
              "      <td>-0.749198</td>\n",
              "      <td>0.942997</td>\n",
              "      <td>-0.001644</td>\n",
              "      <td>0.450542</td>\n",
              "      <td>0.076995</td>\n",
              "      <td>-0.081277</td>\n",
              "      <td>0.830933</td>\n",
              "      <td>-0.255133</td>\n",
              "      <td>0.009369</td>\n",
              "      <td>0.968556</td>\n",
              "      <td>-0.991179</td>\n",
              "      <td>0.013562</td>\n",
              "      <td>-0.184965</td>\n",
              "      <td>-0.101498</td>\n",
              "      <td>-0.234722</td>\n",
              "      <td>-0.267740</td>\n",
              "      <td>-0.142094</td>\n",
              "      <td>-0.494185</td>\n",
              "      <td>-0.833274</td>\n",
              "      <td>0.998694</td>\n",
              "      <td>0.999988</td>\n",
              "      <td>0.782629</td>\n",
              "      <td>-0.036399</td>\n",
              "      <td>0.999996</td>\n",
              "      <td>0.922234</td>\n",
              "      <td>0.084103</td>\n",
              "      <td>0.109626</td>\n",
              "      <td>-0.071285</td>\n",
              "      <td>-0.112432</td>\n",
              "      <td>0.112952</td>\n",
              "      <td>-0.114782</td>\n",
              "      <td>-0.407780</td>\n",
              "      <td>-0.075695</td>\n",
              "      <td>0.999991</td>\n",
              "      <td>-0.047267</td>\n",
              "      <td>-0.240663</td>\n",
              "      <td>0.200785</td>\n",
              "      <td>0.010552</td>\n",
              "      <td>...</td>\n",
              "      <td>-0.245162</td>\n",
              "      <td>-0.215614</td>\n",
              "      <td>-0.999718</td>\n",
              "      <td>-0.384240</td>\n",
              "      <td>-0.330383</td>\n",
              "      <td>-0.012683</td>\n",
              "      <td>0.215004</td>\n",
              "      <td>0.191728</td>\n",
              "      <td>0.557798</td>\n",
              "      <td>0.195679</td>\n",
              "      <td>0.033481</td>\n",
              "      <td>0.046389</td>\n",
              "      <td>-0.443322</td>\n",
              "      <td>0.227595</td>\n",
              "      <td>0.999995</td>\n",
              "      <td>-0.998695</td>\n",
              "      <td>0.139598</td>\n",
              "      <td>0.341556</td>\n",
              "      <td>-0.042029</td>\n",
              "      <td>-0.370607</td>\n",
              "      <td>-0.826716</td>\n",
              "      <td>-0.987370</td>\n",
              "      <td>0.053348</td>\n",
              "      <td>-0.149495</td>\n",
              "      <td>-0.043396</td>\n",
              "      <td>0.408270</td>\n",
              "      <td>0.999563</td>\n",
              "      <td>-0.985880</td>\n",
              "      <td>0.450992</td>\n",
              "      <td>-0.383486</td>\n",
              "      <td>-0.400671</td>\n",
              "      <td>0.081551</td>\n",
              "      <td>-0.187845</td>\n",
              "      <td>-0.078403</td>\n",
              "      <td>0.447242</td>\n",
              "      <td>-0.394602</td>\n",
              "      <td>-0.978382</td>\n",
              "      <td>-0.502592</td>\n",
              "      <td>-0.449744</td>\n",
              "      <td>0.125393</td>\n",
              "    </tr>\n",
              "    <tr>\n",
              "      <th>1</th>\n",
              "      <td>0.999215</td>\n",
              "      <td>0.163605</td>\n",
              "      <td>-0.754340</td>\n",
              "      <td>0.988832</td>\n",
              "      <td>-0.885227</td>\n",
              "      <td>0.466211</td>\n",
              "      <td>0.780001</td>\n",
              "      <td>0.039634</td>\n",
              "      <td>0.790406</td>\n",
              "      <td>-0.215173</td>\n",
              "      <td>-0.015994</td>\n",
              "      <td>0.997939</td>\n",
              "      <td>-0.886562</td>\n",
              "      <td>0.028385</td>\n",
              "      <td>-0.237472</td>\n",
              "      <td>0.064601</td>\n",
              "      <td>-0.159112</td>\n",
              "      <td>0.011418</td>\n",
              "      <td>-0.143358</td>\n",
              "      <td>0.420182</td>\n",
              "      <td>-0.868819</td>\n",
              "      <td>0.999715</td>\n",
              "      <td>0.999991</td>\n",
              "      <td>0.861396</td>\n",
              "      <td>-0.869721</td>\n",
              "      <td>0.999994</td>\n",
              "      <td>0.597488</td>\n",
              "      <td>0.062633</td>\n",
              "      <td>0.107319</td>\n",
              "      <td>0.040668</td>\n",
              "      <td>-0.168877</td>\n",
              "      <td>-0.005085</td>\n",
              "      <td>-0.133148</td>\n",
              "      <td>-0.318000</td>\n",
              "      <td>0.010220</td>\n",
              "      <td>0.999992</td>\n",
              "      <td>-0.105580</td>\n",
              "      <td>-0.096250</td>\n",
              "      <td>0.036694</td>\n",
              "      <td>-0.335544</td>\n",
              "      <td>...</td>\n",
              "      <td>-0.091442</td>\n",
              "      <td>-0.367908</td>\n",
              "      <td>-0.999878</td>\n",
              "      <td>-0.074757</td>\n",
              "      <td>-0.390964</td>\n",
              "      <td>-0.321635</td>\n",
              "      <td>0.277659</td>\n",
              "      <td>-0.086195</td>\n",
              "      <td>0.487315</td>\n",
              "      <td>-0.364122</td>\n",
              "      <td>0.363047</td>\n",
              "      <td>0.037546</td>\n",
              "      <td>-0.061638</td>\n",
              "      <td>0.293057</td>\n",
              "      <td>0.999992</td>\n",
              "      <td>-0.998933</td>\n",
              "      <td>0.208079</td>\n",
              "      <td>0.031070</td>\n",
              "      <td>0.201540</td>\n",
              "      <td>0.063337</td>\n",
              "      <td>-0.411108</td>\n",
              "      <td>-0.792206</td>\n",
              "      <td>-0.383569</td>\n",
              "      <td>-0.816493</td>\n",
              "      <td>0.003486</td>\n",
              "      <td>0.351372</td>\n",
              "      <td>0.999645</td>\n",
              "      <td>-0.890389</td>\n",
              "      <td>-0.534080</td>\n",
              "      <td>-0.296049</td>\n",
              "      <td>0.129302</td>\n",
              "      <td>0.023657</td>\n",
              "      <td>0.542901</td>\n",
              "      <td>-0.069524</td>\n",
              "      <td>0.450674</td>\n",
              "      <td>-0.524465</td>\n",
              "      <td>-0.347772</td>\n",
              "      <td>-0.918984</td>\n",
              "      <td>-0.467139</td>\n",
              "      <td>-0.177415</td>\n",
              "    </tr>\n",
              "    <tr>\n",
              "      <th>2</th>\n",
              "      <td>0.996632</td>\n",
              "      <td>0.200644</td>\n",
              "      <td>-0.888231</td>\n",
              "      <td>0.962662</td>\n",
              "      <td>-0.607704</td>\n",
              "      <td>0.486049</td>\n",
              "      <td>0.388193</td>\n",
              "      <td>-0.100889</td>\n",
              "      <td>0.950843</td>\n",
              "      <td>-0.298236</td>\n",
              "      <td>-0.003179</td>\n",
              "      <td>0.993116</td>\n",
              "      <td>-0.979245</td>\n",
              "      <td>0.040907</td>\n",
              "      <td>-0.271253</td>\n",
              "      <td>-0.182769</td>\n",
              "      <td>-0.140156</td>\n",
              "      <td>-0.119116</td>\n",
              "      <td>-0.035932</td>\n",
              "      <td>-0.140561</td>\n",
              "      <td>-0.789471</td>\n",
              "      <td>0.999446</td>\n",
              "      <td>0.999984</td>\n",
              "      <td>0.833500</td>\n",
              "      <td>-0.661385</td>\n",
              "      <td>0.999994</td>\n",
              "      <td>0.906260</td>\n",
              "      <td>0.261361</td>\n",
              "      <td>0.235644</td>\n",
              "      <td>-0.021435</td>\n",
              "      <td>0.067809</td>\n",
              "      <td>0.258160</td>\n",
              "      <td>-0.110639</td>\n",
              "      <td>-0.369449</td>\n",
              "      <td>0.038876</td>\n",
              "      <td>0.999986</td>\n",
              "      <td>0.012534</td>\n",
              "      <td>-0.036570</td>\n",
              "      <td>0.261372</td>\n",
              "      <td>-0.019274</td>\n",
              "      <td>...</td>\n",
              "      <td>0.085798</td>\n",
              "      <td>-0.274852</td>\n",
              "      <td>-0.999826</td>\n",
              "      <td>-0.400168</td>\n",
              "      <td>-0.126331</td>\n",
              "      <td>-0.384622</td>\n",
              "      <td>0.223157</td>\n",
              "      <td>0.048022</td>\n",
              "      <td>0.344656</td>\n",
              "      <td>-0.232582</td>\n",
              "      <td>0.433267</td>\n",
              "      <td>0.001603</td>\n",
              "      <td>-0.059757</td>\n",
              "      <td>0.429404</td>\n",
              "      <td>0.999986</td>\n",
              "      <td>-0.997673</td>\n",
              "      <td>0.236019</td>\n",
              "      <td>0.024690</td>\n",
              "      <td>0.233518</td>\n",
              "      <td>-0.019485</td>\n",
              "      <td>-0.819746</td>\n",
              "      <td>-0.973452</td>\n",
              "      <td>0.696693</td>\n",
              "      <td>-0.748834</td>\n",
              "      <td>-0.124074</td>\n",
              "      <td>0.062469</td>\n",
              "      <td>0.999443</td>\n",
              "      <td>-0.965706</td>\n",
              "      <td>-0.310333</td>\n",
              "      <td>-0.366676</td>\n",
              "      <td>-0.240682</td>\n",
              "      <td>0.112837</td>\n",
              "      <td>0.095569</td>\n",
              "      <td>-0.041268</td>\n",
              "      <td>0.508598</td>\n",
              "      <td>-0.404887</td>\n",
              "      <td>-0.894957</td>\n",
              "      <td>-0.844636</td>\n",
              "      <td>0.091629</td>\n",
              "      <td>0.014209</td>\n",
              "    </tr>\n",
              "    <tr>\n",
              "      <th>3</th>\n",
              "      <td>0.990957</td>\n",
              "      <td>-0.059283</td>\n",
              "      <td>-0.999814</td>\n",
              "      <td>-0.075123</td>\n",
              "      <td>0.983791</td>\n",
              "      <td>0.056874</td>\n",
              "      <td>-0.989448</td>\n",
              "      <td>-0.251563</td>\n",
              "      <td>0.998770</td>\n",
              "      <td>-0.478367</td>\n",
              "      <td>0.227619</td>\n",
              "      <td>0.640589</td>\n",
              "      <td>-0.999927</td>\n",
              "      <td>-0.105065</td>\n",
              "      <td>-0.119066</td>\n",
              "      <td>-0.259519</td>\n",
              "      <td>-0.475774</td>\n",
              "      <td>0.359653</td>\n",
              "      <td>-0.251564</td>\n",
              "      <td>-0.993214</td>\n",
              "      <td>0.725514</td>\n",
              "      <td>0.983999</td>\n",
              "      <td>0.999806</td>\n",
              "      <td>0.993885</td>\n",
              "      <td>0.707927</td>\n",
              "      <td>0.999864</td>\n",
              "      <td>0.989344</td>\n",
              "      <td>0.104022</td>\n",
              "      <td>0.035775</td>\n",
              "      <td>0.175765</td>\n",
              "      <td>-0.388242</td>\n",
              "      <td>-0.113267</td>\n",
              "      <td>-0.007732</td>\n",
              "      <td>-0.084828</td>\n",
              "      <td>-0.166341</td>\n",
              "      <td>0.999499</td>\n",
              "      <td>-0.304427</td>\n",
              "      <td>-0.454381</td>\n",
              "      <td>0.502280</td>\n",
              "      <td>-0.170090</td>\n",
              "      <td>...</td>\n",
              "      <td>0.261035</td>\n",
              "      <td>-0.214013</td>\n",
              "      <td>-0.998316</td>\n",
              "      <td>-0.291073</td>\n",
              "      <td>-0.027280</td>\n",
              "      <td>0.321257</td>\n",
              "      <td>0.176894</td>\n",
              "      <td>0.057309</td>\n",
              "      <td>0.344888</td>\n",
              "      <td>0.048494</td>\n",
              "      <td>0.053594</td>\n",
              "      <td>0.215197</td>\n",
              "      <td>-0.083335</td>\n",
              "      <td>0.235332</td>\n",
              "      <td>0.999833</td>\n",
              "      <td>-0.985713</td>\n",
              "      <td>0.194607</td>\n",
              "      <td>0.176791</td>\n",
              "      <td>0.022914</td>\n",
              "      <td>-0.155854</td>\n",
              "      <td>-0.991109</td>\n",
              "      <td>-0.999344</td>\n",
              "      <td>0.054284</td>\n",
              "      <td>0.968813</td>\n",
              "      <td>0.227097</td>\n",
              "      <td>0.133988</td>\n",
              "      <td>0.996090</td>\n",
              "      <td>-0.999921</td>\n",
              "      <td>0.987301</td>\n",
              "      <td>0.040438</td>\n",
              "      <td>-0.322037</td>\n",
              "      <td>0.356310</td>\n",
              "      <td>-0.899738</td>\n",
              "      <td>0.148538</td>\n",
              "      <td>0.415329</td>\n",
              "      <td>0.028968</td>\n",
              "      <td>-0.996693</td>\n",
              "      <td>0.963918</td>\n",
              "      <td>0.863770</td>\n",
              "      <td>0.266421</td>\n",
              "    </tr>\n",
              "    <tr>\n",
              "      <th>4</th>\n",
              "      <td>0.999812</td>\n",
              "      <td>0.003635</td>\n",
              "      <td>-0.999793</td>\n",
              "      <td>0.068379</td>\n",
              "      <td>0.283065</td>\n",
              "      <td>-0.076281</td>\n",
              "      <td>-0.980671</td>\n",
              "      <td>-0.404462</td>\n",
              "      <td>0.999505</td>\n",
              "      <td>-0.215896</td>\n",
              "      <td>0.123621</td>\n",
              "      <td>0.955704</td>\n",
              "      <td>-0.999966</td>\n",
              "      <td>-0.131925</td>\n",
              "      <td>0.027068</td>\n",
              "      <td>-0.058135</td>\n",
              "      <td>0.083311</td>\n",
              "      <td>-0.214461</td>\n",
              "      <td>-0.122911</td>\n",
              "      <td>-0.997286</td>\n",
              "      <td>0.400570</td>\n",
              "      <td>0.999759</td>\n",
              "      <td>0.999999</td>\n",
              "      <td>0.988179</td>\n",
              "      <td>0.539486</td>\n",
              "      <td>0.999999</td>\n",
              "      <td>0.998237</td>\n",
              "      <td>0.157139</td>\n",
              "      <td>-0.109904</td>\n",
              "      <td>0.329804</td>\n",
              "      <td>0.251624</td>\n",
              "      <td>-0.295712</td>\n",
              "      <td>0.075346</td>\n",
              "      <td>0.079470</td>\n",
              "      <td>0.304058</td>\n",
              "      <td>0.999996</td>\n",
              "      <td>-0.086393</td>\n",
              "      <td>-0.292006</td>\n",
              "      <td>0.234725</td>\n",
              "      <td>0.025382</td>\n",
              "      <td>...</td>\n",
              "      <td>0.102963</td>\n",
              "      <td>0.173734</td>\n",
              "      <td>-0.999965</td>\n",
              "      <td>-0.348900</td>\n",
              "      <td>0.232018</td>\n",
              "      <td>0.058031</td>\n",
              "      <td>0.158775</td>\n",
              "      <td>-0.197270</td>\n",
              "      <td>0.321655</td>\n",
              "      <td>0.349348</td>\n",
              "      <td>-0.065911</td>\n",
              "      <td>-0.225471</td>\n",
              "      <td>-0.049008</td>\n",
              "      <td>0.071741</td>\n",
              "      <td>0.999999</td>\n",
              "      <td>-0.999753</td>\n",
              "      <td>0.063202</td>\n",
              "      <td>-0.025522</td>\n",
              "      <td>-0.039823</td>\n",
              "      <td>0.148371</td>\n",
              "      <td>-0.999404</td>\n",
              "      <td>-0.999809</td>\n",
              "      <td>0.267438</td>\n",
              "      <td>0.981517</td>\n",
              "      <td>0.121742</td>\n",
              "      <td>-0.029247</td>\n",
              "      <td>0.999933</td>\n",
              "      <td>-0.999967</td>\n",
              "      <td>0.965086</td>\n",
              "      <td>0.038859</td>\n",
              "      <td>-0.853468</td>\n",
              "      <td>0.015143</td>\n",
              "      <td>-0.703690</td>\n",
              "      <td>0.387385</td>\n",
              "      <td>0.161892</td>\n",
              "      <td>-0.027713</td>\n",
              "      <td>-0.998367</td>\n",
              "      <td>0.967428</td>\n",
              "      <td>0.859057</td>\n",
              "      <td>0.125498</td>\n",
              "    </tr>\n",
              "    <tr>\n",
              "      <th>...</th>\n",
              "      <td>...</td>\n",
              "      <td>...</td>\n",
              "      <td>...</td>\n",
              "      <td>...</td>\n",
              "      <td>...</td>\n",
              "      <td>...</td>\n",
              "      <td>...</td>\n",
              "      <td>...</td>\n",
              "      <td>...</td>\n",
              "      <td>...</td>\n",
              "      <td>...</td>\n",
              "      <td>...</td>\n",
              "      <td>...</td>\n",
              "      <td>...</td>\n",
              "      <td>...</td>\n",
              "      <td>...</td>\n",
              "      <td>...</td>\n",
              "      <td>...</td>\n",
              "      <td>...</td>\n",
              "      <td>...</td>\n",
              "      <td>...</td>\n",
              "      <td>...</td>\n",
              "      <td>...</td>\n",
              "      <td>...</td>\n",
              "      <td>...</td>\n",
              "      <td>...</td>\n",
              "      <td>...</td>\n",
              "      <td>...</td>\n",
              "      <td>...</td>\n",
              "      <td>...</td>\n",
              "      <td>...</td>\n",
              "      <td>...</td>\n",
              "      <td>...</td>\n",
              "      <td>...</td>\n",
              "      <td>...</td>\n",
              "      <td>...</td>\n",
              "      <td>...</td>\n",
              "      <td>...</td>\n",
              "      <td>...</td>\n",
              "      <td>...</td>\n",
              "      <td>...</td>\n",
              "      <td>...</td>\n",
              "      <td>...</td>\n",
              "      <td>...</td>\n",
              "      <td>...</td>\n",
              "      <td>...</td>\n",
              "      <td>...</td>\n",
              "      <td>...</td>\n",
              "      <td>...</td>\n",
              "      <td>...</td>\n",
              "      <td>...</td>\n",
              "      <td>...</td>\n",
              "      <td>...</td>\n",
              "      <td>...</td>\n",
              "      <td>...</td>\n",
              "      <td>...</td>\n",
              "      <td>...</td>\n",
              "      <td>...</td>\n",
              "      <td>...</td>\n",
              "      <td>...</td>\n",
              "      <td>...</td>\n",
              "      <td>...</td>\n",
              "      <td>...</td>\n",
              "      <td>...</td>\n",
              "      <td>...</td>\n",
              "      <td>...</td>\n",
              "      <td>...</td>\n",
              "      <td>...</td>\n",
              "      <td>...</td>\n",
              "      <td>...</td>\n",
              "      <td>...</td>\n",
              "      <td>...</td>\n",
              "      <td>...</td>\n",
              "      <td>...</td>\n",
              "      <td>...</td>\n",
              "      <td>...</td>\n",
              "      <td>...</td>\n",
              "      <td>...</td>\n",
              "      <td>...</td>\n",
              "      <td>...</td>\n",
              "      <td>...</td>\n",
              "    </tr>\n",
              "    <tr>\n",
              "      <th>71936</th>\n",
              "      <td>0.998674</td>\n",
              "      <td>-0.340337</td>\n",
              "      <td>-0.998431</td>\n",
              "      <td>-0.388076</td>\n",
              "      <td>0.915215</td>\n",
              "      <td>0.133936</td>\n",
              "      <td>-0.961845</td>\n",
              "      <td>-0.319299</td>\n",
              "      <td>0.983921</td>\n",
              "      <td>-0.288765</td>\n",
              "      <td>-0.224779</td>\n",
              "      <td>0.824314</td>\n",
              "      <td>-0.999540</td>\n",
              "      <td>-0.121808</td>\n",
              "      <td>-0.260595</td>\n",
              "      <td>-0.109558</td>\n",
              "      <td>-0.203178</td>\n",
              "      <td>0.342054</td>\n",
              "      <td>-0.189470</td>\n",
              "      <td>-0.992582</td>\n",
              "      <td>0.578316</td>\n",
              "      <td>0.996166</td>\n",
              "      <td>0.999902</td>\n",
              "      <td>0.992600</td>\n",
              "      <td>0.026838</td>\n",
              "      <td>0.999939</td>\n",
              "      <td>0.953629</td>\n",
              "      <td>-0.243915</td>\n",
              "      <td>-0.217893</td>\n",
              "      <td>-0.058403</td>\n",
              "      <td>-0.174243</td>\n",
              "      <td>-0.090586</td>\n",
              "      <td>0.374999</td>\n",
              "      <td>-0.066060</td>\n",
              "      <td>0.252598</td>\n",
              "      <td>0.999851</td>\n",
              "      <td>-0.293970</td>\n",
              "      <td>-0.124841</td>\n",
              "      <td>0.246327</td>\n",
              "      <td>-0.031342</td>\n",
              "      <td>...</td>\n",
              "      <td>0.286636</td>\n",
              "      <td>0.051191</td>\n",
              "      <td>-0.999097</td>\n",
              "      <td>-0.490069</td>\n",
              "      <td>0.285022</td>\n",
              "      <td>0.259077</td>\n",
              "      <td>0.253033</td>\n",
              "      <td>-0.152027</td>\n",
              "      <td>0.220746</td>\n",
              "      <td>0.347892</td>\n",
              "      <td>0.095403</td>\n",
              "      <td>-0.099248</td>\n",
              "      <td>-0.107950</td>\n",
              "      <td>0.101651</td>\n",
              "      <td>0.999894</td>\n",
              "      <td>-0.992340</td>\n",
              "      <td>-0.119125</td>\n",
              "      <td>0.302744</td>\n",
              "      <td>-0.007852</td>\n",
              "      <td>-0.167676</td>\n",
              "      <td>-0.988436</td>\n",
              "      <td>-0.999672</td>\n",
              "      <td>-0.236328</td>\n",
              "      <td>0.975177</td>\n",
              "      <td>0.551421</td>\n",
              "      <td>0.282300</td>\n",
              "      <td>0.999086</td>\n",
              "      <td>-0.999718</td>\n",
              "      <td>0.897668</td>\n",
              "      <td>-0.247356</td>\n",
              "      <td>-0.418696</td>\n",
              "      <td>0.490814</td>\n",
              "      <td>-0.415965</td>\n",
              "      <td>0.437055</td>\n",
              "      <td>0.350798</td>\n",
              "      <td>0.157768</td>\n",
              "      <td>-0.996883</td>\n",
              "      <td>0.945994</td>\n",
              "      <td>0.154084</td>\n",
              "      <td>0.163874</td>\n",
              "    </tr>\n",
              "    <tr>\n",
              "      <th>71937</th>\n",
              "      <td>0.994378</td>\n",
              "      <td>0.271104</td>\n",
              "      <td>-0.999224</td>\n",
              "      <td>0.358950</td>\n",
              "      <td>0.807616</td>\n",
              "      <td>0.081014</td>\n",
              "      <td>-0.989338</td>\n",
              "      <td>-0.097414</td>\n",
              "      <td>0.998691</td>\n",
              "      <td>-0.290639</td>\n",
              "      <td>0.025652</td>\n",
              "      <td>0.862736</td>\n",
              "      <td>-0.999985</td>\n",
              "      <td>-0.306527</td>\n",
              "      <td>0.163857</td>\n",
              "      <td>0.348081</td>\n",
              "      <td>-0.131496</td>\n",
              "      <td>0.206262</td>\n",
              "      <td>-0.195477</td>\n",
              "      <td>-0.988881</td>\n",
              "      <td>0.680405</td>\n",
              "      <td>0.990474</td>\n",
              "      <td>0.999973</td>\n",
              "      <td>0.999315</td>\n",
              "      <td>0.786453</td>\n",
              "      <td>0.999957</td>\n",
              "      <td>0.998975</td>\n",
              "      <td>-0.100827</td>\n",
              "      <td>0.159515</td>\n",
              "      <td>0.258665</td>\n",
              "      <td>0.016283</td>\n",
              "      <td>0.048920</td>\n",
              "      <td>-0.112513</td>\n",
              "      <td>-0.299242</td>\n",
              "      <td>0.112621</td>\n",
              "      <td>0.999883</td>\n",
              "      <td>0.182384</td>\n",
              "      <td>0.068707</td>\n",
              "      <td>0.114747</td>\n",
              "      <td>0.143196</td>\n",
              "      <td>...</td>\n",
              "      <td>0.139599</td>\n",
              "      <td>-0.322639</td>\n",
              "      <td>-0.999556</td>\n",
              "      <td>-0.016635</td>\n",
              "      <td>-0.023825</td>\n",
              "      <td>-0.167174</td>\n",
              "      <td>-0.393911</td>\n",
              "      <td>0.016763</td>\n",
              "      <td>0.358408</td>\n",
              "      <td>-0.220468</td>\n",
              "      <td>0.143624</td>\n",
              "      <td>0.155154</td>\n",
              "      <td>0.208886</td>\n",
              "      <td>0.263509</td>\n",
              "      <td>0.999966</td>\n",
              "      <td>-0.996243</td>\n",
              "      <td>0.218377</td>\n",
              "      <td>-0.026056</td>\n",
              "      <td>-0.207885</td>\n",
              "      <td>0.105160</td>\n",
              "      <td>-0.998886</td>\n",
              "      <td>-0.999584</td>\n",
              "      <td>-0.682347</td>\n",
              "      <td>0.915635</td>\n",
              "      <td>0.213795</td>\n",
              "      <td>-0.088223</td>\n",
              "      <td>0.996672</td>\n",
              "      <td>-0.999951</td>\n",
              "      <td>0.992825</td>\n",
              "      <td>0.019535</td>\n",
              "      <td>-0.028757</td>\n",
              "      <td>-0.328802</td>\n",
              "      <td>-0.949490</td>\n",
              "      <td>0.180049</td>\n",
              "      <td>0.187216</td>\n",
              "      <td>-0.068773</td>\n",
              "      <td>-0.994193</td>\n",
              "      <td>0.920226</td>\n",
              "      <td>0.980206</td>\n",
              "      <td>0.042602</td>\n",
              "    </tr>\n",
              "    <tr>\n",
              "      <th>71938</th>\n",
              "      <td>0.997230</td>\n",
              "      <td>0.166804</td>\n",
              "      <td>-0.897423</td>\n",
              "      <td>0.875233</td>\n",
              "      <td>0.336146</td>\n",
              "      <td>0.511070</td>\n",
              "      <td>-0.020668</td>\n",
              "      <td>-0.152556</td>\n",
              "      <td>0.898621</td>\n",
              "      <td>-0.199830</td>\n",
              "      <td>0.158566</td>\n",
              "      <td>0.989697</td>\n",
              "      <td>-0.996100</td>\n",
              "      <td>0.177988</td>\n",
              "      <td>0.056471</td>\n",
              "      <td>-0.202208</td>\n",
              "      <td>0.065915</td>\n",
              "      <td>-0.217649</td>\n",
              "      <td>-0.189166</td>\n",
              "      <td>-0.726084</td>\n",
              "      <td>-0.918338</td>\n",
              "      <td>0.999384</td>\n",
              "      <td>0.999992</td>\n",
              "      <td>0.638241</td>\n",
              "      <td>-0.276655</td>\n",
              "      <td>0.999999</td>\n",
              "      <td>0.970613</td>\n",
              "      <td>-0.051742</td>\n",
              "      <td>0.244661</td>\n",
              "      <td>-0.150682</td>\n",
              "      <td>0.018126</td>\n",
              "      <td>0.265998</td>\n",
              "      <td>-0.065808</td>\n",
              "      <td>-0.468604</td>\n",
              "      <td>0.125671</td>\n",
              "      <td>0.999994</td>\n",
              "      <td>-0.000986</td>\n",
              "      <td>-0.127254</td>\n",
              "      <td>-0.054985</td>\n",
              "      <td>-0.168967</td>\n",
              "      <td>...</td>\n",
              "      <td>0.356726</td>\n",
              "      <td>-0.105092</td>\n",
              "      <td>-0.999854</td>\n",
              "      <td>-0.374384</td>\n",
              "      <td>-0.136900</td>\n",
              "      <td>-0.233410</td>\n",
              "      <td>0.041907</td>\n",
              "      <td>0.219118</td>\n",
              "      <td>0.265580</td>\n",
              "      <td>-0.063474</td>\n",
              "      <td>0.545930</td>\n",
              "      <td>0.049912</td>\n",
              "      <td>-0.136450</td>\n",
              "      <td>0.328134</td>\n",
              "      <td>0.999994</td>\n",
              "      <td>-0.996609</td>\n",
              "      <td>0.127863</td>\n",
              "      <td>0.280418</td>\n",
              "      <td>0.216438</td>\n",
              "      <td>-0.180454</td>\n",
              "      <td>-0.980214</td>\n",
              "      <td>-0.988802</td>\n",
              "      <td>0.838360</td>\n",
              "      <td>-0.415445</td>\n",
              "      <td>0.011310</td>\n",
              "      <td>0.049075</td>\n",
              "      <td>0.999846</td>\n",
              "      <td>-0.988090</td>\n",
              "      <td>0.415557</td>\n",
              "      <td>-0.215965</td>\n",
              "      <td>-0.507820</td>\n",
              "      <td>0.050765</td>\n",
              "      <td>-0.414285</td>\n",
              "      <td>-0.127319</td>\n",
              "      <td>0.441977</td>\n",
              "      <td>-0.102775</td>\n",
              "      <td>-0.981895</td>\n",
              "      <td>-0.343067</td>\n",
              "      <td>0.064548</td>\n",
              "      <td>0.104286</td>\n",
              "    </tr>\n",
              "    <tr>\n",
              "      <th>71939</th>\n",
              "      <td>0.993905</td>\n",
              "      <td>0.219810</td>\n",
              "      <td>-0.805509</td>\n",
              "      <td>0.928771</td>\n",
              "      <td>0.137466</td>\n",
              "      <td>0.491001</td>\n",
              "      <td>0.083481</td>\n",
              "      <td>-0.111004</td>\n",
              "      <td>0.926198</td>\n",
              "      <td>-0.325032</td>\n",
              "      <td>-0.071491</td>\n",
              "      <td>0.986526</td>\n",
              "      <td>-0.969592</td>\n",
              "      <td>0.193832</td>\n",
              "      <td>-0.276164</td>\n",
              "      <td>-0.081622</td>\n",
              "      <td>0.045876</td>\n",
              "      <td>-0.137292</td>\n",
              "      <td>-0.263882</td>\n",
              "      <td>-0.084151</td>\n",
              "      <td>-0.915713</td>\n",
              "      <td>0.998889</td>\n",
              "      <td>0.999958</td>\n",
              "      <td>0.837545</td>\n",
              "      <td>-0.321077</td>\n",
              "      <td>0.999984</td>\n",
              "      <td>0.771055</td>\n",
              "      <td>0.255121</td>\n",
              "      <td>0.174802</td>\n",
              "      <td>-0.147691</td>\n",
              "      <td>0.249306</td>\n",
              "      <td>0.094806</td>\n",
              "      <td>-0.318244</td>\n",
              "      <td>-0.424799</td>\n",
              "      <td>-0.052843</td>\n",
              "      <td>0.999973</td>\n",
              "      <td>-0.182225</td>\n",
              "      <td>-0.033696</td>\n",
              "      <td>0.143649</td>\n",
              "      <td>-0.288247</td>\n",
              "      <td>...</td>\n",
              "      <td>0.206677</td>\n",
              "      <td>-0.034076</td>\n",
              "      <td>-0.999636</td>\n",
              "      <td>-0.305576</td>\n",
              "      <td>-0.163593</td>\n",
              "      <td>-0.220104</td>\n",
              "      <td>0.226838</td>\n",
              "      <td>0.089082</td>\n",
              "      <td>0.449882</td>\n",
              "      <td>-0.139288</td>\n",
              "      <td>0.442165</td>\n",
              "      <td>0.066853</td>\n",
              "      <td>-0.179245</td>\n",
              "      <td>0.330887</td>\n",
              "      <td>0.999973</td>\n",
              "      <td>-0.990190</td>\n",
              "      <td>0.209881</td>\n",
              "      <td>0.250785</td>\n",
              "      <td>0.200768</td>\n",
              "      <td>-0.124870</td>\n",
              "      <td>-0.718938</td>\n",
              "      <td>-0.978392</td>\n",
              "      <td>0.394525</td>\n",
              "      <td>-0.714982</td>\n",
              "      <td>-0.105633</td>\n",
              "      <td>0.149632</td>\n",
              "      <td>0.998610</td>\n",
              "      <td>-0.936246</td>\n",
              "      <td>-0.127116</td>\n",
              "      <td>-0.362003</td>\n",
              "      <td>-0.128046</td>\n",
              "      <td>0.045479</td>\n",
              "      <td>-0.237669</td>\n",
              "      <td>-0.170086</td>\n",
              "      <td>0.469077</td>\n",
              "      <td>-0.288613</td>\n",
              "      <td>-0.916356</td>\n",
              "      <td>-0.831444</td>\n",
              "      <td>0.085461</td>\n",
              "      <td>0.061188</td>\n",
              "    </tr>\n",
              "    <tr>\n",
              "      <th>71940</th>\n",
              "      <td>0.999627</td>\n",
              "      <td>0.050403</td>\n",
              "      <td>-0.999260</td>\n",
              "      <td>0.932814</td>\n",
              "      <td>0.426893</td>\n",
              "      <td>0.348107</td>\n",
              "      <td>-0.987881</td>\n",
              "      <td>-0.245771</td>\n",
              "      <td>0.999534</td>\n",
              "      <td>-0.112254</td>\n",
              "      <td>0.008593</td>\n",
              "      <td>0.983876</td>\n",
              "      <td>-0.999813</td>\n",
              "      <td>-0.302145</td>\n",
              "      <td>-0.035232</td>\n",
              "      <td>-0.029894</td>\n",
              "      <td>-0.400207</td>\n",
              "      <td>0.251789</td>\n",
              "      <td>-0.203674</td>\n",
              "      <td>-0.989789</td>\n",
              "      <td>0.784091</td>\n",
              "      <td>0.998803</td>\n",
              "      <td>0.999997</td>\n",
              "      <td>0.997187</td>\n",
              "      <td>0.079190</td>\n",
              "      <td>0.999999</td>\n",
              "      <td>0.999493</td>\n",
              "      <td>0.091055</td>\n",
              "      <td>0.158582</td>\n",
              "      <td>0.139110</td>\n",
              "      <td>-0.133773</td>\n",
              "      <td>-0.134256</td>\n",
              "      <td>-0.020186</td>\n",
              "      <td>-0.361149</td>\n",
              "      <td>-0.092764</td>\n",
              "      <td>0.999997</td>\n",
              "      <td>-0.164985</td>\n",
              "      <td>-0.061331</td>\n",
              "      <td>0.237278</td>\n",
              "      <td>-0.115736</td>\n",
              "      <td>...</td>\n",
              "      <td>0.353838</td>\n",
              "      <td>-0.194899</td>\n",
              "      <td>-0.999985</td>\n",
              "      <td>-0.236801</td>\n",
              "      <td>-0.052635</td>\n",
              "      <td>0.249116</td>\n",
              "      <td>0.077920</td>\n",
              "      <td>-0.046665</td>\n",
              "      <td>0.474352</td>\n",
              "      <td>0.022092</td>\n",
              "      <td>0.189746</td>\n",
              "      <td>-0.244108</td>\n",
              "      <td>-0.052588</td>\n",
              "      <td>0.441454</td>\n",
              "      <td>0.999999</td>\n",
              "      <td>-0.997505</td>\n",
              "      <td>-0.003118</td>\n",
              "      <td>-0.105291</td>\n",
              "      <td>-0.385139</td>\n",
              "      <td>0.265625</td>\n",
              "      <td>-0.984027</td>\n",
              "      <td>-0.996065</td>\n",
              "      <td>-0.701585</td>\n",
              "      <td>0.479378</td>\n",
              "      <td>0.188930</td>\n",
              "      <td>-0.030069</td>\n",
              "      <td>0.999809</td>\n",
              "      <td>-0.999285</td>\n",
              "      <td>0.922363</td>\n",
              "      <td>0.150601</td>\n",
              "      <td>-0.802958</td>\n",
              "      <td>0.314966</td>\n",
              "      <td>-0.648679</td>\n",
              "      <td>0.054197</td>\n",
              "      <td>-0.071018</td>\n",
              "      <td>-0.147294</td>\n",
              "      <td>-0.947531</td>\n",
              "      <td>0.984326</td>\n",
              "      <td>0.680379</td>\n",
              "      <td>0.052137</td>\n",
              "    </tr>\n",
              "  </tbody>\n",
              "</table>\n",
              "<p>71941 rows × 768 columns</p>\n",
              "</div>"
            ],
            "text/plain": [
              "            0         1         2    ...       765       766       767\n",
              "0      0.998480  0.185802 -0.749198  ... -0.502592 -0.449744  0.125393\n",
              "1      0.999215  0.163605 -0.754340  ... -0.918984 -0.467139 -0.177415\n",
              "2      0.996632  0.200644 -0.888231  ... -0.844636  0.091629  0.014209\n",
              "3      0.990957 -0.059283 -0.999814  ...  0.963918  0.863770  0.266421\n",
              "4      0.999812  0.003635 -0.999793  ...  0.967428  0.859057  0.125498\n",
              "...         ...       ...       ...  ...       ...       ...       ...\n",
              "71936  0.998674 -0.340337 -0.998431  ...  0.945994  0.154084  0.163874\n",
              "71937  0.994378  0.271104 -0.999224  ...  0.920226  0.980206  0.042602\n",
              "71938  0.997230  0.166804 -0.897423  ... -0.343067  0.064548  0.104286\n",
              "71939  0.993905  0.219810 -0.805509  ... -0.831444  0.085461  0.061188\n",
              "71940  0.999627  0.050403 -0.999260  ...  0.984326  0.680379  0.052137\n",
              "\n",
              "[71941 rows x 768 columns]"
            ]
          },
          "metadata": {
            "tags": []
          },
          "execution_count": 12
        }
      ]
    },
    {
      "cell_type": "code",
      "metadata": {
        "id": "2qiOG_6zQj7l"
      },
      "source": [
        "X_train,X_test,y_train,y_test=train_test_split(labelled_aapl_news_df,trainY,test_size=0.1,random_state=0)"
      ],
      "execution_count": null,
      "outputs": []
    },
    {
      "cell_type": "code",
      "metadata": {
        "colab": {
          "base_uri": "https://localhost:8080/"
        },
        "id": "Rwel5NhFQ6HL",
        "outputId": "bf65ca8b-e399-4133-8195-23005b92abd2"
      },
      "source": [
        "print(X_train.shape)\n",
        "print(y_train.shape)"
      ],
      "execution_count": null,
      "outputs": [
        {
          "output_type": "stream",
          "text": [
            "(64746, 768)\n",
            "(64746,)\n"
          ],
          "name": "stdout"
        }
      ]
    },
    {
      "cell_type": "code",
      "metadata": {
        "colab": {
          "base_uri": "https://localhost:8080/"
        },
        "id": "U4OMSTMuQ_kP",
        "outputId": "5cfae083-eb6a-45b6-93bf-aaca46e1e8e6"
      },
      "source": [
        "print(\"training Logistic Regression now ...\")\n",
        "\n",
        "logistic_regression = LogisticRegression(max_iter=2000, verbose=25, C = 1).fit(X_train,y_train)\n",
        "y_pred = logistic_regression.predict(X_test)\n",
        "acc = accuracy_score(y_test,y_pred)\n",
        "print('Accuracy of Logistic Regression classifier is: %f ' % acc)"
      ],
      "execution_count": null,
      "outputs": [
        {
          "output_type": "stream",
          "text": [
            "training Logistic Regression now ...\n"
          ],
          "name": "stdout"
        },
        {
          "output_type": "stream",
          "text": [
            "[Parallel(n_jobs=1)]: Using backend SequentialBackend with 1 concurrent workers.\n"
          ],
          "name": "stderr"
        },
        {
          "output_type": "stream",
          "text": [
            "Accuracy of Logistic Regression classifier is: 0.565532 \n"
          ],
          "name": "stdout"
        },
        {
          "output_type": "stream",
          "text": [
            "[Parallel(n_jobs=1)]: Done   1 out of   1 | elapsed:  3.0min remaining:    0.0s\n",
            "[Parallel(n_jobs=1)]: Done   1 out of   1 | elapsed:  3.0min finished\n"
          ],
          "name": "stderr"
        }
      ]
    },
    {
      "cell_type": "code",
      "metadata": {
        "id": "qLchyXleTkpB"
      },
      "source": [
        "X_test_data = "
      ],
      "execution_count": null,
      "outputs": []
    },
    {
      "cell_type": "code",
      "metadata": {
        "colab": {
          "base_uri": "https://localhost:8080/"
        },
        "id": "__YgA552AjWc",
        "outputId": "9b42fa9d-d29f-4b30-cb8f-51c9cd88711b"
      },
      "source": [
        "c_values = [0.01,0.1,0.5,0.7,0.8,1,1.2,2]\n",
        "for items in c_values:\n",
        "  print(\"training Logistic Regression now ...\")\n",
        "\n",
        "  logistic_regression = LogisticRegression(max_iter=2000, verbose=25, C = items).fit(X_train,y_train)\n",
        "  y_pred = logistic_regression.predict(X_test)\n",
        "  acc = accuracy_score(y_test,y_pred)\n",
        "  print('Accuracy of Logistic Regression classifier is: %f ' % acc)"
      ],
      "execution_count": null,
      "outputs": [
        {
          "output_type": "stream",
          "text": [
            "training Logistic Regression now ...\n"
          ],
          "name": "stdout"
        },
        {
          "output_type": "stream",
          "text": [
            "[Parallel(n_jobs=1)]: Using backend SequentialBackend with 1 concurrent workers.\n",
            "[Parallel(n_jobs=1)]: Done   1 out of   1 | elapsed:   18.1s remaining:    0.0s\n",
            "[Parallel(n_jobs=1)]: Done   1 out of   1 | elapsed:   18.1s finished\n"
          ],
          "name": "stderr"
        },
        {
          "output_type": "stream",
          "text": [
            "Accuracy of Logistic Regression classifier is: 0.561779 \n",
            "training Logistic Regression now ...\n"
          ],
          "name": "stdout"
        },
        {
          "output_type": "stream",
          "text": [
            "[Parallel(n_jobs=1)]: Using backend SequentialBackend with 1 concurrent workers.\n",
            "[Parallel(n_jobs=1)]: Done   1 out of   1 | elapsed:   56.2s remaining:    0.0s\n",
            "[Parallel(n_jobs=1)]: Done   1 out of   1 | elapsed:   56.2s finished\n"
          ],
          "name": "stderr"
        },
        {
          "output_type": "stream",
          "text": [
            "Accuracy of Logistic Regression classifier is: 0.567894 \n",
            "training Logistic Regression now ...\n"
          ],
          "name": "stdout"
        },
        {
          "output_type": "stream",
          "text": [
            "[Parallel(n_jobs=1)]: Using backend SequentialBackend with 1 concurrent workers.\n",
            "[Parallel(n_jobs=1)]: Done   1 out of   1 | elapsed:  2.1min remaining:    0.0s\n",
            "[Parallel(n_jobs=1)]: Done   1 out of   1 | elapsed:  2.1min finished\n"
          ],
          "name": "stderr"
        },
        {
          "output_type": "stream",
          "text": [
            "Accuracy of Logistic Regression classifier is: 0.566644 \n",
            "training Logistic Regression now ...\n"
          ],
          "name": "stdout"
        },
        {
          "output_type": "stream",
          "text": [
            "[Parallel(n_jobs=1)]: Using backend SequentialBackend with 1 concurrent workers.\n",
            "[Parallel(n_jobs=1)]: Done   1 out of   1 | elapsed:  2.2min remaining:    0.0s\n",
            "[Parallel(n_jobs=1)]: Done   1 out of   1 | elapsed:  2.2min finished\n"
          ],
          "name": "stderr"
        },
        {
          "output_type": "stream",
          "text": [
            "Accuracy of Logistic Regression classifier is: 0.565671 \n",
            "training Logistic Regression now ...\n"
          ],
          "name": "stdout"
        },
        {
          "output_type": "stream",
          "text": [
            "[Parallel(n_jobs=1)]: Using backend SequentialBackend with 1 concurrent workers.\n",
            "[Parallel(n_jobs=1)]: Done   1 out of   1 | elapsed:  2.1min remaining:    0.0s\n",
            "[Parallel(n_jobs=1)]: Done   1 out of   1 | elapsed:  2.1min finished\n"
          ],
          "name": "stderr"
        },
        {
          "output_type": "stream",
          "text": [
            "Accuracy of Logistic Regression classifier is: 0.565393 \n",
            "training Logistic Regression now ...\n"
          ],
          "name": "stdout"
        },
        {
          "output_type": "stream",
          "text": [
            "[Parallel(n_jobs=1)]: Using backend SequentialBackend with 1 concurrent workers.\n",
            "[Parallel(n_jobs=1)]: Done   1 out of   1 | elapsed:  2.4min remaining:    0.0s\n",
            "[Parallel(n_jobs=1)]: Done   1 out of   1 | elapsed:  2.4min finished\n"
          ],
          "name": "stderr"
        },
        {
          "output_type": "stream",
          "text": [
            "Accuracy of Logistic Regression classifier is: 0.565532 \n",
            "training Logistic Regression now ...\n"
          ],
          "name": "stdout"
        },
        {
          "output_type": "stream",
          "text": [
            "[Parallel(n_jobs=1)]: Using backend SequentialBackend with 1 concurrent workers.\n",
            "[Parallel(n_jobs=1)]: Done   1 out of   1 | elapsed:  2.4min remaining:    0.0s\n",
            "[Parallel(n_jobs=1)]: Done   1 out of   1 | elapsed:  2.4min finished\n"
          ],
          "name": "stderr"
        },
        {
          "output_type": "stream",
          "text": [
            "Accuracy of Logistic Regression classifier is: 0.566227 \n",
            "training Logistic Regression now ...\n"
          ],
          "name": "stdout"
        },
        {
          "output_type": "stream",
          "text": [
            "[Parallel(n_jobs=1)]: Using backend SequentialBackend with 1 concurrent workers.\n"
          ],
          "name": "stderr"
        },
        {
          "output_type": "stream",
          "text": [
            "Accuracy of Logistic Regression classifier is: 0.564976 \n"
          ],
          "name": "stdout"
        },
        {
          "output_type": "stream",
          "text": [
            "[Parallel(n_jobs=1)]: Done   1 out of   1 | elapsed:  3.1min remaining:    0.0s\n",
            "[Parallel(n_jobs=1)]: Done   1 out of   1 | elapsed:  3.1min finished\n"
          ],
          "name": "stderr"
        }
      ]
    },
    {
      "cell_type": "code",
      "metadata": {
        "id": "3UB0oUPwRCNF",
        "colab": {
          "base_uri": "https://localhost:8080/"
        },
        "outputId": "0eeab6ee-3f9a-4326-89d3-1280fadfbc81"
      },
      "source": [
        "c_values = [0.01,0.1,0.5,0.7,0.8,1,1.2,2]\n",
        "for items in c_values:\n",
        "  logistic_regression = LogisticRegression(max_iter=3000, verbose=25, C = items).fit(X_train,y_train)\n",
        "  y_pred = logistic_regression.predict(X_test)\n",
        "  acc = accuracy_score(y_test,y_pred)\n",
        "  print('Accuracy of Logistic Regression classifier is: %f ' % acc)\n"
      ],
      "execution_count": null,
      "outputs": [
        {
          "output_type": "stream",
          "text": [
            "[Parallel(n_jobs=1)]: Using backend SequentialBackend with 1 concurrent workers.\n",
            "[Parallel(n_jobs=1)]: Done   1 out of   1 | elapsed:   18.4s remaining:    0.0s\n",
            "[Parallel(n_jobs=1)]: Done   1 out of   1 | elapsed:   18.4s finished\n"
          ],
          "name": "stderr"
        },
        {
          "output_type": "stream",
          "text": [
            "Accuracy of Logistic Regression classifier is: 0.561779 \n"
          ],
          "name": "stdout"
        },
        {
          "output_type": "stream",
          "text": [
            "[Parallel(n_jobs=1)]: Using backend SequentialBackend with 1 concurrent workers.\n",
            "[Parallel(n_jobs=1)]: Done   1 out of   1 | elapsed:   57.1s remaining:    0.0s\n",
            "[Parallel(n_jobs=1)]: Done   1 out of   1 | elapsed:   57.1s finished\n"
          ],
          "name": "stderr"
        },
        {
          "output_type": "stream",
          "text": [
            "Accuracy of Logistic Regression classifier is: 0.567894 \n"
          ],
          "name": "stdout"
        },
        {
          "output_type": "stream",
          "text": [
            "[Parallel(n_jobs=1)]: Using backend SequentialBackend with 1 concurrent workers.\n",
            "[Parallel(n_jobs=1)]: Done   1 out of   1 | elapsed:  2.0min remaining:    0.0s\n",
            "[Parallel(n_jobs=1)]: Done   1 out of   1 | elapsed:  2.0min finished\n"
          ],
          "name": "stderr"
        },
        {
          "output_type": "stream",
          "text": [
            "Accuracy of Logistic Regression classifier is: 0.566644 \n"
          ],
          "name": "stdout"
        },
        {
          "output_type": "stream",
          "text": [
            "[Parallel(n_jobs=1)]: Using backend SequentialBackend with 1 concurrent workers.\n",
            "[Parallel(n_jobs=1)]: Done   1 out of   1 | elapsed:  2.2min remaining:    0.0s\n",
            "[Parallel(n_jobs=1)]: Done   1 out of   1 | elapsed:  2.2min finished\n"
          ],
          "name": "stderr"
        },
        {
          "output_type": "stream",
          "text": [
            "Accuracy of Logistic Regression classifier is: 0.565671 \n"
          ],
          "name": "stdout"
        },
        {
          "output_type": "stream",
          "text": [
            "[Parallel(n_jobs=1)]: Using backend SequentialBackend with 1 concurrent workers.\n",
            "[Parallel(n_jobs=1)]: Done   1 out of   1 | elapsed:  2.2min remaining:    0.0s\n",
            "[Parallel(n_jobs=1)]: Done   1 out of   1 | elapsed:  2.2min finished\n"
          ],
          "name": "stderr"
        },
        {
          "output_type": "stream",
          "text": [
            "Accuracy of Logistic Regression classifier is: 0.565393 \n"
          ],
          "name": "stdout"
        },
        {
          "output_type": "stream",
          "text": [
            "[Parallel(n_jobs=1)]: Using backend SequentialBackend with 1 concurrent workers.\n",
            "[Parallel(n_jobs=1)]: Done   1 out of   1 | elapsed:  2.3min remaining:    0.0s\n",
            "[Parallel(n_jobs=1)]: Done   1 out of   1 | elapsed:  2.3min finished\n"
          ],
          "name": "stderr"
        },
        {
          "output_type": "stream",
          "text": [
            "Accuracy of Logistic Regression classifier is: 0.565532 \n"
          ],
          "name": "stdout"
        },
        {
          "output_type": "stream",
          "text": [
            "[Parallel(n_jobs=1)]: Using backend SequentialBackend with 1 concurrent workers.\n",
            "[Parallel(n_jobs=1)]: Done   1 out of   1 | elapsed:  2.4min remaining:    0.0s\n",
            "[Parallel(n_jobs=1)]: Done   1 out of   1 | elapsed:  2.4min finished\n"
          ],
          "name": "stderr"
        },
        {
          "output_type": "stream",
          "text": [
            "Accuracy of Logistic Regression classifier is: 0.566227 \n"
          ],
          "name": "stdout"
        },
        {
          "output_type": "stream",
          "text": [
            "[Parallel(n_jobs=1)]: Using backend SequentialBackend with 1 concurrent workers.\n"
          ],
          "name": "stderr"
        },
        {
          "output_type": "stream",
          "text": [
            "Accuracy of Logistic Regression classifier is: 0.564976 \n"
          ],
          "name": "stdout"
        },
        {
          "output_type": "stream",
          "text": [
            "[Parallel(n_jobs=1)]: Done   1 out of   1 | elapsed:  3.0min remaining:    0.0s\n",
            "[Parallel(n_jobs=1)]: Done   1 out of   1 | elapsed:  3.0min finished\n"
          ],
          "name": "stderr"
        }
      ]
    },
    {
      "cell_type": "code",
      "metadata": {
        "id": "73-YROYlBJ6y"
      },
      "source": [
        "#from sklearn.model_selection import cross_val_score\n",
        "\n",
        "#cvscores_10 = cross_val_score(reg, X, y, cv=10)\n",
        "#print(np.mean(cvscores_10))"
      ],
      "execution_count": null,
      "outputs": []
    },
    {
      "cell_type": "code",
      "metadata": {
        "id": "_HE4kcxAQK8B",
        "colab": {
          "base_uri": "https://localhost:8080/"
        },
        "outputId": "45d412f6-357f-4cd3-ca1d-6585296ce52f"
      },
      "source": [
        "matrix = confusion_matrix(y_test, y_pred, labels=[1,-1])\n",
        "print('Confusion Matrix: \\n',matrix)\n",
        "\n",
        "tp, fn, fp, tn = confusion_matrix(y_test, y_pred, labels = [1, -1]).reshape(-1)\n",
        "print('Outcome values: \\n', tp, fn, fp, tn)\n",
        "\n",
        "matrix = classification_report(y_test, y_pred, labels=[1,-1])\n",
        "print('Classification report: \\n',matrix)\n"
      ],
      "execution_count": null,
      "outputs": [
        {
          "output_type": "stream",
          "text": [
            "Confusion Matrix: \n",
            " [[1546 1832]\n",
            " [1294 2523]]\n",
            "Outcome values: \n",
            " 1546 1832 1294 2523\n",
            "Classification report: \n",
            "               precision    recall  f1-score   support\n",
            "\n",
            "           1       0.54      0.46      0.50      3378\n",
            "          -1       0.58      0.66      0.62      3817\n",
            "\n",
            "    accuracy                           0.57      7195\n",
            "   macro avg       0.56      0.56      0.56      7195\n",
            "weighted avg       0.56      0.57      0.56      7195\n",
            "\n"
          ],
          "name": "stdout"
        }
      ]
    },
    {
      "cell_type": "code",
      "metadata": {
        "colab": {
          "base_uri": "https://localhost:8080/"
        },
        "id": "U2kLAly9QKtS",
        "outputId": "9aa4a7f9-4cc6-4335-8d43-1c33a1af0d94"
      },
      "source": [
        "print(\"training Random Forest classifier now ...\")\n",
        "\n",
        "random_forest_classifier = RandomForestClassifier(n_estimators=100, verbose=15, n_jobs=-1).fit(X_train,y_train)\n",
        "#increase n_estimators if you face issues in training\n",
        "y_pred=random_forest_classifier.predict(X_test)\n",
        "acc=accuracy_score(y_test,y_pred)\n",
        "print('Accuracy of Random Forest classifier is: %f ' % acc)"
      ],
      "execution_count": null,
      "outputs": [
        {
          "output_type": "stream",
          "text": [
            "training Random Forest classifier now ...\n",
            "building tree 1 of 100\n",
            "building tree 2 of 100\n"
          ],
          "name": "stdout"
        },
        {
          "output_type": "stream",
          "text": [
            "[Parallel(n_jobs=-1)]: Using backend ThreadingBackend with 2 concurrent workers.\n",
            "[Parallel(n_jobs=-1)]: Done   1 tasks      | elapsed:    5.2s\n"
          ],
          "name": "stderr"
        },
        {
          "output_type": "stream",
          "text": [
            "building tree 3 of 100\n"
          ],
          "name": "stdout"
        },
        {
          "output_type": "stream",
          "text": [
            "[Parallel(n_jobs=-1)]: Done   2 tasks      | elapsed:    5.4s\n"
          ],
          "name": "stderr"
        },
        {
          "output_type": "stream",
          "text": [
            "building tree 4 of 100\n"
          ],
          "name": "stdout"
        },
        {
          "output_type": "stream",
          "text": [
            "[Parallel(n_jobs=-1)]: Done   3 tasks      | elapsed:    9.2s\n"
          ],
          "name": "stderr"
        },
        {
          "output_type": "stream",
          "text": [
            "building tree 5 of 100\n",
            "building tree 6 of 100\n"
          ],
          "name": "stdout"
        },
        {
          "output_type": "stream",
          "text": [
            "[Parallel(n_jobs=-1)]: Done   4 tasks      | elapsed:   10.2s\n",
            "[Parallel(n_jobs=-1)]: Done   5 tasks      | elapsed:   13.4s\n"
          ],
          "name": "stderr"
        },
        {
          "output_type": "stream",
          "text": [
            "building tree 7 of 100\n"
          ],
          "name": "stdout"
        },
        {
          "output_type": "stream",
          "text": [
            "[Parallel(n_jobs=-1)]: Done   6 tasks      | elapsed:   14.9s\n"
          ],
          "name": "stderr"
        },
        {
          "output_type": "stream",
          "text": [
            "building tree 8 of 100\n"
          ],
          "name": "stdout"
        },
        {
          "output_type": "stream",
          "text": [
            "[Parallel(n_jobs=-1)]: Done   7 tasks      | elapsed:   18.3s\n"
          ],
          "name": "stderr"
        },
        {
          "output_type": "stream",
          "text": [
            "building tree 9 of 100\n"
          ],
          "name": "stdout"
        },
        {
          "output_type": "stream",
          "text": [
            "[Parallel(n_jobs=-1)]: Done   8 tasks      | elapsed:   19.4s\n"
          ],
          "name": "stderr"
        },
        {
          "output_type": "stream",
          "text": [
            "building tree 10 of 100\n",
            "building tree 11 of 100\n"
          ],
          "name": "stdout"
        },
        {
          "output_type": "stream",
          "text": [
            "[Parallel(n_jobs=-1)]: Done   9 tasks      | elapsed:   22.4s\n",
            "[Parallel(n_jobs=-1)]: Done  10 tasks      | elapsed:   24.0s\n"
          ],
          "name": "stderr"
        },
        {
          "output_type": "stream",
          "text": [
            "building tree 12 of 100\n"
          ],
          "name": "stdout"
        },
        {
          "output_type": "stream",
          "text": [
            "[Parallel(n_jobs=-1)]: Done  11 tasks      | elapsed:   27.3s\n"
          ],
          "name": "stderr"
        },
        {
          "output_type": "stream",
          "text": [
            "building tree 13 of 100\n"
          ],
          "name": "stdout"
        },
        {
          "output_type": "stream",
          "text": [
            "[Parallel(n_jobs=-1)]: Done  12 tasks      | elapsed:   28.9s\n"
          ],
          "name": "stderr"
        },
        {
          "output_type": "stream",
          "text": [
            "building tree 14 of 100\n"
          ],
          "name": "stdout"
        },
        {
          "output_type": "stream",
          "text": [
            "[Parallel(n_jobs=-1)]: Done  13 tasks      | elapsed:   32.2s\n"
          ],
          "name": "stderr"
        },
        {
          "output_type": "stream",
          "text": [
            "building tree 15 of 100\n"
          ],
          "name": "stdout"
        },
        {
          "output_type": "stream",
          "text": [
            "[Parallel(n_jobs=-1)]: Done  14 tasks      | elapsed:   33.5s\n"
          ],
          "name": "stderr"
        },
        {
          "output_type": "stream",
          "text": [
            "building tree 16 of 100\n"
          ],
          "name": "stdout"
        },
        {
          "output_type": "stream",
          "text": [
            "[Parallel(n_jobs=-1)]: Done  15 tasks      | elapsed:   36.3s\n"
          ],
          "name": "stderr"
        },
        {
          "output_type": "stream",
          "text": [
            "building tree 17 of 100\n"
          ],
          "name": "stdout"
        },
        {
          "output_type": "stream",
          "text": [
            "[Parallel(n_jobs=-1)]: Done  16 tasks      | elapsed:   37.8s\n"
          ],
          "name": "stderr"
        },
        {
          "output_type": "stream",
          "text": [
            "building tree 18 of 100\n"
          ],
          "name": "stdout"
        },
        {
          "output_type": "stream",
          "text": [
            "[Parallel(n_jobs=-1)]: Done  17 tasks      | elapsed:   40.8s\n"
          ],
          "name": "stderr"
        },
        {
          "output_type": "stream",
          "text": [
            "building tree 19 of 100\n"
          ],
          "name": "stdout"
        },
        {
          "output_type": "stream",
          "text": [
            "[Parallel(n_jobs=-1)]: Done  18 tasks      | elapsed:   42.1s\n"
          ],
          "name": "stderr"
        },
        {
          "output_type": "stream",
          "text": [
            "building tree 20 of 100\n"
          ],
          "name": "stdout"
        },
        {
          "output_type": "stream",
          "text": [
            "[Parallel(n_jobs=-1)]: Done  19 tasks      | elapsed:   45.3s\n"
          ],
          "name": "stderr"
        },
        {
          "output_type": "stream",
          "text": [
            "building tree 21 of 100\n"
          ],
          "name": "stdout"
        },
        {
          "output_type": "stream",
          "text": [
            "[Parallel(n_jobs=-1)]: Done  20 tasks      | elapsed:   46.7s\n"
          ],
          "name": "stderr"
        },
        {
          "output_type": "stream",
          "text": [
            "building tree 22 of 100\n"
          ],
          "name": "stdout"
        },
        {
          "output_type": "stream",
          "text": [
            "[Parallel(n_jobs=-1)]: Done  21 tasks      | elapsed:   49.5s\n"
          ],
          "name": "stderr"
        },
        {
          "output_type": "stream",
          "text": [
            "building tree 23 of 100\n"
          ],
          "name": "stdout"
        },
        {
          "output_type": "stream",
          "text": [
            "[Parallel(n_jobs=-1)]: Done  22 tasks      | elapsed:   51.2s\n"
          ],
          "name": "stderr"
        },
        {
          "output_type": "stream",
          "text": [
            "building tree 24 of 100\n",
            "building tree 25 of 100\n"
          ],
          "name": "stdout"
        },
        {
          "output_type": "stream",
          "text": [
            "[Parallel(n_jobs=-1)]: Done  23 tasks      | elapsed:   55.1s\n",
            "[Parallel(n_jobs=-1)]: Done  24 tasks      | elapsed:   56.0s\n"
          ],
          "name": "stderr"
        },
        {
          "output_type": "stream",
          "text": [
            "building tree 26 of 100\n"
          ],
          "name": "stdout"
        },
        {
          "output_type": "stream",
          "text": [
            "[Parallel(n_jobs=-1)]: Done  25 tasks      | elapsed:   60.0s\n"
          ],
          "name": "stderr"
        },
        {
          "output_type": "stream",
          "text": [
            "building tree 27 of 100\n"
          ],
          "name": "stdout"
        },
        {
          "output_type": "stream",
          "text": [
            "[Parallel(n_jobs=-1)]: Done  26 tasks      | elapsed:  1.0min\n"
          ],
          "name": "stderr"
        },
        {
          "output_type": "stream",
          "text": [
            "building tree 28 of 100\n"
          ],
          "name": "stdout"
        },
        {
          "output_type": "stream",
          "text": [
            "[Parallel(n_jobs=-1)]: Done  27 tasks      | elapsed:  1.1min\n",
            "[Parallel(n_jobs=-1)]: Done  28 tasks      | elapsed:  1.1min\n"
          ],
          "name": "stderr"
        },
        {
          "output_type": "stream",
          "text": [
            "building tree 29 of 100\n",
            "building tree 30 of 100\n"
          ],
          "name": "stdout"
        },
        {
          "output_type": "stream",
          "text": [
            "[Parallel(n_jobs=-1)]: Done  29 tasks      | elapsed:  1.2min\n",
            "[Parallel(n_jobs=-1)]: Done  30 tasks      | elapsed:  1.2min\n"
          ],
          "name": "stderr"
        },
        {
          "output_type": "stream",
          "text": [
            "building tree 31 of 100\n",
            "building tree 32 of 100\n"
          ],
          "name": "stdout"
        },
        {
          "output_type": "stream",
          "text": [
            "[Parallel(n_jobs=-1)]: Done  31 tasks      | elapsed:  1.2min\n"
          ],
          "name": "stderr"
        },
        {
          "output_type": "stream",
          "text": [
            "building tree 33 of 100\n"
          ],
          "name": "stdout"
        },
        {
          "output_type": "stream",
          "text": [
            "[Parallel(n_jobs=-1)]: Done  32 tasks      | elapsed:  1.2min\n"
          ],
          "name": "stderr"
        },
        {
          "output_type": "stream",
          "text": [
            "building tree 34 of 100\n"
          ],
          "name": "stdout"
        },
        {
          "output_type": "stream",
          "text": [
            "[Parallel(n_jobs=-1)]: Done  33 tasks      | elapsed:  1.3min\n",
            "[Parallel(n_jobs=-1)]: Done  34 tasks      | elapsed:  1.3min\n"
          ],
          "name": "stderr"
        },
        {
          "output_type": "stream",
          "text": [
            "building tree 35 of 100\n",
            "building tree 36 of 100\n"
          ],
          "name": "stdout"
        },
        {
          "output_type": "stream",
          "text": [
            "[Parallel(n_jobs=-1)]: Done  35 tasks      | elapsed:  1.4min\n"
          ],
          "name": "stderr"
        },
        {
          "output_type": "stream",
          "text": [
            "building tree 37 of 100\n"
          ],
          "name": "stdout"
        },
        {
          "output_type": "stream",
          "text": [
            "[Parallel(n_jobs=-1)]: Done  36 tasks      | elapsed:  1.4min\n"
          ],
          "name": "stderr"
        },
        {
          "output_type": "stream",
          "text": [
            "building tree 38 of 100\n"
          ],
          "name": "stdout"
        },
        {
          "output_type": "stream",
          "text": [
            "[Parallel(n_jobs=-1)]: Done  37 tasks      | elapsed:  1.5min\n"
          ],
          "name": "stderr"
        },
        {
          "output_type": "stream",
          "text": [
            "building tree 39 of 100\n"
          ],
          "name": "stdout"
        },
        {
          "output_type": "stream",
          "text": [
            "[Parallel(n_jobs=-1)]: Done  38 tasks      | elapsed:  1.5min\n"
          ],
          "name": "stderr"
        },
        {
          "output_type": "stream",
          "text": [
            "building tree 40 of 100\n"
          ],
          "name": "stdout"
        },
        {
          "output_type": "stream",
          "text": [
            "[Parallel(n_jobs=-1)]: Done  39 tasks      | elapsed:  1.5min\n"
          ],
          "name": "stderr"
        },
        {
          "output_type": "stream",
          "text": [
            "building tree 41 of 100\n"
          ],
          "name": "stdout"
        },
        {
          "output_type": "stream",
          "text": [
            "[Parallel(n_jobs=-1)]: Done  40 tasks      | elapsed:  1.5min\n"
          ],
          "name": "stderr"
        },
        {
          "output_type": "stream",
          "text": [
            "building tree 42 of 100\n"
          ],
          "name": "stdout"
        },
        {
          "output_type": "stream",
          "text": [
            "[Parallel(n_jobs=-1)]: Done  41 tasks      | elapsed:  1.6min\n"
          ],
          "name": "stderr"
        },
        {
          "output_type": "stream",
          "text": [
            "building tree 43 of 100\n"
          ],
          "name": "stdout"
        },
        {
          "output_type": "stream",
          "text": [
            "[Parallel(n_jobs=-1)]: Done  42 tasks      | elapsed:  1.6min\n"
          ],
          "name": "stderr"
        },
        {
          "output_type": "stream",
          "text": [
            "building tree 44 of 100\n"
          ],
          "name": "stdout"
        },
        {
          "output_type": "stream",
          "text": [
            "[Parallel(n_jobs=-1)]: Done  43 tasks      | elapsed:  1.7min\n"
          ],
          "name": "stderr"
        },
        {
          "output_type": "stream",
          "text": [
            "building tree 45 of 100\n"
          ],
          "name": "stdout"
        },
        {
          "output_type": "stream",
          "text": [
            "[Parallel(n_jobs=-1)]: Done  44 tasks      | elapsed:  1.7min\n"
          ],
          "name": "stderr"
        },
        {
          "output_type": "stream",
          "text": [
            "building tree 46 of 100\n"
          ],
          "name": "stdout"
        },
        {
          "output_type": "stream",
          "text": [
            "[Parallel(n_jobs=-1)]: Done  45 tasks      | elapsed:  1.8min\n"
          ],
          "name": "stderr"
        },
        {
          "output_type": "stream",
          "text": [
            "building tree 47 of 100\n"
          ],
          "name": "stdout"
        },
        {
          "output_type": "stream",
          "text": [
            "[Parallel(n_jobs=-1)]: Done  46 tasks      | elapsed:  1.8min\n"
          ],
          "name": "stderr"
        },
        {
          "output_type": "stream",
          "text": [
            "building tree 48 of 100\n"
          ],
          "name": "stdout"
        },
        {
          "output_type": "stream",
          "text": [
            "[Parallel(n_jobs=-1)]: Done  47 tasks      | elapsed:  1.8min\n"
          ],
          "name": "stderr"
        },
        {
          "output_type": "stream",
          "text": [
            "building tree 49 of 100\n"
          ],
          "name": "stdout"
        },
        {
          "output_type": "stream",
          "text": [
            "[Parallel(n_jobs=-1)]: Done  48 tasks      | elapsed:  1.9min\n"
          ],
          "name": "stderr"
        },
        {
          "output_type": "stream",
          "text": [
            "building tree 50 of 100\n"
          ],
          "name": "stdout"
        },
        {
          "output_type": "stream",
          "text": [
            "[Parallel(n_jobs=-1)]: Done  49 tasks      | elapsed:  1.9min\n"
          ],
          "name": "stderr"
        },
        {
          "output_type": "stream",
          "text": [
            "building tree 51 of 100\n"
          ],
          "name": "stdout"
        },
        {
          "output_type": "stream",
          "text": [
            "[Parallel(n_jobs=-1)]: Done  50 tasks      | elapsed:  1.9min\n"
          ],
          "name": "stderr"
        },
        {
          "output_type": "stream",
          "text": [
            "building tree 52 of 100\n"
          ],
          "name": "stdout"
        },
        {
          "output_type": "stream",
          "text": [
            "[Parallel(n_jobs=-1)]: Done  51 tasks      | elapsed:  2.0min\n"
          ],
          "name": "stderr"
        },
        {
          "output_type": "stream",
          "text": [
            "building tree 53 of 100\n"
          ],
          "name": "stdout"
        },
        {
          "output_type": "stream",
          "text": [
            "[Parallel(n_jobs=-1)]: Done  52 tasks      | elapsed:  2.0min\n"
          ],
          "name": "stderr"
        },
        {
          "output_type": "stream",
          "text": [
            "building tree 54 of 100\n"
          ],
          "name": "stdout"
        },
        {
          "output_type": "stream",
          "text": [
            "[Parallel(n_jobs=-1)]: Done  53 tasks      | elapsed:  2.0min\n"
          ],
          "name": "stderr"
        },
        {
          "output_type": "stream",
          "text": [
            "building tree 55 of 100\n"
          ],
          "name": "stdout"
        },
        {
          "output_type": "stream",
          "text": [
            "[Parallel(n_jobs=-1)]: Done  54 tasks      | elapsed:  2.1min\n"
          ],
          "name": "stderr"
        },
        {
          "output_type": "stream",
          "text": [
            "building tree 56 of 100\n"
          ],
          "name": "stdout"
        },
        {
          "output_type": "stream",
          "text": [
            "[Parallel(n_jobs=-1)]: Done  55 tasks      | elapsed:  2.1min\n"
          ],
          "name": "stderr"
        },
        {
          "output_type": "stream",
          "text": [
            "building tree 57 of 100\n"
          ],
          "name": "stdout"
        },
        {
          "output_type": "stream",
          "text": [
            "[Parallel(n_jobs=-1)]: Done  56 tasks      | elapsed:  2.2min\n"
          ],
          "name": "stderr"
        },
        {
          "output_type": "stream",
          "text": [
            "building tree 58 of 100\n"
          ],
          "name": "stdout"
        },
        {
          "output_type": "stream",
          "text": [
            "[Parallel(n_jobs=-1)]: Done  57 tasks      | elapsed:  2.2min\n"
          ],
          "name": "stderr"
        },
        {
          "output_type": "stream",
          "text": [
            "building tree 59 of 100\n"
          ],
          "name": "stdout"
        },
        {
          "output_type": "stream",
          "text": [
            "[Parallel(n_jobs=-1)]: Done  58 tasks      | elapsed:  2.3min\n"
          ],
          "name": "stderr"
        },
        {
          "output_type": "stream",
          "text": [
            "building tree 60 of 100\n"
          ],
          "name": "stdout"
        },
        {
          "output_type": "stream",
          "text": [
            "[Parallel(n_jobs=-1)]: Done  59 tasks      | elapsed:  2.3min\n"
          ],
          "name": "stderr"
        },
        {
          "output_type": "stream",
          "text": [
            "building tree 61 of 100\n"
          ],
          "name": "stdout"
        },
        {
          "output_type": "stream",
          "text": [
            "[Parallel(n_jobs=-1)]: Done  60 tasks      | elapsed:  2.3min\n"
          ],
          "name": "stderr"
        },
        {
          "output_type": "stream",
          "text": [
            "building tree 62 of 100\n"
          ],
          "name": "stdout"
        },
        {
          "output_type": "stream",
          "text": [
            "[Parallel(n_jobs=-1)]: Done  61 tasks      | elapsed:  2.4min\n"
          ],
          "name": "stderr"
        },
        {
          "output_type": "stream",
          "text": [
            "building tree 63 of 100\n"
          ],
          "name": "stdout"
        },
        {
          "output_type": "stream",
          "text": [
            "[Parallel(n_jobs=-1)]: Done  62 tasks      | elapsed:  2.4min\n"
          ],
          "name": "stderr"
        },
        {
          "output_type": "stream",
          "text": [
            "building tree 64 of 100\n"
          ],
          "name": "stdout"
        },
        {
          "output_type": "stream",
          "text": [
            "[Parallel(n_jobs=-1)]: Done  63 tasks      | elapsed:  2.4min\n"
          ],
          "name": "stderr"
        },
        {
          "output_type": "stream",
          "text": [
            "building tree 65 of 100\n"
          ],
          "name": "stdout"
        },
        {
          "output_type": "stream",
          "text": [
            "[Parallel(n_jobs=-1)]: Done  64 tasks      | elapsed:  2.5min\n"
          ],
          "name": "stderr"
        },
        {
          "output_type": "stream",
          "text": [
            "building tree 66 of 100\n"
          ],
          "name": "stdout"
        },
        {
          "output_type": "stream",
          "text": [
            "[Parallel(n_jobs=-1)]: Done  65 tasks      | elapsed:  2.5min\n"
          ],
          "name": "stderr"
        },
        {
          "output_type": "stream",
          "text": [
            "building tree 67 of 100\n"
          ],
          "name": "stdout"
        },
        {
          "output_type": "stream",
          "text": [
            "[Parallel(n_jobs=-1)]: Done  66 tasks      | elapsed:  2.5min\n"
          ],
          "name": "stderr"
        },
        {
          "output_type": "stream",
          "text": [
            "building tree 68 of 100\n"
          ],
          "name": "stdout"
        },
        {
          "output_type": "stream",
          "text": [
            "[Parallel(n_jobs=-1)]: Done  67 tasks      | elapsed:  2.6min\n"
          ],
          "name": "stderr"
        },
        {
          "output_type": "stream",
          "text": [
            "building tree 69 of 100\n"
          ],
          "name": "stdout"
        },
        {
          "output_type": "stream",
          "text": [
            "[Parallel(n_jobs=-1)]: Done  68 tasks      | elapsed:  2.6min\n"
          ],
          "name": "stderr"
        },
        {
          "output_type": "stream",
          "text": [
            "building tree 70 of 100\n"
          ],
          "name": "stdout"
        },
        {
          "output_type": "stream",
          "text": [
            "[Parallel(n_jobs=-1)]: Done  69 tasks      | elapsed:  2.7min\n"
          ],
          "name": "stderr"
        },
        {
          "output_type": "stream",
          "text": [
            "building tree 71 of 100\n"
          ],
          "name": "stdout"
        },
        {
          "output_type": "stream",
          "text": [
            "[Parallel(n_jobs=-1)]: Done  70 tasks      | elapsed:  2.7min\n"
          ],
          "name": "stderr"
        },
        {
          "output_type": "stream",
          "text": [
            "building tree 72 of 100\n"
          ],
          "name": "stdout"
        },
        {
          "output_type": "stream",
          "text": [
            "[Parallel(n_jobs=-1)]: Done  71 tasks      | elapsed:  2.7min\n"
          ],
          "name": "stderr"
        },
        {
          "output_type": "stream",
          "text": [
            "building tree 73 of 100\n"
          ],
          "name": "stdout"
        },
        {
          "output_type": "stream",
          "text": [
            "[Parallel(n_jobs=-1)]: Done  72 tasks      | elapsed:  2.8min\n"
          ],
          "name": "stderr"
        },
        {
          "output_type": "stream",
          "text": [
            "building tree 74 of 100\n"
          ],
          "name": "stdout"
        },
        {
          "output_type": "stream",
          "text": [
            "[Parallel(n_jobs=-1)]: Done  73 tasks      | elapsed:  2.8min\n"
          ],
          "name": "stderr"
        },
        {
          "output_type": "stream",
          "text": [
            "building tree 75 of 100\n"
          ],
          "name": "stdout"
        },
        {
          "output_type": "stream",
          "text": [
            "[Parallel(n_jobs=-1)]: Done  74 tasks      | elapsed:  2.9min\n"
          ],
          "name": "stderr"
        },
        {
          "output_type": "stream",
          "text": [
            "building tree 76 of 100\n"
          ],
          "name": "stdout"
        },
        {
          "output_type": "stream",
          "text": [
            "[Parallel(n_jobs=-1)]: Done  75 tasks      | elapsed:  2.9min\n"
          ],
          "name": "stderr"
        },
        {
          "output_type": "stream",
          "text": [
            "building tree 77 of 100\n"
          ],
          "name": "stdout"
        },
        {
          "output_type": "stream",
          "text": [
            "[Parallel(n_jobs=-1)]: Done  76 tasks      | elapsed:  2.9min\n"
          ],
          "name": "stderr"
        },
        {
          "output_type": "stream",
          "text": [
            "building tree 78 of 100\n"
          ],
          "name": "stdout"
        },
        {
          "output_type": "stream",
          "text": [
            "[Parallel(n_jobs=-1)]: Done  77 tasks      | elapsed:  3.0min\n"
          ],
          "name": "stderr"
        },
        {
          "output_type": "stream",
          "text": [
            "building tree 79 of 100\n"
          ],
          "name": "stdout"
        },
        {
          "output_type": "stream",
          "text": [
            "[Parallel(n_jobs=-1)]: Done  78 tasks      | elapsed:  3.0min\n"
          ],
          "name": "stderr"
        },
        {
          "output_type": "stream",
          "text": [
            "building tree 80 of 100\n"
          ],
          "name": "stdout"
        },
        {
          "output_type": "stream",
          "text": [
            "[Parallel(n_jobs=-1)]: Done  79 tasks      | elapsed:  3.1min\n"
          ],
          "name": "stderr"
        },
        {
          "output_type": "stream",
          "text": [
            "building tree 81 of 100\n"
          ],
          "name": "stdout"
        },
        {
          "output_type": "stream",
          "text": [
            "[Parallel(n_jobs=-1)]: Done  80 tasks      | elapsed:  3.1min\n"
          ],
          "name": "stderr"
        },
        {
          "output_type": "stream",
          "text": [
            "building tree 82 of 100\n"
          ],
          "name": "stdout"
        },
        {
          "output_type": "stream",
          "text": [
            "[Parallel(n_jobs=-1)]: Done  81 tasks      | elapsed:  3.2min\n"
          ],
          "name": "stderr"
        },
        {
          "output_type": "stream",
          "text": [
            "building tree 83 of 100\n"
          ],
          "name": "stdout"
        },
        {
          "output_type": "stream",
          "text": [
            "[Parallel(n_jobs=-1)]: Done  82 tasks      | elapsed:  3.2min\n"
          ],
          "name": "stderr"
        },
        {
          "output_type": "stream",
          "text": [
            "building tree 84 of 100\n"
          ],
          "name": "stdout"
        },
        {
          "output_type": "stream",
          "text": [
            "[Parallel(n_jobs=-1)]: Done  83 tasks      | elapsed:  3.2min\n"
          ],
          "name": "stderr"
        },
        {
          "output_type": "stream",
          "text": [
            "building tree 85 of 100\n"
          ],
          "name": "stdout"
        },
        {
          "output_type": "stream",
          "text": [
            "[Parallel(n_jobs=-1)]: Done  84 tasks      | elapsed:  3.2min\n"
          ],
          "name": "stderr"
        },
        {
          "output_type": "stream",
          "text": [
            "building tree 86 of 100\n"
          ],
          "name": "stdout"
        },
        {
          "output_type": "stream",
          "text": [
            "[Parallel(n_jobs=-1)]: Done  85 tasks      | elapsed:  3.3min\n"
          ],
          "name": "stderr"
        },
        {
          "output_type": "stream",
          "text": [
            "building tree 87 of 100\n"
          ],
          "name": "stdout"
        },
        {
          "output_type": "stream",
          "text": [
            "[Parallel(n_jobs=-1)]: Done  86 tasks      | elapsed:  3.3min\n"
          ],
          "name": "stderr"
        },
        {
          "output_type": "stream",
          "text": [
            "building tree 88 of 100\n"
          ],
          "name": "stdout"
        },
        {
          "output_type": "stream",
          "text": [
            "[Parallel(n_jobs=-1)]: Done  87 tasks      | elapsed:  3.4min\n"
          ],
          "name": "stderr"
        },
        {
          "output_type": "stream",
          "text": [
            "building tree 89 of 100\n"
          ],
          "name": "stdout"
        },
        {
          "output_type": "stream",
          "text": [
            "[Parallel(n_jobs=-1)]: Done  88 tasks      | elapsed:  3.4min\n"
          ],
          "name": "stderr"
        },
        {
          "output_type": "stream",
          "text": [
            "building tree 90 of 100\n"
          ],
          "name": "stdout"
        },
        {
          "output_type": "stream",
          "text": [
            "[Parallel(n_jobs=-1)]: Done  89 tasks      | elapsed:  3.4min\n"
          ],
          "name": "stderr"
        },
        {
          "output_type": "stream",
          "text": [
            "building tree 91 of 100\n"
          ],
          "name": "stdout"
        },
        {
          "output_type": "stream",
          "text": [
            "[Parallel(n_jobs=-1)]: Done  90 tasks      | elapsed:  3.5min\n"
          ],
          "name": "stderr"
        },
        {
          "output_type": "stream",
          "text": [
            "building tree 92 of 100\n"
          ],
          "name": "stdout"
        },
        {
          "output_type": "stream",
          "text": [
            "[Parallel(n_jobs=-1)]: Done  91 tasks      | elapsed:  3.5min\n",
            "[Parallel(n_jobs=-1)]: Done  92 tasks      | elapsed:  3.5min\n"
          ],
          "name": "stderr"
        },
        {
          "output_type": "stream",
          "text": [
            "building tree 93 of 100\n",
            "building tree 94 of 100\n"
          ],
          "name": "stdout"
        },
        {
          "output_type": "stream",
          "text": [
            "[Parallel(n_jobs=-1)]: Done  93 tasks      | elapsed:  3.6min\n"
          ],
          "name": "stderr"
        },
        {
          "output_type": "stream",
          "text": [
            "building tree 95 of 100\n"
          ],
          "name": "stdout"
        },
        {
          "output_type": "stream",
          "text": [
            "[Parallel(n_jobs=-1)]: Done  94 tasks      | elapsed:  3.6min\n"
          ],
          "name": "stderr"
        },
        {
          "output_type": "stream",
          "text": [
            "building tree 96 of 100\n"
          ],
          "name": "stdout"
        },
        {
          "output_type": "stream",
          "text": [
            "[Parallel(n_jobs=-1)]: Done  95 tasks      | elapsed:  3.7min\n"
          ],
          "name": "stderr"
        },
        {
          "output_type": "stream",
          "text": [
            "building tree 97 of 100\n"
          ],
          "name": "stdout"
        },
        {
          "output_type": "stream",
          "text": [
            "[Parallel(n_jobs=-1)]: Done  96 tasks      | elapsed:  3.7min\n"
          ],
          "name": "stderr"
        },
        {
          "output_type": "stream",
          "text": [
            "building tree 98 of 100\n"
          ],
          "name": "stdout"
        },
        {
          "output_type": "stream",
          "text": [
            "[Parallel(n_jobs=-1)]: Done  97 tasks      | elapsed:  3.7min\n"
          ],
          "name": "stderr"
        },
        {
          "output_type": "stream",
          "text": [
            "building tree 99 of 100\n",
            "building tree 100 of 100\n"
          ],
          "name": "stdout"
        },
        {
          "output_type": "stream",
          "text": [
            "[Parallel(n_jobs=-1)]: Done 100 out of 100 | elapsed:  3.8min finished\n",
            "[Parallel(n_jobs=2)]: Using backend ThreadingBackend with 2 concurrent workers.\n",
            "[Parallel(n_jobs=2)]: Done   1 tasks      | elapsed:    0.0s\n",
            "[Parallel(n_jobs=2)]: Done   2 tasks      | elapsed:    0.0s\n",
            "[Parallel(n_jobs=2)]: Done   3 tasks      | elapsed:    0.0s\n",
            "[Parallel(n_jobs=2)]: Done   4 tasks      | elapsed:    0.0s\n",
            "[Parallel(n_jobs=2)]: Done   5 tasks      | elapsed:    0.0s\n",
            "[Parallel(n_jobs=2)]: Done   6 tasks      | elapsed:    0.0s\n",
            "[Parallel(n_jobs=2)]: Done   7 tasks      | elapsed:    0.0s\n",
            "[Parallel(n_jobs=2)]: Done   8 tasks      | elapsed:    0.0s\n",
            "[Parallel(n_jobs=2)]: Done   9 tasks      | elapsed:    0.0s\n",
            "[Parallel(n_jobs=2)]: Done  10 tasks      | elapsed:    0.0s\n",
            "[Parallel(n_jobs=2)]: Done  11 tasks      | elapsed:    0.0s\n",
            "[Parallel(n_jobs=2)]: Done  12 tasks      | elapsed:    0.1s\n",
            "[Parallel(n_jobs=2)]: Done  13 tasks      | elapsed:    0.1s\n",
            "[Parallel(n_jobs=2)]: Done  14 tasks      | elapsed:    0.1s\n",
            "[Parallel(n_jobs=2)]: Done  15 tasks      | elapsed:    0.1s\n",
            "[Parallel(n_jobs=2)]: Done  16 tasks      | elapsed:    0.1s\n",
            "[Parallel(n_jobs=2)]: Done  17 tasks      | elapsed:    0.1s\n",
            "[Parallel(n_jobs=2)]: Done  18 tasks      | elapsed:    0.1s\n",
            "[Parallel(n_jobs=2)]: Done  19 tasks      | elapsed:    0.1s\n",
            "[Parallel(n_jobs=2)]: Done  20 tasks      | elapsed:    0.1s\n",
            "[Parallel(n_jobs=2)]: Done  21 tasks      | elapsed:    0.1s\n",
            "[Parallel(n_jobs=2)]: Done  22 tasks      | elapsed:    0.1s\n",
            "[Parallel(n_jobs=2)]: Done  23 tasks      | elapsed:    0.1s\n",
            "[Parallel(n_jobs=2)]: Done  24 tasks      | elapsed:    0.1s\n",
            "[Parallel(n_jobs=2)]: Done  25 tasks      | elapsed:    0.1s\n",
            "[Parallel(n_jobs=2)]: Done  26 tasks      | elapsed:    0.1s\n",
            "[Parallel(n_jobs=2)]: Done  27 tasks      | elapsed:    0.1s\n",
            "[Parallel(n_jobs=2)]: Done  28 tasks      | elapsed:    0.1s\n",
            "[Parallel(n_jobs=2)]: Done  29 tasks      | elapsed:    0.1s\n",
            "[Parallel(n_jobs=2)]: Done  30 tasks      | elapsed:    0.1s\n",
            "[Parallel(n_jobs=2)]: Done  31 tasks      | elapsed:    0.1s\n",
            "[Parallel(n_jobs=2)]: Done  32 tasks      | elapsed:    0.1s\n",
            "[Parallel(n_jobs=2)]: Done  33 tasks      | elapsed:    0.1s\n",
            "[Parallel(n_jobs=2)]: Done  34 tasks      | elapsed:    0.2s\n",
            "[Parallel(n_jobs=2)]: Done  35 tasks      | elapsed:    0.2s\n",
            "[Parallel(n_jobs=2)]: Done  36 tasks      | elapsed:    0.2s\n",
            "[Parallel(n_jobs=2)]: Done  37 tasks      | elapsed:    0.2s\n",
            "[Parallel(n_jobs=2)]: Done  38 tasks      | elapsed:    0.2s\n",
            "[Parallel(n_jobs=2)]: Done  39 tasks      | elapsed:    0.2s\n",
            "[Parallel(n_jobs=2)]: Done  40 tasks      | elapsed:    0.2s\n",
            "[Parallel(n_jobs=2)]: Done  41 tasks      | elapsed:    0.2s\n",
            "[Parallel(n_jobs=2)]: Done  42 tasks      | elapsed:    0.2s\n",
            "[Parallel(n_jobs=2)]: Done  43 tasks      | elapsed:    0.2s\n",
            "[Parallel(n_jobs=2)]: Done  44 tasks      | elapsed:    0.2s\n",
            "[Parallel(n_jobs=2)]: Done  45 tasks      | elapsed:    0.2s\n",
            "[Parallel(n_jobs=2)]: Done  46 tasks      | elapsed:    0.2s\n",
            "[Parallel(n_jobs=2)]: Done  47 tasks      | elapsed:    0.2s\n",
            "[Parallel(n_jobs=2)]: Done  48 tasks      | elapsed:    0.2s\n",
            "[Parallel(n_jobs=2)]: Done  49 tasks      | elapsed:    0.2s\n",
            "[Parallel(n_jobs=2)]: Done  50 tasks      | elapsed:    0.2s\n",
            "[Parallel(n_jobs=2)]: Done  51 tasks      | elapsed:    0.2s\n",
            "[Parallel(n_jobs=2)]: Done  52 tasks      | elapsed:    0.2s\n",
            "[Parallel(n_jobs=2)]: Done  53 tasks      | elapsed:    0.2s\n",
            "[Parallel(n_jobs=2)]: Done  54 tasks      | elapsed:    0.2s\n",
            "[Parallel(n_jobs=2)]: Done  55 tasks      | elapsed:    0.2s\n",
            "[Parallel(n_jobs=2)]: Done  56 tasks      | elapsed:    0.3s\n",
            "[Parallel(n_jobs=2)]: Done  57 tasks      | elapsed:    0.3s\n",
            "[Parallel(n_jobs=2)]: Done  58 tasks      | elapsed:    0.3s\n",
            "[Parallel(n_jobs=2)]: Done  59 tasks      | elapsed:    0.3s\n",
            "[Parallel(n_jobs=2)]: Done  60 tasks      | elapsed:    0.3s\n",
            "[Parallel(n_jobs=2)]: Done  61 tasks      | elapsed:    0.3s\n",
            "[Parallel(n_jobs=2)]: Done  62 tasks      | elapsed:    0.3s\n",
            "[Parallel(n_jobs=2)]: Done  63 tasks      | elapsed:    0.3s\n",
            "[Parallel(n_jobs=2)]: Done  64 tasks      | elapsed:    0.3s\n",
            "[Parallel(n_jobs=2)]: Done  65 tasks      | elapsed:    0.3s\n",
            "[Parallel(n_jobs=2)]: Done  66 tasks      | elapsed:    0.3s\n",
            "[Parallel(n_jobs=2)]: Done  67 tasks      | elapsed:    0.3s\n",
            "[Parallel(n_jobs=2)]: Done  68 tasks      | elapsed:    0.3s\n",
            "[Parallel(n_jobs=2)]: Done  69 tasks      | elapsed:    0.3s\n",
            "[Parallel(n_jobs=2)]: Done  70 tasks      | elapsed:    0.3s\n",
            "[Parallel(n_jobs=2)]: Done  71 tasks      | elapsed:    0.3s\n",
            "[Parallel(n_jobs=2)]: Done  72 tasks      | elapsed:    0.3s\n",
            "[Parallel(n_jobs=2)]: Done  73 tasks      | elapsed:    0.3s\n",
            "[Parallel(n_jobs=2)]: Done  74 tasks      | elapsed:    0.3s\n",
            "[Parallel(n_jobs=2)]: Done  75 tasks      | elapsed:    0.3s\n",
            "[Parallel(n_jobs=2)]: Done  76 tasks      | elapsed:    0.3s\n",
            "[Parallel(n_jobs=2)]: Done  77 tasks      | elapsed:    0.3s\n",
            "[Parallel(n_jobs=2)]: Done  78 tasks      | elapsed:    0.3s\n",
            "[Parallel(n_jobs=2)]: Done  79 tasks      | elapsed:    0.3s\n",
            "[Parallel(n_jobs=2)]: Done  80 tasks      | elapsed:    0.4s\n",
            "[Parallel(n_jobs=2)]: Done  81 tasks      | elapsed:    0.4s\n",
            "[Parallel(n_jobs=2)]: Done  82 tasks      | elapsed:    0.4s\n",
            "[Parallel(n_jobs=2)]: Done  83 tasks      | elapsed:    0.4s\n",
            "[Parallel(n_jobs=2)]: Done  84 tasks      | elapsed:    0.4s\n",
            "[Parallel(n_jobs=2)]: Done  85 tasks      | elapsed:    0.4s\n",
            "[Parallel(n_jobs=2)]: Done  86 tasks      | elapsed:    0.4s\n"
          ],
          "name": "stderr"
        },
        {
          "output_type": "stream",
          "text": [
            "Accuracy of Random Forest classifier is: 0.682835 \n"
          ],
          "name": "stdout"
        },
        {
          "output_type": "stream",
          "text": [
            "[Parallel(n_jobs=2)]: Done  87 tasks      | elapsed:    0.4s\n",
            "[Parallel(n_jobs=2)]: Done  88 tasks      | elapsed:    0.4s\n",
            "[Parallel(n_jobs=2)]: Done  89 tasks      | elapsed:    0.4s\n",
            "[Parallel(n_jobs=2)]: Done  90 tasks      | elapsed:    0.4s\n",
            "[Parallel(n_jobs=2)]: Done  91 tasks      | elapsed:    0.4s\n",
            "[Parallel(n_jobs=2)]: Done  92 tasks      | elapsed:    0.4s\n",
            "[Parallel(n_jobs=2)]: Done  93 tasks      | elapsed:    0.4s\n",
            "[Parallel(n_jobs=2)]: Done  94 tasks      | elapsed:    0.4s\n",
            "[Parallel(n_jobs=2)]: Done  95 tasks      | elapsed:    0.4s\n",
            "[Parallel(n_jobs=2)]: Done  96 tasks      | elapsed:    0.4s\n",
            "[Parallel(n_jobs=2)]: Done  97 tasks      | elapsed:    0.4s\n",
            "[Parallel(n_jobs=2)]: Done 100 out of 100 | elapsed:    0.4s finished\n"
          ],
          "name": "stderr"
        }
      ]
    },
    {
      "cell_type": "code",
      "metadata": {
        "colab": {
          "base_uri": "https://localhost:8080/"
        },
        "id": "TSdhb8nij6KL",
        "outputId": "754a8932-3f26-4d49-9fd8-2613861d4149"
      },
      "source": [
        "print(\"training Random Forest classifier now ...\")\n",
        "\n",
        "random_forest_classifier = RandomForestClassifier(n_estimators=200, verbose=15, n_jobs=-1).fit(X_train,y_train)\n",
        "#increase n_estimators if you face issues in training\n",
        "y_pred=random_forest_classifier.predict(X_test)\n",
        "acc=accuracy_score(y_test,y_pred)\n",
        "print('Accuracy of Random Forest classifier is: %f ' % acc)"
      ],
      "execution_count": null,
      "outputs": [
        {
          "output_type": "stream",
          "text": [
            "training Random Forest classifier now ...\n",
            "building tree 1 of 200\n",
            "building tree 2 of 200\n"
          ],
          "name": "stdout"
        },
        {
          "output_type": "stream",
          "text": [
            "[Parallel(n_jobs=-1)]: Using backend ThreadingBackend with 2 concurrent workers.\n",
            "[Parallel(n_jobs=-1)]: Done   1 tasks      | elapsed:    3.9s\n"
          ],
          "name": "stderr"
        },
        {
          "output_type": "stream",
          "text": [
            "building tree 3 of 200\n"
          ],
          "name": "stdout"
        },
        {
          "output_type": "stream",
          "text": [
            "[Parallel(n_jobs=-1)]: Done   2 tasks      | elapsed:    4.2s\n"
          ],
          "name": "stderr"
        },
        {
          "output_type": "stream",
          "text": [
            "building tree 4 of 200\n"
          ],
          "name": "stdout"
        },
        {
          "output_type": "stream",
          "text": [
            "[Parallel(n_jobs=-1)]: Done   3 tasks      | elapsed:    8.2s\n"
          ],
          "name": "stderr"
        },
        {
          "output_type": "stream",
          "text": [
            "building tree 5 of 200\n"
          ],
          "name": "stdout"
        },
        {
          "output_type": "stream",
          "text": [
            "[Parallel(n_jobs=-1)]: Done   4 tasks      | elapsed:    8.6s\n"
          ],
          "name": "stderr"
        },
        {
          "output_type": "stream",
          "text": [
            "building tree 6 of 200\n"
          ],
          "name": "stdout"
        },
        {
          "output_type": "stream",
          "text": [
            "[Parallel(n_jobs=-1)]: Done   5 tasks      | elapsed:   11.8s\n"
          ],
          "name": "stderr"
        },
        {
          "output_type": "stream",
          "text": [
            "building tree 7 of 200\n"
          ],
          "name": "stdout"
        },
        {
          "output_type": "stream",
          "text": [
            "[Parallel(n_jobs=-1)]: Done   6 tasks      | elapsed:   12.6s\n"
          ],
          "name": "stderr"
        },
        {
          "output_type": "stream",
          "text": [
            "building tree 8 of 200\n"
          ],
          "name": "stdout"
        },
        {
          "output_type": "stream",
          "text": [
            "[Parallel(n_jobs=-1)]: Done   7 tasks      | elapsed:   15.7s\n"
          ],
          "name": "stderr"
        },
        {
          "output_type": "stream",
          "text": [
            "building tree 9 of 200\n"
          ],
          "name": "stdout"
        },
        {
          "output_type": "stream",
          "text": [
            "[Parallel(n_jobs=-1)]: Done   8 tasks      | elapsed:   16.2s\n"
          ],
          "name": "stderr"
        },
        {
          "output_type": "stream",
          "text": [
            "building tree 10 of 200\n"
          ],
          "name": "stdout"
        },
        {
          "output_type": "stream",
          "text": [
            "[Parallel(n_jobs=-1)]: Done   9 tasks      | elapsed:   19.7s\n",
            "[Parallel(n_jobs=-1)]: Done  10 tasks      | elapsed:   19.8s\n"
          ],
          "name": "stderr"
        },
        {
          "output_type": "stream",
          "text": [
            "building tree 11 of 200\n",
            "building tree 12 of 200\n"
          ],
          "name": "stdout"
        },
        {
          "output_type": "stream",
          "text": [
            "[Parallel(n_jobs=-1)]: Done  11 tasks      | elapsed:   24.2s\n",
            "[Parallel(n_jobs=-1)]: Done  12 tasks      | elapsed:   24.3s\n"
          ],
          "name": "stderr"
        },
        {
          "output_type": "stream",
          "text": [
            "building tree 13 of 200\n",
            "building tree 14 of 200\n"
          ],
          "name": "stdout"
        },
        {
          "output_type": "stream",
          "text": [
            "[Parallel(n_jobs=-1)]: Done  13 tasks      | elapsed:   27.6s\n"
          ],
          "name": "stderr"
        },
        {
          "output_type": "stream",
          "text": [
            "building tree 15 of 200\n",
            "building tree 16 of 200\n"
          ],
          "name": "stdout"
        },
        {
          "output_type": "stream",
          "text": [
            "[Parallel(n_jobs=-1)]: Done  14 tasks      | elapsed:   28.2s\n",
            "[Parallel(n_jobs=-1)]: Done  15 tasks      | elapsed:   31.9s\n"
          ],
          "name": "stderr"
        },
        {
          "output_type": "stream",
          "text": [
            "building tree 17 of 200\n"
          ],
          "name": "stdout"
        },
        {
          "output_type": "stream",
          "text": [
            "[Parallel(n_jobs=-1)]: Done  16 tasks      | elapsed:   32.1s\n"
          ],
          "name": "stderr"
        },
        {
          "output_type": "stream",
          "text": [
            "building tree 18 of 200\n"
          ],
          "name": "stdout"
        },
        {
          "output_type": "stream",
          "text": [
            "[Parallel(n_jobs=-1)]: Done  17 tasks      | elapsed:   35.9s\n"
          ],
          "name": "stderr"
        },
        {
          "output_type": "stream",
          "text": [
            "building tree 19 of 200\n"
          ],
          "name": "stdout"
        },
        {
          "output_type": "stream",
          "text": [
            "[Parallel(n_jobs=-1)]: Done  18 tasks      | elapsed:   36.3s\n"
          ],
          "name": "stderr"
        },
        {
          "output_type": "stream",
          "text": [
            "building tree 20 of 200\n"
          ],
          "name": "stdout"
        },
        {
          "output_type": "stream",
          "text": [
            "[Parallel(n_jobs=-1)]: Done  19 tasks      | elapsed:   40.0s\n"
          ],
          "name": "stderr"
        },
        {
          "output_type": "stream",
          "text": [
            "building tree 21 of 200\n"
          ],
          "name": "stdout"
        },
        {
          "output_type": "stream",
          "text": [
            "[Parallel(n_jobs=-1)]: Done  20 tasks      | elapsed:   41.1s\n"
          ],
          "name": "stderr"
        },
        {
          "output_type": "stream",
          "text": [
            "building tree 22 of 200\n",
            "building tree 23 of 200\n"
          ],
          "name": "stdout"
        },
        {
          "output_type": "stream",
          "text": [
            "[Parallel(n_jobs=-1)]: Done  21 tasks      | elapsed:   43.7s\n",
            "[Parallel(n_jobs=-1)]: Done  22 tasks      | elapsed:   45.1s\n"
          ],
          "name": "stderr"
        },
        {
          "output_type": "stream",
          "text": [
            "building tree 24 of 200\n"
          ],
          "name": "stdout"
        },
        {
          "output_type": "stream",
          "text": [
            "[Parallel(n_jobs=-1)]: Done  23 tasks      | elapsed:   48.1s\n"
          ],
          "name": "stderr"
        },
        {
          "output_type": "stream",
          "text": [
            "building tree 25 of 200\n"
          ],
          "name": "stdout"
        },
        {
          "output_type": "stream",
          "text": [
            "[Parallel(n_jobs=-1)]: Done  24 tasks      | elapsed:   48.8s\n"
          ],
          "name": "stderr"
        },
        {
          "output_type": "stream",
          "text": [
            "building tree 26 of 200\n"
          ],
          "name": "stdout"
        },
        {
          "output_type": "stream",
          "text": [
            "[Parallel(n_jobs=-1)]: Done  25 tasks      | elapsed:   52.5s\n"
          ],
          "name": "stderr"
        },
        {
          "output_type": "stream",
          "text": [
            "building tree 27 of 200\n"
          ],
          "name": "stdout"
        },
        {
          "output_type": "stream",
          "text": [
            "[Parallel(n_jobs=-1)]: Done  26 tasks      | elapsed:   52.8s\n"
          ],
          "name": "stderr"
        },
        {
          "output_type": "stream",
          "text": [
            "building tree 28 of 200\n"
          ],
          "name": "stdout"
        },
        {
          "output_type": "stream",
          "text": [
            "[Parallel(n_jobs=-1)]: Done  27 tasks      | elapsed:   56.2s\n"
          ],
          "name": "stderr"
        },
        {
          "output_type": "stream",
          "text": [
            "building tree 29 of 200\n"
          ],
          "name": "stdout"
        },
        {
          "output_type": "stream",
          "text": [
            "[Parallel(n_jobs=-1)]: Done  28 tasks      | elapsed:   56.8s\n"
          ],
          "name": "stderr"
        },
        {
          "output_type": "stream",
          "text": [
            "building tree 30 of 200\n"
          ],
          "name": "stdout"
        },
        {
          "output_type": "stream",
          "text": [
            "[Parallel(n_jobs=-1)]: Done  29 tasks      | elapsed:  1.0min\n"
          ],
          "name": "stderr"
        },
        {
          "output_type": "stream",
          "text": [
            "building tree 31 of 200\n"
          ],
          "name": "stdout"
        },
        {
          "output_type": "stream",
          "text": [
            "[Parallel(n_jobs=-1)]: Done  30 tasks      | elapsed:  1.0min\n"
          ],
          "name": "stderr"
        },
        {
          "output_type": "stream",
          "text": [
            "building tree 32 of 200\n"
          ],
          "name": "stdout"
        },
        {
          "output_type": "stream",
          "text": [
            "[Parallel(n_jobs=-1)]: Done  31 tasks      | elapsed:  1.1min\n"
          ],
          "name": "stderr"
        },
        {
          "output_type": "stream",
          "text": [
            "building tree 33 of 200\n"
          ],
          "name": "stdout"
        },
        {
          "output_type": "stream",
          "text": [
            "[Parallel(n_jobs=-1)]: Done  32 tasks      | elapsed:  1.1min\n"
          ],
          "name": "stderr"
        },
        {
          "output_type": "stream",
          "text": [
            "building tree 34 of 200\n"
          ],
          "name": "stdout"
        },
        {
          "output_type": "stream",
          "text": [
            "[Parallel(n_jobs=-1)]: Done  33 tasks      | elapsed:  1.1min\n"
          ],
          "name": "stderr"
        },
        {
          "output_type": "stream",
          "text": [
            "building tree 35 of 200\n"
          ],
          "name": "stdout"
        },
        {
          "output_type": "stream",
          "text": [
            "[Parallel(n_jobs=-1)]: Done  34 tasks      | elapsed:  1.2min\n"
          ],
          "name": "stderr"
        },
        {
          "output_type": "stream",
          "text": [
            "building tree 36 of 200\n"
          ],
          "name": "stdout"
        },
        {
          "output_type": "stream",
          "text": [
            "[Parallel(n_jobs=-1)]: Done  35 tasks      | elapsed:  1.2min\n"
          ],
          "name": "stderr"
        },
        {
          "output_type": "stream",
          "text": [
            "building tree 37 of 200\n"
          ],
          "name": "stdout"
        },
        {
          "output_type": "stream",
          "text": [
            "[Parallel(n_jobs=-1)]: Done  36 tasks      | elapsed:  1.2min\n"
          ],
          "name": "stderr"
        },
        {
          "output_type": "stream",
          "text": [
            "building tree 38 of 200\n"
          ],
          "name": "stdout"
        },
        {
          "output_type": "stream",
          "text": [
            "[Parallel(n_jobs=-1)]: Done  37 tasks      | elapsed:  1.3min\n"
          ],
          "name": "stderr"
        },
        {
          "output_type": "stream",
          "text": [
            "building tree 39 of 200\n"
          ],
          "name": "stdout"
        },
        {
          "output_type": "stream",
          "text": [
            "[Parallel(n_jobs=-1)]: Done  38 tasks      | elapsed:  1.3min\n"
          ],
          "name": "stderr"
        },
        {
          "output_type": "stream",
          "text": [
            "building tree 40 of 200\n"
          ],
          "name": "stdout"
        },
        {
          "output_type": "stream",
          "text": [
            "[Parallel(n_jobs=-1)]: Done  39 tasks      | elapsed:  1.3min\n"
          ],
          "name": "stderr"
        },
        {
          "output_type": "stream",
          "text": [
            "building tree 41 of 200\n"
          ],
          "name": "stdout"
        },
        {
          "output_type": "stream",
          "text": [
            "[Parallel(n_jobs=-1)]: Done  40 tasks      | elapsed:  1.4min\n"
          ],
          "name": "stderr"
        },
        {
          "output_type": "stream",
          "text": [
            "building tree 42 of 200\n"
          ],
          "name": "stdout"
        },
        {
          "output_type": "stream",
          "text": [
            "[Parallel(n_jobs=-1)]: Done  41 tasks      | elapsed:  1.4min\n"
          ],
          "name": "stderr"
        },
        {
          "output_type": "stream",
          "text": [
            "building tree 43 of 200\n"
          ],
          "name": "stdout"
        },
        {
          "output_type": "stream",
          "text": [
            "[Parallel(n_jobs=-1)]: Done  42 tasks      | elapsed:  1.4min\n"
          ],
          "name": "stderr"
        },
        {
          "output_type": "stream",
          "text": [
            "building tree 44 of 200\n"
          ],
          "name": "stdout"
        },
        {
          "output_type": "stream",
          "text": [
            "[Parallel(n_jobs=-1)]: Done  43 tasks      | elapsed:  1.5min\n"
          ],
          "name": "stderr"
        },
        {
          "output_type": "stream",
          "text": [
            "building tree 45 of 200\n"
          ],
          "name": "stdout"
        },
        {
          "output_type": "stream",
          "text": [
            "[Parallel(n_jobs=-1)]: Done  44 tasks      | elapsed:  1.5min\n"
          ],
          "name": "stderr"
        },
        {
          "output_type": "stream",
          "text": [
            "building tree 46 of 200\n"
          ],
          "name": "stdout"
        },
        {
          "output_type": "stream",
          "text": [
            "[Parallel(n_jobs=-1)]: Done  45 tasks      | elapsed:  1.6min\n"
          ],
          "name": "stderr"
        },
        {
          "output_type": "stream",
          "text": [
            "building tree 47 of 200\n"
          ],
          "name": "stdout"
        },
        {
          "output_type": "stream",
          "text": [
            "[Parallel(n_jobs=-1)]: Done  46 tasks      | elapsed:  1.6min\n"
          ],
          "name": "stderr"
        },
        {
          "output_type": "stream",
          "text": [
            "building tree 48 of 200\n"
          ],
          "name": "stdout"
        },
        {
          "output_type": "stream",
          "text": [
            "[Parallel(n_jobs=-1)]: Done  47 tasks      | elapsed:  1.6min\n",
            "[Parallel(n_jobs=-1)]: Done  48 tasks      | elapsed:  1.6min\n"
          ],
          "name": "stderr"
        },
        {
          "output_type": "stream",
          "text": [
            "building tree 49 of 200\n",
            "building tree 50 of 200\n"
          ],
          "name": "stdout"
        },
        {
          "output_type": "stream",
          "text": [
            "[Parallel(n_jobs=-1)]: Done  49 tasks      | elapsed:  1.7min\n",
            "[Parallel(n_jobs=-1)]: Done  50 tasks      | elapsed:  1.7min\n"
          ],
          "name": "stderr"
        },
        {
          "output_type": "stream",
          "text": [
            "building tree 51 of 200\n",
            "building tree 52 of 200\n"
          ],
          "name": "stdout"
        },
        {
          "output_type": "stream",
          "text": [
            "[Parallel(n_jobs=-1)]: Done  51 tasks      | elapsed:  1.8min\n"
          ],
          "name": "stderr"
        },
        {
          "output_type": "stream",
          "text": [
            "building tree 53 of 200\n"
          ],
          "name": "stdout"
        },
        {
          "output_type": "stream",
          "text": [
            "[Parallel(n_jobs=-1)]: Done  52 tasks      | elapsed:  1.8min\n"
          ],
          "name": "stderr"
        },
        {
          "output_type": "stream",
          "text": [
            "building tree 54 of 200\n"
          ],
          "name": "stdout"
        },
        {
          "output_type": "stream",
          "text": [
            "[Parallel(n_jobs=-1)]: Done  53 tasks      | elapsed:  1.8min\n"
          ],
          "name": "stderr"
        },
        {
          "output_type": "stream",
          "text": [
            "building tree 55 of 200\n"
          ],
          "name": "stdout"
        },
        {
          "output_type": "stream",
          "text": [
            "[Parallel(n_jobs=-1)]: Done  54 tasks      | elapsed:  1.9min\n"
          ],
          "name": "stderr"
        },
        {
          "output_type": "stream",
          "text": [
            "building tree 56 of 200\n"
          ],
          "name": "stdout"
        },
        {
          "output_type": "stream",
          "text": [
            "[Parallel(n_jobs=-1)]: Done  55 tasks      | elapsed:  1.9min\n"
          ],
          "name": "stderr"
        },
        {
          "output_type": "stream",
          "text": [
            "building tree 57 of 200\n"
          ],
          "name": "stdout"
        },
        {
          "output_type": "stream",
          "text": [
            "[Parallel(n_jobs=-1)]: Done  56 tasks      | elapsed:  1.9min\n"
          ],
          "name": "stderr"
        },
        {
          "output_type": "stream",
          "text": [
            "building tree 58 of 200\n"
          ],
          "name": "stdout"
        },
        {
          "output_type": "stream",
          "text": [
            "[Parallel(n_jobs=-1)]: Done  57 tasks      | elapsed:  2.0min\n"
          ],
          "name": "stderr"
        },
        {
          "output_type": "stream",
          "text": [
            "building tree 59 of 200\n"
          ],
          "name": "stdout"
        },
        {
          "output_type": "stream",
          "text": [
            "[Parallel(n_jobs=-1)]: Done  58 tasks      | elapsed:  2.0min\n"
          ],
          "name": "stderr"
        },
        {
          "output_type": "stream",
          "text": [
            "building tree 60 of 200\n"
          ],
          "name": "stdout"
        },
        {
          "output_type": "stream",
          "text": [
            "[Parallel(n_jobs=-1)]: Done  59 tasks      | elapsed:  2.0min\n"
          ],
          "name": "stderr"
        },
        {
          "output_type": "stream",
          "text": [
            "building tree 61 of 200\n"
          ],
          "name": "stdout"
        },
        {
          "output_type": "stream",
          "text": [
            "[Parallel(n_jobs=-1)]: Done  60 tasks      | elapsed:  2.1min\n"
          ],
          "name": "stderr"
        },
        {
          "output_type": "stream",
          "text": [
            "building tree 62 of 200\n"
          ],
          "name": "stdout"
        },
        {
          "output_type": "stream",
          "text": [
            "[Parallel(n_jobs=-1)]: Done  61 tasks      | elapsed:  2.1min\n"
          ],
          "name": "stderr"
        },
        {
          "output_type": "stream",
          "text": [
            "building tree 63 of 200\n"
          ],
          "name": "stdout"
        },
        {
          "output_type": "stream",
          "text": [
            "[Parallel(n_jobs=-1)]: Done  62 tasks      | elapsed:  2.1min\n"
          ],
          "name": "stderr"
        },
        {
          "output_type": "stream",
          "text": [
            "building tree 64 of 200\n"
          ],
          "name": "stdout"
        },
        {
          "output_type": "stream",
          "text": [
            "[Parallel(n_jobs=-1)]: Done  63 tasks      | elapsed:  2.2min\n"
          ],
          "name": "stderr"
        },
        {
          "output_type": "stream",
          "text": [
            "building tree 65 of 200\n"
          ],
          "name": "stdout"
        },
        {
          "output_type": "stream",
          "text": [
            "[Parallel(n_jobs=-1)]: Done  64 tasks      | elapsed:  2.2min\n"
          ],
          "name": "stderr"
        },
        {
          "output_type": "stream",
          "text": [
            "building tree 66 of 200\n"
          ],
          "name": "stdout"
        },
        {
          "output_type": "stream",
          "text": [
            "[Parallel(n_jobs=-1)]: Done  65 tasks      | elapsed:  2.2min\n"
          ],
          "name": "stderr"
        },
        {
          "output_type": "stream",
          "text": [
            "building tree 67 of 200\n"
          ],
          "name": "stdout"
        },
        {
          "output_type": "stream",
          "text": [
            "[Parallel(n_jobs=-1)]: Done  66 tasks      | elapsed:  2.3min\n"
          ],
          "name": "stderr"
        },
        {
          "output_type": "stream",
          "text": [
            "building tree 68 of 200\n"
          ],
          "name": "stdout"
        },
        {
          "output_type": "stream",
          "text": [
            "[Parallel(n_jobs=-1)]: Done  67 tasks      | elapsed:  2.3min\n"
          ],
          "name": "stderr"
        },
        {
          "output_type": "stream",
          "text": [
            "building tree 69 of 200\n"
          ],
          "name": "stdout"
        },
        {
          "output_type": "stream",
          "text": [
            "[Parallel(n_jobs=-1)]: Done  68 tasks      | elapsed:  2.3min\n"
          ],
          "name": "stderr"
        },
        {
          "output_type": "stream",
          "text": [
            "building tree 70 of 200\n"
          ],
          "name": "stdout"
        },
        {
          "output_type": "stream",
          "text": [
            "[Parallel(n_jobs=-1)]: Done  69 tasks      | elapsed:  2.4min\n"
          ],
          "name": "stderr"
        },
        {
          "output_type": "stream",
          "text": [
            "building tree 71 of 200\n"
          ],
          "name": "stdout"
        },
        {
          "output_type": "stream",
          "text": [
            "[Parallel(n_jobs=-1)]: Done  70 tasks      | elapsed:  2.4min\n"
          ],
          "name": "stderr"
        },
        {
          "output_type": "stream",
          "text": [
            "building tree 72 of 200\n"
          ],
          "name": "stdout"
        },
        {
          "output_type": "stream",
          "text": [
            "[Parallel(n_jobs=-1)]: Done  71 tasks      | elapsed:  2.4min\n"
          ],
          "name": "stderr"
        },
        {
          "output_type": "stream",
          "text": [
            "building tree 73 of 200\n"
          ],
          "name": "stdout"
        },
        {
          "output_type": "stream",
          "text": [
            "[Parallel(n_jobs=-1)]: Done  72 tasks      | elapsed:  2.5min\n"
          ],
          "name": "stderr"
        },
        {
          "output_type": "stream",
          "text": [
            "building tree 74 of 200\n",
            "building tree 75 of 200\n"
          ],
          "name": "stdout"
        },
        {
          "output_type": "stream",
          "text": [
            "[Parallel(n_jobs=-1)]: Done  73 tasks      | elapsed:  2.5min\n",
            "[Parallel(n_jobs=-1)]: Done  74 tasks      | elapsed:  2.5min\n"
          ],
          "name": "stderr"
        },
        {
          "output_type": "stream",
          "text": [
            "building tree 76 of 200\n"
          ],
          "name": "stdout"
        },
        {
          "output_type": "stream",
          "text": [
            "[Parallel(n_jobs=-1)]: Done  75 tasks      | elapsed:  2.6min\n"
          ],
          "name": "stderr"
        },
        {
          "output_type": "stream",
          "text": [
            "building tree 77 of 200\n"
          ],
          "name": "stdout"
        },
        {
          "output_type": "stream",
          "text": [
            "[Parallel(n_jobs=-1)]: Done  76 tasks      | elapsed:  2.6min\n"
          ],
          "name": "stderr"
        },
        {
          "output_type": "stream",
          "text": [
            "building tree 78 of 200\n"
          ],
          "name": "stdout"
        },
        {
          "output_type": "stream",
          "text": [
            "[Parallel(n_jobs=-1)]: Done  77 tasks      | elapsed:  2.7min\n"
          ],
          "name": "stderr"
        },
        {
          "output_type": "stream",
          "text": [
            "building tree 79 of 200\n"
          ],
          "name": "stdout"
        },
        {
          "output_type": "stream",
          "text": [
            "[Parallel(n_jobs=-1)]: Done  78 tasks      | elapsed:  2.7min\n"
          ],
          "name": "stderr"
        },
        {
          "output_type": "stream",
          "text": [
            "building tree 80 of 200\n"
          ],
          "name": "stdout"
        },
        {
          "output_type": "stream",
          "text": [
            "[Parallel(n_jobs=-1)]: Done  79 tasks      | elapsed:  2.7min\n"
          ],
          "name": "stderr"
        },
        {
          "output_type": "stream",
          "text": [
            "building tree 81 of 200\n"
          ],
          "name": "stdout"
        },
        {
          "output_type": "stream",
          "text": [
            "[Parallel(n_jobs=-1)]: Done  80 tasks      | elapsed:  2.8min\n"
          ],
          "name": "stderr"
        },
        {
          "output_type": "stream",
          "text": [
            "building tree 82 of 200\n"
          ],
          "name": "stdout"
        },
        {
          "output_type": "stream",
          "text": [
            "[Parallel(n_jobs=-1)]: Done  81 tasks      | elapsed:  2.8min\n"
          ],
          "name": "stderr"
        },
        {
          "output_type": "stream",
          "text": [
            "building tree 83 of 200\n"
          ],
          "name": "stdout"
        },
        {
          "output_type": "stream",
          "text": [
            "[Parallel(n_jobs=-1)]: Done  82 tasks      | elapsed:  2.8min\n"
          ],
          "name": "stderr"
        },
        {
          "output_type": "stream",
          "text": [
            "building tree 84 of 200\n",
            "building tree 85 of 200\n"
          ],
          "name": "stdout"
        },
        {
          "output_type": "stream",
          "text": [
            "[Parallel(n_jobs=-1)]: Done  83 tasks      | elapsed:  2.9min\n",
            "[Parallel(n_jobs=-1)]: Done  84 tasks      | elapsed:  2.9min\n"
          ],
          "name": "stderr"
        },
        {
          "output_type": "stream",
          "text": [
            "building tree 86 of 200\n"
          ],
          "name": "stdout"
        },
        {
          "output_type": "stream",
          "text": [
            "[Parallel(n_jobs=-1)]: Done  85 tasks      | elapsed:  2.9min\n"
          ],
          "name": "stderr"
        },
        {
          "output_type": "stream",
          "text": [
            "building tree 87 of 200\n"
          ],
          "name": "stdout"
        },
        {
          "output_type": "stream",
          "text": [
            "[Parallel(n_jobs=-1)]: Done  86 tasks      | elapsed:  3.0min\n"
          ],
          "name": "stderr"
        },
        {
          "output_type": "stream",
          "text": [
            "building tree 88 of 200\n"
          ],
          "name": "stdout"
        },
        {
          "output_type": "stream",
          "text": [
            "[Parallel(n_jobs=-1)]: Done  87 tasks      | elapsed:  3.0min\n"
          ],
          "name": "stderr"
        },
        {
          "output_type": "stream",
          "text": [
            "building tree 89 of 200\n"
          ],
          "name": "stdout"
        },
        {
          "output_type": "stream",
          "text": [
            "[Parallel(n_jobs=-1)]: Done  88 tasks      | elapsed:  3.0min\n"
          ],
          "name": "stderr"
        },
        {
          "output_type": "stream",
          "text": [
            "building tree 90 of 200\n"
          ],
          "name": "stdout"
        },
        {
          "output_type": "stream",
          "text": [
            "[Parallel(n_jobs=-1)]: Done  89 tasks      | elapsed:  3.0min\n"
          ],
          "name": "stderr"
        },
        {
          "output_type": "stream",
          "text": [
            "building tree 91 of 200\n"
          ],
          "name": "stdout"
        },
        {
          "output_type": "stream",
          "text": [
            "[Parallel(n_jobs=-1)]: Done  90 tasks      | elapsed:  3.1min\n"
          ],
          "name": "stderr"
        },
        {
          "output_type": "stream",
          "text": [
            "building tree 92 of 200\n"
          ],
          "name": "stdout"
        },
        {
          "output_type": "stream",
          "text": [
            "[Parallel(n_jobs=-1)]: Done  91 tasks      | elapsed:  3.1min\n"
          ],
          "name": "stderr"
        },
        {
          "output_type": "stream",
          "text": [
            "building tree 93 of 200\n"
          ],
          "name": "stdout"
        },
        {
          "output_type": "stream",
          "text": [
            "[Parallel(n_jobs=-1)]: Done  92 tasks      | elapsed:  3.2min\n"
          ],
          "name": "stderr"
        },
        {
          "output_type": "stream",
          "text": [
            "building tree 94 of 200\n"
          ],
          "name": "stdout"
        },
        {
          "output_type": "stream",
          "text": [
            "[Parallel(n_jobs=-1)]: Done  93 tasks      | elapsed:  3.2min\n"
          ],
          "name": "stderr"
        },
        {
          "output_type": "stream",
          "text": [
            "building tree 95 of 200\n"
          ],
          "name": "stdout"
        },
        {
          "output_type": "stream",
          "text": [
            "[Parallel(n_jobs=-1)]: Done  94 tasks      | elapsed:  3.2min\n"
          ],
          "name": "stderr"
        },
        {
          "output_type": "stream",
          "text": [
            "building tree 96 of 200\n"
          ],
          "name": "stdout"
        },
        {
          "output_type": "stream",
          "text": [
            "[Parallel(n_jobs=-1)]: Done  95 tasks      | elapsed:  3.2min\n"
          ],
          "name": "stderr"
        },
        {
          "output_type": "stream",
          "text": [
            "building tree 97 of 200\n"
          ],
          "name": "stdout"
        },
        {
          "output_type": "stream",
          "text": [
            "[Parallel(n_jobs=-1)]: Done  96 tasks      | elapsed:  3.3min\n"
          ],
          "name": "stderr"
        },
        {
          "output_type": "stream",
          "text": [
            "building tree 98 of 200\n"
          ],
          "name": "stdout"
        },
        {
          "output_type": "stream",
          "text": [
            "[Parallel(n_jobs=-1)]: Done  97 tasks      | elapsed:  3.3min\n"
          ],
          "name": "stderr"
        },
        {
          "output_type": "stream",
          "text": [
            "building tree 99 of 200\n",
            "building tree 100 of 200\n"
          ],
          "name": "stdout"
        },
        {
          "output_type": "stream",
          "text": [
            "[Parallel(n_jobs=-1)]: Done  98 tasks      | elapsed:  3.4min\n",
            "[Parallel(n_jobs=-1)]: Done  99 tasks      | elapsed:  3.4min\n"
          ],
          "name": "stderr"
        },
        {
          "output_type": "stream",
          "text": [
            "building tree 101 of 200\n"
          ],
          "name": "stdout"
        },
        {
          "output_type": "stream",
          "text": [
            "[Parallel(n_jobs=-1)]: Done 100 tasks      | elapsed:  3.4min\n"
          ],
          "name": "stderr"
        },
        {
          "output_type": "stream",
          "text": [
            "building tree 102 of 200\n"
          ],
          "name": "stdout"
        },
        {
          "output_type": "stream",
          "text": [
            "[Parallel(n_jobs=-1)]: Done 101 tasks      | elapsed:  3.4min\n"
          ],
          "name": "stderr"
        },
        {
          "output_type": "stream",
          "text": [
            "building tree 103 of 200\n"
          ],
          "name": "stdout"
        },
        {
          "output_type": "stream",
          "text": [
            "[Parallel(n_jobs=-1)]: Done 102 tasks      | elapsed:  3.5min\n"
          ],
          "name": "stderr"
        },
        {
          "output_type": "stream",
          "text": [
            "building tree 104 of 200\n"
          ],
          "name": "stdout"
        },
        {
          "output_type": "stream",
          "text": [
            "[Parallel(n_jobs=-1)]: Done 103 tasks      | elapsed:  3.5min\n"
          ],
          "name": "stderr"
        },
        {
          "output_type": "stream",
          "text": [
            "building tree 105 of 200\n"
          ],
          "name": "stdout"
        },
        {
          "output_type": "stream",
          "text": [
            "[Parallel(n_jobs=-1)]: Done 104 tasks      | elapsed:  3.6min\n"
          ],
          "name": "stderr"
        },
        {
          "output_type": "stream",
          "text": [
            "building tree 106 of 200\n"
          ],
          "name": "stdout"
        },
        {
          "output_type": "stream",
          "text": [
            "[Parallel(n_jobs=-1)]: Done 105 tasks      | elapsed:  3.6min\n"
          ],
          "name": "stderr"
        },
        {
          "output_type": "stream",
          "text": [
            "building tree 107 of 200\n"
          ],
          "name": "stdout"
        },
        {
          "output_type": "stream",
          "text": [
            "[Parallel(n_jobs=-1)]: Done 106 tasks      | elapsed:  3.6min\n"
          ],
          "name": "stderr"
        },
        {
          "output_type": "stream",
          "text": [
            "building tree 108 of 200\n"
          ],
          "name": "stdout"
        },
        {
          "output_type": "stream",
          "text": [
            "[Parallel(n_jobs=-1)]: Done 107 tasks      | elapsed:  3.7min\n"
          ],
          "name": "stderr"
        },
        {
          "output_type": "stream",
          "text": [
            "building tree 109 of 200\n"
          ],
          "name": "stdout"
        },
        {
          "output_type": "stream",
          "text": [
            "[Parallel(n_jobs=-1)]: Done 108 tasks      | elapsed:  3.7min\n"
          ],
          "name": "stderr"
        },
        {
          "output_type": "stream",
          "text": [
            "building tree 110 of 200\n"
          ],
          "name": "stdout"
        },
        {
          "output_type": "stream",
          "text": [
            "[Parallel(n_jobs=-1)]: Done 109 tasks      | elapsed:  3.7min\n"
          ],
          "name": "stderr"
        },
        {
          "output_type": "stream",
          "text": [
            "building tree 111 of 200\n"
          ],
          "name": "stdout"
        },
        {
          "output_type": "stream",
          "text": [
            "[Parallel(n_jobs=-1)]: Done 110 tasks      | elapsed:  3.8min\n"
          ],
          "name": "stderr"
        },
        {
          "output_type": "stream",
          "text": [
            "building tree 112 of 200\n"
          ],
          "name": "stdout"
        },
        {
          "output_type": "stream",
          "text": [
            "[Parallel(n_jobs=-1)]: Done 111 tasks      | elapsed:  3.8min\n"
          ],
          "name": "stderr"
        },
        {
          "output_type": "stream",
          "text": [
            "building tree 113 of 200\n"
          ],
          "name": "stdout"
        },
        {
          "output_type": "stream",
          "text": [
            "[Parallel(n_jobs=-1)]: Done 112 tasks      | elapsed:  3.8min\n"
          ],
          "name": "stderr"
        },
        {
          "output_type": "stream",
          "text": [
            "building tree 114 of 200\n"
          ],
          "name": "stdout"
        },
        {
          "output_type": "stream",
          "text": [
            "[Parallel(n_jobs=-1)]: Done 113 tasks      | elapsed:  3.9min\n"
          ],
          "name": "stderr"
        },
        {
          "output_type": "stream",
          "text": [
            "building tree 115 of 200\n"
          ],
          "name": "stdout"
        },
        {
          "output_type": "stream",
          "text": [
            "[Parallel(n_jobs=-1)]: Done 114 tasks      | elapsed:  3.9min\n"
          ],
          "name": "stderr"
        },
        {
          "output_type": "stream",
          "text": [
            "building tree 116 of 200\n"
          ],
          "name": "stdout"
        },
        {
          "output_type": "stream",
          "text": [
            "[Parallel(n_jobs=-1)]: Done 115 tasks      | elapsed:  3.9min\n"
          ],
          "name": "stderr"
        },
        {
          "output_type": "stream",
          "text": [
            "building tree 117 of 200\n"
          ],
          "name": "stdout"
        },
        {
          "output_type": "stream",
          "text": [
            "[Parallel(n_jobs=-1)]: Done 116 tasks      | elapsed:  4.0min\n"
          ],
          "name": "stderr"
        },
        {
          "output_type": "stream",
          "text": [
            "building tree 118 of 200\n"
          ],
          "name": "stdout"
        },
        {
          "output_type": "stream",
          "text": [
            "[Parallel(n_jobs=-1)]: Done 117 tasks      | elapsed:  4.0min\n"
          ],
          "name": "stderr"
        },
        {
          "output_type": "stream",
          "text": [
            "building tree 119 of 200\n"
          ],
          "name": "stdout"
        },
        {
          "output_type": "stream",
          "text": [
            "[Parallel(n_jobs=-1)]: Done 118 tasks      | elapsed:  4.1min\n"
          ],
          "name": "stderr"
        },
        {
          "output_type": "stream",
          "text": [
            "building tree 120 of 200\n"
          ],
          "name": "stdout"
        },
        {
          "output_type": "stream",
          "text": [
            "[Parallel(n_jobs=-1)]: Done 119 tasks      | elapsed:  4.1min\n"
          ],
          "name": "stderr"
        },
        {
          "output_type": "stream",
          "text": [
            "building tree 121 of 200\n"
          ],
          "name": "stdout"
        },
        {
          "output_type": "stream",
          "text": [
            "[Parallel(n_jobs=-1)]: Done 120 tasks      | elapsed:  4.1min\n"
          ],
          "name": "stderr"
        },
        {
          "output_type": "stream",
          "text": [
            "building tree 122 of 200\n"
          ],
          "name": "stdout"
        },
        {
          "output_type": "stream",
          "text": [
            "[Parallel(n_jobs=-1)]: Done 121 tasks      | elapsed:  4.1min\n"
          ],
          "name": "stderr"
        },
        {
          "output_type": "stream",
          "text": [
            "building tree 123 of 200\n"
          ],
          "name": "stdout"
        },
        {
          "output_type": "stream",
          "text": [
            "[Parallel(n_jobs=-1)]: Done 122 tasks      | elapsed:  4.2min\n"
          ],
          "name": "stderr"
        },
        {
          "output_type": "stream",
          "text": [
            "building tree 124 of 200\n"
          ],
          "name": "stdout"
        },
        {
          "output_type": "stream",
          "text": [
            "[Parallel(n_jobs=-1)]: Done 123 tasks      | elapsed:  4.2min\n"
          ],
          "name": "stderr"
        },
        {
          "output_type": "stream",
          "text": [
            "building tree 125 of 200\n"
          ],
          "name": "stdout"
        },
        {
          "output_type": "stream",
          "text": [
            "[Parallel(n_jobs=-1)]: Done 124 tasks      | elapsed:  4.2min\n"
          ],
          "name": "stderr"
        },
        {
          "output_type": "stream",
          "text": [
            "building tree 126 of 200\n"
          ],
          "name": "stdout"
        },
        {
          "output_type": "stream",
          "text": [
            "[Parallel(n_jobs=-1)]: Done 125 tasks      | elapsed:  4.3min\n"
          ],
          "name": "stderr"
        },
        {
          "output_type": "stream",
          "text": [
            "building tree 127 of 200\n"
          ],
          "name": "stdout"
        },
        {
          "output_type": "stream",
          "text": [
            "[Parallel(n_jobs=-1)]: Done 126 tasks      | elapsed:  4.3min\n"
          ],
          "name": "stderr"
        },
        {
          "output_type": "stream",
          "text": [
            "building tree 128 of 200\n"
          ],
          "name": "stdout"
        },
        {
          "output_type": "stream",
          "text": [
            "[Parallel(n_jobs=-1)]: Done 127 tasks      | elapsed:  4.4min\n"
          ],
          "name": "stderr"
        },
        {
          "output_type": "stream",
          "text": [
            "building tree 129 of 200\n"
          ],
          "name": "stdout"
        },
        {
          "output_type": "stream",
          "text": [
            "[Parallel(n_jobs=-1)]: Done 128 tasks      | elapsed:  4.4min\n"
          ],
          "name": "stderr"
        },
        {
          "output_type": "stream",
          "text": [
            "building tree 130 of 200\n"
          ],
          "name": "stdout"
        },
        {
          "output_type": "stream",
          "text": [
            "[Parallel(n_jobs=-1)]: Done 129 tasks      | elapsed:  4.4min\n"
          ],
          "name": "stderr"
        },
        {
          "output_type": "stream",
          "text": [
            "building tree 131 of 200\n"
          ],
          "name": "stdout"
        },
        {
          "output_type": "stream",
          "text": [
            "[Parallel(n_jobs=-1)]: Done 130 tasks      | elapsed:  4.4min\n"
          ],
          "name": "stderr"
        },
        {
          "output_type": "stream",
          "text": [
            "building tree 132 of 200\n"
          ],
          "name": "stdout"
        },
        {
          "output_type": "stream",
          "text": [
            "[Parallel(n_jobs=-1)]: Done 131 tasks      | elapsed:  4.5min\n"
          ],
          "name": "stderr"
        },
        {
          "output_type": "stream",
          "text": [
            "building tree 133 of 200\n"
          ],
          "name": "stdout"
        },
        {
          "output_type": "stream",
          "text": [
            "[Parallel(n_jobs=-1)]: Done 132 tasks      | elapsed:  4.5min\n"
          ],
          "name": "stderr"
        },
        {
          "output_type": "stream",
          "text": [
            "building tree 134 of 200\n"
          ],
          "name": "stdout"
        },
        {
          "output_type": "stream",
          "text": [
            "[Parallel(n_jobs=-1)]: Done 133 tasks      | elapsed:  4.5min\n",
            "[Parallel(n_jobs=-1)]: Done 134 tasks      | elapsed:  4.5min\n"
          ],
          "name": "stderr"
        },
        {
          "output_type": "stream",
          "text": [
            "building tree 135 of 200\n",
            "building tree 136 of 200\n"
          ],
          "name": "stdout"
        },
        {
          "output_type": "stream",
          "text": [
            "[Parallel(n_jobs=-1)]: Done 135 tasks      | elapsed:  4.6min\n"
          ],
          "name": "stderr"
        },
        {
          "output_type": "stream",
          "text": [
            "building tree 137 of 200\n",
            "building tree 138 of 200\n"
          ],
          "name": "stdout"
        },
        {
          "output_type": "stream",
          "text": [
            "[Parallel(n_jobs=-1)]: Done 136 tasks      | elapsed:  4.6min\n"
          ],
          "name": "stderr"
        },
        {
          "output_type": "stream",
          "text": [
            "building tree 139 of 200\n"
          ],
          "name": "stdout"
        },
        {
          "output_type": "stream",
          "text": [
            "[Parallel(n_jobs=-1)]: Done 137 tasks      | elapsed:  4.7min\n",
            "[Parallel(n_jobs=-1)]: Done 138 tasks      | elapsed:  4.7min\n"
          ],
          "name": "stderr"
        },
        {
          "output_type": "stream",
          "text": [
            "building tree 140 of 200\n"
          ],
          "name": "stdout"
        },
        {
          "output_type": "stream",
          "text": [
            "[Parallel(n_jobs=-1)]: Done 139 tasks      | elapsed:  4.8min\n"
          ],
          "name": "stderr"
        },
        {
          "output_type": "stream",
          "text": [
            "building tree 141 of 200\n"
          ],
          "name": "stdout"
        },
        {
          "output_type": "stream",
          "text": [
            "[Parallel(n_jobs=-1)]: Done 140 tasks      | elapsed:  4.8min\n"
          ],
          "name": "stderr"
        },
        {
          "output_type": "stream",
          "text": [
            "building tree 142 of 200\n"
          ],
          "name": "stdout"
        },
        {
          "output_type": "stream",
          "text": [
            "[Parallel(n_jobs=-1)]: Done 141 tasks      | elapsed:  4.8min\n"
          ],
          "name": "stderr"
        },
        {
          "output_type": "stream",
          "text": [
            "building tree 143 of 200\n"
          ],
          "name": "stdout"
        },
        {
          "output_type": "stream",
          "text": [
            "[Parallel(n_jobs=-1)]: Done 142 tasks      | elapsed:  4.9min\n"
          ],
          "name": "stderr"
        },
        {
          "output_type": "stream",
          "text": [
            "building tree 144 of 200\n"
          ],
          "name": "stdout"
        },
        {
          "output_type": "stream",
          "text": [
            "[Parallel(n_jobs=-1)]: Done 143 tasks      | elapsed:  4.9min\n"
          ],
          "name": "stderr"
        },
        {
          "output_type": "stream",
          "text": [
            "building tree 145 of 200\n"
          ],
          "name": "stdout"
        },
        {
          "output_type": "stream",
          "text": [
            "[Parallel(n_jobs=-1)]: Done 144 tasks      | elapsed:  4.9min\n"
          ],
          "name": "stderr"
        },
        {
          "output_type": "stream",
          "text": [
            "building tree 146 of 200\n"
          ],
          "name": "stdout"
        },
        {
          "output_type": "stream",
          "text": [
            "[Parallel(n_jobs=-1)]: Done 145 tasks      | elapsed:  5.0min\n"
          ],
          "name": "stderr"
        },
        {
          "output_type": "stream",
          "text": [
            "building tree 147 of 200\n"
          ],
          "name": "stdout"
        },
        {
          "output_type": "stream",
          "text": [
            "[Parallel(n_jobs=-1)]: Done 146 tasks      | elapsed:  5.0min\n"
          ],
          "name": "stderr"
        },
        {
          "output_type": "stream",
          "text": [
            "building tree 148 of 200\n"
          ],
          "name": "stdout"
        },
        {
          "output_type": "stream",
          "text": [
            "[Parallel(n_jobs=-1)]: Done 147 tasks      | elapsed:  5.0min\n"
          ],
          "name": "stderr"
        },
        {
          "output_type": "stream",
          "text": [
            "building tree 149 of 200\n"
          ],
          "name": "stdout"
        },
        {
          "output_type": "stream",
          "text": [
            "[Parallel(n_jobs=-1)]: Done 148 tasks      | elapsed:  5.1min\n"
          ],
          "name": "stderr"
        },
        {
          "output_type": "stream",
          "text": [
            "building tree 150 of 200\n"
          ],
          "name": "stdout"
        },
        {
          "output_type": "stream",
          "text": [
            "[Parallel(n_jobs=-1)]: Done 149 tasks      | elapsed:  5.1min\n"
          ],
          "name": "stderr"
        },
        {
          "output_type": "stream",
          "text": [
            "building tree 151 of 200\n"
          ],
          "name": "stdout"
        },
        {
          "output_type": "stream",
          "text": [
            "[Parallel(n_jobs=-1)]: Done 150 tasks      | elapsed:  5.1min\n"
          ],
          "name": "stderr"
        },
        {
          "output_type": "stream",
          "text": [
            "building tree 152 of 200\n"
          ],
          "name": "stdout"
        },
        {
          "output_type": "stream",
          "text": [
            "[Parallel(n_jobs=-1)]: Done 151 tasks      | elapsed:  5.1min\n"
          ],
          "name": "stderr"
        },
        {
          "output_type": "stream",
          "text": [
            "building tree 153 of 200\n"
          ],
          "name": "stdout"
        },
        {
          "output_type": "stream",
          "text": [
            "[Parallel(n_jobs=-1)]: Done 152 tasks      | elapsed:  5.2min\n"
          ],
          "name": "stderr"
        },
        {
          "output_type": "stream",
          "text": [
            "building tree 154 of 200\n"
          ],
          "name": "stdout"
        },
        {
          "output_type": "stream",
          "text": [
            "[Parallel(n_jobs=-1)]: Done 153 tasks      | elapsed:  5.2min\n"
          ],
          "name": "stderr"
        },
        {
          "output_type": "stream",
          "text": [
            "building tree 155 of 200\n"
          ],
          "name": "stdout"
        },
        {
          "output_type": "stream",
          "text": [
            "[Parallel(n_jobs=-1)]: Done 154 tasks      | elapsed:  5.3min\n"
          ],
          "name": "stderr"
        },
        {
          "output_type": "stream",
          "text": [
            "building tree 156 of 200\n"
          ],
          "name": "stdout"
        },
        {
          "output_type": "stream",
          "text": [
            "[Parallel(n_jobs=-1)]: Done 155 tasks      | elapsed:  5.3min\n"
          ],
          "name": "stderr"
        },
        {
          "output_type": "stream",
          "text": [
            "building tree 157 of 200\n"
          ],
          "name": "stdout"
        },
        {
          "output_type": "stream",
          "text": [
            "[Parallel(n_jobs=-1)]: Done 156 tasks      | elapsed:  5.3min\n"
          ],
          "name": "stderr"
        },
        {
          "output_type": "stream",
          "text": [
            "building tree 158 of 200\n"
          ],
          "name": "stdout"
        },
        {
          "output_type": "stream",
          "text": [
            "[Parallel(n_jobs=-1)]: Done 157 tasks      | elapsed:  5.4min\n"
          ],
          "name": "stderr"
        },
        {
          "output_type": "stream",
          "text": [
            "building tree 159 of 200\n"
          ],
          "name": "stdout"
        },
        {
          "output_type": "stream",
          "text": [
            "[Parallel(n_jobs=-1)]: Done 158 tasks      | elapsed:  5.4min\n"
          ],
          "name": "stderr"
        },
        {
          "output_type": "stream",
          "text": [
            "building tree 160 of 200\n"
          ],
          "name": "stdout"
        },
        {
          "output_type": "stream",
          "text": [
            "[Parallel(n_jobs=-1)]: Done 159 tasks      | elapsed:  5.4min\n"
          ],
          "name": "stderr"
        },
        {
          "output_type": "stream",
          "text": [
            "building tree 161 of 200\n"
          ],
          "name": "stdout"
        },
        {
          "output_type": "stream",
          "text": [
            "[Parallel(n_jobs=-1)]: Done 160 tasks      | elapsed:  5.5min\n"
          ],
          "name": "stderr"
        },
        {
          "output_type": "stream",
          "text": [
            "building tree 162 of 200\n"
          ],
          "name": "stdout"
        },
        {
          "output_type": "stream",
          "text": [
            "[Parallel(n_jobs=-1)]: Done 161 tasks      | elapsed:  5.5min\n"
          ],
          "name": "stderr"
        },
        {
          "output_type": "stream",
          "text": [
            "building tree 163 of 200\n"
          ],
          "name": "stdout"
        },
        {
          "output_type": "stream",
          "text": [
            "[Parallel(n_jobs=-1)]: Done 162 tasks      | elapsed:  5.5min\n"
          ],
          "name": "stderr"
        },
        {
          "output_type": "stream",
          "text": [
            "building tree 164 of 200\n"
          ],
          "name": "stdout"
        },
        {
          "output_type": "stream",
          "text": [
            "[Parallel(n_jobs=-1)]: Done 163 tasks      | elapsed:  5.6min\n"
          ],
          "name": "stderr"
        },
        {
          "output_type": "stream",
          "text": [
            "building tree 165 of 200\n"
          ],
          "name": "stdout"
        },
        {
          "output_type": "stream",
          "text": [
            "[Parallel(n_jobs=-1)]: Done 164 tasks      | elapsed:  5.6min\n"
          ],
          "name": "stderr"
        },
        {
          "output_type": "stream",
          "text": [
            "building tree 166 of 200\n"
          ],
          "name": "stdout"
        },
        {
          "output_type": "stream",
          "text": [
            "[Parallel(n_jobs=-1)]: Done 165 tasks      | elapsed:  5.6min\n"
          ],
          "name": "stderr"
        },
        {
          "output_type": "stream",
          "text": [
            "building tree 167 of 200\n"
          ],
          "name": "stdout"
        },
        {
          "output_type": "stream",
          "text": [
            "[Parallel(n_jobs=-1)]: Done 166 tasks      | elapsed:  5.7min\n"
          ],
          "name": "stderr"
        },
        {
          "output_type": "stream",
          "text": [
            "building tree 168 of 200\n"
          ],
          "name": "stdout"
        },
        {
          "output_type": "stream",
          "text": [
            "[Parallel(n_jobs=-1)]: Done 167 tasks      | elapsed:  5.7min\n"
          ],
          "name": "stderr"
        },
        {
          "output_type": "stream",
          "text": [
            "building tree 169 of 200\n"
          ],
          "name": "stdout"
        },
        {
          "output_type": "stream",
          "text": [
            "[Parallel(n_jobs=-1)]: Done 168 tasks      | elapsed:  5.7min\n"
          ],
          "name": "stderr"
        },
        {
          "output_type": "stream",
          "text": [
            "building tree 170 of 200\n"
          ],
          "name": "stdout"
        },
        {
          "output_type": "stream",
          "text": [
            "[Parallel(n_jobs=-1)]: Done 169 tasks      | elapsed:  5.8min\n"
          ],
          "name": "stderr"
        },
        {
          "output_type": "stream",
          "text": [
            "building tree 171 of 200\n"
          ],
          "name": "stdout"
        },
        {
          "output_type": "stream",
          "text": [
            "[Parallel(n_jobs=-1)]: Done 170 tasks      | elapsed:  5.8min\n"
          ],
          "name": "stderr"
        },
        {
          "output_type": "stream",
          "text": [
            "building tree 172 of 200\n"
          ],
          "name": "stdout"
        },
        {
          "output_type": "stream",
          "text": [
            "[Parallel(n_jobs=-1)]: Done 171 tasks      | elapsed:  5.8min\n"
          ],
          "name": "stderr"
        },
        {
          "output_type": "stream",
          "text": [
            "building tree 173 of 200\n"
          ],
          "name": "stdout"
        },
        {
          "output_type": "stream",
          "text": [
            "[Parallel(n_jobs=-1)]: Done 172 tasks      | elapsed:  5.9min\n"
          ],
          "name": "stderr"
        },
        {
          "output_type": "stream",
          "text": [
            "building tree 174 of 200\n"
          ],
          "name": "stdout"
        },
        {
          "output_type": "stream",
          "text": [
            "[Parallel(n_jobs=-1)]: Done 173 tasks      | elapsed:  5.9min\n",
            "[Parallel(n_jobs=-1)]: Done 174 tasks      | elapsed:  5.9min\n"
          ],
          "name": "stderr"
        },
        {
          "output_type": "stream",
          "text": [
            "building tree 175 of 200\n",
            "building tree 176 of 200\n"
          ],
          "name": "stdout"
        },
        {
          "output_type": "stream",
          "text": [
            "[Parallel(n_jobs=-1)]: Done 175 tasks      | elapsed:  6.0min\n"
          ],
          "name": "stderr"
        },
        {
          "output_type": "stream",
          "text": [
            "building tree 177 of 200\n"
          ],
          "name": "stdout"
        },
        {
          "output_type": "stream",
          "text": [
            "[Parallel(n_jobs=-1)]: Done 176 tasks      | elapsed:  6.0min\n"
          ],
          "name": "stderr"
        },
        {
          "output_type": "stream",
          "text": [
            "building tree 178 of 200\n"
          ],
          "name": "stdout"
        },
        {
          "output_type": "stream",
          "text": [
            "[Parallel(n_jobs=-1)]: Done 177 tasks      | elapsed:  6.1min\n",
            "[Parallel(n_jobs=-1)]: Done 178 tasks      | elapsed:  6.1min\n"
          ],
          "name": "stderr"
        },
        {
          "output_type": "stream",
          "text": [
            "building tree 179 of 200\n",
            "building tree 180 of 200\n"
          ],
          "name": "stdout"
        },
        {
          "output_type": "stream",
          "text": [
            "[Parallel(n_jobs=-1)]: Done 179 tasks      | elapsed:  6.1min\n"
          ],
          "name": "stderr"
        },
        {
          "output_type": "stream",
          "text": [
            "building tree 181 of 200\n"
          ],
          "name": "stdout"
        },
        {
          "output_type": "stream",
          "text": [
            "[Parallel(n_jobs=-1)]: Done 180 tasks      | elapsed:  6.1min\n"
          ],
          "name": "stderr"
        },
        {
          "output_type": "stream",
          "text": [
            "building tree 182 of 200\n"
          ],
          "name": "stdout"
        },
        {
          "output_type": "stream",
          "text": [
            "[Parallel(n_jobs=-1)]: Done 181 tasks      | elapsed:  6.2min\n"
          ],
          "name": "stderr"
        },
        {
          "output_type": "stream",
          "text": [
            "building tree 183 of 200\n"
          ],
          "name": "stdout"
        },
        {
          "output_type": "stream",
          "text": [
            "[Parallel(n_jobs=-1)]: Done 182 tasks      | elapsed:  6.2min\n"
          ],
          "name": "stderr"
        },
        {
          "output_type": "stream",
          "text": [
            "building tree 184 of 200\n"
          ],
          "name": "stdout"
        },
        {
          "output_type": "stream",
          "text": [
            "[Parallel(n_jobs=-1)]: Done 183 tasks      | elapsed:  6.3min\n"
          ],
          "name": "stderr"
        },
        {
          "output_type": "stream",
          "text": [
            "building tree 185 of 200\n"
          ],
          "name": "stdout"
        },
        {
          "output_type": "stream",
          "text": [
            "[Parallel(n_jobs=-1)]: Done 184 tasks      | elapsed:  6.3min\n"
          ],
          "name": "stderr"
        },
        {
          "output_type": "stream",
          "text": [
            "building tree 186 of 200\n"
          ],
          "name": "stdout"
        },
        {
          "output_type": "stream",
          "text": [
            "[Parallel(n_jobs=-1)]: Done 185 tasks      | elapsed:  6.3min\n"
          ],
          "name": "stderr"
        },
        {
          "output_type": "stream",
          "text": [
            "building tree 187 of 200\n"
          ],
          "name": "stdout"
        },
        {
          "output_type": "stream",
          "text": [
            "[Parallel(n_jobs=-1)]: Done 186 tasks      | elapsed:  6.4min\n"
          ],
          "name": "stderr"
        },
        {
          "output_type": "stream",
          "text": [
            "building tree 188 of 200\n"
          ],
          "name": "stdout"
        },
        {
          "output_type": "stream",
          "text": [
            "[Parallel(n_jobs=-1)]: Done 187 tasks      | elapsed:  6.4min\n"
          ],
          "name": "stderr"
        },
        {
          "output_type": "stream",
          "text": [
            "building tree 189 of 200\n"
          ],
          "name": "stdout"
        },
        {
          "output_type": "stream",
          "text": [
            "[Parallel(n_jobs=-1)]: Done 188 tasks      | elapsed:  6.4min\n"
          ],
          "name": "stderr"
        },
        {
          "output_type": "stream",
          "text": [
            "building tree 190 of 200\n"
          ],
          "name": "stdout"
        },
        {
          "output_type": "stream",
          "text": [
            "[Parallel(n_jobs=-1)]: Done 189 tasks      | elapsed:  6.5min\n"
          ],
          "name": "stderr"
        },
        {
          "output_type": "stream",
          "text": [
            "building tree 191 of 200\n"
          ],
          "name": "stdout"
        },
        {
          "output_type": "stream",
          "text": [
            "[Parallel(n_jobs=-1)]: Done 190 tasks      | elapsed:  6.5min\n"
          ],
          "name": "stderr"
        },
        {
          "output_type": "stream",
          "text": [
            "building tree 192 of 200\n"
          ],
          "name": "stdout"
        },
        {
          "output_type": "stream",
          "text": [
            "[Parallel(n_jobs=-1)]: Done 191 tasks      | elapsed:  6.5min\n"
          ],
          "name": "stderr"
        },
        {
          "output_type": "stream",
          "text": [
            "building tree 193 of 200\n"
          ],
          "name": "stdout"
        },
        {
          "output_type": "stream",
          "text": [
            "[Parallel(n_jobs=-1)]: Done 192 tasks      | elapsed:  6.6min\n"
          ],
          "name": "stderr"
        },
        {
          "output_type": "stream",
          "text": [
            "building tree 194 of 200\n"
          ],
          "name": "stdout"
        },
        {
          "output_type": "stream",
          "text": [
            "[Parallel(n_jobs=-1)]: Done 193 tasks      | elapsed:  6.6min\n"
          ],
          "name": "stderr"
        },
        {
          "output_type": "stream",
          "text": [
            "building tree 195 of 200\n"
          ],
          "name": "stdout"
        },
        {
          "output_type": "stream",
          "text": [
            "[Parallel(n_jobs=-1)]: Done 194 tasks      | elapsed:  6.6min\n"
          ],
          "name": "stderr"
        },
        {
          "output_type": "stream",
          "text": [
            "building tree 196 of 200\n"
          ],
          "name": "stdout"
        },
        {
          "output_type": "stream",
          "text": [
            "[Parallel(n_jobs=-1)]: Done 195 tasks      | elapsed:  6.7min\n"
          ],
          "name": "stderr"
        },
        {
          "output_type": "stream",
          "text": [
            "building tree 197 of 200\n"
          ],
          "name": "stdout"
        },
        {
          "output_type": "stream",
          "text": [
            "[Parallel(n_jobs=-1)]: Done 196 tasks      | elapsed:  6.7min\n"
          ],
          "name": "stderr"
        },
        {
          "output_type": "stream",
          "text": [
            "building tree 198 of 200\n"
          ],
          "name": "stdout"
        },
        {
          "output_type": "stream",
          "text": [
            "[Parallel(n_jobs=-1)]: Done 197 tasks      | elapsed:  6.7min\n"
          ],
          "name": "stderr"
        },
        {
          "output_type": "stream",
          "text": [
            "building tree 199 of 200\n",
            "building tree 200 of 200\n"
          ],
          "name": "stdout"
        },
        {
          "output_type": "stream",
          "text": [
            "[Parallel(n_jobs=-1)]: Done 200 out of 200 | elapsed:  6.8min finished\n",
            "[Parallel(n_jobs=2)]: Using backend ThreadingBackend with 2 concurrent workers.\n",
            "[Parallel(n_jobs=2)]: Done   1 tasks      | elapsed:    0.0s\n",
            "[Parallel(n_jobs=2)]: Done   2 tasks      | elapsed:    0.0s\n",
            "[Parallel(n_jobs=2)]: Done   3 tasks      | elapsed:    0.0s\n",
            "[Parallel(n_jobs=2)]: Done   4 tasks      | elapsed:    0.0s\n",
            "[Parallel(n_jobs=2)]: Done   5 tasks      | elapsed:    0.0s\n",
            "[Parallel(n_jobs=2)]: Done   6 tasks      | elapsed:    0.0s\n",
            "[Parallel(n_jobs=2)]: Done   7 tasks      | elapsed:    0.0s\n",
            "[Parallel(n_jobs=2)]: Done   8 tasks      | elapsed:    0.0s\n",
            "[Parallel(n_jobs=2)]: Done   9 tasks      | elapsed:    0.0s\n",
            "[Parallel(n_jobs=2)]: Done  10 tasks      | elapsed:    0.0s\n",
            "[Parallel(n_jobs=2)]: Done  11 tasks      | elapsed:    0.0s\n",
            "[Parallel(n_jobs=2)]: Done  12 tasks      | elapsed:    0.0s\n",
            "[Parallel(n_jobs=2)]: Done  13 tasks      | elapsed:    0.0s\n",
            "[Parallel(n_jobs=2)]: Done  14 tasks      | elapsed:    0.0s\n",
            "[Parallel(n_jobs=2)]: Done  15 tasks      | elapsed:    0.0s\n",
            "[Parallel(n_jobs=2)]: Done  16 tasks      | elapsed:    0.0s\n",
            "[Parallel(n_jobs=2)]: Done  17 tasks      | elapsed:    0.0s\n",
            "[Parallel(n_jobs=2)]: Done  18 tasks      | elapsed:    0.0s\n",
            "[Parallel(n_jobs=2)]: Done  19 tasks      | elapsed:    0.1s\n",
            "[Parallel(n_jobs=2)]: Done  20 tasks      | elapsed:    0.1s\n",
            "[Parallel(n_jobs=2)]: Done  21 tasks      | elapsed:    0.1s\n",
            "[Parallel(n_jobs=2)]: Done  22 tasks      | elapsed:    0.1s\n",
            "[Parallel(n_jobs=2)]: Done  23 tasks      | elapsed:    0.1s\n",
            "[Parallel(n_jobs=2)]: Done  24 tasks      | elapsed:    0.1s\n",
            "[Parallel(n_jobs=2)]: Done  25 tasks      | elapsed:    0.1s\n",
            "[Parallel(n_jobs=2)]: Done  26 tasks      | elapsed:    0.1s\n",
            "[Parallel(n_jobs=2)]: Done  27 tasks      | elapsed:    0.1s\n",
            "[Parallel(n_jobs=2)]: Done  28 tasks      | elapsed:    0.1s\n",
            "[Parallel(n_jobs=2)]: Done  29 tasks      | elapsed:    0.1s\n",
            "[Parallel(n_jobs=2)]: Done  30 tasks      | elapsed:    0.1s\n",
            "[Parallel(n_jobs=2)]: Done  31 tasks      | elapsed:    0.1s\n",
            "[Parallel(n_jobs=2)]: Done  32 tasks      | elapsed:    0.1s\n",
            "[Parallel(n_jobs=2)]: Done  33 tasks      | elapsed:    0.1s\n",
            "[Parallel(n_jobs=2)]: Done  34 tasks      | elapsed:    0.1s\n",
            "[Parallel(n_jobs=2)]: Done  35 tasks      | elapsed:    0.1s\n",
            "[Parallel(n_jobs=2)]: Done  36 tasks      | elapsed:    0.1s\n",
            "[Parallel(n_jobs=2)]: Done  37 tasks      | elapsed:    0.1s\n",
            "[Parallel(n_jobs=2)]: Done  38 tasks      | elapsed:    0.1s\n",
            "[Parallel(n_jobs=2)]: Done  39 tasks      | elapsed:    0.1s\n",
            "[Parallel(n_jobs=2)]: Done  40 tasks      | elapsed:    0.1s\n",
            "[Parallel(n_jobs=2)]: Done  41 tasks      | elapsed:    0.1s\n",
            "[Parallel(n_jobs=2)]: Done  42 tasks      | elapsed:    0.1s\n",
            "[Parallel(n_jobs=2)]: Done  43 tasks      | elapsed:    0.1s\n",
            "[Parallel(n_jobs=2)]: Done  44 tasks      | elapsed:    0.1s\n",
            "[Parallel(n_jobs=2)]: Done  45 tasks      | elapsed:    0.1s\n",
            "[Parallel(n_jobs=2)]: Done  46 tasks      | elapsed:    0.1s\n",
            "[Parallel(n_jobs=2)]: Done  47 tasks      | elapsed:    0.1s\n",
            "[Parallel(n_jobs=2)]: Done  48 tasks      | elapsed:    0.1s\n",
            "[Parallel(n_jobs=2)]: Done  49 tasks      | elapsed:    0.1s\n",
            "[Parallel(n_jobs=2)]: Done  50 tasks      | elapsed:    0.1s\n",
            "[Parallel(n_jobs=2)]: Done  51 tasks      | elapsed:    0.1s\n",
            "[Parallel(n_jobs=2)]: Done  52 tasks      | elapsed:    0.1s\n",
            "[Parallel(n_jobs=2)]: Done  53 tasks      | elapsed:    0.1s\n",
            "[Parallel(n_jobs=2)]: Done  54 tasks      | elapsed:    0.1s\n",
            "[Parallel(n_jobs=2)]: Done  55 tasks      | elapsed:    0.1s\n",
            "[Parallel(n_jobs=2)]: Done  56 tasks      | elapsed:    0.1s\n",
            "[Parallel(n_jobs=2)]: Done  57 tasks      | elapsed:    0.2s\n",
            "[Parallel(n_jobs=2)]: Done  58 tasks      | elapsed:    0.2s\n",
            "[Parallel(n_jobs=2)]: Done  59 tasks      | elapsed:    0.2s\n",
            "[Parallel(n_jobs=2)]: Done  60 tasks      | elapsed:    0.2s\n",
            "[Parallel(n_jobs=2)]: Done  61 tasks      | elapsed:    0.2s\n",
            "[Parallel(n_jobs=2)]: Done  62 tasks      | elapsed:    0.2s\n",
            "[Parallel(n_jobs=2)]: Done  63 tasks      | elapsed:    0.2s\n",
            "[Parallel(n_jobs=2)]: Done  64 tasks      | elapsed:    0.2s\n",
            "[Parallel(n_jobs=2)]: Done  65 tasks      | elapsed:    0.2s\n",
            "[Parallel(n_jobs=2)]: Done  66 tasks      | elapsed:    0.2s\n",
            "[Parallel(n_jobs=2)]: Done  67 tasks      | elapsed:    0.2s\n",
            "[Parallel(n_jobs=2)]: Done  68 tasks      | elapsed:    0.2s\n",
            "[Parallel(n_jobs=2)]: Done  69 tasks      | elapsed:    0.2s\n",
            "[Parallel(n_jobs=2)]: Done  70 tasks      | elapsed:    0.2s\n",
            "[Parallel(n_jobs=2)]: Done  71 tasks      | elapsed:    0.2s\n",
            "[Parallel(n_jobs=2)]: Done  72 tasks      | elapsed:    0.2s\n",
            "[Parallel(n_jobs=2)]: Done  73 tasks      | elapsed:    0.2s\n",
            "[Parallel(n_jobs=2)]: Done  74 tasks      | elapsed:    0.2s\n",
            "[Parallel(n_jobs=2)]: Done  75 tasks      | elapsed:    0.2s\n",
            "[Parallel(n_jobs=2)]: Done  76 tasks      | elapsed:    0.2s\n",
            "[Parallel(n_jobs=2)]: Done  77 tasks      | elapsed:    0.2s\n",
            "[Parallel(n_jobs=2)]: Done  78 tasks      | elapsed:    0.2s\n",
            "[Parallel(n_jobs=2)]: Done  79 tasks      | elapsed:    0.2s\n",
            "[Parallel(n_jobs=2)]: Done  80 tasks      | elapsed:    0.2s\n",
            "[Parallel(n_jobs=2)]: Done  81 tasks      | elapsed:    0.2s\n",
            "[Parallel(n_jobs=2)]: Done  82 tasks      | elapsed:    0.2s\n",
            "[Parallel(n_jobs=2)]: Done  83 tasks      | elapsed:    0.2s\n",
            "[Parallel(n_jobs=2)]: Done  84 tasks      | elapsed:    0.2s\n",
            "[Parallel(n_jobs=2)]: Done  85 tasks      | elapsed:    0.2s\n",
            "[Parallel(n_jobs=2)]: Done  86 tasks      | elapsed:    0.2s\n",
            "[Parallel(n_jobs=2)]: Done  87 tasks      | elapsed:    0.2s\n",
            "[Parallel(n_jobs=2)]: Done  88 tasks      | elapsed:    0.2s\n",
            "[Parallel(n_jobs=2)]: Done  89 tasks      | elapsed:    0.2s\n",
            "[Parallel(n_jobs=2)]: Done  90 tasks      | elapsed:    0.3s\n",
            "[Parallel(n_jobs=2)]: Done  91 tasks      | elapsed:    0.3s\n",
            "[Parallel(n_jobs=2)]: Done  92 tasks      | elapsed:    0.3s\n",
            "[Parallel(n_jobs=2)]: Done  93 tasks      | elapsed:    0.3s\n",
            "[Parallel(n_jobs=2)]: Done  94 tasks      | elapsed:    0.3s\n",
            "[Parallel(n_jobs=2)]: Done  95 tasks      | elapsed:    0.3s\n",
            "[Parallel(n_jobs=2)]: Done  96 tasks      | elapsed:    0.3s\n",
            "[Parallel(n_jobs=2)]: Done  97 tasks      | elapsed:    0.3s\n",
            "[Parallel(n_jobs=2)]: Done  98 tasks      | elapsed:    0.3s\n",
            "[Parallel(n_jobs=2)]: Done  99 tasks      | elapsed:    0.3s\n",
            "[Parallel(n_jobs=2)]: Done 100 tasks      | elapsed:    0.3s\n",
            "[Parallel(n_jobs=2)]: Done 101 tasks      | elapsed:    0.3s\n",
            "[Parallel(n_jobs=2)]: Done 102 tasks      | elapsed:    0.3s\n",
            "[Parallel(n_jobs=2)]: Done 103 tasks      | elapsed:    0.3s\n",
            "[Parallel(n_jobs=2)]: Done 104 tasks      | elapsed:    0.3s\n",
            "[Parallel(n_jobs=2)]: Done 105 tasks      | elapsed:    0.3s\n",
            "[Parallel(n_jobs=2)]: Done 106 tasks      | elapsed:    0.3s\n",
            "[Parallel(n_jobs=2)]: Done 107 tasks      | elapsed:    0.3s\n",
            "[Parallel(n_jobs=2)]: Done 108 tasks      | elapsed:    0.3s\n",
            "[Parallel(n_jobs=2)]: Done 109 tasks      | elapsed:    0.3s\n",
            "[Parallel(n_jobs=2)]: Done 110 tasks      | elapsed:    0.3s\n",
            "[Parallel(n_jobs=2)]: Done 111 tasks      | elapsed:    0.3s\n",
            "[Parallel(n_jobs=2)]: Done 112 tasks      | elapsed:    0.3s\n",
            "[Parallel(n_jobs=2)]: Done 113 tasks      | elapsed:    0.3s\n",
            "[Parallel(n_jobs=2)]: Done 114 tasks      | elapsed:    0.3s\n",
            "[Parallel(n_jobs=2)]: Done 115 tasks      | elapsed:    0.3s\n",
            "[Parallel(n_jobs=2)]: Done 116 tasks      | elapsed:    0.3s\n",
            "[Parallel(n_jobs=2)]: Done 117 tasks      | elapsed:    0.3s\n",
            "[Parallel(n_jobs=2)]: Done 118 tasks      | elapsed:    0.3s\n",
            "[Parallel(n_jobs=2)]: Done 119 tasks      | elapsed:    0.3s\n",
            "[Parallel(n_jobs=2)]: Done 120 tasks      | elapsed:    0.3s\n",
            "[Parallel(n_jobs=2)]: Done 121 tasks      | elapsed:    0.3s\n",
            "[Parallel(n_jobs=2)]: Done 122 tasks      | elapsed:    0.3s\n",
            "[Parallel(n_jobs=2)]: Done 123 tasks      | elapsed:    0.3s\n",
            "[Parallel(n_jobs=2)]: Done 124 tasks      | elapsed:    0.4s\n",
            "[Parallel(n_jobs=2)]: Done 125 tasks      | elapsed:    0.4s\n",
            "[Parallel(n_jobs=2)]: Done 126 tasks      | elapsed:    0.4s\n",
            "[Parallel(n_jobs=2)]: Done 127 tasks      | elapsed:    0.4s\n",
            "[Parallel(n_jobs=2)]: Done 128 tasks      | elapsed:    0.4s\n",
            "[Parallel(n_jobs=2)]: Done 129 tasks      | elapsed:    0.4s\n",
            "[Parallel(n_jobs=2)]: Done 130 tasks      | elapsed:    0.4s\n",
            "[Parallel(n_jobs=2)]: Done 131 tasks      | elapsed:    0.4s\n",
            "[Parallel(n_jobs=2)]: Done 132 tasks      | elapsed:    0.4s\n",
            "[Parallel(n_jobs=2)]: Done 133 tasks      | elapsed:    0.4s\n",
            "[Parallel(n_jobs=2)]: Done 134 tasks      | elapsed:    0.4s\n",
            "[Parallel(n_jobs=2)]: Done 135 tasks      | elapsed:    0.4s\n",
            "[Parallel(n_jobs=2)]: Done 136 tasks      | elapsed:    0.4s\n",
            "[Parallel(n_jobs=2)]: Done 137 tasks      | elapsed:    0.4s\n",
            "[Parallel(n_jobs=2)]: Done 138 tasks      | elapsed:    0.4s\n",
            "[Parallel(n_jobs=2)]: Done 139 tasks      | elapsed:    0.4s\n",
            "[Parallel(n_jobs=2)]: Done 140 tasks      | elapsed:    0.4s\n",
            "[Parallel(n_jobs=2)]: Done 141 tasks      | elapsed:    0.4s\n",
            "[Parallel(n_jobs=2)]: Done 142 tasks      | elapsed:    0.4s\n",
            "[Parallel(n_jobs=2)]: Done 143 tasks      | elapsed:    0.4s\n",
            "[Parallel(n_jobs=2)]: Done 144 tasks      | elapsed:    0.4s\n",
            "[Parallel(n_jobs=2)]: Done 145 tasks      | elapsed:    0.4s\n",
            "[Parallel(n_jobs=2)]: Done 146 tasks      | elapsed:    0.4s\n",
            "[Parallel(n_jobs=2)]: Done 147 tasks      | elapsed:    0.4s\n",
            "[Parallel(n_jobs=2)]: Done 148 tasks      | elapsed:    0.4s\n",
            "[Parallel(n_jobs=2)]: Done 149 tasks      | elapsed:    0.4s\n",
            "[Parallel(n_jobs=2)]: Done 150 tasks      | elapsed:    0.4s\n",
            "[Parallel(n_jobs=2)]: Done 151 tasks      | elapsed:    0.4s\n",
            "[Parallel(n_jobs=2)]: Done 152 tasks      | elapsed:    0.4s\n",
            "[Parallel(n_jobs=2)]: Done 153 tasks      | elapsed:    0.4s\n",
            "[Parallel(n_jobs=2)]: Done 154 tasks      | elapsed:    0.4s\n",
            "[Parallel(n_jobs=2)]: Done 155 tasks      | elapsed:    0.4s\n",
            "[Parallel(n_jobs=2)]: Done 156 tasks      | elapsed:    0.5s\n",
            "[Parallel(n_jobs=2)]: Done 157 tasks      | elapsed:    0.5s\n",
            "[Parallel(n_jobs=2)]: Done 158 tasks      | elapsed:    0.5s\n",
            "[Parallel(n_jobs=2)]: Done 159 tasks      | elapsed:    0.5s\n",
            "[Parallel(n_jobs=2)]: Done 160 tasks      | elapsed:    0.5s\n",
            "[Parallel(n_jobs=2)]: Done 161 tasks      | elapsed:    0.5s\n",
            "[Parallel(n_jobs=2)]: Done 162 tasks      | elapsed:    0.5s\n",
            "[Parallel(n_jobs=2)]: Done 163 tasks      | elapsed:    0.5s\n",
            "[Parallel(n_jobs=2)]: Done 164 tasks      | elapsed:    0.5s\n",
            "[Parallel(n_jobs=2)]: Done 165 tasks      | elapsed:    0.5s\n",
            "[Parallel(n_jobs=2)]: Done 166 tasks      | elapsed:    0.5s\n",
            "[Parallel(n_jobs=2)]: Done 167 tasks      | elapsed:    0.5s\n",
            "[Parallel(n_jobs=2)]: Done 168 tasks      | elapsed:    0.5s\n",
            "[Parallel(n_jobs=2)]: Done 169 tasks      | elapsed:    0.5s\n",
            "[Parallel(n_jobs=2)]: Done 170 tasks      | elapsed:    0.5s\n",
            "[Parallel(n_jobs=2)]: Done 171 tasks      | elapsed:    0.5s\n",
            "[Parallel(n_jobs=2)]: Done 172 tasks      | elapsed:    0.5s\n",
            "[Parallel(n_jobs=2)]: Done 173 tasks      | elapsed:    0.5s\n",
            "[Parallel(n_jobs=2)]: Done 174 tasks      | elapsed:    0.5s\n",
            "[Parallel(n_jobs=2)]: Done 175 tasks      | elapsed:    0.5s\n",
            "[Parallel(n_jobs=2)]: Done 176 tasks      | elapsed:    0.5s\n",
            "[Parallel(n_jobs=2)]: Done 177 tasks      | elapsed:    0.5s\n",
            "[Parallel(n_jobs=2)]: Done 178 tasks      | elapsed:    0.5s\n",
            "[Parallel(n_jobs=2)]: Done 179 tasks      | elapsed:    0.5s\n",
            "[Parallel(n_jobs=2)]: Done 180 tasks      | elapsed:    0.5s\n",
            "[Parallel(n_jobs=2)]: Done 181 tasks      | elapsed:    0.5s\n",
            "[Parallel(n_jobs=2)]: Done 182 tasks      | elapsed:    0.5s\n",
            "[Parallel(n_jobs=2)]: Done 183 tasks      | elapsed:    0.5s\n",
            "[Parallel(n_jobs=2)]: Done 184 tasks      | elapsed:    0.5s\n",
            "[Parallel(n_jobs=2)]: Done 185 tasks      | elapsed:    0.5s\n",
            "[Parallel(n_jobs=2)]: Done 186 tasks      | elapsed:    0.5s\n",
            "[Parallel(n_jobs=2)]: Done 187 tasks      | elapsed:    0.5s\n",
            "[Parallel(n_jobs=2)]: Done 188 tasks      | elapsed:    0.5s\n",
            "[Parallel(n_jobs=2)]: Done 189 tasks      | elapsed:    0.5s\n",
            "[Parallel(n_jobs=2)]: Done 190 tasks      | elapsed:    0.5s\n",
            "[Parallel(n_jobs=2)]: Done 191 tasks      | elapsed:    0.5s\n",
            "[Parallel(n_jobs=2)]: Done 192 tasks      | elapsed:    0.5s\n",
            "[Parallel(n_jobs=2)]: Done 193 tasks      | elapsed:    0.5s\n",
            "[Parallel(n_jobs=2)]: Done 194 tasks      | elapsed:    0.5s\n",
            "[Parallel(n_jobs=2)]: Done 195 tasks      | elapsed:    0.5s\n",
            "[Parallel(n_jobs=2)]: Done 196 tasks      | elapsed:    0.5s\n",
            "[Parallel(n_jobs=2)]: Done 197 tasks      | elapsed:    0.6s\n",
            "[Parallel(n_jobs=2)]: Done 200 out of 200 | elapsed:    0.6s finished\n"
          ],
          "name": "stderr"
        },
        {
          "output_type": "stream",
          "text": [
            "Accuracy of Random Forest classifier is: 0.693954 \n"
          ],
          "name": "stdout"
        }
      ]
    },
    {
      "cell_type": "code",
      "metadata": {
        "colab": {
          "base_uri": "https://localhost:8080/"
        },
        "id": "b9jzlLwNN6JC",
        "outputId": "79d3843e-81b9-48f3-f1b7-ed3d8a2caa10"
      },
      "source": [
        "matrix = confusion_matrix(y_test, y_pred, labels=[1,-1])\n",
        "print('Confusion Matrix: \\n',matrix)\n",
        "\n",
        "tp, fn, fp, tn = confusion_matrix(y_test, y_pred, labels = [1, -1]).reshape(-1)\n",
        "print('Outcome values: \\n', tp, fn, fp, tn)\n",
        "\n",
        "matrix = classification_report(y_test, y_pred, labels=[1,-1])\n",
        "print('Classification report: \\n',matrix)"
      ],
      "execution_count": null,
      "outputs": [
        {
          "output_type": "stream",
          "text": [
            "Confusion Matrix: \n",
            " [[2055 1323]\n",
            " [ 879 2938]]\n",
            "Outcome values: \n",
            " 2055 1323 879 2938\n",
            "Classification report: \n",
            "               precision    recall  f1-score   support\n",
            "\n",
            "           1       0.70      0.61      0.65      3378\n",
            "          -1       0.69      0.77      0.73      3817\n",
            "\n",
            "    accuracy                           0.69      7195\n",
            "   macro avg       0.69      0.69      0.69      7195\n",
            "weighted avg       0.69      0.69      0.69      7195\n",
            "\n"
          ],
          "name": "stdout"
        }
      ]
    },
    {
      "cell_type": "code",
      "metadata": {
        "colab": {
          "base_uri": "https://localhost:8080/"
        },
        "id": "RxDkZJMul1mc",
        "outputId": "8145a8b5-a824-4a77-8ce6-a83795e4f048"
      },
      "source": [
        "print(\"training Random Forest classifier now ...\")\n",
        "\n",
        "random_forest_classifier = RandomForestClassifier(n_estimators=300, verbose=15, n_jobs=-1).fit(X_train,y_train)\n",
        "#increase n_estimators if you face issues in training\n",
        "y_pred=random_forest_classifier.predict(X_test)\n",
        "acc=accuracy_score(y_test,y_pred)\n",
        "print('Accuracy of Random Forest classifier is: %f ' % acc)"
      ],
      "execution_count": null,
      "outputs": [
        {
          "output_type": "stream",
          "text": [
            "training Random Forest classifier now ...\n",
            "building tree 1 of 300building tree 2 of 300\n",
            "\n"
          ],
          "name": "stdout"
        },
        {
          "output_type": "stream",
          "text": [
            "[Parallel(n_jobs=-1)]: Using backend ThreadingBackend with 2 concurrent workers.\n",
            "[Parallel(n_jobs=-1)]: Done   1 tasks      | elapsed:    4.3s\n",
            "[Parallel(n_jobs=-1)]: Done   2 tasks      | elapsed:    4.3s\n"
          ],
          "name": "stderr"
        },
        {
          "output_type": "stream",
          "text": [
            "building tree 3 of 300\n",
            "building tree 4 of 300\n"
          ],
          "name": "stdout"
        },
        {
          "output_type": "stream",
          "text": [
            "[Parallel(n_jobs=-1)]: Done   3 tasks      | elapsed:    8.4s\n"
          ],
          "name": "stderr"
        },
        {
          "output_type": "stream",
          "text": [
            "building tree 5 of 300\n"
          ],
          "name": "stdout"
        },
        {
          "output_type": "stream",
          "text": [
            "[Parallel(n_jobs=-1)]: Done   4 tasks      | elapsed:    9.0s\n"
          ],
          "name": "stderr"
        },
        {
          "output_type": "stream",
          "text": [
            "building tree 6 of 300\n"
          ],
          "name": "stdout"
        },
        {
          "output_type": "stream",
          "text": [
            "[Parallel(n_jobs=-1)]: Done   5 tasks      | elapsed:   13.1s\n"
          ],
          "name": "stderr"
        },
        {
          "output_type": "stream",
          "text": [
            "building tree 7 of 300\n"
          ],
          "name": "stdout"
        },
        {
          "output_type": "stream",
          "text": [
            "[Parallel(n_jobs=-1)]: Done   6 tasks      | elapsed:   14.1s\n"
          ],
          "name": "stderr"
        },
        {
          "output_type": "stream",
          "text": [
            "building tree 8 of 300\n"
          ],
          "name": "stdout"
        },
        {
          "output_type": "stream",
          "text": [
            "[Parallel(n_jobs=-1)]: Done   7 tasks      | elapsed:   18.1s\n"
          ],
          "name": "stderr"
        },
        {
          "output_type": "stream",
          "text": [
            "building tree 9 of 300\n"
          ],
          "name": "stdout"
        },
        {
          "output_type": "stream",
          "text": [
            "[Parallel(n_jobs=-1)]: Done   8 tasks      | elapsed:   18.7s\n"
          ],
          "name": "stderr"
        },
        {
          "output_type": "stream",
          "text": [
            "building tree 10 of 300\n"
          ],
          "name": "stdout"
        },
        {
          "output_type": "stream",
          "text": [
            "[Parallel(n_jobs=-1)]: Done   9 tasks      | elapsed:   22.7s\n"
          ],
          "name": "stderr"
        },
        {
          "output_type": "stream",
          "text": [
            "building tree 11 of 300\n"
          ],
          "name": "stdout"
        },
        {
          "output_type": "stream",
          "text": [
            "[Parallel(n_jobs=-1)]: Done  10 tasks      | elapsed:   23.1s\n"
          ],
          "name": "stderr"
        },
        {
          "output_type": "stream",
          "text": [
            "building tree 12 of 300\n"
          ],
          "name": "stdout"
        },
        {
          "output_type": "stream",
          "text": [
            "[Parallel(n_jobs=-1)]: Done  11 tasks      | elapsed:   27.3s\n",
            "[Parallel(n_jobs=-1)]: Done  12 tasks      | elapsed:   27.4s\n"
          ],
          "name": "stderr"
        },
        {
          "output_type": "stream",
          "text": [
            "building tree 13 of 300\n",
            "building tree 14 of 300\n"
          ],
          "name": "stdout"
        },
        {
          "output_type": "stream",
          "text": [
            "[Parallel(n_jobs=-1)]: Done  13 tasks      | elapsed:   31.9s\n",
            "[Parallel(n_jobs=-1)]: Done  14 tasks      | elapsed:   32.0s\n"
          ],
          "name": "stderr"
        },
        {
          "output_type": "stream",
          "text": [
            "building tree 15 of 300\n",
            "building tree 16 of 300\n"
          ],
          "name": "stdout"
        },
        {
          "output_type": "stream",
          "text": [
            "[Parallel(n_jobs=-1)]: Done  15 tasks      | elapsed:   36.3s\n"
          ],
          "name": "stderr"
        },
        {
          "output_type": "stream",
          "text": [
            "building tree 17 of 300\n",
            "building tree 18 of 300\n"
          ],
          "name": "stdout"
        },
        {
          "output_type": "stream",
          "text": [
            "[Parallel(n_jobs=-1)]: Done  16 tasks      | elapsed:   36.7s\n",
            "[Parallel(n_jobs=-1)]: Done  17 tasks      | elapsed:   40.7s\n"
          ],
          "name": "stderr"
        },
        {
          "output_type": "stream",
          "text": [
            "building tree 19 of 300\n"
          ],
          "name": "stdout"
        },
        {
          "output_type": "stream",
          "text": [
            "[Parallel(n_jobs=-1)]: Done  18 tasks      | elapsed:   40.9s\n"
          ],
          "name": "stderr"
        },
        {
          "output_type": "stream",
          "text": [
            "building tree 20 of 300\n"
          ],
          "name": "stdout"
        },
        {
          "output_type": "stream",
          "text": [
            "[Parallel(n_jobs=-1)]: Done  19 tasks      | elapsed:   45.6s\n",
            "[Parallel(n_jobs=-1)]: Done  20 tasks      | elapsed:   45.6s\n"
          ],
          "name": "stderr"
        },
        {
          "output_type": "stream",
          "text": [
            "building tree 21 of 300\n",
            "building tree 22 of 300\n"
          ],
          "name": "stdout"
        },
        {
          "output_type": "stream",
          "text": [
            "[Parallel(n_jobs=-1)]: Done  21 tasks      | elapsed:   49.8s\n"
          ],
          "name": "stderr"
        },
        {
          "output_type": "stream",
          "text": [
            "building tree 23 of 300\n"
          ],
          "name": "stdout"
        },
        {
          "output_type": "stream",
          "text": [
            "[Parallel(n_jobs=-1)]: Done  22 tasks      | elapsed:   50.5s\n"
          ],
          "name": "stderr"
        },
        {
          "output_type": "stream",
          "text": [
            "building tree 24 of 300\n"
          ],
          "name": "stdout"
        },
        {
          "output_type": "stream",
          "text": [
            "[Parallel(n_jobs=-1)]: Done  23 tasks      | elapsed:   54.3s\n"
          ],
          "name": "stderr"
        },
        {
          "output_type": "stream",
          "text": [
            "building tree 25 of 300\n"
          ],
          "name": "stdout"
        },
        {
          "output_type": "stream",
          "text": [
            "[Parallel(n_jobs=-1)]: Done  24 tasks      | elapsed:   54.6s\n"
          ],
          "name": "stderr"
        },
        {
          "output_type": "stream",
          "text": [
            "building tree 26 of 300\n"
          ],
          "name": "stdout"
        },
        {
          "output_type": "stream",
          "text": [
            "[Parallel(n_jobs=-1)]: Done  25 tasks      | elapsed:   58.3s\n"
          ],
          "name": "stderr"
        },
        {
          "output_type": "stream",
          "text": [
            "building tree 27 of 300\n"
          ],
          "name": "stdout"
        },
        {
          "output_type": "stream",
          "text": [
            "[Parallel(n_jobs=-1)]: Done  26 tasks      | elapsed:   58.8s\n"
          ],
          "name": "stderr"
        },
        {
          "output_type": "stream",
          "text": [
            "building tree 28 of 300\n"
          ],
          "name": "stdout"
        },
        {
          "output_type": "stream",
          "text": [
            "[Parallel(n_jobs=-1)]: Done  27 tasks      | elapsed:  1.0min\n"
          ],
          "name": "stderr"
        },
        {
          "output_type": "stream",
          "text": [
            "building tree 29 of 300\n"
          ],
          "name": "stdout"
        },
        {
          "output_type": "stream",
          "text": [
            "[Parallel(n_jobs=-1)]: Done  28 tasks      | elapsed:  1.1min\n"
          ],
          "name": "stderr"
        },
        {
          "output_type": "stream",
          "text": [
            "building tree 30 of 300\n"
          ],
          "name": "stdout"
        },
        {
          "output_type": "stream",
          "text": [
            "[Parallel(n_jobs=-1)]: Done  29 tasks      | elapsed:  1.1min\n"
          ],
          "name": "stderr"
        },
        {
          "output_type": "stream",
          "text": [
            "building tree 31 of 300\n"
          ],
          "name": "stdout"
        },
        {
          "output_type": "stream",
          "text": [
            "[Parallel(n_jobs=-1)]: Done  30 tasks      | elapsed:  1.1min\n"
          ],
          "name": "stderr"
        },
        {
          "output_type": "stream",
          "text": [
            "building tree 32 of 300\n"
          ],
          "name": "stdout"
        },
        {
          "output_type": "stream",
          "text": [
            "[Parallel(n_jobs=-1)]: Done  31 tasks      | elapsed:  1.2min\n"
          ],
          "name": "stderr"
        },
        {
          "output_type": "stream",
          "text": [
            "building tree 33 of 300\n"
          ],
          "name": "stdout"
        },
        {
          "output_type": "stream",
          "text": [
            "[Parallel(n_jobs=-1)]: Done  32 tasks      | elapsed:  1.2min\n"
          ],
          "name": "stderr"
        },
        {
          "output_type": "stream",
          "text": [
            "building tree 34 of 300\n",
            "building tree 35 of 300\n"
          ],
          "name": "stdout"
        },
        {
          "output_type": "stream",
          "text": [
            "[Parallel(n_jobs=-1)]: Done  33 tasks      | elapsed:  1.3min\n",
            "[Parallel(n_jobs=-1)]: Done  34 tasks      | elapsed:  1.3min\n"
          ],
          "name": "stderr"
        },
        {
          "output_type": "stream",
          "text": [
            "building tree 36 of 300\n",
            "building tree 37 of 300\n"
          ],
          "name": "stdout"
        },
        {
          "output_type": "stream",
          "text": [
            "[Parallel(n_jobs=-1)]: Done  35 tasks      | elapsed:  1.3min\n",
            "[Parallel(n_jobs=-1)]: Done  36 tasks      | elapsed:  1.4min\n"
          ],
          "name": "stderr"
        },
        {
          "output_type": "stream",
          "text": [
            "building tree 38 of 300\n"
          ],
          "name": "stdout"
        },
        {
          "output_type": "stream",
          "text": [
            "[Parallel(n_jobs=-1)]: Done  37 tasks      | elapsed:  1.4min\n"
          ],
          "name": "stderr"
        },
        {
          "output_type": "stream",
          "text": [
            "building tree 39 of 300\n"
          ],
          "name": "stdout"
        },
        {
          "output_type": "stream",
          "text": [
            "[Parallel(n_jobs=-1)]: Done  38 tasks      | elapsed:  1.4min\n"
          ],
          "name": "stderr"
        },
        {
          "output_type": "stream",
          "text": [
            "building tree 40 of 300\n"
          ],
          "name": "stdout"
        },
        {
          "output_type": "stream",
          "text": [
            "[Parallel(n_jobs=-1)]: Done  39 tasks      | elapsed:  1.5min\n"
          ],
          "name": "stderr"
        },
        {
          "output_type": "stream",
          "text": [
            "building tree 41 of 300\n"
          ],
          "name": "stdout"
        },
        {
          "output_type": "stream",
          "text": [
            "[Parallel(n_jobs=-1)]: Done  40 tasks      | elapsed:  1.5min\n"
          ],
          "name": "stderr"
        },
        {
          "output_type": "stream",
          "text": [
            "building tree 42 of 300\n"
          ],
          "name": "stdout"
        },
        {
          "output_type": "stream",
          "text": [
            "[Parallel(n_jobs=-1)]: Done  41 tasks      | elapsed:  1.6min\n"
          ],
          "name": "stderr"
        },
        {
          "output_type": "stream",
          "text": [
            "building tree 43 of 300\n"
          ],
          "name": "stdout"
        },
        {
          "output_type": "stream",
          "text": [
            "[Parallel(n_jobs=-1)]: Done  42 tasks      | elapsed:  1.6min\n"
          ],
          "name": "stderr"
        },
        {
          "output_type": "stream",
          "text": [
            "building tree 44 of 300\n"
          ],
          "name": "stdout"
        },
        {
          "output_type": "stream",
          "text": [
            "[Parallel(n_jobs=-1)]: Done  43 tasks      | elapsed:  1.6min\n"
          ],
          "name": "stderr"
        },
        {
          "output_type": "stream",
          "text": [
            "building tree 45 of 300\n"
          ],
          "name": "stdout"
        },
        {
          "output_type": "stream",
          "text": [
            "[Parallel(n_jobs=-1)]: Done  44 tasks      | elapsed:  1.7min\n"
          ],
          "name": "stderr"
        },
        {
          "output_type": "stream",
          "text": [
            "building tree 46 of 300\n",
            "building tree 47 of 300\n"
          ],
          "name": "stdout"
        },
        {
          "output_type": "stream",
          "text": [
            "[Parallel(n_jobs=-1)]: Done  45 tasks      | elapsed:  1.7min\n",
            "[Parallel(n_jobs=-1)]: Done  46 tasks      | elapsed:  1.7min\n"
          ],
          "name": "stderr"
        },
        {
          "output_type": "stream",
          "text": [
            "building tree 48 of 300\n"
          ],
          "name": "stdout"
        },
        {
          "output_type": "stream",
          "text": [
            "[Parallel(n_jobs=-1)]: Done  47 tasks      | elapsed:  1.8min\n"
          ],
          "name": "stderr"
        },
        {
          "output_type": "stream",
          "text": [
            "building tree 49 of 300\n"
          ],
          "name": "stdout"
        },
        {
          "output_type": "stream",
          "text": [
            "[Parallel(n_jobs=-1)]: Done  48 tasks      | elapsed:  1.8min\n"
          ],
          "name": "stderr"
        },
        {
          "output_type": "stream",
          "text": [
            "building tree 50 of 300\n"
          ],
          "name": "stdout"
        },
        {
          "output_type": "stream",
          "text": [
            "[Parallel(n_jobs=-1)]: Done  49 tasks      | elapsed:  1.9min\n"
          ],
          "name": "stderr"
        },
        {
          "output_type": "stream",
          "text": [
            "building tree 51 of 300\n"
          ],
          "name": "stdout"
        },
        {
          "output_type": "stream",
          "text": [
            "[Parallel(n_jobs=-1)]: Done  50 tasks      | elapsed:  1.9min\n"
          ],
          "name": "stderr"
        },
        {
          "output_type": "stream",
          "text": [
            "building tree 52 of 300\n"
          ],
          "name": "stdout"
        },
        {
          "output_type": "stream",
          "text": [
            "[Parallel(n_jobs=-1)]: Done  51 tasks      | elapsed:  1.9min\n"
          ],
          "name": "stderr"
        },
        {
          "output_type": "stream",
          "text": [
            "building tree 53 of 300\n"
          ],
          "name": "stdout"
        },
        {
          "output_type": "stream",
          "text": [
            "[Parallel(n_jobs=-1)]: Done  52 tasks      | elapsed:  2.0min\n"
          ],
          "name": "stderr"
        },
        {
          "output_type": "stream",
          "text": [
            "building tree 54 of 300\n"
          ],
          "name": "stdout"
        },
        {
          "output_type": "stream",
          "text": [
            "[Parallel(n_jobs=-1)]: Done  53 tasks      | elapsed:  2.0min\n"
          ],
          "name": "stderr"
        },
        {
          "output_type": "stream",
          "text": [
            "building tree 55 of 300\n"
          ],
          "name": "stdout"
        },
        {
          "output_type": "stream",
          "text": [
            "[Parallel(n_jobs=-1)]: Done  54 tasks      | elapsed:  2.0min\n"
          ],
          "name": "stderr"
        },
        {
          "output_type": "stream",
          "text": [
            "building tree 56 of 300\n"
          ],
          "name": "stdout"
        },
        {
          "output_type": "stream",
          "text": [
            "[Parallel(n_jobs=-1)]: Done  55 tasks      | elapsed:  2.1min\n"
          ],
          "name": "stderr"
        },
        {
          "output_type": "stream",
          "text": [
            "building tree 57 of 300\n"
          ],
          "name": "stdout"
        },
        {
          "output_type": "stream",
          "text": [
            "[Parallel(n_jobs=-1)]: Done  56 tasks      | elapsed:  2.1min\n"
          ],
          "name": "stderr"
        },
        {
          "output_type": "stream",
          "text": [
            "building tree 58 of 300\n"
          ],
          "name": "stdout"
        },
        {
          "output_type": "stream",
          "text": [
            "[Parallel(n_jobs=-1)]: Done  57 tasks      | elapsed:  2.2min\n"
          ],
          "name": "stderr"
        },
        {
          "output_type": "stream",
          "text": [
            "building tree 59 of 300\n"
          ],
          "name": "stdout"
        },
        {
          "output_type": "stream",
          "text": [
            "[Parallel(n_jobs=-1)]: Done  58 tasks      | elapsed:  2.2min\n"
          ],
          "name": "stderr"
        },
        {
          "output_type": "stream",
          "text": [
            "building tree 60 of 300\n"
          ],
          "name": "stdout"
        },
        {
          "output_type": "stream",
          "text": [
            "[Parallel(n_jobs=-1)]: Done  59 tasks      | elapsed:  2.2min\n"
          ],
          "name": "stderr"
        },
        {
          "output_type": "stream",
          "text": [
            "building tree 61 of 300\n"
          ],
          "name": "stdout"
        },
        {
          "output_type": "stream",
          "text": [
            "[Parallel(n_jobs=-1)]: Done  60 tasks      | elapsed:  2.2min\n"
          ],
          "name": "stderr"
        },
        {
          "output_type": "stream",
          "text": [
            "building tree 62 of 300\n"
          ],
          "name": "stdout"
        },
        {
          "output_type": "stream",
          "text": [
            "[Parallel(n_jobs=-1)]: Done  61 tasks      | elapsed:  2.3min\n"
          ],
          "name": "stderr"
        },
        {
          "output_type": "stream",
          "text": [
            "building tree 63 of 300\n"
          ],
          "name": "stdout"
        },
        {
          "output_type": "stream",
          "text": [
            "[Parallel(n_jobs=-1)]: Done  62 tasks      | elapsed:  2.3min\n"
          ],
          "name": "stderr"
        },
        {
          "output_type": "stream",
          "text": [
            "building tree 64 of 300\n"
          ],
          "name": "stdout"
        },
        {
          "output_type": "stream",
          "text": [
            "[Parallel(n_jobs=-1)]: Done  63 tasks      | elapsed:  2.4min\n"
          ],
          "name": "stderr"
        },
        {
          "output_type": "stream",
          "text": [
            "building tree 65 of 300\n"
          ],
          "name": "stdout"
        },
        {
          "output_type": "stream",
          "text": [
            "[Parallel(n_jobs=-1)]: Done  64 tasks      | elapsed:  2.4min\n"
          ],
          "name": "stderr"
        },
        {
          "output_type": "stream",
          "text": [
            "building tree 66 of 300\n"
          ],
          "name": "stdout"
        },
        {
          "output_type": "stream",
          "text": [
            "[Parallel(n_jobs=-1)]: Done  65 tasks      | elapsed:  2.4min\n"
          ],
          "name": "stderr"
        },
        {
          "output_type": "stream",
          "text": [
            "building tree 67 of 300\n"
          ],
          "name": "stdout"
        },
        {
          "output_type": "stream",
          "text": [
            "[Parallel(n_jobs=-1)]: Done  66 tasks      | elapsed:  2.5min\n"
          ],
          "name": "stderr"
        },
        {
          "output_type": "stream",
          "text": [
            "building tree 68 of 300\n"
          ],
          "name": "stdout"
        },
        {
          "output_type": "stream",
          "text": [
            "[Parallel(n_jobs=-1)]: Done  67 tasks      | elapsed:  2.5min\n"
          ],
          "name": "stderr"
        },
        {
          "output_type": "stream",
          "text": [
            "building tree 69 of 300\n"
          ],
          "name": "stdout"
        },
        {
          "output_type": "stream",
          "text": [
            "[Parallel(n_jobs=-1)]: Done  68 tasks      | elapsed:  2.5min\n"
          ],
          "name": "stderr"
        },
        {
          "output_type": "stream",
          "text": [
            "building tree 70 of 300\n"
          ],
          "name": "stdout"
        },
        {
          "output_type": "stream",
          "text": [
            "[Parallel(n_jobs=-1)]: Done  69 tasks      | elapsed:  2.6min\n"
          ],
          "name": "stderr"
        },
        {
          "output_type": "stream",
          "text": [
            "building tree 71 of 300\n"
          ],
          "name": "stdout"
        },
        {
          "output_type": "stream",
          "text": [
            "[Parallel(n_jobs=-1)]: Done  70 tasks      | elapsed:  2.6min\n"
          ],
          "name": "stderr"
        },
        {
          "output_type": "stream",
          "text": [
            "building tree 72 of 300\n"
          ],
          "name": "stdout"
        },
        {
          "output_type": "stream",
          "text": [
            "[Parallel(n_jobs=-1)]: Done  71 tasks      | elapsed:  2.7min\n"
          ],
          "name": "stderr"
        },
        {
          "output_type": "stream",
          "text": [
            "building tree 73 of 300\n"
          ],
          "name": "stdout"
        },
        {
          "output_type": "stream",
          "text": [
            "[Parallel(n_jobs=-1)]: Done  72 tasks      | elapsed:  2.7min\n"
          ],
          "name": "stderr"
        },
        {
          "output_type": "stream",
          "text": [
            "building tree 74 of 300\n"
          ],
          "name": "stdout"
        },
        {
          "output_type": "stream",
          "text": [
            "[Parallel(n_jobs=-1)]: Done  73 tasks      | elapsed:  2.7min\n"
          ],
          "name": "stderr"
        },
        {
          "output_type": "stream",
          "text": [
            "building tree 75 of 300\n"
          ],
          "name": "stdout"
        },
        {
          "output_type": "stream",
          "text": [
            "[Parallel(n_jobs=-1)]: Done  74 tasks      | elapsed:  2.8min\n"
          ],
          "name": "stderr"
        },
        {
          "output_type": "stream",
          "text": [
            "building tree 76 of 300\n"
          ],
          "name": "stdout"
        },
        {
          "output_type": "stream",
          "text": [
            "[Parallel(n_jobs=-1)]: Done  75 tasks      | elapsed:  2.8min\n"
          ],
          "name": "stderr"
        },
        {
          "output_type": "stream",
          "text": [
            "building tree 77 of 300\n"
          ],
          "name": "stdout"
        },
        {
          "output_type": "stream",
          "text": [
            "[Parallel(n_jobs=-1)]: Done  76 tasks      | elapsed:  2.8min\n"
          ],
          "name": "stderr"
        },
        {
          "output_type": "stream",
          "text": [
            "building tree 78 of 300\n"
          ],
          "name": "stdout"
        },
        {
          "output_type": "stream",
          "text": [
            "[Parallel(n_jobs=-1)]: Done  77 tasks      | elapsed:  2.9min\n"
          ],
          "name": "stderr"
        },
        {
          "output_type": "stream",
          "text": [
            "building tree 79 of 300\n"
          ],
          "name": "stdout"
        },
        {
          "output_type": "stream",
          "text": [
            "[Parallel(n_jobs=-1)]: Done  78 tasks      | elapsed:  2.9min\n"
          ],
          "name": "stderr"
        },
        {
          "output_type": "stream",
          "text": [
            "building tree 80 of 300\n"
          ],
          "name": "stdout"
        },
        {
          "output_type": "stream",
          "text": [
            "[Parallel(n_jobs=-1)]: Done  79 tasks      | elapsed:  3.0min\n"
          ],
          "name": "stderr"
        },
        {
          "output_type": "stream",
          "text": [
            "building tree 81 of 300\n"
          ],
          "name": "stdout"
        },
        {
          "output_type": "stream",
          "text": [
            "[Parallel(n_jobs=-1)]: Done  80 tasks      | elapsed:  3.0min\n"
          ],
          "name": "stderr"
        },
        {
          "output_type": "stream",
          "text": [
            "building tree 82 of 300\n"
          ],
          "name": "stdout"
        },
        {
          "output_type": "stream",
          "text": [
            "[Parallel(n_jobs=-1)]: Done  81 tasks      | elapsed:  3.1min\n",
            "[Parallel(n_jobs=-1)]: Done  82 tasks      | elapsed:  3.1min\n"
          ],
          "name": "stderr"
        },
        {
          "output_type": "stream",
          "text": [
            "building tree 83 of 300\n",
            "building tree 84 of 300\n"
          ],
          "name": "stdout"
        },
        {
          "output_type": "stream",
          "text": [
            "[Parallel(n_jobs=-1)]: Done  83 tasks      | elapsed:  3.1min\n"
          ],
          "name": "stderr"
        },
        {
          "output_type": "stream",
          "text": [
            "building tree 85 of 300\n"
          ],
          "name": "stdout"
        },
        {
          "output_type": "stream",
          "text": [
            "[Parallel(n_jobs=-1)]: Done  84 tasks      | elapsed:  3.1min\n"
          ],
          "name": "stderr"
        },
        {
          "output_type": "stream",
          "text": [
            "building tree 86 of 300\n"
          ],
          "name": "stdout"
        },
        {
          "output_type": "stream",
          "text": [
            "[Parallel(n_jobs=-1)]: Done  85 tasks      | elapsed:  3.2min\n"
          ],
          "name": "stderr"
        },
        {
          "output_type": "stream",
          "text": [
            "building tree 87 of 300\n"
          ],
          "name": "stdout"
        },
        {
          "output_type": "stream",
          "text": [
            "[Parallel(n_jobs=-1)]: Done  86 tasks      | elapsed:  3.2min\n"
          ],
          "name": "stderr"
        },
        {
          "output_type": "stream",
          "text": [
            "building tree 88 of 300\n"
          ],
          "name": "stdout"
        },
        {
          "output_type": "stream",
          "text": [
            "[Parallel(n_jobs=-1)]: Done  87 tasks      | elapsed:  3.3min\n"
          ],
          "name": "stderr"
        },
        {
          "output_type": "stream",
          "text": [
            "building tree 89 of 300\n"
          ],
          "name": "stdout"
        },
        {
          "output_type": "stream",
          "text": [
            "[Parallel(n_jobs=-1)]: Done  88 tasks      | elapsed:  3.3min\n"
          ],
          "name": "stderr"
        },
        {
          "output_type": "stream",
          "text": [
            "building tree 90 of 300\n"
          ],
          "name": "stdout"
        },
        {
          "output_type": "stream",
          "text": [
            "[Parallel(n_jobs=-1)]: Done  89 tasks      | elapsed:  3.3min\n"
          ],
          "name": "stderr"
        },
        {
          "output_type": "stream",
          "text": [
            "building tree 91 of 300\n"
          ],
          "name": "stdout"
        },
        {
          "output_type": "stream",
          "text": [
            "[Parallel(n_jobs=-1)]: Done  90 tasks      | elapsed:  3.4min\n"
          ],
          "name": "stderr"
        },
        {
          "output_type": "stream",
          "text": [
            "building tree 92 of 300\n"
          ],
          "name": "stdout"
        },
        {
          "output_type": "stream",
          "text": [
            "[Parallel(n_jobs=-1)]: Done  91 tasks      | elapsed:  3.4min\n"
          ],
          "name": "stderr"
        },
        {
          "output_type": "stream",
          "text": [
            "building tree 93 of 300\n"
          ],
          "name": "stdout"
        },
        {
          "output_type": "stream",
          "text": [
            "[Parallel(n_jobs=-1)]: Done  92 tasks      | elapsed:  3.4min\n"
          ],
          "name": "stderr"
        },
        {
          "output_type": "stream",
          "text": [
            "building tree 94 of 300\n"
          ],
          "name": "stdout"
        },
        {
          "output_type": "stream",
          "text": [
            "[Parallel(n_jobs=-1)]: Done  93 tasks      | elapsed:  3.5min\n"
          ],
          "name": "stderr"
        },
        {
          "output_type": "stream",
          "text": [
            "building tree 95 of 300\n"
          ],
          "name": "stdout"
        },
        {
          "output_type": "stream",
          "text": [
            "[Parallel(n_jobs=-1)]: Done  94 tasks      | elapsed:  3.5min\n"
          ],
          "name": "stderr"
        },
        {
          "output_type": "stream",
          "text": [
            "building tree 96 of 300\n"
          ],
          "name": "stdout"
        },
        {
          "output_type": "stream",
          "text": [
            "[Parallel(n_jobs=-1)]: Done  95 tasks      | elapsed:  3.6min\n"
          ],
          "name": "stderr"
        },
        {
          "output_type": "stream",
          "text": [
            "building tree 97 of 300\n"
          ],
          "name": "stdout"
        },
        {
          "output_type": "stream",
          "text": [
            "[Parallel(n_jobs=-1)]: Done  96 tasks      | elapsed:  3.6min\n"
          ],
          "name": "stderr"
        },
        {
          "output_type": "stream",
          "text": [
            "building tree 98 of 300\n"
          ],
          "name": "stdout"
        },
        {
          "output_type": "stream",
          "text": [
            "[Parallel(n_jobs=-1)]: Done  97 tasks      | elapsed:  3.6min\n"
          ],
          "name": "stderr"
        },
        {
          "output_type": "stream",
          "text": [
            "building tree 99 of 300\n"
          ],
          "name": "stdout"
        },
        {
          "output_type": "stream",
          "text": [
            "[Parallel(n_jobs=-1)]: Done  98 tasks      | elapsed:  3.7min\n"
          ],
          "name": "stderr"
        },
        {
          "output_type": "stream",
          "text": [
            "building tree 100 of 300\n"
          ],
          "name": "stdout"
        },
        {
          "output_type": "stream",
          "text": [
            "[Parallel(n_jobs=-1)]: Done  99 tasks      | elapsed:  3.7min\n"
          ],
          "name": "stderr"
        },
        {
          "output_type": "stream",
          "text": [
            "building tree 101 of 300\n"
          ],
          "name": "stdout"
        },
        {
          "output_type": "stream",
          "text": [
            "[Parallel(n_jobs=-1)]: Done 100 tasks      | elapsed:  3.7min\n"
          ],
          "name": "stderr"
        },
        {
          "output_type": "stream",
          "text": [
            "building tree 102 of 300\n"
          ],
          "name": "stdout"
        },
        {
          "output_type": "stream",
          "text": [
            "[Parallel(n_jobs=-1)]: Done 101 tasks      | elapsed:  3.8min\n"
          ],
          "name": "stderr"
        },
        {
          "output_type": "stream",
          "text": [
            "building tree 103 of 300\n"
          ],
          "name": "stdout"
        },
        {
          "output_type": "stream",
          "text": [
            "[Parallel(n_jobs=-1)]: Done 102 tasks      | elapsed:  3.8min\n"
          ],
          "name": "stderr"
        },
        {
          "output_type": "stream",
          "text": [
            "building tree 104 of 300\n"
          ],
          "name": "stdout"
        },
        {
          "output_type": "stream",
          "text": [
            "[Parallel(n_jobs=-1)]: Done 103 tasks      | elapsed:  3.9min\n"
          ],
          "name": "stderr"
        },
        {
          "output_type": "stream",
          "text": [
            "building tree 105 of 300\n"
          ],
          "name": "stdout"
        },
        {
          "output_type": "stream",
          "text": [
            "[Parallel(n_jobs=-1)]: Done 104 tasks      | elapsed:  3.9min\n"
          ],
          "name": "stderr"
        },
        {
          "output_type": "stream",
          "text": [
            "building tree 106 of 300\n"
          ],
          "name": "stdout"
        },
        {
          "output_type": "stream",
          "text": [
            "[Parallel(n_jobs=-1)]: Done 105 tasks      | elapsed:  4.0min\n"
          ],
          "name": "stderr"
        },
        {
          "output_type": "stream",
          "text": [
            "building tree 107 of 300\n"
          ],
          "name": "stdout"
        },
        {
          "output_type": "stream",
          "text": [
            "[Parallel(n_jobs=-1)]: Done 106 tasks      | elapsed:  4.0min\n"
          ],
          "name": "stderr"
        },
        {
          "output_type": "stream",
          "text": [
            "building tree 108 of 300\n"
          ],
          "name": "stdout"
        },
        {
          "output_type": "stream",
          "text": [
            "[Parallel(n_jobs=-1)]: Done 107 tasks      | elapsed:  4.0min\n",
            "[Parallel(n_jobs=-1)]: Done 108 tasks      | elapsed:  4.0min\n"
          ],
          "name": "stderr"
        },
        {
          "output_type": "stream",
          "text": [
            "building tree 109 of 300\n",
            "building tree 110 of 300\n"
          ],
          "name": "stdout"
        },
        {
          "output_type": "stream",
          "text": [
            "[Parallel(n_jobs=-1)]: Done 109 tasks      | elapsed:  4.1min\n"
          ],
          "name": "stderr"
        },
        {
          "output_type": "stream",
          "text": [
            "building tree 111 of 300\n"
          ],
          "name": "stdout"
        },
        {
          "output_type": "stream",
          "text": [
            "[Parallel(n_jobs=-1)]: Done 110 tasks      | elapsed:  4.1min\n"
          ],
          "name": "stderr"
        },
        {
          "output_type": "stream",
          "text": [
            "building tree 112 of 300\n"
          ],
          "name": "stdout"
        },
        {
          "output_type": "stream",
          "text": [
            "[Parallel(n_jobs=-1)]: Done 111 tasks      | elapsed:  4.2min\n",
            "[Parallel(n_jobs=-1)]: Done 112 tasks      | elapsed:  4.2min\n"
          ],
          "name": "stderr"
        },
        {
          "output_type": "stream",
          "text": [
            "building tree 113 of 300\n",
            "building tree 114 of 300\n"
          ],
          "name": "stdout"
        },
        {
          "output_type": "stream",
          "text": [
            "[Parallel(n_jobs=-1)]: Done 113 tasks      | elapsed:  4.2min\n",
            "[Parallel(n_jobs=-1)]: Done 114 tasks      | elapsed:  4.2min\n"
          ],
          "name": "stderr"
        },
        {
          "output_type": "stream",
          "text": [
            "building tree 115 of 300\n",
            "building tree 116 of 300\n"
          ],
          "name": "stdout"
        },
        {
          "output_type": "stream",
          "text": [
            "[Parallel(n_jobs=-1)]: Done 115 tasks      | elapsed:  4.3min\n"
          ],
          "name": "stderr"
        },
        {
          "output_type": "stream",
          "text": [
            "building tree 117 of 300\n"
          ],
          "name": "stdout"
        },
        {
          "output_type": "stream",
          "text": [
            "[Parallel(n_jobs=-1)]: Done 116 tasks      | elapsed:  4.3min\n"
          ],
          "name": "stderr"
        },
        {
          "output_type": "stream",
          "text": [
            "building tree 118 of 300\n"
          ],
          "name": "stdout"
        },
        {
          "output_type": "stream",
          "text": [
            "[Parallel(n_jobs=-1)]: Done 117 tasks      | elapsed:  4.4min\n"
          ],
          "name": "stderr"
        },
        {
          "output_type": "stream",
          "text": [
            "building tree 119 of 300\n"
          ],
          "name": "stdout"
        },
        {
          "output_type": "stream",
          "text": [
            "[Parallel(n_jobs=-1)]: Done 118 tasks      | elapsed:  4.4min\n"
          ],
          "name": "stderr"
        },
        {
          "output_type": "stream",
          "text": [
            "building tree 120 of 300\n"
          ],
          "name": "stdout"
        },
        {
          "output_type": "stream",
          "text": [
            "[Parallel(n_jobs=-1)]: Done 119 tasks      | elapsed:  4.5min\n",
            "[Parallel(n_jobs=-1)]: Done 120 tasks      | elapsed:  4.5min\n"
          ],
          "name": "stderr"
        },
        {
          "output_type": "stream",
          "text": [
            "building tree 121 of 300\n",
            "building tree 122 of 300\n"
          ],
          "name": "stdout"
        },
        {
          "output_type": "stream",
          "text": [
            "[Parallel(n_jobs=-1)]: Done 121 tasks      | elapsed:  4.5min\n",
            "[Parallel(n_jobs=-1)]: Done 122 tasks      | elapsed:  4.5min\n"
          ],
          "name": "stderr"
        },
        {
          "output_type": "stream",
          "text": [
            "building tree 123 of 300\n",
            "building tree 124 of 300\n"
          ],
          "name": "stdout"
        },
        {
          "output_type": "stream",
          "text": [
            "[Parallel(n_jobs=-1)]: Done 123 tasks      | elapsed:  4.6min\n"
          ],
          "name": "stderr"
        },
        {
          "output_type": "stream",
          "text": [
            "building tree 125 of 300\n"
          ],
          "name": "stdout"
        },
        {
          "output_type": "stream",
          "text": [
            "[Parallel(n_jobs=-1)]: Done 124 tasks      | elapsed:  4.6min\n"
          ],
          "name": "stderr"
        },
        {
          "output_type": "stream",
          "text": [
            "building tree 126 of 300\n"
          ],
          "name": "stdout"
        },
        {
          "output_type": "stream",
          "text": [
            "[Parallel(n_jobs=-1)]: Done 125 tasks      | elapsed:  4.7min\n",
            "[Parallel(n_jobs=-1)]: Done 126 tasks      | elapsed:  4.7min\n"
          ],
          "name": "stderr"
        },
        {
          "output_type": "stream",
          "text": [
            "building tree 127 of 300\n",
            "building tree 128 of 300\n"
          ],
          "name": "stdout"
        },
        {
          "output_type": "stream",
          "text": [
            "[Parallel(n_jobs=-1)]: Done 127 tasks      | elapsed:  4.8min\n"
          ],
          "name": "stderr"
        },
        {
          "output_type": "stream",
          "text": [
            "building tree 129 of 300\n",
            "building tree 130 of 300\n"
          ],
          "name": "stdout"
        },
        {
          "output_type": "stream",
          "text": [
            "[Parallel(n_jobs=-1)]: Done 128 tasks      | elapsed:  4.8min\n",
            "[Parallel(n_jobs=-1)]: Done 129 tasks      | elapsed:  4.8min\n"
          ],
          "name": "stderr"
        },
        {
          "output_type": "stream",
          "text": [
            "building tree 131 of 300\n"
          ],
          "name": "stdout"
        },
        {
          "output_type": "stream",
          "text": [
            "[Parallel(n_jobs=-1)]: Done 130 tasks      | elapsed:  4.8min\n"
          ],
          "name": "stderr"
        },
        {
          "output_type": "stream",
          "text": [
            "building tree 132 of 300\n"
          ],
          "name": "stdout"
        },
        {
          "output_type": "stream",
          "text": [
            "[Parallel(n_jobs=-1)]: Done 131 tasks      | elapsed:  4.9min\n",
            "[Parallel(n_jobs=-1)]: Done 132 tasks      | elapsed:  4.9min\n"
          ],
          "name": "stderr"
        },
        {
          "output_type": "stream",
          "text": [
            "building tree 133 of 300\n",
            "building tree 134 of 300\n"
          ],
          "name": "stdout"
        },
        {
          "output_type": "stream",
          "text": [
            "[Parallel(n_jobs=-1)]: Done 133 tasks      | elapsed:  5.0min\n"
          ],
          "name": "stderr"
        },
        {
          "output_type": "stream",
          "text": [
            "building tree 135 of 300\n",
            "building tree 136 of 300\n"
          ],
          "name": "stdout"
        },
        {
          "output_type": "stream",
          "text": [
            "[Parallel(n_jobs=-1)]: Done 134 tasks      | elapsed:  5.0min\n",
            "[Parallel(n_jobs=-1)]: Done 135 tasks      | elapsed:  5.0min\n"
          ],
          "name": "stderr"
        },
        {
          "output_type": "stream",
          "text": [
            "building tree 137 of 300\n"
          ],
          "name": "stdout"
        },
        {
          "output_type": "stream",
          "text": [
            "[Parallel(n_jobs=-1)]: Done 136 tasks      | elapsed:  5.1min\n"
          ],
          "name": "stderr"
        },
        {
          "output_type": "stream",
          "text": [
            "building tree 138 of 300\n"
          ],
          "name": "stdout"
        },
        {
          "output_type": "stream",
          "text": [
            "[Parallel(n_jobs=-1)]: Done 137 tasks      | elapsed:  5.1min\n"
          ],
          "name": "stderr"
        },
        {
          "output_type": "stream",
          "text": [
            "building tree 139 of 300\n"
          ],
          "name": "stdout"
        },
        {
          "output_type": "stream",
          "text": [
            "[Parallel(n_jobs=-1)]: Done 138 tasks      | elapsed:  5.1min\n"
          ],
          "name": "stderr"
        },
        {
          "output_type": "stream",
          "text": [
            "building tree 140 of 300\n"
          ],
          "name": "stdout"
        },
        {
          "output_type": "stream",
          "text": [
            "[Parallel(n_jobs=-1)]: Done 139 tasks      | elapsed:  5.2min\n"
          ],
          "name": "stderr"
        },
        {
          "output_type": "stream",
          "text": [
            "building tree 141 of 300\n"
          ],
          "name": "stdout"
        },
        {
          "output_type": "stream",
          "text": [
            "[Parallel(n_jobs=-1)]: Done 140 tasks      | elapsed:  5.2min\n"
          ],
          "name": "stderr"
        },
        {
          "output_type": "stream",
          "text": [
            "building tree 142 of 300\n"
          ],
          "name": "stdout"
        },
        {
          "output_type": "stream",
          "text": [
            "[Parallel(n_jobs=-1)]: Done 141 tasks      | elapsed:  5.3min\n"
          ],
          "name": "stderr"
        },
        {
          "output_type": "stream",
          "text": [
            "building tree 143 of 300\n"
          ],
          "name": "stdout"
        },
        {
          "output_type": "stream",
          "text": [
            "[Parallel(n_jobs=-1)]: Done 142 tasks      | elapsed:  5.3min\n"
          ],
          "name": "stderr"
        },
        {
          "output_type": "stream",
          "text": [
            "building tree 144 of 300\n"
          ],
          "name": "stdout"
        },
        {
          "output_type": "stream",
          "text": [
            "[Parallel(n_jobs=-1)]: Done 143 tasks      | elapsed:  5.3min\n"
          ],
          "name": "stderr"
        },
        {
          "output_type": "stream",
          "text": [
            "building tree 145 of 300\n"
          ],
          "name": "stdout"
        },
        {
          "output_type": "stream",
          "text": [
            "[Parallel(n_jobs=-1)]: Done 144 tasks      | elapsed:  5.4min\n"
          ],
          "name": "stderr"
        },
        {
          "output_type": "stream",
          "text": [
            "building tree 146 of 300\n"
          ],
          "name": "stdout"
        },
        {
          "output_type": "stream",
          "text": [
            "[Parallel(n_jobs=-1)]: Done 145 tasks      | elapsed:  5.4min\n"
          ],
          "name": "stderr"
        },
        {
          "output_type": "stream",
          "text": [
            "building tree 147 of 300\n"
          ],
          "name": "stdout"
        },
        {
          "output_type": "stream",
          "text": [
            "[Parallel(n_jobs=-1)]: Done 146 tasks      | elapsed:  5.5min\n"
          ],
          "name": "stderr"
        },
        {
          "output_type": "stream",
          "text": [
            "building tree 148 of 300\n"
          ],
          "name": "stdout"
        },
        {
          "output_type": "stream",
          "text": [
            "[Parallel(n_jobs=-1)]: Done 147 tasks      | elapsed:  5.5min\n"
          ],
          "name": "stderr"
        },
        {
          "output_type": "stream",
          "text": [
            "building tree 149 of 300\n"
          ],
          "name": "stdout"
        },
        {
          "output_type": "stream",
          "text": [
            "[Parallel(n_jobs=-1)]: Done 148 tasks      | elapsed:  5.5min\n"
          ],
          "name": "stderr"
        },
        {
          "output_type": "stream",
          "text": [
            "building tree 150 of 300\n"
          ],
          "name": "stdout"
        },
        {
          "output_type": "stream",
          "text": [
            "[Parallel(n_jobs=-1)]: Done 149 tasks      | elapsed:  5.6min\n"
          ],
          "name": "stderr"
        },
        {
          "output_type": "stream",
          "text": [
            "building tree 151 of 300\n"
          ],
          "name": "stdout"
        },
        {
          "output_type": "stream",
          "text": [
            "[Parallel(n_jobs=-1)]: Done 150 tasks      | elapsed:  5.6min\n"
          ],
          "name": "stderr"
        },
        {
          "output_type": "stream",
          "text": [
            "building tree 152 of 300\n"
          ],
          "name": "stdout"
        },
        {
          "output_type": "stream",
          "text": [
            "[Parallel(n_jobs=-1)]: Done 151 tasks      | elapsed:  5.6min\n"
          ],
          "name": "stderr"
        },
        {
          "output_type": "stream",
          "text": [
            "building tree 153 of 300\n"
          ],
          "name": "stdout"
        },
        {
          "output_type": "stream",
          "text": [
            "[Parallel(n_jobs=-1)]: Done 152 tasks      | elapsed:  5.7min\n"
          ],
          "name": "stderr"
        },
        {
          "output_type": "stream",
          "text": [
            "building tree 154 of 300\n"
          ],
          "name": "stdout"
        },
        {
          "output_type": "stream",
          "text": [
            "[Parallel(n_jobs=-1)]: Done 153 tasks      | elapsed:  5.7min\n"
          ],
          "name": "stderr"
        },
        {
          "output_type": "stream",
          "text": [
            "building tree 155 of 300\n"
          ],
          "name": "stdout"
        },
        {
          "output_type": "stream",
          "text": [
            "[Parallel(n_jobs=-1)]: Done 154 tasks      | elapsed:  5.8min\n"
          ],
          "name": "stderr"
        },
        {
          "output_type": "stream",
          "text": [
            "building tree 156 of 300\n"
          ],
          "name": "stdout"
        },
        {
          "output_type": "stream",
          "text": [
            "[Parallel(n_jobs=-1)]: Done 155 tasks      | elapsed:  5.8min\n"
          ],
          "name": "stderr"
        },
        {
          "output_type": "stream",
          "text": [
            "building tree 157 of 300\n"
          ],
          "name": "stdout"
        },
        {
          "output_type": "stream",
          "text": [
            "[Parallel(n_jobs=-1)]: Done 156 tasks      | elapsed:  5.8min\n"
          ],
          "name": "stderr"
        },
        {
          "output_type": "stream",
          "text": [
            "building tree 158 of 300\n"
          ],
          "name": "stdout"
        },
        {
          "output_type": "stream",
          "text": [
            "[Parallel(n_jobs=-1)]: Done 157 tasks      | elapsed:  5.9min\n"
          ],
          "name": "stderr"
        },
        {
          "output_type": "stream",
          "text": [
            "building tree 159 of 300\n",
            "building tree 160 of 300\n"
          ],
          "name": "stdout"
        },
        {
          "output_type": "stream",
          "text": [
            "[Parallel(n_jobs=-1)]: Done 158 tasks      | elapsed:  5.9min\n",
            "[Parallel(n_jobs=-1)]: Done 159 tasks      | elapsed:  6.0min\n"
          ],
          "name": "stderr"
        },
        {
          "output_type": "stream",
          "text": [
            "building tree 161 of 300\n",
            "building tree 162 of 300\n"
          ],
          "name": "stdout"
        },
        {
          "output_type": "stream",
          "text": [
            "[Parallel(n_jobs=-1)]: Done 160 tasks      | elapsed:  6.0min\n",
            "[Parallel(n_jobs=-1)]: Done 161 tasks      | elapsed:  6.0min\n"
          ],
          "name": "stderr"
        },
        {
          "output_type": "stream",
          "text": [
            "building tree 163 of 300\n"
          ],
          "name": "stdout"
        },
        {
          "output_type": "stream",
          "text": [
            "[Parallel(n_jobs=-1)]: Done 162 tasks      | elapsed:  6.1min\n"
          ],
          "name": "stderr"
        },
        {
          "output_type": "stream",
          "text": [
            "building tree 164 of 300\n"
          ],
          "name": "stdout"
        },
        {
          "output_type": "stream",
          "text": [
            "[Parallel(n_jobs=-1)]: Done 163 tasks      | elapsed:  6.1min\n"
          ],
          "name": "stderr"
        },
        {
          "output_type": "stream",
          "text": [
            "building tree 165 of 300\n"
          ],
          "name": "stdout"
        },
        {
          "output_type": "stream",
          "text": [
            "[Parallel(n_jobs=-1)]: Done 164 tasks      | elapsed:  6.1min\n"
          ],
          "name": "stderr"
        },
        {
          "output_type": "stream",
          "text": [
            "building tree 166 of 300\n"
          ],
          "name": "stdout"
        },
        {
          "output_type": "stream",
          "text": [
            "[Parallel(n_jobs=-1)]: Done 165 tasks      | elapsed:  6.2min\n"
          ],
          "name": "stderr"
        },
        {
          "output_type": "stream",
          "text": [
            "building tree 167 of 300\n"
          ],
          "name": "stdout"
        },
        {
          "output_type": "stream",
          "text": [
            "[Parallel(n_jobs=-1)]: Done 166 tasks      | elapsed:  6.2min\n"
          ],
          "name": "stderr"
        },
        {
          "output_type": "stream",
          "text": [
            "building tree 168 of 300\n",
            "building tree 169 of 300\n"
          ],
          "name": "stdout"
        },
        {
          "output_type": "stream",
          "text": [
            "[Parallel(n_jobs=-1)]: Done 167 tasks      | elapsed:  6.3min\n",
            "[Parallel(n_jobs=-1)]: Done 168 tasks      | elapsed:  6.3min\n"
          ],
          "name": "stderr"
        },
        {
          "output_type": "stream",
          "text": [
            "building tree 170 of 300\n"
          ],
          "name": "stdout"
        },
        {
          "output_type": "stream",
          "text": [
            "[Parallel(n_jobs=-1)]: Done 169 tasks      | elapsed:  6.3min\n"
          ],
          "name": "stderr"
        },
        {
          "output_type": "stream",
          "text": [
            "building tree 171 of 300\n"
          ],
          "name": "stdout"
        },
        {
          "output_type": "stream",
          "text": [
            "[Parallel(n_jobs=-1)]: Done 170 tasks      | elapsed:  6.4min\n"
          ],
          "name": "stderr"
        },
        {
          "output_type": "stream",
          "text": [
            "building tree 172 of 300\n"
          ],
          "name": "stdout"
        },
        {
          "output_type": "stream",
          "text": [
            "[Parallel(n_jobs=-1)]: Done 171 tasks      | elapsed:  6.4min\n"
          ],
          "name": "stderr"
        },
        {
          "output_type": "stream",
          "text": [
            "building tree 173 of 300\n"
          ],
          "name": "stdout"
        },
        {
          "output_type": "stream",
          "text": [
            "[Parallel(n_jobs=-1)]: Done 172 tasks      | elapsed:  6.4min\n"
          ],
          "name": "stderr"
        },
        {
          "output_type": "stream",
          "text": [
            "building tree 174 of 300\n"
          ],
          "name": "stdout"
        },
        {
          "output_type": "stream",
          "text": [
            "[Parallel(n_jobs=-1)]: Done 173 tasks      | elapsed:  6.5min\n"
          ],
          "name": "stderr"
        },
        {
          "output_type": "stream",
          "text": [
            "building tree 175 of 300\n"
          ],
          "name": "stdout"
        },
        {
          "output_type": "stream",
          "text": [
            "[Parallel(n_jobs=-1)]: Done 174 tasks      | elapsed:  6.5min\n"
          ],
          "name": "stderr"
        },
        {
          "output_type": "stream",
          "text": [
            "building tree 176 of 300\n"
          ],
          "name": "stdout"
        },
        {
          "output_type": "stream",
          "text": [
            "[Parallel(n_jobs=-1)]: Done 175 tasks      | elapsed:  6.5min\n"
          ],
          "name": "stderr"
        },
        {
          "output_type": "stream",
          "text": [
            "building tree 177 of 300\n"
          ],
          "name": "stdout"
        },
        {
          "output_type": "stream",
          "text": [
            "[Parallel(n_jobs=-1)]: Done 176 tasks      | elapsed:  6.6min\n"
          ],
          "name": "stderr"
        },
        {
          "output_type": "stream",
          "text": [
            "building tree 178 of 300\n"
          ],
          "name": "stdout"
        },
        {
          "output_type": "stream",
          "text": [
            "[Parallel(n_jobs=-1)]: Done 177 tasks      | elapsed:  6.6min\n"
          ],
          "name": "stderr"
        },
        {
          "output_type": "stream",
          "text": [
            "building tree 179 of 300\n"
          ],
          "name": "stdout"
        },
        {
          "output_type": "stream",
          "text": [
            "[Parallel(n_jobs=-1)]: Done 178 tasks      | elapsed:  6.7min\n"
          ],
          "name": "stderr"
        },
        {
          "output_type": "stream",
          "text": [
            "building tree 180 of 300\n"
          ],
          "name": "stdout"
        },
        {
          "output_type": "stream",
          "text": [
            "[Parallel(n_jobs=-1)]: Done 179 tasks      | elapsed:  6.7min\n"
          ],
          "name": "stderr"
        },
        {
          "output_type": "stream",
          "text": [
            "building tree 181 of 300\n"
          ],
          "name": "stdout"
        },
        {
          "output_type": "stream",
          "text": [
            "[Parallel(n_jobs=-1)]: Done 180 tasks      | elapsed:  6.7min\n"
          ],
          "name": "stderr"
        },
        {
          "output_type": "stream",
          "text": [
            "building tree 182 of 300\n"
          ],
          "name": "stdout"
        },
        {
          "output_type": "stream",
          "text": [
            "[Parallel(n_jobs=-1)]: Done 181 tasks      | elapsed:  6.8min\n"
          ],
          "name": "stderr"
        },
        {
          "output_type": "stream",
          "text": [
            "building tree 183 of 300\n"
          ],
          "name": "stdout"
        },
        {
          "output_type": "stream",
          "text": [
            "[Parallel(n_jobs=-1)]: Done 182 tasks      | elapsed:  6.8min\n"
          ],
          "name": "stderr"
        },
        {
          "output_type": "stream",
          "text": [
            "building tree 184 of 300\n"
          ],
          "name": "stdout"
        },
        {
          "output_type": "stream",
          "text": [
            "[Parallel(n_jobs=-1)]: Done 183 tasks      | elapsed:  6.8min\n"
          ],
          "name": "stderr"
        },
        {
          "output_type": "stream",
          "text": [
            "building tree 185 of 300\n"
          ],
          "name": "stdout"
        },
        {
          "output_type": "stream",
          "text": [
            "[Parallel(n_jobs=-1)]: Done 184 tasks      | elapsed:  6.9min\n"
          ],
          "name": "stderr"
        },
        {
          "output_type": "stream",
          "text": [
            "building tree 186 of 300\n"
          ],
          "name": "stdout"
        },
        {
          "output_type": "stream",
          "text": [
            "[Parallel(n_jobs=-1)]: Done 185 tasks      | elapsed:  6.9min\n"
          ],
          "name": "stderr"
        },
        {
          "output_type": "stream",
          "text": [
            "building tree 187 of 300\n"
          ],
          "name": "stdout"
        },
        {
          "output_type": "stream",
          "text": [
            "[Parallel(n_jobs=-1)]: Done 186 tasks      | elapsed:  7.0min\n"
          ],
          "name": "stderr"
        },
        {
          "output_type": "stream",
          "text": [
            "building tree 188 of 300\n"
          ],
          "name": "stdout"
        },
        {
          "output_type": "stream",
          "text": [
            "[Parallel(n_jobs=-1)]: Done 187 tasks      | elapsed:  7.0min\n"
          ],
          "name": "stderr"
        },
        {
          "output_type": "stream",
          "text": [
            "building tree 189 of 300\n",
            "building tree 190 of 300\n"
          ],
          "name": "stdout"
        },
        {
          "output_type": "stream",
          "text": [
            "[Parallel(n_jobs=-1)]: Done 188 tasks      | elapsed:  7.0min\n",
            "[Parallel(n_jobs=-1)]: Done 189 tasks      | elapsed:  7.1min\n"
          ],
          "name": "stderr"
        },
        {
          "output_type": "stream",
          "text": [
            "building tree 191 of 300\n"
          ],
          "name": "stdout"
        },
        {
          "output_type": "stream",
          "text": [
            "[Parallel(n_jobs=-1)]: Done 190 tasks      | elapsed:  7.1min\n"
          ],
          "name": "stderr"
        },
        {
          "output_type": "stream",
          "text": [
            "building tree 192 of 300\n"
          ],
          "name": "stdout"
        },
        {
          "output_type": "stream",
          "text": [
            "[Parallel(n_jobs=-1)]: Done 191 tasks      | elapsed:  7.1min\n"
          ],
          "name": "stderr"
        },
        {
          "output_type": "stream",
          "text": [
            "building tree 193 of 300\n",
            "building tree 194 of 300\n"
          ],
          "name": "stdout"
        },
        {
          "output_type": "stream",
          "text": [
            "[Parallel(n_jobs=-1)]: Done 192 tasks      | elapsed:  7.2min\n",
            "[Parallel(n_jobs=-1)]: Done 193 tasks      | elapsed:  7.2min\n"
          ],
          "name": "stderr"
        },
        {
          "output_type": "stream",
          "text": [
            "building tree 195 of 300\n"
          ],
          "name": "stdout"
        },
        {
          "output_type": "stream",
          "text": [
            "[Parallel(n_jobs=-1)]: Done 194 tasks      | elapsed:  7.3min\n"
          ],
          "name": "stderr"
        },
        {
          "output_type": "stream",
          "text": [
            "building tree 196 of 300\n"
          ],
          "name": "stdout"
        },
        {
          "output_type": "stream",
          "text": [
            "[Parallel(n_jobs=-1)]: Done 195 tasks      | elapsed:  7.3min\n"
          ],
          "name": "stderr"
        },
        {
          "output_type": "stream",
          "text": [
            "building tree 197 of 300\n"
          ],
          "name": "stdout"
        },
        {
          "output_type": "stream",
          "text": [
            "[Parallel(n_jobs=-1)]: Done 196 tasks      | elapsed:  7.3min\n"
          ],
          "name": "stderr"
        },
        {
          "output_type": "stream",
          "text": [
            "building tree 198 of 300\n"
          ],
          "name": "stdout"
        },
        {
          "output_type": "stream",
          "text": [
            "[Parallel(n_jobs=-1)]: Done 197 tasks      | elapsed:  7.4min\n"
          ],
          "name": "stderr"
        },
        {
          "output_type": "stream",
          "text": [
            "building tree 199 of 300\n"
          ],
          "name": "stdout"
        },
        {
          "output_type": "stream",
          "text": [
            "[Parallel(n_jobs=-1)]: Done 198 tasks      | elapsed:  7.4min\n"
          ],
          "name": "stderr"
        },
        {
          "output_type": "stream",
          "text": [
            "building tree 200 of 300\n"
          ],
          "name": "stdout"
        },
        {
          "output_type": "stream",
          "text": [
            "[Parallel(n_jobs=-1)]: Done 199 tasks      | elapsed:  7.5min\n"
          ],
          "name": "stderr"
        },
        {
          "output_type": "stream",
          "text": [
            "building tree 201 of 300\n"
          ],
          "name": "stdout"
        },
        {
          "output_type": "stream",
          "text": [
            "[Parallel(n_jobs=-1)]: Done 200 tasks      | elapsed:  7.5min\n"
          ],
          "name": "stderr"
        },
        {
          "output_type": "stream",
          "text": [
            "building tree 202 of 300\n"
          ],
          "name": "stdout"
        },
        {
          "output_type": "stream",
          "text": [
            "[Parallel(n_jobs=-1)]: Done 201 tasks      | elapsed:  7.5min\n"
          ],
          "name": "stderr"
        },
        {
          "output_type": "stream",
          "text": [
            "building tree 203 of 300\n"
          ],
          "name": "stdout"
        },
        {
          "output_type": "stream",
          "text": [
            "[Parallel(n_jobs=-1)]: Done 202 tasks      | elapsed:  7.6min\n"
          ],
          "name": "stderr"
        },
        {
          "output_type": "stream",
          "text": [
            "building tree 204 of 300\n"
          ],
          "name": "stdout"
        },
        {
          "output_type": "stream",
          "text": [
            "[Parallel(n_jobs=-1)]: Done 203 tasks      | elapsed:  7.6min\n"
          ],
          "name": "stderr"
        },
        {
          "output_type": "stream",
          "text": [
            "building tree 205 of 300\n"
          ],
          "name": "stdout"
        },
        {
          "output_type": "stream",
          "text": [
            "[Parallel(n_jobs=-1)]: Done 204 tasks      | elapsed:  7.6min\n"
          ],
          "name": "stderr"
        },
        {
          "output_type": "stream",
          "text": [
            "building tree 206 of 300\n"
          ],
          "name": "stdout"
        },
        {
          "output_type": "stream",
          "text": [
            "[Parallel(n_jobs=-1)]: Done 205 tasks      | elapsed:  7.7min\n"
          ],
          "name": "stderr"
        },
        {
          "output_type": "stream",
          "text": [
            "building tree 207 of 300\n"
          ],
          "name": "stdout"
        },
        {
          "output_type": "stream",
          "text": [
            "[Parallel(n_jobs=-1)]: Done 206 tasks      | elapsed:  7.7min\n"
          ],
          "name": "stderr"
        },
        {
          "output_type": "stream",
          "text": [
            "building tree 208 of 300\n"
          ],
          "name": "stdout"
        },
        {
          "output_type": "stream",
          "text": [
            "[Parallel(n_jobs=-1)]: Done 207 tasks      | elapsed:  7.7min\n"
          ],
          "name": "stderr"
        },
        {
          "output_type": "stream",
          "text": [
            "building tree 209 of 300\n"
          ],
          "name": "stdout"
        },
        {
          "output_type": "stream",
          "text": [
            "[Parallel(n_jobs=-1)]: Done 208 tasks      | elapsed:  7.8min\n"
          ],
          "name": "stderr"
        },
        {
          "output_type": "stream",
          "text": [
            "building tree 210 of 300\n"
          ],
          "name": "stdout"
        },
        {
          "output_type": "stream",
          "text": [
            "[Parallel(n_jobs=-1)]: Done 209 tasks      | elapsed:  7.8min\n"
          ],
          "name": "stderr"
        },
        {
          "output_type": "stream",
          "text": [
            "building tree 211 of 300\n"
          ],
          "name": "stdout"
        },
        {
          "output_type": "stream",
          "text": [
            "[Parallel(n_jobs=-1)]: Done 210 tasks      | elapsed:  7.9min\n"
          ],
          "name": "stderr"
        },
        {
          "output_type": "stream",
          "text": [
            "building tree 212 of 300\n"
          ],
          "name": "stdout"
        },
        {
          "output_type": "stream",
          "text": [
            "[Parallel(n_jobs=-1)]: Done 211 tasks      | elapsed:  7.9min\n"
          ],
          "name": "stderr"
        },
        {
          "output_type": "stream",
          "text": [
            "building tree 213 of 300\n"
          ],
          "name": "stdout"
        },
        {
          "output_type": "stream",
          "text": [
            "[Parallel(n_jobs=-1)]: Done 212 tasks      | elapsed:  7.9min\n"
          ],
          "name": "stderr"
        },
        {
          "output_type": "stream",
          "text": [
            "building tree 214 of 300\n"
          ],
          "name": "stdout"
        },
        {
          "output_type": "stream",
          "text": [
            "[Parallel(n_jobs=-1)]: Done 213 tasks      | elapsed:  8.0min\n"
          ],
          "name": "stderr"
        },
        {
          "output_type": "stream",
          "text": [
            "building tree 215 of 300\n"
          ],
          "name": "stdout"
        },
        {
          "output_type": "stream",
          "text": [
            "[Parallel(n_jobs=-1)]: Done 214 tasks      | elapsed:  8.0min\n"
          ],
          "name": "stderr"
        },
        {
          "output_type": "stream",
          "text": [
            "building tree 216 of 300\n"
          ],
          "name": "stdout"
        },
        {
          "output_type": "stream",
          "text": [
            "[Parallel(n_jobs=-1)]: Done 215 tasks      | elapsed:  8.1min\n"
          ],
          "name": "stderr"
        },
        {
          "output_type": "stream",
          "text": [
            "building tree 217 of 300\n"
          ],
          "name": "stdout"
        },
        {
          "output_type": "stream",
          "text": [
            "[Parallel(n_jobs=-1)]: Done 216 tasks      | elapsed:  8.1min\n"
          ],
          "name": "stderr"
        },
        {
          "output_type": "stream",
          "text": [
            "building tree 218 of 300\n"
          ],
          "name": "stdout"
        },
        {
          "output_type": "stream",
          "text": [
            "[Parallel(n_jobs=-1)]: Done 217 tasks      | elapsed:  8.1min\n"
          ],
          "name": "stderr"
        },
        {
          "output_type": "stream",
          "text": [
            "building tree 219 of 300\n"
          ],
          "name": "stdout"
        },
        {
          "output_type": "stream",
          "text": [
            "[Parallel(n_jobs=-1)]: Done 218 tasks      | elapsed:  8.2min\n"
          ],
          "name": "stderr"
        },
        {
          "output_type": "stream",
          "text": [
            "building tree 220 of 300\n"
          ],
          "name": "stdout"
        },
        {
          "output_type": "stream",
          "text": [
            "[Parallel(n_jobs=-1)]: Done 219 tasks      | elapsed:  8.2min\n"
          ],
          "name": "stderr"
        },
        {
          "output_type": "stream",
          "text": [
            "building tree 221 of 300\n"
          ],
          "name": "stdout"
        },
        {
          "output_type": "stream",
          "text": [
            "[Parallel(n_jobs=-1)]: Done 220 tasks      | elapsed:  8.2min\n"
          ],
          "name": "stderr"
        },
        {
          "output_type": "stream",
          "text": [
            "building tree 222 of 300\n"
          ],
          "name": "stdout"
        },
        {
          "output_type": "stream",
          "text": [
            "[Parallel(n_jobs=-1)]: Done 221 tasks      | elapsed:  8.3min\n"
          ],
          "name": "stderr"
        },
        {
          "output_type": "stream",
          "text": [
            "building tree 223 of 300\n"
          ],
          "name": "stdout"
        },
        {
          "output_type": "stream",
          "text": [
            "[Parallel(n_jobs=-1)]: Done 222 tasks      | elapsed:  8.3min\n"
          ],
          "name": "stderr"
        },
        {
          "output_type": "stream",
          "text": [
            "building tree 224 of 300\n"
          ],
          "name": "stdout"
        },
        {
          "output_type": "stream",
          "text": [
            "[Parallel(n_jobs=-1)]: Done 223 tasks      | elapsed:  8.4min\n"
          ],
          "name": "stderr"
        },
        {
          "output_type": "stream",
          "text": [
            "building tree 225 of 300\n"
          ],
          "name": "stdout"
        },
        {
          "output_type": "stream",
          "text": [
            "[Parallel(n_jobs=-1)]: Done 224 tasks      | elapsed:  8.4min\n"
          ],
          "name": "stderr"
        },
        {
          "output_type": "stream",
          "text": [
            "building tree 226 of 300\n"
          ],
          "name": "stdout"
        },
        {
          "output_type": "stream",
          "text": [
            "[Parallel(n_jobs=-1)]: Done 225 tasks      | elapsed:  8.4min\n"
          ],
          "name": "stderr"
        },
        {
          "output_type": "stream",
          "text": [
            "building tree 227 of 300\n"
          ],
          "name": "stdout"
        },
        {
          "output_type": "stream",
          "text": [
            "[Parallel(n_jobs=-1)]: Done 226 tasks      | elapsed:  8.5min\n"
          ],
          "name": "stderr"
        },
        {
          "output_type": "stream",
          "text": [
            "building tree 228 of 300\n"
          ],
          "name": "stdout"
        },
        {
          "output_type": "stream",
          "text": [
            "[Parallel(n_jobs=-1)]: Done 227 tasks      | elapsed:  8.5min\n"
          ],
          "name": "stderr"
        },
        {
          "output_type": "stream",
          "text": [
            "building tree 229 of 300\n"
          ],
          "name": "stdout"
        },
        {
          "output_type": "stream",
          "text": [
            "[Parallel(n_jobs=-1)]: Done 228 tasks      | elapsed:  8.6min\n"
          ],
          "name": "stderr"
        },
        {
          "output_type": "stream",
          "text": [
            "building tree 230 of 300\n"
          ],
          "name": "stdout"
        },
        {
          "output_type": "stream",
          "text": [
            "[Parallel(n_jobs=-1)]: Done 229 tasks      | elapsed:  8.6min\n"
          ],
          "name": "stderr"
        },
        {
          "output_type": "stream",
          "text": [
            "building tree 231 of 300\n"
          ],
          "name": "stdout"
        },
        {
          "output_type": "stream",
          "text": [
            "[Parallel(n_jobs=-1)]: Done 230 tasks      | elapsed:  8.7min\n"
          ],
          "name": "stderr"
        },
        {
          "output_type": "stream",
          "text": [
            "building tree 232 of 300\n"
          ],
          "name": "stdout"
        },
        {
          "output_type": "stream",
          "text": [
            "[Parallel(n_jobs=-1)]: Done 231 tasks      | elapsed:  8.7min\n"
          ],
          "name": "stderr"
        },
        {
          "output_type": "stream",
          "text": [
            "building tree 233 of 300\n"
          ],
          "name": "stdout"
        },
        {
          "output_type": "stream",
          "text": [
            "[Parallel(n_jobs=-1)]: Done 232 tasks      | elapsed:  8.7min\n"
          ],
          "name": "stderr"
        },
        {
          "output_type": "stream",
          "text": [
            "building tree 234 of 300\n"
          ],
          "name": "stdout"
        },
        {
          "output_type": "stream",
          "text": [
            "[Parallel(n_jobs=-1)]: Done 233 tasks      | elapsed:  8.7min\n"
          ],
          "name": "stderr"
        },
        {
          "output_type": "stream",
          "text": [
            "building tree 235 of 300\n"
          ],
          "name": "stdout"
        },
        {
          "output_type": "stream",
          "text": [
            "[Parallel(n_jobs=-1)]: Done 234 tasks      | elapsed:  8.8min\n"
          ],
          "name": "stderr"
        },
        {
          "output_type": "stream",
          "text": [
            "building tree 236 of 300\n"
          ],
          "name": "stdout"
        },
        {
          "output_type": "stream",
          "text": [
            "[Parallel(n_jobs=-1)]: Done 235 tasks      | elapsed:  8.8min\n"
          ],
          "name": "stderr"
        },
        {
          "output_type": "stream",
          "text": [
            "building tree 237 of 300\n"
          ],
          "name": "stdout"
        },
        {
          "output_type": "stream",
          "text": [
            "[Parallel(n_jobs=-1)]: Done 236 tasks      | elapsed:  8.9min\n"
          ],
          "name": "stderr"
        },
        {
          "output_type": "stream",
          "text": [
            "building tree 238 of 300\n"
          ],
          "name": "stdout"
        },
        {
          "output_type": "stream",
          "text": [
            "[Parallel(n_jobs=-1)]: Done 237 tasks      | elapsed:  8.9min\n"
          ],
          "name": "stderr"
        },
        {
          "output_type": "stream",
          "text": [
            "building tree 239 of 300\n"
          ],
          "name": "stdout"
        },
        {
          "output_type": "stream",
          "text": [
            "[Parallel(n_jobs=-1)]: Done 238 tasks      | elapsed:  9.0min\n"
          ],
          "name": "stderr"
        },
        {
          "output_type": "stream",
          "text": [
            "building tree 240 of 300\n"
          ],
          "name": "stdout"
        },
        {
          "output_type": "stream",
          "text": [
            "[Parallel(n_jobs=-1)]: Done 239 tasks      | elapsed:  9.0min\n"
          ],
          "name": "stderr"
        },
        {
          "output_type": "stream",
          "text": [
            "building tree 241 of 300\n"
          ],
          "name": "stdout"
        },
        {
          "output_type": "stream",
          "text": [
            "[Parallel(n_jobs=-1)]: Done 240 tasks      | elapsed:  9.0min\n"
          ],
          "name": "stderr"
        },
        {
          "output_type": "stream",
          "text": [
            "building tree 242 of 300\n"
          ],
          "name": "stdout"
        },
        {
          "output_type": "stream",
          "text": [
            "[Parallel(n_jobs=-1)]: Done 241 tasks      | elapsed:  9.0min\n"
          ],
          "name": "stderr"
        },
        {
          "output_type": "stream",
          "text": [
            "building tree 243 of 300\n"
          ],
          "name": "stdout"
        },
        {
          "output_type": "stream",
          "text": [
            "[Parallel(n_jobs=-1)]: Done 242 tasks      | elapsed:  9.1min\n"
          ],
          "name": "stderr"
        },
        {
          "output_type": "stream",
          "text": [
            "building tree 244 of 300\n",
            "building tree 245 of 300\n"
          ],
          "name": "stdout"
        },
        {
          "output_type": "stream",
          "text": [
            "[Parallel(n_jobs=-1)]: Done 243 tasks      | elapsed:  9.1min\n",
            "[Parallel(n_jobs=-1)]: Done 244 tasks      | elapsed:  9.2min\n"
          ],
          "name": "stderr"
        },
        {
          "output_type": "stream",
          "text": [
            "building tree 246 of 300\n"
          ],
          "name": "stdout"
        },
        {
          "output_type": "stream",
          "text": [
            "[Parallel(n_jobs=-1)]: Done 245 tasks      | elapsed:  9.2min\n"
          ],
          "name": "stderr"
        },
        {
          "output_type": "stream",
          "text": [
            "building tree 247 of 300\n"
          ],
          "name": "stdout"
        },
        {
          "output_type": "stream",
          "text": [
            "[Parallel(n_jobs=-1)]: Done 246 tasks      | elapsed:  9.3min\n"
          ],
          "name": "stderr"
        },
        {
          "output_type": "stream",
          "text": [
            "building tree 248 of 300\n"
          ],
          "name": "stdout"
        },
        {
          "output_type": "stream",
          "text": [
            "[Parallel(n_jobs=-1)]: Done 247 tasks      | elapsed:  9.3min\n"
          ],
          "name": "stderr"
        },
        {
          "output_type": "stream",
          "text": [
            "building tree 249 of 300\n"
          ],
          "name": "stdout"
        },
        {
          "output_type": "stream",
          "text": [
            "[Parallel(n_jobs=-1)]: Done 248 tasks      | elapsed:  9.3min\n"
          ],
          "name": "stderr"
        },
        {
          "output_type": "stream",
          "text": [
            "building tree 250 of 300\n"
          ],
          "name": "stdout"
        },
        {
          "output_type": "stream",
          "text": [
            "[Parallel(n_jobs=-1)]: Done 249 tasks      | elapsed:  9.4min\n"
          ],
          "name": "stderr"
        },
        {
          "output_type": "stream",
          "text": [
            "building tree 251 of 300\n"
          ],
          "name": "stdout"
        },
        {
          "output_type": "stream",
          "text": [
            "[Parallel(n_jobs=-1)]: Done 250 tasks      | elapsed:  9.4min\n"
          ],
          "name": "stderr"
        },
        {
          "output_type": "stream",
          "text": [
            "building tree 252 of 300\n"
          ],
          "name": "stdout"
        },
        {
          "output_type": "stream",
          "text": [
            "[Parallel(n_jobs=-1)]: Done 251 tasks      | elapsed:  9.4min\n"
          ],
          "name": "stderr"
        },
        {
          "output_type": "stream",
          "text": [
            "building tree 253 of 300\n"
          ],
          "name": "stdout"
        },
        {
          "output_type": "stream",
          "text": [
            "[Parallel(n_jobs=-1)]: Done 252 tasks      | elapsed:  9.5min\n"
          ],
          "name": "stderr"
        },
        {
          "output_type": "stream",
          "text": [
            "building tree 254 of 300\n"
          ],
          "name": "stdout"
        },
        {
          "output_type": "stream",
          "text": [
            "[Parallel(n_jobs=-1)]: Done 253 tasks      | elapsed:  9.5min\n"
          ],
          "name": "stderr"
        },
        {
          "output_type": "stream",
          "text": [
            "building tree 255 of 300\n"
          ],
          "name": "stdout"
        },
        {
          "output_type": "stream",
          "text": [
            "[Parallel(n_jobs=-1)]: Done 254 tasks      | elapsed:  9.6min\n"
          ],
          "name": "stderr"
        },
        {
          "output_type": "stream",
          "text": [
            "building tree 256 of 300\n"
          ],
          "name": "stdout"
        },
        {
          "output_type": "stream",
          "text": [
            "[Parallel(n_jobs=-1)]: Done 255 tasks      | elapsed:  9.6min\n"
          ],
          "name": "stderr"
        },
        {
          "output_type": "stream",
          "text": [
            "building tree 257 of 300\n"
          ],
          "name": "stdout"
        },
        {
          "output_type": "stream",
          "text": [
            "[Parallel(n_jobs=-1)]: Done 256 tasks      | elapsed:  9.6min\n"
          ],
          "name": "stderr"
        },
        {
          "output_type": "stream",
          "text": [
            "building tree 258 of 300\n"
          ],
          "name": "stdout"
        },
        {
          "output_type": "stream",
          "text": [
            "[Parallel(n_jobs=-1)]: Done 257 tasks      | elapsed:  9.7min\n"
          ],
          "name": "stderr"
        },
        {
          "output_type": "stream",
          "text": [
            "building tree 259 of 300\n"
          ],
          "name": "stdout"
        },
        {
          "output_type": "stream",
          "text": [
            "[Parallel(n_jobs=-1)]: Done 258 tasks      | elapsed:  9.7min\n"
          ],
          "name": "stderr"
        },
        {
          "output_type": "stream",
          "text": [
            "building tree 260 of 300\n"
          ],
          "name": "stdout"
        },
        {
          "output_type": "stream",
          "text": [
            "[Parallel(n_jobs=-1)]: Done 259 tasks      | elapsed:  9.7min\n"
          ],
          "name": "stderr"
        },
        {
          "output_type": "stream",
          "text": [
            "building tree 261 of 300\n"
          ],
          "name": "stdout"
        },
        {
          "output_type": "stream",
          "text": [
            "[Parallel(n_jobs=-1)]: Done 260 tasks      | elapsed:  9.8min\n"
          ],
          "name": "stderr"
        },
        {
          "output_type": "stream",
          "text": [
            "building tree 262 of 300\n"
          ],
          "name": "stdout"
        },
        {
          "output_type": "stream",
          "text": [
            "[Parallel(n_jobs=-1)]: Done 261 tasks      | elapsed:  9.8min\n"
          ],
          "name": "stderr"
        },
        {
          "output_type": "stream",
          "text": [
            "building tree 263 of 300\n"
          ],
          "name": "stdout"
        },
        {
          "output_type": "stream",
          "text": [
            "[Parallel(n_jobs=-1)]: Done 262 tasks      | elapsed:  9.9min\n"
          ],
          "name": "stderr"
        },
        {
          "output_type": "stream",
          "text": [
            "building tree 264 of 300\n"
          ],
          "name": "stdout"
        },
        {
          "output_type": "stream",
          "text": [
            "[Parallel(n_jobs=-1)]: Done 263 tasks      | elapsed:  9.9min\n"
          ],
          "name": "stderr"
        },
        {
          "output_type": "stream",
          "text": [
            "building tree 265 of 300\n"
          ],
          "name": "stdout"
        },
        {
          "output_type": "stream",
          "text": [
            "[Parallel(n_jobs=-1)]: Done 264 tasks      | elapsed: 10.0min\n"
          ],
          "name": "stderr"
        },
        {
          "output_type": "stream",
          "text": [
            "building tree 266 of 300\n"
          ],
          "name": "stdout"
        },
        {
          "output_type": "stream",
          "text": [
            "[Parallel(n_jobs=-1)]: Done 265 tasks      | elapsed: 10.0min\n"
          ],
          "name": "stderr"
        },
        {
          "output_type": "stream",
          "text": [
            "building tree 267 of 300\n"
          ],
          "name": "stdout"
        },
        {
          "output_type": "stream",
          "text": [
            "[Parallel(n_jobs=-1)]: Done 266 tasks      | elapsed: 10.0min\n"
          ],
          "name": "stderr"
        },
        {
          "output_type": "stream",
          "text": [
            "building tree 268 of 300\n"
          ],
          "name": "stdout"
        },
        {
          "output_type": "stream",
          "text": [
            "[Parallel(n_jobs=-1)]: Done 267 tasks      | elapsed: 10.1min\n"
          ],
          "name": "stderr"
        },
        {
          "output_type": "stream",
          "text": [
            "building tree 269 of 300\n"
          ],
          "name": "stdout"
        },
        {
          "output_type": "stream",
          "text": [
            "[Parallel(n_jobs=-1)]: Done 268 tasks      | elapsed: 10.1min\n"
          ],
          "name": "stderr"
        },
        {
          "output_type": "stream",
          "text": [
            "building tree 270 of 300\n"
          ],
          "name": "stdout"
        },
        {
          "output_type": "stream",
          "text": [
            "[Parallel(n_jobs=-1)]: Done 269 tasks      | elapsed: 10.1min\n"
          ],
          "name": "stderr"
        },
        {
          "output_type": "stream",
          "text": [
            "building tree 271 of 300\n"
          ],
          "name": "stdout"
        },
        {
          "output_type": "stream",
          "text": [
            "[Parallel(n_jobs=-1)]: Done 270 tasks      | elapsed: 10.2min\n"
          ],
          "name": "stderr"
        },
        {
          "output_type": "stream",
          "text": [
            "building tree 272 of 300\n",
            "building tree 273 of 300\n"
          ],
          "name": "stdout"
        },
        {
          "output_type": "stream",
          "text": [
            "[Parallel(n_jobs=-1)]: Done 271 tasks      | elapsed: 10.2min\n",
            "[Parallel(n_jobs=-1)]: Done 272 tasks      | elapsed: 10.3min\n"
          ],
          "name": "stderr"
        },
        {
          "output_type": "stream",
          "text": [
            "building tree 274 of 300\n"
          ],
          "name": "stdout"
        },
        {
          "output_type": "stream",
          "text": [
            "[Parallel(n_jobs=-1)]: Done 273 tasks      | elapsed: 10.3min\n"
          ],
          "name": "stderr"
        },
        {
          "output_type": "stream",
          "text": [
            "building tree 275 of 300\n"
          ],
          "name": "stdout"
        },
        {
          "output_type": "stream",
          "text": [
            "[Parallel(n_jobs=-1)]: Done 274 tasks      | elapsed: 10.4min\n"
          ],
          "name": "stderr"
        },
        {
          "output_type": "stream",
          "text": [
            "building tree 276 of 300\n"
          ],
          "name": "stdout"
        },
        {
          "output_type": "stream",
          "text": [
            "[Parallel(n_jobs=-1)]: Done 275 tasks      | elapsed: 10.4min\n"
          ],
          "name": "stderr"
        },
        {
          "output_type": "stream",
          "text": [
            "building tree 277 of 300\n"
          ],
          "name": "stdout"
        },
        {
          "output_type": "stream",
          "text": [
            "[Parallel(n_jobs=-1)]: Done 276 tasks      | elapsed: 10.4min\n"
          ],
          "name": "stderr"
        },
        {
          "output_type": "stream",
          "text": [
            "building tree 278 of 300\n"
          ],
          "name": "stdout"
        },
        {
          "output_type": "stream",
          "text": [
            "[Parallel(n_jobs=-1)]: Done 277 tasks      | elapsed: 10.4min\n"
          ],
          "name": "stderr"
        },
        {
          "output_type": "stream",
          "text": [
            "building tree 279 of 300\n"
          ],
          "name": "stdout"
        },
        {
          "output_type": "stream",
          "text": [
            "[Parallel(n_jobs=-1)]: Done 278 tasks      | elapsed: 10.5min\n"
          ],
          "name": "stderr"
        },
        {
          "output_type": "stream",
          "text": [
            "building tree 280 of 300\n"
          ],
          "name": "stdout"
        },
        {
          "output_type": "stream",
          "text": [
            "[Parallel(n_jobs=-1)]: Done 279 tasks      | elapsed: 10.5min\n"
          ],
          "name": "stderr"
        },
        {
          "output_type": "stream",
          "text": [
            "building tree 281 of 300\n",
            "building tree 282 of 300\n",
            "building tree 283 of 300\n"
          ],
          "name": "stdout"
        },
        {
          "output_type": "stream",
          "text": [
            "[Parallel(n_jobs=-1)]: Done 280 tasks      | elapsed: 10.6min\n",
            "[Parallel(n_jobs=-1)]: Done 281 tasks      | elapsed: 10.6min\n",
            "[Parallel(n_jobs=-1)]: Done 282 tasks      | elapsed: 10.7min\n"
          ],
          "name": "stderr"
        },
        {
          "output_type": "stream",
          "text": [
            "building tree 284 of 300\n"
          ],
          "name": "stdout"
        },
        {
          "output_type": "stream",
          "text": [
            "[Parallel(n_jobs=-1)]: Done 283 tasks      | elapsed: 10.7min\n"
          ],
          "name": "stderr"
        },
        {
          "output_type": "stream",
          "text": [
            "building tree 285 of 300\n"
          ],
          "name": "stdout"
        },
        {
          "output_type": "stream",
          "text": [
            "[Parallel(n_jobs=-1)]: Done 284 tasks      | elapsed: 10.7min\n"
          ],
          "name": "stderr"
        },
        {
          "output_type": "stream",
          "text": [
            "building tree 286 of 300\n"
          ],
          "name": "stdout"
        },
        {
          "output_type": "stream",
          "text": [
            "[Parallel(n_jobs=-1)]: Done 285 tasks      | elapsed: 10.7min\n"
          ],
          "name": "stderr"
        },
        {
          "output_type": "stream",
          "text": [
            "building tree 287 of 300\n"
          ],
          "name": "stdout"
        },
        {
          "output_type": "stream",
          "text": [
            "[Parallel(n_jobs=-1)]: Done 286 tasks      | elapsed: 10.8min\n"
          ],
          "name": "stderr"
        },
        {
          "output_type": "stream",
          "text": [
            "building tree 288 of 300\n"
          ],
          "name": "stdout"
        },
        {
          "output_type": "stream",
          "text": [
            "[Parallel(n_jobs=-1)]: Done 287 tasks      | elapsed: 10.8min\n"
          ],
          "name": "stderr"
        },
        {
          "output_type": "stream",
          "text": [
            "building tree 289 of 300\n"
          ],
          "name": "stdout"
        },
        {
          "output_type": "stream",
          "text": [
            "[Parallel(n_jobs=-1)]: Done 288 tasks      | elapsed: 10.9min\n"
          ],
          "name": "stderr"
        },
        {
          "output_type": "stream",
          "text": [
            "building tree 290 of 300\n"
          ],
          "name": "stdout"
        },
        {
          "output_type": "stream",
          "text": [
            "[Parallel(n_jobs=-1)]: Done 289 tasks      | elapsed: 10.9min\n"
          ],
          "name": "stderr"
        },
        {
          "output_type": "stream",
          "text": [
            "building tree 291 of 300\n"
          ],
          "name": "stdout"
        },
        {
          "output_type": "stream",
          "text": [
            "[Parallel(n_jobs=-1)]: Done 290 tasks      | elapsed: 10.9min\n"
          ],
          "name": "stderr"
        },
        {
          "output_type": "stream",
          "text": [
            "building tree 292 of 300\n"
          ],
          "name": "stdout"
        },
        {
          "output_type": "stream",
          "text": [
            "[Parallel(n_jobs=-1)]: Done 291 tasks      | elapsed: 11.0min\n"
          ],
          "name": "stderr"
        },
        {
          "output_type": "stream",
          "text": [
            "building tree 293 of 300\n"
          ],
          "name": "stdout"
        },
        {
          "output_type": "stream",
          "text": [
            "[Parallel(n_jobs=-1)]: Done 292 tasks      | elapsed: 11.0min\n"
          ],
          "name": "stderr"
        },
        {
          "output_type": "stream",
          "text": [
            "building tree 294 of 300\n"
          ],
          "name": "stdout"
        },
        {
          "output_type": "stream",
          "text": [
            "[Parallel(n_jobs=-1)]: Done 293 tasks      | elapsed: 11.0min\n"
          ],
          "name": "stderr"
        },
        {
          "output_type": "stream",
          "text": [
            "building tree 295 of 300\n"
          ],
          "name": "stdout"
        },
        {
          "output_type": "stream",
          "text": [
            "[Parallel(n_jobs=-1)]: Done 294 tasks      | elapsed: 11.1min\n"
          ],
          "name": "stderr"
        },
        {
          "output_type": "stream",
          "text": [
            "building tree 296 of 300\n"
          ],
          "name": "stdout"
        },
        {
          "output_type": "stream",
          "text": [
            "[Parallel(n_jobs=-1)]: Done 295 tasks      | elapsed: 11.1min\n"
          ],
          "name": "stderr"
        },
        {
          "output_type": "stream",
          "text": [
            "building tree 297 of 300\n"
          ],
          "name": "stdout"
        },
        {
          "output_type": "stream",
          "text": [
            "[Parallel(n_jobs=-1)]: Done 296 tasks      | elapsed: 11.2min\n"
          ],
          "name": "stderr"
        },
        {
          "output_type": "stream",
          "text": [
            "building tree 298 of 300\n",
            "building tree 299 of 300\n"
          ],
          "name": "stdout"
        },
        {
          "output_type": "stream",
          "text": [
            "[Parallel(n_jobs=-1)]: Done 297 tasks      | elapsed: 11.2min\n"
          ],
          "name": "stderr"
        },
        {
          "output_type": "stream",
          "text": [
            "building tree 300 of 300\n"
          ],
          "name": "stdout"
        },
        {
          "output_type": "stream",
          "text": [
            "[Parallel(n_jobs=-1)]: Done 300 out of 300 | elapsed: 11.3min finished\n",
            "[Parallel(n_jobs=2)]: Using backend ThreadingBackend with 2 concurrent workers.\n",
            "[Parallel(n_jobs=2)]: Done   1 tasks      | elapsed:    0.0s\n",
            "[Parallel(n_jobs=2)]: Done   2 tasks      | elapsed:    0.0s\n",
            "[Parallel(n_jobs=2)]: Done   3 tasks      | elapsed:    0.0s\n",
            "[Parallel(n_jobs=2)]: Done   4 tasks      | elapsed:    0.0s\n",
            "[Parallel(n_jobs=2)]: Done   5 tasks      | elapsed:    0.0s\n",
            "[Parallel(n_jobs=2)]: Done   6 tasks      | elapsed:    0.0s\n",
            "[Parallel(n_jobs=2)]: Done   7 tasks      | elapsed:    0.0s\n",
            "[Parallel(n_jobs=2)]: Done   8 tasks      | elapsed:    0.0s\n",
            "[Parallel(n_jobs=2)]: Done   9 tasks      | elapsed:    0.0s\n",
            "[Parallel(n_jobs=2)]: Done  10 tasks      | elapsed:    0.0s\n",
            "[Parallel(n_jobs=2)]: Done  11 tasks      | elapsed:    0.1s\n",
            "[Parallel(n_jobs=2)]: Done  12 tasks      | elapsed:    0.1s\n",
            "[Parallel(n_jobs=2)]: Done  13 tasks      | elapsed:    0.1s\n",
            "[Parallel(n_jobs=2)]: Done  14 tasks      | elapsed:    0.1s\n",
            "[Parallel(n_jobs=2)]: Done  15 tasks      | elapsed:    0.1s\n",
            "[Parallel(n_jobs=2)]: Done  16 tasks      | elapsed:    0.1s\n",
            "[Parallel(n_jobs=2)]: Done  17 tasks      | elapsed:    0.1s\n",
            "[Parallel(n_jobs=2)]: Done  18 tasks      | elapsed:    0.1s\n",
            "[Parallel(n_jobs=2)]: Done  19 tasks      | elapsed:    0.1s\n",
            "[Parallel(n_jobs=2)]: Done  20 tasks      | elapsed:    0.1s\n",
            "[Parallel(n_jobs=2)]: Done  21 tasks      | elapsed:    0.1s\n",
            "[Parallel(n_jobs=2)]: Done  22 tasks      | elapsed:    0.1s\n",
            "[Parallel(n_jobs=2)]: Done  23 tasks      | elapsed:    0.1s\n",
            "[Parallel(n_jobs=2)]: Done  24 tasks      | elapsed:    0.1s\n",
            "[Parallel(n_jobs=2)]: Done  25 tasks      | elapsed:    0.1s\n",
            "[Parallel(n_jobs=2)]: Done  26 tasks      | elapsed:    0.1s\n",
            "[Parallel(n_jobs=2)]: Done  27 tasks      | elapsed:    0.1s\n",
            "[Parallel(n_jobs=2)]: Done  28 tasks      | elapsed:    0.1s\n",
            "[Parallel(n_jobs=2)]: Done  29 tasks      | elapsed:    0.1s\n",
            "[Parallel(n_jobs=2)]: Done  30 tasks      | elapsed:    0.1s\n",
            "[Parallel(n_jobs=2)]: Done  31 tasks      | elapsed:    0.1s\n",
            "[Parallel(n_jobs=2)]: Done  32 tasks      | elapsed:    0.1s\n",
            "[Parallel(n_jobs=2)]: Done  33 tasks      | elapsed:    0.2s\n",
            "[Parallel(n_jobs=2)]: Done  34 tasks      | elapsed:    0.2s\n",
            "[Parallel(n_jobs=2)]: Done  35 tasks      | elapsed:    0.2s\n",
            "[Parallel(n_jobs=2)]: Done  36 tasks      | elapsed:    0.2s\n",
            "[Parallel(n_jobs=2)]: Done  37 tasks      | elapsed:    0.2s\n",
            "[Parallel(n_jobs=2)]: Done  38 tasks      | elapsed:    0.2s\n",
            "[Parallel(n_jobs=2)]: Done  39 tasks      | elapsed:    0.2s\n",
            "[Parallel(n_jobs=2)]: Done  40 tasks      | elapsed:    0.2s\n",
            "[Parallel(n_jobs=2)]: Done  41 tasks      | elapsed:    0.2s\n",
            "[Parallel(n_jobs=2)]: Done  42 tasks      | elapsed:    0.2s\n",
            "[Parallel(n_jobs=2)]: Done  43 tasks      | elapsed:    0.2s\n",
            "[Parallel(n_jobs=2)]: Done  44 tasks      | elapsed:    0.2s\n",
            "[Parallel(n_jobs=2)]: Done  45 tasks      | elapsed:    0.2s\n",
            "[Parallel(n_jobs=2)]: Done  46 tasks      | elapsed:    0.2s\n",
            "[Parallel(n_jobs=2)]: Done  47 tasks      | elapsed:    0.2s\n",
            "[Parallel(n_jobs=2)]: Done  48 tasks      | elapsed:    0.2s\n",
            "[Parallel(n_jobs=2)]: Done  49 tasks      | elapsed:    0.2s\n",
            "[Parallel(n_jobs=2)]: Done  50 tasks      | elapsed:    0.2s\n",
            "[Parallel(n_jobs=2)]: Done  51 tasks      | elapsed:    0.2s\n",
            "[Parallel(n_jobs=2)]: Done  52 tasks      | elapsed:    0.2s\n",
            "[Parallel(n_jobs=2)]: Done  53 tasks      | elapsed:    0.2s\n",
            "[Parallel(n_jobs=2)]: Done  54 tasks      | elapsed:    0.2s\n",
            "[Parallel(n_jobs=2)]: Done  55 tasks      | elapsed:    0.2s\n",
            "[Parallel(n_jobs=2)]: Done  56 tasks      | elapsed:    0.2s\n",
            "[Parallel(n_jobs=2)]: Done  57 tasks      | elapsed:    0.2s\n",
            "[Parallel(n_jobs=2)]: Done  58 tasks      | elapsed:    0.3s\n",
            "[Parallel(n_jobs=2)]: Done  59 tasks      | elapsed:    0.3s\n",
            "[Parallel(n_jobs=2)]: Done  60 tasks      | elapsed:    0.3s\n",
            "[Parallel(n_jobs=2)]: Done  61 tasks      | elapsed:    0.3s\n",
            "[Parallel(n_jobs=2)]: Done  62 tasks      | elapsed:    0.3s\n",
            "[Parallel(n_jobs=2)]: Done  63 tasks      | elapsed:    0.3s\n",
            "[Parallel(n_jobs=2)]: Done  64 tasks      | elapsed:    0.3s\n",
            "[Parallel(n_jobs=2)]: Done  65 tasks      | elapsed:    0.3s\n",
            "[Parallel(n_jobs=2)]: Done  66 tasks      | elapsed:    0.3s\n",
            "[Parallel(n_jobs=2)]: Done  67 tasks      | elapsed:    0.3s\n",
            "[Parallel(n_jobs=2)]: Done  68 tasks      | elapsed:    0.3s\n",
            "[Parallel(n_jobs=2)]: Done  69 tasks      | elapsed:    0.3s\n",
            "[Parallel(n_jobs=2)]: Done  70 tasks      | elapsed:    0.3s\n",
            "[Parallel(n_jobs=2)]: Done  71 tasks      | elapsed:    0.3s\n",
            "[Parallel(n_jobs=2)]: Done  72 tasks      | elapsed:    0.3s\n",
            "[Parallel(n_jobs=2)]: Done  73 tasks      | elapsed:    0.3s\n",
            "[Parallel(n_jobs=2)]: Done  74 tasks      | elapsed:    0.3s\n",
            "[Parallel(n_jobs=2)]: Done  75 tasks      | elapsed:    0.3s\n",
            "[Parallel(n_jobs=2)]: Done  76 tasks      | elapsed:    0.3s\n",
            "[Parallel(n_jobs=2)]: Done  77 tasks      | elapsed:    0.3s\n",
            "[Parallel(n_jobs=2)]: Done  78 tasks      | elapsed:    0.3s\n",
            "[Parallel(n_jobs=2)]: Done  79 tasks      | elapsed:    0.3s\n",
            "[Parallel(n_jobs=2)]: Done  80 tasks      | elapsed:    0.3s\n",
            "[Parallel(n_jobs=2)]: Done  81 tasks      | elapsed:    0.4s\n",
            "[Parallel(n_jobs=2)]: Done  82 tasks      | elapsed:    0.4s\n",
            "[Parallel(n_jobs=2)]: Done  83 tasks      | elapsed:    0.4s\n",
            "[Parallel(n_jobs=2)]: Done  84 tasks      | elapsed:    0.4s\n",
            "[Parallel(n_jobs=2)]: Done  85 tasks      | elapsed:    0.4s\n",
            "[Parallel(n_jobs=2)]: Done  86 tasks      | elapsed:    0.4s\n",
            "[Parallel(n_jobs=2)]: Done  87 tasks      | elapsed:    0.4s\n",
            "[Parallel(n_jobs=2)]: Done  88 tasks      | elapsed:    0.4s\n",
            "[Parallel(n_jobs=2)]: Done  89 tasks      | elapsed:    0.4s\n",
            "[Parallel(n_jobs=2)]: Done  90 tasks      | elapsed:    0.4s\n",
            "[Parallel(n_jobs=2)]: Done  91 tasks      | elapsed:    0.4s\n",
            "[Parallel(n_jobs=2)]: Done  92 tasks      | elapsed:    0.4s\n",
            "[Parallel(n_jobs=2)]: Done  93 tasks      | elapsed:    0.4s\n",
            "[Parallel(n_jobs=2)]: Done  94 tasks      | elapsed:    0.4s\n",
            "[Parallel(n_jobs=2)]: Done  95 tasks      | elapsed:    0.4s\n",
            "[Parallel(n_jobs=2)]: Done  96 tasks      | elapsed:    0.4s\n",
            "[Parallel(n_jobs=2)]: Done  97 tasks      | elapsed:    0.4s\n",
            "[Parallel(n_jobs=2)]: Done  98 tasks      | elapsed:    0.4s\n",
            "[Parallel(n_jobs=2)]: Done  99 tasks      | elapsed:    0.4s\n",
            "[Parallel(n_jobs=2)]: Done 100 tasks      | elapsed:    0.4s\n",
            "[Parallel(n_jobs=2)]: Done 101 tasks      | elapsed:    0.4s\n",
            "[Parallel(n_jobs=2)]: Done 102 tasks      | elapsed:    0.4s\n",
            "[Parallel(n_jobs=2)]: Done 103 tasks      | elapsed:    0.4s\n",
            "[Parallel(n_jobs=2)]: Done 104 tasks      | elapsed:    0.4s\n",
            "[Parallel(n_jobs=2)]: Done 105 tasks      | elapsed:    0.5s\n",
            "[Parallel(n_jobs=2)]: Done 106 tasks      | elapsed:    0.5s\n",
            "[Parallel(n_jobs=2)]: Done 107 tasks      | elapsed:    0.5s\n",
            "[Parallel(n_jobs=2)]: Done 108 tasks      | elapsed:    0.5s\n",
            "[Parallel(n_jobs=2)]: Done 109 tasks      | elapsed:    0.5s\n",
            "[Parallel(n_jobs=2)]: Done 110 tasks      | elapsed:    0.5s\n",
            "[Parallel(n_jobs=2)]: Done 111 tasks      | elapsed:    0.5s\n",
            "[Parallel(n_jobs=2)]: Done 112 tasks      | elapsed:    0.5s\n",
            "[Parallel(n_jobs=2)]: Done 113 tasks      | elapsed:    0.5s\n",
            "[Parallel(n_jobs=2)]: Done 114 tasks      | elapsed:    0.5s\n",
            "[Parallel(n_jobs=2)]: Done 115 tasks      | elapsed:    0.5s\n",
            "[Parallel(n_jobs=2)]: Done 116 tasks      | elapsed:    0.5s\n",
            "[Parallel(n_jobs=2)]: Done 117 tasks      | elapsed:    0.5s\n",
            "[Parallel(n_jobs=2)]: Done 118 tasks      | elapsed:    0.5s\n",
            "[Parallel(n_jobs=2)]: Done 119 tasks      | elapsed:    0.5s\n",
            "[Parallel(n_jobs=2)]: Done 120 tasks      | elapsed:    0.5s\n",
            "[Parallel(n_jobs=2)]: Done 121 tasks      | elapsed:    0.5s\n",
            "[Parallel(n_jobs=2)]: Done 122 tasks      | elapsed:    0.5s\n",
            "[Parallel(n_jobs=2)]: Done 123 tasks      | elapsed:    0.5s\n",
            "[Parallel(n_jobs=2)]: Done 124 tasks      | elapsed:    0.5s\n",
            "[Parallel(n_jobs=2)]: Done 125 tasks      | elapsed:    0.5s\n",
            "[Parallel(n_jobs=2)]: Done 126 tasks      | elapsed:    0.5s\n",
            "[Parallel(n_jobs=2)]: Done 127 tasks      | elapsed:    0.5s\n",
            "[Parallel(n_jobs=2)]: Done 128 tasks      | elapsed:    0.6s\n",
            "[Parallel(n_jobs=2)]: Done 129 tasks      | elapsed:    0.6s\n",
            "[Parallel(n_jobs=2)]: Done 130 tasks      | elapsed:    0.6s\n",
            "[Parallel(n_jobs=2)]: Done 131 tasks      | elapsed:    0.6s\n",
            "[Parallel(n_jobs=2)]: Done 132 tasks      | elapsed:    0.6s\n",
            "[Parallel(n_jobs=2)]: Done 133 tasks      | elapsed:    0.6s\n",
            "[Parallel(n_jobs=2)]: Done 134 tasks      | elapsed:    0.6s\n",
            "[Parallel(n_jobs=2)]: Done 135 tasks      | elapsed:    0.6s\n",
            "[Parallel(n_jobs=2)]: Done 136 tasks      | elapsed:    0.6s\n",
            "[Parallel(n_jobs=2)]: Done 137 tasks      | elapsed:    0.6s\n",
            "[Parallel(n_jobs=2)]: Done 138 tasks      | elapsed:    0.6s\n",
            "[Parallel(n_jobs=2)]: Done 139 tasks      | elapsed:    0.6s\n",
            "[Parallel(n_jobs=2)]: Done 140 tasks      | elapsed:    0.6s\n",
            "[Parallel(n_jobs=2)]: Done 141 tasks      | elapsed:    0.6s\n",
            "[Parallel(n_jobs=2)]: Done 142 tasks      | elapsed:    0.6s\n",
            "[Parallel(n_jobs=2)]: Done 143 tasks      | elapsed:    0.6s\n",
            "[Parallel(n_jobs=2)]: Done 144 tasks      | elapsed:    0.6s\n",
            "[Parallel(n_jobs=2)]: Done 145 tasks      | elapsed:    0.6s\n",
            "[Parallel(n_jobs=2)]: Done 146 tasks      | elapsed:    0.6s\n",
            "[Parallel(n_jobs=2)]: Done 147 tasks      | elapsed:    0.6s\n",
            "[Parallel(n_jobs=2)]: Done 148 tasks      | elapsed:    0.6s\n",
            "[Parallel(n_jobs=2)]: Done 149 tasks      | elapsed:    0.6s\n",
            "[Parallel(n_jobs=2)]: Done 150 tasks      | elapsed:    0.6s\n",
            "[Parallel(n_jobs=2)]: Done 151 tasks      | elapsed:    0.6s\n",
            "[Parallel(n_jobs=2)]: Done 152 tasks      | elapsed:    0.6s\n",
            "[Parallel(n_jobs=2)]: Done 153 tasks      | elapsed:    0.7s\n",
            "[Parallel(n_jobs=2)]: Done 154 tasks      | elapsed:    0.7s\n",
            "[Parallel(n_jobs=2)]: Done 155 tasks      | elapsed:    0.7s\n",
            "[Parallel(n_jobs=2)]: Done 156 tasks      | elapsed:    0.7s\n",
            "[Parallel(n_jobs=2)]: Done 157 tasks      | elapsed:    0.7s\n",
            "[Parallel(n_jobs=2)]: Done 158 tasks      | elapsed:    0.7s\n",
            "[Parallel(n_jobs=2)]: Done 159 tasks      | elapsed:    0.7s\n",
            "[Parallel(n_jobs=2)]: Done 160 tasks      | elapsed:    0.7s\n",
            "[Parallel(n_jobs=2)]: Done 161 tasks      | elapsed:    0.7s\n",
            "[Parallel(n_jobs=2)]: Done 162 tasks      | elapsed:    0.7s\n",
            "[Parallel(n_jobs=2)]: Done 163 tasks      | elapsed:    0.7s\n",
            "[Parallel(n_jobs=2)]: Done 164 tasks      | elapsed:    0.7s\n",
            "[Parallel(n_jobs=2)]: Done 165 tasks      | elapsed:    0.7s\n",
            "[Parallel(n_jobs=2)]: Done 166 tasks      | elapsed:    0.7s\n",
            "[Parallel(n_jobs=2)]: Done 167 tasks      | elapsed:    0.7s\n",
            "[Parallel(n_jobs=2)]: Done 168 tasks      | elapsed:    0.7s\n",
            "[Parallel(n_jobs=2)]: Done 169 tasks      | elapsed:    0.7s\n",
            "[Parallel(n_jobs=2)]: Done 170 tasks      | elapsed:    0.7s\n",
            "[Parallel(n_jobs=2)]: Done 171 tasks      | elapsed:    0.7s\n",
            "[Parallel(n_jobs=2)]: Done 172 tasks      | elapsed:    0.7s\n",
            "[Parallel(n_jobs=2)]: Done 173 tasks      | elapsed:    0.7s\n",
            "[Parallel(n_jobs=2)]: Done 174 tasks      | elapsed:    0.7s\n",
            "[Parallel(n_jobs=2)]: Done 175 tasks      | elapsed:    0.7s\n",
            "[Parallel(n_jobs=2)]: Done 176 tasks      | elapsed:    0.8s\n",
            "[Parallel(n_jobs=2)]: Done 177 tasks      | elapsed:    0.8s\n",
            "[Parallel(n_jobs=2)]: Done 178 tasks      | elapsed:    0.8s\n",
            "[Parallel(n_jobs=2)]: Done 179 tasks      | elapsed:    0.8s\n",
            "[Parallel(n_jobs=2)]: Done 180 tasks      | elapsed:    0.8s\n",
            "[Parallel(n_jobs=2)]: Done 181 tasks      | elapsed:    0.8s\n",
            "[Parallel(n_jobs=2)]: Done 182 tasks      | elapsed:    0.8s\n",
            "[Parallel(n_jobs=2)]: Done 183 tasks      | elapsed:    0.8s\n",
            "[Parallel(n_jobs=2)]: Done 184 tasks      | elapsed:    0.8s\n",
            "[Parallel(n_jobs=2)]: Done 185 tasks      | elapsed:    0.8s\n",
            "[Parallel(n_jobs=2)]: Done 186 tasks      | elapsed:    0.8s\n",
            "[Parallel(n_jobs=2)]: Done 187 tasks      | elapsed:    0.8s\n",
            "[Parallel(n_jobs=2)]: Done 188 tasks      | elapsed:    0.8s\n",
            "[Parallel(n_jobs=2)]: Done 189 tasks      | elapsed:    0.8s\n",
            "[Parallel(n_jobs=2)]: Done 190 tasks      | elapsed:    0.8s\n",
            "[Parallel(n_jobs=2)]: Done 191 tasks      | elapsed:    0.8s\n",
            "[Parallel(n_jobs=2)]: Done 192 tasks      | elapsed:    0.8s\n",
            "[Parallel(n_jobs=2)]: Done 193 tasks      | elapsed:    0.8s\n",
            "[Parallel(n_jobs=2)]: Done 194 tasks      | elapsed:    0.8s\n",
            "[Parallel(n_jobs=2)]: Done 195 tasks      | elapsed:    0.8s\n",
            "[Parallel(n_jobs=2)]: Done 196 tasks      | elapsed:    0.8s\n",
            "[Parallel(n_jobs=2)]: Done 197 tasks      | elapsed:    0.8s\n",
            "[Parallel(n_jobs=2)]: Done 198 tasks      | elapsed:    0.8s\n",
            "[Parallel(n_jobs=2)]: Done 199 tasks      | elapsed:    0.8s\n",
            "[Parallel(n_jobs=2)]: Done 200 tasks      | elapsed:    0.8s\n",
            "[Parallel(n_jobs=2)]: Done 201 tasks      | elapsed:    0.9s\n",
            "[Parallel(n_jobs=2)]: Done 202 tasks      | elapsed:    0.9s\n",
            "[Parallel(n_jobs=2)]: Done 203 tasks      | elapsed:    0.9s\n",
            "[Parallel(n_jobs=2)]: Done 204 tasks      | elapsed:    0.9s\n",
            "[Parallel(n_jobs=2)]: Done 205 tasks      | elapsed:    0.9s\n",
            "[Parallel(n_jobs=2)]: Done 206 tasks      | elapsed:    0.9s\n",
            "[Parallel(n_jobs=2)]: Done 207 tasks      | elapsed:    0.9s\n",
            "[Parallel(n_jobs=2)]: Done 208 tasks      | elapsed:    0.9s\n",
            "[Parallel(n_jobs=2)]: Done 209 tasks      | elapsed:    0.9s\n",
            "[Parallel(n_jobs=2)]: Done 210 tasks      | elapsed:    0.9s\n",
            "[Parallel(n_jobs=2)]: Done 211 tasks      | elapsed:    0.9s\n",
            "[Parallel(n_jobs=2)]: Done 212 tasks      | elapsed:    0.9s\n",
            "[Parallel(n_jobs=2)]: Done 213 tasks      | elapsed:    0.9s\n",
            "[Parallel(n_jobs=2)]: Done 214 tasks      | elapsed:    0.9s\n",
            "[Parallel(n_jobs=2)]: Done 215 tasks      | elapsed:    0.9s\n",
            "[Parallel(n_jobs=2)]: Done 216 tasks      | elapsed:    0.9s\n",
            "[Parallel(n_jobs=2)]: Done 217 tasks      | elapsed:    0.9s\n",
            "[Parallel(n_jobs=2)]: Done 218 tasks      | elapsed:    0.9s\n",
            "[Parallel(n_jobs=2)]: Done 219 tasks      | elapsed:    0.9s\n",
            "[Parallel(n_jobs=2)]: Done 220 tasks      | elapsed:    0.9s\n",
            "[Parallel(n_jobs=2)]: Done 221 tasks      | elapsed:    0.9s\n",
            "[Parallel(n_jobs=2)]: Done 222 tasks      | elapsed:    0.9s\n",
            "[Parallel(n_jobs=2)]: Done 223 tasks      | elapsed:    1.0s\n",
            "[Parallel(n_jobs=2)]: Done 224 tasks      | elapsed:    1.0s\n",
            "[Parallel(n_jobs=2)]: Done 225 tasks      | elapsed:    1.0s\n",
            "[Parallel(n_jobs=2)]: Done 226 tasks      | elapsed:    1.0s\n",
            "[Parallel(n_jobs=2)]: Done 227 tasks      | elapsed:    1.0s\n",
            "[Parallel(n_jobs=2)]: Done 228 tasks      | elapsed:    1.0s\n",
            "[Parallel(n_jobs=2)]: Done 229 tasks      | elapsed:    1.0s\n",
            "[Parallel(n_jobs=2)]: Done 230 tasks      | elapsed:    1.0s\n",
            "[Parallel(n_jobs=2)]: Done 231 tasks      | elapsed:    1.0s\n",
            "[Parallel(n_jobs=2)]: Done 232 tasks      | elapsed:    1.0s\n",
            "[Parallel(n_jobs=2)]: Done 233 tasks      | elapsed:    1.0s\n",
            "[Parallel(n_jobs=2)]: Done 234 tasks      | elapsed:    1.0s\n",
            "[Parallel(n_jobs=2)]: Done 235 tasks      | elapsed:    1.0s\n",
            "[Parallel(n_jobs=2)]: Done 236 tasks      | elapsed:    1.0s\n",
            "[Parallel(n_jobs=2)]: Done 237 tasks      | elapsed:    1.0s\n",
            "[Parallel(n_jobs=2)]: Done 238 tasks      | elapsed:    1.0s\n",
            "[Parallel(n_jobs=2)]: Done 239 tasks      | elapsed:    1.0s\n",
            "[Parallel(n_jobs=2)]: Done 240 tasks      | elapsed:    1.0s\n",
            "[Parallel(n_jobs=2)]: Done 241 tasks      | elapsed:    1.0s\n",
            "[Parallel(n_jobs=2)]: Done 242 tasks      | elapsed:    1.0s\n",
            "[Parallel(n_jobs=2)]: Done 243 tasks      | elapsed:    1.0s\n",
            "[Parallel(n_jobs=2)]: Done 244 tasks      | elapsed:    1.0s\n",
            "[Parallel(n_jobs=2)]: Done 245 tasks      | elapsed:    1.0s\n",
            "[Parallel(n_jobs=2)]: Done 246 tasks      | elapsed:    1.0s\n",
            "[Parallel(n_jobs=2)]: Done 247 tasks      | elapsed:    1.0s\n",
            "[Parallel(n_jobs=2)]: Done 248 tasks      | elapsed:    1.1s\n",
            "[Parallel(n_jobs=2)]: Done 249 tasks      | elapsed:    1.1s\n",
            "[Parallel(n_jobs=2)]: Done 250 tasks      | elapsed:    1.1s\n",
            "[Parallel(n_jobs=2)]: Done 251 tasks      | elapsed:    1.1s\n",
            "[Parallel(n_jobs=2)]: Done 252 tasks      | elapsed:    1.1s\n",
            "[Parallel(n_jobs=2)]: Done 253 tasks      | elapsed:    1.1s\n",
            "[Parallel(n_jobs=2)]: Done 254 tasks      | elapsed:    1.1s\n",
            "[Parallel(n_jobs=2)]: Done 255 tasks      | elapsed:    1.1s\n",
            "[Parallel(n_jobs=2)]: Done 256 tasks      | elapsed:    1.1s\n",
            "[Parallel(n_jobs=2)]: Done 257 tasks      | elapsed:    1.1s\n",
            "[Parallel(n_jobs=2)]: Done 258 tasks      | elapsed:    1.1s\n",
            "[Parallel(n_jobs=2)]: Done 259 tasks      | elapsed:    1.1s\n",
            "[Parallel(n_jobs=2)]: Done 260 tasks      | elapsed:    1.1s\n",
            "[Parallel(n_jobs=2)]: Done 261 tasks      | elapsed:    1.1s\n",
            "[Parallel(n_jobs=2)]: Done 262 tasks      | elapsed:    1.1s\n",
            "[Parallel(n_jobs=2)]: Done 263 tasks      | elapsed:    1.1s\n",
            "[Parallel(n_jobs=2)]: Done 264 tasks      | elapsed:    1.1s\n",
            "[Parallel(n_jobs=2)]: Done 265 tasks      | elapsed:    1.1s\n",
            "[Parallel(n_jobs=2)]: Done 266 tasks      | elapsed:    1.1s\n",
            "[Parallel(n_jobs=2)]: Done 267 tasks      | elapsed:    1.1s\n",
            "[Parallel(n_jobs=2)]: Done 268 tasks      | elapsed:    1.1s\n",
            "[Parallel(n_jobs=2)]: Done 269 tasks      | elapsed:    1.1s\n",
            "[Parallel(n_jobs=2)]: Done 270 tasks      | elapsed:    1.1s\n",
            "[Parallel(n_jobs=2)]: Done 271 tasks      | elapsed:    1.1s\n",
            "[Parallel(n_jobs=2)]: Done 272 tasks      | elapsed:    1.2s\n",
            "[Parallel(n_jobs=2)]: Done 273 tasks      | elapsed:    1.2s\n",
            "[Parallel(n_jobs=2)]: Done 274 tasks      | elapsed:    1.2s\n",
            "[Parallel(n_jobs=2)]: Done 275 tasks      | elapsed:    1.2s\n"
          ],
          "name": "stderr"
        },
        {
          "output_type": "stream",
          "text": [
            "Accuracy of Random Forest classifier is: 0.696873 \n"
          ],
          "name": "stdout"
        },
        {
          "output_type": "stream",
          "text": [
            "[Parallel(n_jobs=2)]: Done 276 tasks      | elapsed:    1.2s\n",
            "[Parallel(n_jobs=2)]: Done 277 tasks      | elapsed:    1.2s\n",
            "[Parallel(n_jobs=2)]: Done 278 tasks      | elapsed:    1.2s\n",
            "[Parallel(n_jobs=2)]: Done 279 tasks      | elapsed:    1.2s\n",
            "[Parallel(n_jobs=2)]: Done 280 tasks      | elapsed:    1.2s\n",
            "[Parallel(n_jobs=2)]: Done 281 tasks      | elapsed:    1.2s\n",
            "[Parallel(n_jobs=2)]: Done 282 tasks      | elapsed:    1.2s\n",
            "[Parallel(n_jobs=2)]: Done 283 tasks      | elapsed:    1.2s\n",
            "[Parallel(n_jobs=2)]: Done 284 tasks      | elapsed:    1.2s\n",
            "[Parallel(n_jobs=2)]: Done 285 tasks      | elapsed:    1.2s\n",
            "[Parallel(n_jobs=2)]: Done 286 tasks      | elapsed:    1.2s\n",
            "[Parallel(n_jobs=2)]: Done 287 tasks      | elapsed:    1.2s\n",
            "[Parallel(n_jobs=2)]: Done 288 tasks      | elapsed:    1.2s\n",
            "[Parallel(n_jobs=2)]: Done 289 tasks      | elapsed:    1.2s\n",
            "[Parallel(n_jobs=2)]: Done 290 tasks      | elapsed:    1.2s\n",
            "[Parallel(n_jobs=2)]: Done 291 tasks      | elapsed:    1.2s\n",
            "[Parallel(n_jobs=2)]: Done 292 tasks      | elapsed:    1.2s\n",
            "[Parallel(n_jobs=2)]: Done 293 tasks      | elapsed:    1.3s\n",
            "[Parallel(n_jobs=2)]: Done 294 tasks      | elapsed:    1.3s\n",
            "[Parallel(n_jobs=2)]: Done 295 tasks      | elapsed:    1.3s\n",
            "[Parallel(n_jobs=2)]: Done 296 tasks      | elapsed:    1.3s\n",
            "[Parallel(n_jobs=2)]: Done 297 tasks      | elapsed:    1.3s\n",
            "[Parallel(n_jobs=2)]: Done 300 out of 300 | elapsed:    1.3s finished\n"
          ],
          "name": "stderr"
        }
      ]
    },
    {
      "cell_type": "code",
      "metadata": {
        "colab": {
          "base_uri": "https://localhost:8080/"
        },
        "id": "_URAsyFfiKXj",
        "outputId": "4fc6e57e-505c-4c86-ce4c-2f43296af0dc"
      },
      "source": [
        "print(\"training Decision Tree now ...\")\n",
        "decision_tree = tree.DecisionTreeClassifier(random_state=0).fit(X_train,y_train)\n",
        "y_pred = decision_tree.predict(X_test)\n",
        "acc=accuracy_score(y_test,y_pred)\n",
        "print('Accuracy of Decision Tree classifier is: %f ' % acc)"
      ],
      "execution_count": null,
      "outputs": [
        {
          "output_type": "stream",
          "text": [
            "training Decision Tree now ...\n",
            "Accuracy of Decision Tree classifier is: 0.660042 \n"
          ],
          "name": "stdout"
        }
      ]
    },
    {
      "cell_type": "code",
      "metadata": {
        "colab": {
          "base_uri": "https://localhost:8080/"
        },
        "id": "1OLJg1KROGps",
        "outputId": "4d6e82f9-c877-41cd-b4e0-6f8ae436689d"
      },
      "source": [
        "matrix = confusion_matrix(y_test, y_pred, labels=[1,-1])\n",
        "print('Confusion Matrix: \\n',matrix)\n",
        "\n",
        "tp, fn, fp, tn = confusion_matrix(y_test, y_pred, labels = [1, -1]).reshape(-1)\n",
        "print('Outcome values: \\n', tp, fn, fp, tn)\n",
        "\n",
        "matrix = classification_report(y_test, y_pred, labels=[1,-1])\n",
        "print('Classification report: \\n',matrix)"
      ],
      "execution_count": null,
      "outputs": [
        {
          "output_type": "stream",
          "text": [
            "Confusion Matrix: \n",
            " [[2143 1235]\n",
            " [1211 2606]]\n",
            "Outcome values: \n",
            " 2143 1235 1211 2606\n",
            "Classification report: \n",
            "               precision    recall  f1-score   support\n",
            "\n",
            "           1       0.64      0.63      0.64      3378\n",
            "          -1       0.68      0.68      0.68      3817\n",
            "\n",
            "    accuracy                           0.66      7195\n",
            "   macro avg       0.66      0.66      0.66      7195\n",
            "weighted avg       0.66      0.66      0.66      7195\n",
            "\n"
          ],
          "name": "stdout"
        }
      ]
    },
    {
      "cell_type": "code",
      "metadata": {
        "id": "fVEyZFAnQcWB"
      },
      "source": [
        "from sklearn.model_selection import KFold\n",
        "from sklearn.model_selection import cross_val_score"
      ],
      "execution_count": null,
      "outputs": []
    },
    {
      "cell_type": "code",
      "metadata": {
        "id": "rjXOUjmr0waL",
        "colab": {
          "base_uri": "https://localhost:8080/"
        },
        "outputId": "093abe27-848e-4dd6-978d-e3ca98035afc"
      },
      "source": [
        "X = labelled_aapl_news_df\n",
        "y = trainY\n",
        "\n",
        "logistic_regression = LogisticRegression(max_iter=2000, verbose=25)\n",
        "random_forest_classifier = RandomForestClassifier(n_estimators=200, verbose=15, n_jobs=-1)\n",
        "decision_tree = tree.DecisionTreeClassifier(random_state=0)\n",
        "\n",
        "k = 10\n",
        "kf = KFold(n_splits=k, random_state=None)\n",
        "#models = [logistic_regression, random_forest_classifier, decision_tree]\n",
        "#for model in models:\n",
        "\n",
        "result = cross_val_score(random_forest_classifier, X, y, cv = kf)"
      ],
      "execution_count": null,
      "outputs": [
        {
          "output_type": "stream",
          "text": [
            "[Parallel(n_jobs=-1)]: Using backend LokyBackend with 2 concurrent workers.\n",
            "[Parallel(n_jobs=-1)]: Done   1 tasks      | elapsed:    4.9s\n",
            "[Parallel(n_jobs=-1)]: Done   2 tasks      | elapsed:    5.0s\n",
            "[Parallel(n_jobs=-1)]: Done   3 tasks      | elapsed:    8.7s\n",
            "[Parallel(n_jobs=-1)]: Done   4 tasks      | elapsed:    8.8s\n",
            "[Parallel(n_jobs=-1)]: Done   5 tasks      | elapsed:   12.9s\n",
            "[Parallel(n_jobs=-1)]: Done   6 tasks      | elapsed:   13.1s\n",
            "[Parallel(n_jobs=-1)]: Done   7 tasks      | elapsed:   16.7s\n",
            "[Parallel(n_jobs=-1)]: Done   8 tasks      | elapsed:   17.0s\n",
            "[Parallel(n_jobs=-1)]: Done   9 tasks      | elapsed:   21.1s\n",
            "[Parallel(n_jobs=-1)]: Done  10 tasks      | elapsed:   21.1s\n",
            "[Parallel(n_jobs=-1)]: Done  11 tasks      | elapsed:   24.9s\n",
            "[Parallel(n_jobs=-1)]: Done  12 tasks      | elapsed:   25.2s\n",
            "[Parallel(n_jobs=-1)]: Done  13 tasks      | elapsed:   28.6s\n",
            "[Parallel(n_jobs=-1)]: Done  14 tasks      | elapsed:   29.4s\n",
            "[Parallel(n_jobs=-1)]: Done  15 tasks      | elapsed:   32.6s\n",
            "[Parallel(n_jobs=-1)]: Done  16 tasks      | elapsed:   33.7s\n",
            "[Parallel(n_jobs=-1)]: Done  17 tasks      | elapsed:   36.7s\n",
            "[Parallel(n_jobs=-1)]: Done  18 tasks      | elapsed:   38.5s\n",
            "[Parallel(n_jobs=-1)]: Done  19 tasks      | elapsed:   40.8s\n",
            "[Parallel(n_jobs=-1)]: Done  20 tasks      | elapsed:   42.9s\n",
            "[Parallel(n_jobs=-1)]: Done  21 tasks      | elapsed:   44.5s\n",
            "[Parallel(n_jobs=-1)]: Done  22 tasks      | elapsed:   47.0s\n",
            "[Parallel(n_jobs=-1)]: Done  23 tasks      | elapsed:   48.3s\n",
            "[Parallel(n_jobs=-1)]: Done  24 tasks      | elapsed:   51.0s\n",
            "[Parallel(n_jobs=-1)]: Done  25 tasks      | elapsed:   52.2s\n",
            "[Parallel(n_jobs=-1)]: Done  26 tasks      | elapsed:   54.9s\n",
            "[Parallel(n_jobs=-1)]: Done  27 tasks      | elapsed:   56.4s\n",
            "[Parallel(n_jobs=-1)]: Done  28 tasks      | elapsed:   58.8s\n",
            "[Parallel(n_jobs=-1)]: Done  29 tasks      | elapsed:  1.0min\n",
            "[Parallel(n_jobs=-1)]: Done  30 tasks      | elapsed:  1.0min\n",
            "[Parallel(n_jobs=-1)]: Done  31 tasks      | elapsed:  1.1min\n",
            "[Parallel(n_jobs=-1)]: Done  32 tasks      | elapsed:  1.1min\n",
            "[Parallel(n_jobs=-1)]: Done  33 tasks      | elapsed:  1.2min\n",
            "[Parallel(n_jobs=-1)]: Done  34 tasks      | elapsed:  1.2min\n",
            "[Parallel(n_jobs=-1)]: Done  35 tasks      | elapsed:  1.2min\n",
            "[Parallel(n_jobs=-1)]: Done  36 tasks      | elapsed:  1.2min\n",
            "[Parallel(n_jobs=-1)]: Done  37 tasks      | elapsed:  1.3min\n",
            "[Parallel(n_jobs=-1)]: Done  38 tasks      | elapsed:  1.3min\n",
            "[Parallel(n_jobs=-1)]: Done  39 tasks      | elapsed:  1.3min\n",
            "[Parallel(n_jobs=-1)]: Done  40 tasks      | elapsed:  1.4min\n",
            "[Parallel(n_jobs=-1)]: Done  41 tasks      | elapsed:  1.4min\n",
            "[Parallel(n_jobs=-1)]: Done  42 tasks      | elapsed:  1.4min\n",
            "[Parallel(n_jobs=-1)]: Done  43 tasks      | elapsed:  1.5min\n",
            "[Parallel(n_jobs=-1)]: Done  44 tasks      | elapsed:  1.5min\n",
            "[Parallel(n_jobs=-1)]: Done  45 tasks      | elapsed:  1.6min\n",
            "[Parallel(n_jobs=-1)]: Done  46 tasks      | elapsed:  1.6min\n",
            "[Parallel(n_jobs=-1)]: Done  47 tasks      | elapsed:  1.6min\n",
            "[Parallel(n_jobs=-1)]: Done  48 tasks      | elapsed:  1.6min\n",
            "[Parallel(n_jobs=-1)]: Done  49 tasks      | elapsed:  1.7min\n",
            "[Parallel(n_jobs=-1)]: Done  50 tasks      | elapsed:  1.7min\n",
            "[Parallel(n_jobs=-1)]: Done  51 tasks      | elapsed:  1.8min\n",
            "[Parallel(n_jobs=-1)]: Done  52 tasks      | elapsed:  1.8min\n",
            "[Parallel(n_jobs=-1)]: Done  53 tasks      | elapsed:  1.8min\n",
            "[Parallel(n_jobs=-1)]: Done  54 tasks      | elapsed:  1.9min\n",
            "[Parallel(n_jobs=-1)]: Done  55 tasks      | elapsed:  1.9min\n",
            "[Parallel(n_jobs=-1)]: Done  56 tasks      | elapsed:  1.9min\n",
            "[Parallel(n_jobs=-1)]: Done  57 tasks      | elapsed:  2.0min\n",
            "[Parallel(n_jobs=-1)]: Done  58 tasks      | elapsed:  2.0min\n",
            "[Parallel(n_jobs=-1)]: Done  59 tasks      | elapsed:  2.0min\n",
            "[Parallel(n_jobs=-1)]: Done  60 tasks      | elapsed:  2.1min\n",
            "[Parallel(n_jobs=-1)]: Done  61 tasks      | elapsed:  2.1min\n",
            "[Parallel(n_jobs=-1)]: Done  62 tasks      | elapsed:  2.1min\n",
            "[Parallel(n_jobs=-1)]: Done  63 tasks      | elapsed:  2.1min\n",
            "[Parallel(n_jobs=-1)]: Done  64 tasks      | elapsed:  2.2min\n",
            "[Parallel(n_jobs=-1)]: Done  65 tasks      | elapsed:  2.2min\n",
            "[Parallel(n_jobs=-1)]: Done  66 tasks      | elapsed:  2.3min\n",
            "[Parallel(n_jobs=-1)]: Done  67 tasks      | elapsed:  2.3min\n",
            "[Parallel(n_jobs=-1)]: Done  68 tasks      | elapsed:  2.3min\n",
            "[Parallel(n_jobs=-1)]: Done  69 tasks      | elapsed:  2.3min\n",
            "[Parallel(n_jobs=-1)]: Done  70 tasks      | elapsed:  2.4min\n",
            "[Parallel(n_jobs=-1)]: Done  71 tasks      | elapsed:  2.4min\n",
            "[Parallel(n_jobs=-1)]: Done  72 tasks      | elapsed:  2.5min\n",
            "[Parallel(n_jobs=-1)]: Done  73 tasks      | elapsed:  2.5min\n",
            "[Parallel(n_jobs=-1)]: Done  74 tasks      | elapsed:  2.5min\n",
            "[Parallel(n_jobs=-1)]: Done  75 tasks      | elapsed:  2.5min\n",
            "[Parallel(n_jobs=-1)]: Done  76 tasks      | elapsed:  2.6min\n",
            "[Parallel(n_jobs=-1)]: Done  77 tasks      | elapsed:  2.6min\n",
            "[Parallel(n_jobs=-1)]: Done  78 tasks      | elapsed:  2.7min\n",
            "[Parallel(n_jobs=-1)]: Done  79 tasks      | elapsed:  2.7min\n",
            "[Parallel(n_jobs=-1)]: Done  80 tasks      | elapsed:  2.7min\n",
            "[Parallel(n_jobs=-1)]: Done  81 tasks      | elapsed:  2.7min\n",
            "[Parallel(n_jobs=-1)]: Done  82 tasks      | elapsed:  2.8min\n",
            "[Parallel(n_jobs=-1)]: Done  83 tasks      | elapsed:  2.8min\n",
            "[Parallel(n_jobs=-1)]: Done  84 tasks      | elapsed:  2.9min\n",
            "[Parallel(n_jobs=-1)]: Done  85 tasks      | elapsed:  2.9min\n",
            "[Parallel(n_jobs=-1)]: Done  86 tasks      | elapsed:  2.9min\n",
            "[Parallel(n_jobs=-1)]: Done  87 tasks      | elapsed:  2.9min\n",
            "[Parallel(n_jobs=-1)]: Done  88 tasks      | elapsed:  3.0min\n",
            "[Parallel(n_jobs=-1)]: Done  89 tasks      | elapsed:  3.0min\n",
            "[Parallel(n_jobs=-1)]: Done  90 tasks      | elapsed:  3.1min\n",
            "[Parallel(n_jobs=-1)]: Done  91 tasks      | elapsed:  3.1min\n",
            "[Parallel(n_jobs=-1)]: Done  92 tasks      | elapsed:  3.1min\n",
            "[Parallel(n_jobs=-1)]: Done  93 tasks      | elapsed:  3.2min\n",
            "[Parallel(n_jobs=-1)]: Done  94 tasks      | elapsed:  3.2min\n",
            "[Parallel(n_jobs=-1)]: Done  95 tasks      | elapsed:  3.2min\n",
            "[Parallel(n_jobs=-1)]: Done  96 tasks      | elapsed:  3.3min\n",
            "[Parallel(n_jobs=-1)]: Done  97 tasks      | elapsed:  3.3min\n",
            "[Parallel(n_jobs=-1)]: Done  98 tasks      | elapsed:  3.3min\n",
            "[Parallel(n_jobs=-1)]: Done  99 tasks      | elapsed:  3.4min\n",
            "[Parallel(n_jobs=-1)]: Done 100 tasks      | elapsed:  3.4min\n",
            "[Parallel(n_jobs=-1)]: Done 101 tasks      | elapsed:  3.4min\n",
            "[Parallel(n_jobs=-1)]: Done 102 tasks      | elapsed:  3.5min\n",
            "[Parallel(n_jobs=-1)]: Done 103 tasks      | elapsed:  3.5min\n",
            "[Parallel(n_jobs=-1)]: Done 104 tasks      | elapsed:  3.5min\n",
            "[Parallel(n_jobs=-1)]: Done 105 tasks      | elapsed:  3.5min\n",
            "[Parallel(n_jobs=-1)]: Done 106 tasks      | elapsed:  3.6min\n",
            "[Parallel(n_jobs=-1)]: Done 107 tasks      | elapsed:  3.6min\n",
            "[Parallel(n_jobs=-1)]: Done 108 tasks      | elapsed:  3.7min\n",
            "[Parallel(n_jobs=-1)]: Done 109 tasks      | elapsed:  3.7min\n",
            "[Parallel(n_jobs=-1)]: Done 110 tasks      | elapsed:  3.7min\n",
            "[Parallel(n_jobs=-1)]: Done 111 tasks      | elapsed:  3.7min\n",
            "[Parallel(n_jobs=-1)]: Done 112 tasks      | elapsed:  3.8min\n",
            "[Parallel(n_jobs=-1)]: Done 113 tasks      | elapsed:  3.8min\n",
            "[Parallel(n_jobs=-1)]: Done 114 tasks      | elapsed:  3.9min\n",
            "[Parallel(n_jobs=-1)]: Done 115 tasks      | elapsed:  3.9min\n",
            "[Parallel(n_jobs=-1)]: Done 116 tasks      | elapsed:  3.9min\n",
            "[Parallel(n_jobs=-1)]: Done 117 tasks      | elapsed:  4.0min\n",
            "[Parallel(n_jobs=-1)]: Done 118 tasks      | elapsed:  4.0min\n",
            "[Parallel(n_jobs=-1)]: Done 119 tasks      | elapsed:  4.0min\n",
            "[Parallel(n_jobs=-1)]: Done 120 tasks      | elapsed:  4.1min\n",
            "[Parallel(n_jobs=-1)]: Done 121 tasks      | elapsed:  4.1min\n",
            "[Parallel(n_jobs=-1)]: Done 122 tasks      | elapsed:  4.1min\n",
            "[Parallel(n_jobs=-1)]: Done 123 tasks      | elapsed:  4.2min\n",
            "[Parallel(n_jobs=-1)]: Done 124 tasks      | elapsed:  4.2min\n",
            "[Parallel(n_jobs=-1)]: Done 125 tasks      | elapsed:  4.3min\n",
            "[Parallel(n_jobs=-1)]: Done 126 tasks      | elapsed:  4.3min\n",
            "[Parallel(n_jobs=-1)]: Done 127 tasks      | elapsed:  4.3min\n",
            "[Parallel(n_jobs=-1)]: Done 128 tasks      | elapsed:  4.4min\n",
            "[Parallel(n_jobs=-1)]: Done 129 tasks      | elapsed:  4.4min\n",
            "[Parallel(n_jobs=-1)]: Done 130 tasks      | elapsed:  4.4min\n",
            "[Parallel(n_jobs=-1)]: Done 131 tasks      | elapsed:  4.5min\n",
            "[Parallel(n_jobs=-1)]: Done 132 tasks      | elapsed:  4.5min\n",
            "[Parallel(n_jobs=-1)]: Done 133 tasks      | elapsed:  4.5min\n",
            "[Parallel(n_jobs=-1)]: Done 134 tasks      | elapsed:  4.6min\n",
            "[Parallel(n_jobs=-1)]: Done 135 tasks      | elapsed:  4.6min\n",
            "[Parallel(n_jobs=-1)]: Done 136 tasks      | elapsed:  4.7min\n",
            "[Parallel(n_jobs=-1)]: Done 137 tasks      | elapsed:  4.7min\n",
            "[Parallel(n_jobs=-1)]: Done 138 tasks      | elapsed:  4.7min\n",
            "[Parallel(n_jobs=-1)]: Done 139 tasks      | elapsed:  4.7min\n",
            "[Parallel(n_jobs=-1)]: Done 140 tasks      | elapsed:  4.8min\n",
            "[Parallel(n_jobs=-1)]: Done 141 tasks      | elapsed:  4.8min\n",
            "[Parallel(n_jobs=-1)]: Done 142 tasks      | elapsed:  4.9min\n",
            "[Parallel(n_jobs=-1)]: Done 143 tasks      | elapsed:  4.9min\n",
            "[Parallel(n_jobs=-1)]: Done 144 tasks      | elapsed:  4.9min\n",
            "[Parallel(n_jobs=-1)]: Done 145 tasks      | elapsed:  5.0min\n",
            "[Parallel(n_jobs=-1)]: Done 146 tasks      | elapsed:  5.0min\n",
            "[Parallel(n_jobs=-1)]: Done 147 tasks      | elapsed:  5.0min\n",
            "[Parallel(n_jobs=-1)]: Done 148 tasks      | elapsed:  5.1min\n",
            "[Parallel(n_jobs=-1)]: Done 149 tasks      | elapsed:  5.1min\n",
            "[Parallel(n_jobs=-1)]: Done 150 tasks      | elapsed:  5.2min\n",
            "[Parallel(n_jobs=-1)]: Done 151 tasks      | elapsed:  5.2min\n",
            "[Parallel(n_jobs=-1)]: Done 152 tasks      | elapsed:  5.2min\n",
            "[Parallel(n_jobs=-1)]: Done 153 tasks      | elapsed:  5.2min\n",
            "[Parallel(n_jobs=-1)]: Done 154 tasks      | elapsed:  5.3min\n",
            "[Parallel(n_jobs=-1)]: Done 155 tasks      | elapsed:  5.3min\n",
            "[Parallel(n_jobs=-1)]: Done 156 tasks      | elapsed:  5.4min\n",
            "[Parallel(n_jobs=-1)]: Done 157 tasks      | elapsed:  5.4min\n",
            "[Parallel(n_jobs=-1)]: Done 158 tasks      | elapsed:  5.4min\n",
            "[Parallel(n_jobs=-1)]: Done 159 tasks      | elapsed:  5.4min\n",
            "[Parallel(n_jobs=-1)]: Done 160 tasks      | elapsed:  5.5min\n",
            "[Parallel(n_jobs=-1)]: Done 161 tasks      | elapsed:  5.5min\n",
            "[Parallel(n_jobs=-1)]: Done 162 tasks      | elapsed:  5.6min\n",
            "[Parallel(n_jobs=-1)]: Done 163 tasks      | elapsed:  5.6min\n",
            "[Parallel(n_jobs=-1)]: Done 164 tasks      | elapsed:  5.6min\n",
            "[Parallel(n_jobs=-1)]: Done 165 tasks      | elapsed:  5.6min\n",
            "[Parallel(n_jobs=-1)]: Done 166 tasks      | elapsed:  5.7min\n",
            "[Parallel(n_jobs=-1)]: Done 167 tasks      | elapsed:  5.7min\n",
            "[Parallel(n_jobs=-1)]: Done 168 tasks      | elapsed:  5.8min\n",
            "[Parallel(n_jobs=-1)]: Done 169 tasks      | elapsed:  5.8min\n",
            "[Parallel(n_jobs=-1)]: Done 170 tasks      | elapsed:  5.8min\n",
            "[Parallel(n_jobs=-1)]: Done 171 tasks      | elapsed:  5.8min\n",
            "[Parallel(n_jobs=-1)]: Done 172 tasks      | elapsed:  5.9min\n",
            "[Parallel(n_jobs=-1)]: Done 173 tasks      | elapsed:  5.9min\n",
            "[Parallel(n_jobs=-1)]: Done 174 tasks      | elapsed:  5.9min\n",
            "[Parallel(n_jobs=-1)]: Done 175 tasks      | elapsed:  6.0min\n",
            "[Parallel(n_jobs=-1)]: Done 176 tasks      | elapsed:  6.0min\n",
            "[Parallel(n_jobs=-1)]: Done 177 tasks      | elapsed:  6.0min\n",
            "[Parallel(n_jobs=-1)]: Done 178 tasks      | elapsed:  6.1min\n",
            "[Parallel(n_jobs=-1)]: Done 179 tasks      | elapsed:  6.1min\n",
            "[Parallel(n_jobs=-1)]: Done 180 tasks      | elapsed:  6.1min\n",
            "[Parallel(n_jobs=-1)]: Done 181 tasks      | elapsed:  6.2min\n",
            "[Parallel(n_jobs=-1)]: Done 182 tasks      | elapsed:  6.2min\n",
            "[Parallel(n_jobs=-1)]: Done 183 tasks      | elapsed:  6.2min\n",
            "[Parallel(n_jobs=-1)]: Done 184 tasks      | elapsed:  6.3min\n",
            "[Parallel(n_jobs=-1)]: Done 185 tasks      | elapsed:  6.3min\n",
            "[Parallel(n_jobs=-1)]: Done 186 tasks      | elapsed:  6.3min\n",
            "[Parallel(n_jobs=-1)]: Done 187 tasks      | elapsed:  6.4min\n",
            "[Parallel(n_jobs=-1)]: Done 188 tasks      | elapsed:  6.4min\n",
            "[Parallel(n_jobs=-1)]: Done 189 tasks      | elapsed:  6.5min\n",
            "[Parallel(n_jobs=-1)]: Done 190 tasks      | elapsed:  6.5min\n",
            "[Parallel(n_jobs=-1)]: Done 191 tasks      | elapsed:  6.5min\n",
            "[Parallel(n_jobs=-1)]: Done 192 tasks      | elapsed:  6.6min\n",
            "[Parallel(n_jobs=-1)]: Done 193 tasks      | elapsed:  6.6min\n",
            "[Parallel(n_jobs=-1)]: Done 194 tasks      | elapsed:  6.6min\n",
            "[Parallel(n_jobs=-1)]: Done 195 tasks      | elapsed:  6.7min\n",
            "[Parallel(n_jobs=-1)]: Done 196 tasks      | elapsed:  6.7min\n",
            "[Parallel(n_jobs=-1)]: Done 197 tasks      | elapsed:  6.7min\n",
            "[Parallel(n_jobs=-1)]: Done 200 out of 200 | elapsed:  6.8min finished\n",
            "[Parallel(n_jobs=2)]: Using backend ThreadingBackend with 2 concurrent workers.\n",
            "[Parallel(n_jobs=2)]: Done   1 tasks      | elapsed:    0.0s\n",
            "[Parallel(n_jobs=2)]: Done   2 tasks      | elapsed:    0.0s\n",
            "[Parallel(n_jobs=2)]: Done   3 tasks      | elapsed:    0.0s\n",
            "[Parallel(n_jobs=2)]: Done   4 tasks      | elapsed:    0.0s\n",
            "[Parallel(n_jobs=2)]: Done   5 tasks      | elapsed:    0.0s\n",
            "[Parallel(n_jobs=2)]: Done   6 tasks      | elapsed:    0.0s\n",
            "[Parallel(n_jobs=2)]: Done   7 tasks      | elapsed:    0.0s\n",
            "[Parallel(n_jobs=2)]: Done   8 tasks      | elapsed:    0.0s\n",
            "[Parallel(n_jobs=2)]: Done   9 tasks      | elapsed:    0.0s\n",
            "[Parallel(n_jobs=2)]: Done  10 tasks      | elapsed:    0.0s\n",
            "[Parallel(n_jobs=2)]: Done  11 tasks      | elapsed:    0.0s\n",
            "[Parallel(n_jobs=2)]: Done  12 tasks      | elapsed:    0.0s\n",
            "[Parallel(n_jobs=2)]: Done  13 tasks      | elapsed:    0.0s\n",
            "[Parallel(n_jobs=2)]: Done  14 tasks      | elapsed:    0.0s\n",
            "[Parallel(n_jobs=2)]: Done  15 tasks      | elapsed:    0.0s\n",
            "[Parallel(n_jobs=2)]: Done  16 tasks      | elapsed:    0.0s\n",
            "[Parallel(n_jobs=2)]: Done  17 tasks      | elapsed:    0.1s\n",
            "[Parallel(n_jobs=2)]: Done  18 tasks      | elapsed:    0.1s\n",
            "[Parallel(n_jobs=2)]: Done  19 tasks      | elapsed:    0.1s\n",
            "[Parallel(n_jobs=2)]: Done  20 tasks      | elapsed:    0.1s\n",
            "[Parallel(n_jobs=2)]: Done  21 tasks      | elapsed:    0.1s\n",
            "[Parallel(n_jobs=2)]: Done  22 tasks      | elapsed:    0.1s\n",
            "[Parallel(n_jobs=2)]: Done  23 tasks      | elapsed:    0.1s\n",
            "[Parallel(n_jobs=2)]: Done  24 tasks      | elapsed:    0.1s\n",
            "[Parallel(n_jobs=2)]: Done  25 tasks      | elapsed:    0.1s\n",
            "[Parallel(n_jobs=2)]: Done  26 tasks      | elapsed:    0.1s\n",
            "[Parallel(n_jobs=2)]: Done  27 tasks      | elapsed:    0.1s\n",
            "[Parallel(n_jobs=2)]: Done  28 tasks      | elapsed:    0.1s\n",
            "[Parallel(n_jobs=2)]: Done  29 tasks      | elapsed:    0.1s\n",
            "[Parallel(n_jobs=2)]: Done  30 tasks      | elapsed:    0.1s\n",
            "[Parallel(n_jobs=2)]: Done  31 tasks      | elapsed:    0.1s\n",
            "[Parallel(n_jobs=2)]: Done  32 tasks      | elapsed:    0.1s\n"
          ],
          "name": "stderr"
        },
        {
          "output_type": "stream",
          "text": [
            "Using ThreadingBackend as joblib.Parallel backend instead of LokyBackend as the latter does not provide shared memory semantics.\n"
          ],
          "name": "stdout"
        },
        {
          "output_type": "stream",
          "text": [
            "[Parallel(n_jobs=2)]: Done  33 tasks      | elapsed:    0.1s\n",
            "[Parallel(n_jobs=2)]: Done  34 tasks      | elapsed:    0.1s\n",
            "[Parallel(n_jobs=2)]: Done  35 tasks      | elapsed:    0.1s\n",
            "[Parallel(n_jobs=2)]: Done  36 tasks      | elapsed:    0.1s\n",
            "[Parallel(n_jobs=2)]: Done  37 tasks      | elapsed:    0.1s\n",
            "[Parallel(n_jobs=2)]: Done  38 tasks      | elapsed:    0.1s\n",
            "[Parallel(n_jobs=2)]: Done  39 tasks      | elapsed:    0.1s\n",
            "[Parallel(n_jobs=2)]: Done  40 tasks      | elapsed:    0.1s\n",
            "[Parallel(n_jobs=2)]: Done  41 tasks      | elapsed:    0.1s\n",
            "[Parallel(n_jobs=2)]: Done  42 tasks      | elapsed:    0.1s\n",
            "[Parallel(n_jobs=2)]: Done  43 tasks      | elapsed:    0.1s\n",
            "[Parallel(n_jobs=2)]: Done  44 tasks      | elapsed:    0.1s\n",
            "[Parallel(n_jobs=2)]: Done  45 tasks      | elapsed:    0.1s\n",
            "[Parallel(n_jobs=2)]: Done  46 tasks      | elapsed:    0.1s\n",
            "[Parallel(n_jobs=2)]: Done  47 tasks      | elapsed:    0.1s\n",
            "[Parallel(n_jobs=2)]: Done  48 tasks      | elapsed:    0.1s\n",
            "[Parallel(n_jobs=2)]: Done  49 tasks      | elapsed:    0.1s\n",
            "[Parallel(n_jobs=2)]: Done  50 tasks      | elapsed:    0.1s\n",
            "[Parallel(n_jobs=2)]: Done  51 tasks      | elapsed:    0.1s\n",
            "[Parallel(n_jobs=2)]: Done  52 tasks      | elapsed:    0.1s\n",
            "[Parallel(n_jobs=2)]: Done  53 tasks      | elapsed:    0.2s\n",
            "[Parallel(n_jobs=2)]: Done  54 tasks      | elapsed:    0.2s\n",
            "[Parallel(n_jobs=2)]: Done  55 tasks      | elapsed:    0.2s\n",
            "[Parallel(n_jobs=2)]: Done  56 tasks      | elapsed:    0.2s\n",
            "[Parallel(n_jobs=2)]: Done  57 tasks      | elapsed:    0.2s\n",
            "[Parallel(n_jobs=2)]: Done  58 tasks      | elapsed:    0.2s\n",
            "[Parallel(n_jobs=2)]: Done  59 tasks      | elapsed:    0.2s\n",
            "[Parallel(n_jobs=2)]: Done  60 tasks      | elapsed:    0.2s\n",
            "[Parallel(n_jobs=2)]: Done  61 tasks      | elapsed:    0.2s\n",
            "[Parallel(n_jobs=2)]: Done  62 tasks      | elapsed:    0.2s\n",
            "[Parallel(n_jobs=2)]: Done  63 tasks      | elapsed:    0.2s\n",
            "[Parallel(n_jobs=2)]: Done  64 tasks      | elapsed:    0.2s\n",
            "[Parallel(n_jobs=2)]: Done  65 tasks      | elapsed:    0.2s\n",
            "[Parallel(n_jobs=2)]: Done  66 tasks      | elapsed:    0.2s\n",
            "[Parallel(n_jobs=2)]: Done  67 tasks      | elapsed:    0.2s\n",
            "[Parallel(n_jobs=2)]: Done  68 tasks      | elapsed:    0.2s\n",
            "[Parallel(n_jobs=2)]: Done  69 tasks      | elapsed:    0.2s\n",
            "[Parallel(n_jobs=2)]: Done  70 tasks      | elapsed:    0.2s\n",
            "[Parallel(n_jobs=2)]: Done  71 tasks      | elapsed:    0.2s\n",
            "[Parallel(n_jobs=2)]: Done  72 tasks      | elapsed:    0.2s\n",
            "[Parallel(n_jobs=2)]: Done  73 tasks      | elapsed:    0.2s\n",
            "[Parallel(n_jobs=2)]: Done  74 tasks      | elapsed:    0.2s\n",
            "[Parallel(n_jobs=2)]: Done  75 tasks      | elapsed:    0.2s\n",
            "[Parallel(n_jobs=2)]: Done  76 tasks      | elapsed:    0.2s\n",
            "[Parallel(n_jobs=2)]: Done  77 tasks      | elapsed:    0.2s\n",
            "[Parallel(n_jobs=2)]: Done  78 tasks      | elapsed:    0.2s\n",
            "[Parallel(n_jobs=2)]: Done  79 tasks      | elapsed:    0.2s\n",
            "[Parallel(n_jobs=2)]: Done  80 tasks      | elapsed:    0.2s\n",
            "[Parallel(n_jobs=2)]: Done  81 tasks      | elapsed:    0.2s\n",
            "[Parallel(n_jobs=2)]: Done  82 tasks      | elapsed:    0.2s\n",
            "[Parallel(n_jobs=2)]: Done  83 tasks      | elapsed:    0.2s\n",
            "[Parallel(n_jobs=2)]: Done  84 tasks      | elapsed:    0.2s\n",
            "[Parallel(n_jobs=2)]: Done  85 tasks      | elapsed:    0.2s\n",
            "[Parallel(n_jobs=2)]: Done  86 tasks      | elapsed:    0.3s\n",
            "[Parallel(n_jobs=2)]: Done  87 tasks      | elapsed:    0.3s\n",
            "[Parallel(n_jobs=2)]: Done  88 tasks      | elapsed:    0.3s\n",
            "[Parallel(n_jobs=2)]: Done  89 tasks      | elapsed:    0.3s\n",
            "[Parallel(n_jobs=2)]: Done  90 tasks      | elapsed:    0.3s\n",
            "[Parallel(n_jobs=2)]: Done  91 tasks      | elapsed:    0.3s\n",
            "[Parallel(n_jobs=2)]: Done  92 tasks      | elapsed:    0.3s\n",
            "[Parallel(n_jobs=2)]: Done  93 tasks      | elapsed:    0.3s\n",
            "[Parallel(n_jobs=2)]: Done  94 tasks      | elapsed:    0.3s\n",
            "[Parallel(n_jobs=2)]: Done  95 tasks      | elapsed:    0.3s\n",
            "[Parallel(n_jobs=2)]: Done  96 tasks      | elapsed:    0.3s\n",
            "[Parallel(n_jobs=2)]: Done  97 tasks      | elapsed:    0.3s\n",
            "[Parallel(n_jobs=2)]: Done  98 tasks      | elapsed:    0.3s\n",
            "[Parallel(n_jobs=2)]: Done  99 tasks      | elapsed:    0.3s\n",
            "[Parallel(n_jobs=2)]: Done 100 tasks      | elapsed:    0.3s\n",
            "[Parallel(n_jobs=2)]: Done 101 tasks      | elapsed:    0.3s\n",
            "[Parallel(n_jobs=2)]: Done 102 tasks      | elapsed:    0.3s\n",
            "[Parallel(n_jobs=2)]: Done 103 tasks      | elapsed:    0.3s\n",
            "[Parallel(n_jobs=2)]: Done 104 tasks      | elapsed:    0.3s\n",
            "[Parallel(n_jobs=2)]: Done 105 tasks      | elapsed:    0.3s\n",
            "[Parallel(n_jobs=2)]: Done 106 tasks      | elapsed:    0.3s\n",
            "[Parallel(n_jobs=2)]: Done 107 tasks      | elapsed:    0.3s\n",
            "[Parallel(n_jobs=2)]: Done 108 tasks      | elapsed:    0.3s\n",
            "[Parallel(n_jobs=2)]: Done 109 tasks      | elapsed:    0.3s\n",
            "[Parallel(n_jobs=2)]: Done 110 tasks      | elapsed:    0.3s\n",
            "[Parallel(n_jobs=2)]: Done 111 tasks      | elapsed:    0.3s\n",
            "[Parallel(n_jobs=2)]: Done 112 tasks      | elapsed:    0.3s\n",
            "[Parallel(n_jobs=2)]: Done 113 tasks      | elapsed:    0.3s\n",
            "[Parallel(n_jobs=2)]: Done 114 tasks      | elapsed:    0.3s\n",
            "[Parallel(n_jobs=2)]: Done 115 tasks      | elapsed:    0.3s\n",
            "[Parallel(n_jobs=2)]: Done 116 tasks      | elapsed:    0.3s\n",
            "[Parallel(n_jobs=2)]: Done 117 tasks      | elapsed:    0.3s\n",
            "[Parallel(n_jobs=2)]: Done 118 tasks      | elapsed:    0.3s\n",
            "[Parallel(n_jobs=2)]: Done 119 tasks      | elapsed:    0.4s\n",
            "[Parallel(n_jobs=2)]: Done 120 tasks      | elapsed:    0.4s\n",
            "[Parallel(n_jobs=2)]: Done 121 tasks      | elapsed:    0.4s\n",
            "[Parallel(n_jobs=2)]: Done 122 tasks      | elapsed:    0.4s\n",
            "[Parallel(n_jobs=2)]: Done 123 tasks      | elapsed:    0.4s\n",
            "[Parallel(n_jobs=2)]: Done 124 tasks      | elapsed:    0.4s\n",
            "[Parallel(n_jobs=2)]: Done 125 tasks      | elapsed:    0.4s\n",
            "[Parallel(n_jobs=2)]: Done 126 tasks      | elapsed:    0.4s\n",
            "[Parallel(n_jobs=2)]: Done 127 tasks      | elapsed:    0.4s\n",
            "[Parallel(n_jobs=2)]: Done 128 tasks      | elapsed:    0.4s\n",
            "[Parallel(n_jobs=2)]: Done 129 tasks      | elapsed:    0.4s\n",
            "[Parallel(n_jobs=2)]: Done 130 tasks      | elapsed:    0.4s\n",
            "[Parallel(n_jobs=2)]: Done 131 tasks      | elapsed:    0.4s\n",
            "[Parallel(n_jobs=2)]: Done 132 tasks      | elapsed:    0.4s\n",
            "[Parallel(n_jobs=2)]: Done 133 tasks      | elapsed:    0.4s\n",
            "[Parallel(n_jobs=2)]: Done 134 tasks      | elapsed:    0.4s\n",
            "[Parallel(n_jobs=2)]: Done 135 tasks      | elapsed:    0.4s\n",
            "[Parallel(n_jobs=2)]: Done 136 tasks      | elapsed:    0.4s\n",
            "[Parallel(n_jobs=2)]: Done 137 tasks      | elapsed:    0.4s\n",
            "[Parallel(n_jobs=2)]: Done 138 tasks      | elapsed:    0.4s\n",
            "[Parallel(n_jobs=2)]: Done 139 tasks      | elapsed:    0.4s\n",
            "[Parallel(n_jobs=2)]: Done 140 tasks      | elapsed:    0.4s\n",
            "[Parallel(n_jobs=2)]: Done 141 tasks      | elapsed:    0.4s\n",
            "[Parallel(n_jobs=2)]: Done 142 tasks      | elapsed:    0.4s\n",
            "[Parallel(n_jobs=2)]: Done 143 tasks      | elapsed:    0.4s\n",
            "[Parallel(n_jobs=2)]: Done 144 tasks      | elapsed:    0.4s\n",
            "[Parallel(n_jobs=2)]: Done 145 tasks      | elapsed:    0.4s\n",
            "[Parallel(n_jobs=2)]: Done 146 tasks      | elapsed:    0.4s\n",
            "[Parallel(n_jobs=2)]: Done 147 tasks      | elapsed:    0.4s\n",
            "[Parallel(n_jobs=2)]: Done 148 tasks      | elapsed:    0.4s\n",
            "[Parallel(n_jobs=2)]: Done 149 tasks      | elapsed:    0.4s\n",
            "[Parallel(n_jobs=2)]: Done 150 tasks      | elapsed:    0.4s\n",
            "[Parallel(n_jobs=2)]: Done 151 tasks      | elapsed:    0.4s\n",
            "[Parallel(n_jobs=2)]: Done 152 tasks      | elapsed:    0.5s\n",
            "[Parallel(n_jobs=2)]: Done 153 tasks      | elapsed:    0.5s\n",
            "[Parallel(n_jobs=2)]: Done 154 tasks      | elapsed:    0.5s\n",
            "[Parallel(n_jobs=2)]: Done 155 tasks      | elapsed:    0.5s\n",
            "[Parallel(n_jobs=2)]: Done 156 tasks      | elapsed:    0.5s\n",
            "[Parallel(n_jobs=2)]: Done 157 tasks      | elapsed:    0.5s\n",
            "[Parallel(n_jobs=2)]: Done 158 tasks      | elapsed:    0.5s\n",
            "[Parallel(n_jobs=2)]: Done 159 tasks      | elapsed:    0.5s\n",
            "[Parallel(n_jobs=2)]: Done 160 tasks      | elapsed:    0.5s\n",
            "[Parallel(n_jobs=2)]: Done 161 tasks      | elapsed:    0.5s\n",
            "[Parallel(n_jobs=2)]: Done 162 tasks      | elapsed:    0.5s\n",
            "[Parallel(n_jobs=2)]: Done 163 tasks      | elapsed:    0.5s\n",
            "[Parallel(n_jobs=2)]: Done 164 tasks      | elapsed:    0.5s\n",
            "[Parallel(n_jobs=2)]: Done 165 tasks      | elapsed:    0.5s\n",
            "[Parallel(n_jobs=2)]: Done 166 tasks      | elapsed:    0.5s\n",
            "[Parallel(n_jobs=2)]: Done 167 tasks      | elapsed:    0.5s\n",
            "[Parallel(n_jobs=2)]: Done 168 tasks      | elapsed:    0.5s\n",
            "[Parallel(n_jobs=2)]: Done 169 tasks      | elapsed:    0.5s\n",
            "[Parallel(n_jobs=2)]: Done 170 tasks      | elapsed:    0.5s\n",
            "[Parallel(n_jobs=2)]: Done 171 tasks      | elapsed:    0.5s\n",
            "[Parallel(n_jobs=2)]: Done 172 tasks      | elapsed:    0.5s\n",
            "[Parallel(n_jobs=2)]: Done 173 tasks      | elapsed:    0.5s\n",
            "[Parallel(n_jobs=2)]: Done 174 tasks      | elapsed:    0.5s\n",
            "[Parallel(n_jobs=2)]: Done 175 tasks      | elapsed:    0.5s\n",
            "[Parallel(n_jobs=2)]: Done 176 tasks      | elapsed:    0.5s\n",
            "[Parallel(n_jobs=2)]: Done 177 tasks      | elapsed:    0.5s\n",
            "[Parallel(n_jobs=2)]: Done 178 tasks      | elapsed:    0.5s\n",
            "[Parallel(n_jobs=2)]: Done 179 tasks      | elapsed:    0.5s\n",
            "[Parallel(n_jobs=2)]: Done 180 tasks      | elapsed:    0.5s\n",
            "[Parallel(n_jobs=2)]: Done 181 tasks      | elapsed:    0.5s\n",
            "[Parallel(n_jobs=2)]: Done 182 tasks      | elapsed:    0.5s\n",
            "[Parallel(n_jobs=2)]: Done 183 tasks      | elapsed:    0.5s\n",
            "[Parallel(n_jobs=2)]: Done 184 tasks      | elapsed:    0.6s\n",
            "[Parallel(n_jobs=2)]: Done 185 tasks      | elapsed:    0.6s\n",
            "[Parallel(n_jobs=2)]: Done 186 tasks      | elapsed:    0.6s\n",
            "[Parallel(n_jobs=2)]: Done 187 tasks      | elapsed:    0.6s\n",
            "[Parallel(n_jobs=2)]: Done 188 tasks      | elapsed:    0.6s\n",
            "[Parallel(n_jobs=2)]: Done 189 tasks      | elapsed:    0.6s\n",
            "[Parallel(n_jobs=2)]: Done 190 tasks      | elapsed:    0.6s\n",
            "[Parallel(n_jobs=2)]: Done 191 tasks      | elapsed:    0.6s\n",
            "[Parallel(n_jobs=2)]: Done 192 tasks      | elapsed:    0.6s\n",
            "[Parallel(n_jobs=2)]: Done 193 tasks      | elapsed:    0.6s\n",
            "[Parallel(n_jobs=2)]: Done 194 tasks      | elapsed:    0.6s\n",
            "[Parallel(n_jobs=2)]: Done 195 tasks      | elapsed:    0.6s\n",
            "[Parallel(n_jobs=2)]: Done 196 tasks      | elapsed:    0.6s\n",
            "[Parallel(n_jobs=2)]: Done 197 tasks      | elapsed:    0.6s\n",
            "[Parallel(n_jobs=2)]: Done 200 out of 200 | elapsed:    0.6s finished\n",
            "[Parallel(n_jobs=-1)]: Using backend LokyBackend with 2 concurrent workers.\n",
            "[Parallel(n_jobs=-1)]: Done   1 tasks      | elapsed:    4.2s\n",
            "[Parallel(n_jobs=-1)]: Done   2 tasks      | elapsed:    4.5s\n",
            "[Parallel(n_jobs=-1)]: Done   3 tasks      | elapsed:    7.9s\n",
            "[Parallel(n_jobs=-1)]: Done   4 tasks      | elapsed:    8.0s\n",
            "[Parallel(n_jobs=-1)]: Done   5 tasks      | elapsed:   11.7s\n",
            "[Parallel(n_jobs=-1)]: Done   6 tasks      | elapsed:   11.8s\n",
            "[Parallel(n_jobs=-1)]: Done   7 tasks      | elapsed:   15.6s\n",
            "[Parallel(n_jobs=-1)]: Done   8 tasks      | elapsed:   15.7s\n",
            "[Parallel(n_jobs=-1)]: Done   9 tasks      | elapsed:   19.1s\n",
            "[Parallel(n_jobs=-1)]: Done  10 tasks      | elapsed:   20.5s\n",
            "[Parallel(n_jobs=-1)]: Done  11 tasks      | elapsed:   23.1s\n",
            "[Parallel(n_jobs=-1)]: Done  12 tasks      | elapsed:   25.6s\n",
            "[Parallel(n_jobs=-1)]: Done  13 tasks      | elapsed:   26.9s\n",
            "[Parallel(n_jobs=-1)]: Done  14 tasks      | elapsed:   29.6s\n",
            "[Parallel(n_jobs=-1)]: Done  15 tasks      | elapsed:   31.4s\n",
            "[Parallel(n_jobs=-1)]: Done  16 tasks      | elapsed:   33.4s\n",
            "[Parallel(n_jobs=-1)]: Done  17 tasks      | elapsed:   35.6s\n",
            "[Parallel(n_jobs=-1)]: Done  18 tasks      | elapsed:   37.4s\n",
            "[Parallel(n_jobs=-1)]: Done  19 tasks      | elapsed:   39.4s\n",
            "[Parallel(n_jobs=-1)]: Done  20 tasks      | elapsed:   41.3s\n",
            "[Parallel(n_jobs=-1)]: Done  21 tasks      | elapsed:   43.6s\n",
            "[Parallel(n_jobs=-1)]: Done  22 tasks      | elapsed:   45.9s\n",
            "[Parallel(n_jobs=-1)]: Done  23 tasks      | elapsed:   47.3s\n",
            "[Parallel(n_jobs=-1)]: Done  24 tasks      | elapsed:   51.0s\n",
            "[Parallel(n_jobs=-1)]: Done  25 tasks      | elapsed:   51.1s\n",
            "[Parallel(n_jobs=-1)]: Done  26 tasks      | elapsed:   54.9s\n",
            "[Parallel(n_jobs=-1)]: Done  27 tasks      | elapsed:   55.0s\n",
            "[Parallel(n_jobs=-1)]: Done  28 tasks      | elapsed:   58.2s\n",
            "[Parallel(n_jobs=-1)]: Done  29 tasks      | elapsed:   59.2s\n",
            "[Parallel(n_jobs=-1)]: Done  30 tasks      | elapsed:  1.0min\n",
            "[Parallel(n_jobs=-1)]: Done  31 tasks      | elapsed:  1.0min\n",
            "[Parallel(n_jobs=-1)]: Done  32 tasks      | elapsed:  1.1min\n",
            "[Parallel(n_jobs=-1)]: Done  33 tasks      | elapsed:  1.1min\n",
            "[Parallel(n_jobs=-1)]: Done  34 tasks      | elapsed:  1.2min\n",
            "[Parallel(n_jobs=-1)]: Done  35 tasks      | elapsed:  1.2min\n",
            "[Parallel(n_jobs=-1)]: Done  36 tasks      | elapsed:  1.2min\n",
            "[Parallel(n_jobs=-1)]: Done  37 tasks      | elapsed:  1.2min\n",
            "[Parallel(n_jobs=-1)]: Done  38 tasks      | elapsed:  1.3min\n",
            "[Parallel(n_jobs=-1)]: Done  39 tasks      | elapsed:  1.3min\n",
            "[Parallel(n_jobs=-1)]: Done  40 tasks      | elapsed:  1.4min\n",
            "[Parallel(n_jobs=-1)]: Done  41 tasks      | elapsed:  1.4min\n",
            "[Parallel(n_jobs=-1)]: Done  42 tasks      | elapsed:  1.4min\n",
            "[Parallel(n_jobs=-1)]: Done  43 tasks      | elapsed:  1.4min\n",
            "[Parallel(n_jobs=-1)]: Done  44 tasks      | elapsed:  1.5min\n",
            "[Parallel(n_jobs=-1)]: Done  45 tasks      | elapsed:  1.5min\n",
            "[Parallel(n_jobs=-1)]: Done  46 tasks      | elapsed:  1.6min\n",
            "[Parallel(n_jobs=-1)]: Done  47 tasks      | elapsed:  1.6min\n",
            "[Parallel(n_jobs=-1)]: Done  48 tasks      | elapsed:  1.6min\n",
            "[Parallel(n_jobs=-1)]: Done  49 tasks      | elapsed:  1.6min\n",
            "[Parallel(n_jobs=-1)]: Done  50 tasks      | elapsed:  1.7min\n",
            "[Parallel(n_jobs=-1)]: Done  51 tasks      | elapsed:  1.7min\n",
            "[Parallel(n_jobs=-1)]: Done  52 tasks      | elapsed:  1.8min\n",
            "[Parallel(n_jobs=-1)]: Done  53 tasks      | elapsed:  1.8min\n",
            "[Parallel(n_jobs=-1)]: Done  54 tasks      | elapsed:  1.8min\n",
            "[Parallel(n_jobs=-1)]: Done  55 tasks      | elapsed:  1.8min\n",
            "[Parallel(n_jobs=-1)]: Done  56 tasks      | elapsed:  1.9min\n",
            "[Parallel(n_jobs=-1)]: Done  57 tasks      | elapsed:  1.9min\n",
            "[Parallel(n_jobs=-1)]: Done  58 tasks      | elapsed:  2.0min\n",
            "[Parallel(n_jobs=-1)]: Done  59 tasks      | elapsed:  2.0min\n",
            "[Parallel(n_jobs=-1)]: Done  60 tasks      | elapsed:  2.1min\n",
            "[Parallel(n_jobs=-1)]: Done  61 tasks      | elapsed:  2.1min\n",
            "[Parallel(n_jobs=-1)]: Done  62 tasks      | elapsed:  2.1min\n",
            "[Parallel(n_jobs=-1)]: Done  63 tasks      | elapsed:  2.1min\n",
            "[Parallel(n_jobs=-1)]: Done  64 tasks      | elapsed:  2.2min\n",
            "[Parallel(n_jobs=-1)]: Done  65 tasks      | elapsed:  2.2min\n",
            "[Parallel(n_jobs=-1)]: Done  66 tasks      | elapsed:  2.2min\n",
            "[Parallel(n_jobs=-1)]: Done  67 tasks      | elapsed:  2.3min\n",
            "[Parallel(n_jobs=-1)]: Done  68 tasks      | elapsed:  2.3min\n",
            "[Parallel(n_jobs=-1)]: Done  69 tasks      | elapsed:  2.3min\n",
            "[Parallel(n_jobs=-1)]: Done  70 tasks      | elapsed:  2.4min\n",
            "[Parallel(n_jobs=-1)]: Done  71 tasks      | elapsed:  2.4min\n",
            "[Parallel(n_jobs=-1)]: Done  72 tasks      | elapsed:  2.4min\n",
            "[Parallel(n_jobs=-1)]: Done  73 tasks      | elapsed:  2.5min\n",
            "[Parallel(n_jobs=-1)]: Done  74 tasks      | elapsed:  2.5min\n",
            "[Parallel(n_jobs=-1)]: Done  75 tasks      | elapsed:  2.5min\n",
            "[Parallel(n_jobs=-1)]: Done  76 tasks      | elapsed:  2.6min\n",
            "[Parallel(n_jobs=-1)]: Done  77 tasks      | elapsed:  2.6min\n",
            "[Parallel(n_jobs=-1)]: Done  78 tasks      | elapsed:  2.6min\n",
            "[Parallel(n_jobs=-1)]: Done  79 tasks      | elapsed:  2.7min\n",
            "[Parallel(n_jobs=-1)]: Done  80 tasks      | elapsed:  2.7min\n",
            "[Parallel(n_jobs=-1)]: Done  81 tasks      | elapsed:  2.7min\n",
            "[Parallel(n_jobs=-1)]: Done  82 tasks      | elapsed:  2.8min\n",
            "[Parallel(n_jobs=-1)]: Done  83 tasks      | elapsed:  2.8min\n",
            "[Parallel(n_jobs=-1)]: Done  84 tasks      | elapsed:  2.8min\n",
            "[Parallel(n_jobs=-1)]: Done  85 tasks      | elapsed:  2.9min\n",
            "[Parallel(n_jobs=-1)]: Done  86 tasks      | elapsed:  2.9min\n",
            "[Parallel(n_jobs=-1)]: Done  87 tasks      | elapsed:  2.9min\n",
            "[Parallel(n_jobs=-1)]: Done  88 tasks      | elapsed:  3.0min\n",
            "[Parallel(n_jobs=-1)]: Done  89 tasks      | elapsed:  3.0min\n",
            "[Parallel(n_jobs=-1)]: Done  90 tasks      | elapsed:  3.0min\n",
            "[Parallel(n_jobs=-1)]: Done  91 tasks      | elapsed:  3.1min\n",
            "[Parallel(n_jobs=-1)]: Done  92 tasks      | elapsed:  3.1min\n",
            "[Parallel(n_jobs=-1)]: Done  93 tasks      | elapsed:  3.1min\n",
            "[Parallel(n_jobs=-1)]: Done  94 tasks      | elapsed:  3.2min\n",
            "[Parallel(n_jobs=-1)]: Done  95 tasks      | elapsed:  3.2min\n",
            "[Parallel(n_jobs=-1)]: Done  96 tasks      | elapsed:  3.2min\n",
            "[Parallel(n_jobs=-1)]: Done  97 tasks      | elapsed:  3.3min\n",
            "[Parallel(n_jobs=-1)]: Done  98 tasks      | elapsed:  3.3min\n",
            "[Parallel(n_jobs=-1)]: Done  99 tasks      | elapsed:  3.3min\n",
            "[Parallel(n_jobs=-1)]: Done 100 tasks      | elapsed:  3.4min\n",
            "[Parallel(n_jobs=-1)]: Done 101 tasks      | elapsed:  3.4min\n",
            "[Parallel(n_jobs=-1)]: Done 102 tasks      | elapsed:  3.4min\n",
            "[Parallel(n_jobs=-1)]: Done 103 tasks      | elapsed:  3.5min\n",
            "[Parallel(n_jobs=-1)]: Done 104 tasks      | elapsed:  3.5min\n",
            "[Parallel(n_jobs=-1)]: Done 105 tasks      | elapsed:  3.5min\n",
            "[Parallel(n_jobs=-1)]: Done 106 tasks      | elapsed:  3.6min\n",
            "[Parallel(n_jobs=-1)]: Done 107 tasks      | elapsed:  3.6min\n",
            "[Parallel(n_jobs=-1)]: Done 108 tasks      | elapsed:  3.6min\n",
            "[Parallel(n_jobs=-1)]: Done 109 tasks      | elapsed:  3.7min\n",
            "[Parallel(n_jobs=-1)]: Done 110 tasks      | elapsed:  3.7min\n",
            "[Parallel(n_jobs=-1)]: Done 111 tasks      | elapsed:  3.7min\n",
            "[Parallel(n_jobs=-1)]: Done 112 tasks      | elapsed:  3.8min\n",
            "[Parallel(n_jobs=-1)]: Done 113 tasks      | elapsed:  3.8min\n",
            "[Parallel(n_jobs=-1)]: Done 114 tasks      | elapsed:  3.8min\n",
            "[Parallel(n_jobs=-1)]: Done 115 tasks      | elapsed:  3.9min\n",
            "[Parallel(n_jobs=-1)]: Done 116 tasks      | elapsed:  3.9min\n",
            "[Parallel(n_jobs=-1)]: Done 117 tasks      | elapsed:  3.9min\n",
            "[Parallel(n_jobs=-1)]: Done 118 tasks      | elapsed:  4.0min\n",
            "[Parallel(n_jobs=-1)]: Done 119 tasks      | elapsed:  4.0min\n",
            "[Parallel(n_jobs=-1)]: Done 120 tasks      | elapsed:  4.0min\n",
            "[Parallel(n_jobs=-1)]: Done 121 tasks      | elapsed:  4.1min\n",
            "[Parallel(n_jobs=-1)]: Done 122 tasks      | elapsed:  4.1min\n",
            "[Parallel(n_jobs=-1)]: Done 123 tasks      | elapsed:  4.2min\n",
            "[Parallel(n_jobs=-1)]: Done 124 tasks      | elapsed:  4.2min\n",
            "[Parallel(n_jobs=-1)]: Done 125 tasks      | elapsed:  4.2min\n",
            "[Parallel(n_jobs=-1)]: Done 126 tasks      | elapsed:  4.3min\n",
            "[Parallel(n_jobs=-1)]: Done 127 tasks      | elapsed:  4.3min\n",
            "[Parallel(n_jobs=-1)]: Done 128 tasks      | elapsed:  4.3min\n",
            "[Parallel(n_jobs=-1)]: Done 129 tasks      | elapsed:  4.4min\n",
            "[Parallel(n_jobs=-1)]: Done 130 tasks      | elapsed:  4.4min\n",
            "[Parallel(n_jobs=-1)]: Done 131 tasks      | elapsed:  4.4min\n",
            "[Parallel(n_jobs=-1)]: Done 132 tasks      | elapsed:  4.5min\n",
            "[Parallel(n_jobs=-1)]: Done 133 tasks      | elapsed:  4.5min\n",
            "[Parallel(n_jobs=-1)]: Done 134 tasks      | elapsed:  4.5min\n",
            "[Parallel(n_jobs=-1)]: Done 135 tasks      | elapsed:  4.6min\n",
            "[Parallel(n_jobs=-1)]: Done 136 tasks      | elapsed:  4.6min\n",
            "[Parallel(n_jobs=-1)]: Done 137 tasks      | elapsed:  4.6min\n",
            "[Parallel(n_jobs=-1)]: Done 138 tasks      | elapsed:  4.7min\n",
            "[Parallel(n_jobs=-1)]: Done 139 tasks      | elapsed:  4.7min\n",
            "[Parallel(n_jobs=-1)]: Done 140 tasks      | elapsed:  4.7min\n",
            "[Parallel(n_jobs=-1)]: Done 141 tasks      | elapsed:  4.8min\n",
            "[Parallel(n_jobs=-1)]: Done 142 tasks      | elapsed:  4.8min\n",
            "[Parallel(n_jobs=-1)]: Done 143 tasks      | elapsed:  4.9min\n",
            "[Parallel(n_jobs=-1)]: Done 144 tasks      | elapsed:  4.9min\n",
            "[Parallel(n_jobs=-1)]: Done 145 tasks      | elapsed:  4.9min\n",
            "[Parallel(n_jobs=-1)]: Done 146 tasks      | elapsed:  4.9min\n",
            "[Parallel(n_jobs=-1)]: Done 147 tasks      | elapsed:  5.0min\n",
            "[Parallel(n_jobs=-1)]: Done 148 tasks      | elapsed:  5.0min\n",
            "[Parallel(n_jobs=-1)]: Done 149 tasks      | elapsed:  5.0min\n",
            "[Parallel(n_jobs=-1)]: Done 150 tasks      | elapsed:  5.1min\n",
            "[Parallel(n_jobs=-1)]: Done 151 tasks      | elapsed:  5.1min\n",
            "[Parallel(n_jobs=-1)]: Done 152 tasks      | elapsed:  5.1min\n",
            "[Parallel(n_jobs=-1)]: Done 153 tasks      | elapsed:  5.2min\n",
            "[Parallel(n_jobs=-1)]: Done 154 tasks      | elapsed:  5.2min\n",
            "[Parallel(n_jobs=-1)]: Done 155 tasks      | elapsed:  5.2min\n",
            "[Parallel(n_jobs=-1)]: Done 156 tasks      | elapsed:  5.3min\n",
            "[Parallel(n_jobs=-1)]: Done 157 tasks      | elapsed:  5.3min\n",
            "[Parallel(n_jobs=-1)]: Done 158 tasks      | elapsed:  5.3min\n",
            "[Parallel(n_jobs=-1)]: Done 159 tasks      | elapsed:  5.4min\n",
            "[Parallel(n_jobs=-1)]: Done 160 tasks      | elapsed:  5.4min\n",
            "[Parallel(n_jobs=-1)]: Done 161 tasks      | elapsed:  5.5min\n",
            "[Parallel(n_jobs=-1)]: Done 162 tasks      | elapsed:  5.5min\n",
            "[Parallel(n_jobs=-1)]: Done 163 tasks      | elapsed:  5.5min\n",
            "[Parallel(n_jobs=-1)]: Done 164 tasks      | elapsed:  5.5min\n",
            "[Parallel(n_jobs=-1)]: Done 165 tasks      | elapsed:  5.6min\n",
            "[Parallel(n_jobs=-1)]: Done 166 tasks      | elapsed:  5.6min\n",
            "[Parallel(n_jobs=-1)]: Done 167 tasks      | elapsed:  5.7min\n",
            "[Parallel(n_jobs=-1)]: Done 168 tasks      | elapsed:  5.7min\n",
            "[Parallel(n_jobs=-1)]: Done 169 tasks      | elapsed:  5.7min\n",
            "[Parallel(n_jobs=-1)]: Done 170 tasks      | elapsed:  5.7min\n",
            "[Parallel(n_jobs=-1)]: Done 171 tasks      | elapsed:  5.8min\n",
            "[Parallel(n_jobs=-1)]: Done 172 tasks      | elapsed:  5.8min\n",
            "[Parallel(n_jobs=-1)]: Done 173 tasks      | elapsed:  5.9min\n",
            "[Parallel(n_jobs=-1)]: Done 174 tasks      | elapsed:  5.9min\n",
            "[Parallel(n_jobs=-1)]: Done 175 tasks      | elapsed:  5.9min\n",
            "[Parallel(n_jobs=-1)]: Done 176 tasks      | elapsed:  5.9min\n",
            "[Parallel(n_jobs=-1)]: Done 177 tasks      | elapsed:  6.0min\n",
            "[Parallel(n_jobs=-1)]: Done 178 tasks      | elapsed:  6.0min\n",
            "[Parallel(n_jobs=-1)]: Done 179 tasks      | elapsed:  6.1min\n",
            "[Parallel(n_jobs=-1)]: Done 180 tasks      | elapsed:  6.1min\n",
            "[Parallel(n_jobs=-1)]: Done 181 tasks      | elapsed:  6.1min\n",
            "[Parallel(n_jobs=-1)]: Done 182 tasks      | elapsed:  6.1min\n",
            "[Parallel(n_jobs=-1)]: Done 183 tasks      | elapsed:  6.2min\n",
            "[Parallel(n_jobs=-1)]: Done 184 tasks      | elapsed:  6.2min\n",
            "[Parallel(n_jobs=-1)]: Done 185 tasks      | elapsed:  6.3min\n",
            "[Parallel(n_jobs=-1)]: Done 186 tasks      | elapsed:  6.3min\n",
            "[Parallel(n_jobs=-1)]: Done 187 tasks      | elapsed:  6.3min\n",
            "[Parallel(n_jobs=-1)]: Done 188 tasks      | elapsed:  6.3min\n",
            "[Parallel(n_jobs=-1)]: Done 189 tasks      | elapsed:  6.4min\n",
            "[Parallel(n_jobs=-1)]: Done 190 tasks      | elapsed:  6.4min\n",
            "[Parallel(n_jobs=-1)]: Done 191 tasks      | elapsed:  6.5min\n",
            "[Parallel(n_jobs=-1)]: Done 192 tasks      | elapsed:  6.5min\n",
            "[Parallel(n_jobs=-1)]: Done 193 tasks      | elapsed:  6.5min\n",
            "[Parallel(n_jobs=-1)]: Done 194 tasks      | elapsed:  6.5min\n",
            "[Parallel(n_jobs=-1)]: Done 195 tasks      | elapsed:  6.6min\n",
            "[Parallel(n_jobs=-1)]: Done 196 tasks      | elapsed:  6.6min\n",
            "[Parallel(n_jobs=-1)]: Done 197 tasks      | elapsed:  6.6min\n",
            "[Parallel(n_jobs=-1)]: Done 200 out of 200 | elapsed:  6.7min finished\n",
            "[Parallel(n_jobs=2)]: Using backend ThreadingBackend with 2 concurrent workers.\n",
            "[Parallel(n_jobs=2)]: Done   1 tasks      | elapsed:    0.0s\n",
            "[Parallel(n_jobs=2)]: Done   2 tasks      | elapsed:    0.0s\n",
            "[Parallel(n_jobs=2)]: Done   3 tasks      | elapsed:    0.0s\n",
            "[Parallel(n_jobs=2)]: Done   4 tasks      | elapsed:    0.0s\n",
            "[Parallel(n_jobs=2)]: Done   5 tasks      | elapsed:    0.0s\n",
            "[Parallel(n_jobs=2)]: Done   6 tasks      | elapsed:    0.0s\n",
            "[Parallel(n_jobs=2)]: Done   7 tasks      | elapsed:    0.0s\n",
            "[Parallel(n_jobs=2)]: Done   8 tasks      | elapsed:    0.0s\n",
            "[Parallel(n_jobs=2)]: Done   9 tasks      | elapsed:    0.0s\n",
            "[Parallel(n_jobs=2)]: Done  10 tasks      | elapsed:    0.0s\n",
            "[Parallel(n_jobs=2)]: Done  11 tasks      | elapsed:    0.0s\n",
            "[Parallel(n_jobs=2)]: Done  12 tasks      | elapsed:    0.0s\n",
            "[Parallel(n_jobs=2)]: Done  13 tasks      | elapsed:    0.0s\n",
            "[Parallel(n_jobs=2)]: Done  14 tasks      | elapsed:    0.0s\n",
            "[Parallel(n_jobs=2)]: Done  15 tasks      | elapsed:    0.0s\n",
            "[Parallel(n_jobs=2)]: Done  16 tasks      | elapsed:    0.0s\n",
            "[Parallel(n_jobs=2)]: Done  17 tasks      | elapsed:    0.0s\n",
            "[Parallel(n_jobs=2)]: Done  18 tasks      | elapsed:    0.0s\n",
            "[Parallel(n_jobs=2)]: Done  19 tasks      | elapsed:    0.0s\n",
            "[Parallel(n_jobs=2)]: Done  20 tasks      | elapsed:    0.0s\n",
            "[Parallel(n_jobs=2)]: Done  21 tasks      | elapsed:    0.1s\n",
            "[Parallel(n_jobs=2)]: Done  22 tasks      | elapsed:    0.1s\n",
            "[Parallel(n_jobs=2)]: Done  23 tasks      | elapsed:    0.1s\n",
            "[Parallel(n_jobs=2)]: Done  24 tasks      | elapsed:    0.1s\n",
            "[Parallel(n_jobs=2)]: Done  25 tasks      | elapsed:    0.1s\n",
            "[Parallel(n_jobs=2)]: Done  26 tasks      | elapsed:    0.1s\n",
            "[Parallel(n_jobs=2)]: Done  27 tasks      | elapsed:    0.1s\n",
            "[Parallel(n_jobs=2)]: Done  28 tasks      | elapsed:    0.1s\n",
            "[Parallel(n_jobs=2)]: Done  29 tasks      | elapsed:    0.1s\n",
            "[Parallel(n_jobs=2)]: Done  30 tasks      | elapsed:    0.1s\n",
            "[Parallel(n_jobs=2)]: Done  31 tasks      | elapsed:    0.1s\n",
            "[Parallel(n_jobs=2)]: Done  32 tasks      | elapsed:    0.1s\n",
            "[Parallel(n_jobs=2)]: Done  33 tasks      | elapsed:    0.1s\n",
            "[Parallel(n_jobs=2)]: Done  34 tasks      | elapsed:    0.1s\n",
            "[Parallel(n_jobs=2)]: Done  35 tasks      | elapsed:    0.1s\n",
            "[Parallel(n_jobs=2)]: Done  36 tasks      | elapsed:    0.1s\n",
            "[Parallel(n_jobs=2)]: Done  37 tasks      | elapsed:    0.1s\n",
            "[Parallel(n_jobs=2)]: Done  38 tasks      | elapsed:    0.1s\n",
            "[Parallel(n_jobs=2)]: Done  39 tasks      | elapsed:    0.1s\n"
          ],
          "name": "stderr"
        },
        {
          "output_type": "stream",
          "text": [
            "Using ThreadingBackend as joblib.Parallel backend instead of LokyBackend as the latter does not provide shared memory semantics.\n"
          ],
          "name": "stdout"
        },
        {
          "output_type": "stream",
          "text": [
            "[Parallel(n_jobs=2)]: Done  40 tasks      | elapsed:    0.1s\n",
            "[Parallel(n_jobs=2)]: Done  41 tasks      | elapsed:    0.1s\n",
            "[Parallel(n_jobs=2)]: Done  42 tasks      | elapsed:    0.1s\n",
            "[Parallel(n_jobs=2)]: Done  43 tasks      | elapsed:    0.1s\n",
            "[Parallel(n_jobs=2)]: Done  44 tasks      | elapsed:    0.1s\n",
            "[Parallel(n_jobs=2)]: Done  45 tasks      | elapsed:    0.1s\n",
            "[Parallel(n_jobs=2)]: Done  46 tasks      | elapsed:    0.1s\n",
            "[Parallel(n_jobs=2)]: Done  47 tasks      | elapsed:    0.1s\n",
            "[Parallel(n_jobs=2)]: Done  48 tasks      | elapsed:    0.1s\n",
            "[Parallel(n_jobs=2)]: Done  49 tasks      | elapsed:    0.1s\n",
            "[Parallel(n_jobs=2)]: Done  50 tasks      | elapsed:    0.1s\n",
            "[Parallel(n_jobs=2)]: Done  51 tasks      | elapsed:    0.1s\n",
            "[Parallel(n_jobs=2)]: Done  52 tasks      | elapsed:    0.1s\n",
            "[Parallel(n_jobs=2)]: Done  53 tasks      | elapsed:    0.1s\n",
            "[Parallel(n_jobs=2)]: Done  54 tasks      | elapsed:    0.1s\n",
            "[Parallel(n_jobs=2)]: Done  55 tasks      | elapsed:    0.1s\n",
            "[Parallel(n_jobs=2)]: Done  56 tasks      | elapsed:    0.1s\n",
            "[Parallel(n_jobs=2)]: Done  57 tasks      | elapsed:    0.1s\n",
            "[Parallel(n_jobs=2)]: Done  58 tasks      | elapsed:    0.1s\n",
            "[Parallel(n_jobs=2)]: Done  59 tasks      | elapsed:    0.1s\n",
            "[Parallel(n_jobs=2)]: Done  60 tasks      | elapsed:    0.2s\n",
            "[Parallel(n_jobs=2)]: Done  61 tasks      | elapsed:    0.2s\n",
            "[Parallel(n_jobs=2)]: Done  62 tasks      | elapsed:    0.2s\n",
            "[Parallel(n_jobs=2)]: Done  63 tasks      | elapsed:    0.2s\n",
            "[Parallel(n_jobs=2)]: Done  64 tasks      | elapsed:    0.2s\n",
            "[Parallel(n_jobs=2)]: Done  65 tasks      | elapsed:    0.2s\n",
            "[Parallel(n_jobs=2)]: Done  66 tasks      | elapsed:    0.2s\n",
            "[Parallel(n_jobs=2)]: Done  67 tasks      | elapsed:    0.2s\n",
            "[Parallel(n_jobs=2)]: Done  68 tasks      | elapsed:    0.2s\n",
            "[Parallel(n_jobs=2)]: Done  69 tasks      | elapsed:    0.2s\n",
            "[Parallel(n_jobs=2)]: Done  70 tasks      | elapsed:    0.2s\n",
            "[Parallel(n_jobs=2)]: Done  71 tasks      | elapsed:    0.2s\n",
            "[Parallel(n_jobs=2)]: Done  72 tasks      | elapsed:    0.2s\n",
            "[Parallel(n_jobs=2)]: Done  73 tasks      | elapsed:    0.2s\n",
            "[Parallel(n_jobs=2)]: Done  74 tasks      | elapsed:    0.2s\n",
            "[Parallel(n_jobs=2)]: Done  75 tasks      | elapsed:    0.2s\n",
            "[Parallel(n_jobs=2)]: Done  76 tasks      | elapsed:    0.2s\n",
            "[Parallel(n_jobs=2)]: Done  77 tasks      | elapsed:    0.2s\n",
            "[Parallel(n_jobs=2)]: Done  78 tasks      | elapsed:    0.2s\n",
            "[Parallel(n_jobs=2)]: Done  79 tasks      | elapsed:    0.2s\n",
            "[Parallel(n_jobs=2)]: Done  80 tasks      | elapsed:    0.2s\n",
            "[Parallel(n_jobs=2)]: Done  81 tasks      | elapsed:    0.2s\n",
            "[Parallel(n_jobs=2)]: Done  82 tasks      | elapsed:    0.2s\n",
            "[Parallel(n_jobs=2)]: Done  83 tasks      | elapsed:    0.2s\n",
            "[Parallel(n_jobs=2)]: Done  84 tasks      | elapsed:    0.2s\n",
            "[Parallel(n_jobs=2)]: Done  85 tasks      | elapsed:    0.2s\n",
            "[Parallel(n_jobs=2)]: Done  86 tasks      | elapsed:    0.2s\n",
            "[Parallel(n_jobs=2)]: Done  87 tasks      | elapsed:    0.2s\n",
            "[Parallel(n_jobs=2)]: Done  88 tasks      | elapsed:    0.2s\n",
            "[Parallel(n_jobs=2)]: Done  89 tasks      | elapsed:    0.2s\n",
            "[Parallel(n_jobs=2)]: Done  90 tasks      | elapsed:    0.2s\n",
            "[Parallel(n_jobs=2)]: Done  91 tasks      | elapsed:    0.2s\n",
            "[Parallel(n_jobs=2)]: Done  92 tasks      | elapsed:    0.2s\n",
            "[Parallel(n_jobs=2)]: Done  93 tasks      | elapsed:    0.2s\n",
            "[Parallel(n_jobs=2)]: Done  94 tasks      | elapsed:    0.3s\n",
            "[Parallel(n_jobs=2)]: Done  95 tasks      | elapsed:    0.3s\n",
            "[Parallel(n_jobs=2)]: Done  96 tasks      | elapsed:    0.3s\n",
            "[Parallel(n_jobs=2)]: Done  97 tasks      | elapsed:    0.3s\n",
            "[Parallel(n_jobs=2)]: Done  98 tasks      | elapsed:    0.3s\n",
            "[Parallel(n_jobs=2)]: Done  99 tasks      | elapsed:    0.3s\n",
            "[Parallel(n_jobs=2)]: Done 100 tasks      | elapsed:    0.3s\n",
            "[Parallel(n_jobs=2)]: Done 101 tasks      | elapsed:    0.3s\n",
            "[Parallel(n_jobs=2)]: Done 102 tasks      | elapsed:    0.3s\n",
            "[Parallel(n_jobs=2)]: Done 103 tasks      | elapsed:    0.3s\n",
            "[Parallel(n_jobs=2)]: Done 104 tasks      | elapsed:    0.3s\n",
            "[Parallel(n_jobs=2)]: Done 105 tasks      | elapsed:    0.3s\n",
            "[Parallel(n_jobs=2)]: Done 106 tasks      | elapsed:    0.3s\n",
            "[Parallel(n_jobs=2)]: Done 107 tasks      | elapsed:    0.3s\n",
            "[Parallel(n_jobs=2)]: Done 108 tasks      | elapsed:    0.3s\n",
            "[Parallel(n_jobs=2)]: Done 109 tasks      | elapsed:    0.3s\n",
            "[Parallel(n_jobs=2)]: Done 110 tasks      | elapsed:    0.3s\n",
            "[Parallel(n_jobs=2)]: Done 111 tasks      | elapsed:    0.3s\n",
            "[Parallel(n_jobs=2)]: Done 112 tasks      | elapsed:    0.3s\n",
            "[Parallel(n_jobs=2)]: Done 113 tasks      | elapsed:    0.3s\n",
            "[Parallel(n_jobs=2)]: Done 114 tasks      | elapsed:    0.3s\n",
            "[Parallel(n_jobs=2)]: Done 115 tasks      | elapsed:    0.3s\n",
            "[Parallel(n_jobs=2)]: Done 116 tasks      | elapsed:    0.3s\n",
            "[Parallel(n_jobs=2)]: Done 117 tasks      | elapsed:    0.3s\n",
            "[Parallel(n_jobs=2)]: Done 118 tasks      | elapsed:    0.3s\n",
            "[Parallel(n_jobs=2)]: Done 119 tasks      | elapsed:    0.3s\n",
            "[Parallel(n_jobs=2)]: Done 120 tasks      | elapsed:    0.3s\n",
            "[Parallel(n_jobs=2)]: Done 121 tasks      | elapsed:    0.3s\n",
            "[Parallel(n_jobs=2)]: Done 122 tasks      | elapsed:    0.3s\n",
            "[Parallel(n_jobs=2)]: Done 123 tasks      | elapsed:    0.3s\n",
            "[Parallel(n_jobs=2)]: Done 124 tasks      | elapsed:    0.3s\n",
            "[Parallel(n_jobs=2)]: Done 125 tasks      | elapsed:    0.3s\n",
            "[Parallel(n_jobs=2)]: Done 126 tasks      | elapsed:    0.3s\n",
            "[Parallel(n_jobs=2)]: Done 127 tasks      | elapsed:    0.3s\n",
            "[Parallel(n_jobs=2)]: Done 128 tasks      | elapsed:    0.3s\n",
            "[Parallel(n_jobs=2)]: Done 129 tasks      | elapsed:    0.3s\n",
            "[Parallel(n_jobs=2)]: Done 130 tasks      | elapsed:    0.3s\n",
            "[Parallel(n_jobs=2)]: Done 131 tasks      | elapsed:    0.3s\n",
            "[Parallel(n_jobs=2)]: Done 132 tasks      | elapsed:    0.3s\n",
            "[Parallel(n_jobs=2)]: Done 133 tasks      | elapsed:    0.3s\n",
            "[Parallel(n_jobs=2)]: Done 134 tasks      | elapsed:    0.3s\n",
            "[Parallel(n_jobs=2)]: Done 135 tasks      | elapsed:    0.3s\n",
            "[Parallel(n_jobs=2)]: Done 136 tasks      | elapsed:    0.3s\n",
            "[Parallel(n_jobs=2)]: Done 137 tasks      | elapsed:    0.4s\n",
            "[Parallel(n_jobs=2)]: Done 138 tasks      | elapsed:    0.4s\n",
            "[Parallel(n_jobs=2)]: Done 139 tasks      | elapsed:    0.4s\n",
            "[Parallel(n_jobs=2)]: Done 140 tasks      | elapsed:    0.4s\n",
            "[Parallel(n_jobs=2)]: Done 141 tasks      | elapsed:    0.4s\n",
            "[Parallel(n_jobs=2)]: Done 142 tasks      | elapsed:    0.4s\n",
            "[Parallel(n_jobs=2)]: Done 143 tasks      | elapsed:    0.4s\n",
            "[Parallel(n_jobs=2)]: Done 144 tasks      | elapsed:    0.4s\n",
            "[Parallel(n_jobs=2)]: Done 145 tasks      | elapsed:    0.4s\n",
            "[Parallel(n_jobs=2)]: Done 146 tasks      | elapsed:    0.4s\n",
            "[Parallel(n_jobs=2)]: Done 147 tasks      | elapsed:    0.4s\n",
            "[Parallel(n_jobs=2)]: Done 148 tasks      | elapsed:    0.4s\n",
            "[Parallel(n_jobs=2)]: Done 149 tasks      | elapsed:    0.4s\n",
            "[Parallel(n_jobs=2)]: Done 150 tasks      | elapsed:    0.4s\n",
            "[Parallel(n_jobs=2)]: Done 151 tasks      | elapsed:    0.4s\n",
            "[Parallel(n_jobs=2)]: Done 152 tasks      | elapsed:    0.4s\n",
            "[Parallel(n_jobs=2)]: Done 153 tasks      | elapsed:    0.4s\n",
            "[Parallel(n_jobs=2)]: Done 154 tasks      | elapsed:    0.4s\n",
            "[Parallel(n_jobs=2)]: Done 155 tasks      | elapsed:    0.4s\n",
            "[Parallel(n_jobs=2)]: Done 156 tasks      | elapsed:    0.4s\n",
            "[Parallel(n_jobs=2)]: Done 157 tasks      | elapsed:    0.4s\n",
            "[Parallel(n_jobs=2)]: Done 158 tasks      | elapsed:    0.4s\n",
            "[Parallel(n_jobs=2)]: Done 159 tasks      | elapsed:    0.4s\n",
            "[Parallel(n_jobs=2)]: Done 160 tasks      | elapsed:    0.4s\n",
            "[Parallel(n_jobs=2)]: Done 161 tasks      | elapsed:    0.4s\n",
            "[Parallel(n_jobs=2)]: Done 162 tasks      | elapsed:    0.4s\n",
            "[Parallel(n_jobs=2)]: Done 163 tasks      | elapsed:    0.4s\n",
            "[Parallel(n_jobs=2)]: Done 164 tasks      | elapsed:    0.4s\n",
            "[Parallel(n_jobs=2)]: Done 165 tasks      | elapsed:    0.4s\n",
            "[Parallel(n_jobs=2)]: Done 166 tasks      | elapsed:    0.4s\n",
            "[Parallel(n_jobs=2)]: Done 167 tasks      | elapsed:    0.4s\n",
            "[Parallel(n_jobs=2)]: Done 168 tasks      | elapsed:    0.4s\n",
            "[Parallel(n_jobs=2)]: Done 169 tasks      | elapsed:    0.4s\n",
            "[Parallel(n_jobs=2)]: Done 170 tasks      | elapsed:    0.4s\n",
            "[Parallel(n_jobs=2)]: Done 171 tasks      | elapsed:    0.4s\n",
            "[Parallel(n_jobs=2)]: Done 172 tasks      | elapsed:    0.4s\n",
            "[Parallel(n_jobs=2)]: Done 173 tasks      | elapsed:    0.4s\n",
            "[Parallel(n_jobs=2)]: Done 174 tasks      | elapsed:    0.4s\n",
            "[Parallel(n_jobs=2)]: Done 175 tasks      | elapsed:    0.4s\n",
            "[Parallel(n_jobs=2)]: Done 176 tasks      | elapsed:    0.4s\n",
            "[Parallel(n_jobs=2)]: Done 177 tasks      | elapsed:    0.5s\n",
            "[Parallel(n_jobs=2)]: Done 178 tasks      | elapsed:    0.5s\n",
            "[Parallel(n_jobs=2)]: Done 179 tasks      | elapsed:    0.5s\n",
            "[Parallel(n_jobs=2)]: Done 180 tasks      | elapsed:    0.5s\n",
            "[Parallel(n_jobs=2)]: Done 181 tasks      | elapsed:    0.5s\n",
            "[Parallel(n_jobs=2)]: Done 182 tasks      | elapsed:    0.5s\n",
            "[Parallel(n_jobs=2)]: Done 183 tasks      | elapsed:    0.5s\n",
            "[Parallel(n_jobs=2)]: Done 184 tasks      | elapsed:    0.5s\n",
            "[Parallel(n_jobs=2)]: Done 185 tasks      | elapsed:    0.5s\n",
            "[Parallel(n_jobs=2)]: Done 186 tasks      | elapsed:    0.5s\n",
            "[Parallel(n_jobs=2)]: Done 187 tasks      | elapsed:    0.5s\n",
            "[Parallel(n_jobs=2)]: Done 188 tasks      | elapsed:    0.5s\n",
            "[Parallel(n_jobs=2)]: Done 189 tasks      | elapsed:    0.5s\n",
            "[Parallel(n_jobs=2)]: Done 190 tasks      | elapsed:    0.5s\n",
            "[Parallel(n_jobs=2)]: Done 191 tasks      | elapsed:    0.5s\n",
            "[Parallel(n_jobs=2)]: Done 192 tasks      | elapsed:    0.5s\n",
            "[Parallel(n_jobs=2)]: Done 193 tasks      | elapsed:    0.5s\n",
            "[Parallel(n_jobs=2)]: Done 194 tasks      | elapsed:    0.5s\n",
            "[Parallel(n_jobs=2)]: Done 195 tasks      | elapsed:    0.5s\n",
            "[Parallel(n_jobs=2)]: Done 196 tasks      | elapsed:    0.5s\n",
            "[Parallel(n_jobs=2)]: Done 197 tasks      | elapsed:    0.5s\n",
            "[Parallel(n_jobs=2)]: Done 200 out of 200 | elapsed:    0.5s finished\n",
            "[Parallel(n_jobs=-1)]: Using backend LokyBackend with 2 concurrent workers.\n",
            "[Parallel(n_jobs=-1)]: Done   1 tasks      | elapsed:    4.0s\n",
            "[Parallel(n_jobs=-1)]: Done   2 tasks      | elapsed:    4.0s\n",
            "[Parallel(n_jobs=-1)]: Done   3 tasks      | elapsed:    7.5s\n",
            "[Parallel(n_jobs=-1)]: Done   4 tasks      | elapsed:    8.1s\n",
            "[Parallel(n_jobs=-1)]: Done   5 tasks      | elapsed:   11.2s\n",
            "[Parallel(n_jobs=-1)]: Done   6 tasks      | elapsed:   11.9s\n",
            "[Parallel(n_jobs=-1)]: Done   7 tasks      | elapsed:   14.9s\n",
            "[Parallel(n_jobs=-1)]: Done   8 tasks      | elapsed:   15.5s\n",
            "[Parallel(n_jobs=-1)]: Done   9 tasks      | elapsed:   18.7s\n",
            "[Parallel(n_jobs=-1)]: Done  10 tasks      | elapsed:   19.4s\n",
            "[Parallel(n_jobs=-1)]: Done  11 tasks      | elapsed:   22.3s\n",
            "[Parallel(n_jobs=-1)]: Done  12 tasks      | elapsed:   23.8s\n",
            "[Parallel(n_jobs=-1)]: Done  13 tasks      | elapsed:   26.0s\n",
            "[Parallel(n_jobs=-1)]: Done  14 tasks      | elapsed:   27.9s\n",
            "[Parallel(n_jobs=-1)]: Done  15 tasks      | elapsed:   30.1s\n",
            "[Parallel(n_jobs=-1)]: Done  16 tasks      | elapsed:   32.1s\n",
            "[Parallel(n_jobs=-1)]: Done  17 tasks      | elapsed:   34.4s\n",
            "[Parallel(n_jobs=-1)]: Done  18 tasks      | elapsed:   35.7s\n",
            "[Parallel(n_jobs=-1)]: Done  19 tasks      | elapsed:   37.9s\n",
            "[Parallel(n_jobs=-1)]: Done  20 tasks      | elapsed:   40.2s\n",
            "[Parallel(n_jobs=-1)]: Done  21 tasks      | elapsed:   41.5s\n",
            "[Parallel(n_jobs=-1)]: Done  22 tasks      | elapsed:   44.5s\n",
            "[Parallel(n_jobs=-1)]: Done  23 tasks      | elapsed:   45.6s\n",
            "[Parallel(n_jobs=-1)]: Done  24 tasks      | elapsed:   49.0s\n",
            "[Parallel(n_jobs=-1)]: Done  25 tasks      | elapsed:   49.7s\n",
            "[Parallel(n_jobs=-1)]: Done  26 tasks      | elapsed:   53.0s\n",
            "[Parallel(n_jobs=-1)]: Done  27 tasks      | elapsed:   53.4s\n",
            "[Parallel(n_jobs=-1)]: Done  28 tasks      | elapsed:   56.7s\n",
            "[Parallel(n_jobs=-1)]: Done  29 tasks      | elapsed:   57.7s\n",
            "[Parallel(n_jobs=-1)]: Done  30 tasks      | elapsed:  1.0min\n",
            "[Parallel(n_jobs=-1)]: Done  31 tasks      | elapsed:  1.0min\n",
            "[Parallel(n_jobs=-1)]: Done  32 tasks      | elapsed:  1.1min\n",
            "[Parallel(n_jobs=-1)]: Done  33 tasks      | elapsed:  1.1min\n",
            "[Parallel(n_jobs=-1)]: Done  34 tasks      | elapsed:  1.1min\n",
            "[Parallel(n_jobs=-1)]: Done  35 tasks      | elapsed:  1.2min\n",
            "[Parallel(n_jobs=-1)]: Done  36 tasks      | elapsed:  1.2min\n",
            "[Parallel(n_jobs=-1)]: Done  37 tasks      | elapsed:  1.2min\n",
            "[Parallel(n_jobs=-1)]: Done  38 tasks      | elapsed:  1.3min\n",
            "[Parallel(n_jobs=-1)]: Done  39 tasks      | elapsed:  1.3min\n",
            "[Parallel(n_jobs=-1)]: Done  40 tasks      | elapsed:  1.3min\n",
            "[Parallel(n_jobs=-1)]: Done  41 tasks      | elapsed:  1.4min\n",
            "[Parallel(n_jobs=-1)]: Done  42 tasks      | elapsed:  1.4min\n",
            "[Parallel(n_jobs=-1)]: Done  43 tasks      | elapsed:  1.4min\n",
            "[Parallel(n_jobs=-1)]: Done  44 tasks      | elapsed:  1.5min\n",
            "[Parallel(n_jobs=-1)]: Done  45 tasks      | elapsed:  1.5min\n",
            "[Parallel(n_jobs=-1)]: Done  46 tasks      | elapsed:  1.5min\n",
            "[Parallel(n_jobs=-1)]: Done  47 tasks      | elapsed:  1.6min\n",
            "[Parallel(n_jobs=-1)]: Done  48 tasks      | elapsed:  1.6min\n",
            "[Parallel(n_jobs=-1)]: Done  49 tasks      | elapsed:  1.6min\n",
            "[Parallel(n_jobs=-1)]: Done  50 tasks      | elapsed:  1.7min\n",
            "[Parallel(n_jobs=-1)]: Done  51 tasks      | elapsed:  1.7min\n",
            "[Parallel(n_jobs=-1)]: Done  52 tasks      | elapsed:  1.7min\n",
            "[Parallel(n_jobs=-1)]: Done  53 tasks      | elapsed:  1.8min\n",
            "[Parallel(n_jobs=-1)]: Done  54 tasks      | elapsed:  1.8min\n",
            "[Parallel(n_jobs=-1)]: Done  55 tasks      | elapsed:  1.8min\n",
            "[Parallel(n_jobs=-1)]: Done  56 tasks      | elapsed:  1.9min\n",
            "[Parallel(n_jobs=-1)]: Done  57 tasks      | elapsed:  1.9min\n",
            "[Parallel(n_jobs=-1)]: Done  58 tasks      | elapsed:  1.9min\n",
            "[Parallel(n_jobs=-1)]: Done  59 tasks      | elapsed:  2.0min\n",
            "[Parallel(n_jobs=-1)]: Done  60 tasks      | elapsed:  2.0min\n",
            "[Parallel(n_jobs=-1)]: Done  61 tasks      | elapsed:  2.0min\n",
            "[Parallel(n_jobs=-1)]: Done  62 tasks      | elapsed:  2.1min\n",
            "[Parallel(n_jobs=-1)]: Done  63 tasks      | elapsed:  2.1min\n",
            "[Parallel(n_jobs=-1)]: Done  64 tasks      | elapsed:  2.1min\n",
            "[Parallel(n_jobs=-1)]: Done  65 tasks      | elapsed:  2.1min\n",
            "[Parallel(n_jobs=-1)]: Done  66 tasks      | elapsed:  2.2min\n",
            "[Parallel(n_jobs=-1)]: Done  67 tasks      | elapsed:  2.2min\n",
            "[Parallel(n_jobs=-1)]: Done  68 tasks      | elapsed:  2.2min\n",
            "[Parallel(n_jobs=-1)]: Done  69 tasks      | elapsed:  2.3min\n",
            "[Parallel(n_jobs=-1)]: Done  70 tasks      | elapsed:  2.3min\n",
            "[Parallel(n_jobs=-1)]: Done  71 tasks      | elapsed:  2.3min\n",
            "[Parallel(n_jobs=-1)]: Done  72 tasks      | elapsed:  2.4min\n",
            "[Parallel(n_jobs=-1)]: Done  73 tasks      | elapsed:  2.4min\n",
            "[Parallel(n_jobs=-1)]: Done  74 tasks      | elapsed:  2.4min\n",
            "[Parallel(n_jobs=-1)]: Done  75 tasks      | elapsed:  2.5min\n",
            "[Parallel(n_jobs=-1)]: Done  76 tasks      | elapsed:  2.5min\n",
            "[Parallel(n_jobs=-1)]: Done  77 tasks      | elapsed:  2.5min\n",
            "[Parallel(n_jobs=-1)]: Done  78 tasks      | elapsed:  2.6min\n",
            "[Parallel(n_jobs=-1)]: Done  79 tasks      | elapsed:  2.6min\n",
            "[Parallel(n_jobs=-1)]: Done  80 tasks      | elapsed:  2.6min\n",
            "[Parallel(n_jobs=-1)]: Done  81 tasks      | elapsed:  2.7min\n",
            "[Parallel(n_jobs=-1)]: Done  82 tasks      | elapsed:  2.7min\n",
            "[Parallel(n_jobs=-1)]: Done  83 tasks      | elapsed:  2.7min\n",
            "[Parallel(n_jobs=-1)]: Done  84 tasks      | elapsed:  2.8min\n",
            "[Parallel(n_jobs=-1)]: Done  85 tasks      | elapsed:  2.8min\n",
            "[Parallel(n_jobs=-1)]: Done  86 tasks      | elapsed:  2.8min\n",
            "[Parallel(n_jobs=-1)]: Done  87 tasks      | elapsed:  2.9min\n",
            "[Parallel(n_jobs=-1)]: Done  88 tasks      | elapsed:  2.9min\n",
            "[Parallel(n_jobs=-1)]: Done  89 tasks      | elapsed:  2.9min\n",
            "[Parallel(n_jobs=-1)]: Done  90 tasks      | elapsed:  3.0min\n",
            "[Parallel(n_jobs=-1)]: Done  91 tasks      | elapsed:  3.0min\n",
            "[Parallel(n_jobs=-1)]: Done  92 tasks      | elapsed:  3.0min\n",
            "[Parallel(n_jobs=-1)]: Done  93 tasks      | elapsed:  3.1min\n",
            "[Parallel(n_jobs=-1)]: Done  94 tasks      | elapsed:  3.1min\n",
            "[Parallel(n_jobs=-1)]: Done  95 tasks      | elapsed:  3.1min\n",
            "[Parallel(n_jobs=-1)]: Done  96 tasks      | elapsed:  3.1min\n",
            "[Parallel(n_jobs=-1)]: Done  97 tasks      | elapsed:  3.2min\n",
            "[Parallel(n_jobs=-1)]: Done  98 tasks      | elapsed:  3.2min\n",
            "[Parallel(n_jobs=-1)]: Done  99 tasks      | elapsed:  3.3min\n",
            "[Parallel(n_jobs=-1)]: Done 100 tasks      | elapsed:  3.3min\n",
            "[Parallel(n_jobs=-1)]: Done 101 tasks      | elapsed:  3.3min\n",
            "[Parallel(n_jobs=-1)]: Done 102 tasks      | elapsed:  3.3min\n",
            "[Parallel(n_jobs=-1)]: Done 103 tasks      | elapsed:  3.4min\n",
            "[Parallel(n_jobs=-1)]: Done 104 tasks      | elapsed:  3.4min\n",
            "[Parallel(n_jobs=-1)]: Done 105 tasks      | elapsed:  3.5min\n",
            "[Parallel(n_jobs=-1)]: Done 106 tasks      | elapsed:  3.5min\n",
            "[Parallel(n_jobs=-1)]: Done 107 tasks      | elapsed:  3.5min\n",
            "[Parallel(n_jobs=-1)]: Done 108 tasks      | elapsed:  3.5min\n",
            "[Parallel(n_jobs=-1)]: Done 109 tasks      | elapsed:  3.6min\n",
            "[Parallel(n_jobs=-1)]: Done 110 tasks      | elapsed:  3.6min\n",
            "[Parallel(n_jobs=-1)]: Done 111 tasks      | elapsed:  3.7min\n",
            "[Parallel(n_jobs=-1)]: Done 112 tasks      | elapsed:  3.7min\n",
            "[Parallel(n_jobs=-1)]: Done 113 tasks      | elapsed:  3.7min\n",
            "[Parallel(n_jobs=-1)]: Done 114 tasks      | elapsed:  3.7min\n",
            "[Parallel(n_jobs=-1)]: Done 115 tasks      | elapsed:  3.8min\n",
            "[Parallel(n_jobs=-1)]: Done 116 tasks      | elapsed:  3.8min\n",
            "[Parallel(n_jobs=-1)]: Done 117 tasks      | elapsed:  3.9min\n",
            "[Parallel(n_jobs=-1)]: Done 118 tasks      | elapsed:  3.9min\n",
            "[Parallel(n_jobs=-1)]: Done 119 tasks      | elapsed:  3.9min\n",
            "[Parallel(n_jobs=-1)]: Done 120 tasks      | elapsed:  3.9min\n",
            "[Parallel(n_jobs=-1)]: Done 121 tasks      | elapsed:  4.0min\n",
            "[Parallel(n_jobs=-1)]: Done 122 tasks      | elapsed:  4.0min\n",
            "[Parallel(n_jobs=-1)]: Done 123 tasks      | elapsed:  4.1min\n",
            "[Parallel(n_jobs=-1)]: Done 124 tasks      | elapsed:  4.1min\n",
            "[Parallel(n_jobs=-1)]: Done 125 tasks      | elapsed:  4.1min\n",
            "[Parallel(n_jobs=-1)]: Done 126 tasks      | elapsed:  4.1min\n",
            "[Parallel(n_jobs=-1)]: Done 127 tasks      | elapsed:  4.2min\n",
            "[Parallel(n_jobs=-1)]: Done 128 tasks      | elapsed:  4.2min\n",
            "[Parallel(n_jobs=-1)]: Done 129 tasks      | elapsed:  4.3min\n",
            "[Parallel(n_jobs=-1)]: Done 130 tasks      | elapsed:  4.3min\n",
            "[Parallel(n_jobs=-1)]: Done 131 tasks      | elapsed:  4.3min\n",
            "[Parallel(n_jobs=-1)]: Done 132 tasks      | elapsed:  4.3min\n",
            "[Parallel(n_jobs=-1)]: Done 133 tasks      | elapsed:  4.4min\n",
            "[Parallel(n_jobs=-1)]: Done 134 tasks      | elapsed:  4.4min\n",
            "[Parallel(n_jobs=-1)]: Done 135 tasks      | elapsed:  4.5min\n",
            "[Parallel(n_jobs=-1)]: Done 136 tasks      | elapsed:  4.5min\n",
            "[Parallel(n_jobs=-1)]: Done 137 tasks      | elapsed:  4.5min\n",
            "[Parallel(n_jobs=-1)]: Done 138 tasks      | elapsed:  4.5min\n",
            "[Parallel(n_jobs=-1)]: Done 139 tasks      | elapsed:  4.6min\n",
            "[Parallel(n_jobs=-1)]: Done 140 tasks      | elapsed:  4.6min\n",
            "[Parallel(n_jobs=-1)]: Done 141 tasks      | elapsed:  4.7min\n",
            "[Parallel(n_jobs=-1)]: Done 142 tasks      | elapsed:  4.7min\n",
            "[Parallel(n_jobs=-1)]: Done 143 tasks      | elapsed:  4.7min\n",
            "[Parallel(n_jobs=-1)]: Done 144 tasks      | elapsed:  4.8min\n",
            "[Parallel(n_jobs=-1)]: Done 145 tasks      | elapsed:  4.8min\n",
            "[Parallel(n_jobs=-1)]: Done 146 tasks      | elapsed:  4.8min\n",
            "[Parallel(n_jobs=-1)]: Done 147 tasks      | elapsed:  4.9min\n",
            "[Parallel(n_jobs=-1)]: Done 148 tasks      | elapsed:  4.9min\n",
            "[Parallel(n_jobs=-1)]: Done 149 tasks      | elapsed:  4.9min\n",
            "[Parallel(n_jobs=-1)]: Done 150 tasks      | elapsed:  5.0min\n",
            "[Parallel(n_jobs=-1)]: Done 151 tasks      | elapsed:  5.0min\n",
            "[Parallel(n_jobs=-1)]: Done 152 tasks      | elapsed:  5.0min\n",
            "[Parallel(n_jobs=-1)]: Done 153 tasks      | elapsed:  5.1min\n",
            "[Parallel(n_jobs=-1)]: Done 154 tasks      | elapsed:  5.1min\n",
            "[Parallel(n_jobs=-1)]: Done 155 tasks      | elapsed:  5.1min\n",
            "[Parallel(n_jobs=-1)]: Done 156 tasks      | elapsed:  5.2min\n",
            "[Parallel(n_jobs=-1)]: Done 157 tasks      | elapsed:  5.2min\n",
            "[Parallel(n_jobs=-1)]: Done 158 tasks      | elapsed:  5.2min\n",
            "[Parallel(n_jobs=-1)]: Done 159 tasks      | elapsed:  5.3min\n",
            "[Parallel(n_jobs=-1)]: Done 160 tasks      | elapsed:  5.3min\n",
            "[Parallel(n_jobs=-1)]: Done 161 tasks      | elapsed:  5.3min\n",
            "[Parallel(n_jobs=-1)]: Done 162 tasks      | elapsed:  5.3min\n",
            "[Parallel(n_jobs=-1)]: Done 163 tasks      | elapsed:  5.4min\n",
            "[Parallel(n_jobs=-1)]: Done 164 tasks      | elapsed:  5.4min\n",
            "[Parallel(n_jobs=-1)]: Done 165 tasks      | elapsed:  5.5min\n",
            "[Parallel(n_jobs=-1)]: Done 166 tasks      | elapsed:  5.5min\n",
            "[Parallel(n_jobs=-1)]: Done 167 tasks      | elapsed:  5.6min\n",
            "[Parallel(n_jobs=-1)]: Done 168 tasks      | elapsed:  5.6min\n",
            "[Parallel(n_jobs=-1)]: Done 169 tasks      | elapsed:  5.6min\n",
            "[Parallel(n_jobs=-1)]: Done 170 tasks      | elapsed:  5.6min\n",
            "[Parallel(n_jobs=-1)]: Done 171 tasks      | elapsed:  5.7min\n",
            "[Parallel(n_jobs=-1)]: Done 172 tasks      | elapsed:  5.7min\n",
            "[Parallel(n_jobs=-1)]: Done 173 tasks      | elapsed:  5.8min\n",
            "[Parallel(n_jobs=-1)]: Done 174 tasks      | elapsed:  5.8min\n",
            "[Parallel(n_jobs=-1)]: Done 175 tasks      | elapsed:  5.8min\n",
            "[Parallel(n_jobs=-1)]: Done 176 tasks      | elapsed:  5.8min\n",
            "[Parallel(n_jobs=-1)]: Done 177 tasks      | elapsed:  5.9min\n",
            "[Parallel(n_jobs=-1)]: Done 178 tasks      | elapsed:  5.9min\n",
            "[Parallel(n_jobs=-1)]: Done 179 tasks      | elapsed:  5.9min\n",
            "[Parallel(n_jobs=-1)]: Done 180 tasks      | elapsed:  6.0min\n",
            "[Parallel(n_jobs=-1)]: Done 181 tasks      | elapsed:  6.0min\n",
            "[Parallel(n_jobs=-1)]: Done 182 tasks      | elapsed:  6.0min\n",
            "[Parallel(n_jobs=-1)]: Done 183 tasks      | elapsed:  6.1min\n",
            "[Parallel(n_jobs=-1)]: Done 184 tasks      | elapsed:  6.1min\n",
            "[Parallel(n_jobs=-1)]: Done 185 tasks      | elapsed:  6.1min\n",
            "[Parallel(n_jobs=-1)]: Done 186 tasks      | elapsed:  6.1min\n",
            "[Parallel(n_jobs=-1)]: Done 187 tasks      | elapsed:  6.2min\n",
            "[Parallel(n_jobs=-1)]: Done 188 tasks      | elapsed:  6.2min\n",
            "[Parallel(n_jobs=-1)]: Done 189 tasks      | elapsed:  6.3min\n",
            "[Parallel(n_jobs=-1)]: Done 190 tasks      | elapsed:  6.3min\n",
            "[Parallel(n_jobs=-1)]: Done 191 tasks      | elapsed:  6.3min\n",
            "[Parallel(n_jobs=-1)]: Done 192 tasks      | elapsed:  6.4min\n",
            "[Parallel(n_jobs=-1)]: Done 193 tasks      | elapsed:  6.4min\n",
            "[Parallel(n_jobs=-1)]: Done 194 tasks      | elapsed:  6.4min\n",
            "[Parallel(n_jobs=-1)]: Done 195 tasks      | elapsed:  6.5min\n",
            "[Parallel(n_jobs=-1)]: Done 196 tasks      | elapsed:  6.5min\n",
            "[Parallel(n_jobs=-1)]: Done 197 tasks      | elapsed:  6.5min\n",
            "[Parallel(n_jobs=-1)]: Done 200 out of 200 | elapsed:  6.6min finished\n",
            "[Parallel(n_jobs=2)]: Using backend ThreadingBackend with 2 concurrent workers.\n",
            "[Parallel(n_jobs=2)]: Done   1 tasks      | elapsed:    0.0s\n",
            "[Parallel(n_jobs=2)]: Done   2 tasks      | elapsed:    0.0s\n",
            "[Parallel(n_jobs=2)]: Done   3 tasks      | elapsed:    0.0s\n",
            "[Parallel(n_jobs=2)]: Done   4 tasks      | elapsed:    0.0s\n",
            "[Parallel(n_jobs=2)]: Done   5 tasks      | elapsed:    0.0s\n",
            "[Parallel(n_jobs=2)]: Done   6 tasks      | elapsed:    0.0s\n",
            "[Parallel(n_jobs=2)]: Done   7 tasks      | elapsed:    0.0s\n",
            "[Parallel(n_jobs=2)]: Done   8 tasks      | elapsed:    0.0s\n",
            "[Parallel(n_jobs=2)]: Done   9 tasks      | elapsed:    0.0s\n",
            "[Parallel(n_jobs=2)]: Done  10 tasks      | elapsed:    0.0s\n",
            "[Parallel(n_jobs=2)]: Done  11 tasks      | elapsed:    0.0s\n",
            "[Parallel(n_jobs=2)]: Done  12 tasks      | elapsed:    0.0s\n",
            "[Parallel(n_jobs=2)]: Done  13 tasks      | elapsed:    0.0s\n",
            "[Parallel(n_jobs=2)]: Done  14 tasks      | elapsed:    0.0s\n",
            "[Parallel(n_jobs=2)]: Done  15 tasks      | elapsed:    0.0s\n",
            "[Parallel(n_jobs=2)]: Done  16 tasks      | elapsed:    0.0s\n",
            "[Parallel(n_jobs=2)]: Done  17 tasks      | elapsed:    0.1s\n",
            "[Parallel(n_jobs=2)]: Done  18 tasks      | elapsed:    0.1s\n",
            "[Parallel(n_jobs=2)]: Done  19 tasks      | elapsed:    0.1s\n",
            "[Parallel(n_jobs=2)]: Done  20 tasks      | elapsed:    0.1s\n",
            "[Parallel(n_jobs=2)]: Done  21 tasks      | elapsed:    0.1s\n",
            "[Parallel(n_jobs=2)]: Done  22 tasks      | elapsed:    0.1s\n",
            "[Parallel(n_jobs=2)]: Done  23 tasks      | elapsed:    0.1s\n",
            "[Parallel(n_jobs=2)]: Done  24 tasks      | elapsed:    0.1s\n",
            "[Parallel(n_jobs=2)]: Done  25 tasks      | elapsed:    0.1s\n",
            "[Parallel(n_jobs=2)]: Done  26 tasks      | elapsed:    0.1s\n",
            "[Parallel(n_jobs=2)]: Done  27 tasks      | elapsed:    0.1s\n",
            "[Parallel(n_jobs=2)]: Done  28 tasks      | elapsed:    0.1s\n",
            "[Parallel(n_jobs=2)]: Done  29 tasks      | elapsed:    0.1s\n",
            "[Parallel(n_jobs=2)]: Done  30 tasks      | elapsed:    0.1s\n",
            "[Parallel(n_jobs=2)]: Done  31 tasks      | elapsed:    0.1s\n",
            "[Parallel(n_jobs=2)]: Done  32 tasks      | elapsed:    0.1s\n"
          ],
          "name": "stderr"
        },
        {
          "output_type": "stream",
          "text": [
            "Using ThreadingBackend as joblib.Parallel backend instead of LokyBackend as the latter does not provide shared memory semantics.\n"
          ],
          "name": "stdout"
        },
        {
          "output_type": "stream",
          "text": [
            "[Parallel(n_jobs=2)]: Done  33 tasks      | elapsed:    0.1s\n",
            "[Parallel(n_jobs=2)]: Done  34 tasks      | elapsed:    0.1s\n",
            "[Parallel(n_jobs=2)]: Done  35 tasks      | elapsed:    0.1s\n",
            "[Parallel(n_jobs=2)]: Done  36 tasks      | elapsed:    0.1s\n",
            "[Parallel(n_jobs=2)]: Done  37 tasks      | elapsed:    0.1s\n",
            "[Parallel(n_jobs=2)]: Done  38 tasks      | elapsed:    0.1s\n",
            "[Parallel(n_jobs=2)]: Done  39 tasks      | elapsed:    0.1s\n",
            "[Parallel(n_jobs=2)]: Done  40 tasks      | elapsed:    0.1s\n",
            "[Parallel(n_jobs=2)]: Done  41 tasks      | elapsed:    0.1s\n",
            "[Parallel(n_jobs=2)]: Done  42 tasks      | elapsed:    0.1s\n",
            "[Parallel(n_jobs=2)]: Done  43 tasks      | elapsed:    0.1s\n",
            "[Parallel(n_jobs=2)]: Done  44 tasks      | elapsed:    0.1s\n",
            "[Parallel(n_jobs=2)]: Done  45 tasks      | elapsed:    0.1s\n",
            "[Parallel(n_jobs=2)]: Done  46 tasks      | elapsed:    0.1s\n",
            "[Parallel(n_jobs=2)]: Done  47 tasks      | elapsed:    0.1s\n",
            "[Parallel(n_jobs=2)]: Done  48 tasks      | elapsed:    0.1s\n",
            "[Parallel(n_jobs=2)]: Done  49 tasks      | elapsed:    0.1s\n",
            "[Parallel(n_jobs=2)]: Done  50 tasks      | elapsed:    0.1s\n",
            "[Parallel(n_jobs=2)]: Done  51 tasks      | elapsed:    0.2s\n",
            "[Parallel(n_jobs=2)]: Done  52 tasks      | elapsed:    0.2s\n",
            "[Parallel(n_jobs=2)]: Done  53 tasks      | elapsed:    0.2s\n",
            "[Parallel(n_jobs=2)]: Done  54 tasks      | elapsed:    0.2s\n",
            "[Parallel(n_jobs=2)]: Done  55 tasks      | elapsed:    0.2s\n",
            "[Parallel(n_jobs=2)]: Done  56 tasks      | elapsed:    0.2s\n",
            "[Parallel(n_jobs=2)]: Done  57 tasks      | elapsed:    0.2s\n",
            "[Parallel(n_jobs=2)]: Done  58 tasks      | elapsed:    0.2s\n",
            "[Parallel(n_jobs=2)]: Done  59 tasks      | elapsed:    0.2s\n",
            "[Parallel(n_jobs=2)]: Done  60 tasks      | elapsed:    0.2s\n",
            "[Parallel(n_jobs=2)]: Done  61 tasks      | elapsed:    0.2s\n",
            "[Parallel(n_jobs=2)]: Done  62 tasks      | elapsed:    0.2s\n",
            "[Parallel(n_jobs=2)]: Done  63 tasks      | elapsed:    0.2s\n",
            "[Parallel(n_jobs=2)]: Done  64 tasks      | elapsed:    0.2s\n",
            "[Parallel(n_jobs=2)]: Done  65 tasks      | elapsed:    0.2s\n",
            "[Parallel(n_jobs=2)]: Done  66 tasks      | elapsed:    0.2s\n",
            "[Parallel(n_jobs=2)]: Done  67 tasks      | elapsed:    0.2s\n",
            "[Parallel(n_jobs=2)]: Done  68 tasks      | elapsed:    0.2s\n",
            "[Parallel(n_jobs=2)]: Done  69 tasks      | elapsed:    0.2s\n",
            "[Parallel(n_jobs=2)]: Done  70 tasks      | elapsed:    0.2s\n",
            "[Parallel(n_jobs=2)]: Done  71 tasks      | elapsed:    0.2s\n",
            "[Parallel(n_jobs=2)]: Done  72 tasks      | elapsed:    0.2s\n",
            "[Parallel(n_jobs=2)]: Done  73 tasks      | elapsed:    0.2s\n",
            "[Parallel(n_jobs=2)]: Done  74 tasks      | elapsed:    0.2s\n",
            "[Parallel(n_jobs=2)]: Done  75 tasks      | elapsed:    0.2s\n",
            "[Parallel(n_jobs=2)]: Done  76 tasks      | elapsed:    0.2s\n",
            "[Parallel(n_jobs=2)]: Done  77 tasks      | elapsed:    0.2s\n",
            "[Parallel(n_jobs=2)]: Done  78 tasks      | elapsed:    0.2s\n",
            "[Parallel(n_jobs=2)]: Done  79 tasks      | elapsed:    0.2s\n",
            "[Parallel(n_jobs=2)]: Done  80 tasks      | elapsed:    0.2s\n",
            "[Parallel(n_jobs=2)]: Done  81 tasks      | elapsed:    0.2s\n",
            "[Parallel(n_jobs=2)]: Done  82 tasks      | elapsed:    0.2s\n",
            "[Parallel(n_jobs=2)]: Done  83 tasks      | elapsed:    0.2s\n",
            "[Parallel(n_jobs=2)]: Done  84 tasks      | elapsed:    0.2s\n",
            "[Parallel(n_jobs=2)]: Done  85 tasks      | elapsed:    0.2s\n",
            "[Parallel(n_jobs=2)]: Done  86 tasks      | elapsed:    0.2s\n",
            "[Parallel(n_jobs=2)]: Done  87 tasks      | elapsed:    0.2s\n",
            "[Parallel(n_jobs=2)]: Done  88 tasks      | elapsed:    0.3s\n",
            "[Parallel(n_jobs=2)]: Done  89 tasks      | elapsed:    0.3s\n",
            "[Parallel(n_jobs=2)]: Done  90 tasks      | elapsed:    0.3s\n",
            "[Parallel(n_jobs=2)]: Done  91 tasks      | elapsed:    0.3s\n",
            "[Parallel(n_jobs=2)]: Done  92 tasks      | elapsed:    0.3s\n",
            "[Parallel(n_jobs=2)]: Done  93 tasks      | elapsed:    0.3s\n",
            "[Parallel(n_jobs=2)]: Done  94 tasks      | elapsed:    0.3s\n",
            "[Parallel(n_jobs=2)]: Done  95 tasks      | elapsed:    0.3s\n",
            "[Parallel(n_jobs=2)]: Done  96 tasks      | elapsed:    0.3s\n",
            "[Parallel(n_jobs=2)]: Done  97 tasks      | elapsed:    0.3s\n",
            "[Parallel(n_jobs=2)]: Done  98 tasks      | elapsed:    0.3s\n",
            "[Parallel(n_jobs=2)]: Done  99 tasks      | elapsed:    0.3s\n",
            "[Parallel(n_jobs=2)]: Done 100 tasks      | elapsed:    0.3s\n",
            "[Parallel(n_jobs=2)]: Done 101 tasks      | elapsed:    0.3s\n",
            "[Parallel(n_jobs=2)]: Done 102 tasks      | elapsed:    0.3s\n",
            "[Parallel(n_jobs=2)]: Done 103 tasks      | elapsed:    0.3s\n",
            "[Parallel(n_jobs=2)]: Done 104 tasks      | elapsed:    0.3s\n",
            "[Parallel(n_jobs=2)]: Done 105 tasks      | elapsed:    0.3s\n",
            "[Parallel(n_jobs=2)]: Done 106 tasks      | elapsed:    0.3s\n",
            "[Parallel(n_jobs=2)]: Done 107 tasks      | elapsed:    0.3s\n",
            "[Parallel(n_jobs=2)]: Done 108 tasks      | elapsed:    0.3s\n",
            "[Parallel(n_jobs=2)]: Done 109 tasks      | elapsed:    0.3s\n",
            "[Parallel(n_jobs=2)]: Done 110 tasks      | elapsed:    0.3s\n",
            "[Parallel(n_jobs=2)]: Done 111 tasks      | elapsed:    0.3s\n",
            "[Parallel(n_jobs=2)]: Done 112 tasks      | elapsed:    0.3s\n",
            "[Parallel(n_jobs=2)]: Done 113 tasks      | elapsed:    0.3s\n",
            "[Parallel(n_jobs=2)]: Done 114 tasks      | elapsed:    0.3s\n",
            "[Parallel(n_jobs=2)]: Done 115 tasks      | elapsed:    0.3s\n",
            "[Parallel(n_jobs=2)]: Done 116 tasks      | elapsed:    0.3s\n",
            "[Parallel(n_jobs=2)]: Done 117 tasks      | elapsed:    0.3s\n",
            "[Parallel(n_jobs=2)]: Done 118 tasks      | elapsed:    0.3s\n",
            "[Parallel(n_jobs=2)]: Done 119 tasks      | elapsed:    0.3s\n",
            "[Parallel(n_jobs=2)]: Done 120 tasks      | elapsed:    0.3s\n",
            "[Parallel(n_jobs=2)]: Done 121 tasks      | elapsed:    0.3s\n",
            "[Parallel(n_jobs=2)]: Done 122 tasks      | elapsed:    0.3s\n",
            "[Parallel(n_jobs=2)]: Done 123 tasks      | elapsed:    0.4s\n",
            "[Parallel(n_jobs=2)]: Done 124 tasks      | elapsed:    0.4s\n",
            "[Parallel(n_jobs=2)]: Done 125 tasks      | elapsed:    0.4s\n",
            "[Parallel(n_jobs=2)]: Done 126 tasks      | elapsed:    0.4s\n",
            "[Parallel(n_jobs=2)]: Done 127 tasks      | elapsed:    0.4s\n",
            "[Parallel(n_jobs=2)]: Done 128 tasks      | elapsed:    0.4s\n",
            "[Parallel(n_jobs=2)]: Done 129 tasks      | elapsed:    0.4s\n",
            "[Parallel(n_jobs=2)]: Done 130 tasks      | elapsed:    0.4s\n",
            "[Parallel(n_jobs=2)]: Done 131 tasks      | elapsed:    0.4s\n",
            "[Parallel(n_jobs=2)]: Done 132 tasks      | elapsed:    0.4s\n",
            "[Parallel(n_jobs=2)]: Done 133 tasks      | elapsed:    0.4s\n",
            "[Parallel(n_jobs=2)]: Done 134 tasks      | elapsed:    0.4s\n",
            "[Parallel(n_jobs=2)]: Done 135 tasks      | elapsed:    0.4s\n",
            "[Parallel(n_jobs=2)]: Done 136 tasks      | elapsed:    0.4s\n",
            "[Parallel(n_jobs=2)]: Done 137 tasks      | elapsed:    0.4s\n",
            "[Parallel(n_jobs=2)]: Done 138 tasks      | elapsed:    0.4s\n",
            "[Parallel(n_jobs=2)]: Done 139 tasks      | elapsed:    0.4s\n",
            "[Parallel(n_jobs=2)]: Done 140 tasks      | elapsed:    0.4s\n",
            "[Parallel(n_jobs=2)]: Done 141 tasks      | elapsed:    0.4s\n",
            "[Parallel(n_jobs=2)]: Done 142 tasks      | elapsed:    0.4s\n",
            "[Parallel(n_jobs=2)]: Done 143 tasks      | elapsed:    0.4s\n",
            "[Parallel(n_jobs=2)]: Done 144 tasks      | elapsed:    0.4s\n",
            "[Parallel(n_jobs=2)]: Done 145 tasks      | elapsed:    0.4s\n",
            "[Parallel(n_jobs=2)]: Done 146 tasks      | elapsed:    0.4s\n",
            "[Parallel(n_jobs=2)]: Done 147 tasks      | elapsed:    0.4s\n",
            "[Parallel(n_jobs=2)]: Done 148 tasks      | elapsed:    0.4s\n",
            "[Parallel(n_jobs=2)]: Done 149 tasks      | elapsed:    0.4s\n",
            "[Parallel(n_jobs=2)]: Done 150 tasks      | elapsed:    0.4s\n",
            "[Parallel(n_jobs=2)]: Done 151 tasks      | elapsed:    0.4s\n",
            "[Parallel(n_jobs=2)]: Done 152 tasks      | elapsed:    0.4s\n",
            "[Parallel(n_jobs=2)]: Done 153 tasks      | elapsed:    0.4s\n",
            "[Parallel(n_jobs=2)]: Done 154 tasks      | elapsed:    0.4s\n",
            "[Parallel(n_jobs=2)]: Done 155 tasks      | elapsed:    0.4s\n",
            "[Parallel(n_jobs=2)]: Done 156 tasks      | elapsed:    0.4s\n",
            "[Parallel(n_jobs=2)]: Done 157 tasks      | elapsed:    0.4s\n",
            "[Parallel(n_jobs=2)]: Done 158 tasks      | elapsed:    0.4s\n",
            "[Parallel(n_jobs=2)]: Done 159 tasks      | elapsed:    0.5s\n",
            "[Parallel(n_jobs=2)]: Done 160 tasks      | elapsed:    0.5s\n",
            "[Parallel(n_jobs=2)]: Done 161 tasks      | elapsed:    0.5s\n",
            "[Parallel(n_jobs=2)]: Done 162 tasks      | elapsed:    0.5s\n",
            "[Parallel(n_jobs=2)]: Done 163 tasks      | elapsed:    0.5s\n",
            "[Parallel(n_jobs=2)]: Done 164 tasks      | elapsed:    0.5s\n",
            "[Parallel(n_jobs=2)]: Done 165 tasks      | elapsed:    0.5s\n",
            "[Parallel(n_jobs=2)]: Done 166 tasks      | elapsed:    0.5s\n",
            "[Parallel(n_jobs=2)]: Done 167 tasks      | elapsed:    0.5s\n",
            "[Parallel(n_jobs=2)]: Done 168 tasks      | elapsed:    0.5s\n",
            "[Parallel(n_jobs=2)]: Done 169 tasks      | elapsed:    0.5s\n",
            "[Parallel(n_jobs=2)]: Done 170 tasks      | elapsed:    0.5s\n",
            "[Parallel(n_jobs=2)]: Done 171 tasks      | elapsed:    0.5s\n",
            "[Parallel(n_jobs=2)]: Done 172 tasks      | elapsed:    0.5s\n",
            "[Parallel(n_jobs=2)]: Done 173 tasks      | elapsed:    0.5s\n",
            "[Parallel(n_jobs=2)]: Done 174 tasks      | elapsed:    0.5s\n",
            "[Parallel(n_jobs=2)]: Done 175 tasks      | elapsed:    0.5s\n",
            "[Parallel(n_jobs=2)]: Done 176 tasks      | elapsed:    0.5s\n",
            "[Parallel(n_jobs=2)]: Done 177 tasks      | elapsed:    0.5s\n",
            "[Parallel(n_jobs=2)]: Done 178 tasks      | elapsed:    0.5s\n",
            "[Parallel(n_jobs=2)]: Done 179 tasks      | elapsed:    0.5s\n",
            "[Parallel(n_jobs=2)]: Done 180 tasks      | elapsed:    0.5s\n",
            "[Parallel(n_jobs=2)]: Done 181 tasks      | elapsed:    0.5s\n",
            "[Parallel(n_jobs=2)]: Done 182 tasks      | elapsed:    0.5s\n",
            "[Parallel(n_jobs=2)]: Done 183 tasks      | elapsed:    0.5s\n",
            "[Parallel(n_jobs=2)]: Done 184 tasks      | elapsed:    0.5s\n",
            "[Parallel(n_jobs=2)]: Done 185 tasks      | elapsed:    0.5s\n",
            "[Parallel(n_jobs=2)]: Done 186 tasks      | elapsed:    0.5s\n",
            "[Parallel(n_jobs=2)]: Done 187 tasks      | elapsed:    0.5s\n",
            "[Parallel(n_jobs=2)]: Done 188 tasks      | elapsed:    0.5s\n",
            "[Parallel(n_jobs=2)]: Done 189 tasks      | elapsed:    0.5s\n",
            "[Parallel(n_jobs=2)]: Done 190 tasks      | elapsed:    0.5s\n",
            "[Parallel(n_jobs=2)]: Done 191 tasks      | elapsed:    0.5s\n",
            "[Parallel(n_jobs=2)]: Done 192 tasks      | elapsed:    0.5s\n",
            "[Parallel(n_jobs=2)]: Done 193 tasks      | elapsed:    0.5s\n",
            "[Parallel(n_jobs=2)]: Done 194 tasks      | elapsed:    0.6s\n",
            "[Parallel(n_jobs=2)]: Done 195 tasks      | elapsed:    0.6s\n",
            "[Parallel(n_jobs=2)]: Done 196 tasks      | elapsed:    0.6s\n",
            "[Parallel(n_jobs=2)]: Done 197 tasks      | elapsed:    0.6s\n",
            "[Parallel(n_jobs=2)]: Done 200 out of 200 | elapsed:    0.6s finished\n",
            "[Parallel(n_jobs=-1)]: Using backend LokyBackend with 2 concurrent workers.\n",
            "[Parallel(n_jobs=-1)]: Done   1 tasks      | elapsed:    4.0s\n",
            "[Parallel(n_jobs=-1)]: Done   2 tasks      | elapsed:    4.3s\n",
            "[Parallel(n_jobs=-1)]: Done   3 tasks      | elapsed:    8.3s\n",
            "[Parallel(n_jobs=-1)]: Done   4 tasks      | elapsed:    8.6s\n",
            "[Parallel(n_jobs=-1)]: Done   5 tasks      | elapsed:   12.5s\n",
            "[Parallel(n_jobs=-1)]: Done   6 tasks      | elapsed:   12.7s\n",
            "[Parallel(n_jobs=-1)]: Done   7 tasks      | elapsed:   16.3s\n",
            "[Parallel(n_jobs=-1)]: Done   8 tasks      | elapsed:   17.2s\n",
            "[Parallel(n_jobs=-1)]: Done   9 tasks      | elapsed:   20.6s\n",
            "[Parallel(n_jobs=-1)]: Done  10 tasks      | elapsed:   20.9s\n",
            "[Parallel(n_jobs=-1)]: Done  11 tasks      | elapsed:   24.8s\n",
            "[Parallel(n_jobs=-1)]: Done  12 tasks      | elapsed:   25.5s\n",
            "[Parallel(n_jobs=-1)]: Done  13 tasks      | elapsed:   28.7s\n",
            "[Parallel(n_jobs=-1)]: Done  14 tasks      | elapsed:   29.9s\n",
            "[Parallel(n_jobs=-1)]: Done  15 tasks      | elapsed:   32.8s\n",
            "[Parallel(n_jobs=-1)]: Done  16 tasks      | elapsed:   33.6s\n",
            "[Parallel(n_jobs=-1)]: Done  17 tasks      | elapsed:   36.8s\n",
            "[Parallel(n_jobs=-1)]: Done  18 tasks      | elapsed:   38.4s\n",
            "[Parallel(n_jobs=-1)]: Done  19 tasks      | elapsed:   40.7s\n",
            "[Parallel(n_jobs=-1)]: Done  20 tasks      | elapsed:   42.6s\n",
            "[Parallel(n_jobs=-1)]: Done  21 tasks      | elapsed:   44.6s\n",
            "[Parallel(n_jobs=-1)]: Done  22 tasks      | elapsed:   46.5s\n",
            "[Parallel(n_jobs=-1)]: Done  23 tasks      | elapsed:   49.0s\n",
            "[Parallel(n_jobs=-1)]: Done  24 tasks      | elapsed:   51.1s\n",
            "[Parallel(n_jobs=-1)]: Done  25 tasks      | elapsed:   53.2s\n",
            "[Parallel(n_jobs=-1)]: Done  26 tasks      | elapsed:   55.0s\n",
            "[Parallel(n_jobs=-1)]: Done  27 tasks      | elapsed:   57.6s\n",
            "[Parallel(n_jobs=-1)]: Done  28 tasks      | elapsed:   58.6s\n",
            "[Parallel(n_jobs=-1)]: Done  29 tasks      | elapsed:  1.0min\n",
            "[Parallel(n_jobs=-1)]: Done  30 tasks      | elapsed:  1.1min\n",
            "[Parallel(n_jobs=-1)]: Done  31 tasks      | elapsed:  1.1min\n",
            "[Parallel(n_jobs=-1)]: Done  32 tasks      | elapsed:  1.1min\n",
            "[Parallel(n_jobs=-1)]: Done  33 tasks      | elapsed:  1.2min\n",
            "[Parallel(n_jobs=-1)]: Done  34 tasks      | elapsed:  1.2min\n",
            "[Parallel(n_jobs=-1)]: Done  35 tasks      | elapsed:  1.2min\n",
            "[Parallel(n_jobs=-1)]: Done  36 tasks      | elapsed:  1.3min\n",
            "[Parallel(n_jobs=-1)]: Done  37 tasks      | elapsed:  1.3min\n",
            "[Parallel(n_jobs=-1)]: Done  38 tasks      | elapsed:  1.3min\n",
            "[Parallel(n_jobs=-1)]: Done  39 tasks      | elapsed:  1.4min\n",
            "[Parallel(n_jobs=-1)]: Done  40 tasks      | elapsed:  1.4min\n",
            "[Parallel(n_jobs=-1)]: Done  41 tasks      | elapsed:  1.5min\n",
            "[Parallel(n_jobs=-1)]: Done  42 tasks      | elapsed:  1.5min\n",
            "[Parallel(n_jobs=-1)]: Done  43 tasks      | elapsed:  1.5min\n",
            "[Parallel(n_jobs=-1)]: Done  44 tasks      | elapsed:  1.5min\n",
            "[Parallel(n_jobs=-1)]: Done  45 tasks      | elapsed:  1.6min\n",
            "[Parallel(n_jobs=-1)]: Done  46 tasks      | elapsed:  1.6min\n",
            "[Parallel(n_jobs=-1)]: Done  47 tasks      | elapsed:  1.7min\n",
            "[Parallel(n_jobs=-1)]: Done  48 tasks      | elapsed:  1.7min\n",
            "[Parallel(n_jobs=-1)]: Done  49 tasks      | elapsed:  1.7min\n",
            "[Parallel(n_jobs=-1)]: Done  50 tasks      | elapsed:  1.7min\n",
            "[Parallel(n_jobs=-1)]: Done  51 tasks      | elapsed:  1.8min\n",
            "[Parallel(n_jobs=-1)]: Done  52 tasks      | elapsed:  1.8min\n",
            "[Parallel(n_jobs=-1)]: Done  53 tasks      | elapsed:  1.9min\n",
            "[Parallel(n_jobs=-1)]: Done  54 tasks      | elapsed:  1.9min\n",
            "[Parallel(n_jobs=-1)]: Done  55 tasks      | elapsed:  1.9min\n",
            "[Parallel(n_jobs=-1)]: Done  56 tasks      | elapsed:  1.9min\n",
            "[Parallel(n_jobs=-1)]: Done  57 tasks      | elapsed:  2.0min\n",
            "[Parallel(n_jobs=-1)]: Done  58 tasks      | elapsed:  2.0min\n",
            "[Parallel(n_jobs=-1)]: Done  59 tasks      | elapsed:  2.1min\n",
            "[Parallel(n_jobs=-1)]: Done  60 tasks      | elapsed:  2.1min\n",
            "[Parallel(n_jobs=-1)]: Done  61 tasks      | elapsed:  2.1min\n",
            "[Parallel(n_jobs=-1)]: Done  62 tasks      | elapsed:  2.2min\n",
            "[Parallel(n_jobs=-1)]: Done  63 tasks      | elapsed:  2.2min\n",
            "[Parallel(n_jobs=-1)]: Done  64 tasks      | elapsed:  2.2min\n",
            "[Parallel(n_jobs=-1)]: Done  65 tasks      | elapsed:  2.3min\n",
            "[Parallel(n_jobs=-1)]: Done  66 tasks      | elapsed:  2.3min\n",
            "[Parallel(n_jobs=-1)]: Done  67 tasks      | elapsed:  2.4min\n",
            "[Parallel(n_jobs=-1)]: Done  68 tasks      | elapsed:  2.4min\n",
            "[Parallel(n_jobs=-1)]: Done  69 tasks      | elapsed:  2.4min\n",
            "[Parallel(n_jobs=-1)]: Done  70 tasks      | elapsed:  2.4min\n",
            "[Parallel(n_jobs=-1)]: Done  71 tasks      | elapsed:  2.5min\n",
            "[Parallel(n_jobs=-1)]: Done  72 tasks      | elapsed:  2.5min\n",
            "[Parallel(n_jobs=-1)]: Done  73 tasks      | elapsed:  2.6min\n",
            "[Parallel(n_jobs=-1)]: Done  74 tasks      | elapsed:  2.6min\n",
            "[Parallel(n_jobs=-1)]: Done  75 tasks      | elapsed:  2.6min\n",
            "[Parallel(n_jobs=-1)]: Done  76 tasks      | elapsed:  2.6min\n",
            "[Parallel(n_jobs=-1)]: Done  77 tasks      | elapsed:  2.7min\n",
            "[Parallel(n_jobs=-1)]: Done  78 tasks      | elapsed:  2.7min\n",
            "[Parallel(n_jobs=-1)]: Done  79 tasks      | elapsed:  2.8min\n",
            "[Parallel(n_jobs=-1)]: Done  80 tasks      | elapsed:  2.8min\n",
            "[Parallel(n_jobs=-1)]: Done  81 tasks      | elapsed:  2.8min\n",
            "[Parallel(n_jobs=-1)]: Done  82 tasks      | elapsed:  2.8min\n",
            "[Parallel(n_jobs=-1)]: Done  83 tasks      | elapsed:  2.9min\n",
            "[Parallel(n_jobs=-1)]: Done  84 tasks      | elapsed:  2.9min\n",
            "[Parallel(n_jobs=-1)]: Done  85 tasks      | elapsed:  3.0min\n",
            "[Parallel(n_jobs=-1)]: Done  86 tasks      | elapsed:  3.0min\n",
            "[Parallel(n_jobs=-1)]: Done  87 tasks      | elapsed:  3.0min\n",
            "[Parallel(n_jobs=-1)]: Done  88 tasks      | elapsed:  3.0min\n",
            "[Parallel(n_jobs=-1)]: Done  89 tasks      | elapsed:  3.1min\n",
            "[Parallel(n_jobs=-1)]: Done  90 tasks      | elapsed:  3.1min\n",
            "[Parallel(n_jobs=-1)]: Done  91 tasks      | elapsed:  3.2min\n",
            "[Parallel(n_jobs=-1)]: Done  92 tasks      | elapsed:  3.2min\n",
            "[Parallel(n_jobs=-1)]: Done  93 tasks      | elapsed:  3.2min\n",
            "[Parallel(n_jobs=-1)]: Done  94 tasks      | elapsed:  3.3min\n",
            "[Parallel(n_jobs=-1)]: Done  95 tasks      | elapsed:  3.3min\n",
            "[Parallel(n_jobs=-1)]: Done  96 tasks      | elapsed:  3.3min\n",
            "[Parallel(n_jobs=-1)]: Done  97 tasks      | elapsed:  3.4min\n",
            "[Parallel(n_jobs=-1)]: Done  98 tasks      | elapsed:  3.4min\n",
            "[Parallel(n_jobs=-1)]: Done  99 tasks      | elapsed:  3.5min\n",
            "[Parallel(n_jobs=-1)]: Done 100 tasks      | elapsed:  3.5min\n",
            "[Parallel(n_jobs=-1)]: Done 101 tasks      | elapsed:  3.5min\n",
            "[Parallel(n_jobs=-1)]: Done 102 tasks      | elapsed:  3.6min\n",
            "[Parallel(n_jobs=-1)]: Done 103 tasks      | elapsed:  3.6min\n",
            "[Parallel(n_jobs=-1)]: Done 104 tasks      | elapsed:  3.6min\n",
            "[Parallel(n_jobs=-1)]: Done 105 tasks      | elapsed:  3.7min\n",
            "[Parallel(n_jobs=-1)]: Done 106 tasks      | elapsed:  3.7min\n",
            "[Parallel(n_jobs=-1)]: Done 107 tasks      | elapsed:  3.7min\n",
            "[Parallel(n_jobs=-1)]: Done 108 tasks      | elapsed:  3.8min\n",
            "[Parallel(n_jobs=-1)]: Done 109 tasks      | elapsed:  3.8min\n",
            "[Parallel(n_jobs=-1)]: Done 110 tasks      | elapsed:  3.8min\n",
            "[Parallel(n_jobs=-1)]: Done 111 tasks      | elapsed:  3.9min\n",
            "[Parallel(n_jobs=-1)]: Done 112 tasks      | elapsed:  3.9min\n",
            "[Parallel(n_jobs=-1)]: Done 113 tasks      | elapsed:  3.9min\n",
            "[Parallel(n_jobs=-1)]: Done 114 tasks      | elapsed:  4.0min\n",
            "[Parallel(n_jobs=-1)]: Done 115 tasks      | elapsed:  4.0min\n",
            "[Parallel(n_jobs=-1)]: Done 116 tasks      | elapsed:  4.0min\n",
            "[Parallel(n_jobs=-1)]: Done 117 tasks      | elapsed:  4.1min\n",
            "[Parallel(n_jobs=-1)]: Done 118 tasks      | elapsed:  4.1min\n",
            "[Parallel(n_jobs=-1)]: Done 119 tasks      | elapsed:  4.2min\n",
            "[Parallel(n_jobs=-1)]: Done 120 tasks      | elapsed:  4.2min\n",
            "[Parallel(n_jobs=-1)]: Done 121 tasks      | elapsed:  4.2min\n",
            "[Parallel(n_jobs=-1)]: Done 122 tasks      | elapsed:  4.3min\n",
            "[Parallel(n_jobs=-1)]: Done 123 tasks      | elapsed:  4.3min\n",
            "[Parallel(n_jobs=-1)]: Done 124 tasks      | elapsed:  4.3min\n",
            "[Parallel(n_jobs=-1)]: Done 125 tasks      | elapsed:  4.4min\n",
            "[Parallel(n_jobs=-1)]: Done 126 tasks      | elapsed:  4.4min\n",
            "[Parallel(n_jobs=-1)]: Done 127 tasks      | elapsed:  4.4min\n",
            "[Parallel(n_jobs=-1)]: Done 128 tasks      | elapsed:  4.5min\n",
            "[Parallel(n_jobs=-1)]: Done 129 tasks      | elapsed:  4.5min\n",
            "[Parallel(n_jobs=-1)]: Done 130 tasks      | elapsed:  4.6min\n",
            "[Parallel(n_jobs=-1)]: Done 131 tasks      | elapsed:  4.6min\n",
            "[Parallel(n_jobs=-1)]: Done 132 tasks      | elapsed:  4.6min\n",
            "[Parallel(n_jobs=-1)]: Done 133 tasks      | elapsed:  4.7min\n",
            "[Parallel(n_jobs=-1)]: Done 134 tasks      | elapsed:  4.7min\n",
            "[Parallel(n_jobs=-1)]: Done 135 tasks      | elapsed:  4.7min\n",
            "[Parallel(n_jobs=-1)]: Done 136 tasks      | elapsed:  4.8min\n",
            "[Parallel(n_jobs=-1)]: Done 137 tasks      | elapsed:  4.8min\n",
            "[Parallel(n_jobs=-1)]: Done 138 tasks      | elapsed:  4.8min\n",
            "[Parallel(n_jobs=-1)]: Done 139 tasks      | elapsed:  4.9min\n",
            "[Parallel(n_jobs=-1)]: Done 140 tasks      | elapsed:  4.9min\n",
            "[Parallel(n_jobs=-1)]: Done 141 tasks      | elapsed:  4.9min\n",
            "[Parallel(n_jobs=-1)]: Done 142 tasks      | elapsed:  5.0min\n",
            "[Parallel(n_jobs=-1)]: Done 143 tasks      | elapsed:  5.0min\n",
            "[Parallel(n_jobs=-1)]: Done 144 tasks      | elapsed:  5.0min\n",
            "[Parallel(n_jobs=-1)]: Done 145 tasks      | elapsed:  5.1min\n",
            "[Parallel(n_jobs=-1)]: Done 146 tasks      | elapsed:  5.1min\n",
            "[Parallel(n_jobs=-1)]: Done 147 tasks      | elapsed:  5.1min\n",
            "[Parallel(n_jobs=-1)]: Done 148 tasks      | elapsed:  5.2min\n",
            "[Parallel(n_jobs=-1)]: Done 149 tasks      | elapsed:  5.2min\n",
            "[Parallel(n_jobs=-1)]: Done 150 tasks      | elapsed:  5.3min\n",
            "[Parallel(n_jobs=-1)]: Done 151 tasks      | elapsed:  5.3min\n",
            "[Parallel(n_jobs=-1)]: Done 152 tasks      | elapsed:  5.3min\n",
            "[Parallel(n_jobs=-1)]: Done 153 tasks      | elapsed:  5.4min\n",
            "[Parallel(n_jobs=-1)]: Done 154 tasks      | elapsed:  5.4min\n",
            "[Parallel(n_jobs=-1)]: Done 155 tasks      | elapsed:  5.4min\n",
            "[Parallel(n_jobs=-1)]: Done 156 tasks      | elapsed:  5.5min\n",
            "[Parallel(n_jobs=-1)]: Done 157 tasks      | elapsed:  5.5min\n",
            "[Parallel(n_jobs=-1)]: Done 158 tasks      | elapsed:  5.5min\n",
            "[Parallel(n_jobs=-1)]: Done 159 tasks      | elapsed:  5.5min\n",
            "[Parallel(n_jobs=-1)]: Done 160 tasks      | elapsed:  5.6min\n",
            "[Parallel(n_jobs=-1)]: Done 161 tasks      | elapsed:  5.6min\n",
            "[Parallel(n_jobs=-1)]: Done 162 tasks      | elapsed:  5.7min\n",
            "[Parallel(n_jobs=-1)]: Done 163 tasks      | elapsed:  5.7min\n",
            "[Parallel(n_jobs=-1)]: Done 164 tasks      | elapsed:  5.7min\n",
            "[Parallel(n_jobs=-1)]: Done 165 tasks      | elapsed:  5.8min\n",
            "[Parallel(n_jobs=-1)]: Done 166 tasks      | elapsed:  5.8min\n",
            "[Parallel(n_jobs=-1)]: Done 167 tasks      | elapsed:  5.8min\n",
            "[Parallel(n_jobs=-1)]: Done 168 tasks      | elapsed:  5.9min\n",
            "[Parallel(n_jobs=-1)]: Done 169 tasks      | elapsed:  5.9min\n",
            "[Parallel(n_jobs=-1)]: Done 170 tasks      | elapsed:  5.9min\n",
            "[Parallel(n_jobs=-1)]: Done 171 tasks      | elapsed:  6.0min\n",
            "[Parallel(n_jobs=-1)]: Done 172 tasks      | elapsed:  6.0min\n",
            "[Parallel(n_jobs=-1)]: Done 173 tasks      | elapsed:  6.0min\n",
            "[Parallel(n_jobs=-1)]: Done 174 tasks      | elapsed:  6.1min\n",
            "[Parallel(n_jobs=-1)]: Done 175 tasks      | elapsed:  6.1min\n",
            "[Parallel(n_jobs=-1)]: Done 176 tasks      | elapsed:  6.2min\n",
            "[Parallel(n_jobs=-1)]: Done 177 tasks      | elapsed:  6.2min\n",
            "[Parallel(n_jobs=-1)]: Done 178 tasks      | elapsed:  6.2min\n",
            "[Parallel(n_jobs=-1)]: Done 179 tasks      | elapsed:  6.2min\n",
            "[Parallel(n_jobs=-1)]: Done 180 tasks      | elapsed:  6.3min\n",
            "[Parallel(n_jobs=-1)]: Done 181 tasks      | elapsed:  6.3min\n",
            "[Parallel(n_jobs=-1)]: Done 182 tasks      | elapsed:  6.4min\n",
            "[Parallel(n_jobs=-1)]: Done 183 tasks      | elapsed:  6.4min\n",
            "[Parallel(n_jobs=-1)]: Done 184 tasks      | elapsed:  6.4min\n",
            "[Parallel(n_jobs=-1)]: Done 185 tasks      | elapsed:  6.5min\n",
            "[Parallel(n_jobs=-1)]: Done 186 tasks      | elapsed:  6.5min\n",
            "[Parallel(n_jobs=-1)]: Done 187 tasks      | elapsed:  6.5min\n",
            "[Parallel(n_jobs=-1)]: Done 188 tasks      | elapsed:  6.6min\n",
            "[Parallel(n_jobs=-1)]: Done 189 tasks      | elapsed:  6.6min\n",
            "[Parallel(n_jobs=-1)]: Done 190 tasks      | elapsed:  6.7min\n",
            "[Parallel(n_jobs=-1)]: Done 191 tasks      | elapsed:  6.7min\n",
            "[Parallel(n_jobs=-1)]: Done 192 tasks      | elapsed:  6.7min\n",
            "[Parallel(n_jobs=-1)]: Done 193 tasks      | elapsed:  6.8min\n",
            "[Parallel(n_jobs=-1)]: Done 194 tasks      | elapsed:  6.8min\n",
            "[Parallel(n_jobs=-1)]: Done 195 tasks      | elapsed:  6.8min\n",
            "[Parallel(n_jobs=-1)]: Done 196 tasks      | elapsed:  6.9min\n",
            "[Parallel(n_jobs=-1)]: Done 197 tasks      | elapsed:  6.9min\n",
            "[Parallel(n_jobs=-1)]: Done 200 out of 200 | elapsed:  7.0min finished\n",
            "[Parallel(n_jobs=2)]: Using backend ThreadingBackend with 2 concurrent workers.\n",
            "[Parallel(n_jobs=2)]: Done   1 tasks      | elapsed:    0.0s\n",
            "[Parallel(n_jobs=2)]: Done   2 tasks      | elapsed:    0.0s\n",
            "[Parallel(n_jobs=2)]: Done   3 tasks      | elapsed:    0.0s\n",
            "[Parallel(n_jobs=2)]: Done   4 tasks      | elapsed:    0.0s\n",
            "[Parallel(n_jobs=2)]: Done   5 tasks      | elapsed:    0.0s\n",
            "[Parallel(n_jobs=2)]: Done   6 tasks      | elapsed:    0.0s\n",
            "[Parallel(n_jobs=2)]: Done   7 tasks      | elapsed:    0.0s\n",
            "[Parallel(n_jobs=2)]: Done   8 tasks      | elapsed:    0.0s\n",
            "[Parallel(n_jobs=2)]: Done   9 tasks      | elapsed:    0.0s\n",
            "[Parallel(n_jobs=2)]: Done  10 tasks      | elapsed:    0.0s\n",
            "[Parallel(n_jobs=2)]: Done  11 tasks      | elapsed:    0.0s\n",
            "[Parallel(n_jobs=2)]: Done  12 tasks      | elapsed:    0.0s\n",
            "[Parallel(n_jobs=2)]: Done  13 tasks      | elapsed:    0.0s\n",
            "[Parallel(n_jobs=2)]: Done  14 tasks      | elapsed:    0.0s\n",
            "[Parallel(n_jobs=2)]: Done  15 tasks      | elapsed:    0.0s\n",
            "[Parallel(n_jobs=2)]: Done  16 tasks      | elapsed:    0.0s\n",
            "[Parallel(n_jobs=2)]: Done  17 tasks      | elapsed:    0.0s\n",
            "[Parallel(n_jobs=2)]: Done  18 tasks      | elapsed:    0.1s\n",
            "[Parallel(n_jobs=2)]: Done  19 tasks      | elapsed:    0.1s\n",
            "[Parallel(n_jobs=2)]: Done  20 tasks      | elapsed:    0.1s\n",
            "[Parallel(n_jobs=2)]: Done  21 tasks      | elapsed:    0.1s\n",
            "[Parallel(n_jobs=2)]: Done  22 tasks      | elapsed:    0.1s\n",
            "[Parallel(n_jobs=2)]: Done  23 tasks      | elapsed:    0.1s\n",
            "[Parallel(n_jobs=2)]: Done  24 tasks      | elapsed:    0.1s\n",
            "[Parallel(n_jobs=2)]: Done  25 tasks      | elapsed:    0.1s\n",
            "[Parallel(n_jobs=2)]: Done  26 tasks      | elapsed:    0.1s\n",
            "[Parallel(n_jobs=2)]: Done  27 tasks      | elapsed:    0.1s\n",
            "[Parallel(n_jobs=2)]: Done  28 tasks      | elapsed:    0.1s\n",
            "[Parallel(n_jobs=2)]: Done  29 tasks      | elapsed:    0.1s\n",
            "[Parallel(n_jobs=2)]: Done  30 tasks      | elapsed:    0.1s\n",
            "[Parallel(n_jobs=2)]: Done  31 tasks      | elapsed:    0.1s\n",
            "[Parallel(n_jobs=2)]: Done  32 tasks      | elapsed:    0.1s\n",
            "[Parallel(n_jobs=2)]: Done  33 tasks      | elapsed:    0.1s\n"
          ],
          "name": "stderr"
        },
        {
          "output_type": "stream",
          "text": [
            "Using ThreadingBackend as joblib.Parallel backend instead of LokyBackend as the latter does not provide shared memory semantics.\n"
          ],
          "name": "stdout"
        },
        {
          "output_type": "stream",
          "text": [
            "[Parallel(n_jobs=2)]: Done  34 tasks      | elapsed:    0.1s\n",
            "[Parallel(n_jobs=2)]: Done  35 tasks      | elapsed:    0.1s\n",
            "[Parallel(n_jobs=2)]: Done  36 tasks      | elapsed:    0.1s\n",
            "[Parallel(n_jobs=2)]: Done  37 tasks      | elapsed:    0.1s\n",
            "[Parallel(n_jobs=2)]: Done  38 tasks      | elapsed:    0.1s\n",
            "[Parallel(n_jobs=2)]: Done  39 tasks      | elapsed:    0.1s\n",
            "[Parallel(n_jobs=2)]: Done  40 tasks      | elapsed:    0.1s\n",
            "[Parallel(n_jobs=2)]: Done  41 tasks      | elapsed:    0.1s\n",
            "[Parallel(n_jobs=2)]: Done  42 tasks      | elapsed:    0.1s\n",
            "[Parallel(n_jobs=2)]: Done  43 tasks      | elapsed:    0.1s\n",
            "[Parallel(n_jobs=2)]: Done  44 tasks      | elapsed:    0.1s\n",
            "[Parallel(n_jobs=2)]: Done  45 tasks      | elapsed:    0.1s\n",
            "[Parallel(n_jobs=2)]: Done  46 tasks      | elapsed:    0.1s\n",
            "[Parallel(n_jobs=2)]: Done  47 tasks      | elapsed:    0.1s\n",
            "[Parallel(n_jobs=2)]: Done  48 tasks      | elapsed:    0.1s\n",
            "[Parallel(n_jobs=2)]: Done  49 tasks      | elapsed:    0.1s\n",
            "[Parallel(n_jobs=2)]: Done  50 tasks      | elapsed:    0.1s\n",
            "[Parallel(n_jobs=2)]: Done  51 tasks      | elapsed:    0.1s\n",
            "[Parallel(n_jobs=2)]: Done  52 tasks      | elapsed:    0.2s\n",
            "[Parallel(n_jobs=2)]: Done  53 tasks      | elapsed:    0.2s\n",
            "[Parallel(n_jobs=2)]: Done  54 tasks      | elapsed:    0.2s\n",
            "[Parallel(n_jobs=2)]: Done  55 tasks      | elapsed:    0.2s\n",
            "[Parallel(n_jobs=2)]: Done  56 tasks      | elapsed:    0.2s\n",
            "[Parallel(n_jobs=2)]: Done  57 tasks      | elapsed:    0.2s\n",
            "[Parallel(n_jobs=2)]: Done  58 tasks      | elapsed:    0.2s\n",
            "[Parallel(n_jobs=2)]: Done  59 tasks      | elapsed:    0.2s\n",
            "[Parallel(n_jobs=2)]: Done  60 tasks      | elapsed:    0.2s\n",
            "[Parallel(n_jobs=2)]: Done  61 tasks      | elapsed:    0.2s\n",
            "[Parallel(n_jobs=2)]: Done  62 tasks      | elapsed:    0.2s\n",
            "[Parallel(n_jobs=2)]: Done  63 tasks      | elapsed:    0.2s\n",
            "[Parallel(n_jobs=2)]: Done  64 tasks      | elapsed:    0.2s\n",
            "[Parallel(n_jobs=2)]: Done  65 tasks      | elapsed:    0.2s\n",
            "[Parallel(n_jobs=2)]: Done  66 tasks      | elapsed:    0.2s\n",
            "[Parallel(n_jobs=2)]: Done  67 tasks      | elapsed:    0.2s\n",
            "[Parallel(n_jobs=2)]: Done  68 tasks      | elapsed:    0.2s\n",
            "[Parallel(n_jobs=2)]: Done  69 tasks      | elapsed:    0.2s\n",
            "[Parallel(n_jobs=2)]: Done  70 tasks      | elapsed:    0.2s\n",
            "[Parallel(n_jobs=2)]: Done  71 tasks      | elapsed:    0.2s\n",
            "[Parallel(n_jobs=2)]: Done  72 tasks      | elapsed:    0.2s\n",
            "[Parallel(n_jobs=2)]: Done  73 tasks      | elapsed:    0.2s\n",
            "[Parallel(n_jobs=2)]: Done  74 tasks      | elapsed:    0.2s\n",
            "[Parallel(n_jobs=2)]: Done  75 tasks      | elapsed:    0.2s\n",
            "[Parallel(n_jobs=2)]: Done  76 tasks      | elapsed:    0.2s\n",
            "[Parallel(n_jobs=2)]: Done  77 tasks      | elapsed:    0.2s\n",
            "[Parallel(n_jobs=2)]: Done  78 tasks      | elapsed:    0.2s\n",
            "[Parallel(n_jobs=2)]: Done  79 tasks      | elapsed:    0.2s\n",
            "[Parallel(n_jobs=2)]: Done  80 tasks      | elapsed:    0.2s\n",
            "[Parallel(n_jobs=2)]: Done  81 tasks      | elapsed:    0.3s\n",
            "[Parallel(n_jobs=2)]: Done  82 tasks      | elapsed:    0.3s\n",
            "[Parallel(n_jobs=2)]: Done  83 tasks      | elapsed:    0.3s\n",
            "[Parallel(n_jobs=2)]: Done  84 tasks      | elapsed:    0.3s\n",
            "[Parallel(n_jobs=2)]: Done  85 tasks      | elapsed:    0.3s\n",
            "[Parallel(n_jobs=2)]: Done  86 tasks      | elapsed:    0.3s\n",
            "[Parallel(n_jobs=2)]: Done  87 tasks      | elapsed:    0.3s\n",
            "[Parallel(n_jobs=2)]: Done  88 tasks      | elapsed:    0.3s\n",
            "[Parallel(n_jobs=2)]: Done  89 tasks      | elapsed:    0.3s\n",
            "[Parallel(n_jobs=2)]: Done  90 tasks      | elapsed:    0.3s\n",
            "[Parallel(n_jobs=2)]: Done  91 tasks      | elapsed:    0.3s\n",
            "[Parallel(n_jobs=2)]: Done  92 tasks      | elapsed:    0.3s\n",
            "[Parallel(n_jobs=2)]: Done  93 tasks      | elapsed:    0.3s\n",
            "[Parallel(n_jobs=2)]: Done  94 tasks      | elapsed:    0.3s\n",
            "[Parallel(n_jobs=2)]: Done  95 tasks      | elapsed:    0.3s\n",
            "[Parallel(n_jobs=2)]: Done  96 tasks      | elapsed:    0.3s\n",
            "[Parallel(n_jobs=2)]: Done  97 tasks      | elapsed:    0.3s\n",
            "[Parallel(n_jobs=2)]: Done  98 tasks      | elapsed:    0.3s\n",
            "[Parallel(n_jobs=2)]: Done  99 tasks      | elapsed:    0.3s\n",
            "[Parallel(n_jobs=2)]: Done 100 tasks      | elapsed:    0.3s\n",
            "[Parallel(n_jobs=2)]: Done 101 tasks      | elapsed:    0.3s\n",
            "[Parallel(n_jobs=2)]: Done 102 tasks      | elapsed:    0.3s\n",
            "[Parallel(n_jobs=2)]: Done 103 tasks      | elapsed:    0.3s\n",
            "[Parallel(n_jobs=2)]: Done 104 tasks      | elapsed:    0.3s\n",
            "[Parallel(n_jobs=2)]: Done 105 tasks      | elapsed:    0.3s\n",
            "[Parallel(n_jobs=2)]: Done 106 tasks      | elapsed:    0.3s\n",
            "[Parallel(n_jobs=2)]: Done 107 tasks      | elapsed:    0.3s\n",
            "[Parallel(n_jobs=2)]: Done 108 tasks      | elapsed:    0.3s\n",
            "[Parallel(n_jobs=2)]: Done 109 tasks      | elapsed:    0.3s\n",
            "[Parallel(n_jobs=2)]: Done 110 tasks      | elapsed:    0.3s\n",
            "[Parallel(n_jobs=2)]: Done 111 tasks      | elapsed:    0.3s\n",
            "[Parallel(n_jobs=2)]: Done 112 tasks      | elapsed:    0.3s\n",
            "[Parallel(n_jobs=2)]: Done 113 tasks      | elapsed:    0.3s\n",
            "[Parallel(n_jobs=2)]: Done 114 tasks      | elapsed:    0.4s\n",
            "[Parallel(n_jobs=2)]: Done 115 tasks      | elapsed:    0.4s\n",
            "[Parallel(n_jobs=2)]: Done 116 tasks      | elapsed:    0.4s\n",
            "[Parallel(n_jobs=2)]: Done 117 tasks      | elapsed:    0.4s\n",
            "[Parallel(n_jobs=2)]: Done 118 tasks      | elapsed:    0.4s\n",
            "[Parallel(n_jobs=2)]: Done 119 tasks      | elapsed:    0.4s\n",
            "[Parallel(n_jobs=2)]: Done 120 tasks      | elapsed:    0.4s\n",
            "[Parallel(n_jobs=2)]: Done 121 tasks      | elapsed:    0.4s\n",
            "[Parallel(n_jobs=2)]: Done 122 tasks      | elapsed:    0.4s\n",
            "[Parallel(n_jobs=2)]: Done 123 tasks      | elapsed:    0.4s\n",
            "[Parallel(n_jobs=2)]: Done 124 tasks      | elapsed:    0.4s\n",
            "[Parallel(n_jobs=2)]: Done 125 tasks      | elapsed:    0.4s\n",
            "[Parallel(n_jobs=2)]: Done 126 tasks      | elapsed:    0.4s\n",
            "[Parallel(n_jobs=2)]: Done 127 tasks      | elapsed:    0.4s\n",
            "[Parallel(n_jobs=2)]: Done 128 tasks      | elapsed:    0.4s\n",
            "[Parallel(n_jobs=2)]: Done 129 tasks      | elapsed:    0.4s\n",
            "[Parallel(n_jobs=2)]: Done 130 tasks      | elapsed:    0.4s\n",
            "[Parallel(n_jobs=2)]: Done 131 tasks      | elapsed:    0.4s\n",
            "[Parallel(n_jobs=2)]: Done 132 tasks      | elapsed:    0.4s\n",
            "[Parallel(n_jobs=2)]: Done 133 tasks      | elapsed:    0.4s\n",
            "[Parallel(n_jobs=2)]: Done 134 tasks      | elapsed:    0.4s\n",
            "[Parallel(n_jobs=2)]: Done 135 tasks      | elapsed:    0.4s\n",
            "[Parallel(n_jobs=2)]: Done 136 tasks      | elapsed:    0.4s\n",
            "[Parallel(n_jobs=2)]: Done 137 tasks      | elapsed:    0.4s\n",
            "[Parallel(n_jobs=2)]: Done 138 tasks      | elapsed:    0.4s\n",
            "[Parallel(n_jobs=2)]: Done 139 tasks      | elapsed:    0.4s\n",
            "[Parallel(n_jobs=2)]: Done 140 tasks      | elapsed:    0.4s\n",
            "[Parallel(n_jobs=2)]: Done 141 tasks      | elapsed:    0.4s\n",
            "[Parallel(n_jobs=2)]: Done 142 tasks      | elapsed:    0.4s\n",
            "[Parallel(n_jobs=2)]: Done 143 tasks      | elapsed:    0.4s\n",
            "[Parallel(n_jobs=2)]: Done 144 tasks      | elapsed:    0.4s\n",
            "[Parallel(n_jobs=2)]: Done 145 tasks      | elapsed:    0.4s\n",
            "[Parallel(n_jobs=2)]: Done 146 tasks      | elapsed:    0.4s\n",
            "[Parallel(n_jobs=2)]: Done 147 tasks      | elapsed:    0.4s\n",
            "[Parallel(n_jobs=2)]: Done 148 tasks      | elapsed:    0.4s\n",
            "[Parallel(n_jobs=2)]: Done 149 tasks      | elapsed:    0.4s\n",
            "[Parallel(n_jobs=2)]: Done 150 tasks      | elapsed:    0.4s\n",
            "[Parallel(n_jobs=2)]: Done 151 tasks      | elapsed:    0.4s\n",
            "[Parallel(n_jobs=2)]: Done 152 tasks      | elapsed:    0.5s\n",
            "[Parallel(n_jobs=2)]: Done 153 tasks      | elapsed:    0.5s\n",
            "[Parallel(n_jobs=2)]: Done 154 tasks      | elapsed:    0.5s\n",
            "[Parallel(n_jobs=2)]: Done 155 tasks      | elapsed:    0.5s\n",
            "[Parallel(n_jobs=2)]: Done 156 tasks      | elapsed:    0.5s\n",
            "[Parallel(n_jobs=2)]: Done 157 tasks      | elapsed:    0.5s\n",
            "[Parallel(n_jobs=2)]: Done 158 tasks      | elapsed:    0.5s\n",
            "[Parallel(n_jobs=2)]: Done 159 tasks      | elapsed:    0.5s\n",
            "[Parallel(n_jobs=2)]: Done 160 tasks      | elapsed:    0.5s\n",
            "[Parallel(n_jobs=2)]: Done 161 tasks      | elapsed:    0.5s\n",
            "[Parallel(n_jobs=2)]: Done 162 tasks      | elapsed:    0.5s\n",
            "[Parallel(n_jobs=2)]: Done 163 tasks      | elapsed:    0.5s\n",
            "[Parallel(n_jobs=2)]: Done 164 tasks      | elapsed:    0.5s\n",
            "[Parallel(n_jobs=2)]: Done 165 tasks      | elapsed:    0.5s\n",
            "[Parallel(n_jobs=2)]: Done 166 tasks      | elapsed:    0.5s\n",
            "[Parallel(n_jobs=2)]: Done 167 tasks      | elapsed:    0.5s\n",
            "[Parallel(n_jobs=2)]: Done 168 tasks      | elapsed:    0.5s\n",
            "[Parallel(n_jobs=2)]: Done 169 tasks      | elapsed:    0.5s\n",
            "[Parallel(n_jobs=2)]: Done 170 tasks      | elapsed:    0.5s\n",
            "[Parallel(n_jobs=2)]: Done 171 tasks      | elapsed:    0.5s\n",
            "[Parallel(n_jobs=2)]: Done 172 tasks      | elapsed:    0.5s\n",
            "[Parallel(n_jobs=2)]: Done 173 tasks      | elapsed:    0.5s\n",
            "[Parallel(n_jobs=2)]: Done 174 tasks      | elapsed:    0.5s\n",
            "[Parallel(n_jobs=2)]: Done 175 tasks      | elapsed:    0.5s\n",
            "[Parallel(n_jobs=2)]: Done 176 tasks      | elapsed:    0.5s\n",
            "[Parallel(n_jobs=2)]: Done 177 tasks      | elapsed:    0.5s\n",
            "[Parallel(n_jobs=2)]: Done 178 tasks      | elapsed:    0.5s\n",
            "[Parallel(n_jobs=2)]: Done 179 tasks      | elapsed:    0.5s\n",
            "[Parallel(n_jobs=2)]: Done 180 tasks      | elapsed:    0.5s\n",
            "[Parallel(n_jobs=2)]: Done 181 tasks      | elapsed:    0.5s\n",
            "[Parallel(n_jobs=2)]: Done 182 tasks      | elapsed:    0.5s\n",
            "[Parallel(n_jobs=2)]: Done 183 tasks      | elapsed:    0.5s\n",
            "[Parallel(n_jobs=2)]: Done 184 tasks      | elapsed:    0.5s\n",
            "[Parallel(n_jobs=2)]: Done 185 tasks      | elapsed:    0.5s\n",
            "[Parallel(n_jobs=2)]: Done 186 tasks      | elapsed:    0.5s\n",
            "[Parallel(n_jobs=2)]: Done 187 tasks      | elapsed:    0.5s\n",
            "[Parallel(n_jobs=2)]: Done 188 tasks      | elapsed:    0.6s\n",
            "[Parallel(n_jobs=2)]: Done 189 tasks      | elapsed:    0.6s\n",
            "[Parallel(n_jobs=2)]: Done 190 tasks      | elapsed:    0.6s\n",
            "[Parallel(n_jobs=2)]: Done 191 tasks      | elapsed:    0.6s\n",
            "[Parallel(n_jobs=2)]: Done 192 tasks      | elapsed:    0.6s\n",
            "[Parallel(n_jobs=2)]: Done 193 tasks      | elapsed:    0.6s\n",
            "[Parallel(n_jobs=2)]: Done 194 tasks      | elapsed:    0.6s\n",
            "[Parallel(n_jobs=2)]: Done 195 tasks      | elapsed:    0.6s\n",
            "[Parallel(n_jobs=2)]: Done 196 tasks      | elapsed:    0.6s\n",
            "[Parallel(n_jobs=2)]: Done 197 tasks      | elapsed:    0.6s\n",
            "[Parallel(n_jobs=2)]: Done 200 out of 200 | elapsed:    0.6s finished\n",
            "[Parallel(n_jobs=-1)]: Using backend LokyBackend with 2 concurrent workers.\n",
            "[Parallel(n_jobs=-1)]: Done   1 tasks      | elapsed:    4.0s\n",
            "[Parallel(n_jobs=-1)]: Done   2 tasks      | elapsed:    4.2s\n",
            "[Parallel(n_jobs=-1)]: Done   3 tasks      | elapsed:    7.7s\n",
            "[Parallel(n_jobs=-1)]: Done   4 tasks      | elapsed:    7.9s\n",
            "[Parallel(n_jobs=-1)]: Done   5 tasks      | elapsed:   11.6s\n",
            "[Parallel(n_jobs=-1)]: Done   6 tasks      | elapsed:   11.8s\n",
            "[Parallel(n_jobs=-1)]: Done   7 tasks      | elapsed:   15.1s\n",
            "[Parallel(n_jobs=-1)]: Done   8 tasks      | elapsed:   16.0s\n",
            "[Parallel(n_jobs=-1)]: Done   9 tasks      | elapsed:   19.3s\n",
            "[Parallel(n_jobs=-1)]: Done  10 tasks      | elapsed:   20.8s\n",
            "[Parallel(n_jobs=-1)]: Done  11 tasks      | elapsed:   23.2s\n",
            "[Parallel(n_jobs=-1)]: Done  12 tasks      | elapsed:   24.4s\n",
            "[Parallel(n_jobs=-1)]: Done  13 tasks      | elapsed:   26.9s\n",
            "[Parallel(n_jobs=-1)]: Done  14 tasks      | elapsed:   28.4s\n",
            "[Parallel(n_jobs=-1)]: Done  15 tasks      | elapsed:   30.7s\n",
            "[Parallel(n_jobs=-1)]: Done  16 tasks      | elapsed:   32.6s\n",
            "[Parallel(n_jobs=-1)]: Done  17 tasks      | elapsed:   35.1s\n",
            "[Parallel(n_jobs=-1)]: Done  18 tasks      | elapsed:   36.7s\n",
            "[Parallel(n_jobs=-1)]: Done  19 tasks      | elapsed:   39.9s\n",
            "[Parallel(n_jobs=-1)]: Done  20 tasks      | elapsed:   40.7s\n",
            "[Parallel(n_jobs=-1)]: Done  21 tasks      | elapsed:   44.3s\n",
            "[Parallel(n_jobs=-1)]: Done  22 tasks      | elapsed:   44.5s\n",
            "[Parallel(n_jobs=-1)]: Done  23 tasks      | elapsed:   48.1s\n",
            "[Parallel(n_jobs=-1)]: Done  24 tasks      | elapsed:   48.6s\n",
            "[Parallel(n_jobs=-1)]: Done  25 tasks      | elapsed:   52.5s\n",
            "[Parallel(n_jobs=-1)]: Done  26 tasks      | elapsed:   52.7s\n",
            "[Parallel(n_jobs=-1)]: Done  27 tasks      | elapsed:   56.6s\n",
            "[Parallel(n_jobs=-1)]: Done  28 tasks      | elapsed:   56.7s\n",
            "[Parallel(n_jobs=-1)]: Done  29 tasks      | elapsed:  1.0min\n",
            "[Parallel(n_jobs=-1)]: Done  30 tasks      | elapsed:  1.0min\n",
            "[Parallel(n_jobs=-1)]: Done  31 tasks      | elapsed:  1.1min\n",
            "[Parallel(n_jobs=-1)]: Done  32 tasks      | elapsed:  1.1min\n",
            "[Parallel(n_jobs=-1)]: Done  33 tasks      | elapsed:  1.1min\n",
            "[Parallel(n_jobs=-1)]: Done  34 tasks      | elapsed:  1.1min\n",
            "[Parallel(n_jobs=-1)]: Done  35 tasks      | elapsed:  1.2min\n",
            "[Parallel(n_jobs=-1)]: Done  36 tasks      | elapsed:  1.2min\n",
            "[Parallel(n_jobs=-1)]: Done  37 tasks      | elapsed:  1.3min\n",
            "[Parallel(n_jobs=-1)]: Done  38 tasks      | elapsed:  1.3min\n",
            "[Parallel(n_jobs=-1)]: Done  39 tasks      | elapsed:  1.3min\n",
            "[Parallel(n_jobs=-1)]: Done  40 tasks      | elapsed:  1.4min\n",
            "[Parallel(n_jobs=-1)]: Done  41 tasks      | elapsed:  1.4min\n",
            "[Parallel(n_jobs=-1)]: Done  42 tasks      | elapsed:  1.4min\n",
            "[Parallel(n_jobs=-1)]: Done  43 tasks      | elapsed:  1.5min\n",
            "[Parallel(n_jobs=-1)]: Done  44 tasks      | elapsed:  1.5min\n",
            "[Parallel(n_jobs=-1)]: Done  45 tasks      | elapsed:  1.5min\n",
            "[Parallel(n_jobs=-1)]: Done  46 tasks      | elapsed:  1.6min\n",
            "[Parallel(n_jobs=-1)]: Done  47 tasks      | elapsed:  1.6min\n",
            "[Parallel(n_jobs=-1)]: Done  48 tasks      | elapsed:  1.6min\n",
            "[Parallel(n_jobs=-1)]: Done  49 tasks      | elapsed:  1.7min\n",
            "[Parallel(n_jobs=-1)]: Done  50 tasks      | elapsed:  1.7min\n",
            "[Parallel(n_jobs=-1)]: Done  51 tasks      | elapsed:  1.7min\n",
            "[Parallel(n_jobs=-1)]: Done  52 tasks      | elapsed:  1.8min\n",
            "[Parallel(n_jobs=-1)]: Done  53 tasks      | elapsed:  1.8min\n",
            "[Parallel(n_jobs=-1)]: Done  54 tasks      | elapsed:  1.8min\n",
            "[Parallel(n_jobs=-1)]: Done  55 tasks      | elapsed:  1.9min\n",
            "[Parallel(n_jobs=-1)]: Done  56 tasks      | elapsed:  1.9min\n",
            "[Parallel(n_jobs=-1)]: Done  57 tasks      | elapsed:  1.9min\n",
            "[Parallel(n_jobs=-1)]: Done  58 tasks      | elapsed:  2.0min\n",
            "[Parallel(n_jobs=-1)]: Done  59 tasks      | elapsed:  2.0min\n",
            "[Parallel(n_jobs=-1)]: Done  60 tasks      | elapsed:  2.0min\n",
            "[Parallel(n_jobs=-1)]: Done  61 tasks      | elapsed:  2.0min\n",
            "[Parallel(n_jobs=-1)]: Done  62 tasks      | elapsed:  2.1min\n",
            "[Parallel(n_jobs=-1)]: Done  63 tasks      | elapsed:  2.1min\n",
            "[Parallel(n_jobs=-1)]: Done  64 tasks      | elapsed:  2.2min\n",
            "[Parallel(n_jobs=-1)]: Done  65 tasks      | elapsed:  2.2min\n",
            "[Parallel(n_jobs=-1)]: Done  66 tasks      | elapsed:  2.2min\n",
            "[Parallel(n_jobs=-1)]: Done  67 tasks      | elapsed:  2.3min\n",
            "[Parallel(n_jobs=-1)]: Done  68 tasks      | elapsed:  2.3min\n",
            "[Parallel(n_jobs=-1)]: Done  69 tasks      | elapsed:  2.3min\n",
            "[Parallel(n_jobs=-1)]: Done  70 tasks      | elapsed:  2.4min\n",
            "[Parallel(n_jobs=-1)]: Done  71 tasks      | elapsed:  2.4min\n",
            "[Parallel(n_jobs=-1)]: Done  72 tasks      | elapsed:  2.4min\n",
            "[Parallel(n_jobs=-1)]: Done  73 tasks      | elapsed:  2.5min\n",
            "[Parallel(n_jobs=-1)]: Done  74 tasks      | elapsed:  2.5min\n",
            "[Parallel(n_jobs=-1)]: Done  75 tasks      | elapsed:  2.5min\n",
            "[Parallel(n_jobs=-1)]: Done  76 tasks      | elapsed:  2.6min\n",
            "[Parallel(n_jobs=-1)]: Done  77 tasks      | elapsed:  2.6min\n",
            "[Parallel(n_jobs=-1)]: Done  78 tasks      | elapsed:  2.6min\n",
            "[Parallel(n_jobs=-1)]: Done  79 tasks      | elapsed:  2.6min\n",
            "[Parallel(n_jobs=-1)]: Done  80 tasks      | elapsed:  2.7min\n",
            "[Parallel(n_jobs=-1)]: Done  81 tasks      | elapsed:  2.7min\n",
            "[Parallel(n_jobs=-1)]: Done  82 tasks      | elapsed:  2.8min\n",
            "[Parallel(n_jobs=-1)]: Done  83 tasks      | elapsed:  2.8min\n",
            "[Parallel(n_jobs=-1)]: Done  84 tasks      | elapsed:  2.8min\n",
            "[Parallel(n_jobs=-1)]: Done  85 tasks      | elapsed:  2.9min\n",
            "[Parallel(n_jobs=-1)]: Done  86 tasks      | elapsed:  2.9min\n",
            "[Parallel(n_jobs=-1)]: Done  87 tasks      | elapsed:  2.9min\n",
            "[Parallel(n_jobs=-1)]: Done  88 tasks      | elapsed:  3.0min\n",
            "[Parallel(n_jobs=-1)]: Done  89 tasks      | elapsed:  3.0min\n",
            "[Parallel(n_jobs=-1)]: Done  90 tasks      | elapsed:  3.1min\n",
            "[Parallel(n_jobs=-1)]: Done  91 tasks      | elapsed:  3.1min\n",
            "[Parallel(n_jobs=-1)]: Done  92 tasks      | elapsed:  3.1min\n",
            "[Parallel(n_jobs=-1)]: Done  93 tasks      | elapsed:  3.1min\n",
            "[Parallel(n_jobs=-1)]: Done  94 tasks      | elapsed:  3.2min\n",
            "[Parallel(n_jobs=-1)]: Done  95 tasks      | elapsed:  3.2min\n",
            "[Parallel(n_jobs=-1)]: Done  96 tasks      | elapsed:  3.3min\n",
            "[Parallel(n_jobs=-1)]: Done  97 tasks      | elapsed:  3.3min\n",
            "[Parallel(n_jobs=-1)]: Done  98 tasks      | elapsed:  3.3min\n",
            "[Parallel(n_jobs=-1)]: Done  99 tasks      | elapsed:  3.3min\n",
            "[Parallel(n_jobs=-1)]: Done 100 tasks      | elapsed:  3.4min\n",
            "[Parallel(n_jobs=-1)]: Done 101 tasks      | elapsed:  3.4min\n",
            "[Parallel(n_jobs=-1)]: Done 102 tasks      | elapsed:  3.5min\n",
            "[Parallel(n_jobs=-1)]: Done 103 tasks      | elapsed:  3.5min\n",
            "[Parallel(n_jobs=-1)]: Done 104 tasks      | elapsed:  3.5min\n",
            "[Parallel(n_jobs=-1)]: Done 105 tasks      | elapsed:  3.6min\n",
            "[Parallel(n_jobs=-1)]: Done 106 tasks      | elapsed:  3.6min\n",
            "[Parallel(n_jobs=-1)]: Done 107 tasks      | elapsed:  3.6min\n",
            "[Parallel(n_jobs=-1)]: Done 108 tasks      | elapsed:  3.7min\n",
            "[Parallel(n_jobs=-1)]: Done 109 tasks      | elapsed:  3.7min\n",
            "[Parallel(n_jobs=-1)]: Done 110 tasks      | elapsed:  3.7min\n",
            "[Parallel(n_jobs=-1)]: Done 111 tasks      | elapsed:  3.8min\n",
            "[Parallel(n_jobs=-1)]: Done 112 tasks      | elapsed:  3.8min\n",
            "[Parallel(n_jobs=-1)]: Done 113 tasks      | elapsed:  3.8min\n",
            "[Parallel(n_jobs=-1)]: Done 114 tasks      | elapsed:  3.9min\n",
            "[Parallel(n_jobs=-1)]: Done 115 tasks      | elapsed:  3.9min\n",
            "[Parallel(n_jobs=-1)]: Done 116 tasks      | elapsed:  3.9min\n",
            "[Parallel(n_jobs=-1)]: Done 117 tasks      | elapsed:  4.0min\n",
            "[Parallel(n_jobs=-1)]: Done 118 tasks      | elapsed:  4.0min\n",
            "[Parallel(n_jobs=-1)]: Done 119 tasks      | elapsed:  4.0min\n",
            "[Parallel(n_jobs=-1)]: Done 120 tasks      | elapsed:  4.1min\n",
            "[Parallel(n_jobs=-1)]: Done 121 tasks      | elapsed:  4.1min\n",
            "[Parallel(n_jobs=-1)]: Done 122 tasks      | elapsed:  4.1min\n",
            "[Parallel(n_jobs=-1)]: Done 123 tasks      | elapsed:  4.2min\n",
            "[Parallel(n_jobs=-1)]: Done 124 tasks      | elapsed:  4.2min\n",
            "[Parallel(n_jobs=-1)]: Done 125 tasks      | elapsed:  4.2min\n",
            "[Parallel(n_jobs=-1)]: Done 126 tasks      | elapsed:  4.3min\n",
            "[Parallel(n_jobs=-1)]: Done 127 tasks      | elapsed:  4.3min\n",
            "[Parallel(n_jobs=-1)]: Done 128 tasks      | elapsed:  4.3min\n",
            "[Parallel(n_jobs=-1)]: Done 129 tasks      | elapsed:  4.4min\n",
            "[Parallel(n_jobs=-1)]: Done 130 tasks      | elapsed:  4.4min\n",
            "[Parallel(n_jobs=-1)]: Done 131 tasks      | elapsed:  4.4min\n",
            "[Parallel(n_jobs=-1)]: Done 132 tasks      | elapsed:  4.5min\n",
            "[Parallel(n_jobs=-1)]: Done 133 tasks      | elapsed:  4.5min\n",
            "[Parallel(n_jobs=-1)]: Done 134 tasks      | elapsed:  4.5min\n",
            "[Parallel(n_jobs=-1)]: Done 135 tasks      | elapsed:  4.6min\n",
            "[Parallel(n_jobs=-1)]: Done 136 tasks      | elapsed:  4.6min\n",
            "[Parallel(n_jobs=-1)]: Done 137 tasks      | elapsed:  4.7min\n",
            "[Parallel(n_jobs=-1)]: Done 138 tasks      | elapsed:  4.7min\n",
            "[Parallel(n_jobs=-1)]: Done 139 tasks      | elapsed:  4.7min\n",
            "[Parallel(n_jobs=-1)]: Done 140 tasks      | elapsed:  4.8min\n",
            "[Parallel(n_jobs=-1)]: Done 141 tasks      | elapsed:  4.8min\n",
            "[Parallel(n_jobs=-1)]: Done 142 tasks      | elapsed:  4.8min\n",
            "[Parallel(n_jobs=-1)]: Done 143 tasks      | elapsed:  4.9min\n",
            "[Parallel(n_jobs=-1)]: Done 144 tasks      | elapsed:  4.9min\n",
            "[Parallel(n_jobs=-1)]: Done 145 tasks      | elapsed:  4.9min\n",
            "[Parallel(n_jobs=-1)]: Done 146 tasks      | elapsed:  5.0min\n",
            "[Parallel(n_jobs=-1)]: Done 147 tasks      | elapsed:  5.0min\n",
            "[Parallel(n_jobs=-1)]: Done 148 tasks      | elapsed:  5.0min\n",
            "[Parallel(n_jobs=-1)]: Done 149 tasks      | elapsed:  5.0min\n",
            "[Parallel(n_jobs=-1)]: Done 150 tasks      | elapsed:  5.1min\n",
            "[Parallel(n_jobs=-1)]: Done 151 tasks      | elapsed:  5.1min\n",
            "[Parallel(n_jobs=-1)]: Done 152 tasks      | elapsed:  5.2min\n",
            "[Parallel(n_jobs=-1)]: Done 153 tasks      | elapsed:  5.2min\n",
            "[Parallel(n_jobs=-1)]: Done 154 tasks      | elapsed:  5.2min\n",
            "[Parallel(n_jobs=-1)]: Done 155 tasks      | elapsed:  5.2min\n",
            "[Parallel(n_jobs=-1)]: Done 156 tasks      | elapsed:  5.3min\n",
            "[Parallel(n_jobs=-1)]: Done 157 tasks      | elapsed:  5.3min\n",
            "[Parallel(n_jobs=-1)]: Done 158 tasks      | elapsed:  5.4min\n",
            "[Parallel(n_jobs=-1)]: Done 159 tasks      | elapsed:  5.4min\n",
            "[Parallel(n_jobs=-1)]: Done 160 tasks      | elapsed:  5.4min\n",
            "[Parallel(n_jobs=-1)]: Done 161 tasks      | elapsed:  5.4min\n",
            "[Parallel(n_jobs=-1)]: Done 162 tasks      | elapsed:  5.5min\n",
            "[Parallel(n_jobs=-1)]: Done 163 tasks      | elapsed:  5.5min\n",
            "[Parallel(n_jobs=-1)]: Done 164 tasks      | elapsed:  5.6min\n",
            "[Parallel(n_jobs=-1)]: Done 165 tasks      | elapsed:  5.6min\n",
            "[Parallel(n_jobs=-1)]: Done 166 tasks      | elapsed:  5.6min\n",
            "[Parallel(n_jobs=-1)]: Done 167 tasks      | elapsed:  5.6min\n",
            "[Parallel(n_jobs=-1)]: Done 168 tasks      | elapsed:  5.7min\n",
            "[Parallel(n_jobs=-1)]: Done 169 tasks      | elapsed:  5.7min\n",
            "[Parallel(n_jobs=-1)]: Done 170 tasks      | elapsed:  5.8min\n",
            "[Parallel(n_jobs=-1)]: Done 171 tasks      | elapsed:  5.8min\n",
            "[Parallel(n_jobs=-1)]: Done 172 tasks      | elapsed:  5.8min\n",
            "[Parallel(n_jobs=-1)]: Done 173 tasks      | elapsed:  5.9min\n",
            "[Parallel(n_jobs=-1)]: Done 174 tasks      | elapsed:  5.9min\n",
            "[Parallel(n_jobs=-1)]: Done 175 tasks      | elapsed:  5.9min\n",
            "[Parallel(n_jobs=-1)]: Done 176 tasks      | elapsed:  6.0min\n",
            "[Parallel(n_jobs=-1)]: Done 177 tasks      | elapsed:  6.0min\n",
            "[Parallel(n_jobs=-1)]: Done 178 tasks      | elapsed:  6.0min\n",
            "[Parallel(n_jobs=-1)]: Done 179 tasks      | elapsed:  6.1min\n",
            "[Parallel(n_jobs=-1)]: Done 180 tasks      | elapsed:  6.1min\n",
            "[Parallel(n_jobs=-1)]: Done 181 tasks      | elapsed:  6.1min\n",
            "[Parallel(n_jobs=-1)]: Done 182 tasks      | elapsed:  6.2min\n",
            "[Parallel(n_jobs=-1)]: Done 183 tasks      | elapsed:  6.2min\n",
            "[Parallel(n_jobs=-1)]: Done 184 tasks      | elapsed:  6.2min\n",
            "[Parallel(n_jobs=-1)]: Done 185 tasks      | elapsed:  6.3min\n",
            "[Parallel(n_jobs=-1)]: Done 186 tasks      | elapsed:  6.3min\n",
            "[Parallel(n_jobs=-1)]: Done 187 tasks      | elapsed:  6.3min\n",
            "[Parallel(n_jobs=-1)]: Done 188 tasks      | elapsed:  6.4min\n",
            "[Parallel(n_jobs=-1)]: Done 189 tasks      | elapsed:  6.4min\n",
            "[Parallel(n_jobs=-1)]: Done 190 tasks      | elapsed:  6.4min\n",
            "[Parallel(n_jobs=-1)]: Done 191 tasks      | elapsed:  6.5min\n",
            "[Parallel(n_jobs=-1)]: Done 192 tasks      | elapsed:  6.5min\n",
            "[Parallel(n_jobs=-1)]: Done 193 tasks      | elapsed:  6.5min\n",
            "[Parallel(n_jobs=-1)]: Done 194 tasks      | elapsed:  6.6min\n",
            "[Parallel(n_jobs=-1)]: Done 195 tasks      | elapsed:  6.6min\n",
            "[Parallel(n_jobs=-1)]: Done 196 tasks      | elapsed:  6.6min\n",
            "[Parallel(n_jobs=-1)]: Done 197 tasks      | elapsed:  6.7min\n",
            "[Parallel(n_jobs=-1)]: Done 200 out of 200 | elapsed:  6.8min finished\n",
            "[Parallel(n_jobs=2)]: Using backend ThreadingBackend with 2 concurrent workers.\n",
            "[Parallel(n_jobs=2)]: Done   1 tasks      | elapsed:    0.0s\n",
            "[Parallel(n_jobs=2)]: Done   2 tasks      | elapsed:    0.0s\n",
            "[Parallel(n_jobs=2)]: Done   3 tasks      | elapsed:    0.0s\n",
            "[Parallel(n_jobs=2)]: Done   4 tasks      | elapsed:    0.0s\n",
            "[Parallel(n_jobs=2)]: Done   5 tasks      | elapsed:    0.0s\n",
            "[Parallel(n_jobs=2)]: Done   6 tasks      | elapsed:    0.0s\n",
            "[Parallel(n_jobs=2)]: Done   7 tasks      | elapsed:    0.0s\n",
            "[Parallel(n_jobs=2)]: Done   8 tasks      | elapsed:    0.0s\n",
            "[Parallel(n_jobs=2)]: Done   9 tasks      | elapsed:    0.0s\n",
            "[Parallel(n_jobs=2)]: Done  10 tasks      | elapsed:    0.0s\n",
            "[Parallel(n_jobs=2)]: Done  11 tasks      | elapsed:    0.0s\n",
            "[Parallel(n_jobs=2)]: Done  12 tasks      | elapsed:    0.0s\n",
            "[Parallel(n_jobs=2)]: Done  13 tasks      | elapsed:    0.0s\n",
            "[Parallel(n_jobs=2)]: Done  14 tasks      | elapsed:    0.0s\n",
            "[Parallel(n_jobs=2)]: Done  15 tasks      | elapsed:    0.0s\n",
            "[Parallel(n_jobs=2)]: Done  16 tasks      | elapsed:    0.0s\n",
            "[Parallel(n_jobs=2)]: Done  17 tasks      | elapsed:    0.1s\n",
            "[Parallel(n_jobs=2)]: Done  18 tasks      | elapsed:    0.1s\n",
            "[Parallel(n_jobs=2)]: Done  19 tasks      | elapsed:    0.1s\n",
            "[Parallel(n_jobs=2)]: Done  20 tasks      | elapsed:    0.1s\n",
            "[Parallel(n_jobs=2)]: Done  21 tasks      | elapsed:    0.1s\n",
            "[Parallel(n_jobs=2)]: Done  22 tasks      | elapsed:    0.1s\n",
            "[Parallel(n_jobs=2)]: Done  23 tasks      | elapsed:    0.1s\n",
            "[Parallel(n_jobs=2)]: Done  24 tasks      | elapsed:    0.1s\n",
            "[Parallel(n_jobs=2)]: Done  25 tasks      | elapsed:    0.1s\n",
            "[Parallel(n_jobs=2)]: Done  26 tasks      | elapsed:    0.1s\n",
            "[Parallel(n_jobs=2)]: Done  27 tasks      | elapsed:    0.1s\n",
            "[Parallel(n_jobs=2)]: Done  28 tasks      | elapsed:    0.1s\n",
            "[Parallel(n_jobs=2)]: Done  29 tasks      | elapsed:    0.1s\n",
            "[Parallel(n_jobs=2)]: Done  30 tasks      | elapsed:    0.1s\n",
            "[Parallel(n_jobs=2)]: Done  31 tasks      | elapsed:    0.1s\n",
            "[Parallel(n_jobs=2)]: Done  32 tasks      | elapsed:    0.1s\n",
            "[Parallel(n_jobs=2)]: Done  33 tasks      | elapsed:    0.1s\n",
            "[Parallel(n_jobs=2)]: Done  34 tasks      | elapsed:    0.1s\n",
            "[Parallel(n_jobs=2)]: Done  35 tasks      | elapsed:    0.1s\n"
          ],
          "name": "stderr"
        },
        {
          "output_type": "stream",
          "text": [
            "Using ThreadingBackend as joblib.Parallel backend instead of LokyBackend as the latter does not provide shared memory semantics.\n"
          ],
          "name": "stdout"
        },
        {
          "output_type": "stream",
          "text": [
            "[Parallel(n_jobs=2)]: Done  36 tasks      | elapsed:    0.1s\n",
            "[Parallel(n_jobs=2)]: Done  37 tasks      | elapsed:    0.1s\n",
            "[Parallel(n_jobs=2)]: Done  38 tasks      | elapsed:    0.1s\n",
            "[Parallel(n_jobs=2)]: Done  39 tasks      | elapsed:    0.1s\n",
            "[Parallel(n_jobs=2)]: Done  40 tasks      | elapsed:    0.1s\n",
            "[Parallel(n_jobs=2)]: Done  41 tasks      | elapsed:    0.1s\n",
            "[Parallel(n_jobs=2)]: Done  42 tasks      | elapsed:    0.1s\n",
            "[Parallel(n_jobs=2)]: Done  43 tasks      | elapsed:    0.1s\n",
            "[Parallel(n_jobs=2)]: Done  44 tasks      | elapsed:    0.1s\n",
            "[Parallel(n_jobs=2)]: Done  45 tasks      | elapsed:    0.1s\n",
            "[Parallel(n_jobs=2)]: Done  46 tasks      | elapsed:    0.1s\n",
            "[Parallel(n_jobs=2)]: Done  47 tasks      | elapsed:    0.1s\n",
            "[Parallel(n_jobs=2)]: Done  48 tasks      | elapsed:    0.1s\n",
            "[Parallel(n_jobs=2)]: Done  49 tasks      | elapsed:    0.1s\n",
            "[Parallel(n_jobs=2)]: Done  50 tasks      | elapsed:    0.1s\n",
            "[Parallel(n_jobs=2)]: Done  51 tasks      | elapsed:    0.1s\n",
            "[Parallel(n_jobs=2)]: Done  52 tasks      | elapsed:    0.1s\n",
            "[Parallel(n_jobs=2)]: Done  53 tasks      | elapsed:    0.1s\n",
            "[Parallel(n_jobs=2)]: Done  54 tasks      | elapsed:    0.1s\n",
            "[Parallel(n_jobs=2)]: Done  55 tasks      | elapsed:    0.1s\n",
            "[Parallel(n_jobs=2)]: Done  56 tasks      | elapsed:    0.1s\n",
            "[Parallel(n_jobs=2)]: Done  57 tasks      | elapsed:    0.2s\n",
            "[Parallel(n_jobs=2)]: Done  58 tasks      | elapsed:    0.2s\n",
            "[Parallel(n_jobs=2)]: Done  59 tasks      | elapsed:    0.2s\n",
            "[Parallel(n_jobs=2)]: Done  60 tasks      | elapsed:    0.2s\n",
            "[Parallel(n_jobs=2)]: Done  61 tasks      | elapsed:    0.2s\n",
            "[Parallel(n_jobs=2)]: Done  62 tasks      | elapsed:    0.2s\n",
            "[Parallel(n_jobs=2)]: Done  63 tasks      | elapsed:    0.2s\n",
            "[Parallel(n_jobs=2)]: Done  64 tasks      | elapsed:    0.2s\n",
            "[Parallel(n_jobs=2)]: Done  65 tasks      | elapsed:    0.2s\n",
            "[Parallel(n_jobs=2)]: Done  66 tasks      | elapsed:    0.2s\n",
            "[Parallel(n_jobs=2)]: Done  67 tasks      | elapsed:    0.2s\n",
            "[Parallel(n_jobs=2)]: Done  68 tasks      | elapsed:    0.2s\n",
            "[Parallel(n_jobs=2)]: Done  69 tasks      | elapsed:    0.2s\n",
            "[Parallel(n_jobs=2)]: Done  70 tasks      | elapsed:    0.2s\n",
            "[Parallel(n_jobs=2)]: Done  71 tasks      | elapsed:    0.2s\n",
            "[Parallel(n_jobs=2)]: Done  72 tasks      | elapsed:    0.2s\n",
            "[Parallel(n_jobs=2)]: Done  73 tasks      | elapsed:    0.2s\n",
            "[Parallel(n_jobs=2)]: Done  74 tasks      | elapsed:    0.2s\n",
            "[Parallel(n_jobs=2)]: Done  75 tasks      | elapsed:    0.2s\n",
            "[Parallel(n_jobs=2)]: Done  76 tasks      | elapsed:    0.2s\n",
            "[Parallel(n_jobs=2)]: Done  77 tasks      | elapsed:    0.2s\n",
            "[Parallel(n_jobs=2)]: Done  78 tasks      | elapsed:    0.2s\n",
            "[Parallel(n_jobs=2)]: Done  79 tasks      | elapsed:    0.2s\n",
            "[Parallel(n_jobs=2)]: Done  80 tasks      | elapsed:    0.2s\n",
            "[Parallel(n_jobs=2)]: Done  81 tasks      | elapsed:    0.2s\n",
            "[Parallel(n_jobs=2)]: Done  82 tasks      | elapsed:    0.2s\n",
            "[Parallel(n_jobs=2)]: Done  83 tasks      | elapsed:    0.2s\n",
            "[Parallel(n_jobs=2)]: Done  84 tasks      | elapsed:    0.2s\n",
            "[Parallel(n_jobs=2)]: Done  85 tasks      | elapsed:    0.2s\n",
            "[Parallel(n_jobs=2)]: Done  86 tasks      | elapsed:    0.2s\n",
            "[Parallel(n_jobs=2)]: Done  87 tasks      | elapsed:    0.2s\n",
            "[Parallel(n_jobs=2)]: Done  88 tasks      | elapsed:    0.2s\n",
            "[Parallel(n_jobs=2)]: Done  89 tasks      | elapsed:    0.2s\n",
            "[Parallel(n_jobs=2)]: Done  90 tasks      | elapsed:    0.2s\n",
            "[Parallel(n_jobs=2)]: Done  91 tasks      | elapsed:    0.2s\n",
            "[Parallel(n_jobs=2)]: Done  92 tasks      | elapsed:    0.2s\n",
            "[Parallel(n_jobs=2)]: Done  93 tasks      | elapsed:    0.2s\n",
            "[Parallel(n_jobs=2)]: Done  94 tasks      | elapsed:    0.2s\n",
            "[Parallel(n_jobs=2)]: Done  95 tasks      | elapsed:    0.2s\n",
            "[Parallel(n_jobs=2)]: Done  96 tasks      | elapsed:    0.3s\n",
            "[Parallel(n_jobs=2)]: Done  97 tasks      | elapsed:    0.3s\n",
            "[Parallel(n_jobs=2)]: Done  98 tasks      | elapsed:    0.3s\n",
            "[Parallel(n_jobs=2)]: Done  99 tasks      | elapsed:    0.3s\n",
            "[Parallel(n_jobs=2)]: Done 100 tasks      | elapsed:    0.3s\n",
            "[Parallel(n_jobs=2)]: Done 101 tasks      | elapsed:    0.3s\n",
            "[Parallel(n_jobs=2)]: Done 102 tasks      | elapsed:    0.3s\n",
            "[Parallel(n_jobs=2)]: Done 103 tasks      | elapsed:    0.3s\n",
            "[Parallel(n_jobs=2)]: Done 104 tasks      | elapsed:    0.3s\n",
            "[Parallel(n_jobs=2)]: Done 105 tasks      | elapsed:    0.3s\n",
            "[Parallel(n_jobs=2)]: Done 106 tasks      | elapsed:    0.3s\n",
            "[Parallel(n_jobs=2)]: Done 107 tasks      | elapsed:    0.3s\n",
            "[Parallel(n_jobs=2)]: Done 108 tasks      | elapsed:    0.3s\n",
            "[Parallel(n_jobs=2)]: Done 109 tasks      | elapsed:    0.3s\n",
            "[Parallel(n_jobs=2)]: Done 110 tasks      | elapsed:    0.3s\n",
            "[Parallel(n_jobs=2)]: Done 111 tasks      | elapsed:    0.3s\n",
            "[Parallel(n_jobs=2)]: Done 112 tasks      | elapsed:    0.3s\n",
            "[Parallel(n_jobs=2)]: Done 113 tasks      | elapsed:    0.3s\n",
            "[Parallel(n_jobs=2)]: Done 114 tasks      | elapsed:    0.3s\n",
            "[Parallel(n_jobs=2)]: Done 115 tasks      | elapsed:    0.3s\n",
            "[Parallel(n_jobs=2)]: Done 116 tasks      | elapsed:    0.3s\n",
            "[Parallel(n_jobs=2)]: Done 117 tasks      | elapsed:    0.3s\n",
            "[Parallel(n_jobs=2)]: Done 118 tasks      | elapsed:    0.3s\n",
            "[Parallel(n_jobs=2)]: Done 119 tasks      | elapsed:    0.3s\n",
            "[Parallel(n_jobs=2)]: Done 120 tasks      | elapsed:    0.3s\n",
            "[Parallel(n_jobs=2)]: Done 121 tasks      | elapsed:    0.3s\n",
            "[Parallel(n_jobs=2)]: Done 122 tasks      | elapsed:    0.3s\n",
            "[Parallel(n_jobs=2)]: Done 123 tasks      | elapsed:    0.3s\n",
            "[Parallel(n_jobs=2)]: Done 124 tasks      | elapsed:    0.3s\n",
            "[Parallel(n_jobs=2)]: Done 125 tasks      | elapsed:    0.3s\n",
            "[Parallel(n_jobs=2)]: Done 126 tasks      | elapsed:    0.3s\n",
            "[Parallel(n_jobs=2)]: Done 127 tasks      | elapsed:    0.3s\n",
            "[Parallel(n_jobs=2)]: Done 128 tasks      | elapsed:    0.3s\n",
            "[Parallel(n_jobs=2)]: Done 129 tasks      | elapsed:    0.3s\n",
            "[Parallel(n_jobs=2)]: Done 130 tasks      | elapsed:    0.3s\n",
            "[Parallel(n_jobs=2)]: Done 131 tasks      | elapsed:    0.3s\n",
            "[Parallel(n_jobs=2)]: Done 132 tasks      | elapsed:    0.4s\n",
            "[Parallel(n_jobs=2)]: Done 133 tasks      | elapsed:    0.4s\n",
            "[Parallel(n_jobs=2)]: Done 134 tasks      | elapsed:    0.4s\n",
            "[Parallel(n_jobs=2)]: Done 135 tasks      | elapsed:    0.4s\n",
            "[Parallel(n_jobs=2)]: Done 136 tasks      | elapsed:    0.4s\n",
            "[Parallel(n_jobs=2)]: Done 137 tasks      | elapsed:    0.4s\n",
            "[Parallel(n_jobs=2)]: Done 138 tasks      | elapsed:    0.4s\n",
            "[Parallel(n_jobs=2)]: Done 139 tasks      | elapsed:    0.4s\n",
            "[Parallel(n_jobs=2)]: Done 140 tasks      | elapsed:    0.4s\n",
            "[Parallel(n_jobs=2)]: Done 141 tasks      | elapsed:    0.4s\n",
            "[Parallel(n_jobs=2)]: Done 142 tasks      | elapsed:    0.4s\n",
            "[Parallel(n_jobs=2)]: Done 143 tasks      | elapsed:    0.4s\n",
            "[Parallel(n_jobs=2)]: Done 144 tasks      | elapsed:    0.4s\n",
            "[Parallel(n_jobs=2)]: Done 145 tasks      | elapsed:    0.4s\n",
            "[Parallel(n_jobs=2)]: Done 146 tasks      | elapsed:    0.4s\n",
            "[Parallel(n_jobs=2)]: Done 147 tasks      | elapsed:    0.4s\n",
            "[Parallel(n_jobs=2)]: Done 148 tasks      | elapsed:    0.4s\n",
            "[Parallel(n_jobs=2)]: Done 149 tasks      | elapsed:    0.4s\n",
            "[Parallel(n_jobs=2)]: Done 150 tasks      | elapsed:    0.4s\n",
            "[Parallel(n_jobs=2)]: Done 151 tasks      | elapsed:    0.4s\n",
            "[Parallel(n_jobs=2)]: Done 152 tasks      | elapsed:    0.4s\n",
            "[Parallel(n_jobs=2)]: Done 153 tasks      | elapsed:    0.4s\n",
            "[Parallel(n_jobs=2)]: Done 154 tasks      | elapsed:    0.4s\n",
            "[Parallel(n_jobs=2)]: Done 155 tasks      | elapsed:    0.4s\n",
            "[Parallel(n_jobs=2)]: Done 156 tasks      | elapsed:    0.4s\n",
            "[Parallel(n_jobs=2)]: Done 157 tasks      | elapsed:    0.4s\n",
            "[Parallel(n_jobs=2)]: Done 158 tasks      | elapsed:    0.4s\n",
            "[Parallel(n_jobs=2)]: Done 159 tasks      | elapsed:    0.4s\n",
            "[Parallel(n_jobs=2)]: Done 160 tasks      | elapsed:    0.4s\n",
            "[Parallel(n_jobs=2)]: Done 161 tasks      | elapsed:    0.4s\n",
            "[Parallel(n_jobs=2)]: Done 162 tasks      | elapsed:    0.4s\n",
            "[Parallel(n_jobs=2)]: Done 163 tasks      | elapsed:    0.4s\n",
            "[Parallel(n_jobs=2)]: Done 164 tasks      | elapsed:    0.4s\n",
            "[Parallel(n_jobs=2)]: Done 165 tasks      | elapsed:    0.4s\n",
            "[Parallel(n_jobs=2)]: Done 166 tasks      | elapsed:    0.4s\n",
            "[Parallel(n_jobs=2)]: Done 167 tasks      | elapsed:    0.4s\n",
            "[Parallel(n_jobs=2)]: Done 168 tasks      | elapsed:    0.4s\n",
            "[Parallel(n_jobs=2)]: Done 169 tasks      | elapsed:    0.4s\n",
            "[Parallel(n_jobs=2)]: Done 170 tasks      | elapsed:    0.4s\n",
            "[Parallel(n_jobs=2)]: Done 171 tasks      | elapsed:    0.4s\n",
            "[Parallel(n_jobs=2)]: Done 172 tasks      | elapsed:    0.5s\n",
            "[Parallel(n_jobs=2)]: Done 173 tasks      | elapsed:    0.5s\n",
            "[Parallel(n_jobs=2)]: Done 174 tasks      | elapsed:    0.5s\n",
            "[Parallel(n_jobs=2)]: Done 175 tasks      | elapsed:    0.5s\n",
            "[Parallel(n_jobs=2)]: Done 176 tasks      | elapsed:    0.5s\n",
            "[Parallel(n_jobs=2)]: Done 177 tasks      | elapsed:    0.5s\n",
            "[Parallel(n_jobs=2)]: Done 178 tasks      | elapsed:    0.5s\n",
            "[Parallel(n_jobs=2)]: Done 179 tasks      | elapsed:    0.5s\n",
            "[Parallel(n_jobs=2)]: Done 180 tasks      | elapsed:    0.5s\n",
            "[Parallel(n_jobs=2)]: Done 181 tasks      | elapsed:    0.5s\n",
            "[Parallel(n_jobs=2)]: Done 182 tasks      | elapsed:    0.5s\n",
            "[Parallel(n_jobs=2)]: Done 183 tasks      | elapsed:    0.5s\n",
            "[Parallel(n_jobs=2)]: Done 184 tasks      | elapsed:    0.5s\n",
            "[Parallel(n_jobs=2)]: Done 185 tasks      | elapsed:    0.5s\n",
            "[Parallel(n_jobs=2)]: Done 186 tasks      | elapsed:    0.5s\n",
            "[Parallel(n_jobs=2)]: Done 187 tasks      | elapsed:    0.5s\n",
            "[Parallel(n_jobs=2)]: Done 188 tasks      | elapsed:    0.5s\n",
            "[Parallel(n_jobs=2)]: Done 189 tasks      | elapsed:    0.5s\n",
            "[Parallel(n_jobs=2)]: Done 190 tasks      | elapsed:    0.5s\n",
            "[Parallel(n_jobs=2)]: Done 191 tasks      | elapsed:    0.5s\n",
            "[Parallel(n_jobs=2)]: Done 192 tasks      | elapsed:    0.5s\n",
            "[Parallel(n_jobs=2)]: Done 193 tasks      | elapsed:    0.5s\n",
            "[Parallel(n_jobs=2)]: Done 194 tasks      | elapsed:    0.5s\n",
            "[Parallel(n_jobs=2)]: Done 195 tasks      | elapsed:    0.5s\n",
            "[Parallel(n_jobs=2)]: Done 196 tasks      | elapsed:    0.5s\n",
            "[Parallel(n_jobs=2)]: Done 197 tasks      | elapsed:    0.5s\n",
            "[Parallel(n_jobs=2)]: Done 200 out of 200 | elapsed:    0.5s finished\n",
            "[Parallel(n_jobs=-1)]: Using backend LokyBackend with 2 concurrent workers.\n",
            "[Parallel(n_jobs=-1)]: Done   1 tasks      | elapsed:    3.8s\n",
            "[Parallel(n_jobs=-1)]: Done   2 tasks      | elapsed:    4.6s\n",
            "[Parallel(n_jobs=-1)]: Done   3 tasks      | elapsed:    8.0s\n",
            "[Parallel(n_jobs=-1)]: Done   4 tasks      | elapsed:    9.0s\n",
            "[Parallel(n_jobs=-1)]: Done   5 tasks      | elapsed:   12.0s\n",
            "[Parallel(n_jobs=-1)]: Done   6 tasks      | elapsed:   12.7s\n",
            "[Parallel(n_jobs=-1)]: Done   7 tasks      | elapsed:   16.3s\n",
            "[Parallel(n_jobs=-1)]: Done   8 tasks      | elapsed:   16.4s\n",
            "[Parallel(n_jobs=-1)]: Done   9 tasks      | elapsed:   20.8s\n",
            "[Parallel(n_jobs=-1)]: Done  10 tasks      | elapsed:   21.6s\n",
            "[Parallel(n_jobs=-1)]: Done  11 tasks      | elapsed:   25.3s\n",
            "[Parallel(n_jobs=-1)]: Done  12 tasks      | elapsed:   25.6s\n",
            "[Parallel(n_jobs=-1)]: Done  13 tasks      | elapsed:   30.0s\n",
            "[Parallel(n_jobs=-1)]: Done  14 tasks      | elapsed:   30.2s\n",
            "[Parallel(n_jobs=-1)]: Done  15 tasks      | elapsed:   33.9s\n",
            "[Parallel(n_jobs=-1)]: Done  16 tasks      | elapsed:   34.8s\n",
            "[Parallel(n_jobs=-1)]: Done  17 tasks      | elapsed:   38.0s\n",
            "[Parallel(n_jobs=-1)]: Done  18 tasks      | elapsed:   38.5s\n",
            "[Parallel(n_jobs=-1)]: Done  19 tasks      | elapsed:   42.1s\n",
            "[Parallel(n_jobs=-1)]: Done  20 tasks      | elapsed:   42.6s\n",
            "[Parallel(n_jobs=-1)]: Done  21 tasks      | elapsed:   46.3s\n",
            "[Parallel(n_jobs=-1)]: Done  22 tasks      | elapsed:   47.5s\n",
            "[Parallel(n_jobs=-1)]: Done  23 tasks      | elapsed:   50.7s\n",
            "[Parallel(n_jobs=-1)]: Done  24 tasks      | elapsed:   52.0s\n",
            "[Parallel(n_jobs=-1)]: Done  25 tasks      | elapsed:   55.2s\n",
            "[Parallel(n_jobs=-1)]: Done  26 tasks      | elapsed:   56.2s\n",
            "[Parallel(n_jobs=-1)]: Done  27 tasks      | elapsed:  1.0min\n",
            "[Parallel(n_jobs=-1)]: Done  28 tasks      | elapsed:  1.0min\n",
            "[Parallel(n_jobs=-1)]: Done  29 tasks      | elapsed:  1.1min\n",
            "[Parallel(n_jobs=-1)]: Done  30 tasks      | elapsed:  1.1min\n",
            "[Parallel(n_jobs=-1)]: Done  31 tasks      | elapsed:  1.1min\n",
            "[Parallel(n_jobs=-1)]: Done  32 tasks      | elapsed:  1.1min\n",
            "[Parallel(n_jobs=-1)]: Done  33 tasks      | elapsed:  1.2min\n",
            "[Parallel(n_jobs=-1)]: Done  34 tasks      | elapsed:  1.2min\n",
            "[Parallel(n_jobs=-1)]: Done  35 tasks      | elapsed:  1.3min\n",
            "[Parallel(n_jobs=-1)]: Done  36 tasks      | elapsed:  1.3min\n",
            "[Parallel(n_jobs=-1)]: Done  37 tasks      | elapsed:  1.3min\n",
            "[Parallel(n_jobs=-1)]: Done  38 tasks      | elapsed:  1.3min\n",
            "[Parallel(n_jobs=-1)]: Done  39 tasks      | elapsed:  1.4min\n",
            "[Parallel(n_jobs=-1)]: Done  40 tasks      | elapsed:  1.4min\n",
            "[Parallel(n_jobs=-1)]: Done  41 tasks      | elapsed:  1.5min\n",
            "[Parallel(n_jobs=-1)]: Done  42 tasks      | elapsed:  1.5min\n",
            "[Parallel(n_jobs=-1)]: Done  43 tasks      | elapsed:  1.5min\n",
            "[Parallel(n_jobs=-1)]: Done  44 tasks      | elapsed:  1.6min\n",
            "[Parallel(n_jobs=-1)]: Done  45 tasks      | elapsed:  1.6min\n",
            "[Parallel(n_jobs=-1)]: Done  46 tasks      | elapsed:  1.7min\n",
            "[Parallel(n_jobs=-1)]: Done  47 tasks      | elapsed:  1.7min\n",
            "[Parallel(n_jobs=-1)]: Done  48 tasks      | elapsed:  1.7min\n",
            "[Parallel(n_jobs=-1)]: Done  49 tasks      | elapsed:  1.8min\n",
            "[Parallel(n_jobs=-1)]: Done  50 tasks      | elapsed:  1.8min\n",
            "[Parallel(n_jobs=-1)]: Done  51 tasks      | elapsed:  1.8min\n",
            "[Parallel(n_jobs=-1)]: Done  52 tasks      | elapsed:  1.9min\n",
            "[Parallel(n_jobs=-1)]: Done  53 tasks      | elapsed:  1.9min\n",
            "[Parallel(n_jobs=-1)]: Done  54 tasks      | elapsed:  2.0min\n",
            "[Parallel(n_jobs=-1)]: Done  55 tasks      | elapsed:  2.0min\n",
            "[Parallel(n_jobs=-1)]: Done  56 tasks      | elapsed:  2.0min\n",
            "[Parallel(n_jobs=-1)]: Done  57 tasks      | elapsed:  2.1min\n",
            "[Parallel(n_jobs=-1)]: Done  58 tasks      | elapsed:  2.1min\n",
            "[Parallel(n_jobs=-1)]: Done  59 tasks      | elapsed:  2.1min\n",
            "[Parallel(n_jobs=-1)]: Done  60 tasks      | elapsed:  2.2min\n",
            "[Parallel(n_jobs=-1)]: Done  61 tasks      | elapsed:  2.2min\n",
            "[Parallel(n_jobs=-1)]: Done  62 tasks      | elapsed:  2.2min\n",
            "[Parallel(n_jobs=-1)]: Done  63 tasks      | elapsed:  2.3min\n",
            "[Parallel(n_jobs=-1)]: Done  64 tasks      | elapsed:  2.3min\n",
            "[Parallel(n_jobs=-1)]: Done  65 tasks      | elapsed:  2.4min\n",
            "[Parallel(n_jobs=-1)]: Done  66 tasks      | elapsed:  2.4min\n",
            "[Parallel(n_jobs=-1)]: Done  67 tasks      | elapsed:  2.4min\n",
            "[Parallel(n_jobs=-1)]: Done  68 tasks      | elapsed:  2.5min\n",
            "[Parallel(n_jobs=-1)]: Done  69 tasks      | elapsed:  2.5min\n",
            "[Parallel(n_jobs=-1)]: Done  70 tasks      | elapsed:  2.5min\n",
            "[Parallel(n_jobs=-1)]: Done  71 tasks      | elapsed:  2.6min\n",
            "[Parallel(n_jobs=-1)]: Done  72 tasks      | elapsed:  2.6min\n",
            "[Parallel(n_jobs=-1)]: Done  73 tasks      | elapsed:  2.7min\n",
            "[Parallel(n_jobs=-1)]: Done  74 tasks      | elapsed:  2.7min\n",
            "[Parallel(n_jobs=-1)]: Done  75 tasks      | elapsed:  2.7min\n",
            "[Parallel(n_jobs=-1)]: Done  76 tasks      | elapsed:  2.8min\n",
            "[Parallel(n_jobs=-1)]: Done  77 tasks      | elapsed:  2.8min\n",
            "[Parallel(n_jobs=-1)]: Done  78 tasks      | elapsed:  2.8min\n",
            "[Parallel(n_jobs=-1)]: Done  79 tasks      | elapsed:  2.9min\n",
            "[Parallel(n_jobs=-1)]: Done  80 tasks      | elapsed:  2.9min\n",
            "[Parallel(n_jobs=-1)]: Done  81 tasks      | elapsed:  2.9min\n",
            "[Parallel(n_jobs=-1)]: Done  82 tasks      | elapsed:  3.0min\n",
            "[Parallel(n_jobs=-1)]: Done  83 tasks      | elapsed:  3.0min\n",
            "[Parallel(n_jobs=-1)]: Done  84 tasks      | elapsed:  3.0min\n",
            "[Parallel(n_jobs=-1)]: Done  85 tasks      | elapsed:  3.1min\n",
            "[Parallel(n_jobs=-1)]: Done  86 tasks      | elapsed:  3.1min\n",
            "[Parallel(n_jobs=-1)]: Done  87 tasks      | elapsed:  3.2min\n",
            "[Parallel(n_jobs=-1)]: Done  88 tasks      | elapsed:  3.2min\n",
            "[Parallel(n_jobs=-1)]: Done  89 tasks      | elapsed:  3.2min\n",
            "[Parallel(n_jobs=-1)]: Done  90 tasks      | elapsed:  3.3min\n",
            "[Parallel(n_jobs=-1)]: Done  91 tasks      | elapsed:  3.3min\n",
            "[Parallel(n_jobs=-1)]: Done  92 tasks      | elapsed:  3.3min\n",
            "[Parallel(n_jobs=-1)]: Done  93 tasks      | elapsed:  3.4min\n",
            "[Parallel(n_jobs=-1)]: Done  94 tasks      | elapsed:  3.4min\n",
            "[Parallel(n_jobs=-1)]: Done  95 tasks      | elapsed:  3.5min\n",
            "[Parallel(n_jobs=-1)]: Done  96 tasks      | elapsed:  3.5min\n",
            "[Parallel(n_jobs=-1)]: Done  97 tasks      | elapsed:  3.5min\n",
            "[Parallel(n_jobs=-1)]: Done  98 tasks      | elapsed:  3.6min\n",
            "[Parallel(n_jobs=-1)]: Done  99 tasks      | elapsed:  3.6min\n",
            "[Parallel(n_jobs=-1)]: Done 100 tasks      | elapsed:  3.6min\n",
            "[Parallel(n_jobs=-1)]: Done 101 tasks      | elapsed:  3.7min\n",
            "[Parallel(n_jobs=-1)]: Done 102 tasks      | elapsed:  3.7min\n",
            "[Parallel(n_jobs=-1)]: Done 103 tasks      | elapsed:  3.7min\n",
            "[Parallel(n_jobs=-1)]: Done 104 tasks      | elapsed:  3.8min\n",
            "[Parallel(n_jobs=-1)]: Done 105 tasks      | elapsed:  3.8min\n",
            "[Parallel(n_jobs=-1)]: Done 106 tasks      | elapsed:  3.8min\n",
            "[Parallel(n_jobs=-1)]: Done 107 tasks      | elapsed:  3.9min\n",
            "[Parallel(n_jobs=-1)]: Done 108 tasks      | elapsed:  3.9min\n",
            "[Parallel(n_jobs=-1)]: Done 109 tasks      | elapsed:  3.9min\n",
            "[Parallel(n_jobs=-1)]: Done 110 tasks      | elapsed:  4.0min\n",
            "[Parallel(n_jobs=-1)]: Done 111 tasks      | elapsed:  4.0min\n",
            "[Parallel(n_jobs=-1)]: Done 112 tasks      | elapsed:  4.1min\n",
            "[Parallel(n_jobs=-1)]: Done 113 tasks      | elapsed:  4.1min\n",
            "[Parallel(n_jobs=-1)]: Done 114 tasks      | elapsed:  4.1min\n",
            "[Parallel(n_jobs=-1)]: Done 115 tasks      | elapsed:  4.2min\n",
            "[Parallel(n_jobs=-1)]: Done 116 tasks      | elapsed:  4.2min\n",
            "[Parallel(n_jobs=-1)]: Done 117 tasks      | elapsed:  4.2min\n",
            "[Parallel(n_jobs=-1)]: Done 118 tasks      | elapsed:  4.3min\n",
            "[Parallel(n_jobs=-1)]: Done 119 tasks      | elapsed:  4.3min\n",
            "[Parallel(n_jobs=-1)]: Done 120 tasks      | elapsed:  4.3min\n",
            "[Parallel(n_jobs=-1)]: Done 121 tasks      | elapsed:  4.4min\n",
            "[Parallel(n_jobs=-1)]: Done 122 tasks      | elapsed:  4.4min\n",
            "[Parallel(n_jobs=-1)]: Done 123 tasks      | elapsed:  4.4min\n",
            "[Parallel(n_jobs=-1)]: Done 124 tasks      | elapsed:  4.5min\n",
            "[Parallel(n_jobs=-1)]: Done 125 tasks      | elapsed:  4.5min\n",
            "[Parallel(n_jobs=-1)]: Done 126 tasks      | elapsed:  4.5min\n",
            "[Parallel(n_jobs=-1)]: Done 127 tasks      | elapsed:  4.6min\n",
            "[Parallel(n_jobs=-1)]: Done 128 tasks      | elapsed:  4.6min\n",
            "[Parallel(n_jobs=-1)]: Done 129 tasks      | elapsed:  4.6min\n",
            "[Parallel(n_jobs=-1)]: Done 130 tasks      | elapsed:  4.7min\n",
            "[Parallel(n_jobs=-1)]: Done 131 tasks      | elapsed:  4.7min\n",
            "[Parallel(n_jobs=-1)]: Done 132 tasks      | elapsed:  4.7min\n",
            "[Parallel(n_jobs=-1)]: Done 133 tasks      | elapsed:  4.8min\n",
            "[Parallel(n_jobs=-1)]: Done 134 tasks      | elapsed:  4.8min\n",
            "[Parallel(n_jobs=-1)]: Done 135 tasks      | elapsed:  4.9min\n",
            "[Parallel(n_jobs=-1)]: Done 136 tasks      | elapsed:  4.9min\n",
            "[Parallel(n_jobs=-1)]: Done 137 tasks      | elapsed:  4.9min\n",
            "[Parallel(n_jobs=-1)]: Done 138 tasks      | elapsed:  5.0min\n",
            "[Parallel(n_jobs=-1)]: Done 139 tasks      | elapsed:  5.0min\n",
            "[Parallel(n_jobs=-1)]: Done 140 tasks      | elapsed:  5.0min\n",
            "[Parallel(n_jobs=-1)]: Done 141 tasks      | elapsed:  5.1min\n",
            "[Parallel(n_jobs=-1)]: Done 142 tasks      | elapsed:  5.1min\n",
            "[Parallel(n_jobs=-1)]: Done 143 tasks      | elapsed:  5.1min\n",
            "[Parallel(n_jobs=-1)]: Done 144 tasks      | elapsed:  5.2min\n",
            "[Parallel(n_jobs=-1)]: Done 145 tasks      | elapsed:  5.2min\n",
            "[Parallel(n_jobs=-1)]: Done 146 tasks      | elapsed:  5.3min\n",
            "[Parallel(n_jobs=-1)]: Done 147 tasks      | elapsed:  5.3min\n",
            "[Parallel(n_jobs=-1)]: Done 148 tasks      | elapsed:  5.3min\n",
            "[Parallel(n_jobs=-1)]: Done 149 tasks      | elapsed:  5.3min\n",
            "[Parallel(n_jobs=-1)]: Done 150 tasks      | elapsed:  5.4min\n",
            "[Parallel(n_jobs=-1)]: Done 151 tasks      | elapsed:  5.4min\n",
            "[Parallel(n_jobs=-1)]: Done 152 tasks      | elapsed:  5.5min\n",
            "[Parallel(n_jobs=-1)]: Done 153 tasks      | elapsed:  5.5min\n",
            "[Parallel(n_jobs=-1)]: Done 154 tasks      | elapsed:  5.5min\n",
            "[Parallel(n_jobs=-1)]: Done 155 tasks      | elapsed:  5.5min\n",
            "[Parallel(n_jobs=-1)]: Done 156 tasks      | elapsed:  5.6min\n",
            "[Parallel(n_jobs=-1)]: Done 157 tasks      | elapsed:  5.6min\n",
            "[Parallel(n_jobs=-1)]: Done 158 tasks      | elapsed:  5.7min\n",
            "[Parallel(n_jobs=-1)]: Done 159 tasks      | elapsed:  5.7min\n",
            "[Parallel(n_jobs=-1)]: Done 160 tasks      | elapsed:  5.8min\n",
            "[Parallel(n_jobs=-1)]: Done 161 tasks      | elapsed:  5.8min\n",
            "[Parallel(n_jobs=-1)]: Done 162 tasks      | elapsed:  5.8min\n",
            "[Parallel(n_jobs=-1)]: Done 163 tasks      | elapsed:  5.8min\n",
            "[Parallel(n_jobs=-1)]: Done 164 tasks      | elapsed:  5.9min\n",
            "[Parallel(n_jobs=-1)]: Done 165 tasks      | elapsed:  5.9min\n",
            "[Parallel(n_jobs=-1)]: Done 166 tasks      | elapsed:  6.0min\n",
            "[Parallel(n_jobs=-1)]: Done 167 tasks      | elapsed:  6.0min\n",
            "[Parallel(n_jobs=-1)]: Done 168 tasks      | elapsed:  6.0min\n",
            "[Parallel(n_jobs=-1)]: Done 169 tasks      | elapsed:  6.1min\n",
            "[Parallel(n_jobs=-1)]: Done 170 tasks      | elapsed:  6.1min\n",
            "[Parallel(n_jobs=-1)]: Done 171 tasks      | elapsed:  6.1min\n",
            "[Parallel(n_jobs=-1)]: Done 172 tasks      | elapsed:  6.2min\n",
            "[Parallel(n_jobs=-1)]: Done 173 tasks      | elapsed:  6.2min\n",
            "[Parallel(n_jobs=-1)]: Done 174 tasks      | elapsed:  6.3min\n",
            "[Parallel(n_jobs=-1)]: Done 175 tasks      | elapsed:  6.3min\n",
            "[Parallel(n_jobs=-1)]: Done 176 tasks      | elapsed:  6.4min\n",
            "[Parallel(n_jobs=-1)]: Done 177 tasks      | elapsed:  6.4min\n",
            "[Parallel(n_jobs=-1)]: Done 178 tasks      | elapsed:  6.4min\n",
            "[Parallel(n_jobs=-1)]: Done 179 tasks      | elapsed:  6.4min\n",
            "[Parallel(n_jobs=-1)]: Done 180 tasks      | elapsed:  6.5min\n",
            "[Parallel(n_jobs=-1)]: Done 181 tasks      | elapsed:  6.5min\n",
            "[Parallel(n_jobs=-1)]: Done 182 tasks      | elapsed:  6.6min\n",
            "[Parallel(n_jobs=-1)]: Done 183 tasks      | elapsed:  6.6min\n",
            "[Parallel(n_jobs=-1)]: Done 184 tasks      | elapsed:  6.6min\n",
            "[Parallel(n_jobs=-1)]: Done 185 tasks      | elapsed:  6.7min\n",
            "[Parallel(n_jobs=-1)]: Done 186 tasks      | elapsed:  6.7min\n",
            "[Parallel(n_jobs=-1)]: Done 187 tasks      | elapsed:  6.7min\n",
            "[Parallel(n_jobs=-1)]: Done 188 tasks      | elapsed:  6.8min\n",
            "[Parallel(n_jobs=-1)]: Done 189 tasks      | elapsed:  6.8min\n",
            "[Parallel(n_jobs=-1)]: Done 190 tasks      | elapsed:  6.8min\n",
            "[Parallel(n_jobs=-1)]: Done 191 tasks      | elapsed:  6.9min\n",
            "[Parallel(n_jobs=-1)]: Done 192 tasks      | elapsed:  6.9min\n",
            "[Parallel(n_jobs=-1)]: Done 193 tasks      | elapsed:  6.9min\n",
            "[Parallel(n_jobs=-1)]: Done 194 tasks      | elapsed:  7.0min\n",
            "[Parallel(n_jobs=-1)]: Done 195 tasks      | elapsed:  7.0min\n",
            "[Parallel(n_jobs=-1)]: Done 196 tasks      | elapsed:  7.0min\n",
            "[Parallel(n_jobs=-1)]: Done 197 tasks      | elapsed:  7.1min\n",
            "[Parallel(n_jobs=-1)]: Done 200 out of 200 | elapsed:  7.2min finished\n",
            "[Parallel(n_jobs=2)]: Using backend ThreadingBackend with 2 concurrent workers.\n",
            "[Parallel(n_jobs=2)]: Done   1 tasks      | elapsed:    0.0s\n",
            "[Parallel(n_jobs=2)]: Done   2 tasks      | elapsed:    0.0s\n",
            "[Parallel(n_jobs=2)]: Done   3 tasks      | elapsed:    0.0s\n",
            "[Parallel(n_jobs=2)]: Done   4 tasks      | elapsed:    0.0s\n",
            "[Parallel(n_jobs=2)]: Done   5 tasks      | elapsed:    0.0s\n",
            "[Parallel(n_jobs=2)]: Done   6 tasks      | elapsed:    0.0s\n",
            "[Parallel(n_jobs=2)]: Done   7 tasks      | elapsed:    0.0s\n",
            "[Parallel(n_jobs=2)]: Done   8 tasks      | elapsed:    0.0s\n",
            "[Parallel(n_jobs=2)]: Done   9 tasks      | elapsed:    0.0s\n",
            "[Parallel(n_jobs=2)]: Done  10 tasks      | elapsed:    0.0s\n",
            "[Parallel(n_jobs=2)]: Done  11 tasks      | elapsed:    0.0s\n",
            "[Parallel(n_jobs=2)]: Done  12 tasks      | elapsed:    0.0s\n",
            "[Parallel(n_jobs=2)]: Done  13 tasks      | elapsed:    0.0s\n",
            "[Parallel(n_jobs=2)]: Done  14 tasks      | elapsed:    0.0s\n",
            "[Parallel(n_jobs=2)]: Done  15 tasks      | elapsed:    0.0s\n",
            "[Parallel(n_jobs=2)]: Done  16 tasks      | elapsed:    0.0s\n",
            "[Parallel(n_jobs=2)]: Done  17 tasks      | elapsed:    0.0s\n",
            "[Parallel(n_jobs=2)]: Done  18 tasks      | elapsed:    0.1s\n",
            "[Parallel(n_jobs=2)]: Done  19 tasks      | elapsed:    0.1s\n",
            "[Parallel(n_jobs=2)]: Done  20 tasks      | elapsed:    0.1s\n",
            "[Parallel(n_jobs=2)]: Done  21 tasks      | elapsed:    0.1s\n",
            "[Parallel(n_jobs=2)]: Done  22 tasks      | elapsed:    0.1s\n",
            "[Parallel(n_jobs=2)]: Done  23 tasks      | elapsed:    0.1s\n",
            "[Parallel(n_jobs=2)]: Done  24 tasks      | elapsed:    0.1s\n",
            "[Parallel(n_jobs=2)]: Done  25 tasks      | elapsed:    0.1s\n",
            "[Parallel(n_jobs=2)]: Done  26 tasks      | elapsed:    0.1s\n",
            "[Parallel(n_jobs=2)]: Done  27 tasks      | elapsed:    0.1s\n",
            "[Parallel(n_jobs=2)]: Done  28 tasks      | elapsed:    0.1s\n",
            "[Parallel(n_jobs=2)]: Done  29 tasks      | elapsed:    0.1s\n",
            "[Parallel(n_jobs=2)]: Done  30 tasks      | elapsed:    0.1s\n",
            "[Parallel(n_jobs=2)]: Done  31 tasks      | elapsed:    0.1s\n",
            "[Parallel(n_jobs=2)]: Done  32 tasks      | elapsed:    0.1s\n",
            "[Parallel(n_jobs=2)]: Done  33 tasks      | elapsed:    0.1s\n",
            "[Parallel(n_jobs=2)]: Done  34 tasks      | elapsed:    0.1s\n"
          ],
          "name": "stderr"
        },
        {
          "output_type": "stream",
          "text": [
            "Using ThreadingBackend as joblib.Parallel backend instead of LokyBackend as the latter does not provide shared memory semantics.\n"
          ],
          "name": "stdout"
        },
        {
          "output_type": "stream",
          "text": [
            "[Parallel(n_jobs=2)]: Done  35 tasks      | elapsed:    0.1s\n",
            "[Parallel(n_jobs=2)]: Done  36 tasks      | elapsed:    0.1s\n",
            "[Parallel(n_jobs=2)]: Done  37 tasks      | elapsed:    0.1s\n",
            "[Parallel(n_jobs=2)]: Done  38 tasks      | elapsed:    0.1s\n",
            "[Parallel(n_jobs=2)]: Done  39 tasks      | elapsed:    0.1s\n",
            "[Parallel(n_jobs=2)]: Done  40 tasks      | elapsed:    0.1s\n",
            "[Parallel(n_jobs=2)]: Done  41 tasks      | elapsed:    0.1s\n",
            "[Parallel(n_jobs=2)]: Done  42 tasks      | elapsed:    0.1s\n",
            "[Parallel(n_jobs=2)]: Done  43 tasks      | elapsed:    0.1s\n",
            "[Parallel(n_jobs=2)]: Done  44 tasks      | elapsed:    0.1s\n",
            "[Parallel(n_jobs=2)]: Done  45 tasks      | elapsed:    0.1s\n",
            "[Parallel(n_jobs=2)]: Done  46 tasks      | elapsed:    0.1s\n",
            "[Parallel(n_jobs=2)]: Done  47 tasks      | elapsed:    0.1s\n",
            "[Parallel(n_jobs=2)]: Done  48 tasks      | elapsed:    0.1s\n",
            "[Parallel(n_jobs=2)]: Done  49 tasks      | elapsed:    0.1s\n",
            "[Parallel(n_jobs=2)]: Done  50 tasks      | elapsed:    0.1s\n",
            "[Parallel(n_jobs=2)]: Done  51 tasks      | elapsed:    0.1s\n",
            "[Parallel(n_jobs=2)]: Done  52 tasks      | elapsed:    0.1s\n",
            "[Parallel(n_jobs=2)]: Done  53 tasks      | elapsed:    0.1s\n",
            "[Parallel(n_jobs=2)]: Done  54 tasks      | elapsed:    0.1s\n",
            "[Parallel(n_jobs=2)]: Done  55 tasks      | elapsed:    0.1s\n",
            "[Parallel(n_jobs=2)]: Done  56 tasks      | elapsed:    0.2s\n",
            "[Parallel(n_jobs=2)]: Done  57 tasks      | elapsed:    0.2s\n",
            "[Parallel(n_jobs=2)]: Done  58 tasks      | elapsed:    0.2s\n",
            "[Parallel(n_jobs=2)]: Done  59 tasks      | elapsed:    0.2s\n",
            "[Parallel(n_jobs=2)]: Done  60 tasks      | elapsed:    0.2s\n",
            "[Parallel(n_jobs=2)]: Done  61 tasks      | elapsed:    0.2s\n",
            "[Parallel(n_jobs=2)]: Done  62 tasks      | elapsed:    0.2s\n",
            "[Parallel(n_jobs=2)]: Done  63 tasks      | elapsed:    0.2s\n",
            "[Parallel(n_jobs=2)]: Done  64 tasks      | elapsed:    0.2s\n",
            "[Parallel(n_jobs=2)]: Done  65 tasks      | elapsed:    0.2s\n",
            "[Parallel(n_jobs=2)]: Done  66 tasks      | elapsed:    0.2s\n",
            "[Parallel(n_jobs=2)]: Done  67 tasks      | elapsed:    0.2s\n",
            "[Parallel(n_jobs=2)]: Done  68 tasks      | elapsed:    0.2s\n",
            "[Parallel(n_jobs=2)]: Done  69 tasks      | elapsed:    0.2s\n",
            "[Parallel(n_jobs=2)]: Done  70 tasks      | elapsed:    0.2s\n",
            "[Parallel(n_jobs=2)]: Done  71 tasks      | elapsed:    0.2s\n",
            "[Parallel(n_jobs=2)]: Done  72 tasks      | elapsed:    0.2s\n",
            "[Parallel(n_jobs=2)]: Done  73 tasks      | elapsed:    0.2s\n",
            "[Parallel(n_jobs=2)]: Done  74 tasks      | elapsed:    0.2s\n",
            "[Parallel(n_jobs=2)]: Done  75 tasks      | elapsed:    0.2s\n",
            "[Parallel(n_jobs=2)]: Done  76 tasks      | elapsed:    0.2s\n",
            "[Parallel(n_jobs=2)]: Done  77 tasks      | elapsed:    0.2s\n",
            "[Parallel(n_jobs=2)]: Done  78 tasks      | elapsed:    0.2s\n",
            "[Parallel(n_jobs=2)]: Done  79 tasks      | elapsed:    0.2s\n",
            "[Parallel(n_jobs=2)]: Done  80 tasks      | elapsed:    0.2s\n",
            "[Parallel(n_jobs=2)]: Done  81 tasks      | elapsed:    0.2s\n",
            "[Parallel(n_jobs=2)]: Done  82 tasks      | elapsed:    0.2s\n",
            "[Parallel(n_jobs=2)]: Done  83 tasks      | elapsed:    0.2s\n",
            "[Parallel(n_jobs=2)]: Done  84 tasks      | elapsed:    0.2s\n",
            "[Parallel(n_jobs=2)]: Done  85 tasks      | elapsed:    0.2s\n",
            "[Parallel(n_jobs=2)]: Done  86 tasks      | elapsed:    0.2s\n",
            "[Parallel(n_jobs=2)]: Done  87 tasks      | elapsed:    0.2s\n",
            "[Parallel(n_jobs=2)]: Done  88 tasks      | elapsed:    0.2s\n",
            "[Parallel(n_jobs=2)]: Done  89 tasks      | elapsed:    0.2s\n",
            "[Parallel(n_jobs=2)]: Done  90 tasks      | elapsed:    0.2s\n",
            "[Parallel(n_jobs=2)]: Done  91 tasks      | elapsed:    0.3s\n",
            "[Parallel(n_jobs=2)]: Done  92 tasks      | elapsed:    0.3s\n",
            "[Parallel(n_jobs=2)]: Done  93 tasks      | elapsed:    0.3s\n",
            "[Parallel(n_jobs=2)]: Done  94 tasks      | elapsed:    0.3s\n",
            "[Parallel(n_jobs=2)]: Done  95 tasks      | elapsed:    0.3s\n",
            "[Parallel(n_jobs=2)]: Done  96 tasks      | elapsed:    0.3s\n",
            "[Parallel(n_jobs=2)]: Done  97 tasks      | elapsed:    0.3s\n",
            "[Parallel(n_jobs=2)]: Done  98 tasks      | elapsed:    0.3s\n",
            "[Parallel(n_jobs=2)]: Done  99 tasks      | elapsed:    0.3s\n",
            "[Parallel(n_jobs=2)]: Done 100 tasks      | elapsed:    0.3s\n",
            "[Parallel(n_jobs=2)]: Done 101 tasks      | elapsed:    0.3s\n",
            "[Parallel(n_jobs=2)]: Done 102 tasks      | elapsed:    0.3s\n",
            "[Parallel(n_jobs=2)]: Done 103 tasks      | elapsed:    0.3s\n",
            "[Parallel(n_jobs=2)]: Done 104 tasks      | elapsed:    0.3s\n",
            "[Parallel(n_jobs=2)]: Done 105 tasks      | elapsed:    0.3s\n",
            "[Parallel(n_jobs=2)]: Done 106 tasks      | elapsed:    0.3s\n",
            "[Parallel(n_jobs=2)]: Done 107 tasks      | elapsed:    0.3s\n",
            "[Parallel(n_jobs=2)]: Done 108 tasks      | elapsed:    0.3s\n",
            "[Parallel(n_jobs=2)]: Done 109 tasks      | elapsed:    0.3s\n",
            "[Parallel(n_jobs=2)]: Done 110 tasks      | elapsed:    0.3s\n",
            "[Parallel(n_jobs=2)]: Done 111 tasks      | elapsed:    0.3s\n",
            "[Parallel(n_jobs=2)]: Done 112 tasks      | elapsed:    0.3s\n",
            "[Parallel(n_jobs=2)]: Done 113 tasks      | elapsed:    0.3s\n",
            "[Parallel(n_jobs=2)]: Done 114 tasks      | elapsed:    0.3s\n",
            "[Parallel(n_jobs=2)]: Done 115 tasks      | elapsed:    0.3s\n",
            "[Parallel(n_jobs=2)]: Done 116 tasks      | elapsed:    0.3s\n",
            "[Parallel(n_jobs=2)]: Done 117 tasks      | elapsed:    0.3s\n",
            "[Parallel(n_jobs=2)]: Done 118 tasks      | elapsed:    0.3s\n",
            "[Parallel(n_jobs=2)]: Done 119 tasks      | elapsed:    0.3s\n",
            "[Parallel(n_jobs=2)]: Done 120 tasks      | elapsed:    0.3s\n",
            "[Parallel(n_jobs=2)]: Done 121 tasks      | elapsed:    0.3s\n",
            "[Parallel(n_jobs=2)]: Done 122 tasks      | elapsed:    0.3s\n",
            "[Parallel(n_jobs=2)]: Done 123 tasks      | elapsed:    0.3s\n",
            "[Parallel(n_jobs=2)]: Done 124 tasks      | elapsed:    0.3s\n",
            "[Parallel(n_jobs=2)]: Done 125 tasks      | elapsed:    0.3s\n",
            "[Parallel(n_jobs=2)]: Done 126 tasks      | elapsed:    0.3s\n",
            "[Parallel(n_jobs=2)]: Done 127 tasks      | elapsed:    0.3s\n",
            "[Parallel(n_jobs=2)]: Done 128 tasks      | elapsed:    0.4s\n",
            "[Parallel(n_jobs=2)]: Done 129 tasks      | elapsed:    0.4s\n",
            "[Parallel(n_jobs=2)]: Done 130 tasks      | elapsed:    0.4s\n",
            "[Parallel(n_jobs=2)]: Done 131 tasks      | elapsed:    0.4s\n",
            "[Parallel(n_jobs=2)]: Done 132 tasks      | elapsed:    0.4s\n",
            "[Parallel(n_jobs=2)]: Done 133 tasks      | elapsed:    0.4s\n",
            "[Parallel(n_jobs=2)]: Done 134 tasks      | elapsed:    0.4s\n",
            "[Parallel(n_jobs=2)]: Done 135 tasks      | elapsed:    0.4s\n",
            "[Parallel(n_jobs=2)]: Done 136 tasks      | elapsed:    0.4s\n",
            "[Parallel(n_jobs=2)]: Done 137 tasks      | elapsed:    0.4s\n",
            "[Parallel(n_jobs=2)]: Done 138 tasks      | elapsed:    0.4s\n",
            "[Parallel(n_jobs=2)]: Done 139 tasks      | elapsed:    0.4s\n",
            "[Parallel(n_jobs=2)]: Done 140 tasks      | elapsed:    0.4s\n",
            "[Parallel(n_jobs=2)]: Done 141 tasks      | elapsed:    0.4s\n",
            "[Parallel(n_jobs=2)]: Done 142 tasks      | elapsed:    0.4s\n",
            "[Parallel(n_jobs=2)]: Done 143 tasks      | elapsed:    0.4s\n",
            "[Parallel(n_jobs=2)]: Done 144 tasks      | elapsed:    0.4s\n",
            "[Parallel(n_jobs=2)]: Done 145 tasks      | elapsed:    0.4s\n",
            "[Parallel(n_jobs=2)]: Done 146 tasks      | elapsed:    0.4s\n",
            "[Parallel(n_jobs=2)]: Done 147 tasks      | elapsed:    0.4s\n",
            "[Parallel(n_jobs=2)]: Done 148 tasks      | elapsed:    0.4s\n",
            "[Parallel(n_jobs=2)]: Done 149 tasks      | elapsed:    0.4s\n",
            "[Parallel(n_jobs=2)]: Done 150 tasks      | elapsed:    0.4s\n",
            "[Parallel(n_jobs=2)]: Done 151 tasks      | elapsed:    0.4s\n",
            "[Parallel(n_jobs=2)]: Done 152 tasks      | elapsed:    0.4s\n",
            "[Parallel(n_jobs=2)]: Done 153 tasks      | elapsed:    0.4s\n",
            "[Parallel(n_jobs=2)]: Done 154 tasks      | elapsed:    0.4s\n",
            "[Parallel(n_jobs=2)]: Done 155 tasks      | elapsed:    0.4s\n",
            "[Parallel(n_jobs=2)]: Done 156 tasks      | elapsed:    0.4s\n",
            "[Parallel(n_jobs=2)]: Done 157 tasks      | elapsed:    0.4s\n",
            "[Parallel(n_jobs=2)]: Done 158 tasks      | elapsed:    0.4s\n",
            "[Parallel(n_jobs=2)]: Done 159 tasks      | elapsed:    0.4s\n",
            "[Parallel(n_jobs=2)]: Done 160 tasks      | elapsed:    0.4s\n",
            "[Parallel(n_jobs=2)]: Done 161 tasks      | elapsed:    0.4s\n",
            "[Parallel(n_jobs=2)]: Done 162 tasks      | elapsed:    0.4s\n",
            "[Parallel(n_jobs=2)]: Done 163 tasks      | elapsed:    0.4s\n",
            "[Parallel(n_jobs=2)]: Done 164 tasks      | elapsed:    0.4s\n",
            "[Parallel(n_jobs=2)]: Done 165 tasks      | elapsed:    0.4s\n",
            "[Parallel(n_jobs=2)]: Done 166 tasks      | elapsed:    0.4s\n",
            "[Parallel(n_jobs=2)]: Done 167 tasks      | elapsed:    0.5s\n",
            "[Parallel(n_jobs=2)]: Done 168 tasks      | elapsed:    0.5s\n",
            "[Parallel(n_jobs=2)]: Done 169 tasks      | elapsed:    0.5s\n",
            "[Parallel(n_jobs=2)]: Done 170 tasks      | elapsed:    0.5s\n",
            "[Parallel(n_jobs=2)]: Done 171 tasks      | elapsed:    0.5s\n",
            "[Parallel(n_jobs=2)]: Done 172 tasks      | elapsed:    0.5s\n",
            "[Parallel(n_jobs=2)]: Done 173 tasks      | elapsed:    0.5s\n",
            "[Parallel(n_jobs=2)]: Done 174 tasks      | elapsed:    0.5s\n",
            "[Parallel(n_jobs=2)]: Done 175 tasks      | elapsed:    0.5s\n",
            "[Parallel(n_jobs=2)]: Done 176 tasks      | elapsed:    0.5s\n",
            "[Parallel(n_jobs=2)]: Done 177 tasks      | elapsed:    0.5s\n",
            "[Parallel(n_jobs=2)]: Done 178 tasks      | elapsed:    0.5s\n",
            "[Parallel(n_jobs=2)]: Done 179 tasks      | elapsed:    0.5s\n",
            "[Parallel(n_jobs=2)]: Done 180 tasks      | elapsed:    0.5s\n",
            "[Parallel(n_jobs=2)]: Done 181 tasks      | elapsed:    0.5s\n",
            "[Parallel(n_jobs=2)]: Done 182 tasks      | elapsed:    0.5s\n",
            "[Parallel(n_jobs=2)]: Done 183 tasks      | elapsed:    0.5s\n",
            "[Parallel(n_jobs=2)]: Done 184 tasks      | elapsed:    0.5s\n",
            "[Parallel(n_jobs=2)]: Done 185 tasks      | elapsed:    0.5s\n",
            "[Parallel(n_jobs=2)]: Done 186 tasks      | elapsed:    0.5s\n",
            "[Parallel(n_jobs=2)]: Done 187 tasks      | elapsed:    0.5s\n",
            "[Parallel(n_jobs=2)]: Done 188 tasks      | elapsed:    0.5s\n",
            "[Parallel(n_jobs=2)]: Done 189 tasks      | elapsed:    0.5s\n",
            "[Parallel(n_jobs=2)]: Done 190 tasks      | elapsed:    0.5s\n",
            "[Parallel(n_jobs=2)]: Done 191 tasks      | elapsed:    0.5s\n",
            "[Parallel(n_jobs=2)]: Done 192 tasks      | elapsed:    0.5s\n",
            "[Parallel(n_jobs=2)]: Done 193 tasks      | elapsed:    0.5s\n",
            "[Parallel(n_jobs=2)]: Done 194 tasks      | elapsed:    0.5s\n",
            "[Parallel(n_jobs=2)]: Done 195 tasks      | elapsed:    0.5s\n",
            "[Parallel(n_jobs=2)]: Done 196 tasks      | elapsed:    0.5s\n",
            "[Parallel(n_jobs=2)]: Done 197 tasks      | elapsed:    0.5s\n",
            "[Parallel(n_jobs=2)]: Done 200 out of 200 | elapsed:    0.5s finished\n",
            "[Parallel(n_jobs=-1)]: Using backend LokyBackend with 2 concurrent workers.\n",
            "[Parallel(n_jobs=-1)]: Done   1 tasks      | elapsed:    4.1s\n",
            "[Parallel(n_jobs=-1)]: Done   2 tasks      | elapsed:    4.2s\n",
            "[Parallel(n_jobs=-1)]: Done   3 tasks      | elapsed:    8.0s\n",
            "[Parallel(n_jobs=-1)]: Done   4 tasks      | elapsed:    8.5s\n",
            "[Parallel(n_jobs=-1)]: Done   5 tasks      | elapsed:   12.0s\n",
            "[Parallel(n_jobs=-1)]: Done   6 tasks      | elapsed:   12.6s\n",
            "[Parallel(n_jobs=-1)]: Done   7 tasks      | elapsed:   16.5s\n",
            "[Parallel(n_jobs=-1)]: Done   8 tasks      | elapsed:   16.6s\n",
            "[Parallel(n_jobs=-1)]: Done   9 tasks      | elapsed:   20.4s\n",
            "[Parallel(n_jobs=-1)]: Done  10 tasks      | elapsed:   20.6s\n",
            "[Parallel(n_jobs=-1)]: Done  11 tasks      | elapsed:   24.7s\n",
            "[Parallel(n_jobs=-1)]: Done  12 tasks      | elapsed:   25.0s\n",
            "[Parallel(n_jobs=-1)]: Done  13 tasks      | elapsed:   29.0s\n",
            "[Parallel(n_jobs=-1)]: Done  14 tasks      | elapsed:   29.7s\n",
            "[Parallel(n_jobs=-1)]: Done  15 tasks      | elapsed:   33.0s\n",
            "[Parallel(n_jobs=-1)]: Done  16 tasks      | elapsed:   34.3s\n",
            "[Parallel(n_jobs=-1)]: Done  17 tasks      | elapsed:   38.0s\n",
            "[Parallel(n_jobs=-1)]: Done  18 tasks      | elapsed:   38.4s\n",
            "[Parallel(n_jobs=-1)]: Done  19 tasks      | elapsed:   42.1s\n",
            "[Parallel(n_jobs=-1)]: Done  20 tasks      | elapsed:   42.2s\n",
            "[Parallel(n_jobs=-1)]: Done  21 tasks      | elapsed:   46.1s\n",
            "[Parallel(n_jobs=-1)]: Done  22 tasks      | elapsed:   46.7s\n",
            "[Parallel(n_jobs=-1)]: Done  23 tasks      | elapsed:   50.0s\n",
            "[Parallel(n_jobs=-1)]: Done  24 tasks      | elapsed:   50.7s\n",
            "[Parallel(n_jobs=-1)]: Done  25 tasks      | elapsed:   53.7s\n",
            "[Parallel(n_jobs=-1)]: Done  26 tasks      | elapsed:   54.7s\n",
            "[Parallel(n_jobs=-1)]: Done  27 tasks      | elapsed:   58.1s\n",
            "[Parallel(n_jobs=-1)]: Done  28 tasks      | elapsed:   59.2s\n",
            "[Parallel(n_jobs=-1)]: Done  29 tasks      | elapsed:  1.0min\n",
            "[Parallel(n_jobs=-1)]: Done  30 tasks      | elapsed:  1.1min\n",
            "[Parallel(n_jobs=-1)]: Done  31 tasks      | elapsed:  1.1min\n",
            "[Parallel(n_jobs=-1)]: Done  32 tasks      | elapsed:  1.1min\n",
            "[Parallel(n_jobs=-1)]: Done  33 tasks      | elapsed:  1.2min\n",
            "[Parallel(n_jobs=-1)]: Done  34 tasks      | elapsed:  1.2min\n",
            "[Parallel(n_jobs=-1)]: Done  35 tasks      | elapsed:  1.2min\n",
            "[Parallel(n_jobs=-1)]: Done  36 tasks      | elapsed:  1.2min\n",
            "[Parallel(n_jobs=-1)]: Done  37 tasks      | elapsed:  1.3min\n",
            "[Parallel(n_jobs=-1)]: Done  38 tasks      | elapsed:  1.3min\n",
            "[Parallel(n_jobs=-1)]: Done  39 tasks      | elapsed:  1.4min\n",
            "[Parallel(n_jobs=-1)]: Done  40 tasks      | elapsed:  1.4min\n",
            "[Parallel(n_jobs=-1)]: Done  41 tasks      | elapsed:  1.4min\n",
            "[Parallel(n_jobs=-1)]: Done  42 tasks      | elapsed:  1.4min\n",
            "[Parallel(n_jobs=-1)]: Done  43 tasks      | elapsed:  1.5min\n",
            "[Parallel(n_jobs=-1)]: Done  44 tasks      | elapsed:  1.5min\n",
            "[Parallel(n_jobs=-1)]: Done  45 tasks      | elapsed:  1.6min\n",
            "[Parallel(n_jobs=-1)]: Done  46 tasks      | elapsed:  1.6min\n",
            "[Parallel(n_jobs=-1)]: Done  47 tasks      | elapsed:  1.6min\n",
            "[Parallel(n_jobs=-1)]: Done  48 tasks      | elapsed:  1.7min\n",
            "[Parallel(n_jobs=-1)]: Done  49 tasks      | elapsed:  1.7min\n",
            "[Parallel(n_jobs=-1)]: Done  50 tasks      | elapsed:  1.7min\n",
            "[Parallel(n_jobs=-1)]: Done  51 tasks      | elapsed:  1.8min\n",
            "[Parallel(n_jobs=-1)]: Done  52 tasks      | elapsed:  1.8min\n",
            "[Parallel(n_jobs=-1)]: Done  53 tasks      | elapsed:  1.8min\n",
            "[Parallel(n_jobs=-1)]: Done  54 tasks      | elapsed:  1.9min\n",
            "[Parallel(n_jobs=-1)]: Done  55 tasks      | elapsed:  1.9min\n",
            "[Parallel(n_jobs=-1)]: Done  56 tasks      | elapsed:  1.9min\n",
            "[Parallel(n_jobs=-1)]: Done  57 tasks      | elapsed:  2.0min\n",
            "[Parallel(n_jobs=-1)]: Done  58 tasks      | elapsed:  2.0min\n",
            "[Parallel(n_jobs=-1)]: Done  59 tasks      | elapsed:  2.0min\n",
            "[Parallel(n_jobs=-1)]: Done  60 tasks      | elapsed:  2.1min\n",
            "[Parallel(n_jobs=-1)]: Done  61 tasks      | elapsed:  2.1min\n",
            "[Parallel(n_jobs=-1)]: Done  62 tasks      | elapsed:  2.1min\n",
            "[Parallel(n_jobs=-1)]: Done  63 tasks      | elapsed:  2.2min\n",
            "[Parallel(n_jobs=-1)]: Done  64 tasks      | elapsed:  2.2min\n",
            "[Parallel(n_jobs=-1)]: Done  65 tasks      | elapsed:  2.2min\n",
            "[Parallel(n_jobs=-1)]: Done  66 tasks      | elapsed:  2.3min\n",
            "[Parallel(n_jobs=-1)]: Done  67 tasks      | elapsed:  2.3min\n",
            "[Parallel(n_jobs=-1)]: Done  68 tasks      | elapsed:  2.3min\n",
            "[Parallel(n_jobs=-1)]: Done  69 tasks      | elapsed:  2.4min\n",
            "[Parallel(n_jobs=-1)]: Done  70 tasks      | elapsed:  2.4min\n",
            "[Parallel(n_jobs=-1)]: Done  71 tasks      | elapsed:  2.4min\n",
            "[Parallel(n_jobs=-1)]: Done  72 tasks      | elapsed:  2.5min\n",
            "[Parallel(n_jobs=-1)]: Done  73 tasks      | elapsed:  2.5min\n",
            "[Parallel(n_jobs=-1)]: Done  74 tasks      | elapsed:  2.6min\n",
            "[Parallel(n_jobs=-1)]: Done  75 tasks      | elapsed:  2.6min\n",
            "[Parallel(n_jobs=-1)]: Done  76 tasks      | elapsed:  2.6min\n",
            "[Parallel(n_jobs=-1)]: Done  77 tasks      | elapsed:  2.6min\n",
            "[Parallel(n_jobs=-1)]: Done  78 tasks      | elapsed:  2.7min\n",
            "[Parallel(n_jobs=-1)]: Done  79 tasks      | elapsed:  2.7min\n",
            "[Parallel(n_jobs=-1)]: Done  80 tasks      | elapsed:  2.8min\n",
            "[Parallel(n_jobs=-1)]: Done  81 tasks      | elapsed:  2.8min\n",
            "[Parallel(n_jobs=-1)]: Done  82 tasks      | elapsed:  2.8min\n",
            "[Parallel(n_jobs=-1)]: Done  83 tasks      | elapsed:  2.8min\n",
            "[Parallel(n_jobs=-1)]: Done  84 tasks      | elapsed:  2.9min\n",
            "[Parallel(n_jobs=-1)]: Done  85 tasks      | elapsed:  2.9min\n",
            "[Parallel(n_jobs=-1)]: Done  86 tasks      | elapsed:  3.0min\n",
            "[Parallel(n_jobs=-1)]: Done  87 tasks      | elapsed:  3.0min\n",
            "[Parallel(n_jobs=-1)]: Done  88 tasks      | elapsed:  3.0min\n",
            "[Parallel(n_jobs=-1)]: Done  89 tasks      | elapsed:  3.0min\n",
            "[Parallel(n_jobs=-1)]: Done  90 tasks      | elapsed:  3.1min\n",
            "[Parallel(n_jobs=-1)]: Done  91 tasks      | elapsed:  3.1min\n",
            "[Parallel(n_jobs=-1)]: Done  92 tasks      | elapsed:  3.1min\n",
            "[Parallel(n_jobs=-1)]: Done  93 tasks      | elapsed:  3.2min\n",
            "[Parallel(n_jobs=-1)]: Done  94 tasks      | elapsed:  3.2min\n",
            "[Parallel(n_jobs=-1)]: Done  95 tasks      | elapsed:  3.3min\n",
            "[Parallel(n_jobs=-1)]: Done  96 tasks      | elapsed:  3.3min\n",
            "[Parallel(n_jobs=-1)]: Done  97 tasks      | elapsed:  3.3min\n",
            "[Parallel(n_jobs=-1)]: Done  98 tasks      | elapsed:  3.3min\n",
            "[Parallel(n_jobs=-1)]: Done  99 tasks      | elapsed:  3.4min\n",
            "[Parallel(n_jobs=-1)]: Done 100 tasks      | elapsed:  3.4min\n",
            "[Parallel(n_jobs=-1)]: Done 101 tasks      | elapsed:  3.5min\n",
            "[Parallel(n_jobs=-1)]: Done 102 tasks      | elapsed:  3.5min\n",
            "[Parallel(n_jobs=-1)]: Done 103 tasks      | elapsed:  3.5min\n",
            "[Parallel(n_jobs=-1)]: Done 104 tasks      | elapsed:  3.5min\n",
            "[Parallel(n_jobs=-1)]: Done 105 tasks      | elapsed:  3.6min\n",
            "[Parallel(n_jobs=-1)]: Done 106 tasks      | elapsed:  3.6min\n",
            "[Parallel(n_jobs=-1)]: Done 107 tasks      | elapsed:  3.6min\n",
            "[Parallel(n_jobs=-1)]: Done 108 tasks      | elapsed:  3.7min\n",
            "[Parallel(n_jobs=-1)]: Done 109 tasks      | elapsed:  3.7min\n",
            "[Parallel(n_jobs=-1)]: Done 110 tasks      | elapsed:  3.7min\n",
            "[Parallel(n_jobs=-1)]: Done 111 tasks      | elapsed:  3.8min\n",
            "[Parallel(n_jobs=-1)]: Done 112 tasks      | elapsed:  3.8min\n",
            "[Parallel(n_jobs=-1)]: Done 113 tasks      | elapsed:  3.8min\n",
            "[Parallel(n_jobs=-1)]: Done 114 tasks      | elapsed:  3.9min\n",
            "[Parallel(n_jobs=-1)]: Done 115 tasks      | elapsed:  3.9min\n",
            "[Parallel(n_jobs=-1)]: Done 116 tasks      | elapsed:  4.0min\n",
            "[Parallel(n_jobs=-1)]: Done 117 tasks      | elapsed:  4.0min\n",
            "[Parallel(n_jobs=-1)]: Done 118 tasks      | elapsed:  4.0min\n",
            "[Parallel(n_jobs=-1)]: Done 119 tasks      | elapsed:  4.1min\n",
            "[Parallel(n_jobs=-1)]: Done 120 tasks      | elapsed:  4.1min\n",
            "[Parallel(n_jobs=-1)]: Done 121 tasks      | elapsed:  4.1min\n",
            "[Parallel(n_jobs=-1)]: Done 122 tasks      | elapsed:  4.2min\n",
            "[Parallel(n_jobs=-1)]: Done 123 tasks      | elapsed:  4.2min\n",
            "[Parallel(n_jobs=-1)]: Done 124 tasks      | elapsed:  4.2min\n",
            "[Parallel(n_jobs=-1)]: Done 125 tasks      | elapsed:  4.3min\n",
            "[Parallel(n_jobs=-1)]: Done 126 tasks      | elapsed:  4.3min\n",
            "[Parallel(n_jobs=-1)]: Done 127 tasks      | elapsed:  4.3min\n",
            "[Parallel(n_jobs=-1)]: Done 128 tasks      | elapsed:  4.4min\n",
            "[Parallel(n_jobs=-1)]: Done 129 tasks      | elapsed:  4.4min\n",
            "[Parallel(n_jobs=-1)]: Done 130 tasks      | elapsed:  4.4min\n",
            "[Parallel(n_jobs=-1)]: Done 131 tasks      | elapsed:  4.5min\n",
            "[Parallel(n_jobs=-1)]: Done 132 tasks      | elapsed:  4.5min\n",
            "[Parallel(n_jobs=-1)]: Done 133 tasks      | elapsed:  4.6min\n",
            "[Parallel(n_jobs=-1)]: Done 134 tasks      | elapsed:  4.6min\n",
            "[Parallel(n_jobs=-1)]: Done 135 tasks      | elapsed:  4.6min\n",
            "[Parallel(n_jobs=-1)]: Done 136 tasks      | elapsed:  4.7min\n",
            "[Parallel(n_jobs=-1)]: Done 137 tasks      | elapsed:  4.7min\n",
            "[Parallel(n_jobs=-1)]: Done 138 tasks      | elapsed:  4.7min\n",
            "[Parallel(n_jobs=-1)]: Done 139 tasks      | elapsed:  4.8min\n",
            "[Parallel(n_jobs=-1)]: Done 140 tasks      | elapsed:  4.8min\n",
            "[Parallel(n_jobs=-1)]: Done 141 tasks      | elapsed:  4.8min\n",
            "[Parallel(n_jobs=-1)]: Done 142 tasks      | elapsed:  4.8min\n",
            "[Parallel(n_jobs=-1)]: Done 143 tasks      | elapsed:  4.9min\n",
            "[Parallel(n_jobs=-1)]: Done 144 tasks      | elapsed:  4.9min\n",
            "[Parallel(n_jobs=-1)]: Done 145 tasks      | elapsed:  5.0min\n",
            "[Parallel(n_jobs=-1)]: Done 146 tasks      | elapsed:  5.0min\n",
            "[Parallel(n_jobs=-1)]: Done 147 tasks      | elapsed:  5.0min\n",
            "[Parallel(n_jobs=-1)]: Done 148 tasks      | elapsed:  5.1min\n",
            "[Parallel(n_jobs=-1)]: Done 149 tasks      | elapsed:  5.1min\n",
            "[Parallel(n_jobs=-1)]: Done 150 tasks      | elapsed:  5.1min\n",
            "[Parallel(n_jobs=-1)]: Done 151 tasks      | elapsed:  5.2min\n",
            "[Parallel(n_jobs=-1)]: Done 152 tasks      | elapsed:  5.2min\n",
            "[Parallel(n_jobs=-1)]: Done 153 tasks      | elapsed:  5.2min\n",
            "[Parallel(n_jobs=-1)]: Done 154 tasks      | elapsed:  5.3min\n",
            "[Parallel(n_jobs=-1)]: Done 155 tasks      | elapsed:  5.3min\n",
            "[Parallel(n_jobs=-1)]: Done 156 tasks      | elapsed:  5.3min\n",
            "[Parallel(n_jobs=-1)]: Done 157 tasks      | elapsed:  5.4min\n",
            "[Parallel(n_jobs=-1)]: Done 158 tasks      | elapsed:  5.4min\n",
            "[Parallel(n_jobs=-1)]: Done 159 tasks      | elapsed:  5.4min\n",
            "[Parallel(n_jobs=-1)]: Done 160 tasks      | elapsed:  5.5min\n",
            "[Parallel(n_jobs=-1)]: Done 161 tasks      | elapsed:  5.5min\n",
            "[Parallel(n_jobs=-1)]: Done 162 tasks      | elapsed:  5.5min\n",
            "[Parallel(n_jobs=-1)]: Done 163 tasks      | elapsed:  5.6min\n",
            "[Parallel(n_jobs=-1)]: Done 164 tasks      | elapsed:  5.6min\n",
            "[Parallel(n_jobs=-1)]: Done 165 tasks      | elapsed:  5.6min\n",
            "[Parallel(n_jobs=-1)]: Done 166 tasks      | elapsed:  5.7min\n",
            "[Parallel(n_jobs=-1)]: Done 167 tasks      | elapsed:  5.7min\n",
            "[Parallel(n_jobs=-1)]: Done 168 tasks      | elapsed:  5.7min\n",
            "[Parallel(n_jobs=-1)]: Done 169 tasks      | elapsed:  5.8min\n",
            "[Parallel(n_jobs=-1)]: Done 170 tasks      | elapsed:  5.8min\n",
            "[Parallel(n_jobs=-1)]: Done 171 tasks      | elapsed:  5.8min\n",
            "[Parallel(n_jobs=-1)]: Done 172 tasks      | elapsed:  5.9min\n",
            "[Parallel(n_jobs=-1)]: Done 173 tasks      | elapsed:  5.9min\n",
            "[Parallel(n_jobs=-1)]: Done 174 tasks      | elapsed:  5.9min\n",
            "[Parallel(n_jobs=-1)]: Done 175 tasks      | elapsed:  6.0min\n",
            "[Parallel(n_jobs=-1)]: Done 176 tasks      | elapsed:  6.0min\n",
            "[Parallel(n_jobs=-1)]: Done 177 tasks      | elapsed:  6.0min\n",
            "[Parallel(n_jobs=-1)]: Done 178 tasks      | elapsed:  6.0min\n",
            "[Parallel(n_jobs=-1)]: Done 179 tasks      | elapsed:  6.1min\n",
            "[Parallel(n_jobs=-1)]: Done 180 tasks      | elapsed:  6.1min\n",
            "[Parallel(n_jobs=-1)]: Done 181 tasks      | elapsed:  6.2min\n",
            "[Parallel(n_jobs=-1)]: Done 182 tasks      | elapsed:  6.2min\n",
            "[Parallel(n_jobs=-1)]: Done 183 tasks      | elapsed:  6.2min\n",
            "[Parallel(n_jobs=-1)]: Done 184 tasks      | elapsed:  6.2min\n",
            "[Parallel(n_jobs=-1)]: Done 185 tasks      | elapsed:  6.3min\n",
            "[Parallel(n_jobs=-1)]: Done 186 tasks      | elapsed:  6.3min\n",
            "[Parallel(n_jobs=-1)]: Done 187 tasks      | elapsed:  6.4min\n",
            "[Parallel(n_jobs=-1)]: Done 188 tasks      | elapsed:  6.4min\n",
            "[Parallel(n_jobs=-1)]: Done 189 tasks      | elapsed:  6.4min\n",
            "[Parallel(n_jobs=-1)]: Done 190 tasks      | elapsed:  6.5min\n",
            "[Parallel(n_jobs=-1)]: Done 191 tasks      | elapsed:  6.5min\n",
            "[Parallel(n_jobs=-1)]: Done 192 tasks      | elapsed:  6.5min\n",
            "[Parallel(n_jobs=-1)]: Done 193 tasks      | elapsed:  6.6min\n",
            "[Parallel(n_jobs=-1)]: Done 194 tasks      | elapsed:  6.6min\n",
            "[Parallel(n_jobs=-1)]: Done 195 tasks      | elapsed:  6.6min\n",
            "[Parallel(n_jobs=-1)]: Done 196 tasks      | elapsed:  6.6min\n",
            "[Parallel(n_jobs=-1)]: Done 197 tasks      | elapsed:  6.7min\n",
            "[Parallel(n_jobs=-1)]: Done 200 out of 200 | elapsed:  6.8min finished\n",
            "[Parallel(n_jobs=2)]: Using backend ThreadingBackend with 2 concurrent workers.\n",
            "[Parallel(n_jobs=2)]: Done   1 tasks      | elapsed:    0.0s\n",
            "[Parallel(n_jobs=2)]: Done   2 tasks      | elapsed:    0.0s\n",
            "[Parallel(n_jobs=2)]: Done   3 tasks      | elapsed:    0.0s\n",
            "[Parallel(n_jobs=2)]: Done   4 tasks      | elapsed:    0.0s\n",
            "[Parallel(n_jobs=2)]: Done   5 tasks      | elapsed:    0.0s\n",
            "[Parallel(n_jobs=2)]: Done   6 tasks      | elapsed:    0.0s\n",
            "[Parallel(n_jobs=2)]: Done   7 tasks      | elapsed:    0.0s\n",
            "[Parallel(n_jobs=2)]: Done   8 tasks      | elapsed:    0.0s\n",
            "[Parallel(n_jobs=2)]: Done   9 tasks      | elapsed:    0.0s\n",
            "[Parallel(n_jobs=2)]: Done  10 tasks      | elapsed:    0.0s\n",
            "[Parallel(n_jobs=2)]: Done  11 tasks      | elapsed:    0.0s\n",
            "[Parallel(n_jobs=2)]: Done  12 tasks      | elapsed:    0.0s\n",
            "[Parallel(n_jobs=2)]: Done  13 tasks      | elapsed:    0.0s\n",
            "[Parallel(n_jobs=2)]: Done  14 tasks      | elapsed:    0.0s\n",
            "[Parallel(n_jobs=2)]: Done  15 tasks      | elapsed:    0.0s\n",
            "[Parallel(n_jobs=2)]: Done  16 tasks      | elapsed:    0.0s\n",
            "[Parallel(n_jobs=2)]: Done  17 tasks      | elapsed:    0.0s\n",
            "[Parallel(n_jobs=2)]: Done  18 tasks      | elapsed:    0.1s\n",
            "[Parallel(n_jobs=2)]: Done  19 tasks      | elapsed:    0.1s\n",
            "[Parallel(n_jobs=2)]: Done  20 tasks      | elapsed:    0.1s\n",
            "[Parallel(n_jobs=2)]: Done  21 tasks      | elapsed:    0.1s\n",
            "[Parallel(n_jobs=2)]: Done  22 tasks      | elapsed:    0.1s\n",
            "[Parallel(n_jobs=2)]: Done  23 tasks      | elapsed:    0.1s\n",
            "[Parallel(n_jobs=2)]: Done  24 tasks      | elapsed:    0.1s\n",
            "[Parallel(n_jobs=2)]: Done  25 tasks      | elapsed:    0.1s\n",
            "[Parallel(n_jobs=2)]: Done  26 tasks      | elapsed:    0.1s\n",
            "[Parallel(n_jobs=2)]: Done  27 tasks      | elapsed:    0.1s\n",
            "[Parallel(n_jobs=2)]: Done  28 tasks      | elapsed:    0.1s\n",
            "[Parallel(n_jobs=2)]: Done  29 tasks      | elapsed:    0.1s\n",
            "[Parallel(n_jobs=2)]: Done  30 tasks      | elapsed:    0.1s\n",
            "[Parallel(n_jobs=2)]: Done  31 tasks      | elapsed:    0.1s\n",
            "[Parallel(n_jobs=2)]: Done  32 tasks      | elapsed:    0.1s\n",
            "[Parallel(n_jobs=2)]: Done  33 tasks      | elapsed:    0.1s\n",
            "[Parallel(n_jobs=2)]: Done  34 tasks      | elapsed:    0.1s\n"
          ],
          "name": "stderr"
        },
        {
          "output_type": "stream",
          "text": [
            "Using ThreadingBackend as joblib.Parallel backend instead of LokyBackend as the latter does not provide shared memory semantics.\n"
          ],
          "name": "stdout"
        },
        {
          "output_type": "stream",
          "text": [
            "[Parallel(n_jobs=2)]: Done  35 tasks      | elapsed:    0.1s\n",
            "[Parallel(n_jobs=2)]: Done  36 tasks      | elapsed:    0.1s\n",
            "[Parallel(n_jobs=2)]: Done  37 tasks      | elapsed:    0.1s\n",
            "[Parallel(n_jobs=2)]: Done  38 tasks      | elapsed:    0.1s\n",
            "[Parallel(n_jobs=2)]: Done  39 tasks      | elapsed:    0.1s\n",
            "[Parallel(n_jobs=2)]: Done  40 tasks      | elapsed:    0.1s\n",
            "[Parallel(n_jobs=2)]: Done  41 tasks      | elapsed:    0.1s\n",
            "[Parallel(n_jobs=2)]: Done  42 tasks      | elapsed:    0.1s\n",
            "[Parallel(n_jobs=2)]: Done  43 tasks      | elapsed:    0.1s\n",
            "[Parallel(n_jobs=2)]: Done  44 tasks      | elapsed:    0.1s\n",
            "[Parallel(n_jobs=2)]: Done  45 tasks      | elapsed:    0.1s\n",
            "[Parallel(n_jobs=2)]: Done  46 tasks      | elapsed:    0.1s\n",
            "[Parallel(n_jobs=2)]: Done  47 tasks      | elapsed:    0.1s\n",
            "[Parallel(n_jobs=2)]: Done  48 tasks      | elapsed:    0.1s\n",
            "[Parallel(n_jobs=2)]: Done  49 tasks      | elapsed:    0.1s\n",
            "[Parallel(n_jobs=2)]: Done  50 tasks      | elapsed:    0.1s\n",
            "[Parallel(n_jobs=2)]: Done  51 tasks      | elapsed:    0.1s\n",
            "[Parallel(n_jobs=2)]: Done  52 tasks      | elapsed:    0.1s\n",
            "[Parallel(n_jobs=2)]: Done  53 tasks      | elapsed:    0.2s\n",
            "[Parallel(n_jobs=2)]: Done  54 tasks      | elapsed:    0.2s\n",
            "[Parallel(n_jobs=2)]: Done  55 tasks      | elapsed:    0.2s\n",
            "[Parallel(n_jobs=2)]: Done  56 tasks      | elapsed:    0.2s\n",
            "[Parallel(n_jobs=2)]: Done  57 tasks      | elapsed:    0.2s\n",
            "[Parallel(n_jobs=2)]: Done  58 tasks      | elapsed:    0.2s\n",
            "[Parallel(n_jobs=2)]: Done  59 tasks      | elapsed:    0.2s\n",
            "[Parallel(n_jobs=2)]: Done  60 tasks      | elapsed:    0.2s\n",
            "[Parallel(n_jobs=2)]: Done  61 tasks      | elapsed:    0.2s\n",
            "[Parallel(n_jobs=2)]: Done  62 tasks      | elapsed:    0.2s\n",
            "[Parallel(n_jobs=2)]: Done  63 tasks      | elapsed:    0.2s\n",
            "[Parallel(n_jobs=2)]: Done  64 tasks      | elapsed:    0.2s\n",
            "[Parallel(n_jobs=2)]: Done  65 tasks      | elapsed:    0.2s\n",
            "[Parallel(n_jobs=2)]: Done  66 tasks      | elapsed:    0.2s\n",
            "[Parallel(n_jobs=2)]: Done  67 tasks      | elapsed:    0.2s\n",
            "[Parallel(n_jobs=2)]: Done  68 tasks      | elapsed:    0.2s\n",
            "[Parallel(n_jobs=2)]: Done  69 tasks      | elapsed:    0.2s\n",
            "[Parallel(n_jobs=2)]: Done  70 tasks      | elapsed:    0.2s\n",
            "[Parallel(n_jobs=2)]: Done  71 tasks      | elapsed:    0.2s\n",
            "[Parallel(n_jobs=2)]: Done  72 tasks      | elapsed:    0.2s\n",
            "[Parallel(n_jobs=2)]: Done  73 tasks      | elapsed:    0.2s\n",
            "[Parallel(n_jobs=2)]: Done  74 tasks      | elapsed:    0.2s\n",
            "[Parallel(n_jobs=2)]: Done  75 tasks      | elapsed:    0.2s\n",
            "[Parallel(n_jobs=2)]: Done  76 tasks      | elapsed:    0.2s\n",
            "[Parallel(n_jobs=2)]: Done  77 tasks      | elapsed:    0.2s\n",
            "[Parallel(n_jobs=2)]: Done  78 tasks      | elapsed:    0.2s\n",
            "[Parallel(n_jobs=2)]: Done  79 tasks      | elapsed:    0.2s\n",
            "[Parallel(n_jobs=2)]: Done  80 tasks      | elapsed:    0.2s\n",
            "[Parallel(n_jobs=2)]: Done  81 tasks      | elapsed:    0.2s\n",
            "[Parallel(n_jobs=2)]: Done  82 tasks      | elapsed:    0.2s\n",
            "[Parallel(n_jobs=2)]: Done  83 tasks      | elapsed:    0.2s\n",
            "[Parallel(n_jobs=2)]: Done  84 tasks      | elapsed:    0.2s\n",
            "[Parallel(n_jobs=2)]: Done  85 tasks      | elapsed:    0.2s\n",
            "[Parallel(n_jobs=2)]: Done  86 tasks      | elapsed:    0.2s\n",
            "[Parallel(n_jobs=2)]: Done  87 tasks      | elapsed:    0.2s\n",
            "[Parallel(n_jobs=2)]: Done  88 tasks      | elapsed:    0.2s\n",
            "[Parallel(n_jobs=2)]: Done  89 tasks      | elapsed:    0.2s\n",
            "[Parallel(n_jobs=2)]: Done  90 tasks      | elapsed:    0.3s\n",
            "[Parallel(n_jobs=2)]: Done  91 tasks      | elapsed:    0.3s\n",
            "[Parallel(n_jobs=2)]: Done  92 tasks      | elapsed:    0.3s\n",
            "[Parallel(n_jobs=2)]: Done  93 tasks      | elapsed:    0.3s\n",
            "[Parallel(n_jobs=2)]: Done  94 tasks      | elapsed:    0.3s\n",
            "[Parallel(n_jobs=2)]: Done  95 tasks      | elapsed:    0.3s\n",
            "[Parallel(n_jobs=2)]: Done  96 tasks      | elapsed:    0.3s\n",
            "[Parallel(n_jobs=2)]: Done  97 tasks      | elapsed:    0.3s\n",
            "[Parallel(n_jobs=2)]: Done  98 tasks      | elapsed:    0.3s\n",
            "[Parallel(n_jobs=2)]: Done  99 tasks      | elapsed:    0.3s\n",
            "[Parallel(n_jobs=2)]: Done 100 tasks      | elapsed:    0.3s\n",
            "[Parallel(n_jobs=2)]: Done 101 tasks      | elapsed:    0.3s\n",
            "[Parallel(n_jobs=2)]: Done 102 tasks      | elapsed:    0.3s\n",
            "[Parallel(n_jobs=2)]: Done 103 tasks      | elapsed:    0.3s\n",
            "[Parallel(n_jobs=2)]: Done 104 tasks      | elapsed:    0.3s\n",
            "[Parallel(n_jobs=2)]: Done 105 tasks      | elapsed:    0.3s\n",
            "[Parallel(n_jobs=2)]: Done 106 tasks      | elapsed:    0.3s\n",
            "[Parallel(n_jobs=2)]: Done 107 tasks      | elapsed:    0.3s\n",
            "[Parallel(n_jobs=2)]: Done 108 tasks      | elapsed:    0.3s\n",
            "[Parallel(n_jobs=2)]: Done 109 tasks      | elapsed:    0.3s\n",
            "[Parallel(n_jobs=2)]: Done 110 tasks      | elapsed:    0.3s\n",
            "[Parallel(n_jobs=2)]: Done 111 tasks      | elapsed:    0.3s\n",
            "[Parallel(n_jobs=2)]: Done 112 tasks      | elapsed:    0.3s\n",
            "[Parallel(n_jobs=2)]: Done 113 tasks      | elapsed:    0.3s\n",
            "[Parallel(n_jobs=2)]: Done 114 tasks      | elapsed:    0.3s\n",
            "[Parallel(n_jobs=2)]: Done 115 tasks      | elapsed:    0.3s\n",
            "[Parallel(n_jobs=2)]: Done 116 tasks      | elapsed:    0.3s\n",
            "[Parallel(n_jobs=2)]: Done 117 tasks      | elapsed:    0.3s\n",
            "[Parallel(n_jobs=2)]: Done 118 tasks      | elapsed:    0.3s\n",
            "[Parallel(n_jobs=2)]: Done 119 tasks      | elapsed:    0.3s\n",
            "[Parallel(n_jobs=2)]: Done 120 tasks      | elapsed:    0.3s\n",
            "[Parallel(n_jobs=2)]: Done 121 tasks      | elapsed:    0.3s\n",
            "[Parallel(n_jobs=2)]: Done 122 tasks      | elapsed:    0.3s\n",
            "[Parallel(n_jobs=2)]: Done 123 tasks      | elapsed:    0.3s\n",
            "[Parallel(n_jobs=2)]: Done 124 tasks      | elapsed:    0.4s\n",
            "[Parallel(n_jobs=2)]: Done 125 tasks      | elapsed:    0.4s\n",
            "[Parallel(n_jobs=2)]: Done 126 tasks      | elapsed:    0.4s\n",
            "[Parallel(n_jobs=2)]: Done 127 tasks      | elapsed:    0.4s\n",
            "[Parallel(n_jobs=2)]: Done 128 tasks      | elapsed:    0.4s\n",
            "[Parallel(n_jobs=2)]: Done 129 tasks      | elapsed:    0.4s\n",
            "[Parallel(n_jobs=2)]: Done 130 tasks      | elapsed:    0.4s\n",
            "[Parallel(n_jobs=2)]: Done 131 tasks      | elapsed:    0.4s\n",
            "[Parallel(n_jobs=2)]: Done 132 tasks      | elapsed:    0.4s\n",
            "[Parallel(n_jobs=2)]: Done 133 tasks      | elapsed:    0.4s\n",
            "[Parallel(n_jobs=2)]: Done 134 tasks      | elapsed:    0.4s\n",
            "[Parallel(n_jobs=2)]: Done 135 tasks      | elapsed:    0.4s\n",
            "[Parallel(n_jobs=2)]: Done 136 tasks      | elapsed:    0.4s\n",
            "[Parallel(n_jobs=2)]: Done 137 tasks      | elapsed:    0.4s\n",
            "[Parallel(n_jobs=2)]: Done 138 tasks      | elapsed:    0.4s\n",
            "[Parallel(n_jobs=2)]: Done 139 tasks      | elapsed:    0.4s\n",
            "[Parallel(n_jobs=2)]: Done 140 tasks      | elapsed:    0.4s\n",
            "[Parallel(n_jobs=2)]: Done 141 tasks      | elapsed:    0.4s\n",
            "[Parallel(n_jobs=2)]: Done 142 tasks      | elapsed:    0.4s\n",
            "[Parallel(n_jobs=2)]: Done 143 tasks      | elapsed:    0.4s\n",
            "[Parallel(n_jobs=2)]: Done 144 tasks      | elapsed:    0.4s\n",
            "[Parallel(n_jobs=2)]: Done 145 tasks      | elapsed:    0.4s\n",
            "[Parallel(n_jobs=2)]: Done 146 tasks      | elapsed:    0.4s\n",
            "[Parallel(n_jobs=2)]: Done 147 tasks      | elapsed:    0.4s\n",
            "[Parallel(n_jobs=2)]: Done 148 tasks      | elapsed:    0.4s\n",
            "[Parallel(n_jobs=2)]: Done 149 tasks      | elapsed:    0.4s\n",
            "[Parallel(n_jobs=2)]: Done 150 tasks      | elapsed:    0.4s\n",
            "[Parallel(n_jobs=2)]: Done 151 tasks      | elapsed:    0.4s\n",
            "[Parallel(n_jobs=2)]: Done 152 tasks      | elapsed:    0.4s\n",
            "[Parallel(n_jobs=2)]: Done 153 tasks      | elapsed:    0.4s\n",
            "[Parallel(n_jobs=2)]: Done 154 tasks      | elapsed:    0.4s\n",
            "[Parallel(n_jobs=2)]: Done 155 tasks      | elapsed:    0.4s\n",
            "[Parallel(n_jobs=2)]: Done 156 tasks      | elapsed:    0.4s\n",
            "[Parallel(n_jobs=2)]: Done 157 tasks      | elapsed:    0.4s\n",
            "[Parallel(n_jobs=2)]: Done 158 tasks      | elapsed:    0.4s\n",
            "[Parallel(n_jobs=2)]: Done 159 tasks      | elapsed:    0.4s\n",
            "[Parallel(n_jobs=2)]: Done 160 tasks      | elapsed:    0.4s\n",
            "[Parallel(n_jobs=2)]: Done 161 tasks      | elapsed:    0.4s\n",
            "[Parallel(n_jobs=2)]: Done 162 tasks      | elapsed:    0.4s\n",
            "[Parallel(n_jobs=2)]: Done 163 tasks      | elapsed:    0.4s\n",
            "[Parallel(n_jobs=2)]: Done 164 tasks      | elapsed:    0.4s\n",
            "[Parallel(n_jobs=2)]: Done 165 tasks      | elapsed:    0.5s\n",
            "[Parallel(n_jobs=2)]: Done 166 tasks      | elapsed:    0.5s\n",
            "[Parallel(n_jobs=2)]: Done 167 tasks      | elapsed:    0.5s\n",
            "[Parallel(n_jobs=2)]: Done 168 tasks      | elapsed:    0.5s\n",
            "[Parallel(n_jobs=2)]: Done 169 tasks      | elapsed:    0.5s\n",
            "[Parallel(n_jobs=2)]: Done 170 tasks      | elapsed:    0.5s\n",
            "[Parallel(n_jobs=2)]: Done 171 tasks      | elapsed:    0.5s\n",
            "[Parallel(n_jobs=2)]: Done 172 tasks      | elapsed:    0.5s\n",
            "[Parallel(n_jobs=2)]: Done 173 tasks      | elapsed:    0.5s\n",
            "[Parallel(n_jobs=2)]: Done 174 tasks      | elapsed:    0.5s\n",
            "[Parallel(n_jobs=2)]: Done 175 tasks      | elapsed:    0.5s\n",
            "[Parallel(n_jobs=2)]: Done 176 tasks      | elapsed:    0.5s\n",
            "[Parallel(n_jobs=2)]: Done 177 tasks      | elapsed:    0.5s\n",
            "[Parallel(n_jobs=2)]: Done 178 tasks      | elapsed:    0.5s\n",
            "[Parallel(n_jobs=2)]: Done 179 tasks      | elapsed:    0.5s\n",
            "[Parallel(n_jobs=2)]: Done 180 tasks      | elapsed:    0.5s\n",
            "[Parallel(n_jobs=2)]: Done 181 tasks      | elapsed:    0.5s\n",
            "[Parallel(n_jobs=2)]: Done 182 tasks      | elapsed:    0.5s\n",
            "[Parallel(n_jobs=2)]: Done 183 tasks      | elapsed:    0.5s\n",
            "[Parallel(n_jobs=2)]: Done 184 tasks      | elapsed:    0.5s\n",
            "[Parallel(n_jobs=2)]: Done 185 tasks      | elapsed:    0.5s\n",
            "[Parallel(n_jobs=2)]: Done 186 tasks      | elapsed:    0.5s\n",
            "[Parallel(n_jobs=2)]: Done 187 tasks      | elapsed:    0.5s\n",
            "[Parallel(n_jobs=2)]: Done 188 tasks      | elapsed:    0.5s\n",
            "[Parallel(n_jobs=2)]: Done 189 tasks      | elapsed:    0.5s\n",
            "[Parallel(n_jobs=2)]: Done 190 tasks      | elapsed:    0.5s\n",
            "[Parallel(n_jobs=2)]: Done 191 tasks      | elapsed:    0.5s\n",
            "[Parallel(n_jobs=2)]: Done 192 tasks      | elapsed:    0.5s\n",
            "[Parallel(n_jobs=2)]: Done 193 tasks      | elapsed:    0.5s\n",
            "[Parallel(n_jobs=2)]: Done 194 tasks      | elapsed:    0.5s\n",
            "[Parallel(n_jobs=2)]: Done 195 tasks      | elapsed:    0.5s\n",
            "[Parallel(n_jobs=2)]: Done 196 tasks      | elapsed:    0.5s\n",
            "[Parallel(n_jobs=2)]: Done 197 tasks      | elapsed:    0.5s\n",
            "[Parallel(n_jobs=2)]: Done 200 out of 200 | elapsed:    0.6s finished\n",
            "[Parallel(n_jobs=-1)]: Using backend LokyBackend with 2 concurrent workers.\n",
            "[Parallel(n_jobs=-1)]: Done   1 tasks      | elapsed:    4.2s\n",
            "[Parallel(n_jobs=-1)]: Done   2 tasks      | elapsed:    4.5s\n",
            "[Parallel(n_jobs=-1)]: Done   3 tasks      | elapsed:    8.2s\n",
            "[Parallel(n_jobs=-1)]: Done   4 tasks      | elapsed:    9.0s\n",
            "[Parallel(n_jobs=-1)]: Done   5 tasks      | elapsed:   11.8s\n",
            "[Parallel(n_jobs=-1)]: Done   6 tasks      | elapsed:   12.7s\n",
            "[Parallel(n_jobs=-1)]: Done   7 tasks      | elapsed:   15.7s\n",
            "[Parallel(n_jobs=-1)]: Done   8 tasks      | elapsed:   17.0s\n",
            "[Parallel(n_jobs=-1)]: Done   9 tasks      | elapsed:   19.7s\n",
            "[Parallel(n_jobs=-1)]: Done  10 tasks      | elapsed:   20.9s\n",
            "[Parallel(n_jobs=-1)]: Done  11 tasks      | elapsed:   24.1s\n",
            "[Parallel(n_jobs=-1)]: Done  12 tasks      | elapsed:   24.7s\n",
            "[Parallel(n_jobs=-1)]: Done  13 tasks      | elapsed:   28.4s\n",
            "[Parallel(n_jobs=-1)]: Done  14 tasks      | elapsed:   28.9s\n",
            "[Parallel(n_jobs=-1)]: Done  15 tasks      | elapsed:   32.2s\n",
            "[Parallel(n_jobs=-1)]: Done  16 tasks      | elapsed:   32.7s\n",
            "[Parallel(n_jobs=-1)]: Done  17 tasks      | elapsed:   36.2s\n",
            "[Parallel(n_jobs=-1)]: Done  18 tasks      | elapsed:   36.6s\n",
            "[Parallel(n_jobs=-1)]: Done  19 tasks      | elapsed:   40.6s\n",
            "[Parallel(n_jobs=-1)]: Done  20 tasks      | elapsed:   40.9s\n",
            "[Parallel(n_jobs=-1)]: Done  21 tasks      | elapsed:   44.7s\n",
            "[Parallel(n_jobs=-1)]: Done  22 tasks      | elapsed:   45.9s\n",
            "[Parallel(n_jobs=-1)]: Done  23 tasks      | elapsed:   49.4s\n",
            "[Parallel(n_jobs=-1)]: Done  24 tasks      | elapsed:   49.9s\n",
            "[Parallel(n_jobs=-1)]: Done  25 tasks      | elapsed:   53.0s\n",
            "[Parallel(n_jobs=-1)]: Done  26 tasks      | elapsed:   54.5s\n",
            "[Parallel(n_jobs=-1)]: Done  27 tasks      | elapsed:   56.6s\n",
            "[Parallel(n_jobs=-1)]: Done  28 tasks      | elapsed:   59.4s\n",
            "[Parallel(n_jobs=-1)]: Done  29 tasks      | elapsed:  1.0min\n",
            "[Parallel(n_jobs=-1)]: Done  30 tasks      | elapsed:  1.1min\n",
            "[Parallel(n_jobs=-1)]: Done  31 tasks      | elapsed:  1.1min\n",
            "[Parallel(n_jobs=-1)]: Done  32 tasks      | elapsed:  1.1min\n",
            "[Parallel(n_jobs=-1)]: Done  33 tasks      | elapsed:  1.1min\n",
            "[Parallel(n_jobs=-1)]: Done  34 tasks      | elapsed:  1.2min\n",
            "[Parallel(n_jobs=-1)]: Done  35 tasks      | elapsed:  1.2min\n",
            "[Parallel(n_jobs=-1)]: Done  36 tasks      | elapsed:  1.2min\n",
            "[Parallel(n_jobs=-1)]: Done  37 tasks      | elapsed:  1.3min\n",
            "[Parallel(n_jobs=-1)]: Done  38 tasks      | elapsed:  1.3min\n",
            "[Parallel(n_jobs=-1)]: Done  39 tasks      | elapsed:  1.4min\n",
            "[Parallel(n_jobs=-1)]: Done  40 tasks      | elapsed:  1.4min\n",
            "[Parallel(n_jobs=-1)]: Done  41 tasks      | elapsed:  1.4min\n",
            "[Parallel(n_jobs=-1)]: Done  42 tasks      | elapsed:  1.4min\n",
            "[Parallel(n_jobs=-1)]: Done  43 tasks      | elapsed:  1.5min\n",
            "[Parallel(n_jobs=-1)]: Done  44 tasks      | elapsed:  1.5min\n",
            "[Parallel(n_jobs=-1)]: Done  45 tasks      | elapsed:  1.6min\n",
            "[Parallel(n_jobs=-1)]: Done  46 tasks      | elapsed:  1.6min\n",
            "[Parallel(n_jobs=-1)]: Done  47 tasks      | elapsed:  1.6min\n",
            "[Parallel(n_jobs=-1)]: Done  48 tasks      | elapsed:  1.7min\n",
            "[Parallel(n_jobs=-1)]: Done  49 tasks      | elapsed:  1.7min\n",
            "[Parallel(n_jobs=-1)]: Done  50 tasks      | elapsed:  1.8min\n",
            "[Parallel(n_jobs=-1)]: Done  51 tasks      | elapsed:  1.8min\n",
            "[Parallel(n_jobs=-1)]: Done  52 tasks      | elapsed:  1.8min\n",
            "[Parallel(n_jobs=-1)]: Done  53 tasks      | elapsed:  1.9min\n",
            "[Parallel(n_jobs=-1)]: Done  54 tasks      | elapsed:  1.9min\n",
            "[Parallel(n_jobs=-1)]: Done  55 tasks      | elapsed:  1.9min\n",
            "[Parallel(n_jobs=-1)]: Done  56 tasks      | elapsed:  2.0min\n",
            "[Parallel(n_jobs=-1)]: Done  57 tasks      | elapsed:  2.0min\n",
            "[Parallel(n_jobs=-1)]: Done  58 tasks      | elapsed:  2.0min\n",
            "[Parallel(n_jobs=-1)]: Done  59 tasks      | elapsed:  2.0min\n",
            "[Parallel(n_jobs=-1)]: Done  60 tasks      | elapsed:  2.1min\n",
            "[Parallel(n_jobs=-1)]: Done  61 tasks      | elapsed:  2.1min\n",
            "[Parallel(n_jobs=-1)]: Done  62 tasks      | elapsed:  2.2min\n",
            "[Parallel(n_jobs=-1)]: Done  63 tasks      | elapsed:  2.2min\n",
            "[Parallel(n_jobs=-1)]: Done  64 tasks      | elapsed:  2.2min\n",
            "[Parallel(n_jobs=-1)]: Done  65 tasks      | elapsed:  2.2min\n",
            "[Parallel(n_jobs=-1)]: Done  66 tasks      | elapsed:  2.3min\n",
            "[Parallel(n_jobs=-1)]: Done  67 tasks      | elapsed:  2.3min\n",
            "[Parallel(n_jobs=-1)]: Done  68 tasks      | elapsed:  2.4min\n",
            "[Parallel(n_jobs=-1)]: Done  69 tasks      | elapsed:  2.4min\n",
            "[Parallel(n_jobs=-1)]: Done  70 tasks      | elapsed:  2.4min\n",
            "[Parallel(n_jobs=-1)]: Done  71 tasks      | elapsed:  2.4min\n",
            "[Parallel(n_jobs=-1)]: Done  72 tasks      | elapsed:  2.5min\n",
            "[Parallel(n_jobs=-1)]: Done  73 tasks      | elapsed:  2.5min\n",
            "[Parallel(n_jobs=-1)]: Done  74 tasks      | elapsed:  2.6min\n",
            "[Parallel(n_jobs=-1)]: Done  75 tasks      | elapsed:  2.6min\n",
            "[Parallel(n_jobs=-1)]: Done  76 tasks      | elapsed:  2.7min\n",
            "[Parallel(n_jobs=-1)]: Done  77 tasks      | elapsed:  2.7min\n",
            "[Parallel(n_jobs=-1)]: Done  78 tasks      | elapsed:  2.7min\n",
            "[Parallel(n_jobs=-1)]: Done  79 tasks      | elapsed:  2.7min\n",
            "[Parallel(n_jobs=-1)]: Done  80 tasks      | elapsed:  2.8min\n",
            "[Parallel(n_jobs=-1)]: Done  81 tasks      | elapsed:  2.8min\n",
            "[Parallel(n_jobs=-1)]: Done  82 tasks      | elapsed:  2.9min\n",
            "[Parallel(n_jobs=-1)]: Done  83 tasks      | elapsed:  2.9min\n",
            "[Parallel(n_jobs=-1)]: Done  84 tasks      | elapsed:  2.9min\n",
            "[Parallel(n_jobs=-1)]: Done  85 tasks      | elapsed:  2.9min\n",
            "[Parallel(n_jobs=-1)]: Done  86 tasks      | elapsed:  3.0min\n",
            "[Parallel(n_jobs=-1)]: Done  87 tasks      | elapsed:  3.0min\n",
            "[Parallel(n_jobs=-1)]: Done  88 tasks      | elapsed:  3.1min\n",
            "[Parallel(n_jobs=-1)]: Done  89 tasks      | elapsed:  3.1min\n",
            "[Parallel(n_jobs=-1)]: Done  90 tasks      | elapsed:  3.1min\n",
            "[Parallel(n_jobs=-1)]: Done  91 tasks      | elapsed:  3.2min\n",
            "[Parallel(n_jobs=-1)]: Done  92 tasks      | elapsed:  3.2min\n",
            "[Parallel(n_jobs=-1)]: Done  93 tasks      | elapsed:  3.2min\n",
            "[Parallel(n_jobs=-1)]: Done  94 tasks      | elapsed:  3.3min\n",
            "[Parallel(n_jobs=-1)]: Done  95 tasks      | elapsed:  3.3min\n",
            "[Parallel(n_jobs=-1)]: Done  96 tasks      | elapsed:  3.4min\n",
            "[Parallel(n_jobs=-1)]: Done  97 tasks      | elapsed:  3.4min\n",
            "[Parallel(n_jobs=-1)]: Done  98 tasks      | elapsed:  3.4min\n",
            "[Parallel(n_jobs=-1)]: Done  99 tasks      | elapsed:  3.4min\n",
            "[Parallel(n_jobs=-1)]: Done 100 tasks      | elapsed:  3.5min\n",
            "[Parallel(n_jobs=-1)]: Done 101 tasks      | elapsed:  3.5min\n",
            "[Parallel(n_jobs=-1)]: Done 102 tasks      | elapsed:  3.6min\n",
            "[Parallel(n_jobs=-1)]: Done 103 tasks      | elapsed:  3.6min\n",
            "[Parallel(n_jobs=-1)]: Done 104 tasks      | elapsed:  3.6min\n",
            "[Parallel(n_jobs=-1)]: Done 105 tasks      | elapsed:  3.6min\n",
            "[Parallel(n_jobs=-1)]: Done 106 tasks      | elapsed:  3.7min\n",
            "[Parallel(n_jobs=-1)]: Done 107 tasks      | elapsed:  3.7min\n",
            "[Parallel(n_jobs=-1)]: Done 108 tasks      | elapsed:  3.8min\n",
            "[Parallel(n_jobs=-1)]: Done 109 tasks      | elapsed:  3.8min\n",
            "[Parallel(n_jobs=-1)]: Done 110 tasks      | elapsed:  3.8min\n",
            "[Parallel(n_jobs=-1)]: Done 111 tasks      | elapsed:  3.8min\n",
            "[Parallel(n_jobs=-1)]: Done 112 tasks      | elapsed:  3.9min\n",
            "[Parallel(n_jobs=-1)]: Done 113 tasks      | elapsed:  3.9min\n",
            "[Parallel(n_jobs=-1)]: Done 114 tasks      | elapsed:  3.9min\n",
            "[Parallel(n_jobs=-1)]: Done 115 tasks      | elapsed:  4.0min\n",
            "[Parallel(n_jobs=-1)]: Done 116 tasks      | elapsed:  4.0min\n",
            "[Parallel(n_jobs=-1)]: Done 117 tasks      | elapsed:  4.1min\n",
            "[Parallel(n_jobs=-1)]: Done 118 tasks      | elapsed:  4.1min\n",
            "[Parallel(n_jobs=-1)]: Done 119 tasks      | elapsed:  4.1min\n",
            "[Parallel(n_jobs=-1)]: Done 120 tasks      | elapsed:  4.2min\n",
            "[Parallel(n_jobs=-1)]: Done 121 tasks      | elapsed:  4.2min\n",
            "[Parallel(n_jobs=-1)]: Done 122 tasks      | elapsed:  4.2min\n",
            "[Parallel(n_jobs=-1)]: Done 123 tasks      | elapsed:  4.3min\n",
            "[Parallel(n_jobs=-1)]: Done 124 tasks      | elapsed:  4.3min\n",
            "[Parallel(n_jobs=-1)]: Done 125 tasks      | elapsed:  4.3min\n",
            "[Parallel(n_jobs=-1)]: Done 126 tasks      | elapsed:  4.4min\n",
            "[Parallel(n_jobs=-1)]: Done 127 tasks      | elapsed:  4.4min\n",
            "[Parallel(n_jobs=-1)]: Done 128 tasks      | elapsed:  4.4min\n",
            "[Parallel(n_jobs=-1)]: Done 129 tasks      | elapsed:  4.5min\n",
            "[Parallel(n_jobs=-1)]: Done 130 tasks      | elapsed:  4.5min\n",
            "[Parallel(n_jobs=-1)]: Done 131 tasks      | elapsed:  4.5min\n",
            "[Parallel(n_jobs=-1)]: Done 132 tasks      | elapsed:  4.6min\n",
            "[Parallel(n_jobs=-1)]: Done 133 tasks      | elapsed:  4.6min\n",
            "[Parallel(n_jobs=-1)]: Done 134 tasks      | elapsed:  4.7min\n",
            "[Parallel(n_jobs=-1)]: Done 135 tasks      | elapsed:  4.7min\n",
            "[Parallel(n_jobs=-1)]: Done 136 tasks      | elapsed:  4.7min\n",
            "[Parallel(n_jobs=-1)]: Done 137 tasks      | elapsed:  4.8min\n",
            "[Parallel(n_jobs=-1)]: Done 138 tasks      | elapsed:  4.8min\n",
            "[Parallel(n_jobs=-1)]: Done 139 tasks      | elapsed:  4.9min\n",
            "[Parallel(n_jobs=-1)]: Done 140 tasks      | elapsed:  4.9min\n",
            "[Parallel(n_jobs=-1)]: Done 141 tasks      | elapsed:  4.9min\n",
            "[Parallel(n_jobs=-1)]: Done 142 tasks      | elapsed:  4.9min\n",
            "[Parallel(n_jobs=-1)]: Done 143 tasks      | elapsed:  5.0min\n",
            "[Parallel(n_jobs=-1)]: Done 144 tasks      | elapsed:  5.0min\n",
            "[Parallel(n_jobs=-1)]: Done 145 tasks      | elapsed:  5.1min\n",
            "[Parallel(n_jobs=-1)]: Done 146 tasks      | elapsed:  5.1min\n",
            "[Parallel(n_jobs=-1)]: Done 147 tasks      | elapsed:  5.1min\n",
            "[Parallel(n_jobs=-1)]: Done 148 tasks      | elapsed:  5.1min\n",
            "[Parallel(n_jobs=-1)]: Done 149 tasks      | elapsed:  5.2min\n",
            "[Parallel(n_jobs=-1)]: Done 150 tasks      | elapsed:  5.2min\n",
            "[Parallel(n_jobs=-1)]: Done 151 tasks      | elapsed:  5.3min\n",
            "[Parallel(n_jobs=-1)]: Done 152 tasks      | elapsed:  5.3min\n",
            "[Parallel(n_jobs=-1)]: Done 153 tasks      | elapsed:  5.3min\n",
            "[Parallel(n_jobs=-1)]: Done 154 tasks      | elapsed:  5.3min\n",
            "[Parallel(n_jobs=-1)]: Done 155 tasks      | elapsed:  5.4min\n",
            "[Parallel(n_jobs=-1)]: Done 156 tasks      | elapsed:  5.4min\n",
            "[Parallel(n_jobs=-1)]: Done 157 tasks      | elapsed:  5.5min\n",
            "[Parallel(n_jobs=-1)]: Done 158 tasks      | elapsed:  5.5min\n",
            "[Parallel(n_jobs=-1)]: Done 159 tasks      | elapsed:  5.5min\n",
            "[Parallel(n_jobs=-1)]: Done 160 tasks      | elapsed:  5.6min\n",
            "[Parallel(n_jobs=-1)]: Done 161 tasks      | elapsed:  5.6min\n",
            "[Parallel(n_jobs=-1)]: Done 162 tasks      | elapsed:  5.6min\n",
            "[Parallel(n_jobs=-1)]: Done 163 tasks      | elapsed:  5.7min\n",
            "[Parallel(n_jobs=-1)]: Done 164 tasks      | elapsed:  5.7min\n",
            "[Parallel(n_jobs=-1)]: Done 165 tasks      | elapsed:  5.7min\n",
            "[Parallel(n_jobs=-1)]: Done 166 tasks      | elapsed:  5.8min\n",
            "[Parallel(n_jobs=-1)]: Done 167 tasks      | elapsed:  5.8min\n",
            "[Parallel(n_jobs=-1)]: Done 168 tasks      | elapsed:  5.9min\n",
            "[Parallel(n_jobs=-1)]: Done 169 tasks      | elapsed:  5.9min\n",
            "[Parallel(n_jobs=-1)]: Done 170 tasks      | elapsed:  5.9min\n",
            "[Parallel(n_jobs=-1)]: Done 171 tasks      | elapsed:  5.9min\n",
            "[Parallel(n_jobs=-1)]: Done 172 tasks      | elapsed:  6.0min\n",
            "[Parallel(n_jobs=-1)]: Done 173 tasks      | elapsed:  6.0min\n",
            "[Parallel(n_jobs=-1)]: Done 174 tasks      | elapsed:  6.1min\n",
            "[Parallel(n_jobs=-1)]: Done 175 tasks      | elapsed:  6.1min\n",
            "[Parallel(n_jobs=-1)]: Done 176 tasks      | elapsed:  6.1min\n",
            "[Parallel(n_jobs=-1)]: Done 177 tasks      | elapsed:  6.2min\n",
            "[Parallel(n_jobs=-1)]: Done 178 tasks      | elapsed:  6.2min\n",
            "[Parallel(n_jobs=-1)]: Done 179 tasks      | elapsed:  6.2min\n",
            "[Parallel(n_jobs=-1)]: Done 180 tasks      | elapsed:  6.3min\n",
            "[Parallel(n_jobs=-1)]: Done 181 tasks      | elapsed:  6.3min\n",
            "[Parallel(n_jobs=-1)]: Done 182 tasks      | elapsed:  6.3min\n",
            "[Parallel(n_jobs=-1)]: Done 183 tasks      | elapsed:  6.4min\n",
            "[Parallel(n_jobs=-1)]: Done 184 tasks      | elapsed:  6.4min\n",
            "[Parallel(n_jobs=-1)]: Done 185 tasks      | elapsed:  6.4min\n",
            "[Parallel(n_jobs=-1)]: Done 186 tasks      | elapsed:  6.5min\n",
            "[Parallel(n_jobs=-1)]: Done 187 tasks      | elapsed:  6.5min\n",
            "[Parallel(n_jobs=-1)]: Done 188 tasks      | elapsed:  6.6min\n",
            "[Parallel(n_jobs=-1)]: Done 189 tasks      | elapsed:  6.6min\n",
            "[Parallel(n_jobs=-1)]: Done 190 tasks      | elapsed:  6.6min\n",
            "[Parallel(n_jobs=-1)]: Done 191 tasks      | elapsed:  6.6min\n",
            "[Parallel(n_jobs=-1)]: Done 192 tasks      | elapsed:  6.7min\n",
            "[Parallel(n_jobs=-1)]: Done 193 tasks      | elapsed:  6.7min\n",
            "[Parallel(n_jobs=-1)]: Done 194 tasks      | elapsed:  6.8min\n",
            "[Parallel(n_jobs=-1)]: Done 195 tasks      | elapsed:  6.8min\n",
            "[Parallel(n_jobs=-1)]: Done 196 tasks      | elapsed:  6.8min\n",
            "[Parallel(n_jobs=-1)]: Done 197 tasks      | elapsed:  6.8min\n",
            "[Parallel(n_jobs=-1)]: Done 200 out of 200 | elapsed:  7.0min finished\n",
            "[Parallel(n_jobs=2)]: Using backend ThreadingBackend with 2 concurrent workers.\n",
            "[Parallel(n_jobs=2)]: Done   1 tasks      | elapsed:    0.0s\n",
            "[Parallel(n_jobs=2)]: Done   2 tasks      | elapsed:    0.0s\n",
            "[Parallel(n_jobs=2)]: Done   3 tasks      | elapsed:    0.0s\n",
            "[Parallel(n_jobs=2)]: Done   4 tasks      | elapsed:    0.0s\n",
            "[Parallel(n_jobs=2)]: Done   5 tasks      | elapsed:    0.0s\n",
            "[Parallel(n_jobs=2)]: Done   6 tasks      | elapsed:    0.0s\n",
            "[Parallel(n_jobs=2)]: Done   7 tasks      | elapsed:    0.0s\n",
            "[Parallel(n_jobs=2)]: Done   8 tasks      | elapsed:    0.0s\n",
            "[Parallel(n_jobs=2)]: Done   9 tasks      | elapsed:    0.0s\n",
            "[Parallel(n_jobs=2)]: Done  10 tasks      | elapsed:    0.0s\n",
            "[Parallel(n_jobs=2)]: Done  11 tasks      | elapsed:    0.0s\n",
            "[Parallel(n_jobs=2)]: Done  12 tasks      | elapsed:    0.0s\n",
            "[Parallel(n_jobs=2)]: Done  13 tasks      | elapsed:    0.0s\n",
            "[Parallel(n_jobs=2)]: Done  14 tasks      | elapsed:    0.0s\n",
            "[Parallel(n_jobs=2)]: Done  15 tasks      | elapsed:    0.0s\n",
            "[Parallel(n_jobs=2)]: Done  16 tasks      | elapsed:    0.0s\n",
            "[Parallel(n_jobs=2)]: Done  17 tasks      | elapsed:    0.0s\n",
            "[Parallel(n_jobs=2)]: Done  18 tasks      | elapsed:    0.1s\n",
            "[Parallel(n_jobs=2)]: Done  19 tasks      | elapsed:    0.1s\n",
            "[Parallel(n_jobs=2)]: Done  20 tasks      | elapsed:    0.1s\n",
            "[Parallel(n_jobs=2)]: Done  21 tasks      | elapsed:    0.1s\n",
            "[Parallel(n_jobs=2)]: Done  22 tasks      | elapsed:    0.1s\n",
            "[Parallel(n_jobs=2)]: Done  23 tasks      | elapsed:    0.1s\n",
            "[Parallel(n_jobs=2)]: Done  24 tasks      | elapsed:    0.1s\n",
            "[Parallel(n_jobs=2)]: Done  25 tasks      | elapsed:    0.1s\n",
            "[Parallel(n_jobs=2)]: Done  26 tasks      | elapsed:    0.1s\n",
            "[Parallel(n_jobs=2)]: Done  27 tasks      | elapsed:    0.1s\n",
            "[Parallel(n_jobs=2)]: Done  28 tasks      | elapsed:    0.1s\n",
            "[Parallel(n_jobs=2)]: Done  29 tasks      | elapsed:    0.1s\n",
            "[Parallel(n_jobs=2)]: Done  30 tasks      | elapsed:    0.1s\n",
            "[Parallel(n_jobs=2)]: Done  31 tasks      | elapsed:    0.1s\n",
            "[Parallel(n_jobs=2)]: Done  32 tasks      | elapsed:    0.1s\n",
            "[Parallel(n_jobs=2)]: Done  33 tasks      | elapsed:    0.1s\n",
            "[Parallel(n_jobs=2)]: Done  34 tasks      | elapsed:    0.1s\n",
            "[Parallel(n_jobs=2)]: Done  35 tasks      | elapsed:    0.1s\n",
            "[Parallel(n_jobs=2)]: Done  36 tasks      | elapsed:    0.1s\n"
          ],
          "name": "stderr"
        },
        {
          "output_type": "stream",
          "text": [
            "Using ThreadingBackend as joblib.Parallel backend instead of LokyBackend as the latter does not provide shared memory semantics.\n"
          ],
          "name": "stdout"
        },
        {
          "output_type": "stream",
          "text": [
            "[Parallel(n_jobs=2)]: Done  37 tasks      | elapsed:    0.1s\n",
            "[Parallel(n_jobs=2)]: Done  38 tasks      | elapsed:    0.1s\n",
            "[Parallel(n_jobs=2)]: Done  39 tasks      | elapsed:    0.1s\n",
            "[Parallel(n_jobs=2)]: Done  40 tasks      | elapsed:    0.1s\n",
            "[Parallel(n_jobs=2)]: Done  41 tasks      | elapsed:    0.1s\n",
            "[Parallel(n_jobs=2)]: Done  42 tasks      | elapsed:    0.1s\n",
            "[Parallel(n_jobs=2)]: Done  43 tasks      | elapsed:    0.1s\n",
            "[Parallel(n_jobs=2)]: Done  44 tasks      | elapsed:    0.1s\n",
            "[Parallel(n_jobs=2)]: Done  45 tasks      | elapsed:    0.1s\n",
            "[Parallel(n_jobs=2)]: Done  46 tasks      | elapsed:    0.1s\n",
            "[Parallel(n_jobs=2)]: Done  47 tasks      | elapsed:    0.1s\n",
            "[Parallel(n_jobs=2)]: Done  48 tasks      | elapsed:    0.1s\n",
            "[Parallel(n_jobs=2)]: Done  49 tasks      | elapsed:    0.1s\n",
            "[Parallel(n_jobs=2)]: Done  50 tasks      | elapsed:    0.1s\n",
            "[Parallel(n_jobs=2)]: Done  51 tasks      | elapsed:    0.1s\n",
            "[Parallel(n_jobs=2)]: Done  52 tasks      | elapsed:    0.1s\n",
            "[Parallel(n_jobs=2)]: Done  53 tasks      | elapsed:    0.1s\n",
            "[Parallel(n_jobs=2)]: Done  54 tasks      | elapsed:    0.1s\n",
            "[Parallel(n_jobs=2)]: Done  55 tasks      | elapsed:    0.2s\n",
            "[Parallel(n_jobs=2)]: Done  56 tasks      | elapsed:    0.2s\n",
            "[Parallel(n_jobs=2)]: Done  57 tasks      | elapsed:    0.2s\n",
            "[Parallel(n_jobs=2)]: Done  58 tasks      | elapsed:    0.2s\n",
            "[Parallel(n_jobs=2)]: Done  59 tasks      | elapsed:    0.2s\n",
            "[Parallel(n_jobs=2)]: Done  60 tasks      | elapsed:    0.2s\n",
            "[Parallel(n_jobs=2)]: Done  61 tasks      | elapsed:    0.2s\n",
            "[Parallel(n_jobs=2)]: Done  62 tasks      | elapsed:    0.2s\n",
            "[Parallel(n_jobs=2)]: Done  63 tasks      | elapsed:    0.2s\n",
            "[Parallel(n_jobs=2)]: Done  64 tasks      | elapsed:    0.2s\n",
            "[Parallel(n_jobs=2)]: Done  65 tasks      | elapsed:    0.2s\n",
            "[Parallel(n_jobs=2)]: Done  66 tasks      | elapsed:    0.2s\n",
            "[Parallel(n_jobs=2)]: Done  67 tasks      | elapsed:    0.2s\n",
            "[Parallel(n_jobs=2)]: Done  68 tasks      | elapsed:    0.2s\n",
            "[Parallel(n_jobs=2)]: Done  69 tasks      | elapsed:    0.2s\n",
            "[Parallel(n_jobs=2)]: Done  70 tasks      | elapsed:    0.2s\n",
            "[Parallel(n_jobs=2)]: Done  71 tasks      | elapsed:    0.2s\n",
            "[Parallel(n_jobs=2)]: Done  72 tasks      | elapsed:    0.2s\n",
            "[Parallel(n_jobs=2)]: Done  73 tasks      | elapsed:    0.2s\n",
            "[Parallel(n_jobs=2)]: Done  74 tasks      | elapsed:    0.2s\n",
            "[Parallel(n_jobs=2)]: Done  75 tasks      | elapsed:    0.2s\n",
            "[Parallel(n_jobs=2)]: Done  76 tasks      | elapsed:    0.2s\n",
            "[Parallel(n_jobs=2)]: Done  77 tasks      | elapsed:    0.2s\n",
            "[Parallel(n_jobs=2)]: Done  78 tasks      | elapsed:    0.2s\n",
            "[Parallel(n_jobs=2)]: Done  79 tasks      | elapsed:    0.2s\n",
            "[Parallel(n_jobs=2)]: Done  80 tasks      | elapsed:    0.2s\n",
            "[Parallel(n_jobs=2)]: Done  81 tasks      | elapsed:    0.2s\n",
            "[Parallel(n_jobs=2)]: Done  82 tasks      | elapsed:    0.2s\n",
            "[Parallel(n_jobs=2)]: Done  83 tasks      | elapsed:    0.2s\n",
            "[Parallel(n_jobs=2)]: Done  84 tasks      | elapsed:    0.2s\n",
            "[Parallel(n_jobs=2)]: Done  85 tasks      | elapsed:    0.2s\n",
            "[Parallel(n_jobs=2)]: Done  86 tasks      | elapsed:    0.2s\n",
            "[Parallel(n_jobs=2)]: Done  87 tasks      | elapsed:    0.2s\n",
            "[Parallel(n_jobs=2)]: Done  88 tasks      | elapsed:    0.2s\n",
            "[Parallel(n_jobs=2)]: Done  89 tasks      | elapsed:    0.2s\n",
            "[Parallel(n_jobs=2)]: Done  90 tasks      | elapsed:    0.2s\n",
            "[Parallel(n_jobs=2)]: Done  91 tasks      | elapsed:    0.2s\n",
            "[Parallel(n_jobs=2)]: Done  92 tasks      | elapsed:    0.3s\n",
            "[Parallel(n_jobs=2)]: Done  93 tasks      | elapsed:    0.3s\n",
            "[Parallel(n_jobs=2)]: Done  94 tasks      | elapsed:    0.3s\n",
            "[Parallel(n_jobs=2)]: Done  95 tasks      | elapsed:    0.3s\n",
            "[Parallel(n_jobs=2)]: Done  96 tasks      | elapsed:    0.3s\n",
            "[Parallel(n_jobs=2)]: Done  97 tasks      | elapsed:    0.3s\n",
            "[Parallel(n_jobs=2)]: Done  98 tasks      | elapsed:    0.3s\n",
            "[Parallel(n_jobs=2)]: Done  99 tasks      | elapsed:    0.3s\n",
            "[Parallel(n_jobs=2)]: Done 100 tasks      | elapsed:    0.3s\n",
            "[Parallel(n_jobs=2)]: Done 101 tasks      | elapsed:    0.3s\n",
            "[Parallel(n_jobs=2)]: Done 102 tasks      | elapsed:    0.3s\n",
            "[Parallel(n_jobs=2)]: Done 103 tasks      | elapsed:    0.3s\n",
            "[Parallel(n_jobs=2)]: Done 104 tasks      | elapsed:    0.3s\n",
            "[Parallel(n_jobs=2)]: Done 105 tasks      | elapsed:    0.3s\n",
            "[Parallel(n_jobs=2)]: Done 106 tasks      | elapsed:    0.3s\n",
            "[Parallel(n_jobs=2)]: Done 107 tasks      | elapsed:    0.3s\n",
            "[Parallel(n_jobs=2)]: Done 108 tasks      | elapsed:    0.3s\n",
            "[Parallel(n_jobs=2)]: Done 109 tasks      | elapsed:    0.3s\n",
            "[Parallel(n_jobs=2)]: Done 110 tasks      | elapsed:    0.3s\n",
            "[Parallel(n_jobs=2)]: Done 111 tasks      | elapsed:    0.3s\n",
            "[Parallel(n_jobs=2)]: Done 112 tasks      | elapsed:    0.3s\n",
            "[Parallel(n_jobs=2)]: Done 113 tasks      | elapsed:    0.3s\n",
            "[Parallel(n_jobs=2)]: Done 114 tasks      | elapsed:    0.3s\n",
            "[Parallel(n_jobs=2)]: Done 115 tasks      | elapsed:    0.3s\n",
            "[Parallel(n_jobs=2)]: Done 116 tasks      | elapsed:    0.3s\n",
            "[Parallel(n_jobs=2)]: Done 117 tasks      | elapsed:    0.3s\n",
            "[Parallel(n_jobs=2)]: Done 118 tasks      | elapsed:    0.3s\n",
            "[Parallel(n_jobs=2)]: Done 119 tasks      | elapsed:    0.3s\n",
            "[Parallel(n_jobs=2)]: Done 120 tasks      | elapsed:    0.3s\n",
            "[Parallel(n_jobs=2)]: Done 121 tasks      | elapsed:    0.3s\n",
            "[Parallel(n_jobs=2)]: Done 122 tasks      | elapsed:    0.3s\n",
            "[Parallel(n_jobs=2)]: Done 123 tasks      | elapsed:    0.3s\n",
            "[Parallel(n_jobs=2)]: Done 124 tasks      | elapsed:    0.3s\n",
            "[Parallel(n_jobs=2)]: Done 125 tasks      | elapsed:    0.4s\n",
            "[Parallel(n_jobs=2)]: Done 126 tasks      | elapsed:    0.4s\n",
            "[Parallel(n_jobs=2)]: Done 127 tasks      | elapsed:    0.4s\n",
            "[Parallel(n_jobs=2)]: Done 128 tasks      | elapsed:    0.4s\n",
            "[Parallel(n_jobs=2)]: Done 129 tasks      | elapsed:    0.4s\n",
            "[Parallel(n_jobs=2)]: Done 130 tasks      | elapsed:    0.4s\n",
            "[Parallel(n_jobs=2)]: Done 131 tasks      | elapsed:    0.4s\n",
            "[Parallel(n_jobs=2)]: Done 132 tasks      | elapsed:    0.4s\n",
            "[Parallel(n_jobs=2)]: Done 133 tasks      | elapsed:    0.4s\n",
            "[Parallel(n_jobs=2)]: Done 134 tasks      | elapsed:    0.4s\n",
            "[Parallel(n_jobs=2)]: Done 135 tasks      | elapsed:    0.4s\n",
            "[Parallel(n_jobs=2)]: Done 136 tasks      | elapsed:    0.4s\n",
            "[Parallel(n_jobs=2)]: Done 137 tasks      | elapsed:    0.4s\n",
            "[Parallel(n_jobs=2)]: Done 138 tasks      | elapsed:    0.4s\n",
            "[Parallel(n_jobs=2)]: Done 139 tasks      | elapsed:    0.4s\n",
            "[Parallel(n_jobs=2)]: Done 140 tasks      | elapsed:    0.4s\n",
            "[Parallel(n_jobs=2)]: Done 141 tasks      | elapsed:    0.4s\n",
            "[Parallel(n_jobs=2)]: Done 142 tasks      | elapsed:    0.4s\n",
            "[Parallel(n_jobs=2)]: Done 143 tasks      | elapsed:    0.4s\n",
            "[Parallel(n_jobs=2)]: Done 144 tasks      | elapsed:    0.4s\n",
            "[Parallel(n_jobs=2)]: Done 145 tasks      | elapsed:    0.4s\n",
            "[Parallel(n_jobs=2)]: Done 146 tasks      | elapsed:    0.4s\n",
            "[Parallel(n_jobs=2)]: Done 147 tasks      | elapsed:    0.4s\n",
            "[Parallel(n_jobs=2)]: Done 148 tasks      | elapsed:    0.4s\n",
            "[Parallel(n_jobs=2)]: Done 149 tasks      | elapsed:    0.4s\n",
            "[Parallel(n_jobs=2)]: Done 150 tasks      | elapsed:    0.4s\n",
            "[Parallel(n_jobs=2)]: Done 151 tasks      | elapsed:    0.4s\n",
            "[Parallel(n_jobs=2)]: Done 152 tasks      | elapsed:    0.4s\n",
            "[Parallel(n_jobs=2)]: Done 153 tasks      | elapsed:    0.4s\n",
            "[Parallel(n_jobs=2)]: Done 154 tasks      | elapsed:    0.4s\n",
            "[Parallel(n_jobs=2)]: Done 155 tasks      | elapsed:    0.4s\n",
            "[Parallel(n_jobs=2)]: Done 156 tasks      | elapsed:    0.4s\n",
            "[Parallel(n_jobs=2)]: Done 157 tasks      | elapsed:    0.4s\n",
            "[Parallel(n_jobs=2)]: Done 158 tasks      | elapsed:    0.4s\n",
            "[Parallel(n_jobs=2)]: Done 159 tasks      | elapsed:    0.4s\n",
            "[Parallel(n_jobs=2)]: Done 160 tasks      | elapsed:    0.4s\n",
            "[Parallel(n_jobs=2)]: Done 161 tasks      | elapsed:    0.4s\n",
            "[Parallel(n_jobs=2)]: Done 162 tasks      | elapsed:    0.4s\n",
            "[Parallel(n_jobs=2)]: Done 163 tasks      | elapsed:    0.4s\n",
            "[Parallel(n_jobs=2)]: Done 164 tasks      | elapsed:    0.4s\n",
            "[Parallel(n_jobs=2)]: Done 165 tasks      | elapsed:    0.5s\n",
            "[Parallel(n_jobs=2)]: Done 166 tasks      | elapsed:    0.5s\n",
            "[Parallel(n_jobs=2)]: Done 167 tasks      | elapsed:    0.5s\n",
            "[Parallel(n_jobs=2)]: Done 168 tasks      | elapsed:    0.5s\n",
            "[Parallel(n_jobs=2)]: Done 169 tasks      | elapsed:    0.5s\n",
            "[Parallel(n_jobs=2)]: Done 170 tasks      | elapsed:    0.5s\n",
            "[Parallel(n_jobs=2)]: Done 171 tasks      | elapsed:    0.5s\n",
            "[Parallel(n_jobs=2)]: Done 172 tasks      | elapsed:    0.5s\n",
            "[Parallel(n_jobs=2)]: Done 173 tasks      | elapsed:    0.5s\n",
            "[Parallel(n_jobs=2)]: Done 174 tasks      | elapsed:    0.5s\n",
            "[Parallel(n_jobs=2)]: Done 175 tasks      | elapsed:    0.5s\n",
            "[Parallel(n_jobs=2)]: Done 176 tasks      | elapsed:    0.5s\n",
            "[Parallel(n_jobs=2)]: Done 177 tasks      | elapsed:    0.5s\n",
            "[Parallel(n_jobs=2)]: Done 178 tasks      | elapsed:    0.5s\n",
            "[Parallel(n_jobs=2)]: Done 179 tasks      | elapsed:    0.5s\n",
            "[Parallel(n_jobs=2)]: Done 180 tasks      | elapsed:    0.5s\n",
            "[Parallel(n_jobs=2)]: Done 181 tasks      | elapsed:    0.5s\n",
            "[Parallel(n_jobs=2)]: Done 182 tasks      | elapsed:    0.5s\n",
            "[Parallel(n_jobs=2)]: Done 183 tasks      | elapsed:    0.5s\n",
            "[Parallel(n_jobs=2)]: Done 184 tasks      | elapsed:    0.5s\n",
            "[Parallel(n_jobs=2)]: Done 185 tasks      | elapsed:    0.5s\n",
            "[Parallel(n_jobs=2)]: Done 186 tasks      | elapsed:    0.5s\n",
            "[Parallel(n_jobs=2)]: Done 187 tasks      | elapsed:    0.5s\n",
            "[Parallel(n_jobs=2)]: Done 188 tasks      | elapsed:    0.5s\n",
            "[Parallel(n_jobs=2)]: Done 189 tasks      | elapsed:    0.5s\n",
            "[Parallel(n_jobs=2)]: Done 190 tasks      | elapsed:    0.5s\n",
            "[Parallel(n_jobs=2)]: Done 191 tasks      | elapsed:    0.5s\n",
            "[Parallel(n_jobs=2)]: Done 192 tasks      | elapsed:    0.5s\n",
            "[Parallel(n_jobs=2)]: Done 193 tasks      | elapsed:    0.5s\n",
            "[Parallel(n_jobs=2)]: Done 194 tasks      | elapsed:    0.5s\n",
            "[Parallel(n_jobs=2)]: Done 195 tasks      | elapsed:    0.5s\n",
            "[Parallel(n_jobs=2)]: Done 196 tasks      | elapsed:    0.5s\n",
            "[Parallel(n_jobs=2)]: Done 197 tasks      | elapsed:    0.5s\n",
            "[Parallel(n_jobs=2)]: Done 200 out of 200 | elapsed:    0.5s finished\n",
            "[Parallel(n_jobs=-1)]: Using backend LokyBackend with 2 concurrent workers.\n",
            "[Parallel(n_jobs=-1)]: Done   1 tasks      | elapsed:    4.2s\n",
            "[Parallel(n_jobs=-1)]: Done   2 tasks      | elapsed:    4.3s\n",
            "[Parallel(n_jobs=-1)]: Done   3 tasks      | elapsed:    8.2s\n",
            "[Parallel(n_jobs=-1)]: Done   4 tasks      | elapsed:    8.6s\n",
            "[Parallel(n_jobs=-1)]: Done   5 tasks      | elapsed:   12.3s\n",
            "[Parallel(n_jobs=-1)]: Done   6 tasks      | elapsed:   12.4s\n",
            "[Parallel(n_jobs=-1)]: Done   7 tasks      | elapsed:   16.2s\n",
            "[Parallel(n_jobs=-1)]: Done   8 tasks      | elapsed:   16.5s\n",
            "[Parallel(n_jobs=-1)]: Done   9 tasks      | elapsed:   20.3s\n",
            "[Parallel(n_jobs=-1)]: Done  10 tasks      | elapsed:   20.9s\n",
            "[Parallel(n_jobs=-1)]: Done  11 tasks      | elapsed:   24.3s\n",
            "[Parallel(n_jobs=-1)]: Done  12 tasks      | elapsed:   25.1s\n",
            "[Parallel(n_jobs=-1)]: Done  13 tasks      | elapsed:   28.6s\n",
            "[Parallel(n_jobs=-1)]: Done  14 tasks      | elapsed:   28.9s\n",
            "[Parallel(n_jobs=-1)]: Done  15 tasks      | elapsed:   32.8s\n",
            "[Parallel(n_jobs=-1)]: Done  16 tasks      | elapsed:   33.0s\n",
            "[Parallel(n_jobs=-1)]: Done  17 tasks      | elapsed:   37.0s\n",
            "[Parallel(n_jobs=-1)]: Done  18 tasks      | elapsed:   37.9s\n",
            "[Parallel(n_jobs=-1)]: Done  19 tasks      | elapsed:   41.0s\n",
            "[Parallel(n_jobs=-1)]: Done  20 tasks      | elapsed:   42.6s\n",
            "[Parallel(n_jobs=-1)]: Done  21 tasks      | elapsed:   45.0s\n",
            "[Parallel(n_jobs=-1)]: Done  22 tasks      | elapsed:   46.5s\n",
            "[Parallel(n_jobs=-1)]: Done  23 tasks      | elapsed:   48.3s\n",
            "[Parallel(n_jobs=-1)]: Done  24 tasks      | elapsed:   50.5s\n",
            "[Parallel(n_jobs=-1)]: Done  25 tasks      | elapsed:   52.3s\n",
            "[Parallel(n_jobs=-1)]: Done  26 tasks      | elapsed:   55.3s\n",
            "[Parallel(n_jobs=-1)]: Done  27 tasks      | elapsed:   56.4s\n",
            "[Parallel(n_jobs=-1)]: Done  28 tasks      | elapsed:  1.0min\n",
            "[Parallel(n_jobs=-1)]: Done  29 tasks      | elapsed:  1.0min\n",
            "[Parallel(n_jobs=-1)]: Done  30 tasks      | elapsed:  1.1min\n",
            "[Parallel(n_jobs=-1)]: Done  31 tasks      | elapsed:  1.1min\n",
            "[Parallel(n_jobs=-1)]: Done  32 tasks      | elapsed:  1.1min\n",
            "[Parallel(n_jobs=-1)]: Done  33 tasks      | elapsed:  1.1min\n",
            "[Parallel(n_jobs=-1)]: Done  34 tasks      | elapsed:  1.2min\n",
            "[Parallel(n_jobs=-1)]: Done  35 tasks      | elapsed:  1.2min\n",
            "[Parallel(n_jobs=-1)]: Done  36 tasks      | elapsed:  1.3min\n",
            "[Parallel(n_jobs=-1)]: Done  37 tasks      | elapsed:  1.3min\n",
            "[Parallel(n_jobs=-1)]: Done  38 tasks      | elapsed:  1.3min\n",
            "[Parallel(n_jobs=-1)]: Done  39 tasks      | elapsed:  1.4min\n",
            "[Parallel(n_jobs=-1)]: Done  40 tasks      | elapsed:  1.4min\n",
            "[Parallel(n_jobs=-1)]: Done  41 tasks      | elapsed:  1.4min\n",
            "[Parallel(n_jobs=-1)]: Done  42 tasks      | elapsed:  1.5min\n",
            "[Parallel(n_jobs=-1)]: Done  43 tasks      | elapsed:  1.5min\n",
            "[Parallel(n_jobs=-1)]: Done  44 tasks      | elapsed:  1.5min\n",
            "[Parallel(n_jobs=-1)]: Done  45 tasks      | elapsed:  1.6min\n",
            "[Parallel(n_jobs=-1)]: Done  46 tasks      | elapsed:  1.6min\n",
            "[Parallel(n_jobs=-1)]: Done  47 tasks      | elapsed:  1.6min\n",
            "[Parallel(n_jobs=-1)]: Done  48 tasks      | elapsed:  1.7min\n",
            "[Parallel(n_jobs=-1)]: Done  49 tasks      | elapsed:  1.7min\n",
            "[Parallel(n_jobs=-1)]: Done  50 tasks      | elapsed:  1.7min\n",
            "[Parallel(n_jobs=-1)]: Done  51 tasks      | elapsed:  1.8min\n",
            "[Parallel(n_jobs=-1)]: Done  52 tasks      | elapsed:  1.8min\n",
            "[Parallel(n_jobs=-1)]: Done  53 tasks      | elapsed:  1.8min\n",
            "[Parallel(n_jobs=-1)]: Done  54 tasks      | elapsed:  1.9min\n",
            "[Parallel(n_jobs=-1)]: Done  55 tasks      | elapsed:  1.9min\n",
            "[Parallel(n_jobs=-1)]: Done  56 tasks      | elapsed:  2.0min\n",
            "[Parallel(n_jobs=-1)]: Done  57 tasks      | elapsed:  2.0min\n",
            "[Parallel(n_jobs=-1)]: Done  58 tasks      | elapsed:  2.0min\n",
            "[Parallel(n_jobs=-1)]: Done  59 tasks      | elapsed:  2.0min\n",
            "[Parallel(n_jobs=-1)]: Done  60 tasks      | elapsed:  2.1min\n",
            "[Parallel(n_jobs=-1)]: Done  61 tasks      | elapsed:  2.1min\n",
            "[Parallel(n_jobs=-1)]: Done  62 tasks      | elapsed:  2.2min\n",
            "[Parallel(n_jobs=-1)]: Done  63 tasks      | elapsed:  2.2min\n",
            "[Parallel(n_jobs=-1)]: Done  64 tasks      | elapsed:  2.2min\n",
            "[Parallel(n_jobs=-1)]: Done  65 tasks      | elapsed:  2.3min\n",
            "[Parallel(n_jobs=-1)]: Done  66 tasks      | elapsed:  2.3min\n",
            "[Parallel(n_jobs=-1)]: Done  67 tasks      | elapsed:  2.3min\n",
            "[Parallel(n_jobs=-1)]: Done  68 tasks      | elapsed:  2.4min\n",
            "[Parallel(n_jobs=-1)]: Done  69 tasks      | elapsed:  2.4min\n",
            "[Parallel(n_jobs=-1)]: Done  70 tasks      | elapsed:  2.5min\n",
            "[Parallel(n_jobs=-1)]: Done  71 tasks      | elapsed:  2.5min\n",
            "[Parallel(n_jobs=-1)]: Done  72 tasks      | elapsed:  2.5min\n",
            "[Parallel(n_jobs=-1)]: Done  73 tasks      | elapsed:  2.5min\n",
            "[Parallel(n_jobs=-1)]: Done  74 tasks      | elapsed:  2.6min\n",
            "[Parallel(n_jobs=-1)]: Done  75 tasks      | elapsed:  2.6min\n",
            "[Parallel(n_jobs=-1)]: Done  76 tasks      | elapsed:  2.7min\n",
            "[Parallel(n_jobs=-1)]: Done  77 tasks      | elapsed:  2.7min\n",
            "[Parallel(n_jobs=-1)]: Done  78 tasks      | elapsed:  2.7min\n",
            "[Parallel(n_jobs=-1)]: Done  79 tasks      | elapsed:  2.7min\n",
            "[Parallel(n_jobs=-1)]: Done  80 tasks      | elapsed:  2.8min\n",
            "[Parallel(n_jobs=-1)]: Done  81 tasks      | elapsed:  2.8min\n",
            "[Parallel(n_jobs=-1)]: Done  82 tasks      | elapsed:  2.9min\n",
            "[Parallel(n_jobs=-1)]: Done  83 tasks      | elapsed:  2.9min\n",
            "[Parallel(n_jobs=-1)]: Done  84 tasks      | elapsed:  2.9min\n",
            "[Parallel(n_jobs=-1)]: Done  85 tasks      | elapsed:  3.0min\n",
            "[Parallel(n_jobs=-1)]: Done  86 tasks      | elapsed:  3.0min\n",
            "[Parallel(n_jobs=-1)]: Done  87 tasks      | elapsed:  3.0min\n",
            "[Parallel(n_jobs=-1)]: Done  88 tasks      | elapsed:  3.1min\n",
            "[Parallel(n_jobs=-1)]: Done  89 tasks      | elapsed:  3.1min\n",
            "[Parallel(n_jobs=-1)]: Done  90 tasks      | elapsed:  3.1min\n",
            "[Parallel(n_jobs=-1)]: Done  91 tasks      | elapsed:  3.2min\n",
            "[Parallel(n_jobs=-1)]: Done  92 tasks      | elapsed:  3.2min\n",
            "[Parallel(n_jobs=-1)]: Done  93 tasks      | elapsed:  3.3min\n",
            "[Parallel(n_jobs=-1)]: Done  94 tasks      | elapsed:  3.3min\n",
            "[Parallel(n_jobs=-1)]: Done  95 tasks      | elapsed:  3.3min\n",
            "[Parallel(n_jobs=-1)]: Done  96 tasks      | elapsed:  3.3min\n",
            "[Parallel(n_jobs=-1)]: Done  97 tasks      | elapsed:  3.4min\n",
            "[Parallel(n_jobs=-1)]: Done  98 tasks      | elapsed:  3.4min\n",
            "[Parallel(n_jobs=-1)]: Done  99 tasks      | elapsed:  3.5min\n",
            "[Parallel(n_jobs=-1)]: Done 100 tasks      | elapsed:  3.5min\n",
            "[Parallel(n_jobs=-1)]: Done 101 tasks      | elapsed:  3.5min\n",
            "[Parallel(n_jobs=-1)]: Done 102 tasks      | elapsed:  3.6min\n",
            "[Parallel(n_jobs=-1)]: Done 103 tasks      | elapsed:  3.6min\n",
            "[Parallel(n_jobs=-1)]: Done 104 tasks      | elapsed:  3.6min\n",
            "[Parallel(n_jobs=-1)]: Done 105 tasks      | elapsed:  3.7min\n",
            "[Parallel(n_jobs=-1)]: Done 106 tasks      | elapsed:  3.7min\n",
            "[Parallel(n_jobs=-1)]: Done 107 tasks      | elapsed:  3.7min\n",
            "[Parallel(n_jobs=-1)]: Done 108 tasks      | elapsed:  3.8min\n",
            "[Parallel(n_jobs=-1)]: Done 109 tasks      | elapsed:  3.8min\n",
            "[Parallel(n_jobs=-1)]: Done 110 tasks      | elapsed:  3.9min\n",
            "[Parallel(n_jobs=-1)]: Done 111 tasks      | elapsed:  3.9min\n",
            "[Parallel(n_jobs=-1)]: Done 112 tasks      | elapsed:  3.9min\n",
            "[Parallel(n_jobs=-1)]: Done 113 tasks      | elapsed:  4.0min\n",
            "[Parallel(n_jobs=-1)]: Done 114 tasks      | elapsed:  4.0min\n",
            "[Parallel(n_jobs=-1)]: Done 115 tasks      | elapsed:  4.0min\n",
            "[Parallel(n_jobs=-1)]: Done 116 tasks      | elapsed:  4.1min\n",
            "[Parallel(n_jobs=-1)]: Done 117 tasks      | elapsed:  4.1min\n",
            "[Parallel(n_jobs=-1)]: Done 118 tasks      | elapsed:  4.2min\n",
            "[Parallel(n_jobs=-1)]: Done 119 tasks      | elapsed:  4.2min\n",
            "[Parallel(n_jobs=-1)]: Done 120 tasks      | elapsed:  4.2min\n",
            "[Parallel(n_jobs=-1)]: Done 121 tasks      | elapsed:  4.2min\n",
            "[Parallel(n_jobs=-1)]: Done 122 tasks      | elapsed:  4.3min\n",
            "[Parallel(n_jobs=-1)]: Done 123 tasks      | elapsed:  4.3min\n",
            "[Parallel(n_jobs=-1)]: Done 124 tasks      | elapsed:  4.4min\n",
            "[Parallel(n_jobs=-1)]: Done 125 tasks      | elapsed:  4.4min\n",
            "[Parallel(n_jobs=-1)]: Done 126 tasks      | elapsed:  4.4min\n",
            "[Parallel(n_jobs=-1)]: Done 127 tasks      | elapsed:  4.4min\n",
            "[Parallel(n_jobs=-1)]: Done 128 tasks      | elapsed:  4.5min\n",
            "[Parallel(n_jobs=-1)]: Done 129 tasks      | elapsed:  4.5min\n",
            "[Parallel(n_jobs=-1)]: Done 130 tasks      | elapsed:  4.6min\n",
            "[Parallel(n_jobs=-1)]: Done 131 tasks      | elapsed:  4.6min\n",
            "[Parallel(n_jobs=-1)]: Done 132 tasks      | elapsed:  4.7min\n",
            "[Parallel(n_jobs=-1)]: Done 133 tasks      | elapsed:  4.7min\n",
            "[Parallel(n_jobs=-1)]: Done 134 tasks      | elapsed:  4.7min\n",
            "[Parallel(n_jobs=-1)]: Done 135 tasks      | elapsed:  4.7min\n",
            "[Parallel(n_jobs=-1)]: Done 136 tasks      | elapsed:  4.8min\n",
            "[Parallel(n_jobs=-1)]: Done 137 tasks      | elapsed:  4.8min\n",
            "[Parallel(n_jobs=-1)]: Done 138 tasks      | elapsed:  4.9min\n",
            "[Parallel(n_jobs=-1)]: Done 139 tasks      | elapsed:  4.9min\n",
            "[Parallel(n_jobs=-1)]: Done 140 tasks      | elapsed:  4.9min\n",
            "[Parallel(n_jobs=-1)]: Done 141 tasks      | elapsed:  4.9min\n",
            "[Parallel(n_jobs=-1)]: Done 142 tasks      | elapsed:  5.0min\n",
            "[Parallel(n_jobs=-1)]: Done 143 tasks      | elapsed:  5.0min\n",
            "[Parallel(n_jobs=-1)]: Done 144 tasks      | elapsed:  5.1min\n",
            "[Parallel(n_jobs=-1)]: Done 145 tasks      | elapsed:  5.1min\n",
            "[Parallel(n_jobs=-1)]: Done 146 tasks      | elapsed:  5.1min\n",
            "[Parallel(n_jobs=-1)]: Done 147 tasks      | elapsed:  5.1min\n",
            "[Parallel(n_jobs=-1)]: Done 148 tasks      | elapsed:  5.2min\n",
            "[Parallel(n_jobs=-1)]: Done 149 tasks      | elapsed:  5.2min\n",
            "[Parallel(n_jobs=-1)]: Done 150 tasks      | elapsed:  5.3min\n",
            "[Parallel(n_jobs=-1)]: Done 151 tasks      | elapsed:  5.3min\n",
            "[Parallel(n_jobs=-1)]: Done 152 tasks      | elapsed:  5.3min\n",
            "[Parallel(n_jobs=-1)]: Done 153 tasks      | elapsed:  5.4min\n",
            "[Parallel(n_jobs=-1)]: Done 154 tasks      | elapsed:  5.4min\n",
            "[Parallel(n_jobs=-1)]: Done 155 tasks      | elapsed:  5.4min\n",
            "[Parallel(n_jobs=-1)]: Done 156 tasks      | elapsed:  5.5min\n",
            "[Parallel(n_jobs=-1)]: Done 157 tasks      | elapsed:  5.5min\n",
            "[Parallel(n_jobs=-1)]: Done 158 tasks      | elapsed:  5.5min\n",
            "[Parallel(n_jobs=-1)]: Done 159 tasks      | elapsed:  5.6min\n",
            "[Parallel(n_jobs=-1)]: Done 160 tasks      | elapsed:  5.6min\n",
            "[Parallel(n_jobs=-1)]: Done 161 tasks      | elapsed:  5.6min\n",
            "[Parallel(n_jobs=-1)]: Done 162 tasks      | elapsed:  5.7min\n",
            "[Parallel(n_jobs=-1)]: Done 163 tasks      | elapsed:  5.7min\n",
            "[Parallel(n_jobs=-1)]: Done 164 tasks      | elapsed:  5.7min\n",
            "[Parallel(n_jobs=-1)]: Done 165 tasks      | elapsed:  5.8min\n",
            "[Parallel(n_jobs=-1)]: Done 166 tasks      | elapsed:  5.8min\n",
            "[Parallel(n_jobs=-1)]: Done 167 tasks      | elapsed:  5.8min\n",
            "[Parallel(n_jobs=-1)]: Done 168 tasks      | elapsed:  5.9min\n",
            "[Parallel(n_jobs=-1)]: Done 169 tasks      | elapsed:  5.9min\n",
            "[Parallel(n_jobs=-1)]: Done 170 tasks      | elapsed:  6.0min\n",
            "[Parallel(n_jobs=-1)]: Done 171 tasks      | elapsed:  6.0min\n",
            "[Parallel(n_jobs=-1)]: Done 172 tasks      | elapsed:  6.0min\n",
            "[Parallel(n_jobs=-1)]: Done 173 tasks      | elapsed:  6.0min\n",
            "[Parallel(n_jobs=-1)]: Done 174 tasks      | elapsed:  6.1min\n",
            "[Parallel(n_jobs=-1)]: Done 175 tasks      | elapsed:  6.1min\n",
            "[Parallel(n_jobs=-1)]: Done 176 tasks      | elapsed:  6.2min\n",
            "[Parallel(n_jobs=-1)]: Done 177 tasks      | elapsed:  6.2min\n",
            "[Parallel(n_jobs=-1)]: Done 178 tasks      | elapsed:  6.2min\n",
            "[Parallel(n_jobs=-1)]: Done 179 tasks      | elapsed:  6.2min\n",
            "[Parallel(n_jobs=-1)]: Done 180 tasks      | elapsed:  6.3min\n",
            "[Parallel(n_jobs=-1)]: Done 181 tasks      | elapsed:  6.3min\n",
            "[Parallel(n_jobs=-1)]: Done 182 tasks      | elapsed:  6.4min\n",
            "[Parallel(n_jobs=-1)]: Done 183 tasks      | elapsed:  6.4min\n",
            "[Parallel(n_jobs=-1)]: Done 184 tasks      | elapsed:  6.5min\n",
            "[Parallel(n_jobs=-1)]: Done 185 tasks      | elapsed:  6.5min\n",
            "[Parallel(n_jobs=-1)]: Done 186 tasks      | elapsed:  6.5min\n",
            "[Parallel(n_jobs=-1)]: Done 187 tasks      | elapsed:  6.6min\n",
            "[Parallel(n_jobs=-1)]: Done 188 tasks      | elapsed:  6.6min\n",
            "[Parallel(n_jobs=-1)]: Done 189 tasks      | elapsed:  6.6min\n",
            "[Parallel(n_jobs=-1)]: Done 190 tasks      | elapsed:  6.7min\n",
            "[Parallel(n_jobs=-1)]: Done 191 tasks      | elapsed:  6.7min\n",
            "[Parallel(n_jobs=-1)]: Done 192 tasks      | elapsed:  6.7min\n",
            "[Parallel(n_jobs=-1)]: Done 193 tasks      | elapsed:  6.8min\n",
            "[Parallel(n_jobs=-1)]: Done 194 tasks      | elapsed:  6.8min\n",
            "[Parallel(n_jobs=-1)]: Done 195 tasks      | elapsed:  6.8min\n",
            "[Parallel(n_jobs=-1)]: Done 196 tasks      | elapsed:  6.9min\n",
            "[Parallel(n_jobs=-1)]: Done 197 tasks      | elapsed:  6.9min\n",
            "[Parallel(n_jobs=-1)]: Done 200 out of 200 | elapsed:  7.0min finished\n",
            "[Parallel(n_jobs=2)]: Using backend ThreadingBackend with 2 concurrent workers.\n",
            "[Parallel(n_jobs=2)]: Done   1 tasks      | elapsed:    0.0s\n",
            "[Parallel(n_jobs=2)]: Done   2 tasks      | elapsed:    0.0s\n",
            "[Parallel(n_jobs=2)]: Done   3 tasks      | elapsed:    0.0s\n",
            "[Parallel(n_jobs=2)]: Done   4 tasks      | elapsed:    0.0s\n",
            "[Parallel(n_jobs=2)]: Done   5 tasks      | elapsed:    0.0s\n",
            "[Parallel(n_jobs=2)]: Done   6 tasks      | elapsed:    0.0s\n",
            "[Parallel(n_jobs=2)]: Done   7 tasks      | elapsed:    0.0s\n",
            "[Parallel(n_jobs=2)]: Done   8 tasks      | elapsed:    0.0s\n",
            "[Parallel(n_jobs=2)]: Done   9 tasks      | elapsed:    0.0s\n",
            "[Parallel(n_jobs=2)]: Done  10 tasks      | elapsed:    0.0s\n",
            "[Parallel(n_jobs=2)]: Done  11 tasks      | elapsed:    0.0s\n",
            "[Parallel(n_jobs=2)]: Done  12 tasks      | elapsed:    0.0s\n",
            "[Parallel(n_jobs=2)]: Done  13 tasks      | elapsed:    0.0s\n",
            "[Parallel(n_jobs=2)]: Done  14 tasks      | elapsed:    0.0s\n",
            "[Parallel(n_jobs=2)]: Done  15 tasks      | elapsed:    0.0s\n",
            "[Parallel(n_jobs=2)]: Done  16 tasks      | elapsed:    0.0s\n",
            "[Parallel(n_jobs=2)]: Done  17 tasks      | elapsed:    0.0s\n",
            "[Parallel(n_jobs=2)]: Done  18 tasks      | elapsed:    0.1s\n",
            "[Parallel(n_jobs=2)]: Done  19 tasks      | elapsed:    0.1s\n",
            "[Parallel(n_jobs=2)]: Done  20 tasks      | elapsed:    0.1s\n",
            "[Parallel(n_jobs=2)]: Done  21 tasks      | elapsed:    0.1s\n",
            "[Parallel(n_jobs=2)]: Done  22 tasks      | elapsed:    0.1s\n",
            "[Parallel(n_jobs=2)]: Done  23 tasks      | elapsed:    0.1s\n",
            "[Parallel(n_jobs=2)]: Done  24 tasks      | elapsed:    0.1s\n",
            "[Parallel(n_jobs=2)]: Done  25 tasks      | elapsed:    0.1s\n",
            "[Parallel(n_jobs=2)]: Done  26 tasks      | elapsed:    0.1s\n",
            "[Parallel(n_jobs=2)]: Done  27 tasks      | elapsed:    0.1s\n",
            "[Parallel(n_jobs=2)]: Done  28 tasks      | elapsed:    0.1s\n",
            "[Parallel(n_jobs=2)]: Done  29 tasks      | elapsed:    0.1s\n",
            "[Parallel(n_jobs=2)]: Done  30 tasks      | elapsed:    0.1s\n",
            "[Parallel(n_jobs=2)]: Done  31 tasks      | elapsed:    0.1s\n",
            "[Parallel(n_jobs=2)]: Done  32 tasks      | elapsed:    0.1s\n",
            "[Parallel(n_jobs=2)]: Done  33 tasks      | elapsed:    0.1s\n",
            "[Parallel(n_jobs=2)]: Done  34 tasks      | elapsed:    0.1s\n"
          ],
          "name": "stderr"
        },
        {
          "output_type": "stream",
          "text": [
            "Using ThreadingBackend as joblib.Parallel backend instead of LokyBackend as the latter does not provide shared memory semantics.\n"
          ],
          "name": "stdout"
        },
        {
          "output_type": "stream",
          "text": [
            "[Parallel(n_jobs=2)]: Done  35 tasks      | elapsed:    0.1s\n",
            "[Parallel(n_jobs=2)]: Done  36 tasks      | elapsed:    0.1s\n",
            "[Parallel(n_jobs=2)]: Done  37 tasks      | elapsed:    0.1s\n",
            "[Parallel(n_jobs=2)]: Done  38 tasks      | elapsed:    0.1s\n",
            "[Parallel(n_jobs=2)]: Done  39 tasks      | elapsed:    0.1s\n",
            "[Parallel(n_jobs=2)]: Done  40 tasks      | elapsed:    0.1s\n",
            "[Parallel(n_jobs=2)]: Done  41 tasks      | elapsed:    0.1s\n",
            "[Parallel(n_jobs=2)]: Done  42 tasks      | elapsed:    0.1s\n",
            "[Parallel(n_jobs=2)]: Done  43 tasks      | elapsed:    0.1s\n",
            "[Parallel(n_jobs=2)]: Done  44 tasks      | elapsed:    0.1s\n",
            "[Parallel(n_jobs=2)]: Done  45 tasks      | elapsed:    0.1s\n",
            "[Parallel(n_jobs=2)]: Done  46 tasks      | elapsed:    0.1s\n",
            "[Parallel(n_jobs=2)]: Done  47 tasks      | elapsed:    0.1s\n",
            "[Parallel(n_jobs=2)]: Done  48 tasks      | elapsed:    0.1s\n",
            "[Parallel(n_jobs=2)]: Done  49 tasks      | elapsed:    0.1s\n",
            "[Parallel(n_jobs=2)]: Done  50 tasks      | elapsed:    0.1s\n",
            "[Parallel(n_jobs=2)]: Done  51 tasks      | elapsed:    0.2s\n",
            "[Parallel(n_jobs=2)]: Done  52 tasks      | elapsed:    0.2s\n",
            "[Parallel(n_jobs=2)]: Done  53 tasks      | elapsed:    0.2s\n",
            "[Parallel(n_jobs=2)]: Done  54 tasks      | elapsed:    0.2s\n",
            "[Parallel(n_jobs=2)]: Done  55 tasks      | elapsed:    0.2s\n",
            "[Parallel(n_jobs=2)]: Done  56 tasks      | elapsed:    0.2s\n",
            "[Parallel(n_jobs=2)]: Done  57 tasks      | elapsed:    0.2s\n",
            "[Parallel(n_jobs=2)]: Done  58 tasks      | elapsed:    0.2s\n",
            "[Parallel(n_jobs=2)]: Done  59 tasks      | elapsed:    0.2s\n",
            "[Parallel(n_jobs=2)]: Done  60 tasks      | elapsed:    0.2s\n",
            "[Parallel(n_jobs=2)]: Done  61 tasks      | elapsed:    0.2s\n",
            "[Parallel(n_jobs=2)]: Done  62 tasks      | elapsed:    0.2s\n",
            "[Parallel(n_jobs=2)]: Done  63 tasks      | elapsed:    0.2s\n",
            "[Parallel(n_jobs=2)]: Done  64 tasks      | elapsed:    0.2s\n",
            "[Parallel(n_jobs=2)]: Done  65 tasks      | elapsed:    0.2s\n",
            "[Parallel(n_jobs=2)]: Done  66 tasks      | elapsed:    0.2s\n",
            "[Parallel(n_jobs=2)]: Done  67 tasks      | elapsed:    0.2s\n",
            "[Parallel(n_jobs=2)]: Done  68 tasks      | elapsed:    0.2s\n",
            "[Parallel(n_jobs=2)]: Done  69 tasks      | elapsed:    0.2s\n",
            "[Parallel(n_jobs=2)]: Done  70 tasks      | elapsed:    0.2s\n",
            "[Parallel(n_jobs=2)]: Done  71 tasks      | elapsed:    0.2s\n",
            "[Parallel(n_jobs=2)]: Done  72 tasks      | elapsed:    0.2s\n",
            "[Parallel(n_jobs=2)]: Done  73 tasks      | elapsed:    0.2s\n",
            "[Parallel(n_jobs=2)]: Done  74 tasks      | elapsed:    0.2s\n",
            "[Parallel(n_jobs=2)]: Done  75 tasks      | elapsed:    0.2s\n",
            "[Parallel(n_jobs=2)]: Done  76 tasks      | elapsed:    0.2s\n",
            "[Parallel(n_jobs=2)]: Done  77 tasks      | elapsed:    0.2s\n",
            "[Parallel(n_jobs=2)]: Done  78 tasks      | elapsed:    0.2s\n",
            "[Parallel(n_jobs=2)]: Done  79 tasks      | elapsed:    0.2s\n",
            "[Parallel(n_jobs=2)]: Done  80 tasks      | elapsed:    0.2s\n",
            "[Parallel(n_jobs=2)]: Done  81 tasks      | elapsed:    0.2s\n",
            "[Parallel(n_jobs=2)]: Done  82 tasks      | elapsed:    0.2s\n",
            "[Parallel(n_jobs=2)]: Done  83 tasks      | elapsed:    0.2s\n",
            "[Parallel(n_jobs=2)]: Done  84 tasks      | elapsed:    0.2s\n",
            "[Parallel(n_jobs=2)]: Done  85 tasks      | elapsed:    0.2s\n",
            "[Parallel(n_jobs=2)]: Done  86 tasks      | elapsed:    0.2s\n",
            "[Parallel(n_jobs=2)]: Done  87 tasks      | elapsed:    0.2s\n",
            "[Parallel(n_jobs=2)]: Done  88 tasks      | elapsed:    0.2s\n",
            "[Parallel(n_jobs=2)]: Done  89 tasks      | elapsed:    0.2s\n",
            "[Parallel(n_jobs=2)]: Done  90 tasks      | elapsed:    0.3s\n",
            "[Parallel(n_jobs=2)]: Done  91 tasks      | elapsed:    0.3s\n",
            "[Parallel(n_jobs=2)]: Done  92 tasks      | elapsed:    0.3s\n",
            "[Parallel(n_jobs=2)]: Done  93 tasks      | elapsed:    0.3s\n",
            "[Parallel(n_jobs=2)]: Done  94 tasks      | elapsed:    0.3s\n",
            "[Parallel(n_jobs=2)]: Done  95 tasks      | elapsed:    0.3s\n",
            "[Parallel(n_jobs=2)]: Done  96 tasks      | elapsed:    0.3s\n",
            "[Parallel(n_jobs=2)]: Done  97 tasks      | elapsed:    0.3s\n",
            "[Parallel(n_jobs=2)]: Done  98 tasks      | elapsed:    0.3s\n",
            "[Parallel(n_jobs=2)]: Done  99 tasks      | elapsed:    0.3s\n",
            "[Parallel(n_jobs=2)]: Done 100 tasks      | elapsed:    0.3s\n",
            "[Parallel(n_jobs=2)]: Done 101 tasks      | elapsed:    0.3s\n",
            "[Parallel(n_jobs=2)]: Done 102 tasks      | elapsed:    0.3s\n",
            "[Parallel(n_jobs=2)]: Done 103 tasks      | elapsed:    0.3s\n",
            "[Parallel(n_jobs=2)]: Done 104 tasks      | elapsed:    0.3s\n",
            "[Parallel(n_jobs=2)]: Done 105 tasks      | elapsed:    0.3s\n",
            "[Parallel(n_jobs=2)]: Done 106 tasks      | elapsed:    0.3s\n",
            "[Parallel(n_jobs=2)]: Done 107 tasks      | elapsed:    0.3s\n",
            "[Parallel(n_jobs=2)]: Done 108 tasks      | elapsed:    0.3s\n",
            "[Parallel(n_jobs=2)]: Done 109 tasks      | elapsed:    0.3s\n",
            "[Parallel(n_jobs=2)]: Done 110 tasks      | elapsed:    0.3s\n",
            "[Parallel(n_jobs=2)]: Done 111 tasks      | elapsed:    0.3s\n",
            "[Parallel(n_jobs=2)]: Done 112 tasks      | elapsed:    0.3s\n",
            "[Parallel(n_jobs=2)]: Done 113 tasks      | elapsed:    0.3s\n",
            "[Parallel(n_jobs=2)]: Done 114 tasks      | elapsed:    0.3s\n",
            "[Parallel(n_jobs=2)]: Done 115 tasks      | elapsed:    0.3s\n",
            "[Parallel(n_jobs=2)]: Done 116 tasks      | elapsed:    0.3s\n",
            "[Parallel(n_jobs=2)]: Done 117 tasks      | elapsed:    0.3s\n",
            "[Parallel(n_jobs=2)]: Done 118 tasks      | elapsed:    0.3s\n",
            "[Parallel(n_jobs=2)]: Done 119 tasks      | elapsed:    0.3s\n",
            "[Parallel(n_jobs=2)]: Done 120 tasks      | elapsed:    0.3s\n",
            "[Parallel(n_jobs=2)]: Done 121 tasks      | elapsed:    0.3s\n",
            "[Parallel(n_jobs=2)]: Done 122 tasks      | elapsed:    0.3s\n",
            "[Parallel(n_jobs=2)]: Done 123 tasks      | elapsed:    0.3s\n",
            "[Parallel(n_jobs=2)]: Done 124 tasks      | elapsed:    0.3s\n",
            "[Parallel(n_jobs=2)]: Done 125 tasks      | elapsed:    0.3s\n",
            "[Parallel(n_jobs=2)]: Done 126 tasks      | elapsed:    0.4s\n",
            "[Parallel(n_jobs=2)]: Done 127 tasks      | elapsed:    0.4s\n",
            "[Parallel(n_jobs=2)]: Done 128 tasks      | elapsed:    0.4s\n",
            "[Parallel(n_jobs=2)]: Done 129 tasks      | elapsed:    0.4s\n",
            "[Parallel(n_jobs=2)]: Done 130 tasks      | elapsed:    0.4s\n",
            "[Parallel(n_jobs=2)]: Done 131 tasks      | elapsed:    0.4s\n",
            "[Parallel(n_jobs=2)]: Done 132 tasks      | elapsed:    0.4s\n",
            "[Parallel(n_jobs=2)]: Done 133 tasks      | elapsed:    0.4s\n",
            "[Parallel(n_jobs=2)]: Done 134 tasks      | elapsed:    0.4s\n",
            "[Parallel(n_jobs=2)]: Done 135 tasks      | elapsed:    0.4s\n",
            "[Parallel(n_jobs=2)]: Done 136 tasks      | elapsed:    0.4s\n",
            "[Parallel(n_jobs=2)]: Done 137 tasks      | elapsed:    0.4s\n",
            "[Parallel(n_jobs=2)]: Done 138 tasks      | elapsed:    0.4s\n",
            "[Parallel(n_jobs=2)]: Done 139 tasks      | elapsed:    0.4s\n",
            "[Parallel(n_jobs=2)]: Done 140 tasks      | elapsed:    0.4s\n",
            "[Parallel(n_jobs=2)]: Done 141 tasks      | elapsed:    0.4s\n",
            "[Parallel(n_jobs=2)]: Done 142 tasks      | elapsed:    0.4s\n",
            "[Parallel(n_jobs=2)]: Done 143 tasks      | elapsed:    0.4s\n",
            "[Parallel(n_jobs=2)]: Done 144 tasks      | elapsed:    0.4s\n",
            "[Parallel(n_jobs=2)]: Done 145 tasks      | elapsed:    0.4s\n",
            "[Parallel(n_jobs=2)]: Done 146 tasks      | elapsed:    0.4s\n",
            "[Parallel(n_jobs=2)]: Done 147 tasks      | elapsed:    0.4s\n",
            "[Parallel(n_jobs=2)]: Done 148 tasks      | elapsed:    0.4s\n",
            "[Parallel(n_jobs=2)]: Done 149 tasks      | elapsed:    0.4s\n",
            "[Parallel(n_jobs=2)]: Done 150 tasks      | elapsed:    0.4s\n",
            "[Parallel(n_jobs=2)]: Done 151 tasks      | elapsed:    0.4s\n",
            "[Parallel(n_jobs=2)]: Done 152 tasks      | elapsed:    0.4s\n",
            "[Parallel(n_jobs=2)]: Done 153 tasks      | elapsed:    0.4s\n",
            "[Parallel(n_jobs=2)]: Done 154 tasks      | elapsed:    0.4s\n",
            "[Parallel(n_jobs=2)]: Done 155 tasks      | elapsed:    0.4s\n",
            "[Parallel(n_jobs=2)]: Done 156 tasks      | elapsed:    0.4s\n",
            "[Parallel(n_jobs=2)]: Done 157 tasks      | elapsed:    0.4s\n",
            "[Parallel(n_jobs=2)]: Done 158 tasks      | elapsed:    0.4s\n",
            "[Parallel(n_jobs=2)]: Done 159 tasks      | elapsed:    0.4s\n",
            "[Parallel(n_jobs=2)]: Done 160 tasks      | elapsed:    0.4s\n",
            "[Parallel(n_jobs=2)]: Done 161 tasks      | elapsed:    0.4s\n",
            "[Parallel(n_jobs=2)]: Done 162 tasks      | elapsed:    0.4s\n",
            "[Parallel(n_jobs=2)]: Done 163 tasks      | elapsed:    0.4s\n",
            "[Parallel(n_jobs=2)]: Done 164 tasks      | elapsed:    0.4s\n",
            "[Parallel(n_jobs=2)]: Done 165 tasks      | elapsed:    0.4s\n",
            "[Parallel(n_jobs=2)]: Done 166 tasks      | elapsed:    0.5s\n",
            "[Parallel(n_jobs=2)]: Done 167 tasks      | elapsed:    0.5s\n",
            "[Parallel(n_jobs=2)]: Done 168 tasks      | elapsed:    0.5s\n",
            "[Parallel(n_jobs=2)]: Done 169 tasks      | elapsed:    0.5s\n",
            "[Parallel(n_jobs=2)]: Done 170 tasks      | elapsed:    0.5s\n",
            "[Parallel(n_jobs=2)]: Done 171 tasks      | elapsed:    0.5s\n",
            "[Parallel(n_jobs=2)]: Done 172 tasks      | elapsed:    0.5s\n",
            "[Parallel(n_jobs=2)]: Done 173 tasks      | elapsed:    0.5s\n",
            "[Parallel(n_jobs=2)]: Done 174 tasks      | elapsed:    0.5s\n",
            "[Parallel(n_jobs=2)]: Done 175 tasks      | elapsed:    0.5s\n",
            "[Parallel(n_jobs=2)]: Done 176 tasks      | elapsed:    0.5s\n",
            "[Parallel(n_jobs=2)]: Done 177 tasks      | elapsed:    0.5s\n",
            "[Parallel(n_jobs=2)]: Done 178 tasks      | elapsed:    0.5s\n",
            "[Parallel(n_jobs=2)]: Done 179 tasks      | elapsed:    0.5s\n",
            "[Parallel(n_jobs=2)]: Done 180 tasks      | elapsed:    0.5s\n",
            "[Parallel(n_jobs=2)]: Done 181 tasks      | elapsed:    0.5s\n",
            "[Parallel(n_jobs=2)]: Done 182 tasks      | elapsed:    0.5s\n",
            "[Parallel(n_jobs=2)]: Done 183 tasks      | elapsed:    0.5s\n",
            "[Parallel(n_jobs=2)]: Done 184 tasks      | elapsed:    0.5s\n",
            "[Parallel(n_jobs=2)]: Done 185 tasks      | elapsed:    0.5s\n",
            "[Parallel(n_jobs=2)]: Done 186 tasks      | elapsed:    0.5s\n",
            "[Parallel(n_jobs=2)]: Done 187 tasks      | elapsed:    0.5s\n",
            "[Parallel(n_jobs=2)]: Done 188 tasks      | elapsed:    0.5s\n",
            "[Parallel(n_jobs=2)]: Done 189 tasks      | elapsed:    0.5s\n",
            "[Parallel(n_jobs=2)]: Done 190 tasks      | elapsed:    0.5s\n",
            "[Parallel(n_jobs=2)]: Done 191 tasks      | elapsed:    0.5s\n",
            "[Parallel(n_jobs=2)]: Done 192 tasks      | elapsed:    0.5s\n",
            "[Parallel(n_jobs=2)]: Done 193 tasks      | elapsed:    0.5s\n",
            "[Parallel(n_jobs=2)]: Done 194 tasks      | elapsed:    0.5s\n",
            "[Parallel(n_jobs=2)]: Done 195 tasks      | elapsed:    0.5s\n",
            "[Parallel(n_jobs=2)]: Done 196 tasks      | elapsed:    0.5s\n",
            "[Parallel(n_jobs=2)]: Done 197 tasks      | elapsed:    0.5s\n",
            "[Parallel(n_jobs=2)]: Done 200 out of 200 | elapsed:    0.5s finished\n",
            "[Parallel(n_jobs=-1)]: Using backend LokyBackend with 2 concurrent workers.\n",
            "[Parallel(n_jobs=-1)]: Done   1 tasks      | elapsed:    3.8s\n",
            "[Parallel(n_jobs=-1)]: Done   2 tasks      | elapsed:    3.9s\n",
            "[Parallel(n_jobs=-1)]: Done   3 tasks      | elapsed:    7.9s\n",
            "[Parallel(n_jobs=-1)]: Done   4 tasks      | elapsed:    8.3s\n",
            "[Parallel(n_jobs=-1)]: Done   5 tasks      | elapsed:   11.9s\n",
            "[Parallel(n_jobs=-1)]: Done   6 tasks      | elapsed:   12.1s\n",
            "[Parallel(n_jobs=-1)]: Done   7 tasks      | elapsed:   15.4s\n",
            "[Parallel(n_jobs=-1)]: Done   8 tasks      | elapsed:   16.1s\n",
            "[Parallel(n_jobs=-1)]: Done   9 tasks      | elapsed:   19.4s\n",
            "[Parallel(n_jobs=-1)]: Done  10 tasks      | elapsed:   20.9s\n",
            "[Parallel(n_jobs=-1)]: Done  11 tasks      | elapsed:   23.2s\n",
            "[Parallel(n_jobs=-1)]: Done  12 tasks      | elapsed:   25.5s\n",
            "[Parallel(n_jobs=-1)]: Done  13 tasks      | elapsed:   27.4s\n",
            "[Parallel(n_jobs=-1)]: Done  14 tasks      | elapsed:   30.0s\n",
            "[Parallel(n_jobs=-1)]: Done  15 tasks      | elapsed:   32.0s\n",
            "[Parallel(n_jobs=-1)]: Done  16 tasks      | elapsed:   34.4s\n",
            "[Parallel(n_jobs=-1)]: Done  17 tasks      | elapsed:   35.7s\n",
            "[Parallel(n_jobs=-1)]: Done  18 tasks      | elapsed:   38.8s\n",
            "[Parallel(n_jobs=-1)]: Done  19 tasks      | elapsed:   39.5s\n",
            "[Parallel(n_jobs=-1)]: Done  20 tasks      | elapsed:   42.5s\n",
            "[Parallel(n_jobs=-1)]: Done  21 tasks      | elapsed:   43.9s\n",
            "[Parallel(n_jobs=-1)]: Done  22 tasks      | elapsed:   46.4s\n",
            "[Parallel(n_jobs=-1)]: Done  23 tasks      | elapsed:   47.7s\n",
            "[Parallel(n_jobs=-1)]: Done  24 tasks      | elapsed:   50.1s\n",
            "[Parallel(n_jobs=-1)]: Done  25 tasks      | elapsed:   51.6s\n",
            "[Parallel(n_jobs=-1)]: Done  26 tasks      | elapsed:   54.5s\n",
            "[Parallel(n_jobs=-1)]: Done  27 tasks      | elapsed:   55.4s\n",
            "[Parallel(n_jobs=-1)]: Done  28 tasks      | elapsed:   58.1s\n",
            "[Parallel(n_jobs=-1)]: Done  29 tasks      | elapsed:   59.6s\n",
            "[Parallel(n_jobs=-1)]: Done  30 tasks      | elapsed:  1.0min\n",
            "[Parallel(n_jobs=-1)]: Done  31 tasks      | elapsed:  1.1min\n",
            "[Parallel(n_jobs=-1)]: Done  32 tasks      | elapsed:  1.1min\n",
            "[Parallel(n_jobs=-1)]: Done  33 tasks      | elapsed:  1.1min\n",
            "[Parallel(n_jobs=-1)]: Done  34 tasks      | elapsed:  1.2min\n",
            "[Parallel(n_jobs=-1)]: Done  35 tasks      | elapsed:  1.2min\n",
            "[Parallel(n_jobs=-1)]: Done  36 tasks      | elapsed:  1.2min\n",
            "[Parallel(n_jobs=-1)]: Done  37 tasks      | elapsed:  1.3min\n",
            "[Parallel(n_jobs=-1)]: Done  38 tasks      | elapsed:  1.3min\n",
            "[Parallel(n_jobs=-1)]: Done  39 tasks      | elapsed:  1.3min\n",
            "[Parallel(n_jobs=-1)]: Done  40 tasks      | elapsed:  1.4min\n",
            "[Parallel(n_jobs=-1)]: Done  41 tasks      | elapsed:  1.4min\n",
            "[Parallel(n_jobs=-1)]: Done  42 tasks      | elapsed:  1.5min\n",
            "[Parallel(n_jobs=-1)]: Done  43 tasks      | elapsed:  1.5min\n",
            "[Parallel(n_jobs=-1)]: Done  44 tasks      | elapsed:  1.5min\n",
            "[Parallel(n_jobs=-1)]: Done  45 tasks      | elapsed:  1.5min\n",
            "[Parallel(n_jobs=-1)]: Done  46 tasks      | elapsed:  1.6min\n",
            "[Parallel(n_jobs=-1)]: Done  47 tasks      | elapsed:  1.6min\n",
            "[Parallel(n_jobs=-1)]: Done  48 tasks      | elapsed:  1.6min\n",
            "[Parallel(n_jobs=-1)]: Done  49 tasks      | elapsed:  1.7min\n",
            "[Parallel(n_jobs=-1)]: Done  50 tasks      | elapsed:  1.7min\n",
            "[Parallel(n_jobs=-1)]: Done  51 tasks      | elapsed:  1.7min\n",
            "[Parallel(n_jobs=-1)]: Done  52 tasks      | elapsed:  1.8min\n",
            "[Parallel(n_jobs=-1)]: Done  53 tasks      | elapsed:  1.8min\n",
            "[Parallel(n_jobs=-1)]: Done  54 tasks      | elapsed:  1.8min\n",
            "[Parallel(n_jobs=-1)]: Done  55 tasks      | elapsed:  1.9min\n",
            "[Parallel(n_jobs=-1)]: Done  56 tasks      | elapsed:  1.9min\n",
            "[Parallel(n_jobs=-1)]: Done  57 tasks      | elapsed:  1.9min\n",
            "[Parallel(n_jobs=-1)]: Done  58 tasks      | elapsed:  2.0min\n",
            "[Parallel(n_jobs=-1)]: Done  59 tasks      | elapsed:  2.0min\n",
            "[Parallel(n_jobs=-1)]: Done  60 tasks      | elapsed:  2.0min\n",
            "[Parallel(n_jobs=-1)]: Done  61 tasks      | elapsed:  2.1min\n",
            "[Parallel(n_jobs=-1)]: Done  62 tasks      | elapsed:  2.1min\n",
            "[Parallel(n_jobs=-1)]: Done  63 tasks      | elapsed:  2.2min\n",
            "[Parallel(n_jobs=-1)]: Done  64 tasks      | elapsed:  2.2min\n",
            "[Parallel(n_jobs=-1)]: Done  65 tasks      | elapsed:  2.2min\n",
            "[Parallel(n_jobs=-1)]: Done  66 tasks      | elapsed:  2.2min\n",
            "[Parallel(n_jobs=-1)]: Done  67 tasks      | elapsed:  2.3min\n",
            "[Parallel(n_jobs=-1)]: Done  68 tasks      | elapsed:  2.3min\n",
            "[Parallel(n_jobs=-1)]: Done  69 tasks      | elapsed:  2.4min\n",
            "[Parallel(n_jobs=-1)]: Done  70 tasks      | elapsed:  2.4min\n",
            "[Parallel(n_jobs=-1)]: Done  71 tasks      | elapsed:  2.4min\n",
            "[Parallel(n_jobs=-1)]: Done  72 tasks      | elapsed:  2.4min\n",
            "[Parallel(n_jobs=-1)]: Done  73 tasks      | elapsed:  2.5min\n",
            "[Parallel(n_jobs=-1)]: Done  74 tasks      | elapsed:  2.5min\n",
            "[Parallel(n_jobs=-1)]: Done  75 tasks      | elapsed:  2.6min\n",
            "[Parallel(n_jobs=-1)]: Done  76 tasks      | elapsed:  2.6min\n",
            "[Parallel(n_jobs=-1)]: Done  77 tasks      | elapsed:  2.6min\n",
            "[Parallel(n_jobs=-1)]: Done  78 tasks      | elapsed:  2.7min\n"
          ],
          "name": "stderr"
        }
      ]
    }
  ]
}