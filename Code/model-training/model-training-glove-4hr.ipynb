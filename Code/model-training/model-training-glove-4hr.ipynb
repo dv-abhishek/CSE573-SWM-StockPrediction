{
 "cells": [
  {
   "cell_type": "code",
   "execution_count": 1,
   "metadata": {},
   "outputs": [],
   "source": [
    "from sklearn.model_selection import train_test_split\n",
    "from sklearn.decomposition import PCA\n",
    "from sklearn.metrics import accuracy_score\n",
    "from sklearn.linear_model import LogisticRegression\n",
    "from sklearn import tree\n",
    "import pickle\n",
    "import numpy as np\n",
    "from sklearn.model_selection import KFold"
   ]
  },
  {
   "cell_type": "code",
   "execution_count": 2,
   "metadata": {},
   "outputs": [],
   "source": [
    "from sklearn.model_selection import train_test_split\n",
    "from sklearn.decomposition import PCA\n",
    "from sklearn.metrics import accuracy_score\n",
    "from sklearn.linear_model import LogisticRegression\n",
    "from sklearn.ensemble import RandomForestClassifier\n",
    "from sklearn import svm\n",
    "from sklearn import tree\n",
    "from tensorflow import keras\n",
    "import pickle\n",
    "import datetime\n",
    "import numpy as np"
   ]
  },
  {
   "cell_type": "code",
   "execution_count": 155,
   "metadata": {},
   "outputs": [],
   "source": [
    "# Load tokenized news data\n",
    "\n",
    "\n",
    "\n",
    "with open('AaplLabelledNewsData-4hr.pkl', 'rb') as f:\n",
    "    labelled_aapl_news = pickle.load(f)"
   ]
  },
  {
   "cell_type": "code",
   "execution_count": 151,
   "metadata": {},
   "outputs": [],
   "source": [
    "labels = list(labelled_aapl_news['label'])"
   ]
  },
  {
   "cell_type": "code",
   "execution_count": 157,
   "metadata": {},
   "outputs": [],
   "source": [
    "# Load vectors news data\n",
    "\n",
    "with open('glove-vectorized-aapl-4hr.pkl', 'rb') as f:\n",
    "    vectors_apple = pickle.load(f)"
   ]
  },
  {
   "cell_type": "code",
   "execution_count": 159,
   "metadata": {},
   "outputs": [],
   "source": [
    "vectors_apple['label'] = labels"
   ]
  },
  {
   "cell_type": "code",
   "execution_count": 160,
   "metadata": {},
   "outputs": [],
   "source": [
    "vectors_apple = vectors_apple.dropna()\n",
    "\n",
    "vectors_apple = vectors_apple.reset_index(drop=True)"
   ]
  },
  {
   "cell_type": "code",
   "execution_count": 162,
   "metadata": {},
   "outputs": [],
   "source": [
    "trainX = vectors_apple.iloc[:, 0:300]"
   ]
  },
  {
   "cell_type": "code",
   "execution_count": 164,
   "metadata": {},
   "outputs": [],
   "source": [
    "trainY = vectors_apple['label']"
   ]
  },
  {
   "cell_type": "code",
   "execution_count": 166,
   "metadata": {},
   "outputs": [],
   "source": [
    "# pca = PCA(n_components=3800)\n",
    "# pComponents= pca.fit_transform(trainX)\n",
    "X_train, X_test, y_train, y_test = train_test_split(trainX, trainY, test_size=0.2, random_state=23)"
   ]
  },
  {
   "cell_type": "code",
   "execution_count": 167,
   "metadata": {},
   "outputs": [],
   "source": [
    "X_train = X_train.join(y_train)\n",
    "X_test = X_test.join(y_test)"
   ]
  },
  {
   "cell_type": "code",
   "execution_count": 168,
   "metadata": {},
   "outputs": [],
   "source": [
    "X_train.to_pickle('xtrain_aapl-4hr.pkl')\n",
    "X_test.to_pickle('xtest_aapl-4hr.pkl')"
   ]
  },
  {
   "cell_type": "code",
   "execution_count": 169,
   "metadata": {},
   "outputs": [],
   "source": [
    "X_train = X_train.reset_index(drop=True)\n",
    "X_train = X_train.dropna()\n",
    "\n",
    "# X_test = X_train.reset_index(drop=True)\n",
    "X_test = X_test.reset_index(drop=True)\n",
    "X_test = X_test.dropna()\n",
    "\n",
    "\n",
    "\n",
    "\n",
    "# y_test = y_test.reset_index(drop=True)"
   ]
  },
  {
   "cell_type": "code",
   "execution_count": 15,
   "metadata": {},
   "outputs": [],
   "source": [
    "# clf = LogisticRegression(max_iter=1000)\n",
    "# clf.fit(X_train,y_train)\n",
    "# y_pred=clf.predict(X_test)\n"
   ]
  },
  {
   "cell_type": "code",
   "execution_count": 75,
   "metadata": {},
   "outputs": [
    {
     "name": "stdout",
     "output_type": "stream",
     "text": [
      "Accuracy of LogisticRegression classifier is: 0.524933 \n",
      "[-1  1 -1 ... -1  1 -1]\n",
      "0   -1\n",
      "0    1\n",
      "0    1\n",
      "0   -1\n",
      "0    1\n",
      "    ..\n",
      "0   -1\n",
      "0    1\n",
      "0   -1\n",
      "0   -1\n",
      "0   -1\n",
      "Name: label, Length: 14278, dtype: int64\n"
     ]
    }
   ],
   "source": [
    "# #print(pca.explained_variance_ratio_)\n",
    "# acc=accuracy_score(y_test,y_pred)\n",
    "# print('Accuracy of LogisticRegression classifier is: %f ' % acc)\n",
    "# #print(pca.explained_variance_ratio_.shape)\n",
    "# print(y_pred)\n",
    "# print(y_test)"
   ]
  },
  {
   "cell_type": "code",
   "execution_count": 81,
   "metadata": {},
   "outputs": [
    {
     "name": "stdout",
     "output_type": "stream",
     "text": [
      "training Decision Tree now ...\n",
      "Accuracy of Decision Tree classifier is: 0.643087 \n"
     ]
    }
   ],
   "source": [
    "# print(\"training Decision Tree now ...\")\n",
    "# decision_tree = tree.DecisionTreeClassifier(random_state=0).fit(X_train,y_train)\n",
    "# y_pred = decision_tree.predict(X_test)\n",
    "# acc=accuracy_score(y_test,y_pred)\n",
    "# print('Accuracy of Decision Tree classifier is: %f ' % acc)"
   ]
  },
  {
   "cell_type": "code",
   "execution_count": null,
   "metadata": {},
   "outputs": [],
   "source": [
    "# print(\"training Random Forest classifier now ...\")\n",
    "\n",
    "# random_forest_classifier = RandomForestClassifier(n_estimators=100, verbose=15, n_jobs=-1).fit(X_train,y_train)\n",
    "# #increase n_estimators if you face issues in training\n",
    "# y_pred=random_forest_classifier.predict(X_test)\n",
    "# acc=accuracy_score(y_test,y_pred)\n",
    "# print('Accuracy of Random Forest classifier is: %f ' % acc)"
   ]
  },
  {
   "cell_type": "code",
   "execution_count": null,
   "metadata": {},
   "outputs": [
    {
     "name": "stdout",
     "output_type": "stream",
     "text": [
      "[LibSVM]"
     ]
    }
   ],
   "source": [
    "# svm_classifier = svm.SVC(verbose=12).fit(X_train,y_train)\n",
    "# y_pred = svm_classifier.predict(X_test)\n",
    "# acc = accuracy_score(y_test,y_pred)\n",
    "# print('Accuracy of SVM classifier is: %f ' % acc)\n",
    "# print(\"current time:-\", datetime.datetime.now())"
   ]
  },
  {
   "cell_type": "code",
   "execution_count": null,
   "metadata": {},
   "outputs": [],
   "source": [
    "kf = KFold(n_splits=10)\n",
    "\n",
    "\n",
    "\n",
    "\n",
    "for train_index, test_index in kf.split(X_train):\n",
    "    #print(len(train_index), len(test_index))\n",
    "    \n",
    "    tr_index = sorted(train_index)\n",
    "    ts_index = sorted(test_index)\n",
    "    \n",
    "    print(tr_index[0],tr_index[-1])\n",
    "    print(ts_index[0],ts_index[-1])\n",
    "    \n",
    "    X_tr = X_train.iloc[tr_index,0:300]\n",
    "    y_tr = X_train.iloc[tr_index,[300]]\n",
    "    \n",
    "    X_ts = X_train.iloc[ts_index,0:300]\n",
    "    y_ts = X_train.iloc[ts_index,[300]]\n",
    "    \n",
    "    \n",
    "    \n",
    "#     print(train_index,test_index)\n",
    "    \n",
    "#     X_tr = X_train.iloc[tr_index]\n",
    "#     X_tr = X_train.dropna()\n",
    "#     y_tr = y_train.iloc[tr_index]\n",
    "#     y_tr = y_tr.dropna()\n",
    "\n",
    "#     X_ts = X_test.iloc[ts_index]\n",
    "#     X_ts = X_ts.dropna()\n",
    "    \n",
    "#     y_ts = y_test.iloc[ts_index]\n",
    "#     y_ts = y_ts.dropna()\n",
    "\n",
    "    \n",
    "#     print(X_tr)\n",
    "    \n",
    "    print(\"training Decision Tree now ...\")\n",
    "    decision_tree = tree.DecisionTreeClassifier(random_state=0).fit(X_tr,y_tr)\n",
    "    y_pred = decision_tree.predict(X_ts)\n",
    "    acc=accuracy_score(y_ts,y_pred)\n",
    "    print('Accuracy of Decision Tree classifier is: %f ' % acc)\n",
    "    \n",
    "#     decision_tree = tree.DecisionTreeClassifier(random_state=0).fit(X_tr,y_tr)\n",
    "    \n",
    "#     y_pred = decision_tree.predict(X_ts)\n",
    "#     acc=accuracy_score(y_test,y_pred)\n",
    "#     print('Accuracy of Decision Tree classifier is: %f ' % acc)   \n",
    "    "
   ]
  },
  {
   "cell_type": "code",
   "execution_count": null,
   "metadata": {},
   "outputs": [],
   "source": [
    "kf = KFold(n_splits=10)\n",
    "\n",
    "\n",
    "\n",
    "\n",
    "for train_index, test_index in kf.split(X_train):\n",
    "    #print(len(train_index), len(test_index))\n",
    "    \n",
    "    tr_index = sorted(train_index)\n",
    "    ts_index = sorted(test_index)\n",
    "    \n",
    "    print(tr_index[0],tr_index[-1])\n",
    "    print(ts_index[0],ts_index[-1])\n",
    "    \n",
    "    X_tr = X_train.iloc[tr_index,0:300]\n",
    "    y_tr = X_train.iloc[tr_index,[300]]\n",
    "    \n",
    "    X_ts = X_train.iloc[ts_index,0:300]\n",
    "    y_ts = X_train.iloc[ts_index,[300]]\n",
    "    \n",
    "    \n",
    "    \n",
    "#     print(train_index,test_index)\n",
    "    \n",
    "#     X_tr = X_train.iloc[tr_index]\n",
    "#     X_tr = X_train.dropna()\n",
    "#     y_tr = y_train.iloc[tr_index]\n",
    "#     y_tr = y_tr.dropna()\n",
    "\n",
    "#     X_ts = X_test.iloc[ts_index]\n",
    "#     X_ts = X_ts.dropna()\n",
    "    \n",
    "#     y_ts = y_test.iloc[ts_index]\n",
    "#     y_ts = y_ts.dropna()\n",
    "\n",
    "    \n",
    "#     print(X_tr)\n",
    "    \n",
    "    clf = LogisticRegression(max_iter=1000)\n",
    "    clf.fit(X_tr,y_tr)\n",
    "    y_pred=clf.predict(X_ts)\n",
    "    \n",
    "    acc=accuracy_score(y_ts,y_pred)\n",
    "    print('Accuracy of LogisticRegression classifier is: %f ' % acc)\n",
    "    \n",
    "#     decision_tree = tree.DecisionTreeClassifier(random_state=0).fit(X_tr,y_tr)\n",
    "    \n",
    "#     y_pred = decision_tree.predict(X_ts)\n",
    "#     acc=accuracy_score(y_test,y_pred)\n",
    "#     print('Accuracy of Decision Tree classifier is: %f ' % acc)   \n",
    "    "
   ]
  },
  {
   "cell_type": "code",
   "execution_count": null,
   "metadata": {},
   "outputs": [],
   "source": [
    "kf = KFold(n_splits=10)\n",
    "\n",
    "\n",
    "\n",
    "\n",
    "for train_index, test_index in kf.split(X_train):\n",
    "    #print(len(train_index), len(test_index))\n",
    "    \n",
    "    tr_index = sorted(train_index)\n",
    "    ts_index = sorted(test_index)\n",
    "    \n",
    "    print(tr_index[0],tr_index[-1])\n",
    "    print(ts_index[0],ts_index[-1])\n",
    "    \n",
    "    X_tr = X_train.iloc[tr_index,0:300]\n",
    "    y_tr = X_train.iloc[tr_index,[300]]\n",
    "    \n",
    "    X_ts = X_train.iloc[ts_index,0:300]\n",
    "    y_ts = X_train.iloc[ts_index,[300]]\n",
    "    \n",
    "    \n",
    "    \n",
    "#     print(train_index,test_index)\n",
    "    \n",
    "#     X_tr = X_train.iloc[tr_index]\n",
    "#     X_tr = X_train.dropna()\n",
    "#     y_tr = y_train.iloc[tr_index]\n",
    "#     y_tr = y_tr.dropna()\n",
    "\n",
    "#     X_ts = X_test.iloc[ts_index]\n",
    "#     X_ts = X_ts.dropna()\n",
    "    \n",
    "#     y_ts = y_test.iloc[ts_index]\n",
    "#     y_ts = y_ts.dropna()\n",
    "\n",
    "    \n",
    "#     print(X_tr)\n",
    "    \n",
    "    print(\"training Random Forest classifier now ...\")\n",
    "\n",
    "    random_forest_classifier = RandomForestClassifier(n_estimators=100, verbose=15, n_jobs=-1).fit(X_tr,y_tr)\n",
    "    #increase n_estimators if you face issues in training\n",
    "    y_pred=random_forest_classifier.predict(X_ts)\n",
    "    acc=accuracy_score(y_ts,y_pred)\n",
    "    print('Accuracy of Random Forest classifier is: %f ' % acc)\n",
    "    \n",
    "#     decision_tree = tree.DecisionTreeClassifier(random_state=0).fit(X_tr,y_tr)\n",
    "    \n",
    "#     y_pred = decision_tree.predict(X_ts)\n",
    "#     acc=accuracy_score(y_test,y_pred)\n",
    "#     print('Accuracy of Decision Tree classifier is: %f ' % acc)   \n",
    "\n",
    "\n",
    "\n",
    "\n"
   ]
  },
  {
   "cell_type": "code",
   "execution_count": null,
   "metadata": {},
   "outputs": [],
   "source": []
  }
 ],
 "metadata": {
  "kernelspec": {
   "display_name": "Python 3",
   "language": "python",
   "name": "python3"
  },
  "language_info": {
   "codemirror_mode": {
    "name": "ipython",
    "version": 3
   },
   "file_extension": ".py",
   "mimetype": "text/x-python",
   "name": "python",
   "nbconvert_exporter": "python",
   "pygments_lexer": "ipython3",
   "version": "3.7.4"
  }
 },
 "nbformat": 4,
 "nbformat_minor": 4
}
