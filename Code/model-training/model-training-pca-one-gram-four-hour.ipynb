{
 "cells": [
  {
   "cell_type": "code",
   "execution_count": 11,
   "metadata": {},
   "outputs": [],
   "source": [
    "from sklearn.model_selection import train_test_split\n",
    "from sklearn.decomposition import PCA\n",
    "from sklearn.metrics import accuracy_score\n",
    "from sklearn.linear_model import LogisticRegression\n",
    "from sklearn.ensemble import RandomForestClassifier\n",
    "from sklearn import svm\n",
    "from sklearn import tree\n",
    "import tensorflow as tf\n",
    "from tensorflow import keras\n",
    "import pickle\n",
    "import datetime\n",
    "import numpy as np\n",
    "import matplotlib.pyplot as plt"
   ]
  },
  {
   "cell_type": "code",
   "execution_count": 12,
   "metadata": {},
   "outputs": [],
   "source": [
    "# Load features and labels data\n",
    "\n",
    "with open('aapl_one_gram_features_labelled_df_four_hour.pkl', 'rb') as f:\n",
    "    labelled_aapl_news_df = pickle.load(f)"
   ]
  },
  {
   "cell_type": "code",
   "execution_count": 13,
   "metadata": {},
   "outputs": [
    {
     "name": "stdout",
     "output_type": "stream",
     "text": [
      "(72122, 702)\n",
      "(72122,)\n"
     ]
    },
    {
     "data": {
      "text/plain": [
       "array([[0, 0, 0, ..., 0, 0, 0],\n",
       "       [0, 0, 0, ..., 0, 0, 0],\n",
       "       [0, 0, 0, ..., 0, 0, 0],\n",
       "       ...,\n",
       "       [0, 0, 0, ..., 0, 0, 0],\n",
       "       [0, 0, 0, ..., 0, 0, 0],\n",
       "       [0, 0, 1, ..., 0, 0, 0]], dtype=int64)"
      ]
     },
     "execution_count": 13,
     "metadata": {},
     "output_type": "execute_result"
    }
   ],
   "source": [
    "trainX_df=labelled_aapl_news_df['features']\n",
    "trainY_df=labelled_aapl_news_df['label']\n",
    "\n",
    "trainX = np.stack(trainX_df)\n",
    "\n",
    "trainY_df=trainY_df.astype('int')\n",
    "trainY = np.stack(trainY_df)\n",
    "\n",
    "print(trainX.shape)\n",
    "print(trainY.shape)\n",
    "trainX"
   ]
  },
  {
   "cell_type": "code",
   "execution_count": 4,
   "metadata": {},
   "outputs": [
    {
     "name": "stdout",
     "output_type": "stream",
     "text": [
      "[1.32959289e-01 4.76390617e-02 3.56052808e-02 1.37822436e-02\n",
      " 1.26084608e-02 1.16235408e-02 1.01235262e-02 8.84013075e-03\n",
      " 7.56011703e-03 7.20536022e-03 6.54364817e-03 6.29007551e-03\n",
      " 6.14041699e-03 5.66518169e-03 5.47795489e-03 5.46885733e-03\n",
      " 5.25903544e-03 5.14781112e-03 4.98168064e-03 4.82667115e-03\n",
      " 4.61515066e-03 4.42072286e-03 4.33122511e-03 4.30124174e-03\n",
      " 4.25702248e-03 4.06680406e-03 3.97596933e-03 3.90476085e-03\n",
      " 3.79239115e-03 3.74772225e-03 3.69716186e-03 3.56035836e-03\n",
      " 3.54004978e-03 3.47229124e-03 3.41107500e-03 3.38961493e-03\n",
      " 3.36990693e-03 3.31607811e-03 3.29126975e-03 3.24045426e-03\n",
      " 3.17511115e-03 3.13489635e-03 3.07875694e-03 3.06150554e-03\n",
      " 3.02129949e-03 2.99001500e-03 2.93041530e-03 2.91225734e-03\n",
      " 2.85182944e-03 2.84350130e-03 2.79902136e-03 2.77913181e-03\n",
      " 2.73660734e-03 2.73594901e-03 2.70692629e-03 2.69614901e-03\n",
      " 2.64793489e-03 2.63073124e-03 2.61453948e-03 2.60163886e-03\n",
      " 2.58289500e-03 2.55082780e-03 2.52308372e-03 2.50649773e-03\n",
      " 2.50031938e-03 2.48342427e-03 2.45673960e-03 2.44250332e-03\n",
      " 2.42472912e-03 2.41146169e-03 2.38457264e-03 2.35935945e-03\n",
      " 2.34628973e-03 2.33253259e-03 2.32623180e-03 2.30343966e-03\n",
      " 2.28537574e-03 2.26856073e-03 2.24653603e-03 2.23967941e-03\n",
      " 2.23499872e-03 2.21091573e-03 2.19536359e-03 2.19089717e-03\n",
      " 2.18271897e-03 2.16154142e-03 2.15325649e-03 2.13494169e-03\n",
      " 2.11754612e-03 2.11211160e-03 2.08499892e-03 2.06737302e-03\n",
      " 2.06378779e-03 2.04773568e-03 2.03515460e-03 2.02695096e-03\n",
      " 2.01297337e-03 2.00246717e-03 1.99214806e-03 1.97780179e-03\n",
      " 1.96296163e-03 1.95757303e-03 1.94394206e-03 1.94125840e-03\n",
      " 1.93753765e-03 1.91645448e-03 1.90873363e-03 1.89319820e-03\n",
      " 1.88675039e-03 1.88428961e-03 1.87505623e-03 1.86113375e-03\n",
      " 1.84985802e-03 1.84381974e-03 1.82766094e-03 1.81940331e-03\n",
      " 1.81258804e-03 1.80453060e-03 1.80068861e-03 1.78419951e-03\n",
      " 1.77272485e-03 1.76764357e-03 1.75802151e-03 1.74067882e-03\n",
      " 1.73275156e-03 1.73174180e-03 1.72040502e-03 1.71335426e-03\n",
      " 1.70265813e-03 1.70128301e-03 1.69775574e-03 1.68725101e-03\n",
      " 1.68354601e-03 1.67211957e-03 1.65596599e-03 1.64835587e-03\n",
      " 1.64462363e-03 1.63949488e-03 1.62953177e-03 1.62083465e-03\n",
      " 1.61676361e-03 1.60684540e-03 1.60345927e-03 1.58743424e-03\n",
      " 1.57668410e-03 1.56902769e-03 1.56712142e-03 1.55931486e-03\n",
      " 1.55359915e-03 1.53828768e-03 1.53387458e-03 1.52626346e-03\n",
      " 1.51811528e-03 1.50811359e-03 1.49667510e-03 1.49013516e-03\n",
      " 1.48526380e-03 1.47921232e-03 1.46833351e-03 1.46028983e-03\n",
      " 1.45440432e-03 1.45045249e-03 1.44306690e-03 1.43236957e-03\n",
      " 1.42714989e-03 1.42408372e-03 1.41557360e-03 1.41465249e-03\n",
      " 1.40138653e-03 1.39878498e-03 1.39537563e-03 1.38156624e-03\n",
      " 1.37527088e-03 1.37176098e-03 1.36217297e-03 1.35797708e-03\n",
      " 1.34787910e-03 1.34196161e-03 1.33606499e-03 1.32899669e-03\n",
      " 1.32236410e-03 1.31772789e-03 1.30882464e-03 1.29863989e-03\n",
      " 1.29327667e-03 1.28482442e-03 1.27945278e-03 1.27358337e-03\n",
      " 1.26999186e-03 1.26302379e-03 1.25710011e-03 1.25540468e-03\n",
      " 1.25440563e-03 1.24160881e-03 1.23406526e-03 1.23246946e-03\n",
      " 1.22686142e-03 1.22044386e-03 1.21723421e-03 1.21657507e-03\n",
      " 1.20293291e-03 1.20015480e-03 1.19445338e-03 1.19094136e-03\n",
      " 1.18597301e-03 1.17192953e-03 1.16900426e-03 1.16491517e-03\n",
      " 1.16229887e-03 1.15959647e-03 1.15688052e-03 1.14825638e-03\n",
      " 1.14152107e-03 1.13820903e-03 1.12223187e-03 1.12023960e-03\n",
      " 1.11875090e-03 1.11246920e-03 1.11002357e-03 1.10748957e-03\n",
      " 1.10200419e-03 1.09757855e-03 1.09726192e-03 1.09108891e-03\n",
      " 1.08804290e-03 1.07722026e-03 1.07398838e-03 1.07305646e-03\n",
      " 1.06544672e-03 1.06179877e-03 1.05699975e-03 1.05427799e-03\n",
      " 1.04891990e-03 1.04735774e-03 1.03982254e-03 1.03514006e-03\n",
      " 1.03300351e-03 1.02590984e-03 1.02399452e-03 1.02145191e-03\n",
      " 1.01599492e-03 1.01272122e-03 1.01003885e-03 1.00465339e-03\n",
      " 1.00309156e-03 9.98503542e-04 9.96195637e-04 9.88976433e-04\n",
      " 9.87492281e-04 9.81114808e-04 9.76483727e-04 9.72353133e-04\n",
      " 9.67969733e-04 9.66311360e-04 9.63612734e-04 9.61819000e-04\n",
      " 9.57136784e-04 9.50722585e-04 9.46926509e-04 9.43787067e-04\n",
      " 9.37308613e-04 9.33610848e-04 9.24337861e-04 9.19481006e-04\n",
      " 9.14500415e-04 9.13482065e-04 9.09762927e-04 9.08348726e-04\n",
      " 9.05079179e-04 9.04093366e-04 9.01673188e-04 8.96229137e-04\n",
      " 8.95419431e-04 8.91311949e-04 8.83600591e-04 8.78574851e-04\n",
      " 8.77152911e-04 8.75157932e-04 8.68906521e-04 8.64641469e-04\n",
      " 8.63568375e-04 8.56840056e-04 8.56052033e-04 8.51579874e-04\n",
      " 8.48619378e-04 8.42045287e-04 8.38234008e-04 8.35770232e-04\n",
      " 8.30731424e-04 8.29335253e-04 8.26578785e-04 8.21779667e-04\n",
      " 8.19867865e-04 8.16877613e-04 8.15940024e-04 8.10568483e-04\n",
      " 8.06903712e-04 8.04251533e-04 8.03946431e-04 8.02365981e-04\n",
      " 7.99002696e-04 7.93606343e-04 7.92173977e-04 7.91156736e-04\n",
      " 7.86464099e-04 7.84805526e-04 7.80668586e-04 7.79811193e-04\n",
      " 7.77835167e-04 7.73692527e-04 7.72926388e-04 7.68093646e-04\n",
      " 7.66227397e-04 7.62876234e-04 7.61869250e-04 7.59235027e-04\n",
      " 7.57507419e-04 7.55436092e-04 7.52592097e-04 7.51824941e-04\n",
      " 7.49851434e-04 7.45284205e-04 7.44005592e-04 7.40398015e-04\n",
      " 7.39698941e-04 7.35589650e-04 7.30500004e-04 7.30158777e-04\n",
      " 7.27739088e-04 7.27282408e-04 7.26246165e-04 7.21766213e-04\n",
      " 7.17467827e-04 7.15513006e-04 7.15207264e-04 7.13901176e-04\n",
      " 7.09552222e-04 7.07552493e-04 7.03974618e-04 7.01950474e-04\n",
      " 6.96047303e-04 6.95818209e-04 6.94586349e-04 6.90897625e-04\n",
      " 6.88806207e-04 6.87083927e-04 6.83650429e-04 6.81266600e-04\n",
      " 6.79372058e-04 6.78193929e-04 6.74843746e-04 6.74319902e-04\n",
      " 6.71782271e-04 6.70386742e-04 6.67978198e-04 6.67504431e-04\n",
      " 6.65219679e-04 6.62064642e-04 6.59641796e-04 6.56520153e-04\n",
      " 6.54421166e-04 6.53951017e-04 6.53143555e-04 6.51418824e-04\n",
      " 6.49588088e-04 6.46311513e-04 6.44311168e-04 6.43369581e-04\n",
      " 6.41119930e-04 6.38214519e-04 6.36545000e-04 6.33763677e-04\n",
      " 6.30623650e-04 6.28307961e-04 6.27219241e-04 6.23480082e-04\n",
      " 6.21991574e-04 6.20127957e-04 6.19714621e-04 6.16035985e-04\n",
      " 6.15568108e-04 6.14588033e-04 6.11752608e-04 6.10466910e-04\n",
      " 6.09103464e-04 6.05598562e-04 6.02915112e-04 6.01642088e-04\n",
      " 5.99338354e-04 5.97395112e-04 5.96641687e-04 5.94268600e-04\n",
      " 5.93583768e-04 5.90546850e-04 5.87850041e-04 5.86667711e-04\n",
      " 5.85422396e-04 5.84257003e-04 5.83500104e-04 5.81109193e-04\n",
      " 5.80332174e-04 5.78758414e-04 5.77185963e-04 5.73669369e-04\n",
      " 5.70369764e-04 5.69127378e-04 5.65673819e-04 5.65127370e-04\n",
      " 5.64567662e-04 5.63744546e-04 5.60659195e-04 5.59700987e-04\n",
      " 5.58706100e-04 5.56449498e-04 5.54092696e-04 5.52226016e-04\n",
      " 5.50678760e-04 5.48792793e-04 5.47164767e-04 5.44997745e-04\n",
      " 5.44806969e-04 5.43433015e-04 5.40133125e-04 5.38660139e-04\n",
      " 5.36530145e-04 5.33331994e-04 5.32498978e-04 5.31331789e-04\n",
      " 5.28081074e-04 5.26819215e-04 5.26238318e-04 5.24926774e-04\n",
      " 5.23430774e-04 5.22707041e-04 5.20536419e-04 5.17187291e-04\n",
      " 5.15062272e-04 5.13521739e-04 5.12297848e-04 5.10419623e-04\n",
      " 5.08335033e-04 5.07804341e-04 5.05942010e-04 5.05418989e-04\n",
      " 5.03809035e-04 5.02561285e-04 5.00811149e-04 5.00265809e-04\n",
      " 4.99033939e-04 4.97799022e-04 4.96632405e-04 4.93459414e-04\n",
      " 4.91778420e-04 4.90610981e-04 4.88986657e-04 4.86285735e-04\n",
      " 4.85347840e-04 4.83548202e-04 4.82427453e-04 4.79584943e-04\n",
      " 4.79354751e-04 4.76675783e-04 4.76253395e-04 4.75823932e-04\n",
      " 4.72655245e-04 4.71674927e-04 4.69199470e-04 4.68115298e-04\n",
      " 4.65923110e-04 4.65182192e-04 4.63900833e-04 4.61572406e-04\n",
      " 4.60764427e-04 4.58888401e-04 4.56799051e-04 4.55729567e-04\n",
      " 4.55203841e-04 4.54123405e-04 4.53735090e-04 4.52393332e-04\n",
      " 4.51155526e-04 4.49359848e-04 4.48473865e-04 4.46407885e-04\n",
      " 4.44570130e-04 4.43818787e-04 4.41945697e-04 4.40559410e-04\n",
      " 4.39095467e-04 4.37939606e-04 4.35996931e-04 4.35012240e-04\n",
      " 4.32594088e-04 4.30488719e-04 4.30048357e-04 4.27772732e-04\n",
      " 4.27290293e-04 4.25926890e-04 4.24859354e-04 4.24282746e-04\n",
      " 4.22798511e-04 4.21453339e-04 4.20751949e-04 4.19154947e-04\n",
      " 4.18482716e-04 4.17732017e-04 4.16939484e-04 4.15867386e-04\n",
      " 4.13941946e-04 4.12642677e-04 4.11531939e-04 4.10188577e-04\n",
      " 4.09816570e-04 4.08891640e-04 4.06870532e-04 4.04778704e-04\n",
      " 4.04694262e-04 4.03789737e-04 4.01720506e-04 4.00826423e-04\n",
      " 3.99383649e-04 3.98322361e-04 3.96647001e-04 3.96015881e-04\n",
      " 3.93251608e-04 3.92862957e-04 3.91116806e-04 3.90341961e-04\n",
      " 3.88881211e-04 3.88056675e-04 3.86200793e-04 3.85636702e-04\n",
      " 3.84351119e-04 3.84172797e-04 3.83346888e-04 3.82027145e-04\n",
      " 3.81183410e-04 3.78841248e-04 3.78406915e-04 3.76899232e-04\n",
      " 3.75657225e-04 3.74841454e-04 3.74160308e-04 3.71436645e-04\n",
      " 3.69821182e-04 3.69563345e-04 3.69075270e-04 3.68075557e-04\n",
      " 3.66287261e-04 3.64973985e-04 3.64710890e-04 3.63017753e-04\n",
      " 3.62241388e-04 3.61348624e-04 3.60443253e-04 3.60313417e-04\n",
      " 3.59271075e-04 3.58126785e-04 3.56772339e-04 3.55972691e-04\n",
      " 3.54918563e-04 3.53703963e-04 3.52514201e-04 3.51808645e-04\n",
      " 3.50466196e-04 3.48905691e-04 3.47867084e-04 3.47517078e-04\n",
      " 3.46806659e-04 3.46351668e-04 3.44284969e-04 3.43142157e-04\n",
      " 3.42073594e-04 3.41256614e-04 3.39973496e-04 3.39347268e-04\n",
      " 3.37787261e-04 3.37747819e-04 3.35705106e-04 3.35209937e-04\n",
      " 3.34071577e-04 3.32207438e-04 3.30655841e-04 3.30453015e-04\n",
      " 3.28593355e-04 3.27381729e-04 3.26266176e-04 3.25718975e-04\n",
      " 3.25267990e-04 3.24286417e-04 3.22600484e-04 3.22084411e-04\n",
      " 3.21251091e-04 3.20549441e-04 3.19658767e-04 3.18066921e-04\n",
      " 3.17459654e-04 3.16787473e-04 3.14878595e-04 3.14098424e-04\n",
      " 3.12454788e-04 3.12320327e-04 3.10903988e-04 3.10459074e-04\n",
      " 3.09686627e-04 3.08148098e-04 3.06950408e-04 3.05862170e-04\n",
      " 3.04708490e-04 3.03185945e-04 3.02358194e-04 3.02224861e-04\n",
      " 3.00467361e-04 3.00358114e-04 2.98359280e-04 2.97730018e-04\n",
      " 2.96712281e-04 2.96536592e-04 2.95250382e-04 2.94892873e-04\n",
      " 2.93758391e-04 2.92786604e-04 2.91758550e-04 2.90205798e-04\n",
      " 2.89784655e-04 2.88712066e-04 2.88650865e-04 2.86772595e-04\n",
      " 2.85922336e-04 2.85217663e-04 2.84081701e-04 2.81813223e-04\n",
      " 2.80468089e-04 2.79461167e-04 2.78555835e-04 2.78008260e-04\n",
      " 2.77048059e-04 2.76357862e-04 2.74675802e-04 2.74082339e-04\n",
      " 2.73258136e-04 2.72138896e-04 2.71607987e-04 2.69759864e-04\n",
      " 2.69275615e-04 2.66799684e-04 2.66680316e-04 2.65041490e-04\n",
      " 2.63782713e-04 2.61319388e-04 2.60550557e-04 2.59374306e-04\n",
      " 2.58425490e-04 2.57892597e-04 2.56084459e-04 2.55779689e-04\n",
      " 2.54905811e-04 2.53524840e-04 2.51322428e-04 2.50496815e-04\n",
      " 2.48403723e-04 2.46849781e-04 2.45776420e-04 2.45127430e-04\n",
      " 2.44151573e-04 2.40126566e-04 2.38718268e-04 2.37989046e-04\n",
      " 2.37734352e-04 2.34658535e-04 2.31970554e-04 2.31554422e-04\n",
      " 2.30437202e-04 2.28092853e-04 2.27004643e-04 2.25253131e-04\n",
      " 2.23595410e-04 2.22007687e-04 2.19451630e-04 2.17888201e-04\n",
      " 2.16723133e-04 2.15115771e-04 2.13278373e-04 2.08988904e-04\n",
      " 2.07298177e-04 2.06465158e-04 1.98372218e-04 1.98019730e-04\n",
      " 1.94102849e-04 1.90756208e-04 1.82042199e-04 1.76542717e-04\n",
      " 1.64658281e-04 1.59302656e-04 1.43942198e-04 1.19196341e-04\n",
      " 1.17212456e-04 1.13888637e-04 1.11262196e-04 1.02968825e-04]\n"
     ]
    },
    {
     "data": {
      "text/plain": [
       "0.9998742576892179"
      ]
     },
     "execution_count": 4,
     "metadata": {},
     "output_type": "execute_result"
    }
   ],
   "source": [
    "pca = PCA(n_components=700)\n",
    "pComponents= pca.fit_transform(trainX)\n",
    "sum([float(x) for x in pca.explained_variance_ratio_])"
   ]
  },
  {
   "cell_type": "code",
   "execution_count": 5,
   "metadata": {},
   "outputs": [],
   "source": [
    "X_train, X_test, y_train, y_test = train_test_split(trainX, trainY, test_size=0.2, random_state=23)"
   ]
  },
  {
   "cell_type": "code",
   "execution_count": 6,
   "metadata": {},
   "outputs": [
    {
     "name": "stdout",
     "output_type": "stream",
     "text": [
      "(57697, 702)\n",
      "(57697,)\n"
     ]
    }
   ],
   "source": [
    "print(X_train.shape)\n",
    "print(y_train.shape)"
   ]
  },
  {
   "cell_type": "code",
   "execution_count": 7,
   "metadata": {},
   "outputs": [
    {
     "name": "stdout",
     "output_type": "stream",
     "text": [
      "training Logistic Regression now ...\n"
     ]
    },
    {
     "name": "stderr",
     "output_type": "stream",
     "text": [
      "[Parallel(n_jobs=-1)]: Using backend LokyBackend with 8 concurrent workers.\n",
      "[Parallel(n_jobs=-1)]: Done   1 tasks      | elapsed:   15.2s\n",
      "[Parallel(n_jobs=-1)]: Done   1 out of   1 | elapsed:   15.2s finished\n"
     ]
    },
    {
     "name": "stdout",
     "output_type": "stream",
     "text": [
      "Accuracy of Logistic Regression classifier is: 0.569359 \n"
     ]
    }
   ],
   "source": [
    "print(\"training Logistic Regression now ...\")\n",
    "\n",
    "logistic_regression = LogisticRegression(max_iter=1000, verbose=15, n_jobs=-1).fit(X_train,y_train)\n",
    "y_pred = logistic_regression.predict(X_test)\n",
    "acc = accuracy_score(y_test,y_pred)\n",
    "print('Accuracy of Logistic Regression classifier is: %f ' % acc)"
   ]
  },
  {
   "cell_type": "code",
   "execution_count": 8,
   "metadata": {},
   "outputs": [
    {
     "name": "stdout",
     "output_type": "stream",
     "text": [
      "training Random Forest classifier now ...\n"
     ]
    },
    {
     "name": "stderr",
     "output_type": "stream",
     "text": [
      "[Parallel(n_jobs=-1)]: Using backend ThreadingBackend with 8 concurrent workers.\n"
     ]
    },
    {
     "name": "stdout",
     "output_type": "stream",
     "text": [
      "building tree 1 of 100\n",
      "building tree 2 of 100\n",
      "building tree 3 of 100building tree 4 of 100\n",
      "building tree 5 of 100\n",
      "\n",
      "building tree 6 of 100\n",
      "building tree 7 of 100\n",
      "building tree 8 of 100\n"
     ]
    },
    {
     "name": "stderr",
     "output_type": "stream",
     "text": [
      "[Parallel(n_jobs=-1)]: Done   1 tasks      | elapsed:    1.8s\n",
      "[Parallel(n_jobs=-1)]: Done   2 tasks      | elapsed:    1.9s\n",
      "[Parallel(n_jobs=-1)]: Done   3 tasks      | elapsed:    1.9s\n"
     ]
    },
    {
     "name": "stdout",
     "output_type": "stream",
     "text": [
      "building tree 9 of 100\n",
      "building tree 10 of 100\n",
      "building tree 11 of 100\n"
     ]
    },
    {
     "name": "stderr",
     "output_type": "stream",
     "text": [
      "[Parallel(n_jobs=-1)]: Done   4 tasks      | elapsed:    2.1s\n",
      "[Parallel(n_jobs=-1)]: Done   5 tasks      | elapsed:    2.2s\n",
      "[Parallel(n_jobs=-1)]: Done   6 tasks      | elapsed:    2.2s\n",
      "[Parallel(n_jobs=-1)]: Done   7 tasks      | elapsed:    2.2s\n",
      "[Parallel(n_jobs=-1)]: Done   8 tasks      | elapsed:    2.3s\n"
     ]
    },
    {
     "name": "stdout",
     "output_type": "stream",
     "text": [
      "building tree 12 of 100\n",
      "building tree 13 of 100\n",
      "building tree 14 of 100\n",
      "building tree 15 of 100\n",
      "building tree 16 of 100\n"
     ]
    },
    {
     "name": "stderr",
     "output_type": "stream",
     "text": [
      "[Parallel(n_jobs=-1)]: Done   9 tasks      | elapsed:    3.7s\n",
      "[Parallel(n_jobs=-1)]: Done  10 tasks      | elapsed:    3.9s\n"
     ]
    },
    {
     "name": "stdout",
     "output_type": "stream",
     "text": [
      "building tree 17 of 100\n",
      "building tree 18 of 100\n"
     ]
    },
    {
     "name": "stderr",
     "output_type": "stream",
     "text": [
      "[Parallel(n_jobs=-1)]: Done  11 tasks      | elapsed:    4.2s\n",
      "[Parallel(n_jobs=-1)]: Done  12 tasks      | elapsed:    4.2s\n",
      "[Parallel(n_jobs=-1)]: Done  13 tasks      | elapsed:    4.4s\n",
      "[Parallel(n_jobs=-1)]: Done  14 tasks      | elapsed:    4.4s\n",
      "[Parallel(n_jobs=-1)]: Done  15 tasks      | elapsed:    4.4s\n"
     ]
    },
    {
     "name": "stdout",
     "output_type": "stream",
     "text": [
      "building tree 19 of 100\n",
      "building tree 20 of 100\n",
      "building tree 21 of 100\n",
      "building tree 22 of 100\n",
      "building tree 23 of 100"
     ]
    },
    {
     "name": "stderr",
     "output_type": "stream",
     "text": [
      "[Parallel(n_jobs=-1)]: Done  16 tasks      | elapsed:    4.8s\n"
     ]
    },
    {
     "name": "stdout",
     "output_type": "stream",
     "text": [
      "\n",
      "building tree 24 of 100\n"
     ]
    },
    {
     "name": "stderr",
     "output_type": "stream",
     "text": [
      "[Parallel(n_jobs=-1)]: Done  17 tasks      | elapsed:    5.8s\n"
     ]
    },
    {
     "name": "stdout",
     "output_type": "stream",
     "text": [
      "building tree 25 of 100\n"
     ]
    },
    {
     "name": "stderr",
     "output_type": "stream",
     "text": [
      "[Parallel(n_jobs=-1)]: Done  18 tasks      | elapsed:    6.4s\n",
      "[Parallel(n_jobs=-1)]: Done  19 tasks      | elapsed:    6.5s\n",
      "[Parallel(n_jobs=-1)]: Done  20 tasks      | elapsed:    6.6s\n"
     ]
    },
    {
     "name": "stdout",
     "output_type": "stream",
     "text": [
      "building tree 26 of 100\n",
      "building tree 27 of 100\n",
      "building tree 28 of 100\n"
     ]
    },
    {
     "name": "stderr",
     "output_type": "stream",
     "text": [
      "[Parallel(n_jobs=-1)]: Done  21 tasks      | elapsed:    6.8s\n",
      "[Parallel(n_jobs=-1)]: Done  22 tasks      | elapsed:    6.8s\n",
      "[Parallel(n_jobs=-1)]: Done  23 tasks      | elapsed:    6.8s\n"
     ]
    },
    {
     "name": "stdout",
     "output_type": "stream",
     "text": [
      "building tree 29 of 100\n",
      "building tree 30 of 100\n",
      "building tree 31 of 100\n",
      "building tree 32 of 100\n"
     ]
    },
    {
     "name": "stderr",
     "output_type": "stream",
     "text": [
      "[Parallel(n_jobs=-1)]: Done  24 tasks      | elapsed:    7.1s\n",
      "[Parallel(n_jobs=-1)]: Done  25 tasks      | elapsed:    8.3s\n",
      "[Parallel(n_jobs=-1)]: Done  26 tasks      | elapsed:    8.5s\n"
     ]
    },
    {
     "name": "stdout",
     "output_type": "stream",
     "text": [
      "building tree 33 of 100\n",
      "building tree 34 of 100"
     ]
    },
    {
     "name": "stderr",
     "output_type": "stream",
     "text": [
      "[Parallel(n_jobs=-1)]: Done  27 tasks      | elapsed:    8.6s\n",
      "[Parallel(n_jobs=-1)]: Done  28 tasks      | elapsed:    8.6s\n"
     ]
    },
    {
     "name": "stdout",
     "output_type": "stream",
     "text": [
      "\n",
      "building tree 35 of 100\n",
      "building tree 36 of 100\n"
     ]
    },
    {
     "name": "stderr",
     "output_type": "stream",
     "text": [
      "[Parallel(n_jobs=-1)]: Done  29 tasks      | elapsed:    9.0s\n",
      "[Parallel(n_jobs=-1)]: Done  30 tasks      | elapsed:    9.1s\n",
      "[Parallel(n_jobs=-1)]: Done  31 tasks      | elapsed:    9.1s\n"
     ]
    },
    {
     "name": "stdout",
     "output_type": "stream",
     "text": [
      "building tree 37 of 100\n",
      "building tree 38 of 100\n",
      "building tree 39 of 100\n"
     ]
    },
    {
     "name": "stderr",
     "output_type": "stream",
     "text": [
      "[Parallel(n_jobs=-1)]: Done  32 tasks      | elapsed:    9.5s\n"
     ]
    },
    {
     "name": "stdout",
     "output_type": "stream",
     "text": [
      "building tree 40 of 100\n"
     ]
    },
    {
     "name": "stderr",
     "output_type": "stream",
     "text": [
      "[Parallel(n_jobs=-1)]: Done  33 tasks      | elapsed:   10.2s\n"
     ]
    },
    {
     "name": "stdout",
     "output_type": "stream",
     "text": [
      "building tree 41 of 100\n"
     ]
    },
    {
     "name": "stderr",
     "output_type": "stream",
     "text": [
      "[Parallel(n_jobs=-1)]: Done  34 tasks      | elapsed:   11.0s\n",
      "[Parallel(n_jobs=-1)]: Done  35 tasks      | elapsed:   11.1s\n"
     ]
    },
    {
     "name": "stdout",
     "output_type": "stream",
     "text": [
      "building tree 42 of 100\n",
      "building tree 43 of 100\n"
     ]
    },
    {
     "name": "stderr",
     "output_type": "stream",
     "text": [
      "[Parallel(n_jobs=-1)]: Done  36 tasks      | elapsed:   11.2s\n",
      "[Parallel(n_jobs=-1)]: Done  37 tasks      | elapsed:   11.3s\n",
      "[Parallel(n_jobs=-1)]: Done  38 tasks      | elapsed:   11.4s\n"
     ]
    },
    {
     "name": "stdout",
     "output_type": "stream",
     "text": [
      "building tree 44 of 100\n",
      "building tree 45 of 100\n",
      "building tree 46 of 100\n",
      "building tree 47 of 100\n"
     ]
    },
    {
     "name": "stderr",
     "output_type": "stream",
     "text": [
      "[Parallel(n_jobs=-1)]: Done  39 tasks      | elapsed:   11.4s\n",
      "[Parallel(n_jobs=-1)]: Done  40 tasks      | elapsed:   11.8s\n"
     ]
    },
    {
     "name": "stdout",
     "output_type": "stream",
     "text": [
      "building tree 48 of 100\n"
     ]
    },
    {
     "name": "stderr",
     "output_type": "stream",
     "text": [
      "[Parallel(n_jobs=-1)]: Done  41 tasks      | elapsed:   12.2s\n"
     ]
    },
    {
     "name": "stdout",
     "output_type": "stream",
     "text": [
      "building tree 49 of 100\n"
     ]
    },
    {
     "name": "stderr",
     "output_type": "stream",
     "text": [
      "[Parallel(n_jobs=-1)]: Done  42 tasks      | elapsed:   13.1s\n",
      "[Parallel(n_jobs=-1)]: Done  43 tasks      | elapsed:   13.2s\n"
     ]
    },
    {
     "name": "stdout",
     "output_type": "stream",
     "text": [
      "building tree 50 of 100\n",
      "building tree 51 of 100\n"
     ]
    },
    {
     "name": "stderr",
     "output_type": "stream",
     "text": [
      "[Parallel(n_jobs=-1)]: Done  44 tasks      | elapsed:   13.4s\n"
     ]
    },
    {
     "name": "stdout",
     "output_type": "stream",
     "text": [
      "building tree 52 of 100\n"
     ]
    },
    {
     "name": "stderr",
     "output_type": "stream",
     "text": [
      "[Parallel(n_jobs=-1)]: Done  45 tasks      | elapsed:   14.0s\n",
      "[Parallel(n_jobs=-1)]: Done  46 tasks      | elapsed:   14.0s\n",
      "[Parallel(n_jobs=-1)]: Done  47 tasks      | elapsed:   14.1s\n"
     ]
    },
    {
     "name": "stdout",
     "output_type": "stream",
     "text": [
      "building tree 53 of 100\n",
      "building tree 54 of 100\n",
      "building tree 55 of 100\n"
     ]
    },
    {
     "name": "stderr",
     "output_type": "stream",
     "text": [
      "[Parallel(n_jobs=-1)]: Done  48 tasks      | elapsed:   14.4s\n",
      "[Parallel(n_jobs=-1)]: Done  49 tasks      | elapsed:   14.4s\n"
     ]
    },
    {
     "name": "stdout",
     "output_type": "stream",
     "text": [
      "building tree 56 of 100\n",
      "building tree 57 of 100\n"
     ]
    },
    {
     "name": "stderr",
     "output_type": "stream",
     "text": [
      "[Parallel(n_jobs=-1)]: Done  50 tasks      | elapsed:   15.2s\n"
     ]
    },
    {
     "name": "stdout",
     "output_type": "stream",
     "text": [
      "building tree 58 of 100\n"
     ]
    },
    {
     "name": "stderr",
     "output_type": "stream",
     "text": [
      "[Parallel(n_jobs=-1)]: Done  51 tasks      | elapsed:   15.5s\n"
     ]
    },
    {
     "name": "stdout",
     "output_type": "stream",
     "text": [
      "building tree 59 of 100\n"
     ]
    },
    {
     "name": "stderr",
     "output_type": "stream",
     "text": [
      "[Parallel(n_jobs=-1)]: Done  52 tasks      | elapsed:   15.8s\n",
      "[Parallel(n_jobs=-1)]: Done  53 tasks      | elapsed:   16.0s\n"
     ]
    },
    {
     "name": "stdout",
     "output_type": "stream",
     "text": [
      "building tree 60 of 100\n",
      "building tree 61 of 100"
     ]
    },
    {
     "name": "stderr",
     "output_type": "stream",
     "text": [
      "[Parallel(n_jobs=-1)]: Done  54 tasks      | elapsed:   16.3s\n",
      "[Parallel(n_jobs=-1)]: Done  55 tasks      | elapsed:   16.3s\n",
      "[Parallel(n_jobs=-1)]: Done  56 tasks      | elapsed:   16.4s\n"
     ]
    },
    {
     "name": "stdout",
     "output_type": "stream",
     "text": [
      "\n",
      "building tree 62 of 100\n",
      "building tree 63 of 100\n",
      "building tree 64 of 100\n",
      "building tree 65 of 100\n"
     ]
    },
    {
     "name": "stderr",
     "output_type": "stream",
     "text": [
      "[Parallel(n_jobs=-1)]: Done  57 tasks      | elapsed:   16.8s\n",
      "[Parallel(n_jobs=-1)]: Done  58 tasks      | elapsed:   17.3s\n"
     ]
    },
    {
     "name": "stdout",
     "output_type": "stream",
     "text": [
      "building tree 66 of 100\n"
     ]
    },
    {
     "name": "stderr",
     "output_type": "stream",
     "text": [
      "[Parallel(n_jobs=-1)]: Done  59 tasks      | elapsed:   17.7s\n"
     ]
    },
    {
     "name": "stdout",
     "output_type": "stream",
     "text": [
      "building tree 67 of 100\n"
     ]
    },
    {
     "name": "stderr",
     "output_type": "stream",
     "text": [
      "[Parallel(n_jobs=-1)]: Done  60 tasks      | elapsed:   18.1s\n",
      "[Parallel(n_jobs=-1)]: Done  61 tasks      | elapsed:   18.1s\n",
      "[Parallel(n_jobs=-1)]: Done  62 tasks      | elapsed:   18.2s\n"
     ]
    },
    {
     "name": "stdout",
     "output_type": "stream",
     "text": [
      "building tree 68 of 100\n",
      "building tree 69 of 100\n",
      "building tree 70 of 100\n"
     ]
    },
    {
     "name": "stderr",
     "output_type": "stream",
     "text": [
      "[Parallel(n_jobs=-1)]: Done  63 tasks      | elapsed:   18.4s\n",
      "[Parallel(n_jobs=-1)]: Done  64 tasks      | elapsed:   18.6s\n"
     ]
    },
    {
     "name": "stdout",
     "output_type": "stream",
     "text": [
      "building tree 71 of 100\n",
      "building tree 72 of 100\n"
     ]
    },
    {
     "name": "stderr",
     "output_type": "stream",
     "text": [
      "[Parallel(n_jobs=-1)]: Done  65 tasks      | elapsed:   19.0s\n"
     ]
    },
    {
     "name": "stdout",
     "output_type": "stream",
     "text": [
      "building tree 73 of 100\n"
     ]
    },
    {
     "name": "stderr",
     "output_type": "stream",
     "text": [
      "[Parallel(n_jobs=-1)]: Done  66 tasks      | elapsed:   19.5s\n",
      "[Parallel(n_jobs=-1)]: Done  67 tasks      | elapsed:   19.6s\n"
     ]
    },
    {
     "name": "stdout",
     "output_type": "stream",
     "text": [
      "building tree 74 of 100\n",
      "building tree 75 of 100\n"
     ]
    },
    {
     "name": "stderr",
     "output_type": "stream",
     "text": [
      "[Parallel(n_jobs=-1)]: Done  68 tasks      | elapsed:   20.1s\n"
     ]
    },
    {
     "name": "stdout",
     "output_type": "stream",
     "text": [
      "building tree 76 of 100\n"
     ]
    },
    {
     "name": "stderr",
     "output_type": "stream",
     "text": [
      "[Parallel(n_jobs=-1)]: Done  69 tasks      | elapsed:   20.5s\n",
      "[Parallel(n_jobs=-1)]: Done  70 tasks      | elapsed:   20.5s\n",
      "[Parallel(n_jobs=-1)]: Done  71 tasks      | elapsed:   20.5s\n"
     ]
    },
    {
     "name": "stdout",
     "output_type": "stream",
     "text": [
      "building tree 77 of 100\n",
      "building tree 78 of 100\n",
      "building tree 79 of 100\n"
     ]
    },
    {
     "name": "stderr",
     "output_type": "stream",
     "text": [
      "[Parallel(n_jobs=-1)]: Done  72 tasks      | elapsed:   20.8s\n"
     ]
    },
    {
     "name": "stdout",
     "output_type": "stream",
     "text": [
      "building tree 80 of 100\n",
      "building tree 81 of 100\n"
     ]
    },
    {
     "name": "stderr",
     "output_type": "stream",
     "text": [
      "[Parallel(n_jobs=-1)]: Done  73 tasks      | elapsed:   21.1s\n"
     ]
    },
    {
     "name": "stdout",
     "output_type": "stream",
     "text": [
      "building tree 82 of 100\n"
     ]
    },
    {
     "name": "stderr",
     "output_type": "stream",
     "text": [
      "[Parallel(n_jobs=-1)]: Done  74 tasks      | elapsed:   21.6s\n",
      "[Parallel(n_jobs=-1)]: Done  75 tasks      | elapsed:   21.9s\n",
      "[Parallel(n_jobs=-1)]: Done  76 tasks      | elapsed:   22.0s\n"
     ]
    },
    {
     "name": "stdout",
     "output_type": "stream",
     "text": [
      "building tree 83 of 100\n",
      "building tree 84 of 100\n"
     ]
    },
    {
     "name": "stderr",
     "output_type": "stream",
     "text": [
      "[Parallel(n_jobs=-1)]: Done  77 tasks      | elapsed:   22.3s\n",
      "[Parallel(n_jobs=-1)]: Done  78 tasks      | elapsed:   22.5s\n"
     ]
    },
    {
     "name": "stdout",
     "output_type": "stream",
     "text": [
      "building tree 85 of 100\n",
      "building tree 86 of 100"
     ]
    },
    {
     "name": "stderr",
     "output_type": "stream",
     "text": [
      "[Parallel(n_jobs=-1)]: Done  79 tasks      | elapsed:   22.9s\n"
     ]
    },
    {
     "name": "stdout",
     "output_type": "stream",
     "text": [
      "\n",
      "building tree 87 of 100\n"
     ]
    },
    {
     "name": "stderr",
     "output_type": "stream",
     "text": [
      "[Parallel(n_jobs=-1)]: Done  80 tasks      | elapsed:   23.3s\n",
      "[Parallel(n_jobs=-1)]: Done  81 tasks      | elapsed:   23.3s\n"
     ]
    },
    {
     "name": "stdout",
     "output_type": "stream",
     "text": [
      "building tree 88 of 100\n",
      "building tree 89 of 100\n"
     ]
    },
    {
     "name": "stderr",
     "output_type": "stream",
     "text": [
      "[Parallel(n_jobs=-1)]: Done  82 tasks      | elapsed:   23.9s\n",
      "[Parallel(n_jobs=-1)]: Done  83 tasks      | elapsed:   24.1s\n"
     ]
    },
    {
     "name": "stdout",
     "output_type": "stream",
     "text": [
      "building tree 90 of 100\n",
      "building tree 91 of 100"
     ]
    },
    {
     "name": "stderr",
     "output_type": "stream",
     "text": [
      "[Parallel(n_jobs=-1)]: Done  84 tasks      | elapsed:   24.3s\n"
     ]
    },
    {
     "name": "stdout",
     "output_type": "stream",
     "text": [
      "\n",
      "building tree 92 of 100\n",
      "building tree 93 of 100\n"
     ]
    },
    {
     "name": "stderr",
     "output_type": "stream",
     "text": [
      "[Parallel(n_jobs=-1)]: Done  85 tasks      | elapsed:   24.4s\n"
     ]
    },
    {
     "name": "stdout",
     "output_type": "stream",
     "text": [
      "building tree 94 of 100\n",
      "building tree 95 of 100\n",
      "building tree 96 of 100\n",
      "building tree 97 of 100\n",
      "building tree 98 of 100\n",
      "building tree 99 of 100\n"
     ]
    },
    {
     "name": "stderr",
     "output_type": "stream",
     "text": [
      "[Parallel(n_jobs=-1)]: Done  92 out of 100 | elapsed:   26.5s remaining:    2.2s\n"
     ]
    },
    {
     "name": "stdout",
     "output_type": "stream",
     "text": [
      "building tree 100 of 100\n"
     ]
    },
    {
     "name": "stderr",
     "output_type": "stream",
     "text": [
      "[Parallel(n_jobs=-1)]: Done 100 out of 100 | elapsed:   28.2s finished\n",
      "[Parallel(n_jobs=8)]: Using backend ThreadingBackend with 8 concurrent workers.\n",
      "[Parallel(n_jobs=8)]: Done   1 tasks      | elapsed:    0.0s\n",
      "[Parallel(n_jobs=8)]: Done   2 tasks      | elapsed:    0.0s\n",
      "[Parallel(n_jobs=8)]: Done   3 tasks      | elapsed:    0.0s\n",
      "[Parallel(n_jobs=8)]: Done   4 tasks      | elapsed:    0.0s\n",
      "[Parallel(n_jobs=8)]: Done   5 tasks      | elapsed:    0.0s\n",
      "[Parallel(n_jobs=8)]: Done   6 tasks      | elapsed:    0.0s\n",
      "[Parallel(n_jobs=8)]: Done   7 tasks      | elapsed:    0.0s\n",
      "[Parallel(n_jobs=8)]: Done   8 tasks      | elapsed:    0.0s\n",
      "[Parallel(n_jobs=8)]: Done   9 tasks      | elapsed:    0.0s\n",
      "[Parallel(n_jobs=8)]: Done  10 tasks      | elapsed:    0.0s\n",
      "[Parallel(n_jobs=8)]: Done  11 tasks      | elapsed:    0.0s\n",
      "[Parallel(n_jobs=8)]: Done  12 tasks      | elapsed:    0.0s\n",
      "[Parallel(n_jobs=8)]: Done  13 tasks      | elapsed:    0.0s\n",
      "[Parallel(n_jobs=8)]: Done  14 tasks      | elapsed:    0.0s\n",
      "[Parallel(n_jobs=8)]: Done  15 tasks      | elapsed:    0.0s\n",
      "[Parallel(n_jobs=8)]: Done  16 tasks      | elapsed:    0.0s\n",
      "[Parallel(n_jobs=8)]: Done  17 tasks      | elapsed:    0.0s\n",
      "[Parallel(n_jobs=8)]: Done  18 tasks      | elapsed:    0.0s\n",
      "[Parallel(n_jobs=8)]: Done  19 tasks      | elapsed:    0.0s\n",
      "[Parallel(n_jobs=8)]: Done  20 tasks      | elapsed:    0.0s\n",
      "[Parallel(n_jobs=8)]: Done  21 tasks      | elapsed:    0.0s\n",
      "[Parallel(n_jobs=8)]: Done  22 tasks      | elapsed:    0.0s\n",
      "[Parallel(n_jobs=8)]: Done  23 tasks      | elapsed:    0.0s\n",
      "[Parallel(n_jobs=8)]: Done  24 tasks      | elapsed:    0.0s\n",
      "[Parallel(n_jobs=8)]: Done  25 tasks      | elapsed:    0.0s\n",
      "[Parallel(n_jobs=8)]: Done  26 tasks      | elapsed:    0.0s\n",
      "[Parallel(n_jobs=8)]: Done  27 tasks      | elapsed:    0.0s\n",
      "[Parallel(n_jobs=8)]: Done  28 tasks      | elapsed:    0.0s\n",
      "[Parallel(n_jobs=8)]: Done  29 tasks      | elapsed:    0.0s\n",
      "[Parallel(n_jobs=8)]: Done  30 tasks      | elapsed:    0.0s\n",
      "[Parallel(n_jobs=8)]: Done  31 tasks      | elapsed:    0.0s\n",
      "[Parallel(n_jobs=8)]: Done  32 tasks      | elapsed:    0.0s\n",
      "[Parallel(n_jobs=8)]: Done  33 tasks      | elapsed:    0.0s\n",
      "[Parallel(n_jobs=8)]: Done  34 tasks      | elapsed:    0.0s\n",
      "[Parallel(n_jobs=8)]: Done  35 tasks      | elapsed:    0.0s\n",
      "[Parallel(n_jobs=8)]: Done  36 tasks      | elapsed:    0.0s\n",
      "[Parallel(n_jobs=8)]: Done  37 tasks      | elapsed:    0.0s\n",
      "[Parallel(n_jobs=8)]: Done  38 tasks      | elapsed:    0.0s\n",
      "[Parallel(n_jobs=8)]: Done  39 tasks      | elapsed:    0.0s\n",
      "[Parallel(n_jobs=8)]: Done  40 tasks      | elapsed:    0.0s\n",
      "[Parallel(n_jobs=8)]: Done  41 tasks      | elapsed:    0.1s\n",
      "[Parallel(n_jobs=8)]: Done  42 tasks      | elapsed:    0.1s\n",
      "[Parallel(n_jobs=8)]: Done  43 tasks      | elapsed:    0.1s\n",
      "[Parallel(n_jobs=8)]: Done  44 tasks      | elapsed:    0.1s\n",
      "[Parallel(n_jobs=8)]: Done  45 tasks      | elapsed:    0.1s\n",
      "[Parallel(n_jobs=8)]: Done  46 tasks      | elapsed:    0.1s\n",
      "[Parallel(n_jobs=8)]: Done  47 tasks      | elapsed:    0.1s\n",
      "[Parallel(n_jobs=8)]: Done  48 tasks      | elapsed:    0.1s\n",
      "[Parallel(n_jobs=8)]: Done  49 tasks      | elapsed:    0.1s\n",
      "[Parallel(n_jobs=8)]: Done  50 tasks      | elapsed:    0.1s\n",
      "[Parallel(n_jobs=8)]: Done  51 tasks      | elapsed:    0.1s\n",
      "[Parallel(n_jobs=8)]: Done  52 tasks      | elapsed:    0.1s\n",
      "[Parallel(n_jobs=8)]: Done  53 tasks      | elapsed:    0.1s\n",
      "[Parallel(n_jobs=8)]: Done  54 tasks      | elapsed:    0.1s\n",
      "[Parallel(n_jobs=8)]: Done  55 tasks      | elapsed:    0.1s\n",
      "[Parallel(n_jobs=8)]: Done  56 tasks      | elapsed:    0.1s\n",
      "[Parallel(n_jobs=8)]: Done  57 tasks      | elapsed:    0.1s\n",
      "[Parallel(n_jobs=8)]: Done  58 tasks      | elapsed:    0.1s\n",
      "[Parallel(n_jobs=8)]: Done  59 tasks      | elapsed:    0.1s\n",
      "[Parallel(n_jobs=8)]: Done  60 tasks      | elapsed:    0.1s\n",
      "[Parallel(n_jobs=8)]: Done  61 tasks      | elapsed:    0.1s\n",
      "[Parallel(n_jobs=8)]: Done  62 tasks      | elapsed:    0.1s\n",
      "[Parallel(n_jobs=8)]: Done  63 tasks      | elapsed:    0.1s\n",
      "[Parallel(n_jobs=8)]: Done  64 tasks      | elapsed:    0.1s\n",
      "[Parallel(n_jobs=8)]: Done  65 tasks      | elapsed:    0.1s\n",
      "[Parallel(n_jobs=8)]: Done  66 tasks      | elapsed:    0.1s\n",
      "[Parallel(n_jobs=8)]: Done  67 tasks      | elapsed:    0.1s\n",
      "[Parallel(n_jobs=8)]: Done  68 tasks      | elapsed:    0.1s\n",
      "[Parallel(n_jobs=8)]: Done  69 tasks      | elapsed:    0.1s\n",
      "[Parallel(n_jobs=8)]: Done  70 tasks      | elapsed:    0.1s\n",
      "[Parallel(n_jobs=8)]: Done  71 tasks      | elapsed:    0.2s\n",
      "[Parallel(n_jobs=8)]: Done  72 tasks      | elapsed:    0.2s\n",
      "[Parallel(n_jobs=8)]: Done  73 tasks      | elapsed:    0.2s\n",
      "[Parallel(n_jobs=8)]: Done  74 tasks      | elapsed:    0.2s\n",
      "[Parallel(n_jobs=8)]: Done  75 tasks      | elapsed:    0.2s\n",
      "[Parallel(n_jobs=8)]: Done  76 tasks      | elapsed:    0.2s\n",
      "[Parallel(n_jobs=8)]: Done  77 tasks      | elapsed:    0.2s\n",
      "[Parallel(n_jobs=8)]: Done  78 tasks      | elapsed:    0.2s\n",
      "[Parallel(n_jobs=8)]: Done  79 tasks      | elapsed:    0.2s\n",
      "[Parallel(n_jobs=8)]: Done  80 tasks      | elapsed:    0.2s\n",
      "[Parallel(n_jobs=8)]: Done  81 tasks      | elapsed:    0.2s\n",
      "[Parallel(n_jobs=8)]: Done  82 tasks      | elapsed:    0.2s\n",
      "[Parallel(n_jobs=8)]: Done  83 tasks      | elapsed:    0.2s\n"
     ]
    },
    {
     "name": "stdout",
     "output_type": "stream",
     "text": [
      "Accuracy of Random Forest classifier is: 0.680624 \n"
     ]
    },
    {
     "name": "stderr",
     "output_type": "stream",
     "text": [
      "[Parallel(n_jobs=8)]: Done  84 tasks      | elapsed:    0.2s\n",
      "[Parallel(n_jobs=8)]: Done  85 tasks      | elapsed:    0.2s\n",
      "[Parallel(n_jobs=8)]: Done  92 out of 100 | elapsed:    0.2s remaining:    0.0s\n",
      "[Parallel(n_jobs=8)]: Done 100 out of 100 | elapsed:    0.3s finished\n"
     ]
    }
   ],
   "source": [
    "print(\"training Random Forest classifier now ...\")\n",
    "\n",
    "random_forest_classifier = RandomForestClassifier(n_estimators=100, verbose=15, n_jobs=-1).fit(X_train,y_train)\n",
    "#increase n_estimators if you face issues in training\n",
    "y_pred=random_forest_classifier.predict(X_test)\n",
    "acc=accuracy_score(y_test,y_pred)\n",
    "print('Accuracy of Random Forest classifier is: %f ' % acc)"
   ]
  },
  {
   "cell_type": "code",
   "execution_count": 14,
   "metadata": {},
   "outputs": [
    {
     "name": "stdout",
     "output_type": "stream",
     "text": [
      "current time:- 2021-04-06 11:20:30.608043\n",
      "0.9998742576892179\n",
      "(57697, 700)\n",
      "(57697,)\n",
      "training SVM classifier now ...\n",
      "[LibSVM]Accuracy of SVM classifier is: 0.644506 \n",
      "current time:- 2021-04-06 12:29:56.703171\n"
     ]
    }
   ],
   "source": [
    "print(\"current time:-\", datetime.datetime.now())\n",
    "\n",
    "pca = PCA(n_components=700)\n",
    "pComponents= pca.fit_transform(trainX)\n",
    "print(sum([float(x) for x in pca.explained_variance_ratio_]))\n",
    "\n",
    "X_train, X_test, y_train, y_test = train_test_split(pComponents, trainY, test_size=0.2, random_state=23)\n",
    "print(X_train.shape)\n",
    "print(y_train.shape)\n",
    "\n",
    "print(\"training SVM classifier now ...\")\n",
    "\n",
    "svm_classifier = svm.SVC(verbose=12).fit(X_train,y_train)\n",
    "y_pred = svm_classifier.predict(X_test)\n",
    "acc = accuracy_score(y_test,y_pred)\n",
    "print('Accuracy of SVM classifier is: %f ' % acc)\n",
    "print(\"current time:-\", datetime.datetime.now())"
   ]
  },
  {
   "cell_type": "code",
   "execution_count": null,
   "metadata": {},
   "outputs": [],
   "source": [
    "pca = PCA(n_components=700)\n",
    "pComponents= pca.fit_transform(trainX)\n",
    "print(sum([float(x) for x in pca.explained_variance_ratio_]))\n",
    "\n",
    "#X_train, X_test, y_train, y_test = train_test_split(pComponents, trainY, test_size=0.15, random_state=23)"
   ]
  },
  {
   "cell_type": "code",
   "execution_count": null,
   "metadata": {},
   "outputs": [],
   "source": [
    "print(\"training Deep Neural Network now ...\")\n",
    "\n",
    "dnn_model = keras.Sequential([\n",
    "    keras.layers.Flatten(input_shape=(700,)),\n",
    "    keras.layers.Dense(500, activation=tf.nn.relu),\n",
    "    keras.layers.Dense(200, activation=tf.nn.relu),\n",
    "    keras.layers.Dense(1, activation=tf.nn.sigmoid),\n",
    "])\n",
    "\n",
    "dnn_model.compile(optimizer='adam', loss='binary_crossentropy', metrics=['accuracy'])\n",
    "\n",
    "print(\"current time:-\", datetime.datetime.now())\n",
    "history = dnn_model.fit(pComponents, trainY, validation_split=0.25, epochs=200, batch_size=5)\n",
    "\n",
    "# list all data in history\n",
    "print(history.history.keys())\n",
    "\n",
    "#test_loss, test_acc = dnn_model.evaluate(X_test, y_test)\n",
    "#print('Accuracy of Deep Neural Network is: %f ' % test_acc)\n",
    "print(\"current time:-\", datetime.datetime.now())\n",
    "\n",
    "# summarize history for loss\n",
    "plt.plot(history.history['loss'])\n",
    "plt.plot(history.history['val_loss'])\n",
    "plt.title('model loss')\n",
    "plt.ylabel('loss')\n",
    "plt.xlabel('epoch')\n",
    "plt.legend(['train', 'test'], loc='upper left')\n",
    "plt.show()"
   ]
  },
  {
   "cell_type": "code",
   "execution_count": null,
   "metadata": {},
   "outputs": [],
   "source": []
  }
 ],
 "metadata": {
  "kernelspec": {
   "display_name": "Python 3",
   "language": "python",
   "name": "python3"
  },
  "language_info": {
   "codemirror_mode": {
    "name": "ipython",
    "version": 3
   },
   "file_extension": ".py",
   "mimetype": "text/x-python",
   "name": "python",
   "nbconvert_exporter": "python",
   "pygments_lexer": "ipython3",
   "version": "3.8.5"
  }
 },
 "nbformat": 4,
 "nbformat_minor": 4
}
