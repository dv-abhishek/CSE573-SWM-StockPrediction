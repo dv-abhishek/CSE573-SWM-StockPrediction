{
 "cells": [
  {
   "cell_type": "code",
   "execution_count": 1,
   "metadata": {},
   "outputs": [],
   "source": [
    "from sklearn.model_selection import train_test_split\n",
    "from sklearn.decomposition import PCA\n",
    "from sklearn.metrics import accuracy_score\n",
    "from sklearn.linear_model import LogisticRegression\n",
    "from sklearn.ensemble import RandomForestClassifier\n",
    "from sklearn import svm\n",
    "from sklearn import tree\n",
    "import tensorflow as tf\n",
    "from tensorflow import keras\n",
    "import pickle\n",
    "import datetime\n",
    "import numpy as np\n",
    "import matplotlib.pyplot as plt"
   ]
  },
  {
   "cell_type": "code",
   "execution_count": 2,
   "metadata": {},
   "outputs": [],
   "source": [
    "# Load features and labels data\n",
    "\n",
    "with open('aapl_one_gram_features_labelled_df.pkl', 'rb') as f:\n",
    "    labelled_aapl_news_df = pickle.load(f)"
   ]
  },
  {
   "cell_type": "code",
   "execution_count": 3,
   "metadata": {},
   "outputs": [
    {
     "name": "stdout",
     "output_type": "stream",
     "text": [
      "(71941, 703)\n",
      "(71941,)\n"
     ]
    },
    {
     "data": {
      "text/plain": [
       "array([[0, 0, 0, ..., 0, 0, 0],\n",
       "       [0, 0, 0, ..., 0, 0, 0],\n",
       "       [0, 0, 0, ..., 0, 0, 0],\n",
       "       ...,\n",
       "       [0, 0, 0, ..., 0, 0, 0],\n",
       "       [0, 0, 0, ..., 0, 0, 0],\n",
       "       [0, 0, 0, ..., 0, 0, 0]], dtype=int64)"
      ]
     },
     "execution_count": 3,
     "metadata": {},
     "output_type": "execute_result"
    }
   ],
   "source": [
    "trainX_df=labelled_aapl_news_df['features']\n",
    "trainY_df=labelled_aapl_news_df['label']\n",
    "\n",
    "trainX = np.stack(trainX_df)\n",
    "\n",
    "trainY_df=trainY_df.astype('int')\n",
    "trainY = np.stack(trainY_df)\n",
    "\n",
    "print(trainX.shape)\n",
    "print(trainY.shape)\n",
    "trainX"
   ]
  },
  {
   "cell_type": "code",
   "execution_count": 4,
   "metadata": {},
   "outputs": [
    {
     "name": "stdout",
     "output_type": "stream",
     "text": [
      "[1.32883149e-01 4.76277059e-02 3.56595545e-02 1.37901741e-02\n",
      " 1.26224418e-02 1.16200153e-02 1.01264151e-02 8.84582334e-03\n",
      " 7.55819198e-03 7.21041341e-03 6.55083533e-03 6.28343963e-03\n",
      " 6.14180823e-03 5.66837850e-03 5.47585998e-03 5.46703399e-03\n",
      " 5.25813918e-03 5.14525058e-03 4.97566944e-03 4.82511421e-03\n",
      " 4.61329874e-03 4.41802003e-03 4.33032974e-03 4.29975905e-03\n",
      " 4.25620414e-03 4.06891867e-03 3.97695105e-03 3.90163312e-03\n",
      " 3.78934415e-03 3.74945898e-03 3.69668562e-03 3.55820326e-03\n",
      " 3.54142299e-03 3.47046483e-03 3.41181703e-03 3.38786904e-03\n",
      " 3.36945859e-03 3.31598042e-03 3.28892294e-03 3.23908206e-03\n",
      " 3.17427293e-03 3.13471042e-03 3.07792503e-03 3.05986296e-03\n",
      " 3.02168581e-03 2.98689785e-03 2.92824811e-03 2.90905206e-03\n",
      " 2.85296888e-03 2.84539159e-03 2.79824560e-03 2.77776408e-03\n",
      " 2.73743030e-03 2.73519789e-03 2.70682109e-03 2.69788459e-03\n",
      " 2.64848034e-03 2.63115453e-03 2.61358154e-03 2.59924350e-03\n",
      " 2.58189850e-03 2.55179837e-03 2.52456571e-03 2.50651470e-03\n",
      " 2.49861221e-03 2.48334308e-03 2.45688001e-03 2.44082283e-03\n",
      " 2.42399174e-03 2.41026425e-03 2.38409878e-03 2.35814091e-03\n",
      " 2.34593414e-03 2.33281243e-03 2.32545139e-03 2.30213599e-03\n",
      " 2.28441478e-03 2.26964927e-03 2.24677169e-03 2.23840249e-03\n",
      " 2.23524428e-03 2.21072095e-03 2.19530346e-03 2.19076361e-03\n",
      " 2.18125936e-03 2.15891751e-03 2.15147090e-03 2.13175156e-03\n",
      " 2.11737286e-03 2.11160380e-03 2.08458653e-03 2.06567358e-03\n",
      " 2.06392712e-03 2.04671055e-03 2.03382168e-03 2.02598189e-03\n",
      " 2.01261200e-03 2.00174711e-03 1.99097255e-03 1.97678366e-03\n",
      " 1.96362280e-03 1.95574760e-03 1.94343370e-03 1.94022485e-03\n",
      " 1.93772576e-03 1.91581597e-03 1.90787085e-03 1.89226520e-03\n",
      " 1.88558529e-03 1.88294646e-03 1.87457058e-03 1.86136046e-03\n",
      " 1.84930422e-03 1.84308044e-03 1.82943821e-03 1.81859973e-03\n",
      " 1.81217581e-03 1.80476984e-03 1.79947319e-03 1.78261806e-03\n",
      " 1.77356138e-03 1.76695173e-03 1.75731062e-03 1.74085509e-03\n",
      " 1.73296302e-03 1.73077631e-03 1.72005381e-03 1.71366803e-03\n",
      " 1.70353827e-03 1.70114475e-03 1.69846865e-03 1.68746175e-03\n",
      " 1.68315481e-03 1.67187832e-03 1.65590585e-03 1.64850695e-03\n",
      " 1.64535434e-03 1.63911340e-03 1.63031725e-03 1.61888509e-03\n",
      " 1.61665814e-03 1.60517093e-03 1.60285982e-03 1.58590291e-03\n",
      " 1.57672345e-03 1.56831113e-03 1.56634226e-03 1.55905059e-03\n",
      " 1.55476141e-03 1.53779962e-03 1.53432431e-03 1.52609118e-03\n",
      " 1.51871464e-03 1.50718744e-03 1.49601454e-03 1.49022083e-03\n",
      " 1.48381003e-03 1.47837474e-03 1.46855588e-03 1.46025354e-03\n",
      " 1.45384958e-03 1.45087689e-03 1.44326632e-03 1.43123690e-03\n",
      " 1.42682231e-03 1.42387466e-03 1.41555394e-03 1.41403722e-03\n",
      " 1.40078638e-03 1.39859403e-03 1.39551000e-03 1.38010184e-03\n",
      " 1.37545425e-03 1.37187298e-03 1.36205892e-03 1.35742189e-03\n",
      " 1.34756220e-03 1.34139975e-03 1.33527569e-03 1.32799241e-03\n",
      " 1.32192834e-03 1.31788574e-03 1.30944411e-03 1.29838305e-03\n",
      " 1.29316985e-03 1.28429585e-03 1.27879764e-03 1.27328096e-03\n",
      " 1.26934493e-03 1.26316902e-03 1.25680809e-03 1.25503011e-03\n",
      " 1.25376190e-03 1.24169835e-03 1.23414999e-03 1.23204690e-03\n",
      " 1.22708162e-03 1.22016200e-03 1.21603006e-03 1.21581361e-03\n",
      " 1.20275563e-03 1.19813912e-03 1.19441654e-03 1.19055038e-03\n",
      " 1.18572074e-03 1.17192229e-03 1.16873803e-03 1.16378956e-03\n",
      " 1.16238589e-03 1.15815430e-03 1.15700869e-03 1.14847287e-03\n",
      " 1.14079259e-03 1.13705738e-03 1.12292653e-03 1.12067406e-03\n",
      " 1.11932886e-03 1.11304908e-03 1.11010397e-03 1.10577505e-03\n",
      " 1.10163768e-03 1.09727389e-03 1.09671555e-03 1.09038266e-03\n",
      " 1.08684383e-03 1.07724900e-03 1.07404200e-03 1.07197280e-03\n",
      " 1.06463206e-03 1.06109624e-03 1.05724306e-03 1.05344160e-03\n",
      " 1.04795592e-03 1.04717507e-03 1.04025769e-03 1.03437327e-03\n",
      " 1.03282009e-03 1.02562068e-03 1.02342689e-03 1.02026183e-03\n",
      " 1.01480912e-03 1.01199044e-03 1.00925040e-03 1.00380641e-03\n",
      " 1.00327529e-03 9.98998392e-04 9.95791753e-04 9.87477266e-04\n",
      " 9.85151116e-04 9.78924390e-04 9.75027826e-04 9.71424805e-04\n",
      " 9.67971669e-04 9.64558585e-04 9.63805456e-04 9.60932456e-04\n",
      " 9.57176573e-04 9.50104561e-04 9.46538822e-04 9.43553055e-04\n",
      " 9.36635558e-04 9.32583311e-04 9.22925325e-04 9.19747609e-04\n",
      " 9.14941898e-04 9.12589492e-04 9.09528708e-04 9.08202378e-04\n",
      " 9.05297650e-04 9.04076283e-04 9.01103540e-04 8.96516740e-04\n",
      " 8.95353833e-04 8.91477499e-04 8.83765945e-04 8.78318307e-04\n",
      " 8.76627916e-04 8.74561825e-04 8.68720285e-04 8.63411089e-04\n",
      " 8.62718437e-04 8.57024439e-04 8.54835845e-04 8.51685656e-04\n",
      " 8.47488859e-04 8.41699614e-04 8.37448281e-04 8.34686870e-04\n",
      " 8.31127964e-04 8.28378106e-04 8.26177773e-04 8.21946241e-04\n",
      " 8.19481901e-04 8.16264879e-04 8.15557232e-04 8.09933021e-04\n",
      " 8.06033039e-04 8.03962213e-04 8.03404491e-04 8.01961291e-04\n",
      " 7.98086797e-04 7.93091826e-04 7.91426684e-04 7.90740502e-04\n",
      " 7.86235194e-04 7.84214391e-04 7.80409064e-04 7.79477859e-04\n",
      " 7.77272950e-04 7.73483291e-04 7.72460347e-04 7.67923468e-04\n",
      " 7.65961440e-04 7.62135057e-04 7.61080213e-04 7.58273203e-04\n",
      " 7.57101579e-04 7.55408900e-04 7.51842986e-04 7.51220787e-04\n",
      " 7.49977288e-04 7.44833935e-04 7.44119201e-04 7.40030630e-04\n",
      " 7.39530022e-04 7.35156575e-04 7.30444401e-04 7.28426956e-04\n",
      " 7.27776350e-04 7.27370321e-04 7.25338142e-04 7.21261732e-04\n",
      " 7.16820090e-04 7.15427794e-04 7.14712537e-04 7.14304155e-04\n",
      " 7.09280756e-04 7.07487629e-04 7.03743374e-04 7.02063121e-04\n",
      " 6.95761351e-04 6.95673917e-04 6.93731535e-04 6.91010832e-04\n",
      " 6.88590454e-04 6.86656410e-04 6.83463526e-04 6.81001041e-04\n",
      " 6.79605024e-04 6.78071760e-04 6.74935462e-04 6.74217269e-04\n",
      " 6.71905055e-04 6.70132036e-04 6.68315037e-04 6.67278022e-04\n",
      " 6.65392952e-04 6.60241434e-04 6.59369038e-04 6.55884233e-04\n",
      " 6.54459625e-04 6.53870651e-04 6.53056804e-04 6.51746676e-04\n",
      " 6.49357838e-04 6.45901853e-04 6.44296475e-04 6.42995186e-04\n",
      " 6.41266071e-04 6.37739178e-04 6.35855471e-04 6.33884496e-04\n",
      " 6.30013520e-04 6.27902358e-04 6.26913960e-04 6.22827057e-04\n",
      " 6.22004308e-04 6.20426775e-04 6.19708184e-04 6.16220450e-04\n",
      " 6.14444946e-04 6.13199674e-04 6.11838335e-04 6.09601991e-04\n",
      " 6.08707861e-04 6.05099308e-04 6.02556091e-04 6.01526628e-04\n",
      " 5.98957875e-04 5.96653197e-04 5.95885361e-04 5.93808549e-04\n",
      " 5.92613845e-04 5.90528541e-04 5.87809406e-04 5.85920254e-04\n",
      " 5.85197268e-04 5.83286983e-04 5.82762338e-04 5.80632405e-04\n",
      " 5.79604989e-04 5.78373057e-04 5.77000521e-04 5.73388123e-04\n",
      " 5.70096998e-04 5.69293362e-04 5.65436620e-04 5.64630439e-04\n",
      " 5.64232587e-04 5.63650415e-04 5.60541883e-04 5.59129739e-04\n",
      " 5.58632348e-04 5.56225195e-04 5.53632658e-04 5.51898035e-04\n",
      " 5.50549608e-04 5.48318128e-04 5.46216502e-04 5.45079105e-04\n",
      " 5.44369595e-04 5.42386316e-04 5.39914030e-04 5.38562435e-04\n",
      " 5.35784972e-04 5.33546002e-04 5.32774887e-04 5.30737565e-04\n",
      " 5.28051183e-04 5.26445616e-04 5.26142915e-04 5.24323950e-04\n",
      " 5.23053049e-04 5.22058853e-04 5.20329079e-04 5.16998424e-04\n",
      " 5.14986066e-04 5.12866928e-04 5.11671307e-04 5.09992709e-04\n",
      " 5.07982481e-04 5.07203995e-04 5.05706407e-04 5.05235558e-04\n",
      " 5.03447737e-04 5.02055422e-04 5.00315791e-04 4.99612778e-04\n",
      " 4.98354991e-04 4.97117859e-04 4.95894880e-04 4.93054377e-04\n",
      " 4.91279346e-04 4.90631462e-04 4.88830643e-04 4.86176601e-04\n",
      " 4.85492996e-04 4.83434380e-04 4.82395960e-04 4.79379328e-04\n",
      " 4.78348734e-04 4.76525678e-04 4.76061838e-04 4.75460489e-04\n",
      " 4.72188183e-04 4.71092265e-04 4.69304791e-04 4.67391789e-04\n",
      " 4.65859432e-04 4.65201214e-04 4.62721536e-04 4.61177874e-04\n",
      " 4.59610555e-04 4.58619549e-04 4.56904623e-04 4.55448553e-04\n",
      " 4.54641269e-04 4.53854653e-04 4.53545351e-04 4.51788281e-04\n",
      " 4.50597123e-04 4.49254648e-04 4.47805723e-04 4.45975060e-04\n",
      " 4.44376134e-04 4.43618460e-04 4.41844271e-04 4.40729968e-04\n",
      " 4.38758792e-04 4.38062843e-04 4.35375610e-04 4.34893315e-04\n",
      " 4.32546331e-04 4.30721105e-04 4.30083495e-04 4.27415095e-04\n",
      " 4.27091848e-04 4.25551787e-04 4.24696948e-04 4.24282792e-04\n",
      " 4.22307217e-04 4.21504539e-04 4.20709926e-04 4.19428073e-04\n",
      " 4.17993587e-04 4.17362680e-04 4.16380835e-04 4.15654720e-04\n",
      " 4.14078574e-04 4.12481297e-04 4.10704167e-04 4.09816419e-04\n",
      " 4.09411492e-04 4.09218332e-04 4.06438297e-04 4.04809346e-04\n",
      " 4.04541600e-04 4.03463018e-04 4.01404124e-04 4.00922850e-04\n",
      " 3.99533990e-04 3.98313010e-04 3.96222476e-04 3.95214689e-04\n",
      " 3.92824031e-04 3.92399125e-04 3.90759304e-04 3.89948222e-04\n",
      " 3.88656945e-04 3.87948830e-04 3.86395732e-04 3.85661270e-04\n",
      " 3.84532212e-04 3.83362541e-04 3.82853117e-04 3.81537876e-04\n",
      " 3.80935006e-04 3.78760820e-04 3.78259589e-04 3.76214959e-04\n",
      " 3.75597283e-04 3.74728355e-04 3.74092591e-04 3.70959625e-04\n",
      " 3.70363211e-04 3.69410641e-04 3.69153956e-04 3.67808644e-04\n",
      " 3.66210479e-04 3.64515071e-04 3.64146388e-04 3.63158215e-04\n",
      " 3.62016150e-04 3.61279223e-04 3.60453083e-04 3.59904560e-04\n",
      " 3.59472161e-04 3.58274230e-04 3.57484183e-04 3.55807665e-04\n",
      " 3.54976370e-04 3.53550560e-04 3.52840945e-04 3.51522012e-04\n",
      " 3.50420249e-04 3.48863219e-04 3.47777687e-04 3.47381227e-04\n",
      " 3.46381338e-04 3.45870349e-04 3.44169818e-04 3.42754908e-04\n",
      " 3.42051152e-04 3.41596443e-04 3.40301808e-04 3.39058863e-04\n",
      " 3.37469885e-04 3.37065276e-04 3.35311804e-04 3.34916924e-04\n",
      " 3.33999789e-04 3.31864895e-04 3.30567907e-04 3.29833878e-04\n",
      " 3.28435903e-04 3.26852871e-04 3.26065823e-04 3.25880714e-04\n",
      " 3.25066260e-04 3.23697718e-04 3.22905508e-04 3.22118352e-04\n",
      " 3.20974730e-04 3.20279142e-04 3.20166584e-04 3.17997348e-04\n",
      " 3.17513607e-04 3.16241395e-04 3.14650542e-04 3.13739213e-04\n",
      " 3.13433245e-04 3.12208551e-04 3.11140830e-04 3.10594972e-04\n",
      " 3.09252282e-04 3.08122366e-04 3.06987362e-04 3.06568275e-04\n",
      " 3.04805674e-04 3.04206462e-04 3.02319744e-04 3.01959370e-04\n",
      " 3.01597581e-04 3.00353660e-04 2.98330894e-04 2.97797355e-04\n",
      " 2.97716087e-04 2.96138138e-04 2.95347563e-04 2.94854371e-04\n",
      " 2.93551326e-04 2.92734869e-04 2.92172995e-04 2.91225493e-04\n",
      " 2.89660262e-04 2.88528617e-04 2.88298061e-04 2.86760861e-04\n",
      " 2.85640572e-04 2.85159866e-04 2.84140019e-04 2.81818942e-04\n",
      " 2.80823864e-04 2.80094534e-04 2.78684768e-04 2.78024553e-04\n",
      " 2.76573042e-04 2.76202449e-04 2.75604651e-04 2.74506942e-04\n",
      " 2.73326422e-04 2.72700346e-04 2.71436033e-04 2.71097775e-04\n",
      " 2.69145651e-04 2.68172519e-04 2.66526152e-04 2.65168606e-04\n",
      " 2.63388734e-04 2.61072044e-04 2.60644858e-04 2.59155076e-04\n",
      " 2.58547335e-04 2.58096773e-04 2.55786867e-04 2.55650737e-04\n",
      " 2.54786387e-04 2.53170151e-04 2.51588542e-04 2.50414123e-04\n",
      " 2.48450485e-04 2.47089538e-04 2.46619192e-04 2.45174232e-04\n",
      " 2.44907718e-04 2.41369267e-04 2.39193731e-04 2.38260405e-04\n",
      " 2.37696982e-04 2.35779099e-04 2.34380980e-04 2.31693338e-04\n",
      " 2.31316963e-04 2.29903642e-04 2.27971744e-04 2.26504781e-04\n",
      " 2.24670175e-04 2.23648044e-04 2.21256721e-04 2.18978478e-04\n",
      " 2.17416463e-04 2.16336917e-04 2.14474565e-04 2.12935660e-04\n",
      " 2.08455037e-04 2.06577622e-04 2.05245840e-04 1.98266037e-04\n",
      " 1.96805889e-04 1.93568225e-04 1.89469791e-04 1.81998722e-04\n",
      " 1.76473160e-04 1.64420474e-04 1.57883276e-04 1.43411339e-04\n",
      " 1.19007130e-04 1.16802300e-04 1.13834158e-04 1.11243117e-04]\n"
     ]
    },
    {
     "data": {
      "text/plain": [
       "0.9997710586714115"
      ]
     },
     "execution_count": 4,
     "metadata": {},
     "output_type": "execute_result"
    }
   ],
   "source": [
    "pca = PCA(n_components=700)\n",
    "pComponents= pca.fit_transform(trainX)\n",
    "print(pca.explained_variance_ratio_)\n",
    "sum([float(x) for x in pca.explained_variance_ratio_])"
   ]
  },
  {
   "cell_type": "code",
   "execution_count": 5,
   "metadata": {},
   "outputs": [],
   "source": [
    "X_train, X_test, y_train, y_test = train_test_split(trainX, trainY, test_size=0.2, random_state=23)"
   ]
  },
  {
   "cell_type": "code",
   "execution_count": 6,
   "metadata": {},
   "outputs": [
    {
     "name": "stdout",
     "output_type": "stream",
     "text": [
      "(57552, 703)\n",
      "(57552,)\n"
     ]
    }
   ],
   "source": [
    "print(X_train.shape)\n",
    "print(y_train.shape)"
   ]
  },
  {
   "cell_type": "code",
   "execution_count": 7,
   "metadata": {},
   "outputs": [
    {
     "name": "stdout",
     "output_type": "stream",
     "text": [
      "training Logistic Regression now ...\n"
     ]
    },
    {
     "name": "stderr",
     "output_type": "stream",
     "text": [
      "[Parallel(n_jobs=-1)]: Using backend LokyBackend with 8 concurrent workers.\n",
      "[Parallel(n_jobs=-1)]: Done   1 tasks      | elapsed:   19.9s\n",
      "[Parallel(n_jobs=-1)]: Done   1 out of   1 | elapsed:   19.9s finished\n"
     ]
    },
    {
     "name": "stdout",
     "output_type": "stream",
     "text": [
      "Accuracy of Logistic Regression classifier is: 0.571409 \n"
     ]
    }
   ],
   "source": [
    "print(\"training Logistic Regression now ...\")\n",
    "\n",
    "logistic_regression = LogisticRegression(max_iter=1000, verbose=15, n_jobs=-1).fit(X_train,y_train)\n",
    "y_pred = logistic_regression.predict(X_test)\n",
    "acc = accuracy_score(y_test,y_pred)\n",
    "print('Accuracy of Logistic Regression classifier is: %f ' % acc)"
   ]
  },
  {
   "cell_type": "code",
   "execution_count": 8,
   "metadata": {},
   "outputs": [
    {
     "name": "stdout",
     "output_type": "stream",
     "text": [
      "training Random Forest classifier now ...\n"
     ]
    },
    {
     "name": "stderr",
     "output_type": "stream",
     "text": [
      "[Parallel(n_jobs=-1)]: Using backend ThreadingBackend with 8 concurrent workers.\n"
     ]
    },
    {
     "name": "stdout",
     "output_type": "stream",
     "text": [
      "building tree 1 of 1000building tree 2 of 1000\n",
      "\n",
      "building tree 3 of 1000\n",
      "building tree 4 of 1000building tree 5 of 1000\n",
      "\n",
      "building tree 6 of 1000\n",
      "building tree 7 of 1000building tree 8 of 1000\n",
      "\n"
     ]
    },
    {
     "name": "stderr",
     "output_type": "stream",
     "text": [
      "[Parallel(n_jobs=-1)]: Done   1 tasks      | elapsed:    1.8s\n",
      "[Parallel(n_jobs=-1)]: Done   2 tasks      | elapsed:    1.8s\n",
      "[Parallel(n_jobs=-1)]: Done   3 tasks      | elapsed:    1.8s\n",
      "[Parallel(n_jobs=-1)]: Done   4 tasks      | elapsed:    1.8s\n",
      "[Parallel(n_jobs=-1)]: Done   5 tasks      | elapsed:    1.8s\n"
     ]
    },
    {
     "name": "stdout",
     "output_type": "stream",
     "text": [
      "building tree 9 of 1000\n",
      "building tree 10 of 1000\n",
      "building tree 11 of 1000\n",
      "building tree 12 of 1000\n",
      "building tree 13 of 1000\n",
      "building tree 14 of 1000\n",
      "building tree 15 of 1000\n",
      "building tree 16 of 1000\n"
     ]
    },
    {
     "name": "stderr",
     "output_type": "stream",
     "text": [
      "[Parallel(n_jobs=-1)]: Done   6 tasks      | elapsed:    2.0s\n",
      "[Parallel(n_jobs=-1)]: Done   7 tasks      | elapsed:    2.1s\n",
      "[Parallel(n_jobs=-1)]: Done   8 tasks      | elapsed:    2.1s\n",
      "[Parallel(n_jobs=-1)]: Done   9 tasks      | elapsed:    3.2s\n",
      "[Parallel(n_jobs=-1)]: Done  10 tasks      | elapsed:    3.3s\n"
     ]
    },
    {
     "name": "stdout",
     "output_type": "stream",
     "text": [
      "building tree 17 of 1000\n",
      "building tree 18 of 1000\n"
     ]
    },
    {
     "name": "stderr",
     "output_type": "stream",
     "text": [
      "[Parallel(n_jobs=-1)]: Done  11 tasks      | elapsed:    3.4s\n",
      "[Parallel(n_jobs=-1)]: Done  12 tasks      | elapsed:    3.4s\n",
      "[Parallel(n_jobs=-1)]: Done  13 tasks      | elapsed:    3.5s\n",
      "[Parallel(n_jobs=-1)]: Done  14 tasks      | elapsed:    3.6s\n",
      "[Parallel(n_jobs=-1)]: Done  15 tasks      | elapsed:    3.6s\n"
     ]
    },
    {
     "name": "stdout",
     "output_type": "stream",
     "text": [
      "building tree 19 of 1000\n",
      "building tree 20 of 1000\n",
      "building tree 21 of 1000\n",
      "building tree 22 of 1000\n",
      "building tree 23 of 1000\n"
     ]
    },
    {
     "name": "stderr",
     "output_type": "stream",
     "text": [
      "[Parallel(n_jobs=-1)]: Done  16 tasks      | elapsed:    3.7s\n"
     ]
    },
    {
     "name": "stdout",
     "output_type": "stream",
     "text": [
      "building tree 24 of 1000\n"
     ]
    },
    {
     "name": "stderr",
     "output_type": "stream",
     "text": [
      "[Parallel(n_jobs=-1)]: Done  17 tasks      | elapsed:    4.8s\n",
      "[Parallel(n_jobs=-1)]: Done  18 tasks      | elapsed:    5.0s\n",
      "[Parallel(n_jobs=-1)]: Done  19 tasks      | elapsed:    5.0s\n",
      "[Parallel(n_jobs=-1)]: Done  20 tasks      | elapsed:    5.0s\n"
     ]
    },
    {
     "name": "stdout",
     "output_type": "stream",
     "text": [
      "building tree 25 of 1000\n",
      "building tree 26 of 1000\n",
      "building tree 27 of 1000\n",
      "building tree 28 of 1000"
     ]
    },
    {
     "name": "stderr",
     "output_type": "stream",
     "text": [
      "[Parallel(n_jobs=-1)]: Done  21 tasks      | elapsed:    5.1s\n",
      "[Parallel(n_jobs=-1)]: Done  22 tasks      | elapsed:    5.2s\n"
     ]
    },
    {
     "name": "stdout",
     "output_type": "stream",
     "text": [
      "\n",
      "building tree 29 of 1000\n",
      "building tree 30 of 1000\n",
      "building tree 31 of 1000\n",
      "building tree 32 of 1000\n"
     ]
    },
    {
     "name": "stderr",
     "output_type": "stream",
     "text": [
      "[Parallel(n_jobs=-1)]: Done  23 tasks      | elapsed:    5.4s\n",
      "[Parallel(n_jobs=-1)]: Done  24 tasks      | elapsed:    5.4s\n",
      "[Parallel(n_jobs=-1)]: Done  25 tasks      | elapsed:    6.3s\n",
      "[Parallel(n_jobs=-1)]: Done  26 tasks      | elapsed:    6.4s\n",
      "[Parallel(n_jobs=-1)]: Done  27 tasks      | elapsed:    6.4s\n"
     ]
    },
    {
     "name": "stdout",
     "output_type": "stream",
     "text": [
      "building tree 33 of 1000\n",
      "building tree 34 of 1000\n",
      "building tree 35 of 1000\n",
      "building tree 36 of 1000\n",
      "building tree 37 of 1000\n",
      "building tree 38 of 1000\n"
     ]
    },
    {
     "name": "stderr",
     "output_type": "stream",
     "text": [
      "[Parallel(n_jobs=-1)]: Done  28 tasks      | elapsed:    6.6s\n",
      "[Parallel(n_jobs=-1)]: Done  29 tasks      | elapsed:    6.6s\n",
      "[Parallel(n_jobs=-1)]: Done  30 tasks      | elapsed:    6.7s\n",
      "[Parallel(n_jobs=-1)]: Done  31 tasks      | elapsed:    6.8s\n",
      "[Parallel(n_jobs=-1)]: Done  32 tasks      | elapsed:    7.0s\n"
     ]
    },
    {
     "name": "stdout",
     "output_type": "stream",
     "text": [
      "building tree 39 of 1000\n",
      "building tree 40 of 1000\n"
     ]
    },
    {
     "name": "stderr",
     "output_type": "stream",
     "text": [
      "[Parallel(n_jobs=-1)]: Done  33 tasks      | elapsed:    7.7s\n",
      "[Parallel(n_jobs=-1)]: Done  34 tasks      | elapsed:    7.8s\n",
      "[Parallel(n_jobs=-1)]: Done  35 tasks      | elapsed:    7.9s\n"
     ]
    },
    {
     "name": "stdout",
     "output_type": "stream",
     "text": [
      "building tree 41 of 1000\n",
      "building tree 42 of 1000\n",
      "building tree 43 of 1000\n"
     ]
    },
    {
     "name": "stderr",
     "output_type": "stream",
     "text": [
      "[Parallel(n_jobs=-1)]: Done  36 tasks      | elapsed:    8.1s\n",
      "[Parallel(n_jobs=-1)]: Done  37 tasks      | elapsed:    8.1s\n",
      "[Parallel(n_jobs=-1)]: Done  38 tasks      | elapsed:    8.1s\n",
      "[Parallel(n_jobs=-1)]: Done  39 tasks      | elapsed:    8.2s\n",
      "[Parallel(n_jobs=-1)]: Done  40 tasks      | elapsed:    8.3s\n"
     ]
    },
    {
     "name": "stdout",
     "output_type": "stream",
     "text": [
      "building tree 44 of 1000\n",
      "building tree 45 of 1000\n",
      "building tree 46 of 1000\n",
      "building tree 47 of 1000\n",
      "building tree 48 of 1000\n"
     ]
    },
    {
     "name": "stderr",
     "output_type": "stream",
     "text": [
      "[Parallel(n_jobs=-1)]: Done  41 tasks      | elapsed:    9.1s\n",
      "[Parallel(n_jobs=-1)]: Done  42 tasks      | elapsed:    9.2s\n",
      "[Parallel(n_jobs=-1)]: Done  43 tasks      | elapsed:    9.3s\n"
     ]
    },
    {
     "name": "stdout",
     "output_type": "stream",
     "text": [
      "building tree 49 of 1000\n",
      "building tree 50 of 1000\n",
      "building tree 51 of 1000\n"
     ]
    },
    {
     "name": "stderr",
     "output_type": "stream",
     "text": [
      "[Parallel(n_jobs=-1)]: Done  44 tasks      | elapsed:    9.4s\n",
      "[Parallel(n_jobs=-1)]: Done  45 tasks      | elapsed:    9.4s\n"
     ]
    },
    {
     "name": "stdout",
     "output_type": "stream",
     "text": [
      "building tree 52 of 1000\n",
      "building tree 53 of 1000\n"
     ]
    },
    {
     "name": "stderr",
     "output_type": "stream",
     "text": [
      "[Parallel(n_jobs=-1)]: Done  46 tasks      | elapsed:    9.7s\n",
      "[Parallel(n_jobs=-1)]: Done  47 tasks      | elapsed:    9.7s\n",
      "[Parallel(n_jobs=-1)]: Done  48 tasks      | elapsed:    9.8s\n"
     ]
    },
    {
     "name": "stdout",
     "output_type": "stream",
     "text": [
      "building tree 54 of 1000\n",
      "building tree 55 of 1000\n",
      "building tree 56 of 1000\n"
     ]
    },
    {
     "name": "stderr",
     "output_type": "stream",
     "text": [
      "[Parallel(n_jobs=-1)]: Done  49 tasks      | elapsed:   10.4s\n"
     ]
    },
    {
     "name": "stdout",
     "output_type": "stream",
     "text": [
      "building tree 57 of 1000\n"
     ]
    },
    {
     "name": "stderr",
     "output_type": "stream",
     "text": [
      "[Parallel(n_jobs=-1)]: Done  50 tasks      | elapsed:   10.6s\n",
      "[Parallel(n_jobs=-1)]: Done  51 tasks      | elapsed:   10.7s\n"
     ]
    },
    {
     "name": "stdout",
     "output_type": "stream",
     "text": [
      "building tree 58 of 1000\n",
      "building tree 59 of 1000\n"
     ]
    },
    {
     "name": "stderr",
     "output_type": "stream",
     "text": [
      "[Parallel(n_jobs=-1)]: Done  52 tasks      | elapsed:   10.8s\n",
      "[Parallel(n_jobs=-1)]: Done  53 tasks      | elapsed:   10.9s\n"
     ]
    },
    {
     "name": "stdout",
     "output_type": "stream",
     "text": [
      "building tree 60 of 1000\n",
      "building tree 61 of 1000\n"
     ]
    },
    {
     "name": "stderr",
     "output_type": "stream",
     "text": [
      "[Parallel(n_jobs=-1)]: Done  54 tasks      | elapsed:   11.2s\n",
      "[Parallel(n_jobs=-1)]: Done  55 tasks      | elapsed:   11.2s\n",
      "[Parallel(n_jobs=-1)]: Done  56 tasks      | elapsed:   11.2s\n"
     ]
    },
    {
     "name": "stdout",
     "output_type": "stream",
     "text": [
      "building tree 62 of 1000\n",
      "building tree 63 of 1000\n",
      "building tree 64 of 1000\n"
     ]
    },
    {
     "name": "stderr",
     "output_type": "stream",
     "text": [
      "[Parallel(n_jobs=-1)]: Done  57 tasks      | elapsed:   11.9s\n",
      "[Parallel(n_jobs=-1)]: Done  58 tasks      | elapsed:   11.9s\n",
      "[Parallel(n_jobs=-1)]: Done  59 tasks      | elapsed:   12.1s\n"
     ]
    },
    {
     "name": "stdout",
     "output_type": "stream",
     "text": [
      "building tree 65 of 1000\n",
      "building tree 66 of 1000\n",
      "building tree 67 of 1000\n"
     ]
    },
    {
     "name": "stderr",
     "output_type": "stream",
     "text": [
      "[Parallel(n_jobs=-1)]: Done  60 tasks      | elapsed:   12.3s\n",
      "[Parallel(n_jobs=-1)]: Done  61 tasks      | elapsed:   12.3s\n"
     ]
    },
    {
     "name": "stdout",
     "output_type": "stream",
     "text": [
      "building tree 68 of 1000\n",
      "building tree 69 of 1000\n",
      "building tree 70 of 1000\n",
      "building tree 71 of 1000\n",
      "building tree 72 of 1000\n"
     ]
    },
    {
     "name": "stderr",
     "output_type": "stream",
     "text": [
      "[Parallel(n_jobs=-1)]: Done  62 tasks      | elapsed:   12.5s\n",
      "[Parallel(n_jobs=-1)]: Done  63 tasks      | elapsed:   12.5s\n",
      "[Parallel(n_jobs=-1)]: Done  64 tasks      | elapsed:   12.7s\n",
      "[Parallel(n_jobs=-1)]: Done  65 tasks      | elapsed:   13.3s\n",
      "[Parallel(n_jobs=-1)]: Done  66 tasks      | elapsed:   13.3s\n",
      "[Parallel(n_jobs=-1)]: Done  67 tasks      | elapsed:   13.4s\n"
     ]
    },
    {
     "name": "stdout",
     "output_type": "stream",
     "text": [
      "building tree 73 of 1000\n",
      "building tree 74 of 1000\n",
      "building tree 75 of 1000\n"
     ]
    },
    {
     "name": "stderr",
     "output_type": "stream",
     "text": [
      "[Parallel(n_jobs=-1)]: Done  68 tasks      | elapsed:   13.6s\n",
      "[Parallel(n_jobs=-1)]: Done  69 tasks      | elapsed:   13.7s\n",
      "[Parallel(n_jobs=-1)]: Done  70 tasks      | elapsed:   13.8s\n"
     ]
    },
    {
     "name": "stdout",
     "output_type": "stream",
     "text": [
      "building tree 76 of 1000\n",
      "building tree 77 of 1000\n",
      "building tree 78 of 1000"
     ]
    },
    {
     "name": "stderr",
     "output_type": "stream",
     "text": [
      "[Parallel(n_jobs=-1)]: Done  71 tasks      | elapsed:   13.8s\n",
      "[Parallel(n_jobs=-1)]: Done  72 tasks      | elapsed:   13.9s\n"
     ]
    },
    {
     "name": "stdout",
     "output_type": "stream",
     "text": [
      "\n",
      "building tree 79 of 1000\n",
      "building tree 80 of 1000\n"
     ]
    },
    {
     "name": "stderr",
     "output_type": "stream",
     "text": [
      "[Parallel(n_jobs=-1)]: Done  73 tasks      | elapsed:   14.5s\n",
      "[Parallel(n_jobs=-1)]: Done  74 tasks      | elapsed:   14.7s\n",
      "[Parallel(n_jobs=-1)]: Done  75 tasks      | elapsed:   14.7s\n"
     ]
    },
    {
     "name": "stdout",
     "output_type": "stream",
     "text": [
      "building tree 81 of 1000\n",
      "building tree 82 of 1000\n",
      "building tree 83 of 1000"
     ]
    },
    {
     "name": "stderr",
     "output_type": "stream",
     "text": [
      "[Parallel(n_jobs=-1)]: Done  76 tasks      | elapsed:   14.8s\n"
     ]
    },
    {
     "name": "stdout",
     "output_type": "stream",
     "text": [
      "\n",
      "building tree 84 of 1000\n"
     ]
    },
    {
     "name": "stderr",
     "output_type": "stream",
     "text": [
      "[Parallel(n_jobs=-1)]: Done  77 tasks      | elapsed:   15.1s\n",
      "[Parallel(n_jobs=-1)]: Done  78 tasks      | elapsed:   15.1s\n",
      "[Parallel(n_jobs=-1)]: Done  79 tasks      | elapsed:   15.1s\n",
      "[Parallel(n_jobs=-1)]: Done  80 tasks      | elapsed:   15.2s\n"
     ]
    },
    {
     "name": "stdout",
     "output_type": "stream",
     "text": [
      "building tree 85 of 1000\n",
      "building tree 86 of 1000\n",
      "building tree 87 of 1000\n",
      "building tree 88 of 1000\n"
     ]
    },
    {
     "name": "stderr",
     "output_type": "stream",
     "text": [
      "[Parallel(n_jobs=-1)]: Done  81 tasks      | elapsed:   15.9s\n",
      "[Parallel(n_jobs=-1)]: Done  82 tasks      | elapsed:   15.9s\n",
      "[Parallel(n_jobs=-1)]: Done  83 tasks      | elapsed:   16.0s\n"
     ]
    },
    {
     "name": "stdout",
     "output_type": "stream",
     "text": [
      "building tree 89 of 1000\n",
      "building tree 90 of 1000\n",
      "building tree 91 of 1000\n"
     ]
    },
    {
     "name": "stderr",
     "output_type": "stream",
     "text": [
      "[Parallel(n_jobs=-1)]: Done  84 tasks      | elapsed:   16.2s\n",
      "[Parallel(n_jobs=-1)]: Done  85 tasks      | elapsed:   16.4s\n",
      "[Parallel(n_jobs=-1)]: Done  86 tasks      | elapsed:   16.4s\n"
     ]
    },
    {
     "name": "stdout",
     "output_type": "stream",
     "text": [
      "building tree 92 of 1000\n",
      "building tree 93 of 1000\n",
      "building tree 94 of 1000"
     ]
    },
    {
     "name": "stderr",
     "output_type": "stream",
     "text": [
      "[Parallel(n_jobs=-1)]: Done  87 tasks      | elapsed:   16.5s\n"
     ]
    },
    {
     "name": "stdout",
     "output_type": "stream",
     "text": [
      "\n",
      "building tree 95 of 1000\n"
     ]
    },
    {
     "name": "stderr",
     "output_type": "stream",
     "text": [
      "[Parallel(n_jobs=-1)]: Done  88 tasks      | elapsed:   16.7s\n"
     ]
    },
    {
     "name": "stdout",
     "output_type": "stream",
     "text": [
      "building tree 96 of 1000\n"
     ]
    },
    {
     "name": "stderr",
     "output_type": "stream",
     "text": [
      "[Parallel(n_jobs=-1)]: Done  89 tasks      | elapsed:   17.3s\n",
      "[Parallel(n_jobs=-1)]: Done  90 tasks      | elapsed:   17.3s\n",
      "[Parallel(n_jobs=-1)]: Done  91 tasks      | elapsed:   17.4s\n"
     ]
    },
    {
     "name": "stdout",
     "output_type": "stream",
     "text": [
      "building tree 97 of 1000\n",
      "building tree 98 of 1000\n",
      "building tree 99 of 1000\n"
     ]
    },
    {
     "name": "stderr",
     "output_type": "stream",
     "text": [
      "[Parallel(n_jobs=-1)]: Done  92 tasks      | elapsed:   17.6s\n",
      "[Parallel(n_jobs=-1)]: Done  93 tasks      | elapsed:   17.7s\n",
      "[Parallel(n_jobs=-1)]: Done  94 tasks      | elapsed:   17.7s\n"
     ]
    },
    {
     "name": "stdout",
     "output_type": "stream",
     "text": [
      "building tree 100 of 1000\n",
      "building tree 101 of 1000\n",
      "building tree 102 of 1000\n"
     ]
    },
    {
     "name": "stderr",
     "output_type": "stream",
     "text": [
      "[Parallel(n_jobs=-1)]: Done  95 tasks      | elapsed:   18.0s\n",
      "[Parallel(n_jobs=-1)]: Done  96 tasks      | elapsed:   18.0s\n"
     ]
    },
    {
     "name": "stdout",
     "output_type": "stream",
     "text": [
      "building tree 103 of 1000\n",
      "building tree 104 of 1000\n"
     ]
    },
    {
     "name": "stderr",
     "output_type": "stream",
     "text": [
      "[Parallel(n_jobs=-1)]: Done  97 tasks      | elapsed:   18.5s\n",
      "[Parallel(n_jobs=-1)]: Done  98 tasks      | elapsed:   18.7s\n"
     ]
    },
    {
     "name": "stdout",
     "output_type": "stream",
     "text": [
      "building tree 105 of 1000\n",
      "building tree 106 of 1000\n"
     ]
    },
    {
     "name": "stderr",
     "output_type": "stream",
     "text": [
      "[Parallel(n_jobs=-1)]: Done  99 tasks      | elapsed:   18.9s\n",
      "[Parallel(n_jobs=-1)]: Done 100 tasks      | elapsed:   19.0s\n",
      "[Parallel(n_jobs=-1)]: Done 101 tasks      | elapsed:   19.0s\n"
     ]
    },
    {
     "name": "stdout",
     "output_type": "stream",
     "text": [
      "building tree 107 of 1000\n",
      "building tree 108 of 1000\n",
      "building tree 109 of 1000\n"
     ]
    },
    {
     "name": "stderr",
     "output_type": "stream",
     "text": [
      "[Parallel(n_jobs=-1)]: Done 102 tasks      | elapsed:   19.1s\n",
      "[Parallel(n_jobs=-1)]: Done 103 tasks      | elapsed:   19.3s\n"
     ]
    },
    {
     "name": "stdout",
     "output_type": "stream",
     "text": [
      "building tree 110 of 1000\n",
      "building tree 111 of 1000\n"
     ]
    },
    {
     "name": "stderr",
     "output_type": "stream",
     "text": [
      "[Parallel(n_jobs=-1)]: Done 104 tasks      | elapsed:   19.5s\n"
     ]
    },
    {
     "name": "stdout",
     "output_type": "stream",
     "text": [
      "building tree 112 of 1000\n"
     ]
    },
    {
     "name": "stderr",
     "output_type": "stream",
     "text": [
      "[Parallel(n_jobs=-1)]: Done 105 tasks      | elapsed:   19.9s\n"
     ]
    },
    {
     "name": "stdout",
     "output_type": "stream",
     "text": [
      "building tree 113 of 1000\n"
     ]
    },
    {
     "name": "stderr",
     "output_type": "stream",
     "text": [
      "[Parallel(n_jobs=-1)]: Done 106 tasks      | elapsed:   20.3s\n",
      "[Parallel(n_jobs=-1)]: Done 107 tasks      | elapsed:   20.4s\n",
      "[Parallel(n_jobs=-1)]: Done 108 tasks      | elapsed:   20.4s\n"
     ]
    },
    {
     "name": "stdout",
     "output_type": "stream",
     "text": [
      "building tree 114 of 1000\n",
      "building tree 115 of 1000\n",
      "building tree 116 of 1000"
     ]
    },
    {
     "name": "stderr",
     "output_type": "stream",
     "text": [
      "[Parallel(n_jobs=-1)]: Done 109 tasks      | elapsed:   20.5s\n",
      "[Parallel(n_jobs=-1)]: Done 110 tasks      | elapsed:   20.5s\n",
      "[Parallel(n_jobs=-1)]: Done 111 tasks      | elapsed:   20.6s\n"
     ]
    },
    {
     "name": "stdout",
     "output_type": "stream",
     "text": [
      "\n",
      "building tree 117 of 1000\n",
      "building tree 118 of 1000\n",
      "building tree 119 of 1000\n"
     ]
    },
    {
     "name": "stderr",
     "output_type": "stream",
     "text": [
      "[Parallel(n_jobs=-1)]: Done 112 tasks      | elapsed:   21.0s\n"
     ]
    },
    {
     "name": "stdout",
     "output_type": "stream",
     "text": [
      "building tree 120 of 1000\n"
     ]
    },
    {
     "name": "stderr",
     "output_type": "stream",
     "text": [
      "[Parallel(n_jobs=-1)]: Done 113 tasks      | elapsed:   21.3s\n"
     ]
    },
    {
     "name": "stdout",
     "output_type": "stream",
     "text": [
      "building tree 121 of 1000\n"
     ]
    },
    {
     "name": "stderr",
     "output_type": "stream",
     "text": [
      "[Parallel(n_jobs=-1)]: Done 114 tasks      | elapsed:   21.5s\n"
     ]
    },
    {
     "name": "stdout",
     "output_type": "stream",
     "text": [
      "building tree 122 of 1000\n"
     ]
    },
    {
     "name": "stderr",
     "output_type": "stream",
     "text": [
      "[Parallel(n_jobs=-1)]: Done 115 tasks      | elapsed:   21.8s\n",
      "[Parallel(n_jobs=-1)]: Done 116 tasks      | elapsed:   21.8s\n",
      "[Parallel(n_jobs=-1)]: Done 117 tasks      | elapsed:   21.9s\n",
      "[Parallel(n_jobs=-1)]: Done 118 tasks      | elapsed:   21.9s\n"
     ]
    },
    {
     "name": "stdout",
     "output_type": "stream",
     "text": [
      "building tree 123 of 1000\n",
      "building tree 124 of 1000\n",
      "building tree 125 of 1000\n",
      "building tree 126 of 1000\n"
     ]
    },
    {
     "name": "stderr",
     "output_type": "stream",
     "text": [
      "[Parallel(n_jobs=-1)]: Done 119 tasks      | elapsed:   22.1s\n"
     ]
    },
    {
     "name": "stdout",
     "output_type": "stream",
     "text": [
      "building tree 127 of 1000\n"
     ]
    },
    {
     "name": "stderr",
     "output_type": "stream",
     "text": [
      "[Parallel(n_jobs=-1)]: Done 120 tasks      | elapsed:   22.7s\n",
      "[Parallel(n_jobs=-1)]: Done 121 tasks      | elapsed:   22.7s\n"
     ]
    },
    {
     "name": "stdout",
     "output_type": "stream",
     "text": [
      "building tree 128 of 1000\n",
      "building tree 129 of 1000\n",
      "building tree 130 of 1000\n",
      "building tree 131 of 1000\n",
      "building tree 132 of 1000"
     ]
    },
    {
     "name": "stderr",
     "output_type": "stream",
     "text": [
      "[Parallel(n_jobs=-1)]: Done 122 tasks      | elapsed:   23.0s\n",
      "[Parallel(n_jobs=-1)]: Done 123 tasks      | elapsed:   23.1s\n",
      "[Parallel(n_jobs=-1)]: Done 124 tasks      | elapsed:   23.2s\n"
     ]
    },
    {
     "name": "stdout",
     "output_type": "stream",
     "text": [
      "\n",
      "building tree 133 of 1000\n",
      "building tree 134 of 1000\n"
     ]
    },
    {
     "name": "stderr",
     "output_type": "stream",
     "text": [
      "[Parallel(n_jobs=-1)]: Done 125 tasks      | elapsed:   23.2s\n",
      "[Parallel(n_jobs=-1)]: Done 126 tasks      | elapsed:   23.3s\n",
      "[Parallel(n_jobs=-1)]: Done 127 tasks      | elapsed:   23.5s\n"
     ]
    },
    {
     "name": "stdout",
     "output_type": "stream",
     "text": [
      "building tree 135 of 1000\n"
     ]
    },
    {
     "name": "stderr",
     "output_type": "stream",
     "text": [
      "[Parallel(n_jobs=-1)]: Done 128 tasks      | elapsed:   24.0s\n",
      "[Parallel(n_jobs=-1)]: Done 129 tasks      | elapsed:   24.1s\n"
     ]
    },
    {
     "name": "stdout",
     "output_type": "stream",
     "text": [
      "building tree 136 of 1000\n",
      "building tree 137 of 1000\n"
     ]
    },
    {
     "name": "stderr",
     "output_type": "stream",
     "text": [
      "[Parallel(n_jobs=-1)]: Done 130 tasks      | elapsed:   24.3s\n",
      "[Parallel(n_jobs=-1)]: Done 131 tasks      | elapsed:   24.4s\n"
     ]
    },
    {
     "name": "stdout",
     "output_type": "stream",
     "text": [
      "building tree 138 of 1000\n",
      "building tree 139 of 1000\n",
      "building tree 140 of 1000\n",
      "building tree 141 of 1000building tree 142 of 1000\n",
      "\n"
     ]
    },
    {
     "name": "stderr",
     "output_type": "stream",
     "text": [
      "[Parallel(n_jobs=-1)]: Done 132 tasks      | elapsed:   24.6s\n",
      "[Parallel(n_jobs=-1)]: Done 133 tasks      | elapsed:   24.6s\n",
      "[Parallel(n_jobs=-1)]: Done 134 tasks      | elapsed:   24.6s\n",
      "[Parallel(n_jobs=-1)]: Done 135 tasks      | elapsed:   24.9s\n"
     ]
    },
    {
     "name": "stdout",
     "output_type": "stream",
     "text": [
      "building tree 143 of 1000\n"
     ]
    },
    {
     "name": "stderr",
     "output_type": "stream",
     "text": [
      "[Parallel(n_jobs=-1)]: Done 136 tasks      | elapsed:   25.3s\n"
     ]
    },
    {
     "name": "stdout",
     "output_type": "stream",
     "text": [
      "building tree 144 of 1000\n"
     ]
    },
    {
     "name": "stderr",
     "output_type": "stream",
     "text": [
      "[Parallel(n_jobs=-1)]: Done 137 tasks      | elapsed:   25.6s\n",
      "[Parallel(n_jobs=-1)]: Done 138 tasks      | elapsed:   25.7s\n",
      "[Parallel(n_jobs=-1)]: Done 139 tasks      | elapsed:   25.7s\n"
     ]
    },
    {
     "name": "stdout",
     "output_type": "stream",
     "text": [
      "building tree 145 of 1000\n",
      "building tree 146 of 1000\n",
      "building tree 147 of 1000\n",
      "building tree 148 of 1000\n",
      "building tree 149 of 1000\n",
      "building tree 150 of 1000\n"
     ]
    },
    {
     "name": "stderr",
     "output_type": "stream",
     "text": [
      "[Parallel(n_jobs=-1)]: Done 140 tasks      | elapsed:   25.9s\n",
      "[Parallel(n_jobs=-1)]: Done 141 tasks      | elapsed:   25.9s\n",
      "[Parallel(n_jobs=-1)]: Done 142 tasks      | elapsed:   25.9s\n",
      "[Parallel(n_jobs=-1)]: Done 143 tasks      | elapsed:   26.3s\n"
     ]
    },
    {
     "name": "stdout",
     "output_type": "stream",
     "text": [
      "building tree 151 of 1000\n"
     ]
    },
    {
     "name": "stderr",
     "output_type": "stream",
     "text": [
      "[Parallel(n_jobs=-1)]: Done 144 tasks      | elapsed:   26.6s\n"
     ]
    },
    {
     "name": "stdout",
     "output_type": "stream",
     "text": [
      "building tree 152 of 1000\n"
     ]
    },
    {
     "name": "stderr",
     "output_type": "stream",
     "text": [
      "[Parallel(n_jobs=-1)]: Done 145 tasks      | elapsed:   26.9s\n",
      "[Parallel(n_jobs=-1)]: Done 146 tasks      | elapsed:   27.0s\n",
      "[Parallel(n_jobs=-1)]: Done 147 tasks      | elapsed:   27.1s\n"
     ]
    },
    {
     "name": "stdout",
     "output_type": "stream",
     "text": [
      "building tree 153 of 1000\n",
      "building tree 154 of 1000\n",
      "building tree 155 of 1000\n",
      "building tree 156 of 1000\n",
      "building tree 157 of 1000\n"
     ]
    },
    {
     "name": "stderr",
     "output_type": "stream",
     "text": [
      "[Parallel(n_jobs=-1)]: Done 148 tasks      | elapsed:   27.1s\n",
      "[Parallel(n_jobs=-1)]: Done 149 tasks      | elapsed:   27.2s\n",
      "[Parallel(n_jobs=-1)]: Done 150 tasks      | elapsed:   27.4s\n"
     ]
    },
    {
     "name": "stdout",
     "output_type": "stream",
     "text": [
      "building tree 158 of 1000\n"
     ]
    },
    {
     "name": "stderr",
     "output_type": "stream",
     "text": [
      "[Parallel(n_jobs=-1)]: Done 151 tasks      | elapsed:   27.7s\n"
     ]
    },
    {
     "name": "stdout",
     "output_type": "stream",
     "text": [
      "building tree 159 of 1000\n"
     ]
    },
    {
     "name": "stderr",
     "output_type": "stream",
     "text": [
      "[Parallel(n_jobs=-1)]: Done 152 tasks      | elapsed:   27.9s\n"
     ]
    },
    {
     "name": "stdout",
     "output_type": "stream",
     "text": [
      "building tree 160 of 1000\n",
      "building tree 161 of 1000\n",
      "building tree 162 of 1000\n",
      "building tree 163 of 1000\n",
      "building tree 164 of 1000\n"
     ]
    },
    {
     "name": "stderr",
     "output_type": "stream",
     "text": [
      "[Parallel(n_jobs=-1)]: Done 153 tasks      | elapsed:   28.3s\n",
      "[Parallel(n_jobs=-1)]: Done 154 tasks      | elapsed:   28.5s\n",
      "[Parallel(n_jobs=-1)]: Done 155 tasks      | elapsed:   28.5s\n",
      "[Parallel(n_jobs=-1)]: Done 156 tasks      | elapsed:   28.5s\n",
      "[Parallel(n_jobs=-1)]: Done 157 tasks      | elapsed:   28.6s\n"
     ]
    },
    {
     "name": "stdout",
     "output_type": "stream",
     "text": [
      "building tree 165 of 1000\n"
     ]
    },
    {
     "name": "stderr",
     "output_type": "stream",
     "text": [
      "[Parallel(n_jobs=-1)]: Done 158 tasks      | elapsed:   28.9s\n"
     ]
    },
    {
     "name": "stdout",
     "output_type": "stream",
     "text": [
      "building tree 166 of 1000\n"
     ]
    },
    {
     "name": "stderr",
     "output_type": "stream",
     "text": [
      "[Parallel(n_jobs=-1)]: Done 159 tasks      | elapsed:   29.2s\n",
      "[Parallel(n_jobs=-1)]: Done 160 tasks      | elapsed:   29.2s\n"
     ]
    },
    {
     "name": "stdout",
     "output_type": "stream",
     "text": [
      "building tree 167 of 1000\n",
      "building tree 168 of 1000\n"
     ]
    },
    {
     "name": "stderr",
     "output_type": "stream",
     "text": [
      "[Parallel(n_jobs=-1)]: Done 161 tasks      | elapsed:   29.6s\n",
      "[Parallel(n_jobs=-1)]: Done 162 tasks      | elapsed:   29.8s\n"
     ]
    },
    {
     "name": "stdout",
     "output_type": "stream",
     "text": [
      "building tree 169 of 1000\n",
      "building tree 170 of 1000\n"
     ]
    },
    {
     "name": "stderr",
     "output_type": "stream",
     "text": [
      "[Parallel(n_jobs=-1)]: Done 163 tasks      | elapsed:   29.9s\n",
      "[Parallel(n_jobs=-1)]: Done 164 tasks      | elapsed:   29.9s\n",
      "[Parallel(n_jobs=-1)]: Done 165 tasks      | elapsed:   29.9s\n"
     ]
    },
    {
     "name": "stdout",
     "output_type": "stream",
     "text": [
      "building tree 171 of 1000\n",
      "building tree 172 of 1000\n",
      "building tree 173 of 1000\n"
     ]
    },
    {
     "name": "stderr",
     "output_type": "stream",
     "text": [
      "[Parallel(n_jobs=-1)]: Done 166 tasks      | elapsed:   30.3s\n"
     ]
    },
    {
     "name": "stdout",
     "output_type": "stream",
     "text": [
      "building tree 174 of 1000\n"
     ]
    },
    {
     "name": "stderr",
     "output_type": "stream",
     "text": [
      "[Parallel(n_jobs=-1)]: Done 167 tasks      | elapsed:   30.5s\n",
      "[Parallel(n_jobs=-1)]: Done 168 tasks      | elapsed:   30.6s\n"
     ]
    },
    {
     "name": "stdout",
     "output_type": "stream",
     "text": [
      "building tree 175 of 1000\n",
      "building tree 176 of 1000\n"
     ]
    },
    {
     "name": "stderr",
     "output_type": "stream",
     "text": [
      "[Parallel(n_jobs=-1)]: Done 169 tasks      | elapsed:   30.9s\n"
     ]
    },
    {
     "name": "stdout",
     "output_type": "stream",
     "text": [
      "building tree 177 of 1000\n"
     ]
    },
    {
     "name": "stderr",
     "output_type": "stream",
     "text": [
      "[Parallel(n_jobs=-1)]: Done 170 tasks      | elapsed:   31.2s\n",
      "[Parallel(n_jobs=-1)]: Done 171 tasks      | elapsed:   31.3s\n",
      "[Parallel(n_jobs=-1)]: Done 172 tasks      | elapsed:   31.3s\n",
      "[Parallel(n_jobs=-1)]: Done 173 tasks      | elapsed:   31.4s\n"
     ]
    },
    {
     "name": "stdout",
     "output_type": "stream",
     "text": [
      "building tree 178 of 1000\n",
      "building tree 179 of 1000\n",
      "building tree 180 of 1000\n",
      "building tree 181 of 1000\n"
     ]
    },
    {
     "name": "stderr",
     "output_type": "stream",
     "text": [
      "[Parallel(n_jobs=-1)]: Done 174 tasks      | elapsed:   31.7s\n"
     ]
    },
    {
     "name": "stdout",
     "output_type": "stream",
     "text": [
      "building tree 182 of 1000\n"
     ]
    },
    {
     "name": "stderr",
     "output_type": "stream",
     "text": [
      "[Parallel(n_jobs=-1)]: Done 175 tasks      | elapsed:   31.9s\n",
      "[Parallel(n_jobs=-1)]: Done 176 tasks      | elapsed:   32.0s\n"
     ]
    },
    {
     "name": "stdout",
     "output_type": "stream",
     "text": [
      "building tree 183 of 1000\n",
      "building tree 184 of 1000\n"
     ]
    },
    {
     "name": "stderr",
     "output_type": "stream",
     "text": [
      "[Parallel(n_jobs=-1)]: Done 177 tasks      | elapsed:   32.3s\n"
     ]
    },
    {
     "name": "stdout",
     "output_type": "stream",
     "text": [
      "building tree 185 of 1000\n"
     ]
    },
    {
     "name": "stderr",
     "output_type": "stream",
     "text": [
      "[Parallel(n_jobs=-1)]: Done 178 tasks      | elapsed:   32.5s\n"
     ]
    },
    {
     "name": "stdout",
     "output_type": "stream",
     "text": [
      "building tree 186 of 1000\n",
      "building tree 187 of 1000\n",
      "building tree 188 of 1000\n",
      "building tree 189 of 1000\n"
     ]
    },
    {
     "name": "stderr",
     "output_type": "stream",
     "text": [
      "[Parallel(n_jobs=-1)]: Done 179 tasks      | elapsed:   32.7s\n",
      "[Parallel(n_jobs=-1)]: Done 180 tasks      | elapsed:   32.8s\n",
      "[Parallel(n_jobs=-1)]: Done 181 tasks      | elapsed:   32.8s\n",
      "[Parallel(n_jobs=-1)]: Done 182 tasks      | elapsed:   33.2s\n",
      "[Parallel(n_jobs=-1)]: Done 183 tasks      | elapsed:   33.2s\n",
      "[Parallel(n_jobs=-1)]: Done 184 tasks      | elapsed:   33.3s\n"
     ]
    },
    {
     "name": "stdout",
     "output_type": "stream",
     "text": [
      "building tree 190 of 1000\n",
      "building tree 191 of 1000\n",
      "building tree 192 of 1000\n"
     ]
    },
    {
     "name": "stderr",
     "output_type": "stream",
     "text": [
      "[Parallel(n_jobs=-1)]: Done 185 tasks      | elapsed:   33.5s\n"
     ]
    },
    {
     "name": "stdout",
     "output_type": "stream",
     "text": [
      "building tree 193 of 1000\n"
     ]
    },
    {
     "name": "stderr",
     "output_type": "stream",
     "text": [
      "[Parallel(n_jobs=-1)]: Done 186 tasks      | elapsed:   33.8s\n"
     ]
    },
    {
     "name": "stdout",
     "output_type": "stream",
     "text": [
      "building tree 194 of 1000\n"
     ]
    },
    {
     "name": "stderr",
     "output_type": "stream",
     "text": [
      "[Parallel(n_jobs=-1)]: Done 187 tasks      | elapsed:   34.1s\n",
      "[Parallel(n_jobs=-1)]: Done 188 tasks      | elapsed:   34.1s\n",
      "[Parallel(n_jobs=-1)]: Done 189 tasks      | elapsed:   34.2s\n"
     ]
    },
    {
     "name": "stdout",
     "output_type": "stream",
     "text": [
      "building tree 195 of 1000\n",
      "building tree 196 of 1000\n",
      "building tree 197 of 1000\n"
     ]
    },
    {
     "name": "stderr",
     "output_type": "stream",
     "text": [
      "[Parallel(n_jobs=-1)]: Done 190 tasks      | elapsed:   34.4s\n",
      "[Parallel(n_jobs=-1)]: Done 191 tasks      | elapsed:   34.6s\n"
     ]
    },
    {
     "name": "stdout",
     "output_type": "stream",
     "text": [
      "building tree 198 of 1000\n",
      "building tree 199 of 1000"
     ]
    },
    {
     "name": "stderr",
     "output_type": "stream",
     "text": [
      "[Parallel(n_jobs=-1)]: Done 192 tasks      | elapsed:   34.8s\n"
     ]
    },
    {
     "name": "stdout",
     "output_type": "stream",
     "text": [
      "\n",
      "building tree 200 of 1000\n",
      "building tree 201 of 1000\n"
     ]
    },
    {
     "name": "stderr",
     "output_type": "stream",
     "text": [
      "[Parallel(n_jobs=-1)]: Done 193 tasks      | elapsed:   35.0s\n",
      "[Parallel(n_jobs=-1)]: Done 194 tasks      | elapsed:   35.3s\n",
      "[Parallel(n_jobs=-1)]: Done 195 tasks      | elapsed:   35.4s\n"
     ]
    },
    {
     "name": "stdout",
     "output_type": "stream",
     "text": [
      "building tree 202 of 1000\n",
      "building tree 203 of 1000\n"
     ]
    },
    {
     "name": "stderr",
     "output_type": "stream",
     "text": [
      "[Parallel(n_jobs=-1)]: Done 196 tasks      | elapsed:   35.5s\n",
      "[Parallel(n_jobs=-1)]: Done 197 tasks      | elapsed:   35.5s\n",
      "[Parallel(n_jobs=-1)]: Done 198 tasks      | elapsed:   35.7s\n"
     ]
    },
    {
     "name": "stdout",
     "output_type": "stream",
     "text": [
      "building tree 204 of 1000\n",
      "building tree 205 of 1000\n",
      "building tree 206 of 1000"
     ]
    },
    {
     "name": "stderr",
     "output_type": "stream",
     "text": [
      "[Parallel(n_jobs=-1)]: Done 199 tasks      | elapsed:   35.9s\n"
     ]
    },
    {
     "name": "stdout",
     "output_type": "stream",
     "text": [
      "\n",
      "building tree 207 of 1000"
     ]
    },
    {
     "name": "stderr",
     "output_type": "stream",
     "text": [
      "[Parallel(n_jobs=-1)]: Done 200 tasks      | elapsed:   36.2s\n",
      "[Parallel(n_jobs=-1)]: Done 201 tasks      | elapsed:   36.3s\n"
     ]
    },
    {
     "name": "stdout",
     "output_type": "stream",
     "text": [
      "\n",
      "building tree 208 of 1000\n",
      "building tree 209 of 1000\n"
     ]
    },
    {
     "name": "stderr",
     "output_type": "stream",
     "text": [
      "[Parallel(n_jobs=-1)]: Done 202 tasks      | elapsed:   36.6s\n",
      "[Parallel(n_jobs=-1)]: Done 203 tasks      | elapsed:   36.8s\n"
     ]
    },
    {
     "name": "stdout",
     "output_type": "stream",
     "text": [
      "building tree 210 of 1000\n",
      "building tree 211 of 1000\n"
     ]
    },
    {
     "name": "stderr",
     "output_type": "stream",
     "text": [
      "[Parallel(n_jobs=-1)]: Done 204 tasks      | elapsed:   36.9s\n",
      "[Parallel(n_jobs=-1)]: Done 205 tasks      | elapsed:   37.0s\n"
     ]
    },
    {
     "name": "stdout",
     "output_type": "stream",
     "text": [
      "building tree 212 of 1000\n",
      "building tree 213 of 1000\n"
     ]
    },
    {
     "name": "stderr",
     "output_type": "stream",
     "text": [
      "[Parallel(n_jobs=-1)]: Done 206 tasks      | elapsed:   37.2s\n",
      "[Parallel(n_jobs=-1)]: Done 207 tasks      | elapsed:   37.3s\n"
     ]
    },
    {
     "name": "stdout",
     "output_type": "stream",
     "text": [
      "building tree 214 of 1000\n",
      "building tree 215 of 1000\n"
     ]
    },
    {
     "name": "stderr",
     "output_type": "stream",
     "text": [
      "[Parallel(n_jobs=-1)]: Done 208 tasks      | elapsed:   37.6s\n"
     ]
    },
    {
     "name": "stdout",
     "output_type": "stream",
     "text": [
      "building tree 216 of 1000\n"
     ]
    },
    {
     "name": "stderr",
     "output_type": "stream",
     "text": [
      "[Parallel(n_jobs=-1)]: Done 209 tasks      | elapsed:   37.8s\n",
      "[Parallel(n_jobs=-1)]: Done 210 tasks      | elapsed:   38.0s\n"
     ]
    },
    {
     "name": "stdout",
     "output_type": "stream",
     "text": [
      "building tree 217 of 1000\n",
      "building tree 218 of 1000\n",
      "building tree 219 of 1000\n",
      "building tree 220 of 1000\n",
      "building tree 221 of 1000"
     ]
    },
    {
     "name": "stderr",
     "output_type": "stream",
     "text": [
      "[Parallel(n_jobs=-1)]: Done 211 tasks      | elapsed:   38.3s\n",
      "[Parallel(n_jobs=-1)]: Done 212 tasks      | elapsed:   38.4s\n",
      "[Parallel(n_jobs=-1)]: Done 213 tasks      | elapsed:   38.5s\n"
     ]
    },
    {
     "name": "stdout",
     "output_type": "stream",
     "text": [
      "\n",
      "building tree 222 of 1000\n",
      "building tree 223 of 1000"
     ]
    },
    {
     "name": "stderr",
     "output_type": "stream",
     "text": [
      "[Parallel(n_jobs=-1)]: Done 214 tasks      | elapsed:   38.6s\n",
      "[Parallel(n_jobs=-1)]: Done 215 tasks      | elapsed:   38.7s\n"
     ]
    },
    {
     "name": "stdout",
     "output_type": "stream",
     "text": [
      "\n"
     ]
    },
    {
     "name": "stderr",
     "output_type": "stream",
     "text": [
      "[Parallel(n_jobs=-1)]: Done 216 tasks      | elapsed:   39.1s\n"
     ]
    },
    {
     "name": "stdout",
     "output_type": "stream",
     "text": [
      "building tree 224 of 1000\n"
     ]
    },
    {
     "name": "stderr",
     "output_type": "stream",
     "text": [
      "[Parallel(n_jobs=-1)]: Done 217 tasks      | elapsed:   39.5s\n",
      "[Parallel(n_jobs=-1)]: Done 218 tasks      | elapsed:   39.6s\n"
     ]
    },
    {
     "name": "stdout",
     "output_type": "stream",
     "text": [
      "building tree 225 of 1000\n",
      "building tree 226 of 1000\n"
     ]
    },
    {
     "name": "stderr",
     "output_type": "stream",
     "text": [
      "[Parallel(n_jobs=-1)]: Done 219 tasks      | elapsed:   39.7s\n",
      "[Parallel(n_jobs=-1)]: Done 220 tasks      | elapsed:   39.9s\n"
     ]
    },
    {
     "name": "stdout",
     "output_type": "stream",
     "text": [
      "building tree 227 of 1000\n",
      "building tree 228 of 1000"
     ]
    },
    {
     "name": "stderr",
     "output_type": "stream",
     "text": [
      "[Parallel(n_jobs=-1)]: Done 221 tasks      | elapsed:   40.1s\n",
      "[Parallel(n_jobs=-1)]: Done 222 tasks      | elapsed:   40.3s\n"
     ]
    },
    {
     "name": "stdout",
     "output_type": "stream",
     "text": [
      "\n",
      "building tree 229 of 1000\n",
      "building tree 230 of 1000\n",
      "building tree 231 of 1000\n"
     ]
    },
    {
     "name": "stderr",
     "output_type": "stream",
     "text": [
      "[Parallel(n_jobs=-1)]: Done 223 tasks      | elapsed:   40.5s\n",
      "[Parallel(n_jobs=-1)]: Done 224 tasks      | elapsed:   40.6s\n"
     ]
    },
    {
     "name": "stdout",
     "output_type": "stream",
     "text": [
      "building tree 232 of 1000\n"
     ]
    },
    {
     "name": "stderr",
     "output_type": "stream",
     "text": [
      "[Parallel(n_jobs=-1)]: Done 225 tasks      | elapsed:   40.8s\n",
      "[Parallel(n_jobs=-1)]: Done 226 tasks      | elapsed:   40.9s\n"
     ]
    },
    {
     "name": "stdout",
     "output_type": "stream",
     "text": [
      "building tree 233 of 1000\n",
      "building tree 234 of 1000\n"
     ]
    },
    {
     "name": "stderr",
     "output_type": "stream",
     "text": [
      "[Parallel(n_jobs=-1)]: Done 227 tasks      | elapsed:   41.1s\n"
     ]
    },
    {
     "name": "stdout",
     "output_type": "stream",
     "text": [
      "building tree 235 of 1000\n",
      "building tree 236 of 1000\n",
      "building tree 237 of 1000\n"
     ]
    },
    {
     "name": "stderr",
     "output_type": "stream",
     "text": [
      "[Parallel(n_jobs=-1)]: Done 228 tasks      | elapsed:   41.5s\n",
      "[Parallel(n_jobs=-1)]: Done 229 tasks      | elapsed:   41.6s\n"
     ]
    },
    {
     "name": "stdout",
     "output_type": "stream",
     "text": [
      "building tree 238 of 1000\n",
      "building tree 239 of 1000\n",
      "building tree 240 of 1000"
     ]
    },
    {
     "name": "stderr",
     "output_type": "stream",
     "text": [
      "[Parallel(n_jobs=-1)]: Done 230 tasks      | elapsed:   42.0s\n",
      "[Parallel(n_jobs=-1)]: Done 231 tasks      | elapsed:   42.0s\n",
      "[Parallel(n_jobs=-1)]: Done 232 tasks      | elapsed:   42.2s\n"
     ]
    },
    {
     "name": "stdout",
     "output_type": "stream",
     "text": [
      "\n",
      "building tree 241 of 1000\n",
      "building tree 242 of 1000\n"
     ]
    },
    {
     "name": "stderr",
     "output_type": "stream",
     "text": [
      "[Parallel(n_jobs=-1)]: Done 233 tasks      | elapsed:   42.2s\n",
      "[Parallel(n_jobs=-1)]: Done 234 tasks      | elapsed:   42.3s\n",
      "[Parallel(n_jobs=-1)]: Done 235 tasks      | elapsed:   42.4s\n"
     ]
    },
    {
     "name": "stdout",
     "output_type": "stream",
     "text": [
      "building tree 243 of 1000\n"
     ]
    },
    {
     "name": "stderr",
     "output_type": "stream",
     "text": [
      "[Parallel(n_jobs=-1)]: Done 236 tasks      | elapsed:   43.0s\n",
      "[Parallel(n_jobs=-1)]: Done 237 tasks      | elapsed:   43.0s\n"
     ]
    },
    {
     "name": "stdout",
     "output_type": "stream",
     "text": [
      "building tree 244 of 1000\n",
      "building tree 245 of 1000\n"
     ]
    },
    {
     "name": "stderr",
     "output_type": "stream",
     "text": [
      "[Parallel(n_jobs=-1)]: Done 238 tasks      | elapsed:   43.3s\n",
      "[Parallel(n_jobs=-1)]: Done 239 tasks      | elapsed:   43.4s\n"
     ]
    },
    {
     "name": "stdout",
     "output_type": "stream",
     "text": [
      "building tree 246 of 1000\n",
      "building tree 247 of 1000\n"
     ]
    },
    {
     "name": "stderr",
     "output_type": "stream",
     "text": [
      "[Parallel(n_jobs=-1)]: Done 240 tasks      | elapsed:   43.5s\n",
      "[Parallel(n_jobs=-1)]: Done 241 tasks      | elapsed:   43.5s\n"
     ]
    },
    {
     "name": "stdout",
     "output_type": "stream",
     "text": [
      "building tree 248 of 1000\n",
      "building tree 249 of 1000\n"
     ]
    },
    {
     "name": "stderr",
     "output_type": "stream",
     "text": [
      "[Parallel(n_jobs=-1)]: Done 242 tasks      | elapsed:   43.8s\n",
      "[Parallel(n_jobs=-1)]: Done 243 tasks      | elapsed:   43.9s\n"
     ]
    },
    {
     "name": "stdout",
     "output_type": "stream",
     "text": [
      "building tree 250 of 1000\n",
      "building tree 251 of 1000\n"
     ]
    },
    {
     "name": "stderr",
     "output_type": "stream",
     "text": [
      "[Parallel(n_jobs=-1)]: Done 244 tasks      | elapsed:   44.3s\n",
      "[Parallel(n_jobs=-1)]: Done 245 tasks      | elapsed:   44.4s\n"
     ]
    },
    {
     "name": "stdout",
     "output_type": "stream",
     "text": [
      "building tree 252 of 1000\n",
      "building tree 253 of 1000\n"
     ]
    },
    {
     "name": "stderr",
     "output_type": "stream",
     "text": [
      "[Parallel(n_jobs=-1)]: Done 246 tasks      | elapsed:   44.7s\n",
      "[Parallel(n_jobs=-1)]: Done 247 tasks      | elapsed:   44.7s\n",
      "[Parallel(n_jobs=-1)]: Done 248 tasks      | elapsed:   44.9s\n"
     ]
    },
    {
     "name": "stdout",
     "output_type": "stream",
     "text": [
      "building tree 254 of 1000\n",
      "building tree 255 of 1000\n",
      "building tree 256 of 1000\n"
     ]
    },
    {
     "name": "stderr",
     "output_type": "stream",
     "text": [
      "[Parallel(n_jobs=-1)]: Done 249 tasks      | elapsed:   45.0s\n",
      "[Parallel(n_jobs=-1)]: Done 250 tasks      | elapsed:   45.1s\n",
      "[Parallel(n_jobs=-1)]: Done 251 tasks      | elapsed:   45.2s\n"
     ]
    },
    {
     "name": "stdout",
     "output_type": "stream",
     "text": [
      "building tree 257 of 1000\n",
      "building tree 258 of 1000\n",
      "building tree 259 of 1000\n"
     ]
    },
    {
     "name": "stderr",
     "output_type": "stream",
     "text": [
      "[Parallel(n_jobs=-1)]: Done 252 tasks      | elapsed:   45.6s\n",
      "[Parallel(n_jobs=-1)]: Done 253 tasks      | elapsed:   45.8s\n"
     ]
    },
    {
     "name": "stdout",
     "output_type": "stream",
     "text": [
      "building tree 260 of 1000\n",
      "building tree 261 of 1000\n"
     ]
    },
    {
     "name": "stderr",
     "output_type": "stream",
     "text": [
      "[Parallel(n_jobs=-1)]: Done 254 tasks      | elapsed:   46.0s\n",
      "[Parallel(n_jobs=-1)]: Done 255 tasks      | elapsed:   46.1s\n",
      "[Parallel(n_jobs=-1)]: Done 256 tasks      | elapsed:   46.2s\n",
      "[Parallel(n_jobs=-1)]: Done 257 tasks      | elapsed:   46.2s\n"
     ]
    },
    {
     "name": "stdout",
     "output_type": "stream",
     "text": [
      "building tree 262 of 1000\n",
      "building tree 263 of 1000\n",
      "building tree 264 of 1000\n",
      "building tree 265 of 1000"
     ]
    },
    {
     "name": "stderr",
     "output_type": "stream",
     "text": [
      "[Parallel(n_jobs=-1)]: Done 258 tasks      | elapsed:   46.4s\n"
     ]
    },
    {
     "name": "stdout",
     "output_type": "stream",
     "text": [
      "\n",
      "building tree 266 of 1000\n",
      "building tree 267 of 1000\n"
     ]
    },
    {
     "name": "stderr",
     "output_type": "stream",
     "text": [
      "[Parallel(n_jobs=-1)]: Done 259 tasks      | elapsed:   46.5s\n",
      "[Parallel(n_jobs=-1)]: Done 260 tasks      | elapsed:   46.9s\n"
     ]
    },
    {
     "name": "stdout",
     "output_type": "stream",
     "text": [
      "building tree 268 of 1000\n"
     ]
    },
    {
     "name": "stderr",
     "output_type": "stream",
     "text": [
      "[Parallel(n_jobs=-1)]: Done 261 tasks      | elapsed:   47.2s\n"
     ]
    },
    {
     "name": "stdout",
     "output_type": "stream",
     "text": [
      "building tree 269 of 1000\n"
     ]
    },
    {
     "name": "stderr",
     "output_type": "stream",
     "text": [
      "[Parallel(n_jobs=-1)]: Done 262 tasks      | elapsed:   47.5s\n",
      "[Parallel(n_jobs=-1)]: Done 263 tasks      | elapsed:   47.5s\n",
      "[Parallel(n_jobs=-1)]: Done 264 tasks      | elapsed:   47.6s\n"
     ]
    },
    {
     "name": "stdout",
     "output_type": "stream",
     "text": [
      "building tree 270 of 1000\n",
      "building tree 271 of 1000\n",
      "building tree 272 of 1000\n"
     ]
    },
    {
     "name": "stderr",
     "output_type": "stream",
     "text": [
      "[Parallel(n_jobs=-1)]: Done 265 tasks      | elapsed:   47.8s\n",
      "[Parallel(n_jobs=-1)]: Done 266 tasks      | elapsed:   47.8s\n",
      "[Parallel(n_jobs=-1)]: Done 267 tasks      | elapsed:   47.9s\n"
     ]
    },
    {
     "name": "stdout",
     "output_type": "stream",
     "text": [
      "building tree 273 of 1000\n",
      "building tree 274 of 1000\n",
      "building tree 275 of 1000\n"
     ]
    },
    {
     "name": "stderr",
     "output_type": "stream",
     "text": [
      "[Parallel(n_jobs=-1)]: Done 268 tasks      | elapsed:   48.2s\n"
     ]
    },
    {
     "name": "stdout",
     "output_type": "stream",
     "text": [
      "building tree 276 of 1000\n"
     ]
    },
    {
     "name": "stderr",
     "output_type": "stream",
     "text": [
      "[Parallel(n_jobs=-1)]: Done 269 tasks      | elapsed:   48.7s\n",
      "[Parallel(n_jobs=-1)]: Done 270 tasks      | elapsed:   48.8s\n",
      "[Parallel(n_jobs=-1)]: Done 271 tasks      | elapsed:   48.9s\n"
     ]
    },
    {
     "name": "stdout",
     "output_type": "stream",
     "text": [
      "building tree 277 of 1000\n",
      "building tree 278 of 1000\n",
      "building tree 279 of 1000\n",
      "building tree 280 of 1000\n",
      "building tree 281 of 1000\n",
      "building tree 282 of 1000\n",
      "building tree 283 of 1000\n"
     ]
    },
    {
     "name": "stderr",
     "output_type": "stream",
     "text": [
      "[Parallel(n_jobs=-1)]: Done 272 tasks      | elapsed:   49.1s\n",
      "[Parallel(n_jobs=-1)]: Done 273 tasks      | elapsed:   49.2s\n",
      "[Parallel(n_jobs=-1)]: Done 274 tasks      | elapsed:   49.2s\n",
      "[Parallel(n_jobs=-1)]: Done 275 tasks      | elapsed:   49.2s\n",
      "[Parallel(n_jobs=-1)]: Done 276 tasks      | elapsed:   49.6s\n"
     ]
    },
    {
     "name": "stdout",
     "output_type": "stream",
     "text": [
      "building tree 284 of 1000\n",
      "building tree 285 of 1000\n",
      "building tree 286 of 1000\n",
      "building tree 287 of 1000"
     ]
    },
    {
     "name": "stderr",
     "output_type": "stream",
     "text": [
      "[Parallel(n_jobs=-1)]: Done 277 tasks      | elapsed:   50.1s\n",
      "[Parallel(n_jobs=-1)]: Done 278 tasks      | elapsed:   50.3s\n",
      "[Parallel(n_jobs=-1)]: Done 279 tasks      | elapsed:   50.3s\n"
     ]
    },
    {
     "name": "stdout",
     "output_type": "stream",
     "text": [
      "\n"
     ]
    },
    {
     "name": "stderr",
     "output_type": "stream",
     "text": [
      "[Parallel(n_jobs=-1)]: Done 280 tasks      | elapsed:   50.5s\n",
      "[Parallel(n_jobs=-1)]: Done 281 tasks      | elapsed:   50.6s\n"
     ]
    },
    {
     "name": "stdout",
     "output_type": "stream",
     "text": [
      "building tree 288 of 1000\n",
      "building tree 289 of 1000\n"
     ]
    },
    {
     "name": "stderr",
     "output_type": "stream",
     "text": [
      "[Parallel(n_jobs=-1)]: Done 282 tasks      | elapsed:   50.7s\n",
      "[Parallel(n_jobs=-1)]: Done 283 tasks      | elapsed:   50.8s\n"
     ]
    },
    {
     "name": "stdout",
     "output_type": "stream",
     "text": [
      "building tree 290 of 1000\n",
      "building tree 291 of 1000\n"
     ]
    },
    {
     "name": "stderr",
     "output_type": "stream",
     "text": [
      "[Parallel(n_jobs=-1)]: Done 284 tasks      | elapsed:   51.1s\n"
     ]
    },
    {
     "name": "stdout",
     "output_type": "stream",
     "text": [
      "building tree 292 of 1000\n"
     ]
    },
    {
     "name": "stderr",
     "output_type": "stream",
     "text": [
      "[Parallel(n_jobs=-1)]: Done 285 tasks      | elapsed:   51.6s\n",
      "[Parallel(n_jobs=-1)]: Done 286 tasks      | elapsed:   51.7s\n"
     ]
    },
    {
     "name": "stdout",
     "output_type": "stream",
     "text": [
      "building tree 293 of 1000\n",
      "building tree 294 of 1000\n"
     ]
    },
    {
     "name": "stderr",
     "output_type": "stream",
     "text": [
      "[Parallel(n_jobs=-1)]: Done 287 tasks      | elapsed:   51.9s\n",
      "[Parallel(n_jobs=-1)]: Done 288 tasks      | elapsed:   51.9s\n",
      "[Parallel(n_jobs=-1)]: Done 289 tasks      | elapsed:   52.1s\n"
     ]
    },
    {
     "name": "stdout",
     "output_type": "stream",
     "text": [
      "building tree 295 of 1000\n",
      "building tree 296 of 1000\n",
      "building tree 297 of 1000"
     ]
    },
    {
     "name": "stderr",
     "output_type": "stream",
     "text": [
      "[Parallel(n_jobs=-1)]: Done 290 tasks      | elapsed:   52.2s\n",
      "[Parallel(n_jobs=-1)]: Done 291 tasks      | elapsed:   52.2s\n"
     ]
    },
    {
     "name": "stdout",
     "output_type": "stream",
     "text": [
      "\n",
      "building tree 298 of 1000\n",
      "building tree 299 of 1000\n",
      "building tree 300 of 1000\n"
     ]
    },
    {
     "name": "stderr",
     "output_type": "stream",
     "text": [
      "[Parallel(n_jobs=-1)]: Done 292 tasks      | elapsed:   52.5s\n",
      "[Parallel(n_jobs=-1)]: Done 293 tasks      | elapsed:   53.1s\n",
      "[Parallel(n_jobs=-1)]: Done 294 tasks      | elapsed:   53.1s\n"
     ]
    },
    {
     "name": "stdout",
     "output_type": "stream",
     "text": [
      "building tree 301 of 1000\n",
      "building tree 302 of 1000\n"
     ]
    },
    {
     "name": "stderr",
     "output_type": "stream",
     "text": [
      "[Parallel(n_jobs=-1)]: Done 295 tasks      | elapsed:   53.4s\n",
      "[Parallel(n_jobs=-1)]: Done 296 tasks      | elapsed:   53.4s\n",
      "[Parallel(n_jobs=-1)]: Done 297 tasks      | elapsed:   53.5s\n"
     ]
    },
    {
     "name": "stdout",
     "output_type": "stream",
     "text": [
      "building tree 303 of 1000\n",
      "building tree 304 of 1000\n",
      "building tree 305 of 1000\n",
      "building tree 306 of 1000\n",
      "building tree 307 of 1000\n",
      "building tree 308 of 1000\n"
     ]
    },
    {
     "name": "stderr",
     "output_type": "stream",
     "text": [
      "[Parallel(n_jobs=-1)]: Done 298 tasks      | elapsed:   53.8s\n",
      "[Parallel(n_jobs=-1)]: Done 299 tasks      | elapsed:   53.8s\n",
      "[Parallel(n_jobs=-1)]: Done 300 tasks      | elapsed:   53.9s\n",
      "[Parallel(n_jobs=-1)]: Done 301 tasks      | elapsed:   54.7s\n",
      "[Parallel(n_jobs=-1)]: Done 302 tasks      | elapsed:   54.7s\n"
     ]
    },
    {
     "name": "stdout",
     "output_type": "stream",
     "text": [
      "building tree 309 of 1000\n",
      "building tree 310 of 1000\n"
     ]
    },
    {
     "name": "stderr",
     "output_type": "stream",
     "text": [
      "[Parallel(n_jobs=-1)]: Done 303 tasks      | elapsed:   55.0s\n",
      "[Parallel(n_jobs=-1)]: Done 304 tasks      | elapsed:   55.1s\n",
      "[Parallel(n_jobs=-1)]: Done 305 tasks      | elapsed:   55.1s\n"
     ]
    },
    {
     "name": "stdout",
     "output_type": "stream",
     "text": [
      "building tree 311 of 1000\n",
      "building tree 312 of 1000\n",
      "building tree 313 of 1000\n"
     ]
    },
    {
     "name": "stderr",
     "output_type": "stream",
     "text": [
      "[Parallel(n_jobs=-1)]: Done 306 tasks      | elapsed:   55.2s\n",
      "[Parallel(n_jobs=-1)]: Done 307 tasks      | elapsed:   55.2s\n",
      "[Parallel(n_jobs=-1)]: Done 308 tasks      | elapsed:   55.4s\n"
     ]
    },
    {
     "name": "stdout",
     "output_type": "stream",
     "text": [
      "building tree 314 of 1000\n",
      "building tree 315 of 1000\n",
      "building tree 316 of 1000\n"
     ]
    },
    {
     "name": "stderr",
     "output_type": "stream",
     "text": [
      "[Parallel(n_jobs=-1)]: Done 309 tasks      | elapsed:   56.0s\n",
      "[Parallel(n_jobs=-1)]: Done 310 tasks      | elapsed:   56.2s\n"
     ]
    },
    {
     "name": "stdout",
     "output_type": "stream",
     "text": [
      "building tree 317 of 1000\n",
      "building tree 318 of 1000"
     ]
    },
    {
     "name": "stderr",
     "output_type": "stream",
     "text": [
      "[Parallel(n_jobs=-1)]: Done 311 tasks      | elapsed:   56.2s\n",
      "[Parallel(n_jobs=-1)]: Done 312 tasks      | elapsed:   56.4s\n"
     ]
    },
    {
     "name": "stdout",
     "output_type": "stream",
     "text": [
      "\n",
      "building tree 319 of 1000\n",
      "building tree 320 of 1000\n"
     ]
    },
    {
     "name": "stderr",
     "output_type": "stream",
     "text": [
      "[Parallel(n_jobs=-1)]: Done 313 tasks      | elapsed:   56.5s\n",
      "[Parallel(n_jobs=-1)]: Done 314 tasks      | elapsed:   56.6s\n",
      "[Parallel(n_jobs=-1)]: Done 315 tasks      | elapsed:   56.7s\n",
      "[Parallel(n_jobs=-1)]: Done 316 tasks      | elapsed:   56.7s\n"
     ]
    },
    {
     "name": "stdout",
     "output_type": "stream",
     "text": [
      "building tree 321 of 1000\n",
      "building tree 322 of 1000\n",
      "building tree 323 of 1000\n",
      "building tree 324 of 1000\n"
     ]
    },
    {
     "name": "stderr",
     "output_type": "stream",
     "text": [
      "[Parallel(n_jobs=-1)]: Done 317 tasks      | elapsed:   57.4s\n"
     ]
    },
    {
     "name": "stdout",
     "output_type": "stream",
     "text": [
      "building tree 325 of 1000\n"
     ]
    },
    {
     "name": "stderr",
     "output_type": "stream",
     "text": [
      "[Parallel(n_jobs=-1)]: Done 318 tasks      | elapsed:   57.6s\n",
      "[Parallel(n_jobs=-1)]: Done 319 tasks      | elapsed:   57.7s\n",
      "[Parallel(n_jobs=-1)]: Done 320 tasks      | elapsed:   57.8s\n",
      "[Parallel(n_jobs=-1)]: Done 321 tasks      | elapsed:   57.8s\n"
     ]
    },
    {
     "name": "stdout",
     "output_type": "stream",
     "text": [
      "building tree 326 of 1000\n",
      "building tree 327 of 1000\n",
      "building tree 328 of 1000\n",
      "building tree 329 of 1000"
     ]
    },
    {
     "name": "stderr",
     "output_type": "stream",
     "text": [
      "[Parallel(n_jobs=-1)]: Done 322 tasks      | elapsed:   58.0s\n"
     ]
    },
    {
     "name": "stdout",
     "output_type": "stream",
     "text": [
      "\n",
      "building tree 330 of 1000\n",
      "building tree 331 of 1000\n"
     ]
    },
    {
     "name": "stderr",
     "output_type": "stream",
     "text": [
      "[Parallel(n_jobs=-1)]: Done 323 tasks      | elapsed:   58.1s\n",
      "[Parallel(n_jobs=-1)]: Done 324 tasks      | elapsed:   58.2s\n"
     ]
    },
    {
     "name": "stdout",
     "output_type": "stream",
     "text": [
      "building tree 332 of 1000\n"
     ]
    },
    {
     "name": "stderr",
     "output_type": "stream",
     "text": [
      "[Parallel(n_jobs=-1)]: Done 325 tasks      | elapsed:   58.8s\n",
      "[Parallel(n_jobs=-1)]: Done 326 tasks      | elapsed:   59.0s\n"
     ]
    },
    {
     "name": "stdout",
     "output_type": "stream",
     "text": [
      "building tree 333 of 1000\n",
      "building tree 334 of 1000\n",
      "building tree 335 of 1000\n"
     ]
    },
    {
     "name": "stderr",
     "output_type": "stream",
     "text": [
      "[Parallel(n_jobs=-1)]: Done 327 tasks      | elapsed:   59.0s\n",
      "[Parallel(n_jobs=-1)]: Done 328 tasks      | elapsed:   59.2s\n",
      "[Parallel(n_jobs=-1)]: Done 329 tasks      | elapsed:   59.3s\n",
      "[Parallel(n_jobs=-1)]: Done 330 tasks      | elapsed:   59.3s\n"
     ]
    },
    {
     "name": "stdout",
     "output_type": "stream",
     "text": [
      "building tree 336 of 1000\n",
      "building tree 337 of 1000\n",
      "building tree 338 of 1000\n"
     ]
    },
    {
     "name": "stderr",
     "output_type": "stream",
     "text": [
      "[Parallel(n_jobs=-1)]: Done 331 tasks      | elapsed:   59.4s\n"
     ]
    },
    {
     "name": "stdout",
     "output_type": "stream",
     "text": [
      "building tree 339 of 1000\n",
      "building tree 340 of 1000\n"
     ]
    },
    {
     "name": "stderr",
     "output_type": "stream",
     "text": [
      "[Parallel(n_jobs=-1)]: Done 332 tasks      | elapsed:   59.8s\n",
      "[Parallel(n_jobs=-1)]: Done 333 tasks      | elapsed:  1.0min\n",
      "[Parallel(n_jobs=-1)]: Done 334 tasks      | elapsed:  1.0min\n"
     ]
    },
    {
     "name": "stdout",
     "output_type": "stream",
     "text": [
      "building tree 341 of 1000\n",
      "building tree 342 of 1000\n",
      "building tree 343 of 1000\n",
      "building tree 344 of 1000\n",
      "building tree 345 of 1000\n"
     ]
    },
    {
     "name": "stderr",
     "output_type": "stream",
     "text": [
      "[Parallel(n_jobs=-1)]: Done 335 tasks      | elapsed:  1.0min\n",
      "[Parallel(n_jobs=-1)]: Done 336 tasks      | elapsed:  1.0min\n",
      "[Parallel(n_jobs=-1)]: Done 337 tasks      | elapsed:  1.0min\n",
      "[Parallel(n_jobs=-1)]: Done 338 tasks      | elapsed:  1.0min\n",
      "[Parallel(n_jobs=-1)]: Done 339 tasks      | elapsed:  1.0min\n"
     ]
    },
    {
     "name": "stdout",
     "output_type": "stream",
     "text": [
      "building tree 346 of 1000\n",
      "building tree 347 of 1000\n"
     ]
    },
    {
     "name": "stderr",
     "output_type": "stream",
     "text": [
      "[Parallel(n_jobs=-1)]: Done 340 tasks      | elapsed:  1.0min\n"
     ]
    },
    {
     "name": "stdout",
     "output_type": "stream",
     "text": [
      "building tree 348 of 1000\n"
     ]
    },
    {
     "name": "stderr",
     "output_type": "stream",
     "text": [
      "[Parallel(n_jobs=-1)]: Done 341 tasks      | elapsed:  1.0min\n",
      "[Parallel(n_jobs=-1)]: Done 342 tasks      | elapsed:  1.0min\n",
      "[Parallel(n_jobs=-1)]: Done 343 tasks      | elapsed:  1.0min\n"
     ]
    },
    {
     "name": "stdout",
     "output_type": "stream",
     "text": [
      "building tree 349 of 1000\n",
      "building tree 350 of 1000\n",
      "building tree 351 of 1000\n",
      "building tree 352 of 1000\n",
      "building tree 353 of 1000\n",
      "building tree 354 of 1000\n",
      "building tree 355 of 1000\n"
     ]
    },
    {
     "name": "stderr",
     "output_type": "stream",
     "text": [
      "[Parallel(n_jobs=-1)]: Done 344 tasks      | elapsed:  1.0min\n",
      "[Parallel(n_jobs=-1)]: Done 345 tasks      | elapsed:  1.0min\n",
      "[Parallel(n_jobs=-1)]: Done 346 tasks      | elapsed:  1.0min\n",
      "[Parallel(n_jobs=-1)]: Done 347 tasks      | elapsed:  1.0min\n",
      "[Parallel(n_jobs=-1)]: Done 348 tasks      | elapsed:  1.0min\n"
     ]
    },
    {
     "name": "stdout",
     "output_type": "stream",
     "text": [
      "building tree 356 of 1000\n"
     ]
    },
    {
     "name": "stderr",
     "output_type": "stream",
     "text": [
      "[Parallel(n_jobs=-1)]: Done 349 tasks      | elapsed:  1.1min\n",
      "[Parallel(n_jobs=-1)]: Done 350 tasks      | elapsed:  1.1min\n"
     ]
    },
    {
     "name": "stdout",
     "output_type": "stream",
     "text": [
      "building tree 357 of 1000\n",
      "building tree 358 of 1000\n",
      "building tree 359 of 1000\n"
     ]
    },
    {
     "name": "stderr",
     "output_type": "stream",
     "text": [
      "[Parallel(n_jobs=-1)]: Done 351 tasks      | elapsed:  1.1min\n",
      "[Parallel(n_jobs=-1)]: Done 352 tasks      | elapsed:  1.1min\n",
      "[Parallel(n_jobs=-1)]: Done 353 tasks      | elapsed:  1.1min\n",
      "[Parallel(n_jobs=-1)]: Done 354 tasks      | elapsed:  1.1min\n",
      "[Parallel(n_jobs=-1)]: Done 355 tasks      | elapsed:  1.1min\n"
     ]
    },
    {
     "name": "stdout",
     "output_type": "stream",
     "text": [
      "building tree 360 of 1000\n",
      "building tree 361 of 1000\n",
      "building tree 362 of 1000\n",
      "building tree 363 of 1000\n"
     ]
    },
    {
     "name": "stderr",
     "output_type": "stream",
     "text": [
      "[Parallel(n_jobs=-1)]: Done 356 tasks      | elapsed:  1.1min\n",
      "[Parallel(n_jobs=-1)]: Done 357 tasks      | elapsed:  1.1min\n"
     ]
    },
    {
     "name": "stdout",
     "output_type": "stream",
     "text": [
      "building tree 364 of 1000\n",
      "building tree 365 of 1000"
     ]
    },
    {
     "name": "stderr",
     "output_type": "stream",
     "text": [
      "[Parallel(n_jobs=-1)]: Done 358 tasks      | elapsed:  1.1min\n"
     ]
    },
    {
     "name": "stdout",
     "output_type": "stream",
     "text": [
      "\n",
      "building tree 366 of 1000\n",
      "building tree 367 of 1000\n"
     ]
    },
    {
     "name": "stderr",
     "output_type": "stream",
     "text": [
      "[Parallel(n_jobs=-1)]: Done 359 tasks      | elapsed:  1.1min\n",
      "[Parallel(n_jobs=-1)]: Done 360 tasks      | elapsed:  1.1min\n",
      "[Parallel(n_jobs=-1)]: Done 361 tasks      | elapsed:  1.1min\n"
     ]
    },
    {
     "name": "stdout",
     "output_type": "stream",
     "text": [
      "building tree 368 of 1000\n",
      "building tree 369 of 1000"
     ]
    },
    {
     "name": "stderr",
     "output_type": "stream",
     "text": [
      "[Parallel(n_jobs=-1)]: Done 362 tasks      | elapsed:  1.1min\n",
      "[Parallel(n_jobs=-1)]: Done 363 tasks      | elapsed:  1.1min\n"
     ]
    },
    {
     "name": "stdout",
     "output_type": "stream",
     "text": [
      "\n",
      "building tree 370 of 1000\n",
      "building tree 371 of 1000\n"
     ]
    },
    {
     "name": "stderr",
     "output_type": "stream",
     "text": [
      "[Parallel(n_jobs=-1)]: Done 364 tasks      | elapsed:  1.1min\n"
     ]
    },
    {
     "name": "stdout",
     "output_type": "stream",
     "text": [
      "building tree 372 of 1000\n"
     ]
    },
    {
     "name": "stderr",
     "output_type": "stream",
     "text": [
      "[Parallel(n_jobs=-1)]: Done 365 tasks      | elapsed:  1.1min\n",
      "[Parallel(n_jobs=-1)]: Done 366 tasks      | elapsed:  1.1min\n",
      "[Parallel(n_jobs=-1)]: Done 367 tasks      | elapsed:  1.1min\n"
     ]
    },
    {
     "name": "stdout",
     "output_type": "stream",
     "text": [
      "building tree 373 of 1000\n",
      "building tree 374 of 1000\n",
      "building tree 375 of 1000\n"
     ]
    },
    {
     "name": "stderr",
     "output_type": "stream",
     "text": [
      "[Parallel(n_jobs=-1)]: Done 368 tasks      | elapsed:  1.1min\n",
      "[Parallel(n_jobs=-1)]: Done 369 tasks      | elapsed:  1.1min\n"
     ]
    },
    {
     "name": "stdout",
     "output_type": "stream",
     "text": [
      "building tree 376 of 1000\n",
      "building tree 377 of 1000\n"
     ]
    },
    {
     "name": "stderr",
     "output_type": "stream",
     "text": [
      "[Parallel(n_jobs=-1)]: Done 370 tasks      | elapsed:  1.1min\n",
      "[Parallel(n_jobs=-1)]: Done 371 tasks      | elapsed:  1.1min\n"
     ]
    },
    {
     "name": "stdout",
     "output_type": "stream",
     "text": [
      "building tree 378 of 1000\n",
      "building tree 379 of 1000\n"
     ]
    },
    {
     "name": "stderr",
     "output_type": "stream",
     "text": [
      "[Parallel(n_jobs=-1)]: Done 372 tasks      | elapsed:  1.1min\n",
      "[Parallel(n_jobs=-1)]: Done 373 tasks      | elapsed:  1.1min\n"
     ]
    },
    {
     "name": "stdout",
     "output_type": "stream",
     "text": [
      "building tree 380 of 1000\n",
      "building tree 381 of 1000\n"
     ]
    },
    {
     "name": "stderr",
     "output_type": "stream",
     "text": [
      "[Parallel(n_jobs=-1)]: Done 374 tasks      | elapsed:  1.1min\n",
      "[Parallel(n_jobs=-1)]: Done 375 tasks      | elapsed:  1.1min\n"
     ]
    },
    {
     "name": "stdout",
     "output_type": "stream",
     "text": [
      "building tree 382 of 1000\n",
      "building tree 383 of 1000\n"
     ]
    },
    {
     "name": "stderr",
     "output_type": "stream",
     "text": [
      "[Parallel(n_jobs=-1)]: Done 376 tasks      | elapsed:  1.1min\n"
     ]
    },
    {
     "name": "stdout",
     "output_type": "stream",
     "text": [
      "building tree 384 of 1000\n"
     ]
    },
    {
     "name": "stderr",
     "output_type": "stream",
     "text": [
      "[Parallel(n_jobs=-1)]: Done 377 tasks      | elapsed:  1.1min\n",
      "[Parallel(n_jobs=-1)]: Done 378 tasks      | elapsed:  1.1min\n",
      "[Parallel(n_jobs=-1)]: Done 379 tasks      | elapsed:  1.1min\n"
     ]
    },
    {
     "name": "stdout",
     "output_type": "stream",
     "text": [
      "building tree 385 of 1000\n",
      "building tree 386 of 1000\n",
      "building tree 387 of 1000\n"
     ]
    },
    {
     "name": "stderr",
     "output_type": "stream",
     "text": [
      "[Parallel(n_jobs=-1)]: Done 380 tasks      | elapsed:  1.1min\n"
     ]
    },
    {
     "name": "stdout",
     "output_type": "stream",
     "text": [
      "building tree 388 of 1000\n"
     ]
    },
    {
     "name": "stderr",
     "output_type": "stream",
     "text": [
      "[Parallel(n_jobs=-1)]: Done 381 tasks      | elapsed:  1.1min\n",
      "[Parallel(n_jobs=-1)]: Done 382 tasks      | elapsed:  1.1min\n",
      "[Parallel(n_jobs=-1)]: Done 383 tasks      | elapsed:  1.1min\n"
     ]
    },
    {
     "name": "stdout",
     "output_type": "stream",
     "text": [
      "building tree 389 of 1000\n",
      "building tree 390 of 1000\n",
      "building tree 391 of 1000\n"
     ]
    },
    {
     "name": "stderr",
     "output_type": "stream",
     "text": [
      "[Parallel(n_jobs=-1)]: Done 384 tasks      | elapsed:  1.2min\n",
      "[Parallel(n_jobs=-1)]: Done 385 tasks      | elapsed:  1.2min\n"
     ]
    },
    {
     "name": "stdout",
     "output_type": "stream",
     "text": [
      "building tree 392 of 1000\n",
      "building tree 393 of 1000"
     ]
    },
    {
     "name": "stderr",
     "output_type": "stream",
     "text": [
      "[Parallel(n_jobs=-1)]: Done 386 tasks      | elapsed:  1.2min\n",
      "[Parallel(n_jobs=-1)]: Done 387 tasks      | elapsed:  1.2min\n"
     ]
    },
    {
     "name": "stdout",
     "output_type": "stream",
     "text": [
      "\n",
      "building tree 394 of 1000\n",
      "building tree 395 of 1000\n"
     ]
    },
    {
     "name": "stderr",
     "output_type": "stream",
     "text": [
      "[Parallel(n_jobs=-1)]: Done 388 tasks      | elapsed:  1.2min\n"
     ]
    },
    {
     "name": "stdout",
     "output_type": "stream",
     "text": [
      "building tree 396 of 1000\n"
     ]
    },
    {
     "name": "stderr",
     "output_type": "stream",
     "text": [
      "[Parallel(n_jobs=-1)]: Done 389 tasks      | elapsed:  1.2min\n",
      "[Parallel(n_jobs=-1)]: Done 390 tasks      | elapsed:  1.2min\n"
     ]
    },
    {
     "name": "stdout",
     "output_type": "stream",
     "text": [
      "building tree 397 of 1000\n",
      "building tree 398 of 1000\n"
     ]
    },
    {
     "name": "stderr",
     "output_type": "stream",
     "text": [
      "[Parallel(n_jobs=-1)]: Done 391 tasks      | elapsed:  1.2min\n",
      "[Parallel(n_jobs=-1)]: Done 392 tasks      | elapsed:  1.2min\n"
     ]
    },
    {
     "name": "stdout",
     "output_type": "stream",
     "text": [
      "building tree 399 of 1000\n",
      "building tree 400 of 1000\n"
     ]
    },
    {
     "name": "stderr",
     "output_type": "stream",
     "text": [
      "[Parallel(n_jobs=-1)]: Done 393 tasks      | elapsed:  1.2min\n",
      "[Parallel(n_jobs=-1)]: Done 394 tasks      | elapsed:  1.2min\n",
      "[Parallel(n_jobs=-1)]: Done 395 tasks      | elapsed:  1.2min\n"
     ]
    },
    {
     "name": "stdout",
     "output_type": "stream",
     "text": [
      "building tree 401 of 1000\n",
      "building tree 402 of 1000\n",
      "building tree 403 of 1000\n"
     ]
    },
    {
     "name": "stderr",
     "output_type": "stream",
     "text": [
      "[Parallel(n_jobs=-1)]: Done 396 tasks      | elapsed:  1.2min\n"
     ]
    },
    {
     "name": "stdout",
     "output_type": "stream",
     "text": [
      "building tree 404 of 1000\n"
     ]
    },
    {
     "name": "stderr",
     "output_type": "stream",
     "text": [
      "[Parallel(n_jobs=-1)]: Done 397 tasks      | elapsed:  1.2min\n",
      "[Parallel(n_jobs=-1)]: Done 398 tasks      | elapsed:  1.2min\n",
      "[Parallel(n_jobs=-1)]: Done 399 tasks      | elapsed:  1.2min\n",
      "[Parallel(n_jobs=-1)]: Done 400 tasks      | elapsed:  1.2min\n"
     ]
    },
    {
     "name": "stdout",
     "output_type": "stream",
     "text": [
      "building tree 405 of 1000\n",
      "building tree 406 of 1000\n",
      "building tree 407 of 1000\n",
      "building tree 408 of 1000\n"
     ]
    },
    {
     "name": "stderr",
     "output_type": "stream",
     "text": [
      "[Parallel(n_jobs=-1)]: Done 401 tasks      | elapsed:  1.2min\n",
      "[Parallel(n_jobs=-1)]: Done 402 tasks      | elapsed:  1.2min\n",
      "[Parallel(n_jobs=-1)]: Done 403 tasks      | elapsed:  1.2min\n"
     ]
    },
    {
     "name": "stdout",
     "output_type": "stream",
     "text": [
      "building tree 409 of 1000\n",
      "building tree 410 of 1000\n",
      "building tree 411 of 1000\n",
      "building tree 412 of 1000\n"
     ]
    },
    {
     "name": "stderr",
     "output_type": "stream",
     "text": [
      "[Parallel(n_jobs=-1)]: Done 404 tasks      | elapsed:  1.2min\n",
      "[Parallel(n_jobs=-1)]: Done 405 tasks      | elapsed:  1.2min\n",
      "[Parallel(n_jobs=-1)]: Done 406 tasks      | elapsed:  1.2min\n"
     ]
    },
    {
     "name": "stdout",
     "output_type": "stream",
     "text": [
      "building tree 413 of 1000\n",
      "building tree 414 of 1000\n"
     ]
    },
    {
     "name": "stderr",
     "output_type": "stream",
     "text": [
      "[Parallel(n_jobs=-1)]: Done 407 tasks      | elapsed:  1.2min\n",
      "[Parallel(n_jobs=-1)]: Done 408 tasks      | elapsed:  1.2min\n"
     ]
    },
    {
     "name": "stdout",
     "output_type": "stream",
     "text": [
      "building tree 415 of 1000\n",
      "building tree 416 of 1000\n"
     ]
    },
    {
     "name": "stderr",
     "output_type": "stream",
     "text": [
      "[Parallel(n_jobs=-1)]: Done 409 tasks      | elapsed:  1.2min\n"
     ]
    },
    {
     "name": "stdout",
     "output_type": "stream",
     "text": [
      "building tree 417 of 1000\n"
     ]
    },
    {
     "name": "stderr",
     "output_type": "stream",
     "text": [
      "[Parallel(n_jobs=-1)]: Done 410 tasks      | elapsed:  1.2min\n"
     ]
    },
    {
     "name": "stdout",
     "output_type": "stream",
     "text": [
      "building tree 418 of 1000\n"
     ]
    },
    {
     "name": "stderr",
     "output_type": "stream",
     "text": [
      "[Parallel(n_jobs=-1)]: Done 411 tasks      | elapsed:  1.2min\n",
      "[Parallel(n_jobs=-1)]: Done 412 tasks      | elapsed:  1.2min\n"
     ]
    },
    {
     "name": "stdout",
     "output_type": "stream",
     "text": [
      "building tree 419 of 1000\n",
      "building tree 420 of 1000\n"
     ]
    },
    {
     "name": "stderr",
     "output_type": "stream",
     "text": [
      "[Parallel(n_jobs=-1)]: Done 413 tasks      | elapsed:  1.2min\n",
      "[Parallel(n_jobs=-1)]: Done 414 tasks      | elapsed:  1.2min\n",
      "[Parallel(n_jobs=-1)]: Done 415 tasks      | elapsed:  1.2min\n"
     ]
    },
    {
     "name": "stdout",
     "output_type": "stream",
     "text": [
      "building tree 421 of 1000\n",
      "building tree 422 of 1000\n",
      "building tree 423 of 1000\n"
     ]
    },
    {
     "name": "stderr",
     "output_type": "stream",
     "text": [
      "[Parallel(n_jobs=-1)]: Done 416 tasks      | elapsed:  1.2min\n"
     ]
    },
    {
     "name": "stdout",
     "output_type": "stream",
     "text": [
      "building tree 424 of 1000\n"
     ]
    },
    {
     "name": "stderr",
     "output_type": "stream",
     "text": [
      "[Parallel(n_jobs=-1)]: Done 417 tasks      | elapsed:  1.2min\n"
     ]
    },
    {
     "name": "stdout",
     "output_type": "stream",
     "text": [
      "building tree 425 of 1000\n"
     ]
    },
    {
     "name": "stderr",
     "output_type": "stream",
     "text": [
      "[Parallel(n_jobs=-1)]: Done 418 tasks      | elapsed:  1.3min\n",
      "[Parallel(n_jobs=-1)]: Done 419 tasks      | elapsed:  1.3min\n",
      "[Parallel(n_jobs=-1)]: Done 420 tasks      | elapsed:  1.3min\n"
     ]
    },
    {
     "name": "stdout",
     "output_type": "stream",
     "text": [
      "building tree 426 of 1000\n",
      "building tree 427 of 1000\n",
      "building tree 428 of 1000\n"
     ]
    },
    {
     "name": "stderr",
     "output_type": "stream",
     "text": [
      "[Parallel(n_jobs=-1)]: Done 421 tasks      | elapsed:  1.3min\n",
      "[Parallel(n_jobs=-1)]: Done 422 tasks      | elapsed:  1.3min\n"
     ]
    },
    {
     "name": "stdout",
     "output_type": "stream",
     "text": [
      "building tree 429 of 1000\n",
      "building tree 430 of 1000\n"
     ]
    },
    {
     "name": "stderr",
     "output_type": "stream",
     "text": [
      "[Parallel(n_jobs=-1)]: Done 423 tasks      | elapsed:  1.3min\n",
      "[Parallel(n_jobs=-1)]: Done 424 tasks      | elapsed:  1.3min\n"
     ]
    },
    {
     "name": "stdout",
     "output_type": "stream",
     "text": [
      "building tree 431 of 1000\n",
      "building tree 432 of 1000\n"
     ]
    },
    {
     "name": "stderr",
     "output_type": "stream",
     "text": [
      "[Parallel(n_jobs=-1)]: Done 425 tasks      | elapsed:  1.3min\n",
      "[Parallel(n_jobs=-1)]: Done 426 tasks      | elapsed:  1.3min\n"
     ]
    },
    {
     "name": "stdout",
     "output_type": "stream",
     "text": [
      "building tree 433 of 1000\n",
      "building tree 434 of 1000\n"
     ]
    },
    {
     "name": "stderr",
     "output_type": "stream",
     "text": [
      "[Parallel(n_jobs=-1)]: Done 427 tasks      | elapsed:  1.3min\n",
      "[Parallel(n_jobs=-1)]: Done 428 tasks      | elapsed:  1.3min\n"
     ]
    },
    {
     "name": "stdout",
     "output_type": "stream",
     "text": [
      "building tree 435 of 1000\n",
      "building tree 436 of 1000\n"
     ]
    },
    {
     "name": "stderr",
     "output_type": "stream",
     "text": [
      "[Parallel(n_jobs=-1)]: Done 429 tasks      | elapsed:  1.3min\n",
      "[Parallel(n_jobs=-1)]: Done 430 tasks      | elapsed:  1.3min\n"
     ]
    },
    {
     "name": "stdout",
     "output_type": "stream",
     "text": [
      "building tree 437 of 1000\n",
      "building tree 438 of 1000\n"
     ]
    },
    {
     "name": "stderr",
     "output_type": "stream",
     "text": [
      "[Parallel(n_jobs=-1)]: Done 431 tasks      | elapsed:  1.3min\n",
      "[Parallel(n_jobs=-1)]: Done 432 tasks      | elapsed:  1.3min\n"
     ]
    },
    {
     "name": "stdout",
     "output_type": "stream",
     "text": [
      "building tree 439 of 1000\n",
      "building tree 440 of 1000"
     ]
    },
    {
     "name": "stderr",
     "output_type": "stream",
     "text": [
      "[Parallel(n_jobs=-1)]: Done 433 tasks      | elapsed:  1.3min\n",
      "[Parallel(n_jobs=-1)]: Done 434 tasks      | elapsed:  1.3min\n",
      "[Parallel(n_jobs=-1)]: Done 435 tasks      | elapsed:  1.3min\n"
     ]
    },
    {
     "name": "stdout",
     "output_type": "stream",
     "text": [
      "\n",
      "building tree 441 of 1000\n",
      "building tree 442 of 1000\n",
      "building tree 443 of 1000\n",
      "building tree 444 of 1000\n"
     ]
    },
    {
     "name": "stderr",
     "output_type": "stream",
     "text": [
      "[Parallel(n_jobs=-1)]: Done 436 tasks      | elapsed:  1.3min\n",
      "[Parallel(n_jobs=-1)]: Done 437 tasks      | elapsed:  1.3min\n",
      "[Parallel(n_jobs=-1)]: Done 438 tasks      | elapsed:  1.3min\n"
     ]
    },
    {
     "name": "stdout",
     "output_type": "stream",
     "text": [
      "building tree 445 of 1000\n",
      "building tree 446 of 1000\n",
      "building tree 447 of 1000\n",
      "building tree 448 of 1000\n"
     ]
    },
    {
     "name": "stderr",
     "output_type": "stream",
     "text": [
      "[Parallel(n_jobs=-1)]: Done 439 tasks      | elapsed:  1.3min\n",
      "[Parallel(n_jobs=-1)]: Done 440 tasks      | elapsed:  1.3min\n",
      "[Parallel(n_jobs=-1)]: Done 441 tasks      | elapsed:  1.3min\n",
      "[Parallel(n_jobs=-1)]: Done 442 tasks      | elapsed:  1.3min\n",
      "[Parallel(n_jobs=-1)]: Done 443 tasks      | elapsed:  1.3min\n"
     ]
    },
    {
     "name": "stdout",
     "output_type": "stream",
     "text": [
      "building tree 449 of 1000\n",
      "building tree 450 of 1000\n",
      "building tree 451 of 1000\n"
     ]
    },
    {
     "name": "stderr",
     "output_type": "stream",
     "text": [
      "[Parallel(n_jobs=-1)]: Done 444 tasks      | elapsed:  1.3min\n"
     ]
    },
    {
     "name": "stdout",
     "output_type": "stream",
     "text": [
      "building tree 452 of 1000\n"
     ]
    },
    {
     "name": "stderr",
     "output_type": "stream",
     "text": [
      "[Parallel(n_jobs=-1)]: Done 445 tasks      | elapsed:  1.3min\n"
     ]
    },
    {
     "name": "stdout",
     "output_type": "stream",
     "text": [
      "building tree 453 of 1000\n",
      "building tree 454 of 1000\n",
      "building tree 455 of 1000\n"
     ]
    },
    {
     "name": "stderr",
     "output_type": "stream",
     "text": [
      "[Parallel(n_jobs=-1)]: Done 446 tasks      | elapsed:  1.3min\n",
      "[Parallel(n_jobs=-1)]: Done 447 tasks      | elapsed:  1.3min\n",
      "[Parallel(n_jobs=-1)]: Done 448 tasks      | elapsed:  1.3min\n"
     ]
    },
    {
     "name": "stdout",
     "output_type": "stream",
     "text": [
      "building tree 456 of 1000\n"
     ]
    },
    {
     "name": "stderr",
     "output_type": "stream",
     "text": [
      "[Parallel(n_jobs=-1)]: Done 449 tasks      | elapsed:  1.3min\n",
      "[Parallel(n_jobs=-1)]: Done 450 tasks      | elapsed:  1.3min\n"
     ]
    },
    {
     "name": "stdout",
     "output_type": "stream",
     "text": [
      "building tree 457 of 1000\n",
      "building tree 458 of 1000\n"
     ]
    },
    {
     "name": "stderr",
     "output_type": "stream",
     "text": [
      "[Parallel(n_jobs=-1)]: Done 451 tasks      | elapsed:  1.3min\n",
      "[Parallel(n_jobs=-1)]: Done 452 tasks      | elapsed:  1.3min\n"
     ]
    },
    {
     "name": "stdout",
     "output_type": "stream",
     "text": [
      "building tree 459 of 1000\n",
      "building tree 460 of 1000\n",
      "building tree 461 of 1000\n"
     ]
    },
    {
     "name": "stderr",
     "output_type": "stream",
     "text": [
      "[Parallel(n_jobs=-1)]: Done 453 tasks      | elapsed:  1.4min\n",
      "[Parallel(n_jobs=-1)]: Done 454 tasks      | elapsed:  1.4min\n",
      "[Parallel(n_jobs=-1)]: Done 455 tasks      | elapsed:  1.4min\n",
      "[Parallel(n_jobs=-1)]: Done 456 tasks      | elapsed:  1.4min\n"
     ]
    },
    {
     "name": "stdout",
     "output_type": "stream",
     "text": [
      "building tree 462 of 1000\n",
      "building tree 463 of 1000\n",
      "building tree 464 of 1000\n"
     ]
    },
    {
     "name": "stderr",
     "output_type": "stream",
     "text": [
      "[Parallel(n_jobs=-1)]: Done 457 tasks      | elapsed:  1.4min\n"
     ]
    },
    {
     "name": "stdout",
     "output_type": "stream",
     "text": [
      "building tree 465 of 1000\n"
     ]
    },
    {
     "name": "stderr",
     "output_type": "stream",
     "text": [
      "[Parallel(n_jobs=-1)]: Done 458 tasks      | elapsed:  1.4min\n",
      "[Parallel(n_jobs=-1)]: Done 459 tasks      | elapsed:  1.4min\n",
      "[Parallel(n_jobs=-1)]: Done 460 tasks      | elapsed:  1.4min\n"
     ]
    },
    {
     "name": "stdout",
     "output_type": "stream",
     "text": [
      "building tree 466 of 1000\n",
      "building tree 467 of 1000\n",
      "building tree 468 of 1000"
     ]
    },
    {
     "name": "stderr",
     "output_type": "stream",
     "text": [
      "[Parallel(n_jobs=-1)]: Done 461 tasks      | elapsed:  1.4min\n"
     ]
    },
    {
     "name": "stdout",
     "output_type": "stream",
     "text": [
      "\n",
      "building tree 469 of 1000\n"
     ]
    },
    {
     "name": "stderr",
     "output_type": "stream",
     "text": [
      "[Parallel(n_jobs=-1)]: Done 462 tasks      | elapsed:  1.4min\n",
      "[Parallel(n_jobs=-1)]: Done 463 tasks      | elapsed:  1.4min\n",
      "[Parallel(n_jobs=-1)]: Done 464 tasks      | elapsed:  1.4min\n"
     ]
    },
    {
     "name": "stdout",
     "output_type": "stream",
     "text": [
      "building tree 470 of 1000\n",
      "building tree 471 of 1000\n",
      "building tree 472 of 1000\n"
     ]
    },
    {
     "name": "stderr",
     "output_type": "stream",
     "text": [
      "[Parallel(n_jobs=-1)]: Done 465 tasks      | elapsed:  1.4min\n"
     ]
    },
    {
     "name": "stdout",
     "output_type": "stream",
     "text": [
      "building tree 473 of 1000\n"
     ]
    },
    {
     "name": "stderr",
     "output_type": "stream",
     "text": [
      "[Parallel(n_jobs=-1)]: Done 466 tasks      | elapsed:  1.4min\n",
      "[Parallel(n_jobs=-1)]: Done 467 tasks      | elapsed:  1.4min\n",
      "[Parallel(n_jobs=-1)]: Done 468 tasks      | elapsed:  1.4min\n"
     ]
    },
    {
     "name": "stdout",
     "output_type": "stream",
     "text": [
      "building tree 474 of 1000\n",
      "building tree 475 of 1000\n",
      "building tree 476 of 1000\n"
     ]
    },
    {
     "name": "stderr",
     "output_type": "stream",
     "text": [
      "[Parallel(n_jobs=-1)]: Done 469 tasks      | elapsed:  1.4min\n"
     ]
    },
    {
     "name": "stdout",
     "output_type": "stream",
     "text": [
      "building tree 477 of 1000\n"
     ]
    },
    {
     "name": "stderr",
     "output_type": "stream",
     "text": [
      "[Parallel(n_jobs=-1)]: Done 470 tasks      | elapsed:  1.4min\n",
      "[Parallel(n_jobs=-1)]: Done 471 tasks      | elapsed:  1.4min\n",
      "[Parallel(n_jobs=-1)]: Done 472 tasks      | elapsed:  1.4min\n"
     ]
    },
    {
     "name": "stdout",
     "output_type": "stream",
     "text": [
      "building tree 478 of 1000\n",
      "building tree 479 of 1000\n",
      "building tree 480 of 1000\n"
     ]
    },
    {
     "name": "stderr",
     "output_type": "stream",
     "text": [
      "[Parallel(n_jobs=-1)]: Done 473 tasks      | elapsed:  1.4min\n",
      "[Parallel(n_jobs=-1)]: Done 474 tasks      | elapsed:  1.4min\n",
      "[Parallel(n_jobs=-1)]: Done 475 tasks      | elapsed:  1.4min\n"
     ]
    },
    {
     "name": "stdout",
     "output_type": "stream",
     "text": [
      "building tree 481 of 1000\n",
      "building tree 482 of 1000\n",
      "building tree 483 of 1000\n"
     ]
    },
    {
     "name": "stderr",
     "output_type": "stream",
     "text": [
      "[Parallel(n_jobs=-1)]: Done 476 tasks      | elapsed:  1.4min\n"
     ]
    },
    {
     "name": "stdout",
     "output_type": "stream",
     "text": [
      "building tree 484 of 1000\n"
     ]
    },
    {
     "name": "stderr",
     "output_type": "stream",
     "text": [
      "[Parallel(n_jobs=-1)]: Done 477 tasks      | elapsed:  1.4min\n"
     ]
    },
    {
     "name": "stdout",
     "output_type": "stream",
     "text": [
      "building tree 485 of 1000\n"
     ]
    },
    {
     "name": "stderr",
     "output_type": "stream",
     "text": [
      "[Parallel(n_jobs=-1)]: Done 478 tasks      | elapsed:  1.4min\n",
      "[Parallel(n_jobs=-1)]: Done 479 tasks      | elapsed:  1.4min\n"
     ]
    },
    {
     "name": "stdout",
     "output_type": "stream",
     "text": [
      "building tree 486 of 1000\n",
      "building tree 487 of 1000\n",
      "building tree 488 of 1000\n"
     ]
    },
    {
     "name": "stderr",
     "output_type": "stream",
     "text": [
      "[Parallel(n_jobs=-1)]: Done 480 tasks      | elapsed:  1.4min\n",
      "[Parallel(n_jobs=-1)]: Done 481 tasks      | elapsed:  1.4min\n",
      "[Parallel(n_jobs=-1)]: Done 482 tasks      | elapsed:  1.4min\n"
     ]
    },
    {
     "name": "stdout",
     "output_type": "stream",
     "text": [
      "building tree 489 of 1000\n",
      "building tree 490 of 1000\n"
     ]
    },
    {
     "name": "stderr",
     "output_type": "stream",
     "text": [
      "[Parallel(n_jobs=-1)]: Done 483 tasks      | elapsed:  1.4min\n",
      "[Parallel(n_jobs=-1)]: Done 484 tasks      | elapsed:  1.4min\n"
     ]
    },
    {
     "name": "stdout",
     "output_type": "stream",
     "text": [
      "building tree 491 of 1000\n",
      "building tree 492 of 1000\n"
     ]
    },
    {
     "name": "stderr",
     "output_type": "stream",
     "text": [
      "[Parallel(n_jobs=-1)]: Done 485 tasks      | elapsed:  1.4min\n"
     ]
    },
    {
     "name": "stdout",
     "output_type": "stream",
     "text": [
      "building tree 493 of 1000\n"
     ]
    },
    {
     "name": "stderr",
     "output_type": "stream",
     "text": [
      "[Parallel(n_jobs=-1)]: Done 486 tasks      | elapsed:  1.5min\n"
     ]
    },
    {
     "name": "stdout",
     "output_type": "stream",
     "text": [
      "building tree 494 of 1000\n"
     ]
    },
    {
     "name": "stderr",
     "output_type": "stream",
     "text": [
      "[Parallel(n_jobs=-1)]: Done 487 tasks      | elapsed:  1.5min\n",
      "[Parallel(n_jobs=-1)]: Done 488 tasks      | elapsed:  1.5min\n"
     ]
    },
    {
     "name": "stdout",
     "output_type": "stream",
     "text": [
      "building tree 495 of 1000\n",
      "building tree 496 of 1000\n"
     ]
    },
    {
     "name": "stderr",
     "output_type": "stream",
     "text": [
      "[Parallel(n_jobs=-1)]: Done 489 tasks      | elapsed:  1.5min\n"
     ]
    },
    {
     "name": "stdout",
     "output_type": "stream",
     "text": [
      "building tree 497 of 1000\n",
      "building tree 498 of 1000\n",
      "building tree 499 of 1000"
     ]
    },
    {
     "name": "stderr",
     "output_type": "stream",
     "text": [
      "[Parallel(n_jobs=-1)]: Done 490 tasks      | elapsed:  1.5min\n",
      "[Parallel(n_jobs=-1)]: Done 491 tasks      | elapsed:  1.5min\n"
     ]
    },
    {
     "name": "stdout",
     "output_type": "stream",
     "text": [
      "\n",
      "building tree 500 of 1000\n",
      "building tree 501 of 1000\n"
     ]
    },
    {
     "name": "stderr",
     "output_type": "stream",
     "text": [
      "[Parallel(n_jobs=-1)]: Done 492 tasks      | elapsed:  1.5min\n",
      "[Parallel(n_jobs=-1)]: Done 493 tasks      | elapsed:  1.5min\n",
      "[Parallel(n_jobs=-1)]: Done 494 tasks      | elapsed:  1.5min\n",
      "[Parallel(n_jobs=-1)]: Done 495 tasks      | elapsed:  1.5min\n",
      "[Parallel(n_jobs=-1)]: Done 496 tasks      | elapsed:  1.5min\n"
     ]
    },
    {
     "name": "stdout",
     "output_type": "stream",
     "text": [
      "building tree 502 of 1000\n",
      "building tree 503 of 1000\n",
      "building tree 504 of 1000\n"
     ]
    },
    {
     "name": "stderr",
     "output_type": "stream",
     "text": [
      "[Parallel(n_jobs=-1)]: Done 497 tasks      | elapsed:  1.5min\n",
      "[Parallel(n_jobs=-1)]: Done 498 tasks      | elapsed:  1.5min\n"
     ]
    },
    {
     "name": "stdout",
     "output_type": "stream",
     "text": [
      "building tree 505 of 1000\n",
      "building tree 506 of 1000\n"
     ]
    },
    {
     "name": "stderr",
     "output_type": "stream",
     "text": [
      "[Parallel(n_jobs=-1)]: Done 499 tasks      | elapsed:  1.5min\n",
      "[Parallel(n_jobs=-1)]: Done 500 tasks      | elapsed:  1.5min\n",
      "[Parallel(n_jobs=-1)]: Done 501 tasks      | elapsed:  1.5min\n"
     ]
    },
    {
     "name": "stdout",
     "output_type": "stream",
     "text": [
      "building tree 507 of 1000\n",
      "building tree 508 of 1000\n",
      "building tree 509 of 1000"
     ]
    },
    {
     "name": "stderr",
     "output_type": "stream",
     "text": [
      "[Parallel(n_jobs=-1)]: Done 502 tasks      | elapsed:  1.5min\n",
      "[Parallel(n_jobs=-1)]: Done 503 tasks      | elapsed:  1.5min\n",
      "[Parallel(n_jobs=-1)]: Done 504 tasks      | elapsed:  1.5min\n"
     ]
    },
    {
     "name": "stdout",
     "output_type": "stream",
     "text": [
      "\n",
      "building tree 510 of 1000\n",
      "building tree 511 of 1000\n",
      "building tree 512 of 1000\n"
     ]
    },
    {
     "name": "stderr",
     "output_type": "stream",
     "text": [
      "[Parallel(n_jobs=-1)]: Done 505 tasks      | elapsed:  1.5min\n",
      "[Parallel(n_jobs=-1)]: Done 506 tasks      | elapsed:  1.5min\n",
      "[Parallel(n_jobs=-1)]: Done 507 tasks      | elapsed:  1.5min\n"
     ]
    },
    {
     "name": "stdout",
     "output_type": "stream",
     "text": [
      "building tree 513 of 1000\n",
      "building tree 514 of 1000\n",
      "building tree 515 of 1000\n"
     ]
    },
    {
     "name": "stderr",
     "output_type": "stream",
     "text": [
      "[Parallel(n_jobs=-1)]: Done 508 tasks      | elapsed:  1.5min\n"
     ]
    },
    {
     "name": "stdout",
     "output_type": "stream",
     "text": [
      "building tree 516 of 1000\n",
      "building tree 517 of 1000\n"
     ]
    },
    {
     "name": "stderr",
     "output_type": "stream",
     "text": [
      "[Parallel(n_jobs=-1)]: Done 509 tasks      | elapsed:  1.5min\n"
     ]
    },
    {
     "name": "stdout",
     "output_type": "stream",
     "text": [
      "building tree 518 of 1000\n",
      "building tree 519 of 1000\n",
      "building tree 520 of 1000\n"
     ]
    },
    {
     "name": "stderr",
     "output_type": "stream",
     "text": [
      "[Parallel(n_jobs=-1)]: Done 510 tasks      | elapsed:  1.5min\n",
      "[Parallel(n_jobs=-1)]: Done 511 tasks      | elapsed:  1.5min\n",
      "[Parallel(n_jobs=-1)]: Done 512 tasks      | elapsed:  1.5min\n"
     ]
    },
    {
     "name": "stdout",
     "output_type": "stream",
     "text": [
      "building tree 521 of 1000\n",
      "building tree 522 of 1000"
     ]
    },
    {
     "name": "stderr",
     "output_type": "stream",
     "text": [
      "[Parallel(n_jobs=-1)]: Done 513 tasks      | elapsed:  1.5min\n",
      "[Parallel(n_jobs=-1)]: Done 514 tasks      | elapsed:  1.5min\n"
     ]
    },
    {
     "name": "stdout",
     "output_type": "stream",
     "text": [
      "\n",
      "building tree 523 of 1000\n"
     ]
    },
    {
     "name": "stderr",
     "output_type": "stream",
     "text": [
      "[Parallel(n_jobs=-1)]: Done 515 tasks      | elapsed:  1.5min\n",
      "[Parallel(n_jobs=-1)]: Done 516 tasks      | elapsed:  1.5min\n",
      "[Parallel(n_jobs=-1)]: Done 517 tasks      | elapsed:  1.5min\n"
     ]
    },
    {
     "name": "stdout",
     "output_type": "stream",
     "text": [
      "building tree 524 of 1000\n",
      "building tree 525 of 1000"
     ]
    },
    {
     "name": "stderr",
     "output_type": "stream",
     "text": [
      "[Parallel(n_jobs=-1)]: Done 518 tasks      | elapsed:  1.6min\n"
     ]
    },
    {
     "name": "stdout",
     "output_type": "stream",
     "text": [
      "\n",
      "building tree 526 of 1000"
     ]
    },
    {
     "name": "stderr",
     "output_type": "stream",
     "text": [
      "[Parallel(n_jobs=-1)]: Done 519 tasks      | elapsed:  1.6min\n",
      "[Parallel(n_jobs=-1)]: Done 520 tasks      | elapsed:  1.6min\n"
     ]
    },
    {
     "name": "stdout",
     "output_type": "stream",
     "text": [
      "\n",
      "building tree 527 of 1000\n",
      "building tree 528 of 1000\n"
     ]
    },
    {
     "name": "stderr",
     "output_type": "stream",
     "text": [
      "[Parallel(n_jobs=-1)]: Done 521 tasks      | elapsed:  1.6min\n"
     ]
    },
    {
     "name": "stdout",
     "output_type": "stream",
     "text": [
      "building tree 529 of 1000\n"
     ]
    },
    {
     "name": "stderr",
     "output_type": "stream",
     "text": [
      "[Parallel(n_jobs=-1)]: Done 522 tasks      | elapsed:  1.6min\n",
      "[Parallel(n_jobs=-1)]: Done 523 tasks      | elapsed:  1.6min\n"
     ]
    },
    {
     "name": "stdout",
     "output_type": "stream",
     "text": [
      "building tree 530 of 1000\n",
      "building tree 531 of 1000\n",
      "building tree 532 of 1000\n"
     ]
    },
    {
     "name": "stderr",
     "output_type": "stream",
     "text": [
      "[Parallel(n_jobs=-1)]: Done 524 tasks      | elapsed:  1.6min\n",
      "[Parallel(n_jobs=-1)]: Done 525 tasks      | elapsed:  1.6min\n"
     ]
    },
    {
     "name": "stdout",
     "output_type": "stream",
     "text": [
      "building tree 533 of 1000\n",
      "building tree 534 of 1000\n",
      "building tree 535 of 1000\n",
      "building tree 536 of 1000"
     ]
    },
    {
     "name": "stderr",
     "output_type": "stream",
     "text": [
      "[Parallel(n_jobs=-1)]: Done 526 tasks      | elapsed:  1.6min\n",
      "[Parallel(n_jobs=-1)]: Done 527 tasks      | elapsed:  1.6min\n",
      "[Parallel(n_jobs=-1)]: Done 528 tasks      | elapsed:  1.6min\n"
     ]
    },
    {
     "name": "stdout",
     "output_type": "stream",
     "text": [
      "\n",
      "building tree 537 of 1000\n"
     ]
    },
    {
     "name": "stderr",
     "output_type": "stream",
     "text": [
      "[Parallel(n_jobs=-1)]: Done 529 tasks      | elapsed:  1.6min\n",
      "[Parallel(n_jobs=-1)]: Done 530 tasks      | elapsed:  1.6min\n",
      "[Parallel(n_jobs=-1)]: Done 531 tasks      | elapsed:  1.6min\n"
     ]
    },
    {
     "name": "stdout",
     "output_type": "stream",
     "text": [
      "building tree 538 of 1000\n",
      "building tree 539 of 1000\n"
     ]
    },
    {
     "name": "stderr",
     "output_type": "stream",
     "text": [
      "[Parallel(n_jobs=-1)]: Done 532 tasks      | elapsed:  1.6min\n",
      "[Parallel(n_jobs=-1)]: Done 533 tasks      | elapsed:  1.6min\n"
     ]
    },
    {
     "name": "stdout",
     "output_type": "stream",
     "text": [
      "building tree 540 of 1000\n",
      "building tree 541 of 1000\n"
     ]
    },
    {
     "name": "stderr",
     "output_type": "stream",
     "text": [
      "[Parallel(n_jobs=-1)]: Done 534 tasks      | elapsed:  1.6min\n",
      "[Parallel(n_jobs=-1)]: Done 535 tasks      | elapsed:  1.6min\n",
      "[Parallel(n_jobs=-1)]: Done 536 tasks      | elapsed:  1.6min\n",
      "[Parallel(n_jobs=-1)]: Done 537 tasks      | elapsed:  1.6min\n"
     ]
    },
    {
     "name": "stdout",
     "output_type": "stream",
     "text": [
      "building tree 542 of 1000\n",
      "building tree 543 of 1000\n",
      "building tree 544 of 1000\n",
      "building tree 545 of 1000\n"
     ]
    },
    {
     "name": "stderr",
     "output_type": "stream",
     "text": [
      "[Parallel(n_jobs=-1)]: Done 538 tasks      | elapsed:  1.6min\n",
      "[Parallel(n_jobs=-1)]: Done 539 tasks      | elapsed:  1.6min\n",
      "[Parallel(n_jobs=-1)]: Done 540 tasks      | elapsed:  1.6min\n"
     ]
    },
    {
     "name": "stdout",
     "output_type": "stream",
     "text": [
      "building tree 546 of 1000\n",
      "building tree 547 of 1000\n",
      "building tree 548 of 1000\n"
     ]
    },
    {
     "name": "stderr",
     "output_type": "stream",
     "text": [
      "[Parallel(n_jobs=-1)]: Done 541 tasks      | elapsed:  1.6min\n"
     ]
    },
    {
     "name": "stdout",
     "output_type": "stream",
     "text": [
      "building tree 549 of 1000\n"
     ]
    },
    {
     "name": "stderr",
     "output_type": "stream",
     "text": [
      "[Parallel(n_jobs=-1)]: Done 542 tasks      | elapsed:  1.6min\n",
      "[Parallel(n_jobs=-1)]: Done 543 tasks      | elapsed:  1.6min\n",
      "[Parallel(n_jobs=-1)]: Done 544 tasks      | elapsed:  1.6min\n",
      "[Parallel(n_jobs=-1)]: Done 545 tasks      | elapsed:  1.6min\n"
     ]
    },
    {
     "name": "stdout",
     "output_type": "stream",
     "text": [
      "building tree 550 of 1000\n",
      "building tree 551 of 1000\n",
      "building tree 552 of 1000\n",
      "building tree 553 of 1000\n"
     ]
    },
    {
     "name": "stderr",
     "output_type": "stream",
     "text": [
      "[Parallel(n_jobs=-1)]: Done 546 tasks      | elapsed:  1.6min\n",
      "[Parallel(n_jobs=-1)]: Done 547 tasks      | elapsed:  1.6min\n"
     ]
    },
    {
     "name": "stdout",
     "output_type": "stream",
     "text": [
      "building tree 554 of 1000\n",
      "building tree 555 of 1000\n"
     ]
    },
    {
     "name": "stderr",
     "output_type": "stream",
     "text": [
      "[Parallel(n_jobs=-1)]: Done 548 tasks      | elapsed:  1.6min\n",
      "[Parallel(n_jobs=-1)]: Done 549 tasks      | elapsed:  1.6min\n"
     ]
    },
    {
     "name": "stdout",
     "output_type": "stream",
     "text": [
      "building tree 556 of 1000\n",
      "building tree 557 of 1000\n"
     ]
    },
    {
     "name": "stderr",
     "output_type": "stream",
     "text": [
      "[Parallel(n_jobs=-1)]: Done 550 tasks      | elapsed:  1.6min\n",
      "[Parallel(n_jobs=-1)]: Done 551 tasks      | elapsed:  1.6min\n"
     ]
    },
    {
     "name": "stdout",
     "output_type": "stream",
     "text": [
      "building tree 558 of 1000\n",
      "building tree 559 of 1000\n"
     ]
    },
    {
     "name": "stderr",
     "output_type": "stream",
     "text": [
      "[Parallel(n_jobs=-1)]: Done 552 tasks      | elapsed:  1.6min\n",
      "[Parallel(n_jobs=-1)]: Done 553 tasks      | elapsed:  1.6min\n"
     ]
    },
    {
     "name": "stdout",
     "output_type": "stream",
     "text": [
      "building tree 560 of 1000\n",
      "building tree 561 of 1000\n"
     ]
    },
    {
     "name": "stderr",
     "output_type": "stream",
     "text": [
      "[Parallel(n_jobs=-1)]: Done 554 tasks      | elapsed:  1.7min\n",
      "[Parallel(n_jobs=-1)]: Done 555 tasks      | elapsed:  1.7min\n"
     ]
    },
    {
     "name": "stdout",
     "output_type": "stream",
     "text": [
      "building tree 562 of 1000\n",
      "building tree 563 of 1000"
     ]
    },
    {
     "name": "stderr",
     "output_type": "stream",
     "text": [
      "[Parallel(n_jobs=-1)]: Done 556 tasks      | elapsed:  1.7min\n"
     ]
    },
    {
     "name": "stdout",
     "output_type": "stream",
     "text": [
      "\n",
      "building tree 564 of 1000\n",
      "building tree 565 of 1000"
     ]
    },
    {
     "name": "stderr",
     "output_type": "stream",
     "text": [
      "[Parallel(n_jobs=-1)]: Done 557 tasks      | elapsed:  1.7min\n",
      "[Parallel(n_jobs=-1)]: Done 558 tasks      | elapsed:  1.7min\n"
     ]
    },
    {
     "name": "stdout",
     "output_type": "stream",
     "text": [
      "\n",
      "building tree 566 of 1000\n"
     ]
    },
    {
     "name": "stderr",
     "output_type": "stream",
     "text": [
      "[Parallel(n_jobs=-1)]: Done 559 tasks      | elapsed:  1.7min\n",
      "[Parallel(n_jobs=-1)]: Done 560 tasks      | elapsed:  1.7min\n",
      "[Parallel(n_jobs=-1)]: Done 561 tasks      | elapsed:  1.7min\n"
     ]
    },
    {
     "name": "stdout",
     "output_type": "stream",
     "text": [
      "building tree 567 of 1000\n",
      "building tree 568 of 1000\n",
      "building tree 569 of 1000"
     ]
    },
    {
     "name": "stderr",
     "output_type": "stream",
     "text": [
      "[Parallel(n_jobs=-1)]: Done 562 tasks      | elapsed:  1.7min\n"
     ]
    },
    {
     "name": "stdout",
     "output_type": "stream",
     "text": [
      "\n",
      "building tree 570 of 1000\n"
     ]
    },
    {
     "name": "stderr",
     "output_type": "stream",
     "text": [
      "[Parallel(n_jobs=-1)]: Done 563 tasks      | elapsed:  1.7min\n",
      "[Parallel(n_jobs=-1)]: Done 564 tasks      | elapsed:  1.7min\n",
      "[Parallel(n_jobs=-1)]: Done 565 tasks      | elapsed:  1.7min\n"
     ]
    },
    {
     "name": "stdout",
     "output_type": "stream",
     "text": [
      "building tree 571 of 1000\n",
      "building tree 572 of 1000\n",
      "building tree 573 of 1000\n"
     ]
    },
    {
     "name": "stderr",
     "output_type": "stream",
     "text": [
      "[Parallel(n_jobs=-1)]: Done 566 tasks      | elapsed:  1.7min\n",
      "[Parallel(n_jobs=-1)]: Done 567 tasks      | elapsed:  1.7min\n"
     ]
    },
    {
     "name": "stdout",
     "output_type": "stream",
     "text": [
      "building tree 574 of 1000\n",
      "building tree 575 of 1000\n"
     ]
    },
    {
     "name": "stderr",
     "output_type": "stream",
     "text": [
      "[Parallel(n_jobs=-1)]: Done 568 tasks      | elapsed:  1.7min\n",
      "[Parallel(n_jobs=-1)]: Done 569 tasks      | elapsed:  1.7min\n"
     ]
    },
    {
     "name": "stdout",
     "output_type": "stream",
     "text": [
      "building tree 576 of 1000\n",
      "building tree 577 of 1000\n"
     ]
    },
    {
     "name": "stderr",
     "output_type": "stream",
     "text": [
      "[Parallel(n_jobs=-1)]: Done 570 tasks      | elapsed:  1.7min\n"
     ]
    },
    {
     "name": "stdout",
     "output_type": "stream",
     "text": [
      "building tree 578 of 1000\n",
      "building tree 579 of 1000\n",
      "building tree 580 of 1000\n",
      "building tree 581 of 1000\n"
     ]
    },
    {
     "name": "stderr",
     "output_type": "stream",
     "text": [
      "[Parallel(n_jobs=-1)]: Done 571 tasks      | elapsed:  1.7min\n",
      "[Parallel(n_jobs=-1)]: Done 572 tasks      | elapsed:  1.7min\n",
      "[Parallel(n_jobs=-1)]: Done 573 tasks      | elapsed:  1.7min\n"
     ]
    },
    {
     "name": "stdout",
     "output_type": "stream",
     "text": [
      "building tree 582 of 1000\n",
      "building tree 583 of 1000\n"
     ]
    },
    {
     "name": "stderr",
     "output_type": "stream",
     "text": [
      "[Parallel(n_jobs=-1)]: Done 574 tasks      | elapsed:  1.7min\n",
      "[Parallel(n_jobs=-1)]: Done 575 tasks      | elapsed:  1.7min\n",
      "[Parallel(n_jobs=-1)]: Done 576 tasks      | elapsed:  1.7min\n",
      "[Parallel(n_jobs=-1)]: Done 577 tasks      | elapsed:  1.7min\n"
     ]
    },
    {
     "name": "stdout",
     "output_type": "stream",
     "text": [
      "building tree 584 of 1000\n",
      "building tree 585 of 1000\n"
     ]
    },
    {
     "name": "stderr",
     "output_type": "stream",
     "text": [
      "[Parallel(n_jobs=-1)]: Done 578 tasks      | elapsed:  1.7min\n"
     ]
    },
    {
     "name": "stdout",
     "output_type": "stream",
     "text": [
      "building tree 586 of 1000\n",
      "building tree 587 of 1000\n",
      "building tree 588 of 1000\n"
     ]
    },
    {
     "name": "stderr",
     "output_type": "stream",
     "text": [
      "[Parallel(n_jobs=-1)]: Done 579 tasks      | elapsed:  1.7min\n",
      "[Parallel(n_jobs=-1)]: Done 580 tasks      | elapsed:  1.7min\n",
      "[Parallel(n_jobs=-1)]: Done 581 tasks      | elapsed:  1.7min\n",
      "[Parallel(n_jobs=-1)]: Done 582 tasks      | elapsed:  1.7min\n"
     ]
    },
    {
     "name": "stdout",
     "output_type": "stream",
     "text": [
      "building tree 589 of 1000\n",
      "building tree 590 of 1000\n"
     ]
    },
    {
     "name": "stderr",
     "output_type": "stream",
     "text": [
      "[Parallel(n_jobs=-1)]: Done 583 tasks      | elapsed:  1.7min\n",
      "[Parallel(n_jobs=-1)]: Done 584 tasks      | elapsed:  1.7min\n"
     ]
    },
    {
     "name": "stdout",
     "output_type": "stream",
     "text": [
      "building tree 591 of 1000\n",
      "building tree 592 of 1000\n",
      "building tree 593 of 1000\n"
     ]
    },
    {
     "name": "stderr",
     "output_type": "stream",
     "text": [
      "[Parallel(n_jobs=-1)]: Done 585 tasks      | elapsed:  1.7min\n",
      "[Parallel(n_jobs=-1)]: Done 586 tasks      | elapsed:  1.7min\n"
     ]
    },
    {
     "name": "stdout",
     "output_type": "stream",
     "text": [
      "building tree 594 of 1000\n"
     ]
    },
    {
     "name": "stderr",
     "output_type": "stream",
     "text": [
      "[Parallel(n_jobs=-1)]: Done 587 tasks      | elapsed:  1.8min\n",
      "[Parallel(n_jobs=-1)]: Done 588 tasks      | elapsed:  1.8min\n"
     ]
    },
    {
     "name": "stdout",
     "output_type": "stream",
     "text": [
      "building tree 595 of 1000\n",
      "building tree 596 of 1000\n"
     ]
    },
    {
     "name": "stderr",
     "output_type": "stream",
     "text": [
      "[Parallel(n_jobs=-1)]: Done 589 tasks      | elapsed:  1.8min\n",
      "[Parallel(n_jobs=-1)]: Done 590 tasks      | elapsed:  1.8min\n"
     ]
    },
    {
     "name": "stdout",
     "output_type": "stream",
     "text": [
      "building tree 597 of 1000\n",
      "building tree 598 of 1000\n"
     ]
    },
    {
     "name": "stderr",
     "output_type": "stream",
     "text": [
      "[Parallel(n_jobs=-1)]: Done 591 tasks      | elapsed:  1.8min\n",
      "[Parallel(n_jobs=-1)]: Done 592 tasks      | elapsed:  1.8min\n",
      "[Parallel(n_jobs=-1)]: Done 593 tasks      | elapsed:  1.8min\n"
     ]
    },
    {
     "name": "stdout",
     "output_type": "stream",
     "text": [
      "building tree 599 of 1000\n",
      "building tree 600 of 1000\n",
      "building tree 601 of 1000"
     ]
    },
    {
     "name": "stderr",
     "output_type": "stream",
     "text": [
      "[Parallel(n_jobs=-1)]: Done 594 tasks      | elapsed:  1.8min\n"
     ]
    },
    {
     "name": "stdout",
     "output_type": "stream",
     "text": [
      "\n",
      "building tree 602 of 1000\n"
     ]
    },
    {
     "name": "stderr",
     "output_type": "stream",
     "text": [
      "[Parallel(n_jobs=-1)]: Done 595 tasks      | elapsed:  1.8min\n",
      "[Parallel(n_jobs=-1)]: Done 596 tasks      | elapsed:  1.8min\n"
     ]
    },
    {
     "name": "stdout",
     "output_type": "stream",
     "text": [
      "building tree 603 of 1000\n",
      "building tree 604 of 1000\n"
     ]
    },
    {
     "name": "stderr",
     "output_type": "stream",
     "text": [
      "[Parallel(n_jobs=-1)]: Done 597 tasks      | elapsed:  1.8min\n",
      "[Parallel(n_jobs=-1)]: Done 598 tasks      | elapsed:  1.8min\n"
     ]
    },
    {
     "name": "stdout",
     "output_type": "stream",
     "text": [
      "building tree 605 of 1000\n",
      "building tree 606 of 1000\n"
     ]
    },
    {
     "name": "stderr",
     "output_type": "stream",
     "text": [
      "[Parallel(n_jobs=-1)]: Done 599 tasks      | elapsed:  1.8min\n",
      "[Parallel(n_jobs=-1)]: Done 600 tasks      | elapsed:  1.8min\n"
     ]
    },
    {
     "name": "stdout",
     "output_type": "stream",
     "text": [
      "building tree 607 of 1000\n",
      "building tree 608 of 1000"
     ]
    },
    {
     "name": "stderr",
     "output_type": "stream",
     "text": [
      "[Parallel(n_jobs=-1)]: Done 601 tasks      | elapsed:  1.8min\n",
      "[Parallel(n_jobs=-1)]: Done 602 tasks      | elapsed:  1.8min\n"
     ]
    },
    {
     "name": "stdout",
     "output_type": "stream",
     "text": [
      "\n",
      "building tree 609 of 1000\n",
      "building tree 610 of 1000\n"
     ]
    },
    {
     "name": "stderr",
     "output_type": "stream",
     "text": [
      "[Parallel(n_jobs=-1)]: Done 603 tasks      | elapsed:  1.8min\n",
      "[Parallel(n_jobs=-1)]: Done 604 tasks      | elapsed:  1.8min\n",
      "[Parallel(n_jobs=-1)]: Done 605 tasks      | elapsed:  1.8min\n",
      "[Parallel(n_jobs=-1)]: Done 606 tasks      | elapsed:  1.8min\n"
     ]
    },
    {
     "name": "stdout",
     "output_type": "stream",
     "text": [
      "building tree 611 of 1000\n",
      "building tree 612 of 1000\n",
      "building tree 613 of 1000\n",
      "building tree 614 of 1000"
     ]
    },
    {
     "name": "stderr",
     "output_type": "stream",
     "text": [
      "[Parallel(n_jobs=-1)]: Done 607 tasks      | elapsed:  1.8min\n"
     ]
    },
    {
     "name": "stdout",
     "output_type": "stream",
     "text": [
      "\n",
      "building tree 615 of 1000\n"
     ]
    },
    {
     "name": "stderr",
     "output_type": "stream",
     "text": [
      "[Parallel(n_jobs=-1)]: Done 608 tasks      | elapsed:  1.8min\n",
      "[Parallel(n_jobs=-1)]: Done 609 tasks      | elapsed:  1.8min\n"
     ]
    },
    {
     "name": "stdout",
     "output_type": "stream",
     "text": [
      "building tree 616 of 1000\n",
      "building tree 617 of 1000\n",
      "building tree 618 of 1000\n"
     ]
    },
    {
     "name": "stderr",
     "output_type": "stream",
     "text": [
      "[Parallel(n_jobs=-1)]: Done 610 tasks      | elapsed:  1.8min\n",
      "[Parallel(n_jobs=-1)]: Done 611 tasks      | elapsed:  1.8min\n",
      "[Parallel(n_jobs=-1)]: Done 612 tasks      | elapsed:  1.8min\n",
      "[Parallel(n_jobs=-1)]: Done 613 tasks      | elapsed:  1.8min\n"
     ]
    },
    {
     "name": "stdout",
     "output_type": "stream",
     "text": [
      "building tree 619 of 1000\n",
      "building tree 620 of 1000\n",
      "building tree 621 of 1000\n"
     ]
    },
    {
     "name": "stderr",
     "output_type": "stream",
     "text": [
      "[Parallel(n_jobs=-1)]: Done 614 tasks      | elapsed:  1.8min\n"
     ]
    },
    {
     "name": "stdout",
     "output_type": "stream",
     "text": [
      "building tree 622 of 1000\n",
      "building tree 623 of 1000\n"
     ]
    },
    {
     "name": "stderr",
     "output_type": "stream",
     "text": [
      "[Parallel(n_jobs=-1)]: Done 615 tasks      | elapsed:  1.8min\n",
      "[Parallel(n_jobs=-1)]: Done 616 tasks      | elapsed:  1.8min\n",
      "[Parallel(n_jobs=-1)]: Done 617 tasks      | elapsed:  1.8min\n",
      "[Parallel(n_jobs=-1)]: Done 618 tasks      | elapsed:  1.8min\n"
     ]
    },
    {
     "name": "stdout",
     "output_type": "stream",
     "text": [
      "building tree 624 of 1000\n",
      "building tree 625 of 1000\n",
      "building tree 626 of 1000"
     ]
    },
    {
     "name": "stderr",
     "output_type": "stream",
     "text": [
      "[Parallel(n_jobs=-1)]: Done 619 tasks      | elapsed:  1.8min\n",
      "[Parallel(n_jobs=-1)]: Done 620 tasks      | elapsed:  1.8min\n"
     ]
    },
    {
     "name": "stdout",
     "output_type": "stream",
     "text": [
      "\n",
      "building tree 627 of 1000\n",
      "building tree 628 of 1000\n"
     ]
    },
    {
     "name": "stderr",
     "output_type": "stream",
     "text": [
      "[Parallel(n_jobs=-1)]: Done 621 tasks      | elapsed:  1.8min\n",
      "[Parallel(n_jobs=-1)]: Done 622 tasks      | elapsed:  1.8min\n"
     ]
    },
    {
     "name": "stdout",
     "output_type": "stream",
     "text": [
      "building tree 629 of 1000\n",
      "building tree 630 of 1000\n",
      "building tree 631 of 1000\n",
      "building tree 632 of 1000\n"
     ]
    },
    {
     "name": "stderr",
     "output_type": "stream",
     "text": [
      "[Parallel(n_jobs=-1)]: Done 623 tasks      | elapsed:  1.9min\n",
      "[Parallel(n_jobs=-1)]: Done 624 tasks      | elapsed:  1.9min\n"
     ]
    },
    {
     "name": "stdout",
     "output_type": "stream",
     "text": [
      "building tree 633 of 1000\n",
      "building tree 634 of 1000\n"
     ]
    },
    {
     "name": "stderr",
     "output_type": "stream",
     "text": [
      "[Parallel(n_jobs=-1)]: Done 625 tasks      | elapsed:  1.9min\n",
      "[Parallel(n_jobs=-1)]: Done 626 tasks      | elapsed:  1.9min\n",
      "[Parallel(n_jobs=-1)]: Done 627 tasks      | elapsed:  1.9min\n",
      "[Parallel(n_jobs=-1)]: Done 628 tasks      | elapsed:  1.9min\n"
     ]
    },
    {
     "name": "stdout",
     "output_type": "stream",
     "text": [
      "building tree 635 of 1000\n",
      "building tree 636 of 1000\n"
     ]
    },
    {
     "name": "stderr",
     "output_type": "stream",
     "text": [
      "[Parallel(n_jobs=-1)]: Done 629 tasks      | elapsed:  1.9min\n",
      "[Parallel(n_jobs=-1)]: Done 630 tasks      | elapsed:  1.9min\n"
     ]
    },
    {
     "name": "stdout",
     "output_type": "stream",
     "text": [
      "building tree 637 of 1000\n",
      "building tree 638 of 1000\n"
     ]
    },
    {
     "name": "stderr",
     "output_type": "stream",
     "text": [
      "[Parallel(n_jobs=-1)]: Done 631 tasks      | elapsed:  1.9min\n",
      "[Parallel(n_jobs=-1)]: Done 632 tasks      | elapsed:  1.9min\n"
     ]
    },
    {
     "name": "stdout",
     "output_type": "stream",
     "text": [
      "building tree 639 of 1000\n",
      "building tree 640 of 1000\n"
     ]
    },
    {
     "name": "stderr",
     "output_type": "stream",
     "text": [
      "[Parallel(n_jobs=-1)]: Done 633 tasks      | elapsed:  1.9min\n",
      "[Parallel(n_jobs=-1)]: Done 634 tasks      | elapsed:  1.9min\n"
     ]
    },
    {
     "name": "stdout",
     "output_type": "stream",
     "text": [
      "building tree 641 of 1000\n",
      "building tree 642 of 1000\n"
     ]
    },
    {
     "name": "stderr",
     "output_type": "stream",
     "text": [
      "[Parallel(n_jobs=-1)]: Done 635 tasks      | elapsed:  1.9min\n",
      "[Parallel(n_jobs=-1)]: Done 636 tasks      | elapsed:  1.9min\n",
      "[Parallel(n_jobs=-1)]: Done 637 tasks      | elapsed:  1.9min\n"
     ]
    },
    {
     "name": "stdout",
     "output_type": "stream",
     "text": [
      "building tree 643 of 1000\n",
      "building tree 644 of 1000\n",
      "building tree 645 of 1000\n"
     ]
    },
    {
     "name": "stderr",
     "output_type": "stream",
     "text": [
      "[Parallel(n_jobs=-1)]: Done 638 tasks      | elapsed:  1.9min\n",
      "[Parallel(n_jobs=-1)]: Done 639 tasks      | elapsed:  1.9min\n"
     ]
    },
    {
     "name": "stdout",
     "output_type": "stream",
     "text": [
      "building tree 646 of 1000\n",
      "building tree 647 of 1000\n"
     ]
    },
    {
     "name": "stderr",
     "output_type": "stream",
     "text": [
      "[Parallel(n_jobs=-1)]: Done 640 tasks      | elapsed:  1.9min\n",
      "[Parallel(n_jobs=-1)]: Done 641 tasks      | elapsed:  1.9min\n",
      "[Parallel(n_jobs=-1)]: Done 642 tasks      | elapsed:  1.9min\n"
     ]
    },
    {
     "name": "stdout",
     "output_type": "stream",
     "text": [
      "building tree 648 of 1000\n",
      "building tree 649 of 1000\n",
      "building tree 650 of 1000\n"
     ]
    },
    {
     "name": "stderr",
     "output_type": "stream",
     "text": [
      "[Parallel(n_jobs=-1)]: Done 643 tasks      | elapsed:  1.9min\n",
      "[Parallel(n_jobs=-1)]: Done 644 tasks      | elapsed:  1.9min\n",
      "[Parallel(n_jobs=-1)]: Done 645 tasks      | elapsed:  1.9min\n"
     ]
    },
    {
     "name": "stdout",
     "output_type": "stream",
     "text": [
      "building tree 651 of 1000\n",
      "building tree 652 of 1000\n",
      "building tree 653 of 1000\n"
     ]
    },
    {
     "name": "stderr",
     "output_type": "stream",
     "text": [
      "[Parallel(n_jobs=-1)]: Done 646 tasks      | elapsed:  1.9min\n",
      "[Parallel(n_jobs=-1)]: Done 647 tasks      | elapsed:  1.9min\n"
     ]
    },
    {
     "name": "stdout",
     "output_type": "stream",
     "text": [
      "building tree 654 of 1000\n",
      "building tree 655 of 1000\n"
     ]
    },
    {
     "name": "stderr",
     "output_type": "stream",
     "text": [
      "[Parallel(n_jobs=-1)]: Done 648 tasks      | elapsed:  1.9min\n",
      "[Parallel(n_jobs=-1)]: Done 649 tasks      | elapsed:  1.9min\n"
     ]
    },
    {
     "name": "stdout",
     "output_type": "stream",
     "text": [
      "building tree 656 of 1000\n",
      "building tree 657 of 1000\n"
     ]
    },
    {
     "name": "stderr",
     "output_type": "stream",
     "text": [
      "[Parallel(n_jobs=-1)]: Done 650 tasks      | elapsed:  1.9min\n"
     ]
    },
    {
     "name": "stdout",
     "output_type": "stream",
     "text": [
      "building tree 658 of 1000\n"
     ]
    },
    {
     "name": "stderr",
     "output_type": "stream",
     "text": [
      "[Parallel(n_jobs=-1)]: Done 651 tasks      | elapsed:  1.9min\n",
      "[Parallel(n_jobs=-1)]: Done 652 tasks      | elapsed:  1.9min\n",
      "[Parallel(n_jobs=-1)]: Done 653 tasks      | elapsed:  1.9min\n"
     ]
    },
    {
     "name": "stdout",
     "output_type": "stream",
     "text": [
      "building tree 659 of 1000\n",
      "building tree 660 of 1000\n",
      "building tree 661 of 1000\n"
     ]
    },
    {
     "name": "stderr",
     "output_type": "stream",
     "text": [
      "[Parallel(n_jobs=-1)]: Done 654 tasks      | elapsed:  1.9min\n",
      "[Parallel(n_jobs=-1)]: Done 655 tasks      | elapsed:  1.9min\n"
     ]
    },
    {
     "name": "stdout",
     "output_type": "stream",
     "text": [
      "building tree 662 of 1000\n",
      "building tree 663 of 1000\n"
     ]
    },
    {
     "name": "stderr",
     "output_type": "stream",
     "text": [
      "[Parallel(n_jobs=-1)]: Done 656 tasks      | elapsed:  1.9min\n",
      "[Parallel(n_jobs=-1)]: Done 657 tasks      | elapsed:  2.0min\n"
     ]
    },
    {
     "name": "stdout",
     "output_type": "stream",
     "text": [
      "building tree 664 of 1000\n",
      "building tree 665 of 1000\n"
     ]
    },
    {
     "name": "stderr",
     "output_type": "stream",
     "text": [
      "[Parallel(n_jobs=-1)]: Done 658 tasks      | elapsed:  2.0min\n"
     ]
    },
    {
     "name": "stdout",
     "output_type": "stream",
     "text": [
      "building tree 666 of 1000\n"
     ]
    },
    {
     "name": "stderr",
     "output_type": "stream",
     "text": [
      "[Parallel(n_jobs=-1)]: Done 659 tasks      | elapsed:  2.0min\n",
      "[Parallel(n_jobs=-1)]: Done 660 tasks      | elapsed:  2.0min\n"
     ]
    },
    {
     "name": "stdout",
     "output_type": "stream",
     "text": [
      "building tree 667 of 1000\n",
      "building tree 668 of 1000\n",
      "building tree 669 of 1000\n",
      "building tree 670 of 1000\n"
     ]
    },
    {
     "name": "stderr",
     "output_type": "stream",
     "text": [
      "[Parallel(n_jobs=-1)]: Done 661 tasks      | elapsed:  2.0min\n",
      "[Parallel(n_jobs=-1)]: Done 662 tasks      | elapsed:  2.0min\n",
      "[Parallel(n_jobs=-1)]: Done 663 tasks      | elapsed:  2.0min\n",
      "[Parallel(n_jobs=-1)]: Done 664 tasks      | elapsed:  2.0min\n",
      "[Parallel(n_jobs=-1)]: Done 665 tasks      | elapsed:  2.0min\n"
     ]
    },
    {
     "name": "stdout",
     "output_type": "stream",
     "text": [
      "building tree 671 of 1000\n",
      "building tree 672 of 1000\n",
      "building tree 673 of 1000\n"
     ]
    },
    {
     "name": "stderr",
     "output_type": "stream",
     "text": [
      "[Parallel(n_jobs=-1)]: Done 666 tasks      | elapsed:  2.0min\n"
     ]
    },
    {
     "name": "stdout",
     "output_type": "stream",
     "text": [
      "building tree 674 of 1000\n"
     ]
    },
    {
     "name": "stderr",
     "output_type": "stream",
     "text": [
      "[Parallel(n_jobs=-1)]: Done 667 tasks      | elapsed:  2.0min\n",
      "[Parallel(n_jobs=-1)]: Done 668 tasks      | elapsed:  2.0min\n",
      "[Parallel(n_jobs=-1)]: Done 669 tasks      | elapsed:  2.0min\n"
     ]
    },
    {
     "name": "stdout",
     "output_type": "stream",
     "text": [
      "building tree 675 of 1000\n",
      "building tree 676 of 1000\n",
      "building tree 677 of 1000"
     ]
    },
    {
     "name": "stderr",
     "output_type": "stream",
     "text": [
      "[Parallel(n_jobs=-1)]: Done 670 tasks      | elapsed:  2.0min\n"
     ]
    },
    {
     "name": "stdout",
     "output_type": "stream",
     "text": [
      "\n",
      "building tree 678 of 1000\n"
     ]
    },
    {
     "name": "stderr",
     "output_type": "stream",
     "text": [
      "[Parallel(n_jobs=-1)]: Done 671 tasks      | elapsed:  2.0min\n",
      "[Parallel(n_jobs=-1)]: Done 672 tasks      | elapsed:  2.0min\n",
      "[Parallel(n_jobs=-1)]: Done 673 tasks      | elapsed:  2.0min\n"
     ]
    },
    {
     "name": "stdout",
     "output_type": "stream",
     "text": [
      "building tree 679 of 1000\n",
      "building tree 680 of 1000\n",
      "building tree 681 of 1000\n",
      "building tree 682 of 1000\n"
     ]
    },
    {
     "name": "stderr",
     "output_type": "stream",
     "text": [
      "[Parallel(n_jobs=-1)]: Done 674 tasks      | elapsed:  2.0min\n",
      "[Parallel(n_jobs=-1)]: Done 675 tasks      | elapsed:  2.0min\n",
      "[Parallel(n_jobs=-1)]: Done 676 tasks      | elapsed:  2.0min\n",
      "[Parallel(n_jobs=-1)]: Done 677 tasks      | elapsed:  2.0min\n",
      "[Parallel(n_jobs=-1)]: Done 678 tasks      | elapsed:  2.0min\n"
     ]
    },
    {
     "name": "stdout",
     "output_type": "stream",
     "text": [
      "building tree 683 of 1000\n",
      "building tree 684 of 1000\n",
      "building tree 685 of 1000\n",
      "building tree 686 of 1000"
     ]
    },
    {
     "name": "stderr",
     "output_type": "stream",
     "text": [
      "[Parallel(n_jobs=-1)]: Done 679 tasks      | elapsed:  2.0min\n",
      "[Parallel(n_jobs=-1)]: Done 680 tasks      | elapsed:  2.0min\n",
      "[Parallel(n_jobs=-1)]: Done 681 tasks      | elapsed:  2.0min\n"
     ]
    },
    {
     "name": "stdout",
     "output_type": "stream",
     "text": [
      "\n",
      "building tree 687 of 1000\n",
      "building tree 688 of 1000\n",
      "building tree 689 of 1000\n"
     ]
    },
    {
     "name": "stderr",
     "output_type": "stream",
     "text": [
      "[Parallel(n_jobs=-1)]: Done 682 tasks      | elapsed:  2.0min\n"
     ]
    },
    {
     "name": "stdout",
     "output_type": "stream",
     "text": [
      "building tree 690 of 1000\n"
     ]
    },
    {
     "name": "stderr",
     "output_type": "stream",
     "text": [
      "[Parallel(n_jobs=-1)]: Done 683 tasks      | elapsed:  2.0min\n",
      "[Parallel(n_jobs=-1)]: Done 684 tasks      | elapsed:  2.0min\n",
      "[Parallel(n_jobs=-1)]: Done 685 tasks      | elapsed:  2.0min\n",
      "[Parallel(n_jobs=-1)]: Done 686 tasks      | elapsed:  2.0min\n",
      "[Parallel(n_jobs=-1)]: Done 687 tasks      | elapsed:  2.0min\n"
     ]
    },
    {
     "name": "stdout",
     "output_type": "stream",
     "text": [
      "building tree 691 of 1000\n",
      "building tree 692 of 1000\n",
      "building tree 693 of 1000\n",
      "building tree 694 of 1000\n",
      "building tree 695 of 1000"
     ]
    },
    {
     "name": "stderr",
     "output_type": "stream",
     "text": [
      "[Parallel(n_jobs=-1)]: Done 688 tasks      | elapsed:  2.0min\n"
     ]
    },
    {
     "name": "stdout",
     "output_type": "stream",
     "text": [
      "\n",
      "building tree 696 of 1000\n",
      "building tree 697 of 1000\n"
     ]
    },
    {
     "name": "stderr",
     "output_type": "stream",
     "text": [
      "[Parallel(n_jobs=-1)]: Done 689 tasks      | elapsed:  2.0min\n",
      "[Parallel(n_jobs=-1)]: Done 690 tasks      | elapsed:  2.0min\n"
     ]
    },
    {
     "name": "stdout",
     "output_type": "stream",
     "text": [
      "building tree 698 of 1000\n",
      "building tree 699 of 1000\n",
      "building tree 700 of 1000\n",
      "building tree 701 of 1000\n"
     ]
    },
    {
     "name": "stderr",
     "output_type": "stream",
     "text": [
      "[Parallel(n_jobs=-1)]: Done 691 tasks      | elapsed:  2.1min\n",
      "[Parallel(n_jobs=-1)]: Done 692 tasks      | elapsed:  2.1min\n",
      "[Parallel(n_jobs=-1)]: Done 693 tasks      | elapsed:  2.1min\n",
      "[Parallel(n_jobs=-1)]: Done 694 tasks      | elapsed:  2.1min\n",
      "[Parallel(n_jobs=-1)]: Done 695 tasks      | elapsed:  2.1min\n",
      "[Parallel(n_jobs=-1)]: Done 696 tasks      | elapsed:  2.1min\n"
     ]
    },
    {
     "name": "stdout",
     "output_type": "stream",
     "text": [
      "building tree 702 of 1000\n",
      "building tree 703 of 1000\n",
      "building tree 704 of 1000\n"
     ]
    },
    {
     "name": "stderr",
     "output_type": "stream",
     "text": [
      "[Parallel(n_jobs=-1)]: Done 697 tasks      | elapsed:  2.1min\n",
      "[Parallel(n_jobs=-1)]: Done 698 tasks      | elapsed:  2.1min\n"
     ]
    },
    {
     "name": "stdout",
     "output_type": "stream",
     "text": [
      "building tree 705 of 1000\n",
      "building tree 706 of 1000\n"
     ]
    },
    {
     "name": "stderr",
     "output_type": "stream",
     "text": [
      "[Parallel(n_jobs=-1)]: Done 699 tasks      | elapsed:  2.1min\n",
      "[Parallel(n_jobs=-1)]: Done 700 tasks      | elapsed:  2.1min\n",
      "[Parallel(n_jobs=-1)]: Done 701 tasks      | elapsed:  2.1min\n",
      "[Parallel(n_jobs=-1)]: Done 702 tasks      | elapsed:  2.1min\n",
      "[Parallel(n_jobs=-1)]: Done 703 tasks      | elapsed:  2.1min\n",
      "[Parallel(n_jobs=-1)]: Done 704 tasks      | elapsed:  2.1min\n"
     ]
    },
    {
     "name": "stdout",
     "output_type": "stream",
     "text": [
      "building tree 707 of 1000\n",
      "building tree 708 of 1000\n",
      "building tree 709 of 1000\n",
      "building tree 710 of 1000\n",
      "building tree 711 of 1000\n",
      "building tree 712 of 1000\n"
     ]
    },
    {
     "name": "stderr",
     "output_type": "stream",
     "text": [
      "[Parallel(n_jobs=-1)]: Done 705 tasks      | elapsed:  2.1min\n"
     ]
    },
    {
     "name": "stdout",
     "output_type": "stream",
     "text": [
      "building tree 713 of 1000\n"
     ]
    },
    {
     "name": "stderr",
     "output_type": "stream",
     "text": [
      "[Parallel(n_jobs=-1)]: Done 706 tasks      | elapsed:  2.1min\n"
     ]
    },
    {
     "name": "stdout",
     "output_type": "stream",
     "text": [
      "building tree 714 of 1000\n"
     ]
    },
    {
     "name": "stderr",
     "output_type": "stream",
     "text": [
      "[Parallel(n_jobs=-1)]: Done 707 tasks      | elapsed:  2.1min\n",
      "[Parallel(n_jobs=-1)]: Done 708 tasks      | elapsed:  2.1min\n",
      "[Parallel(n_jobs=-1)]: Done 709 tasks      | elapsed:  2.1min\n",
      "[Parallel(n_jobs=-1)]: Done 710 tasks      | elapsed:  2.1min\n",
      "[Parallel(n_jobs=-1)]: Done 711 tasks      | elapsed:  2.1min\n",
      "[Parallel(n_jobs=-1)]: Done 712 tasks      | elapsed:  2.1min\n"
     ]
    },
    {
     "name": "stdout",
     "output_type": "stream",
     "text": [
      "building tree 715 of 1000\n",
      "building tree 716 of 1000\n",
      "building tree 717 of 1000\n",
      "building tree 718 of 1000\n",
      "building tree 719 of 1000\n",
      "building tree 720 of 1000"
     ]
    },
    {
     "name": "stderr",
     "output_type": "stream",
     "text": [
      "[Parallel(n_jobs=-1)]: Done 713 tasks      | elapsed:  2.1min\n"
     ]
    },
    {
     "name": "stdout",
     "output_type": "stream",
     "text": [
      "\n",
      "building tree 721 of 1000\n"
     ]
    },
    {
     "name": "stderr",
     "output_type": "stream",
     "text": [
      "[Parallel(n_jobs=-1)]: Done 714 tasks      | elapsed:  2.1min\n"
     ]
    },
    {
     "name": "stdout",
     "output_type": "stream",
     "text": [
      "building tree 722 of 1000\n"
     ]
    },
    {
     "name": "stderr",
     "output_type": "stream",
     "text": [
      "[Parallel(n_jobs=-1)]: Done 715 tasks      | elapsed:  2.1min\n",
      "[Parallel(n_jobs=-1)]: Done 716 tasks      | elapsed:  2.1min\n",
      "[Parallel(n_jobs=-1)]: Done 717 tasks      | elapsed:  2.1min\n",
      "[Parallel(n_jobs=-1)]: Done 718 tasks      | elapsed:  2.1min\n"
     ]
    },
    {
     "name": "stdout",
     "output_type": "stream",
     "text": [
      "building tree 723 of 1000\n",
      "building tree 724 of 1000\n",
      "building tree 725 of 1000\n",
      "building tree 726 of 1000"
     ]
    },
    {
     "name": "stderr",
     "output_type": "stream",
     "text": [
      "[Parallel(n_jobs=-1)]: Done 719 tasks      | elapsed:  2.1min\n",
      "[Parallel(n_jobs=-1)]: Done 720 tasks      | elapsed:  2.1min\n"
     ]
    },
    {
     "name": "stdout",
     "output_type": "stream",
     "text": [
      "\n",
      "building tree 727 of 1000\n",
      "building tree 728 of 1000\n"
     ]
    },
    {
     "name": "stderr",
     "output_type": "stream",
     "text": [
      "[Parallel(n_jobs=-1)]: Done 721 tasks      | elapsed:  2.1min\n"
     ]
    },
    {
     "name": "stdout",
     "output_type": "stream",
     "text": [
      "building tree 729 of 1000\n"
     ]
    },
    {
     "name": "stderr",
     "output_type": "stream",
     "text": [
      "[Parallel(n_jobs=-1)]: Done 722 tasks      | elapsed:  2.1min\n"
     ]
    },
    {
     "name": "stdout",
     "output_type": "stream",
     "text": [
      "building tree 730 of 1000\n"
     ]
    },
    {
     "name": "stderr",
     "output_type": "stream",
     "text": [
      "[Parallel(n_jobs=-1)]: Done 723 tasks      | elapsed:  2.2min\n",
      "[Parallel(n_jobs=-1)]: Done 724 tasks      | elapsed:  2.2min\n"
     ]
    },
    {
     "name": "stdout",
     "output_type": "stream",
     "text": [
      "building tree 731 of 1000\n",
      "building tree 732 of 1000\n"
     ]
    },
    {
     "name": "stderr",
     "output_type": "stream",
     "text": [
      "[Parallel(n_jobs=-1)]: Done 725 tasks      | elapsed:  2.2min\n",
      "[Parallel(n_jobs=-1)]: Done 726 tasks      | elapsed:  2.2min\n",
      "[Parallel(n_jobs=-1)]: Done 727 tasks      | elapsed:  2.2min\n",
      "[Parallel(n_jobs=-1)]: Done 728 tasks      | elapsed:  2.2min\n",
      "[Parallel(n_jobs=-1)]: Done 729 tasks      | elapsed:  2.2min\n"
     ]
    },
    {
     "name": "stdout",
     "output_type": "stream",
     "text": [
      "building tree 733 of 1000\n",
      "building tree 734 of 1000\n",
      "building tree 735 of 1000\n",
      "building tree 736 of 1000\n",
      "building tree 737 of 1000\n"
     ]
    },
    {
     "name": "stderr",
     "output_type": "stream",
     "text": [
      "[Parallel(n_jobs=-1)]: Done 730 tasks      | elapsed:  2.2min\n"
     ]
    },
    {
     "name": "stdout",
     "output_type": "stream",
     "text": [
      "building tree 738 of 1000\n"
     ]
    },
    {
     "name": "stderr",
     "output_type": "stream",
     "text": [
      "[Parallel(n_jobs=-1)]: Done 731 tasks      | elapsed:  2.2min\n",
      "[Parallel(n_jobs=-1)]: Done 732 tasks      | elapsed:  2.2min\n"
     ]
    },
    {
     "name": "stdout",
     "output_type": "stream",
     "text": [
      "building tree 739 of 1000\n",
      "building tree 740 of 1000\n"
     ]
    },
    {
     "name": "stderr",
     "output_type": "stream",
     "text": [
      "[Parallel(n_jobs=-1)]: Done 733 tasks      | elapsed:  2.2min\n",
      "[Parallel(n_jobs=-1)]: Done 734 tasks      | elapsed:  2.2min\n",
      "[Parallel(n_jobs=-1)]: Done 735 tasks      | elapsed:  2.2min\n",
      "[Parallel(n_jobs=-1)]: Done 736 tasks      | elapsed:  2.2min\n"
     ]
    },
    {
     "name": "stdout",
     "output_type": "stream",
     "text": [
      "building tree 741 of 1000\n",
      "building tree 742 of 1000\n",
      "building tree 743 of 1000\n",
      "building tree 744 of 1000\n"
     ]
    },
    {
     "name": "stderr",
     "output_type": "stream",
     "text": [
      "[Parallel(n_jobs=-1)]: Done 737 tasks      | elapsed:  2.2min\n"
     ]
    },
    {
     "name": "stdout",
     "output_type": "stream",
     "text": [
      "building tree 745 of 1000\n",
      "building tree 746 of 1000\n"
     ]
    },
    {
     "name": "stderr",
     "output_type": "stream",
     "text": [
      "[Parallel(n_jobs=-1)]: Done 738 tasks      | elapsed:  2.2min\n",
      "[Parallel(n_jobs=-1)]: Done 739 tasks      | elapsed:  2.2min\n"
     ]
    },
    {
     "name": "stdout",
     "output_type": "stream",
     "text": [
      "building tree 747 of 1000\n"
     ]
    },
    {
     "name": "stderr",
     "output_type": "stream",
     "text": [
      "[Parallel(n_jobs=-1)]: Done 740 tasks      | elapsed:  2.2min\n",
      "[Parallel(n_jobs=-1)]: Done 741 tasks      | elapsed:  2.2min\n",
      "[Parallel(n_jobs=-1)]: Done 742 tasks      | elapsed:  2.2min\n",
      "[Parallel(n_jobs=-1)]: Done 743 tasks      | elapsed:  2.2min\n",
      "[Parallel(n_jobs=-1)]: Done 744 tasks      | elapsed:  2.2min\n"
     ]
    },
    {
     "name": "stdout",
     "output_type": "stream",
     "text": [
      "building tree 748 of 1000\n",
      "building tree 749 of 1000\n",
      "building tree 750 of 1000\n",
      "building tree 751 of 1000\n",
      "building tree 752 of 1000\n"
     ]
    },
    {
     "name": "stderr",
     "output_type": "stream",
     "text": [
      "[Parallel(n_jobs=-1)]: Done 745 tasks      | elapsed:  2.2min\n",
      "[Parallel(n_jobs=-1)]: Done 746 tasks      | elapsed:  2.2min\n"
     ]
    },
    {
     "name": "stdout",
     "output_type": "stream",
     "text": [
      "building tree 753 of 1000\n",
      "building tree 754 of 1000\n"
     ]
    },
    {
     "name": "stderr",
     "output_type": "stream",
     "text": [
      "[Parallel(n_jobs=-1)]: Done 747 tasks      | elapsed:  2.2min\n"
     ]
    },
    {
     "name": "stdout",
     "output_type": "stream",
     "text": [
      "building tree 755 of 1000\n"
     ]
    },
    {
     "name": "stderr",
     "output_type": "stream",
     "text": [
      "[Parallel(n_jobs=-1)]: Done 748 tasks      | elapsed:  2.2min\n",
      "[Parallel(n_jobs=-1)]: Done 749 tasks      | elapsed:  2.2min\n",
      "[Parallel(n_jobs=-1)]: Done 750 tasks      | elapsed:  2.2min\n",
      "[Parallel(n_jobs=-1)]: Done 751 tasks      | elapsed:  2.2min\n"
     ]
    },
    {
     "name": "stdout",
     "output_type": "stream",
     "text": [
      "building tree 756 of 1000\n",
      "building tree 757 of 1000\n",
      "building tree 758 of 1000\n",
      "building tree 759 of 1000\n"
     ]
    },
    {
     "name": "stderr",
     "output_type": "stream",
     "text": [
      "[Parallel(n_jobs=-1)]: Done 752 tasks      | elapsed:  2.2min\n"
     ]
    },
    {
     "name": "stdout",
     "output_type": "stream",
     "text": [
      "building tree 760 of 1000\n"
     ]
    },
    {
     "name": "stderr",
     "output_type": "stream",
     "text": [
      "[Parallel(n_jobs=-1)]: Done 753 tasks      | elapsed:  2.2min\n",
      "[Parallel(n_jobs=-1)]: Done 754 tasks      | elapsed:  2.2min\n"
     ]
    },
    {
     "name": "stdout",
     "output_type": "stream",
     "text": [
      "building tree 761 of 1000\n",
      "building tree 762 of 1000\n"
     ]
    },
    {
     "name": "stderr",
     "output_type": "stream",
     "text": [
      "[Parallel(n_jobs=-1)]: Done 755 tasks      | elapsed:  2.2min\n"
     ]
    },
    {
     "name": "stdout",
     "output_type": "stream",
     "text": [
      "building tree 763 of 1000\n"
     ]
    },
    {
     "name": "stderr",
     "output_type": "stream",
     "text": [
      "[Parallel(n_jobs=-1)]: Done 756 tasks      | elapsed:  2.2min\n",
      "[Parallel(n_jobs=-1)]: Done 757 tasks      | elapsed:  2.2min\n"
     ]
    },
    {
     "name": "stdout",
     "output_type": "stream",
     "text": [
      "building tree 764 of 1000\n",
      "building tree 765 of 1000\n"
     ]
    },
    {
     "name": "stderr",
     "output_type": "stream",
     "text": [
      "[Parallel(n_jobs=-1)]: Done 758 tasks      | elapsed:  2.2min\n",
      "[Parallel(n_jobs=-1)]: Done 759 tasks      | elapsed:  2.2min\n",
      "[Parallel(n_jobs=-1)]: Done 760 tasks      | elapsed:  2.3min\n"
     ]
    },
    {
     "name": "stdout",
     "output_type": "stream",
     "text": [
      "building tree 766 of 1000\n",
      "building tree 767 of 1000\n",
      "building tree 768 of 1000\n"
     ]
    },
    {
     "name": "stderr",
     "output_type": "stream",
     "text": [
      "[Parallel(n_jobs=-1)]: Done 761 tasks      | elapsed:  2.3min\n"
     ]
    },
    {
     "name": "stdout",
     "output_type": "stream",
     "text": [
      "building tree 769 of 1000\n",
      "building tree 770 of 1000\n",
      "building tree 771 of 1000\n"
     ]
    },
    {
     "name": "stderr",
     "output_type": "stream",
     "text": [
      "[Parallel(n_jobs=-1)]: Done 762 tasks      | elapsed:  2.3min\n",
      "[Parallel(n_jobs=-1)]: Done 763 tasks      | elapsed:  2.3min\n",
      "[Parallel(n_jobs=-1)]: Done 764 tasks      | elapsed:  2.3min\n",
      "[Parallel(n_jobs=-1)]: Done 765 tasks      | elapsed:  2.3min\n",
      "[Parallel(n_jobs=-1)]: Done 766 tasks      | elapsed:  2.3min\n"
     ]
    },
    {
     "name": "stdout",
     "output_type": "stream",
     "text": [
      "building tree 772 of 1000\n",
      "building tree 773 of 1000\n",
      "building tree 774 of 1000\n"
     ]
    },
    {
     "name": "stderr",
     "output_type": "stream",
     "text": [
      "[Parallel(n_jobs=-1)]: Done 767 tasks      | elapsed:  2.3min\n",
      "[Parallel(n_jobs=-1)]: Done 768 tasks      | elapsed:  2.3min\n",
      "[Parallel(n_jobs=-1)]: Done 769 tasks      | elapsed:  2.3min\n"
     ]
    },
    {
     "name": "stdout",
     "output_type": "stream",
     "text": [
      "building tree 775 of 1000\n",
      "building tree 776 of 1000\n",
      "building tree 777 of 1000\n"
     ]
    },
    {
     "name": "stderr",
     "output_type": "stream",
     "text": [
      "[Parallel(n_jobs=-1)]: Done 770 tasks      | elapsed:  2.3min\n",
      "[Parallel(n_jobs=-1)]: Done 771 tasks      | elapsed:  2.3min\n"
     ]
    },
    {
     "name": "stdout",
     "output_type": "stream",
     "text": [
      "building tree 778 of 1000\n",
      "building tree 779 of 1000\n"
     ]
    },
    {
     "name": "stderr",
     "output_type": "stream",
     "text": [
      "[Parallel(n_jobs=-1)]: Done 772 tasks      | elapsed:  2.3min\n",
      "[Parallel(n_jobs=-1)]: Done 773 tasks      | elapsed:  2.3min\n",
      "[Parallel(n_jobs=-1)]: Done 774 tasks      | elapsed:  2.3min\n",
      "[Parallel(n_jobs=-1)]: Done 775 tasks      | elapsed:  2.3min\n"
     ]
    },
    {
     "name": "stdout",
     "output_type": "stream",
     "text": [
      "building tree 780 of 1000\n",
      "building tree 781 of 1000\n",
      "building tree 782 of 1000\n",
      "building tree 783 of 1000\n"
     ]
    },
    {
     "name": "stderr",
     "output_type": "stream",
     "text": [
      "[Parallel(n_jobs=-1)]: Done 776 tasks      | elapsed:  2.3min\n",
      "[Parallel(n_jobs=-1)]: Done 777 tasks      | elapsed:  2.3min\n"
     ]
    },
    {
     "name": "stdout",
     "output_type": "stream",
     "text": [
      "building tree 784 of 1000\n",
      "building tree 785 of 1000\n"
     ]
    },
    {
     "name": "stderr",
     "output_type": "stream",
     "text": [
      "[Parallel(n_jobs=-1)]: Done 778 tasks      | elapsed:  2.3min\n",
      "[Parallel(n_jobs=-1)]: Done 779 tasks      | elapsed:  2.3min\n"
     ]
    },
    {
     "name": "stdout",
     "output_type": "stream",
     "text": [
      "building tree 786 of 1000\n",
      "building tree 787 of 1000\n"
     ]
    },
    {
     "name": "stderr",
     "output_type": "stream",
     "text": [
      "[Parallel(n_jobs=-1)]: Done 780 tasks      | elapsed:  2.3min\n",
      "[Parallel(n_jobs=-1)]: Done 781 tasks      | elapsed:  2.3min\n",
      "[Parallel(n_jobs=-1)]: Done 782 tasks      | elapsed:  2.3min\n"
     ]
    },
    {
     "name": "stdout",
     "output_type": "stream",
     "text": [
      "building tree 788 of 1000\n",
      "building tree 789 of 1000\n",
      "building tree 790 of 1000\n"
     ]
    },
    {
     "name": "stderr",
     "output_type": "stream",
     "text": [
      "[Parallel(n_jobs=-1)]: Done 783 tasks      | elapsed:  2.3min\n",
      "[Parallel(n_jobs=-1)]: Done 784 tasks      | elapsed:  2.3min\n",
      "[Parallel(n_jobs=-1)]: Done 785 tasks      | elapsed:  2.3min\n"
     ]
    },
    {
     "name": "stdout",
     "output_type": "stream",
     "text": [
      "building tree 791 of 1000\n",
      "building tree 792 of 1000\n",
      "building tree 793 of 1000\n",
      "building tree 794 of 1000\n",
      "building tree 795 of 1000\n"
     ]
    },
    {
     "name": "stderr",
     "output_type": "stream",
     "text": [
      "[Parallel(n_jobs=-1)]: Done 786 tasks      | elapsed:  2.3min\n",
      "[Parallel(n_jobs=-1)]: Done 787 tasks      | elapsed:  2.3min\n"
     ]
    },
    {
     "name": "stdout",
     "output_type": "stream",
     "text": [
      "building tree 796 of 1000\n"
     ]
    },
    {
     "name": "stderr",
     "output_type": "stream",
     "text": [
      "[Parallel(n_jobs=-1)]: Done 788 tasks      | elapsed:  2.3min\n",
      "[Parallel(n_jobs=-1)]: Done 789 tasks      | elapsed:  2.3min\n",
      "[Parallel(n_jobs=-1)]: Done 790 tasks      | elapsed:  2.3min\n",
      "[Parallel(n_jobs=-1)]: Done 791 tasks      | elapsed:  2.3min\n"
     ]
    },
    {
     "name": "stdout",
     "output_type": "stream",
     "text": [
      "building tree 797 of 1000\n",
      "building tree 798 of 1000\n",
      "building tree 799 of 1000\n",
      "building tree 800 of 1000\n",
      "building tree 801 of 1000\n"
     ]
    },
    {
     "name": "stderr",
     "output_type": "stream",
     "text": [
      "[Parallel(n_jobs=-1)]: Done 792 tasks      | elapsed:  2.3min\n",
      "[Parallel(n_jobs=-1)]: Done 793 tasks      | elapsed:  2.4min\n",
      "[Parallel(n_jobs=-1)]: Done 794 tasks      | elapsed:  2.4min\n"
     ]
    },
    {
     "name": "stdout",
     "output_type": "stream",
     "text": [
      "building tree 802 of 1000\n"
     ]
    },
    {
     "name": "stderr",
     "output_type": "stream",
     "text": [
      "[Parallel(n_jobs=-1)]: Done 795 tasks      | elapsed:  2.4min\n",
      "[Parallel(n_jobs=-1)]: Done 796 tasks      | elapsed:  2.4min\n"
     ]
    },
    {
     "name": "stdout",
     "output_type": "stream",
     "text": [
      "building tree 803 of 1000\n",
      "building tree 804 of 1000\n"
     ]
    },
    {
     "name": "stderr",
     "output_type": "stream",
     "text": [
      "[Parallel(n_jobs=-1)]: Done 797 tasks      | elapsed:  2.4min\n"
     ]
    },
    {
     "name": "stdout",
     "output_type": "stream",
     "text": [
      "building tree 805 of 1000\n"
     ]
    },
    {
     "name": "stderr",
     "output_type": "stream",
     "text": [
      "[Parallel(n_jobs=-1)]: Done 798 tasks      | elapsed:  2.4min\n",
      "[Parallel(n_jobs=-1)]: Done 799 tasks      | elapsed:  2.4min\n"
     ]
    },
    {
     "name": "stdout",
     "output_type": "stream",
     "text": [
      "building tree 806 of 1000\n",
      "building tree 807 of 1000\n"
     ]
    },
    {
     "name": "stderr",
     "output_type": "stream",
     "text": [
      "[Parallel(n_jobs=-1)]: Done 800 tasks      | elapsed:  2.4min\n",
      "[Parallel(n_jobs=-1)]: Done 801 tasks      | elapsed:  2.4min\n"
     ]
    },
    {
     "name": "stdout",
     "output_type": "stream",
     "text": [
      "building tree 808 of 1000\n",
      "building tree 809 of 1000\n"
     ]
    },
    {
     "name": "stderr",
     "output_type": "stream",
     "text": [
      "[Parallel(n_jobs=-1)]: Done 802 tasks      | elapsed:  2.4min\n"
     ]
    },
    {
     "name": "stdout",
     "output_type": "stream",
     "text": [
      "building tree 810 of 1000\n"
     ]
    },
    {
     "name": "stderr",
     "output_type": "stream",
     "text": [
      "[Parallel(n_jobs=-1)]: Done 803 tasks      | elapsed:  2.4min\n",
      "[Parallel(n_jobs=-1)]: Done 804 tasks      | elapsed:  2.4min\n",
      "[Parallel(n_jobs=-1)]: Done 805 tasks      | elapsed:  2.4min\n"
     ]
    },
    {
     "name": "stdout",
     "output_type": "stream",
     "text": [
      "building tree 811 of 1000\n",
      "building tree 812 of 1000\n",
      "building tree 813 of 1000\n"
     ]
    },
    {
     "name": "stderr",
     "output_type": "stream",
     "text": [
      "[Parallel(n_jobs=-1)]: Done 806 tasks      | elapsed:  2.4min\n",
      "[Parallel(n_jobs=-1)]: Done 807 tasks      | elapsed:  2.4min\n"
     ]
    },
    {
     "name": "stdout",
     "output_type": "stream",
     "text": [
      "building tree 814 of 1000\n",
      "building tree 815 of 1000\n"
     ]
    },
    {
     "name": "stderr",
     "output_type": "stream",
     "text": [
      "[Parallel(n_jobs=-1)]: Done 808 tasks      | elapsed:  2.4min\n",
      "[Parallel(n_jobs=-1)]: Done 809 tasks      | elapsed:  2.4min\n",
      "[Parallel(n_jobs=-1)]: Done 810 tasks      | elapsed:  2.4min\n"
     ]
    },
    {
     "name": "stdout",
     "output_type": "stream",
     "text": [
      "building tree 816 of 1000\n",
      "building tree 817 of 1000\n",
      "building tree 818 of 1000\n"
     ]
    },
    {
     "name": "stderr",
     "output_type": "stream",
     "text": [
      "[Parallel(n_jobs=-1)]: Done 811 tasks      | elapsed:  2.4min\n",
      "[Parallel(n_jobs=-1)]: Done 812 tasks      | elapsed:  2.4min\n",
      "[Parallel(n_jobs=-1)]: Done 813 tasks      | elapsed:  2.4min\n"
     ]
    },
    {
     "name": "stdout",
     "output_type": "stream",
     "text": [
      "building tree 819 of 1000\n",
      "building tree 820 of 1000\n",
      "building tree 821 of 1000"
     ]
    },
    {
     "name": "stderr",
     "output_type": "stream",
     "text": [
      "[Parallel(n_jobs=-1)]: Done 814 tasks      | elapsed:  2.4min\n",
      "[Parallel(n_jobs=-1)]: Done 815 tasks      | elapsed:  2.4min\n"
     ]
    },
    {
     "name": "stdout",
     "output_type": "stream",
     "text": [
      "\n",
      "building tree 822 of 1000\n",
      "building tree 823 of 1000\n"
     ]
    },
    {
     "name": "stderr",
     "output_type": "stream",
     "text": [
      "[Parallel(n_jobs=-1)]: Done 816 tasks      | elapsed:  2.4min\n",
      "[Parallel(n_jobs=-1)]: Done 817 tasks      | elapsed:  2.4min\n"
     ]
    },
    {
     "name": "stdout",
     "output_type": "stream",
     "text": [
      "building tree 824 of 1000\n",
      "building tree 825 of 1000\n"
     ]
    },
    {
     "name": "stderr",
     "output_type": "stream",
     "text": [
      "[Parallel(n_jobs=-1)]: Done 818 tasks      | elapsed:  2.4min\n"
     ]
    },
    {
     "name": "stdout",
     "output_type": "stream",
     "text": [
      "building tree 826 of 1000\n"
     ]
    },
    {
     "name": "stderr",
     "output_type": "stream",
     "text": [
      "[Parallel(n_jobs=-1)]: Done 819 tasks      | elapsed:  2.4min\n",
      "[Parallel(n_jobs=-1)]: Done 820 tasks      | elapsed:  2.4min\n",
      "[Parallel(n_jobs=-1)]: Done 821 tasks      | elapsed:  2.4min\n"
     ]
    },
    {
     "name": "stdout",
     "output_type": "stream",
     "text": [
      "building tree 827 of 1000\n",
      "building tree 828 of 1000\n",
      "building tree 829 of 1000\n",
      "building tree 830 of 1000\n",
      "building tree 831 of 1000\n"
     ]
    },
    {
     "name": "stderr",
     "output_type": "stream",
     "text": [
      "[Parallel(n_jobs=-1)]: Done 822 tasks      | elapsed:  2.4min\n",
      "[Parallel(n_jobs=-1)]: Done 823 tasks      | elapsed:  2.4min\n",
      "[Parallel(n_jobs=-1)]: Done 824 tasks      | elapsed:  2.4min\n",
      "[Parallel(n_jobs=-1)]: Done 825 tasks      | elapsed:  2.4min\n"
     ]
    },
    {
     "name": "stdout",
     "output_type": "stream",
     "text": [
      "building tree 832 of 1000\n",
      "building tree 833 of 1000\n"
     ]
    },
    {
     "name": "stderr",
     "output_type": "stream",
     "text": [
      "[Parallel(n_jobs=-1)]: Done 826 tasks      | elapsed:  2.4min\n"
     ]
    },
    {
     "name": "stdout",
     "output_type": "stream",
     "text": [
      "building tree 834 of 1000\n"
     ]
    },
    {
     "name": "stderr",
     "output_type": "stream",
     "text": [
      "[Parallel(n_jobs=-1)]: Done 827 tasks      | elapsed:  2.5min\n",
      "[Parallel(n_jobs=-1)]: Done 828 tasks      | elapsed:  2.5min\n",
      "[Parallel(n_jobs=-1)]: Done 829 tasks      | elapsed:  2.5min\n"
     ]
    },
    {
     "name": "stdout",
     "output_type": "stream",
     "text": [
      "building tree 835 of 1000\n",
      "building tree 836 of 1000\n",
      "building tree 837 of 1000\n",
      "building tree 838 of 1000\n",
      "building tree 839 of 1000\n"
     ]
    },
    {
     "name": "stderr",
     "output_type": "stream",
     "text": [
      "[Parallel(n_jobs=-1)]: Done 830 tasks      | elapsed:  2.5min\n",
      "[Parallel(n_jobs=-1)]: Done 831 tasks      | elapsed:  2.5min\n",
      "[Parallel(n_jobs=-1)]: Done 832 tasks      | elapsed:  2.5min\n",
      "[Parallel(n_jobs=-1)]: Done 833 tasks      | elapsed:  2.5min\n"
     ]
    },
    {
     "name": "stdout",
     "output_type": "stream",
     "text": [
      "building tree 840 of 1000\n",
      "building tree 841 of 1000\n"
     ]
    },
    {
     "name": "stderr",
     "output_type": "stream",
     "text": [
      "[Parallel(n_jobs=-1)]: Done 834 tasks      | elapsed:  2.5min\n"
     ]
    },
    {
     "name": "stdout",
     "output_type": "stream",
     "text": [
      "building tree 842 of 1000\n"
     ]
    },
    {
     "name": "stderr",
     "output_type": "stream",
     "text": [
      "[Parallel(n_jobs=-1)]: Done 835 tasks      | elapsed:  2.5min\n",
      "[Parallel(n_jobs=-1)]: Done 836 tasks      | elapsed:  2.5min\n",
      "[Parallel(n_jobs=-1)]: Done 837 tasks      | elapsed:  2.5min\n",
      "[Parallel(n_jobs=-1)]: Done 838 tasks      | elapsed:  2.5min\n"
     ]
    },
    {
     "name": "stdout",
     "output_type": "stream",
     "text": [
      "building tree 843 of 1000\n",
      "building tree 844 of 1000\n",
      "building tree 845 of 1000\n",
      "building tree 846 of 1000"
     ]
    },
    {
     "name": "stderr",
     "output_type": "stream",
     "text": [
      "[Parallel(n_jobs=-1)]: Done 839 tasks      | elapsed:  2.5min\n"
     ]
    },
    {
     "name": "stdout",
     "output_type": "stream",
     "text": [
      "\n",
      "building tree 847 of 1000\n"
     ]
    },
    {
     "name": "stderr",
     "output_type": "stream",
     "text": [
      "[Parallel(n_jobs=-1)]: Done 840 tasks      | elapsed:  2.5min\n"
     ]
    },
    {
     "name": "stdout",
     "output_type": "stream",
     "text": [
      "building tree 848 of 1000\n"
     ]
    },
    {
     "name": "stderr",
     "output_type": "stream",
     "text": [
      "[Parallel(n_jobs=-1)]: Done 841 tasks      | elapsed:  2.5min\n",
      "[Parallel(n_jobs=-1)]: Done 842 tasks      | elapsed:  2.5min\n"
     ]
    },
    {
     "name": "stdout",
     "output_type": "stream",
     "text": [
      "building tree 849 of 1000\n",
      "building tree 850 of 1000\n"
     ]
    },
    {
     "name": "stderr",
     "output_type": "stream",
     "text": [
      "[Parallel(n_jobs=-1)]: Done 843 tasks      | elapsed:  2.5min\n",
      "[Parallel(n_jobs=-1)]: Done 844 tasks      | elapsed:  2.5min\n",
      "[Parallel(n_jobs=-1)]: Done 845 tasks      | elapsed:  2.5min\n",
      "[Parallel(n_jobs=-1)]: Done 846 tasks      | elapsed:  2.5min\n"
     ]
    },
    {
     "name": "stdout",
     "output_type": "stream",
     "text": [
      "building tree 851 of 1000\n",
      "building tree 852 of 1000\n",
      "building tree 853 of 1000\n",
      "building tree 854 of 1000"
     ]
    },
    {
     "name": "stderr",
     "output_type": "stream",
     "text": [
      "[Parallel(n_jobs=-1)]: Done 847 tasks      | elapsed:  2.5min\n"
     ]
    },
    {
     "name": "stdout",
     "output_type": "stream",
     "text": [
      "\n",
      "building tree 855 of 1000\n"
     ]
    },
    {
     "name": "stderr",
     "output_type": "stream",
     "text": [
      "[Parallel(n_jobs=-1)]: Done 848 tasks      | elapsed:  2.5min\n",
      "[Parallel(n_jobs=-1)]: Done 849 tasks      | elapsed:  2.5min\n"
     ]
    },
    {
     "name": "stdout",
     "output_type": "stream",
     "text": [
      "building tree 856 of 1000\n",
      "building tree 857 of 1000\n"
     ]
    },
    {
     "name": "stderr",
     "output_type": "stream",
     "text": [
      "[Parallel(n_jobs=-1)]: Done 850 tasks      | elapsed:  2.5min\n"
     ]
    },
    {
     "name": "stdout",
     "output_type": "stream",
     "text": [
      "building tree 858 of 1000\n"
     ]
    },
    {
     "name": "stderr",
     "output_type": "stream",
     "text": [
      "[Parallel(n_jobs=-1)]: Done 851 tasks      | elapsed:  2.5min\n",
      "[Parallel(n_jobs=-1)]: Done 852 tasks      | elapsed:  2.5min\n",
      "[Parallel(n_jobs=-1)]: Done 853 tasks      | elapsed:  2.5min\n"
     ]
    },
    {
     "name": "stdout",
     "output_type": "stream",
     "text": [
      "building tree 859 of 1000\n",
      "building tree 860 of 1000\n",
      "building tree 861 of 1000"
     ]
    },
    {
     "name": "stderr",
     "output_type": "stream",
     "text": [
      "[Parallel(n_jobs=-1)]: Done 854 tasks      | elapsed:  2.5min\n",
      "[Parallel(n_jobs=-1)]: Done 855 tasks      | elapsed:  2.5min\n"
     ]
    },
    {
     "name": "stdout",
     "output_type": "stream",
     "text": [
      "\n",
      "building tree 862 of 1000\n",
      "building tree 863 of 1000\n"
     ]
    },
    {
     "name": "stderr",
     "output_type": "stream",
     "text": [
      "[Parallel(n_jobs=-1)]: Done 856 tasks      | elapsed:  2.5min\n",
      "[Parallel(n_jobs=-1)]: Done 857 tasks      | elapsed:  2.5min\n"
     ]
    },
    {
     "name": "stdout",
     "output_type": "stream",
     "text": [
      "building tree 864 of 1000\n",
      "building tree 865 of 1000\n"
     ]
    },
    {
     "name": "stderr",
     "output_type": "stream",
     "text": [
      "[Parallel(n_jobs=-1)]: Done 858 tasks      | elapsed:  2.5min\n",
      "[Parallel(n_jobs=-1)]: Done 859 tasks      | elapsed:  2.5min\n"
     ]
    },
    {
     "name": "stdout",
     "output_type": "stream",
     "text": [
      "building tree 866 of 1000\n",
      "building tree 867 of 1000\n"
     ]
    },
    {
     "name": "stderr",
     "output_type": "stream",
     "text": [
      "[Parallel(n_jobs=-1)]: Done 860 tasks      | elapsed:  2.5min\n",
      "[Parallel(n_jobs=-1)]: Done 861 tasks      | elapsed:  2.5min\n"
     ]
    },
    {
     "name": "stdout",
     "output_type": "stream",
     "text": [
      "building tree 868 of 1000\n",
      "building tree 869 of 1000\n"
     ]
    },
    {
     "name": "stderr",
     "output_type": "stream",
     "text": [
      "[Parallel(n_jobs=-1)]: Done 862 tasks      | elapsed:  2.5min\n",
      "[Parallel(n_jobs=-1)]: Done 863 tasks      | elapsed:  2.5min\n"
     ]
    },
    {
     "name": "stdout",
     "output_type": "stream",
     "text": [
      "building tree 870 of 1000\n",
      "building tree 871 of 1000\n"
     ]
    },
    {
     "name": "stderr",
     "output_type": "stream",
     "text": [
      "[Parallel(n_jobs=-1)]: Done 864 tasks      | elapsed:  2.6min\n",
      "[Parallel(n_jobs=-1)]: Done 865 tasks      | elapsed:  2.6min\n"
     ]
    },
    {
     "name": "stdout",
     "output_type": "stream",
     "text": [
      "building tree 872 of 1000\n",
      "building tree 873 of 1000\n"
     ]
    },
    {
     "name": "stderr",
     "output_type": "stream",
     "text": [
      "[Parallel(n_jobs=-1)]: Done 866 tasks      | elapsed:  2.6min\n",
      "[Parallel(n_jobs=-1)]: Done 867 tasks      | elapsed:  2.6min\n"
     ]
    },
    {
     "name": "stdout",
     "output_type": "stream",
     "text": [
      "building tree 874 of 1000\n",
      "building tree 875 of 1000\n"
     ]
    },
    {
     "name": "stderr",
     "output_type": "stream",
     "text": [
      "[Parallel(n_jobs=-1)]: Done 868 tasks      | elapsed:  2.6min\n",
      "[Parallel(n_jobs=-1)]: Done 869 tasks      | elapsed:  2.6min\n",
      "[Parallel(n_jobs=-1)]: Done 870 tasks      | elapsed:  2.6min\n"
     ]
    },
    {
     "name": "stdout",
     "output_type": "stream",
     "text": [
      "building tree 876 of 1000\n",
      "building tree 877 of 1000\n",
      "building tree 878 of 1000\n"
     ]
    },
    {
     "name": "stderr",
     "output_type": "stream",
     "text": [
      "[Parallel(n_jobs=-1)]: Done 871 tasks      | elapsed:  2.6min\n"
     ]
    },
    {
     "name": "stdout",
     "output_type": "stream",
     "text": [
      "building tree 879 of 1000\n"
     ]
    },
    {
     "name": "stderr",
     "output_type": "stream",
     "text": [
      "[Parallel(n_jobs=-1)]: Done 872 tasks      | elapsed:  2.6min\n",
      "[Parallel(n_jobs=-1)]: Done 873 tasks      | elapsed:  2.6min\n"
     ]
    },
    {
     "name": "stdout",
     "output_type": "stream",
     "text": [
      "building tree 880 of 1000\n",
      "building tree 881 of 1000\n"
     ]
    },
    {
     "name": "stderr",
     "output_type": "stream",
     "text": [
      "[Parallel(n_jobs=-1)]: Done 874 tasks      | elapsed:  2.6min\n",
      "[Parallel(n_jobs=-1)]: Done 875 tasks      | elapsed:  2.6min\n"
     ]
    },
    {
     "name": "stdout",
     "output_type": "stream",
     "text": [
      "building tree 882 of 1000\n",
      "building tree 883 of 1000\n"
     ]
    },
    {
     "name": "stderr",
     "output_type": "stream",
     "text": [
      "[Parallel(n_jobs=-1)]: Done 876 tasks      | elapsed:  2.6min\n"
     ]
    },
    {
     "name": "stdout",
     "output_type": "stream",
     "text": [
      "building tree 884 of 1000\n"
     ]
    },
    {
     "name": "stderr",
     "output_type": "stream",
     "text": [
      "[Parallel(n_jobs=-1)]: Done 877 tasks      | elapsed:  2.6min\n",
      "[Parallel(n_jobs=-1)]: Done 878 tasks      | elapsed:  2.6min\n",
      "[Parallel(n_jobs=-1)]: Done 879 tasks      | elapsed:  2.6min\n"
     ]
    },
    {
     "name": "stdout",
     "output_type": "stream",
     "text": [
      "building tree 885 of 1000\n",
      "building tree 886 of 1000\n",
      "building tree 887 of 1000\n"
     ]
    },
    {
     "name": "stderr",
     "output_type": "stream",
     "text": [
      "[Parallel(n_jobs=-1)]: Done 880 tasks      | elapsed:  2.6min\n",
      "[Parallel(n_jobs=-1)]: Done 881 tasks      | elapsed:  2.6min\n"
     ]
    },
    {
     "name": "stdout",
     "output_type": "stream",
     "text": [
      "building tree 888 of 1000\n",
      "building tree 889 of 1000\n"
     ]
    },
    {
     "name": "stderr",
     "output_type": "stream",
     "text": [
      "[Parallel(n_jobs=-1)]: Done 882 tasks      | elapsed:  2.6min\n",
      "[Parallel(n_jobs=-1)]: Done 883 tasks      | elapsed:  2.6min\n"
     ]
    },
    {
     "name": "stdout",
     "output_type": "stream",
     "text": [
      "building tree 890 of 1000\n",
      "building tree 891 of 1000"
     ]
    },
    {
     "name": "stderr",
     "output_type": "stream",
     "text": [
      "[Parallel(n_jobs=-1)]: Done 884 tasks      | elapsed:  2.6min\n"
     ]
    },
    {
     "name": "stdout",
     "output_type": "stream",
     "text": [
      "\n",
      "building tree 892 of 1000\n"
     ]
    },
    {
     "name": "stderr",
     "output_type": "stream",
     "text": [
      "[Parallel(n_jobs=-1)]: Done 885 tasks      | elapsed:  2.6min\n",
      "[Parallel(n_jobs=-1)]: Done 886 tasks      | elapsed:  2.6min\n",
      "[Parallel(n_jobs=-1)]: Done 887 tasks      | elapsed:  2.6min\n"
     ]
    },
    {
     "name": "stdout",
     "output_type": "stream",
     "text": [
      "building tree 893 of 1000\n",
      "building tree 894 of 1000\n",
      "building tree 895 of 1000\n"
     ]
    },
    {
     "name": "stderr",
     "output_type": "stream",
     "text": [
      "[Parallel(n_jobs=-1)]: Done 888 tasks      | elapsed:  2.6min\n",
      "[Parallel(n_jobs=-1)]: Done 889 tasks      | elapsed:  2.6min\n"
     ]
    },
    {
     "name": "stdout",
     "output_type": "stream",
     "text": [
      "building tree 896 of 1000\n",
      "building tree 897 of 1000\n"
     ]
    },
    {
     "name": "stderr",
     "output_type": "stream",
     "text": [
      "[Parallel(n_jobs=-1)]: Done 890 tasks      | elapsed:  2.6min\n",
      "[Parallel(n_jobs=-1)]: Done 891 tasks      | elapsed:  2.6min\n"
     ]
    },
    {
     "name": "stdout",
     "output_type": "stream",
     "text": [
      "building tree 898 of 1000\n",
      "building tree 899 of 1000"
     ]
    },
    {
     "name": "stderr",
     "output_type": "stream",
     "text": [
      "[Parallel(n_jobs=-1)]: Done 892 tasks      | elapsed:  2.6min\n"
     ]
    },
    {
     "name": "stdout",
     "output_type": "stream",
     "text": [
      "\n",
      "building tree 900 of 1000\n"
     ]
    },
    {
     "name": "stderr",
     "output_type": "stream",
     "text": [
      "[Parallel(n_jobs=-1)]: Done 893 tasks      | elapsed:  2.6min\n",
      "[Parallel(n_jobs=-1)]: Done 894 tasks      | elapsed:  2.6min\n",
      "[Parallel(n_jobs=-1)]: Done 895 tasks      | elapsed:  2.6min\n"
     ]
    },
    {
     "name": "stdout",
     "output_type": "stream",
     "text": [
      "building tree 901 of 1000\n",
      "building tree 902 of 1000\n",
      "building tree 903 of 1000\n"
     ]
    },
    {
     "name": "stderr",
     "output_type": "stream",
     "text": [
      "[Parallel(n_jobs=-1)]: Done 896 tasks      | elapsed:  2.6min\n"
     ]
    },
    {
     "name": "stdout",
     "output_type": "stream",
     "text": [
      "building tree 904 of 1000\n"
     ]
    },
    {
     "name": "stderr",
     "output_type": "stream",
     "text": [
      "[Parallel(n_jobs=-1)]: Done 897 tasks      | elapsed:  2.7min\n",
      "[Parallel(n_jobs=-1)]: Done 898 tasks      | elapsed:  2.7min\n",
      "[Parallel(n_jobs=-1)]: Done 899 tasks      | elapsed:  2.7min\n"
     ]
    },
    {
     "name": "stdout",
     "output_type": "stream",
     "text": [
      "building tree 905 of 1000\n",
      "building tree 906 of 1000\n",
      "building tree 907 of 1000\n"
     ]
    },
    {
     "name": "stderr",
     "output_type": "stream",
     "text": [
      "[Parallel(n_jobs=-1)]: Done 900 tasks      | elapsed:  2.7min\n",
      "[Parallel(n_jobs=-1)]: Done 901 tasks      | elapsed:  2.7min\n"
     ]
    },
    {
     "name": "stdout",
     "output_type": "stream",
     "text": [
      "building tree 908 of 1000\n",
      "building tree 909 of 1000\n"
     ]
    },
    {
     "name": "stderr",
     "output_type": "stream",
     "text": [
      "[Parallel(n_jobs=-1)]: Done 902 tasks      | elapsed:  2.7min\n",
      "[Parallel(n_jobs=-1)]: Done 903 tasks      | elapsed:  2.7min\n"
     ]
    },
    {
     "name": "stdout",
     "output_type": "stream",
     "text": [
      "building tree 910 of 1000\n",
      "building tree 911 of 1000\n"
     ]
    },
    {
     "name": "stderr",
     "output_type": "stream",
     "text": [
      "[Parallel(n_jobs=-1)]: Done 904 tasks      | elapsed:  2.7min\n",
      "[Parallel(n_jobs=-1)]: Done 905 tasks      | elapsed:  2.7min\n"
     ]
    },
    {
     "name": "stdout",
     "output_type": "stream",
     "text": [
      "building tree 912 of 1000\n",
      "building tree 913 of 1000\n"
     ]
    },
    {
     "name": "stderr",
     "output_type": "stream",
     "text": [
      "[Parallel(n_jobs=-1)]: Done 906 tasks      | elapsed:  2.7min\n",
      "[Parallel(n_jobs=-1)]: Done 907 tasks      | elapsed:  2.7min\n"
     ]
    },
    {
     "name": "stdout",
     "output_type": "stream",
     "text": [
      "building tree 914 of 1000\n",
      "building tree 915 of 1000\n"
     ]
    },
    {
     "name": "stderr",
     "output_type": "stream",
     "text": [
      "[Parallel(n_jobs=-1)]: Done 908 tasks      | elapsed:  2.7min\n",
      "[Parallel(n_jobs=-1)]: Done 909 tasks      | elapsed:  2.7min\n"
     ]
    },
    {
     "name": "stdout",
     "output_type": "stream",
     "text": [
      "building tree 916 of 1000\n",
      "building tree 917 of 1000\n"
     ]
    },
    {
     "name": "stderr",
     "output_type": "stream",
     "text": [
      "[Parallel(n_jobs=-1)]: Done 910 tasks      | elapsed:  2.7min\n",
      "[Parallel(n_jobs=-1)]: Done 911 tasks      | elapsed:  2.7min\n"
     ]
    },
    {
     "name": "stdout",
     "output_type": "stream",
     "text": [
      "building tree 918 of 1000\n",
      "building tree 919 of 1000\n"
     ]
    },
    {
     "name": "stderr",
     "output_type": "stream",
     "text": [
      "[Parallel(n_jobs=-1)]: Done 912 tasks      | elapsed:  2.7min\n",
      "[Parallel(n_jobs=-1)]: Done 913 tasks      | elapsed:  2.7min\n",
      "[Parallel(n_jobs=-1)]: Done 914 tasks      | elapsed:  2.7min\n"
     ]
    },
    {
     "name": "stdout",
     "output_type": "stream",
     "text": [
      "building tree 920 of 1000building tree 921 of 1000\n",
      "\n",
      "building tree 922 of 1000"
     ]
    },
    {
     "name": "stderr",
     "output_type": "stream",
     "text": [
      "[Parallel(n_jobs=-1)]: Done 915 tasks      | elapsed:  2.7min\n"
     ]
    },
    {
     "name": "stdout",
     "output_type": "stream",
     "text": [
      "\n",
      "building tree 923 of 1000\n"
     ]
    },
    {
     "name": "stderr",
     "output_type": "stream",
     "text": [
      "[Parallel(n_jobs=-1)]: Done 916 tasks      | elapsed:  2.7min\n"
     ]
    },
    {
     "name": "stdout",
     "output_type": "stream",
     "text": [
      "building tree 924 of 1000\n",
      "building tree 925 of 1000\n"
     ]
    },
    {
     "name": "stderr",
     "output_type": "stream",
     "text": [
      "[Parallel(n_jobs=-1)]: Done 917 tasks      | elapsed:  2.7min\n",
      "[Parallel(n_jobs=-1)]: Done 918 tasks      | elapsed:  2.7min\n",
      "[Parallel(n_jobs=-1)]: Done 919 tasks      | elapsed:  2.7min\n"
     ]
    },
    {
     "name": "stdout",
     "output_type": "stream",
     "text": [
      "building tree 926 of 1000\n",
      "building tree 927 of 1000\n",
      "building tree 928 of 1000\n",
      "building tree 929 of 1000\n",
      "building tree 930 of 1000\n",
      "building tree 931 of 1000\n"
     ]
    },
    {
     "name": "stderr",
     "output_type": "stream",
     "text": [
      "[Parallel(n_jobs=-1)]: Done 920 tasks      | elapsed:  2.7min\n",
      "[Parallel(n_jobs=-1)]: Done 921 tasks      | elapsed:  2.7min\n",
      "[Parallel(n_jobs=-1)]: Done 922 tasks      | elapsed:  2.7min\n",
      "[Parallel(n_jobs=-1)]: Done 923 tasks      | elapsed:  2.7min\n",
      "[Parallel(n_jobs=-1)]: Done 924 tasks      | elapsed:  2.7min\n"
     ]
    },
    {
     "name": "stdout",
     "output_type": "stream",
     "text": [
      "building tree 932 of 1000\n"
     ]
    },
    {
     "name": "stderr",
     "output_type": "stream",
     "text": [
      "[Parallel(n_jobs=-1)]: Done 925 tasks      | elapsed:  2.7min\n"
     ]
    },
    {
     "name": "stdout",
     "output_type": "stream",
     "text": [
      "building tree 933 of 1000\n",
      "building tree 934 of 1000\n"
     ]
    },
    {
     "name": "stderr",
     "output_type": "stream",
     "text": [
      "[Parallel(n_jobs=-1)]: Done 926 tasks      | elapsed:  2.7min\n",
      "[Parallel(n_jobs=-1)]: Done 927 tasks      | elapsed:  2.7min\n",
      "[Parallel(n_jobs=-1)]: Done 928 tasks      | elapsed:  2.7min\n",
      "[Parallel(n_jobs=-1)]: Done 929 tasks      | elapsed:  2.8min\n"
     ]
    },
    {
     "name": "stdout",
     "output_type": "stream",
     "text": [
      "building tree 935 of 1000\n",
      "building tree 936 of 1000\n",
      "building tree 937 of 1000"
     ]
    },
    {
     "name": "stderr",
     "output_type": "stream",
     "text": [
      "[Parallel(n_jobs=-1)]: Done 930 tasks      | elapsed:  2.8min\n",
      "[Parallel(n_jobs=-1)]: Done 931 tasks      | elapsed:  2.8min\n"
     ]
    },
    {
     "name": "stdout",
     "output_type": "stream",
     "text": [
      "\n",
      "building tree 938 of 1000\n",
      "building tree 939 of 1000\n"
     ]
    },
    {
     "name": "stderr",
     "output_type": "stream",
     "text": [
      "[Parallel(n_jobs=-1)]: Done 932 tasks      | elapsed:  2.8min\n",
      "[Parallel(n_jobs=-1)]: Done 933 tasks      | elapsed:  2.8min\n"
     ]
    },
    {
     "name": "stdout",
     "output_type": "stream",
     "text": [
      "building tree 940 of 1000\n",
      "building tree 941 of 1000\n"
     ]
    },
    {
     "name": "stderr",
     "output_type": "stream",
     "text": [
      "[Parallel(n_jobs=-1)]: Done 934 tasks      | elapsed:  2.8min\n"
     ]
    },
    {
     "name": "stdout",
     "output_type": "stream",
     "text": [
      "building tree 942 of 1000\n"
     ]
    },
    {
     "name": "stderr",
     "output_type": "stream",
     "text": [
      "[Parallel(n_jobs=-1)]: Done 935 tasks      | elapsed:  2.8min\n",
      "[Parallel(n_jobs=-1)]: Done 936 tasks      | elapsed:  2.8min\n",
      "[Parallel(n_jobs=-1)]: Done 937 tasks      | elapsed:  2.8min\n",
      "[Parallel(n_jobs=-1)]: Done 938 tasks      | elapsed:  2.8min\n"
     ]
    },
    {
     "name": "stdout",
     "output_type": "stream",
     "text": [
      "building tree 943 of 1000\n",
      "building tree 944 of 1000\n",
      "building tree 945 of 1000\n",
      "building tree 946 of 1000\n"
     ]
    },
    {
     "name": "stderr",
     "output_type": "stream",
     "text": [
      "[Parallel(n_jobs=-1)]: Done 939 tasks      | elapsed:  2.8min\n",
      "[Parallel(n_jobs=-1)]: Done 940 tasks      | elapsed:  2.8min\n"
     ]
    },
    {
     "name": "stdout",
     "output_type": "stream",
     "text": [
      "building tree 947 of 1000\n",
      "building tree 948 of 1000\n"
     ]
    },
    {
     "name": "stderr",
     "output_type": "stream",
     "text": [
      "[Parallel(n_jobs=-1)]: Done 941 tasks      | elapsed:  2.8min\n"
     ]
    },
    {
     "name": "stdout",
     "output_type": "stream",
     "text": [
      "building tree 949 of 1000\n"
     ]
    },
    {
     "name": "stderr",
     "output_type": "stream",
     "text": [
      "[Parallel(n_jobs=-1)]: Done 942 tasks      | elapsed:  2.8min\n"
     ]
    },
    {
     "name": "stdout",
     "output_type": "stream",
     "text": [
      "building tree 950 of 1000\n"
     ]
    },
    {
     "name": "stderr",
     "output_type": "stream",
     "text": [
      "[Parallel(n_jobs=-1)]: Done 943 tasks      | elapsed:  2.8min\n",
      "[Parallel(n_jobs=-1)]: Done 944 tasks      | elapsed:  2.8min\n",
      "[Parallel(n_jobs=-1)]: Done 945 tasks      | elapsed:  2.8min\n",
      "[Parallel(n_jobs=-1)]: Done 946 tasks      | elapsed:  2.8min\n"
     ]
    },
    {
     "name": "stdout",
     "output_type": "stream",
     "text": [
      "building tree 951 of 1000\n",
      "building tree 952 of 1000\n",
      "building tree 953 of 1000\n",
      "building tree 954 of 1000\n"
     ]
    },
    {
     "name": "stderr",
     "output_type": "stream",
     "text": [
      "[Parallel(n_jobs=-1)]: Done 947 tasks      | elapsed:  2.8min\n"
     ]
    },
    {
     "name": "stdout",
     "output_type": "stream",
     "text": [
      "building tree 955 of 1000\n",
      "building tree 956 of 1000\n",
      "building tree 957 of 1000\n"
     ]
    },
    {
     "name": "stderr",
     "output_type": "stream",
     "text": [
      "[Parallel(n_jobs=-1)]: Done 948 tasks      | elapsed:  2.8min\n",
      "[Parallel(n_jobs=-1)]: Done 949 tasks      | elapsed:  2.8min\n",
      "[Parallel(n_jobs=-1)]: Done 950 tasks      | elapsed:  2.8min\n"
     ]
    },
    {
     "name": "stdout",
     "output_type": "stream",
     "text": [
      "building tree 958 of 1000\n"
     ]
    },
    {
     "name": "stderr",
     "output_type": "stream",
     "text": [
      "[Parallel(n_jobs=-1)]: Done 951 tasks      | elapsed:  2.8min\n",
      "[Parallel(n_jobs=-1)]: Done 952 tasks      | elapsed:  2.8min\n",
      "[Parallel(n_jobs=-1)]: Done 953 tasks      | elapsed:  2.8min\n"
     ]
    },
    {
     "name": "stdout",
     "output_type": "stream",
     "text": [
      "building tree 959 of 1000\n",
      "building tree 960 of 1000\n",
      "building tree 961 of 1000\n",
      "building tree 962 of 1000\n",
      "building tree 963 of 1000\n",
      "building tree 964 of 1000\n",
      "building tree 965 of 1000"
     ]
    },
    {
     "name": "stderr",
     "output_type": "stream",
     "text": [
      "[Parallel(n_jobs=-1)]: Done 954 tasks      | elapsed:  2.8min\n",
      "[Parallel(n_jobs=-1)]: Done 955 tasks      | elapsed:  2.8min\n",
      "[Parallel(n_jobs=-1)]: Done 956 tasks      | elapsed:  2.8min\n",
      "[Parallel(n_jobs=-1)]: Done 957 tasks      | elapsed:  2.8min\n"
     ]
    },
    {
     "name": "stdout",
     "output_type": "stream",
     "text": [
      "\n",
      "building tree 966 of 1000\n"
     ]
    },
    {
     "name": "stderr",
     "output_type": "stream",
     "text": [
      "[Parallel(n_jobs=-1)]: Done 958 tasks      | elapsed:  2.8min\n",
      "[Parallel(n_jobs=-1)]: Done 959 tasks      | elapsed:  2.8min\n",
      "[Parallel(n_jobs=-1)]: Done 960 tasks      | elapsed:  2.8min\n",
      "[Parallel(n_jobs=-1)]: Done 961 tasks      | elapsed:  2.8min\n"
     ]
    },
    {
     "name": "stdout",
     "output_type": "stream",
     "text": [
      "building tree 967 of 1000\n",
      "building tree 968 of 1000\n",
      "building tree 969 of 1000\n"
     ]
    },
    {
     "name": "stderr",
     "output_type": "stream",
     "text": [
      "[Parallel(n_jobs=-1)]: Done 962 tasks      | elapsed:  2.8min\n",
      "[Parallel(n_jobs=-1)]: Done 963 tasks      | elapsed:  2.8min\n"
     ]
    },
    {
     "name": "stdout",
     "output_type": "stream",
     "text": [
      "building tree 970 of 1000\n",
      "building tree 971 of 1000\n",
      "building tree 972 of 1000\n",
      "building tree 973 of 1000\n"
     ]
    },
    {
     "name": "stderr",
     "output_type": "stream",
     "text": [
      "[Parallel(n_jobs=-1)]: Done 964 tasks      | elapsed:  2.8min\n",
      "[Parallel(n_jobs=-1)]: Done 965 tasks      | elapsed:  2.9min\n",
      "[Parallel(n_jobs=-1)]: Done 966 tasks      | elapsed:  2.9min\n"
     ]
    },
    {
     "name": "stdout",
     "output_type": "stream",
     "text": [
      "building tree 974 of 1000\n"
     ]
    },
    {
     "name": "stderr",
     "output_type": "stream",
     "text": [
      "[Parallel(n_jobs=-1)]: Done 967 tasks      | elapsed:  2.9min\n",
      "[Parallel(n_jobs=-1)]: Done 968 tasks      | elapsed:  2.9min\n",
      "[Parallel(n_jobs=-1)]: Done 969 tasks      | elapsed:  2.9min\n"
     ]
    },
    {
     "name": "stdout",
     "output_type": "stream",
     "text": [
      "building tree 975 of 1000\n",
      "building tree 976 of 1000\n",
      "building tree 977 of 1000\n"
     ]
    },
    {
     "name": "stderr",
     "output_type": "stream",
     "text": [
      "[Parallel(n_jobs=-1)]: Done 970 tasks      | elapsed:  2.9min\n",
      "[Parallel(n_jobs=-1)]: Done 971 tasks      | elapsed:  2.9min\n"
     ]
    },
    {
     "name": "stdout",
     "output_type": "stream",
     "text": [
      "building tree 978 of 1000\n",
      "building tree 979 of 1000\n"
     ]
    },
    {
     "name": "stderr",
     "output_type": "stream",
     "text": [
      "[Parallel(n_jobs=-1)]: Done 972 tasks      | elapsed:  2.9min\n",
      "[Parallel(n_jobs=-1)]: Done 973 tasks      | elapsed:  2.9min\n"
     ]
    },
    {
     "name": "stdout",
     "output_type": "stream",
     "text": [
      "building tree 980 of 1000\n",
      "building tree 981 of 1000\n"
     ]
    },
    {
     "name": "stderr",
     "output_type": "stream",
     "text": [
      "[Parallel(n_jobs=-1)]: Done 974 tasks      | elapsed:  2.9min\n",
      "[Parallel(n_jobs=-1)]: Done 975 tasks      | elapsed:  2.9min\n"
     ]
    },
    {
     "name": "stdout",
     "output_type": "stream",
     "text": [
      "building tree 982 of 1000\n",
      "building tree 983 of 1000\n",
      "building tree 984 of 1000\n",
      "building tree 985 of 1000\n",
      "building tree 986 of 1000\n"
     ]
    },
    {
     "name": "stderr",
     "output_type": "stream",
     "text": [
      "[Parallel(n_jobs=-1)]: Done 976 tasks      | elapsed:  2.9min\n",
      "[Parallel(n_jobs=-1)]: Done 977 tasks      | elapsed:  2.9min\n",
      "[Parallel(n_jobs=-1)]: Done 978 tasks      | elapsed:  2.9min\n",
      "[Parallel(n_jobs=-1)]: Done 979 tasks      | elapsed:  2.9min\n",
      "[Parallel(n_jobs=-1)]: Done 980 tasks      | elapsed:  2.9min\n",
      "[Parallel(n_jobs=-1)]: Done 981 tasks      | elapsed:  2.9min\n"
     ]
    },
    {
     "name": "stdout",
     "output_type": "stream",
     "text": [
      "building tree 987 of 1000\n",
      "building tree 988 of 1000\n",
      "building tree 989 of 1000\n"
     ]
    },
    {
     "name": "stderr",
     "output_type": "stream",
     "text": [
      "[Parallel(n_jobs=-1)]: Done 982 tasks      | elapsed:  2.9min\n"
     ]
    },
    {
     "name": "stdout",
     "output_type": "stream",
     "text": [
      "building tree 990 of 1000\n",
      "building tree 991 of 1000\n",
      "building tree 992 of 1000\n",
      "building tree 993 of 1000\n",
      "building tree 994 of 1000\n"
     ]
    },
    {
     "name": "stderr",
     "output_type": "stream",
     "text": [
      "[Parallel(n_jobs=-1)]: Done 983 tasks      | elapsed:  2.9min\n",
      "[Parallel(n_jobs=-1)]: Done 984 tasks      | elapsed:  2.9min\n",
      "[Parallel(n_jobs=-1)]: Done 985 tasks      | elapsed:  2.9min\n"
     ]
    },
    {
     "name": "stdout",
     "output_type": "stream",
     "text": [
      "building tree 995 of 1000\n",
      "building tree 996 of 1000\n",
      "building tree 997 of 1000\n",
      "building tree 998 of 1000\n",
      "building tree 999 of 1000\n",
      "building tree 1000 of 1000\n"
     ]
    },
    {
     "name": "stderr",
     "output_type": "stream",
     "text": [
      "[Parallel(n_jobs=-1)]: Done 1000 out of 1000 | elapsed:  3.0min finished\n",
      "[Parallel(n_jobs=8)]: Using backend ThreadingBackend with 8 concurrent workers.\n",
      "[Parallel(n_jobs=8)]: Done   1 tasks      | elapsed:    0.0s\n",
      "[Parallel(n_jobs=8)]: Done   2 tasks      | elapsed:    0.0s\n",
      "[Parallel(n_jobs=8)]: Done   3 tasks      | elapsed:    0.0s\n",
      "[Parallel(n_jobs=8)]: Done   4 tasks      | elapsed:    0.0s\n",
      "[Parallel(n_jobs=8)]: Done   5 tasks      | elapsed:    0.0s\n",
      "[Parallel(n_jobs=8)]: Done   6 tasks      | elapsed:    0.0s\n",
      "[Parallel(n_jobs=8)]: Done   7 tasks      | elapsed:    0.0s\n",
      "[Parallel(n_jobs=8)]: Done   8 tasks      | elapsed:    0.0s\n",
      "[Parallel(n_jobs=8)]: Done   9 tasks      | elapsed:    0.0s\n",
      "[Parallel(n_jobs=8)]: Done  10 tasks      | elapsed:    0.0s\n",
      "[Parallel(n_jobs=8)]: Done  11 tasks      | elapsed:    0.0s\n",
      "[Parallel(n_jobs=8)]: Done  12 tasks      | elapsed:    0.0s\n",
      "[Parallel(n_jobs=8)]: Done  13 tasks      | elapsed:    0.0s\n",
      "[Parallel(n_jobs=8)]: Done  14 tasks      | elapsed:    0.0s\n",
      "[Parallel(n_jobs=8)]: Done  15 tasks      | elapsed:    0.0s\n",
      "[Parallel(n_jobs=8)]: Done  16 tasks      | elapsed:    0.0s\n",
      "[Parallel(n_jobs=8)]: Done  17 tasks      | elapsed:    0.0s\n",
      "[Parallel(n_jobs=8)]: Done  18 tasks      | elapsed:    0.0s\n",
      "[Parallel(n_jobs=8)]: Done  19 tasks      | elapsed:    0.0s\n",
      "[Parallel(n_jobs=8)]: Done  20 tasks      | elapsed:    0.0s\n",
      "[Parallel(n_jobs=8)]: Done  21 tasks      | elapsed:    0.0s\n",
      "[Parallel(n_jobs=8)]: Done  22 tasks      | elapsed:    0.0s\n",
      "[Parallel(n_jobs=8)]: Done  23 tasks      | elapsed:    0.0s\n",
      "[Parallel(n_jobs=8)]: Done  24 tasks      | elapsed:    0.0s\n",
      "[Parallel(n_jobs=8)]: Done  25 tasks      | elapsed:    0.0s\n",
      "[Parallel(n_jobs=8)]: Done  26 tasks      | elapsed:    0.0s\n",
      "[Parallel(n_jobs=8)]: Done  27 tasks      | elapsed:    0.0s\n",
      "[Parallel(n_jobs=8)]: Done  28 tasks      | elapsed:    0.0s\n",
      "[Parallel(n_jobs=8)]: Done  29 tasks      | elapsed:    0.0s\n",
      "[Parallel(n_jobs=8)]: Done  30 tasks      | elapsed:    0.0s\n",
      "[Parallel(n_jobs=8)]: Done  31 tasks      | elapsed:    0.0s\n",
      "[Parallel(n_jobs=8)]: Done  32 tasks      | elapsed:    0.0s\n",
      "[Parallel(n_jobs=8)]: Done  33 tasks      | elapsed:    0.0s\n",
      "[Parallel(n_jobs=8)]: Done  34 tasks      | elapsed:    0.0s\n",
      "[Parallel(n_jobs=8)]: Done  35 tasks      | elapsed:    0.0s\n",
      "[Parallel(n_jobs=8)]: Done  36 tasks      | elapsed:    0.0s\n",
      "[Parallel(n_jobs=8)]: Done  37 tasks      | elapsed:    0.0s\n",
      "[Parallel(n_jobs=8)]: Done  38 tasks      | elapsed:    0.0s\n",
      "[Parallel(n_jobs=8)]: Done  39 tasks      | elapsed:    0.0s\n",
      "[Parallel(n_jobs=8)]: Done  40 tasks      | elapsed:    0.0s\n",
      "[Parallel(n_jobs=8)]: Done  41 tasks      | elapsed:    0.0s\n",
      "[Parallel(n_jobs=8)]: Done  42 tasks      | elapsed:    0.0s\n",
      "[Parallel(n_jobs=8)]: Done  43 tasks      | elapsed:    0.0s\n",
      "[Parallel(n_jobs=8)]: Done  44 tasks      | elapsed:    0.0s\n",
      "[Parallel(n_jobs=8)]: Done  45 tasks      | elapsed:    0.0s\n",
      "[Parallel(n_jobs=8)]: Done  46 tasks      | elapsed:    0.0s\n",
      "[Parallel(n_jobs=8)]: Done  47 tasks      | elapsed:    0.0s\n",
      "[Parallel(n_jobs=8)]: Done  48 tasks      | elapsed:    0.0s\n",
      "[Parallel(n_jobs=8)]: Done  49 tasks      | elapsed:    0.1s\n",
      "[Parallel(n_jobs=8)]: Done  50 tasks      | elapsed:    0.1s\n",
      "[Parallel(n_jobs=8)]: Done  51 tasks      | elapsed:    0.1s\n",
      "[Parallel(n_jobs=8)]: Done  52 tasks      | elapsed:    0.1s\n",
      "[Parallel(n_jobs=8)]: Done  53 tasks      | elapsed:    0.1s\n",
      "[Parallel(n_jobs=8)]: Done  54 tasks      | elapsed:    0.1s\n",
      "[Parallel(n_jobs=8)]: Done  55 tasks      | elapsed:    0.1s\n",
      "[Parallel(n_jobs=8)]: Done  56 tasks      | elapsed:    0.1s\n",
      "[Parallel(n_jobs=8)]: Done  57 tasks      | elapsed:    0.1s\n",
      "[Parallel(n_jobs=8)]: Done  58 tasks      | elapsed:    0.1s\n",
      "[Parallel(n_jobs=8)]: Done  59 tasks      | elapsed:    0.1s\n",
      "[Parallel(n_jobs=8)]: Done  60 tasks      | elapsed:    0.1s\n",
      "[Parallel(n_jobs=8)]: Done  61 tasks      | elapsed:    0.1s\n",
      "[Parallel(n_jobs=8)]: Done  62 tasks      | elapsed:    0.1s\n",
      "[Parallel(n_jobs=8)]: Done  63 tasks      | elapsed:    0.1s\n",
      "[Parallel(n_jobs=8)]: Done  64 tasks      | elapsed:    0.1s\n",
      "[Parallel(n_jobs=8)]: Done  65 tasks      | elapsed:    0.1s\n",
      "[Parallel(n_jobs=8)]: Done  66 tasks      | elapsed:    0.1s\n",
      "[Parallel(n_jobs=8)]: Done  67 tasks      | elapsed:    0.1s\n",
      "[Parallel(n_jobs=8)]: Done  68 tasks      | elapsed:    0.1s\n",
      "[Parallel(n_jobs=8)]: Done  69 tasks      | elapsed:    0.1s\n",
      "[Parallel(n_jobs=8)]: Done  70 tasks      | elapsed:    0.1s\n",
      "[Parallel(n_jobs=8)]: Done  71 tasks      | elapsed:    0.1s\n",
      "[Parallel(n_jobs=8)]: Done  72 tasks      | elapsed:    0.1s\n",
      "[Parallel(n_jobs=8)]: Done  73 tasks      | elapsed:    0.1s\n",
      "[Parallel(n_jobs=8)]: Done  74 tasks      | elapsed:    0.1s\n",
      "[Parallel(n_jobs=8)]: Done  75 tasks      | elapsed:    0.1s\n",
      "[Parallel(n_jobs=8)]: Done  76 tasks      | elapsed:    0.1s\n",
      "[Parallel(n_jobs=8)]: Done  77 tasks      | elapsed:    0.1s\n",
      "[Parallel(n_jobs=8)]: Done  78 tasks      | elapsed:    0.1s\n",
      "[Parallel(n_jobs=8)]: Done  79 tasks      | elapsed:    0.1s\n",
      "[Parallel(n_jobs=8)]: Done  80 tasks      | elapsed:    0.1s\n",
      "[Parallel(n_jobs=8)]: Done  81 tasks      | elapsed:    0.1s\n",
      "[Parallel(n_jobs=8)]: Done  82 tasks      | elapsed:    0.1s\n",
      "[Parallel(n_jobs=8)]: Done  83 tasks      | elapsed:    0.1s\n",
      "[Parallel(n_jobs=8)]: Done  84 tasks      | elapsed:    0.1s\n",
      "[Parallel(n_jobs=8)]: Done  85 tasks      | elapsed:    0.1s\n",
      "[Parallel(n_jobs=8)]: Done  86 tasks      | elapsed:    0.1s\n",
      "[Parallel(n_jobs=8)]: Done  87 tasks      | elapsed:    0.1s\n",
      "[Parallel(n_jobs=8)]: Done  88 tasks      | elapsed:    0.1s\n",
      "[Parallel(n_jobs=8)]: Done  89 tasks      | elapsed:    0.1s\n",
      "[Parallel(n_jobs=8)]: Done  90 tasks      | elapsed:    0.1s\n",
      "[Parallel(n_jobs=8)]: Done  91 tasks      | elapsed:    0.1s\n",
      "[Parallel(n_jobs=8)]: Done  92 tasks      | elapsed:    0.1s\n",
      "[Parallel(n_jobs=8)]: Done  93 tasks      | elapsed:    0.2s\n",
      "[Parallel(n_jobs=8)]: Done  94 tasks      | elapsed:    0.2s\n",
      "[Parallel(n_jobs=8)]: Done  95 tasks      | elapsed:    0.2s\n",
      "[Parallel(n_jobs=8)]: Done  96 tasks      | elapsed:    0.2s\n",
      "[Parallel(n_jobs=8)]: Done  97 tasks      | elapsed:    0.2s\n",
      "[Parallel(n_jobs=8)]: Done  98 tasks      | elapsed:    0.2s\n",
      "[Parallel(n_jobs=8)]: Done  99 tasks      | elapsed:    0.2s\n",
      "[Parallel(n_jobs=8)]: Done 100 tasks      | elapsed:    0.2s\n",
      "[Parallel(n_jobs=8)]: Done 101 tasks      | elapsed:    0.2s\n",
      "[Parallel(n_jobs=8)]: Done 102 tasks      | elapsed:    0.2s\n",
      "[Parallel(n_jobs=8)]: Done 103 tasks      | elapsed:    0.2s\n",
      "[Parallel(n_jobs=8)]: Done 104 tasks      | elapsed:    0.2s\n",
      "[Parallel(n_jobs=8)]: Done 105 tasks      | elapsed:    0.2s\n",
      "[Parallel(n_jobs=8)]: Done 106 tasks      | elapsed:    0.2s\n",
      "[Parallel(n_jobs=8)]: Done 107 tasks      | elapsed:    0.2s\n",
      "[Parallel(n_jobs=8)]: Done 108 tasks      | elapsed:    0.2s\n",
      "[Parallel(n_jobs=8)]: Done 109 tasks      | elapsed:    0.2s\n",
      "[Parallel(n_jobs=8)]: Done 110 tasks      | elapsed:    0.2s\n",
      "[Parallel(n_jobs=8)]: Done 111 tasks      | elapsed:    0.2s\n",
      "[Parallel(n_jobs=8)]: Done 112 tasks      | elapsed:    0.2s\n",
      "[Parallel(n_jobs=8)]: Done 113 tasks      | elapsed:    0.2s\n",
      "[Parallel(n_jobs=8)]: Done 114 tasks      | elapsed:    0.2s\n",
      "[Parallel(n_jobs=8)]: Done 115 tasks      | elapsed:    0.2s\n",
      "[Parallel(n_jobs=8)]: Done 116 tasks      | elapsed:    0.2s\n",
      "[Parallel(n_jobs=8)]: Done 117 tasks      | elapsed:    0.2s\n",
      "[Parallel(n_jobs=8)]: Done 118 tasks      | elapsed:    0.2s\n",
      "[Parallel(n_jobs=8)]: Done 119 tasks      | elapsed:    0.2s\n",
      "[Parallel(n_jobs=8)]: Done 120 tasks      | elapsed:    0.2s\n",
      "[Parallel(n_jobs=8)]: Done 121 tasks      | elapsed:    0.2s\n",
      "[Parallel(n_jobs=8)]: Done 122 tasks      | elapsed:    0.2s\n",
      "[Parallel(n_jobs=8)]: Done 123 tasks      | elapsed:    0.2s\n",
      "[Parallel(n_jobs=8)]: Done 124 tasks      | elapsed:    0.2s\n",
      "[Parallel(n_jobs=8)]: Done 125 tasks      | elapsed:    0.2s\n",
      "[Parallel(n_jobs=8)]: Done 126 tasks      | elapsed:    0.2s\n",
      "[Parallel(n_jobs=8)]: Done 127 tasks      | elapsed:    0.2s\n",
      "[Parallel(n_jobs=8)]: Done 128 tasks      | elapsed:    0.2s\n",
      "[Parallel(n_jobs=8)]: Done 129 tasks      | elapsed:    0.2s\n",
      "[Parallel(n_jobs=8)]: Done 130 tasks      | elapsed:    0.2s\n",
      "[Parallel(n_jobs=8)]: Done 131 tasks      | elapsed:    0.2s\n",
      "[Parallel(n_jobs=8)]: Done 132 tasks      | elapsed:    0.2s\n",
      "[Parallel(n_jobs=8)]: Done 133 tasks      | elapsed:    0.2s\n",
      "[Parallel(n_jobs=8)]: Done 134 tasks      | elapsed:    0.2s\n",
      "[Parallel(n_jobs=8)]: Done 135 tasks      | elapsed:    0.2s\n",
      "[Parallel(n_jobs=8)]: Done 136 tasks      | elapsed:    0.2s\n",
      "[Parallel(n_jobs=8)]: Done 137 tasks      | elapsed:    0.2s\n",
      "[Parallel(n_jobs=8)]: Done 138 tasks      | elapsed:    0.2s\n",
      "[Parallel(n_jobs=8)]: Done 139 tasks      | elapsed:    0.2s\n",
      "[Parallel(n_jobs=8)]: Done 140 tasks      | elapsed:    0.2s\n",
      "[Parallel(n_jobs=8)]: Done 141 tasks      | elapsed:    0.2s\n"
     ]
    },
    {
     "name": "stderr",
     "output_type": "stream",
     "text": [
      "[Parallel(n_jobs=8)]: Done 142 tasks      | elapsed:    0.2s\n",
      "[Parallel(n_jobs=8)]: Done 143 tasks      | elapsed:    0.2s\n",
      "[Parallel(n_jobs=8)]: Done 144 tasks      | elapsed:    0.2s\n",
      "[Parallel(n_jobs=8)]: Done 145 tasks      | elapsed:    0.3s\n",
      "[Parallel(n_jobs=8)]: Done 146 tasks      | elapsed:    0.3s\n",
      "[Parallel(n_jobs=8)]: Done 147 tasks      | elapsed:    0.3s\n",
      "[Parallel(n_jobs=8)]: Done 148 tasks      | elapsed:    0.3s\n",
      "[Parallel(n_jobs=8)]: Done 149 tasks      | elapsed:    0.3s\n",
      "[Parallel(n_jobs=8)]: Done 150 tasks      | elapsed:    0.3s\n",
      "[Parallel(n_jobs=8)]: Done 151 tasks      | elapsed:    0.3s\n",
      "[Parallel(n_jobs=8)]: Done 152 tasks      | elapsed:    0.3s\n",
      "[Parallel(n_jobs=8)]: Done 153 tasks      | elapsed:    0.3s\n",
      "[Parallel(n_jobs=8)]: Done 154 tasks      | elapsed:    0.3s\n",
      "[Parallel(n_jobs=8)]: Done 155 tasks      | elapsed:    0.3s\n",
      "[Parallel(n_jobs=8)]: Done 156 tasks      | elapsed:    0.3s\n",
      "[Parallel(n_jobs=8)]: Done 157 tasks      | elapsed:    0.3s\n",
      "[Parallel(n_jobs=8)]: Done 158 tasks      | elapsed:    0.3s\n",
      "[Parallel(n_jobs=8)]: Done 159 tasks      | elapsed:    0.3s\n",
      "[Parallel(n_jobs=8)]: Done 160 tasks      | elapsed:    0.3s\n",
      "[Parallel(n_jobs=8)]: Done 161 tasks      | elapsed:    0.3s\n",
      "[Parallel(n_jobs=8)]: Done 162 tasks      | elapsed:    0.3s\n",
      "[Parallel(n_jobs=8)]: Done 163 tasks      | elapsed:    0.3s\n",
      "[Parallel(n_jobs=8)]: Done 164 tasks      | elapsed:    0.3s\n",
      "[Parallel(n_jobs=8)]: Done 165 tasks      | elapsed:    0.3s\n",
      "[Parallel(n_jobs=8)]: Done 166 tasks      | elapsed:    0.3s\n",
      "[Parallel(n_jobs=8)]: Done 167 tasks      | elapsed:    0.3s\n",
      "[Parallel(n_jobs=8)]: Done 168 tasks      | elapsed:    0.3s\n",
      "[Parallel(n_jobs=8)]: Done 169 tasks      | elapsed:    0.3s\n",
      "[Parallel(n_jobs=8)]: Done 170 tasks      | elapsed:    0.3s\n",
      "[Parallel(n_jobs=8)]: Done 171 tasks      | elapsed:    0.3s\n",
      "[Parallel(n_jobs=8)]: Done 172 tasks      | elapsed:    0.3s\n",
      "[Parallel(n_jobs=8)]: Done 173 tasks      | elapsed:    0.3s\n",
      "[Parallel(n_jobs=8)]: Done 174 tasks      | elapsed:    0.3s\n",
      "[Parallel(n_jobs=8)]: Done 175 tasks      | elapsed:    0.3s\n",
      "[Parallel(n_jobs=8)]: Done 176 tasks      | elapsed:    0.3s\n",
      "[Parallel(n_jobs=8)]: Done 177 tasks      | elapsed:    0.3s\n",
      "[Parallel(n_jobs=8)]: Done 178 tasks      | elapsed:    0.3s\n",
      "[Parallel(n_jobs=8)]: Done 179 tasks      | elapsed:    0.3s\n",
      "[Parallel(n_jobs=8)]: Done 180 tasks      | elapsed:    0.3s\n",
      "[Parallel(n_jobs=8)]: Done 181 tasks      | elapsed:    0.3s\n",
      "[Parallel(n_jobs=8)]: Done 182 tasks      | elapsed:    0.3s\n",
      "[Parallel(n_jobs=8)]: Done 183 tasks      | elapsed:    0.3s\n",
      "[Parallel(n_jobs=8)]: Done 184 tasks      | elapsed:    0.3s\n",
      "[Parallel(n_jobs=8)]: Done 185 tasks      | elapsed:    0.3s\n",
      "[Parallel(n_jobs=8)]: Done 186 tasks      | elapsed:    0.3s\n",
      "[Parallel(n_jobs=8)]: Done 187 tasks      | elapsed:    0.3s\n",
      "[Parallel(n_jobs=8)]: Done 188 tasks      | elapsed:    0.3s\n",
      "[Parallel(n_jobs=8)]: Done 189 tasks      | elapsed:    0.3s\n",
      "[Parallel(n_jobs=8)]: Done 190 tasks      | elapsed:    0.3s\n",
      "[Parallel(n_jobs=8)]: Done 191 tasks      | elapsed:    0.3s\n",
      "[Parallel(n_jobs=8)]: Done 192 tasks      | elapsed:    0.3s\n",
      "[Parallel(n_jobs=8)]: Done 193 tasks      | elapsed:    0.3s\n",
      "[Parallel(n_jobs=8)]: Done 194 tasks      | elapsed:    0.3s\n",
      "[Parallel(n_jobs=8)]: Done 195 tasks      | elapsed:    0.3s\n",
      "[Parallel(n_jobs=8)]: Done 196 tasks      | elapsed:    0.3s\n",
      "[Parallel(n_jobs=8)]: Done 197 tasks      | elapsed:    0.3s\n",
      "[Parallel(n_jobs=8)]: Done 198 tasks      | elapsed:    0.3s\n",
      "[Parallel(n_jobs=8)]: Done 199 tasks      | elapsed:    0.3s\n",
      "[Parallel(n_jobs=8)]: Done 200 tasks      | elapsed:    0.3s\n",
      "[Parallel(n_jobs=8)]: Done 201 tasks      | elapsed:    0.3s\n",
      "[Parallel(n_jobs=8)]: Done 202 tasks      | elapsed:    0.4s\n",
      "[Parallel(n_jobs=8)]: Done 203 tasks      | elapsed:    0.4s\n",
      "[Parallel(n_jobs=8)]: Done 204 tasks      | elapsed:    0.4s\n",
      "[Parallel(n_jobs=8)]: Done 205 tasks      | elapsed:    0.4s\n",
      "[Parallel(n_jobs=8)]: Done 206 tasks      | elapsed:    0.4s\n",
      "[Parallel(n_jobs=8)]: Done 207 tasks      | elapsed:    0.4s\n",
      "[Parallel(n_jobs=8)]: Done 208 tasks      | elapsed:    0.4s\n",
      "[Parallel(n_jobs=8)]: Done 209 tasks      | elapsed:    0.4s\n",
      "[Parallel(n_jobs=8)]: Done 210 tasks      | elapsed:    0.4s\n",
      "[Parallel(n_jobs=8)]: Done 211 tasks      | elapsed:    0.4s\n",
      "[Parallel(n_jobs=8)]: Done 212 tasks      | elapsed:    0.4s\n",
      "[Parallel(n_jobs=8)]: Done 213 tasks      | elapsed:    0.4s\n",
      "[Parallel(n_jobs=8)]: Done 214 tasks      | elapsed:    0.4s\n",
      "[Parallel(n_jobs=8)]: Done 215 tasks      | elapsed:    0.4s\n",
      "[Parallel(n_jobs=8)]: Done 216 tasks      | elapsed:    0.4s\n",
      "[Parallel(n_jobs=8)]: Done 217 tasks      | elapsed:    0.4s\n",
      "[Parallel(n_jobs=8)]: Done 218 tasks      | elapsed:    0.4s\n",
      "[Parallel(n_jobs=8)]: Done 219 tasks      | elapsed:    0.4s\n",
      "[Parallel(n_jobs=8)]: Done 220 tasks      | elapsed:    0.4s\n",
      "[Parallel(n_jobs=8)]: Done 221 tasks      | elapsed:    0.4s\n",
      "[Parallel(n_jobs=8)]: Done 222 tasks      | elapsed:    0.4s\n",
      "[Parallel(n_jobs=8)]: Done 223 tasks      | elapsed:    0.4s\n",
      "[Parallel(n_jobs=8)]: Done 224 tasks      | elapsed:    0.4s\n",
      "[Parallel(n_jobs=8)]: Done 225 tasks      | elapsed:    0.4s\n",
      "[Parallel(n_jobs=8)]: Done 226 tasks      | elapsed:    0.4s\n",
      "[Parallel(n_jobs=8)]: Done 227 tasks      | elapsed:    0.4s\n",
      "[Parallel(n_jobs=8)]: Done 228 tasks      | elapsed:    0.4s\n",
      "[Parallel(n_jobs=8)]: Done 229 tasks      | elapsed:    0.4s\n",
      "[Parallel(n_jobs=8)]: Done 230 tasks      | elapsed:    0.4s\n",
      "[Parallel(n_jobs=8)]: Done 231 tasks      | elapsed:    0.4s\n",
      "[Parallel(n_jobs=8)]: Done 232 tasks      | elapsed:    0.4s\n",
      "[Parallel(n_jobs=8)]: Done 233 tasks      | elapsed:    0.4s\n",
      "[Parallel(n_jobs=8)]: Done 234 tasks      | elapsed:    0.4s\n",
      "[Parallel(n_jobs=8)]: Done 235 tasks      | elapsed:    0.4s\n",
      "[Parallel(n_jobs=8)]: Done 236 tasks      | elapsed:    0.4s\n",
      "[Parallel(n_jobs=8)]: Done 237 tasks      | elapsed:    0.4s\n",
      "[Parallel(n_jobs=8)]: Done 238 tasks      | elapsed:    0.4s\n",
      "[Parallel(n_jobs=8)]: Done 239 tasks      | elapsed:    0.4s\n",
      "[Parallel(n_jobs=8)]: Done 240 tasks      | elapsed:    0.4s\n",
      "[Parallel(n_jobs=8)]: Done 241 tasks      | elapsed:    0.4s\n",
      "[Parallel(n_jobs=8)]: Done 242 tasks      | elapsed:    0.4s\n",
      "[Parallel(n_jobs=8)]: Done 243 tasks      | elapsed:    0.4s\n",
      "[Parallel(n_jobs=8)]: Done 244 tasks      | elapsed:    0.4s\n",
      "[Parallel(n_jobs=8)]: Done 245 tasks      | elapsed:    0.4s\n",
      "[Parallel(n_jobs=8)]: Done 246 tasks      | elapsed:    0.4s\n",
      "[Parallel(n_jobs=8)]: Done 247 tasks      | elapsed:    0.4s\n",
      "[Parallel(n_jobs=8)]: Done 248 tasks      | elapsed:    0.4s\n",
      "[Parallel(n_jobs=8)]: Done 249 tasks      | elapsed:    0.4s\n",
      "[Parallel(n_jobs=8)]: Done 250 tasks      | elapsed:    0.4s\n",
      "[Parallel(n_jobs=8)]: Done 251 tasks      | elapsed:    0.4s\n",
      "[Parallel(n_jobs=8)]: Done 252 tasks      | elapsed:    0.4s\n",
      "[Parallel(n_jobs=8)]: Done 253 tasks      | elapsed:    0.4s\n",
      "[Parallel(n_jobs=8)]: Done 254 tasks      | elapsed:    0.4s\n",
      "[Parallel(n_jobs=8)]: Done 255 tasks      | elapsed:    0.4s\n",
      "[Parallel(n_jobs=8)]: Done 256 tasks      | elapsed:    0.4s\n",
      "[Parallel(n_jobs=8)]: Done 257 tasks      | elapsed:    0.4s\n",
      "[Parallel(n_jobs=8)]: Done 258 tasks      | elapsed:    0.4s\n",
      "[Parallel(n_jobs=8)]: Done 259 tasks      | elapsed:    0.4s\n",
      "[Parallel(n_jobs=8)]: Done 260 tasks      | elapsed:    0.4s\n",
      "[Parallel(n_jobs=8)]: Done 261 tasks      | elapsed:    0.4s\n",
      "[Parallel(n_jobs=8)]: Done 262 tasks      | elapsed:    0.4s\n",
      "[Parallel(n_jobs=8)]: Done 263 tasks      | elapsed:    0.5s\n",
      "[Parallel(n_jobs=8)]: Done 264 tasks      | elapsed:    0.5s\n",
      "[Parallel(n_jobs=8)]: Done 265 tasks      | elapsed:    0.5s\n",
      "[Parallel(n_jobs=8)]: Done 266 tasks      | elapsed:    0.5s\n",
      "[Parallel(n_jobs=8)]: Done 267 tasks      | elapsed:    0.5s\n",
      "[Parallel(n_jobs=8)]: Done 268 tasks      | elapsed:    0.5s\n",
      "[Parallel(n_jobs=8)]: Done 269 tasks      | elapsed:    0.5s\n",
      "[Parallel(n_jobs=8)]: Done 270 tasks      | elapsed:    0.5s\n",
      "[Parallel(n_jobs=8)]: Done 271 tasks      | elapsed:    0.5s\n",
      "[Parallel(n_jobs=8)]: Done 272 tasks      | elapsed:    0.5s\n",
      "[Parallel(n_jobs=8)]: Done 273 tasks      | elapsed:    0.5s\n",
      "[Parallel(n_jobs=8)]: Done 274 tasks      | elapsed:    0.5s\n",
      "[Parallel(n_jobs=8)]: Done 275 tasks      | elapsed:    0.5s\n",
      "[Parallel(n_jobs=8)]: Done 276 tasks      | elapsed:    0.5s\n",
      "[Parallel(n_jobs=8)]: Done 277 tasks      | elapsed:    0.5s\n",
      "[Parallel(n_jobs=8)]: Done 278 tasks      | elapsed:    0.5s\n",
      "[Parallel(n_jobs=8)]: Done 279 tasks      | elapsed:    0.5s\n",
      "[Parallel(n_jobs=8)]: Done 280 tasks      | elapsed:    0.5s\n",
      "[Parallel(n_jobs=8)]: Done 281 tasks      | elapsed:    0.5s\n",
      "[Parallel(n_jobs=8)]: Done 282 tasks      | elapsed:    0.5s\n",
      "[Parallel(n_jobs=8)]: Done 283 tasks      | elapsed:    0.5s\n",
      "[Parallel(n_jobs=8)]: Done 284 tasks      | elapsed:    0.5s\n",
      "[Parallel(n_jobs=8)]: Done 285 tasks      | elapsed:    0.5s\n",
      "[Parallel(n_jobs=8)]: Done 286 tasks      | elapsed:    0.5s\n",
      "[Parallel(n_jobs=8)]: Done 287 tasks      | elapsed:    0.5s\n",
      "[Parallel(n_jobs=8)]: Done 288 tasks      | elapsed:    0.5s\n",
      "[Parallel(n_jobs=8)]: Done 289 tasks      | elapsed:    0.5s\n",
      "[Parallel(n_jobs=8)]: Done 290 tasks      | elapsed:    0.5s\n",
      "[Parallel(n_jobs=8)]: Done 291 tasks      | elapsed:    0.5s\n",
      "[Parallel(n_jobs=8)]: Done 292 tasks      | elapsed:    0.5s\n",
      "[Parallel(n_jobs=8)]: Done 293 tasks      | elapsed:    0.5s\n",
      "[Parallel(n_jobs=8)]: Done 294 tasks      | elapsed:    0.5s\n",
      "[Parallel(n_jobs=8)]: Done 295 tasks      | elapsed:    0.5s\n",
      "[Parallel(n_jobs=8)]: Done 296 tasks      | elapsed:    0.5s\n",
      "[Parallel(n_jobs=8)]: Done 297 tasks      | elapsed:    0.5s\n",
      "[Parallel(n_jobs=8)]: Done 298 tasks      | elapsed:    0.5s\n",
      "[Parallel(n_jobs=8)]: Done 299 tasks      | elapsed:    0.5s\n",
      "[Parallel(n_jobs=8)]: Done 300 tasks      | elapsed:    0.5s\n",
      "[Parallel(n_jobs=8)]: Done 301 tasks      | elapsed:    0.5s\n",
      "[Parallel(n_jobs=8)]: Done 302 tasks      | elapsed:    0.5s\n",
      "[Parallel(n_jobs=8)]: Done 303 tasks      | elapsed:    0.5s\n",
      "[Parallel(n_jobs=8)]: Done 304 tasks      | elapsed:    0.5s\n",
      "[Parallel(n_jobs=8)]: Done 305 tasks      | elapsed:    0.5s\n",
      "[Parallel(n_jobs=8)]: Done 306 tasks      | elapsed:    0.5s\n",
      "[Parallel(n_jobs=8)]: Done 307 tasks      | elapsed:    0.5s\n",
      "[Parallel(n_jobs=8)]: Done 308 tasks      | elapsed:    0.5s\n",
      "[Parallel(n_jobs=8)]: Done 309 tasks      | elapsed:    0.5s\n",
      "[Parallel(n_jobs=8)]: Done 310 tasks      | elapsed:    0.5s\n",
      "[Parallel(n_jobs=8)]: Done 311 tasks      | elapsed:    0.6s\n",
      "[Parallel(n_jobs=8)]: Done 312 tasks      | elapsed:    0.6s\n",
      "[Parallel(n_jobs=8)]: Done 313 tasks      | elapsed:    0.6s\n",
      "[Parallel(n_jobs=8)]: Done 314 tasks      | elapsed:    0.6s\n",
      "[Parallel(n_jobs=8)]: Done 315 tasks      | elapsed:    0.6s\n",
      "[Parallel(n_jobs=8)]: Done 316 tasks      | elapsed:    0.6s\n",
      "[Parallel(n_jobs=8)]: Done 317 tasks      | elapsed:    0.6s\n",
      "[Parallel(n_jobs=8)]: Done 318 tasks      | elapsed:    0.6s\n",
      "[Parallel(n_jobs=8)]: Done 319 tasks      | elapsed:    0.6s\n",
      "[Parallel(n_jobs=8)]: Done 320 tasks      | elapsed:    0.6s\n",
      "[Parallel(n_jobs=8)]: Done 321 tasks      | elapsed:    0.6s\n",
      "[Parallel(n_jobs=8)]: Done 322 tasks      | elapsed:    0.6s\n",
      "[Parallel(n_jobs=8)]: Done 323 tasks      | elapsed:    0.6s\n",
      "[Parallel(n_jobs=8)]: Done 324 tasks      | elapsed:    0.6s\n",
      "[Parallel(n_jobs=8)]: Done 325 tasks      | elapsed:    0.6s\n",
      "[Parallel(n_jobs=8)]: Done 326 tasks      | elapsed:    0.6s\n",
      "[Parallel(n_jobs=8)]: Done 327 tasks      | elapsed:    0.6s\n",
      "[Parallel(n_jobs=8)]: Done 328 tasks      | elapsed:    0.6s\n",
      "[Parallel(n_jobs=8)]: Done 329 tasks      | elapsed:    0.6s\n",
      "[Parallel(n_jobs=8)]: Done 330 tasks      | elapsed:    0.6s\n",
      "[Parallel(n_jobs=8)]: Done 331 tasks      | elapsed:    0.6s\n",
      "[Parallel(n_jobs=8)]: Done 332 tasks      | elapsed:    0.6s\n",
      "[Parallel(n_jobs=8)]: Done 333 tasks      | elapsed:    0.6s\n",
      "[Parallel(n_jobs=8)]: Done 334 tasks      | elapsed:    0.6s\n",
      "[Parallel(n_jobs=8)]: Done 335 tasks      | elapsed:    0.6s\n",
      "[Parallel(n_jobs=8)]: Done 336 tasks      | elapsed:    0.6s\n",
      "[Parallel(n_jobs=8)]: Done 337 tasks      | elapsed:    0.6s\n",
      "[Parallel(n_jobs=8)]: Done 338 tasks      | elapsed:    0.6s\n",
      "[Parallel(n_jobs=8)]: Done 339 tasks      | elapsed:    0.6s\n",
      "[Parallel(n_jobs=8)]: Done 340 tasks      | elapsed:    0.6s\n",
      "[Parallel(n_jobs=8)]: Done 341 tasks      | elapsed:    0.6s\n",
      "[Parallel(n_jobs=8)]: Done 342 tasks      | elapsed:    0.6s\n",
      "[Parallel(n_jobs=8)]: Done 343 tasks      | elapsed:    0.6s\n",
      "[Parallel(n_jobs=8)]: Done 344 tasks      | elapsed:    0.6s\n",
      "[Parallel(n_jobs=8)]: Done 345 tasks      | elapsed:    0.6s\n",
      "[Parallel(n_jobs=8)]: Done 346 tasks      | elapsed:    0.6s\n",
      "[Parallel(n_jobs=8)]: Done 347 tasks      | elapsed:    0.6s\n",
      "[Parallel(n_jobs=8)]: Done 348 tasks      | elapsed:    0.6s\n",
      "[Parallel(n_jobs=8)]: Done 349 tasks      | elapsed:    0.6s\n",
      "[Parallel(n_jobs=8)]: Done 350 tasks      | elapsed:    0.6s\n",
      "[Parallel(n_jobs=8)]: Done 351 tasks      | elapsed:    0.6s\n",
      "[Parallel(n_jobs=8)]: Done 352 tasks      | elapsed:    0.6s\n"
     ]
    },
    {
     "name": "stderr",
     "output_type": "stream",
     "text": [
      "[Parallel(n_jobs=8)]: Done 353 tasks      | elapsed:    0.6s\n",
      "[Parallel(n_jobs=8)]: Done 354 tasks      | elapsed:    0.6s\n",
      "[Parallel(n_jobs=8)]: Done 355 tasks      | elapsed:    0.6s\n",
      "[Parallel(n_jobs=8)]: Done 356 tasks      | elapsed:    0.6s\n",
      "[Parallel(n_jobs=8)]: Done 357 tasks      | elapsed:    0.6s\n",
      "[Parallel(n_jobs=8)]: Done 358 tasks      | elapsed:    0.6s\n",
      "[Parallel(n_jobs=8)]: Done 359 tasks      | elapsed:    0.6s\n",
      "[Parallel(n_jobs=8)]: Done 360 tasks      | elapsed:    0.6s\n",
      "[Parallel(n_jobs=8)]: Done 361 tasks      | elapsed:    0.6s\n",
      "[Parallel(n_jobs=8)]: Done 362 tasks      | elapsed:    0.6s\n",
      "[Parallel(n_jobs=8)]: Done 363 tasks      | elapsed:    0.6s\n",
      "[Parallel(n_jobs=8)]: Done 364 tasks      | elapsed:    0.6s\n",
      "[Parallel(n_jobs=8)]: Done 365 tasks      | elapsed:    0.6s\n",
      "[Parallel(n_jobs=8)]: Done 366 tasks      | elapsed:    0.6s\n",
      "[Parallel(n_jobs=8)]: Done 367 tasks      | elapsed:    0.6s\n",
      "[Parallel(n_jobs=8)]: Done 368 tasks      | elapsed:    0.6s\n",
      "[Parallel(n_jobs=8)]: Done 369 tasks      | elapsed:    0.6s\n",
      "[Parallel(n_jobs=8)]: Done 370 tasks      | elapsed:    0.6s\n",
      "[Parallel(n_jobs=8)]: Done 371 tasks      | elapsed:    0.6s\n",
      "[Parallel(n_jobs=8)]: Done 372 tasks      | elapsed:    0.6s\n",
      "[Parallel(n_jobs=8)]: Done 373 tasks      | elapsed:    0.7s\n",
      "[Parallel(n_jobs=8)]: Done 374 tasks      | elapsed:    0.7s\n",
      "[Parallel(n_jobs=8)]: Done 375 tasks      | elapsed:    0.7s\n",
      "[Parallel(n_jobs=8)]: Done 376 tasks      | elapsed:    0.7s\n",
      "[Parallel(n_jobs=8)]: Done 377 tasks      | elapsed:    0.7s\n",
      "[Parallel(n_jobs=8)]: Done 378 tasks      | elapsed:    0.7s\n",
      "[Parallel(n_jobs=8)]: Done 379 tasks      | elapsed:    0.7s\n",
      "[Parallel(n_jobs=8)]: Done 380 tasks      | elapsed:    0.7s\n",
      "[Parallel(n_jobs=8)]: Done 381 tasks      | elapsed:    0.7s\n",
      "[Parallel(n_jobs=8)]: Done 382 tasks      | elapsed:    0.7s\n",
      "[Parallel(n_jobs=8)]: Done 383 tasks      | elapsed:    0.7s\n",
      "[Parallel(n_jobs=8)]: Done 384 tasks      | elapsed:    0.7s\n",
      "[Parallel(n_jobs=8)]: Done 385 tasks      | elapsed:    0.7s\n",
      "[Parallel(n_jobs=8)]: Done 386 tasks      | elapsed:    0.7s\n",
      "[Parallel(n_jobs=8)]: Done 387 tasks      | elapsed:    0.7s\n",
      "[Parallel(n_jobs=8)]: Done 388 tasks      | elapsed:    0.7s\n",
      "[Parallel(n_jobs=8)]: Done 389 tasks      | elapsed:    0.7s\n",
      "[Parallel(n_jobs=8)]: Done 390 tasks      | elapsed:    0.7s\n",
      "[Parallel(n_jobs=8)]: Done 391 tasks      | elapsed:    0.7s\n",
      "[Parallel(n_jobs=8)]: Done 392 tasks      | elapsed:    0.7s\n",
      "[Parallel(n_jobs=8)]: Done 393 tasks      | elapsed:    0.7s\n",
      "[Parallel(n_jobs=8)]: Done 394 tasks      | elapsed:    0.7s\n",
      "[Parallel(n_jobs=8)]: Done 395 tasks      | elapsed:    0.7s\n",
      "[Parallel(n_jobs=8)]: Done 396 tasks      | elapsed:    0.7s\n",
      "[Parallel(n_jobs=8)]: Done 397 tasks      | elapsed:    0.7s\n",
      "[Parallel(n_jobs=8)]: Done 398 tasks      | elapsed:    0.7s\n",
      "[Parallel(n_jobs=8)]: Done 399 tasks      | elapsed:    0.7s\n",
      "[Parallel(n_jobs=8)]: Done 400 tasks      | elapsed:    0.7s\n",
      "[Parallel(n_jobs=8)]: Done 401 tasks      | elapsed:    0.7s\n",
      "[Parallel(n_jobs=8)]: Done 402 tasks      | elapsed:    0.7s\n",
      "[Parallel(n_jobs=8)]: Done 403 tasks      | elapsed:    0.7s\n",
      "[Parallel(n_jobs=8)]: Done 404 tasks      | elapsed:    0.7s\n",
      "[Parallel(n_jobs=8)]: Done 405 tasks      | elapsed:    0.7s\n",
      "[Parallel(n_jobs=8)]: Done 406 tasks      | elapsed:    0.7s\n",
      "[Parallel(n_jobs=8)]: Done 407 tasks      | elapsed:    0.7s\n",
      "[Parallel(n_jobs=8)]: Done 408 tasks      | elapsed:    0.7s\n",
      "[Parallel(n_jobs=8)]: Done 409 tasks      | elapsed:    0.7s\n",
      "[Parallel(n_jobs=8)]: Done 410 tasks      | elapsed:    0.7s\n",
      "[Parallel(n_jobs=8)]: Done 411 tasks      | elapsed:    0.7s\n",
      "[Parallel(n_jobs=8)]: Done 412 tasks      | elapsed:    0.7s\n",
      "[Parallel(n_jobs=8)]: Done 413 tasks      | elapsed:    0.7s\n",
      "[Parallel(n_jobs=8)]: Done 414 tasks      | elapsed:    0.7s\n",
      "[Parallel(n_jobs=8)]: Done 415 tasks      | elapsed:    0.7s\n",
      "[Parallel(n_jobs=8)]: Done 416 tasks      | elapsed:    0.7s\n",
      "[Parallel(n_jobs=8)]: Done 417 tasks      | elapsed:    0.7s\n",
      "[Parallel(n_jobs=8)]: Done 418 tasks      | elapsed:    0.7s\n",
      "[Parallel(n_jobs=8)]: Done 419 tasks      | elapsed:    0.7s\n",
      "[Parallel(n_jobs=8)]: Done 420 tasks      | elapsed:    0.7s\n",
      "[Parallel(n_jobs=8)]: Done 421 tasks      | elapsed:    0.7s\n",
      "[Parallel(n_jobs=8)]: Done 422 tasks      | elapsed:    0.7s\n",
      "[Parallel(n_jobs=8)]: Done 423 tasks      | elapsed:    0.7s\n",
      "[Parallel(n_jobs=8)]: Done 424 tasks      | elapsed:    0.7s\n",
      "[Parallel(n_jobs=8)]: Done 425 tasks      | elapsed:    0.7s\n",
      "[Parallel(n_jobs=8)]: Done 426 tasks      | elapsed:    0.7s\n",
      "[Parallel(n_jobs=8)]: Done 427 tasks      | elapsed:    0.7s\n",
      "[Parallel(n_jobs=8)]: Done 428 tasks      | elapsed:    0.8s\n",
      "[Parallel(n_jobs=8)]: Done 429 tasks      | elapsed:    0.8s\n",
      "[Parallel(n_jobs=8)]: Done 430 tasks      | elapsed:    0.8s\n",
      "[Parallel(n_jobs=8)]: Done 431 tasks      | elapsed:    0.8s\n",
      "[Parallel(n_jobs=8)]: Done 432 tasks      | elapsed:    0.8s\n",
      "[Parallel(n_jobs=8)]: Done 433 tasks      | elapsed:    0.8s\n",
      "[Parallel(n_jobs=8)]: Done 434 tasks      | elapsed:    0.8s\n",
      "[Parallel(n_jobs=8)]: Done 435 tasks      | elapsed:    0.8s\n",
      "[Parallel(n_jobs=8)]: Done 436 tasks      | elapsed:    0.8s\n",
      "[Parallel(n_jobs=8)]: Done 437 tasks      | elapsed:    0.8s\n",
      "[Parallel(n_jobs=8)]: Done 438 tasks      | elapsed:    0.8s\n",
      "[Parallel(n_jobs=8)]: Done 439 tasks      | elapsed:    0.8s\n",
      "[Parallel(n_jobs=8)]: Done 440 tasks      | elapsed:    0.8s\n",
      "[Parallel(n_jobs=8)]: Done 441 tasks      | elapsed:    0.8s\n",
      "[Parallel(n_jobs=8)]: Done 442 tasks      | elapsed:    0.8s\n",
      "[Parallel(n_jobs=8)]: Done 443 tasks      | elapsed:    0.8s\n",
      "[Parallel(n_jobs=8)]: Done 444 tasks      | elapsed:    0.8s\n",
      "[Parallel(n_jobs=8)]: Done 445 tasks      | elapsed:    0.8s\n",
      "[Parallel(n_jobs=8)]: Done 446 tasks      | elapsed:    0.8s\n",
      "[Parallel(n_jobs=8)]: Done 447 tasks      | elapsed:    0.8s\n",
      "[Parallel(n_jobs=8)]: Done 448 tasks      | elapsed:    0.8s\n",
      "[Parallel(n_jobs=8)]: Done 449 tasks      | elapsed:    0.8s\n",
      "[Parallel(n_jobs=8)]: Done 450 tasks      | elapsed:    0.8s\n",
      "[Parallel(n_jobs=8)]: Done 451 tasks      | elapsed:    0.8s\n",
      "[Parallel(n_jobs=8)]: Done 452 tasks      | elapsed:    0.8s\n",
      "[Parallel(n_jobs=8)]: Done 453 tasks      | elapsed:    0.8s\n",
      "[Parallel(n_jobs=8)]: Done 454 tasks      | elapsed:    0.8s\n",
      "[Parallel(n_jobs=8)]: Done 455 tasks      | elapsed:    0.8s\n",
      "[Parallel(n_jobs=8)]: Done 456 tasks      | elapsed:    0.8s\n",
      "[Parallel(n_jobs=8)]: Done 457 tasks      | elapsed:    0.8s\n",
      "[Parallel(n_jobs=8)]: Done 458 tasks      | elapsed:    0.8s\n",
      "[Parallel(n_jobs=8)]: Done 459 tasks      | elapsed:    0.8s\n",
      "[Parallel(n_jobs=8)]: Done 460 tasks      | elapsed:    0.8s\n",
      "[Parallel(n_jobs=8)]: Done 461 tasks      | elapsed:    0.8s\n",
      "[Parallel(n_jobs=8)]: Done 462 tasks      | elapsed:    0.8s\n",
      "[Parallel(n_jobs=8)]: Done 463 tasks      | elapsed:    0.8s\n",
      "[Parallel(n_jobs=8)]: Done 464 tasks      | elapsed:    0.8s\n",
      "[Parallel(n_jobs=8)]: Done 465 tasks      | elapsed:    0.8s\n",
      "[Parallel(n_jobs=8)]: Done 466 tasks      | elapsed:    0.8s\n",
      "[Parallel(n_jobs=8)]: Done 467 tasks      | elapsed:    0.8s\n",
      "[Parallel(n_jobs=8)]: Done 468 tasks      | elapsed:    0.8s\n",
      "[Parallel(n_jobs=8)]: Done 469 tasks      | elapsed:    0.8s\n",
      "[Parallel(n_jobs=8)]: Done 470 tasks      | elapsed:    0.8s\n",
      "[Parallel(n_jobs=8)]: Done 471 tasks      | elapsed:    0.8s\n",
      "[Parallel(n_jobs=8)]: Done 472 tasks      | elapsed:    0.8s\n",
      "[Parallel(n_jobs=8)]: Done 473 tasks      | elapsed:    0.8s\n",
      "[Parallel(n_jobs=8)]: Done 474 tasks      | elapsed:    0.8s\n",
      "[Parallel(n_jobs=8)]: Done 475 tasks      | elapsed:    0.8s\n",
      "[Parallel(n_jobs=8)]: Done 476 tasks      | elapsed:    0.8s\n",
      "[Parallel(n_jobs=8)]: Done 477 tasks      | elapsed:    0.8s\n",
      "[Parallel(n_jobs=8)]: Done 478 tasks      | elapsed:    0.8s\n",
      "[Parallel(n_jobs=8)]: Done 479 tasks      | elapsed:    0.8s\n",
      "[Parallel(n_jobs=8)]: Done 480 tasks      | elapsed:    0.8s\n",
      "[Parallel(n_jobs=8)]: Done 481 tasks      | elapsed:    0.8s\n",
      "[Parallel(n_jobs=8)]: Done 482 tasks      | elapsed:    0.8s\n",
      "[Parallel(n_jobs=8)]: Done 483 tasks      | elapsed:    0.8s\n",
      "[Parallel(n_jobs=8)]: Done 484 tasks      | elapsed:    0.8s\n",
      "[Parallel(n_jobs=8)]: Done 485 tasks      | elapsed:    0.8s\n",
      "[Parallel(n_jobs=8)]: Done 486 tasks      | elapsed:    0.8s\n",
      "[Parallel(n_jobs=8)]: Done 487 tasks      | elapsed:    0.9s\n",
      "[Parallel(n_jobs=8)]: Done 488 tasks      | elapsed:    0.9s\n",
      "[Parallel(n_jobs=8)]: Done 489 tasks      | elapsed:    0.9s\n",
      "[Parallel(n_jobs=8)]: Done 490 tasks      | elapsed:    0.9s\n",
      "[Parallel(n_jobs=8)]: Done 491 tasks      | elapsed:    0.9s\n",
      "[Parallel(n_jobs=8)]: Done 492 tasks      | elapsed:    0.9s\n",
      "[Parallel(n_jobs=8)]: Done 493 tasks      | elapsed:    0.9s\n",
      "[Parallel(n_jobs=8)]: Done 494 tasks      | elapsed:    0.9s\n",
      "[Parallel(n_jobs=8)]: Done 495 tasks      | elapsed:    0.9s\n",
      "[Parallel(n_jobs=8)]: Done 496 tasks      | elapsed:    0.9s\n",
      "[Parallel(n_jobs=8)]: Done 497 tasks      | elapsed:    0.9s\n",
      "[Parallel(n_jobs=8)]: Done 498 tasks      | elapsed:    0.9s\n",
      "[Parallel(n_jobs=8)]: Done 499 tasks      | elapsed:    0.9s\n",
      "[Parallel(n_jobs=8)]: Done 500 tasks      | elapsed:    0.9s\n",
      "[Parallel(n_jobs=8)]: Done 501 tasks      | elapsed:    0.9s\n",
      "[Parallel(n_jobs=8)]: Done 502 tasks      | elapsed:    0.9s\n",
      "[Parallel(n_jobs=8)]: Done 503 tasks      | elapsed:    0.9s\n",
      "[Parallel(n_jobs=8)]: Done 504 tasks      | elapsed:    0.9s\n",
      "[Parallel(n_jobs=8)]: Done 505 tasks      | elapsed:    0.9s\n",
      "[Parallel(n_jobs=8)]: Done 506 tasks      | elapsed:    0.9s\n",
      "[Parallel(n_jobs=8)]: Done 507 tasks      | elapsed:    0.9s\n",
      "[Parallel(n_jobs=8)]: Done 508 tasks      | elapsed:    0.9s\n",
      "[Parallel(n_jobs=8)]: Done 509 tasks      | elapsed:    0.9s\n",
      "[Parallel(n_jobs=8)]: Done 510 tasks      | elapsed:    0.9s\n",
      "[Parallel(n_jobs=8)]: Done 511 tasks      | elapsed:    0.9s\n",
      "[Parallel(n_jobs=8)]: Done 512 tasks      | elapsed:    0.9s\n",
      "[Parallel(n_jobs=8)]: Done 513 tasks      | elapsed:    0.9s\n",
      "[Parallel(n_jobs=8)]: Done 514 tasks      | elapsed:    0.9s\n",
      "[Parallel(n_jobs=8)]: Done 515 tasks      | elapsed:    0.9s\n",
      "[Parallel(n_jobs=8)]: Done 516 tasks      | elapsed:    0.9s\n",
      "[Parallel(n_jobs=8)]: Done 517 tasks      | elapsed:    0.9s\n",
      "[Parallel(n_jobs=8)]: Done 518 tasks      | elapsed:    0.9s\n",
      "[Parallel(n_jobs=8)]: Done 519 tasks      | elapsed:    0.9s\n",
      "[Parallel(n_jobs=8)]: Done 520 tasks      | elapsed:    0.9s\n",
      "[Parallel(n_jobs=8)]: Done 521 tasks      | elapsed:    0.9s\n",
      "[Parallel(n_jobs=8)]: Done 522 tasks      | elapsed:    0.9s\n",
      "[Parallel(n_jobs=8)]: Done 523 tasks      | elapsed:    0.9s\n",
      "[Parallel(n_jobs=8)]: Done 524 tasks      | elapsed:    0.9s\n",
      "[Parallel(n_jobs=8)]: Done 525 tasks      | elapsed:    0.9s\n",
      "[Parallel(n_jobs=8)]: Done 526 tasks      | elapsed:    0.9s\n",
      "[Parallel(n_jobs=8)]: Done 527 tasks      | elapsed:    0.9s\n",
      "[Parallel(n_jobs=8)]: Done 528 tasks      | elapsed:    0.9s\n",
      "[Parallel(n_jobs=8)]: Done 529 tasks      | elapsed:    0.9s\n",
      "[Parallel(n_jobs=8)]: Done 530 tasks      | elapsed:    0.9s\n",
      "[Parallel(n_jobs=8)]: Done 531 tasks      | elapsed:    0.9s\n",
      "[Parallel(n_jobs=8)]: Done 532 tasks      | elapsed:    0.9s\n",
      "[Parallel(n_jobs=8)]: Done 533 tasks      | elapsed:    0.9s\n",
      "[Parallel(n_jobs=8)]: Done 534 tasks      | elapsed:    0.9s\n",
      "[Parallel(n_jobs=8)]: Done 535 tasks      | elapsed:    0.9s\n",
      "[Parallel(n_jobs=8)]: Done 536 tasks      | elapsed:    0.9s\n",
      "[Parallel(n_jobs=8)]: Done 537 tasks      | elapsed:    0.9s\n",
      "[Parallel(n_jobs=8)]: Done 538 tasks      | elapsed:    0.9s\n",
      "[Parallel(n_jobs=8)]: Done 539 tasks      | elapsed:    0.9s\n",
      "[Parallel(n_jobs=8)]: Done 540 tasks      | elapsed:    0.9s\n",
      "[Parallel(n_jobs=8)]: Done 541 tasks      | elapsed:    0.9s\n",
      "[Parallel(n_jobs=8)]: Done 542 tasks      | elapsed:    0.9s\n",
      "[Parallel(n_jobs=8)]: Done 543 tasks      | elapsed:    0.9s\n",
      "[Parallel(n_jobs=8)]: Done 544 tasks      | elapsed:    0.9s\n",
      "[Parallel(n_jobs=8)]: Done 545 tasks      | elapsed:    0.9s\n",
      "[Parallel(n_jobs=8)]: Done 546 tasks      | elapsed:    0.9s\n",
      "[Parallel(n_jobs=8)]: Done 547 tasks      | elapsed:    0.9s\n",
      "[Parallel(n_jobs=8)]: Done 548 tasks      | elapsed:    1.0s\n",
      "[Parallel(n_jobs=8)]: Done 549 tasks      | elapsed:    1.0s\n",
      "[Parallel(n_jobs=8)]: Done 550 tasks      | elapsed:    1.0s\n",
      "[Parallel(n_jobs=8)]: Done 551 tasks      | elapsed:    1.0s\n",
      "[Parallel(n_jobs=8)]: Done 552 tasks      | elapsed:    1.0s\n",
      "[Parallel(n_jobs=8)]: Done 553 tasks      | elapsed:    1.0s\n",
      "[Parallel(n_jobs=8)]: Done 554 tasks      | elapsed:    1.0s\n",
      "[Parallel(n_jobs=8)]: Done 555 tasks      | elapsed:    1.0s\n",
      "[Parallel(n_jobs=8)]: Done 556 tasks      | elapsed:    1.0s\n",
      "[Parallel(n_jobs=8)]: Done 557 tasks      | elapsed:    1.0s\n",
      "[Parallel(n_jobs=8)]: Done 558 tasks      | elapsed:    1.0s\n",
      "[Parallel(n_jobs=8)]: Done 559 tasks      | elapsed:    1.0s\n",
      "[Parallel(n_jobs=8)]: Done 560 tasks      | elapsed:    1.0s\n",
      "[Parallel(n_jobs=8)]: Done 561 tasks      | elapsed:    1.0s\n",
      "[Parallel(n_jobs=8)]: Done 562 tasks      | elapsed:    1.0s\n",
      "[Parallel(n_jobs=8)]: Done 563 tasks      | elapsed:    1.0s\n",
      "[Parallel(n_jobs=8)]: Done 564 tasks      | elapsed:    1.0s\n",
      "[Parallel(n_jobs=8)]: Done 565 tasks      | elapsed:    1.0s\n",
      "[Parallel(n_jobs=8)]: Done 566 tasks      | elapsed:    1.0s\n"
     ]
    },
    {
     "name": "stderr",
     "output_type": "stream",
     "text": [
      "[Parallel(n_jobs=8)]: Done 567 tasks      | elapsed:    1.0s\n",
      "[Parallel(n_jobs=8)]: Done 568 tasks      | elapsed:    1.0s\n",
      "[Parallel(n_jobs=8)]: Done 569 tasks      | elapsed:    1.0s\n",
      "[Parallel(n_jobs=8)]: Done 570 tasks      | elapsed:    1.0s\n",
      "[Parallel(n_jobs=8)]: Done 571 tasks      | elapsed:    1.0s\n",
      "[Parallel(n_jobs=8)]: Done 572 tasks      | elapsed:    1.0s\n",
      "[Parallel(n_jobs=8)]: Done 573 tasks      | elapsed:    1.0s\n",
      "[Parallel(n_jobs=8)]: Done 574 tasks      | elapsed:    1.0s\n",
      "[Parallel(n_jobs=8)]: Done 575 tasks      | elapsed:    1.0s\n",
      "[Parallel(n_jobs=8)]: Done 576 tasks      | elapsed:    1.0s\n",
      "[Parallel(n_jobs=8)]: Done 577 tasks      | elapsed:    1.0s\n",
      "[Parallel(n_jobs=8)]: Done 578 tasks      | elapsed:    1.0s\n",
      "[Parallel(n_jobs=8)]: Done 579 tasks      | elapsed:    1.0s\n",
      "[Parallel(n_jobs=8)]: Done 580 tasks      | elapsed:    1.0s\n",
      "[Parallel(n_jobs=8)]: Done 581 tasks      | elapsed:    1.0s\n",
      "[Parallel(n_jobs=8)]: Done 582 tasks      | elapsed:    1.0s\n",
      "[Parallel(n_jobs=8)]: Done 583 tasks      | elapsed:    1.0s\n",
      "[Parallel(n_jobs=8)]: Done 584 tasks      | elapsed:    1.0s\n",
      "[Parallel(n_jobs=8)]: Done 585 tasks      | elapsed:    1.0s\n",
      "[Parallel(n_jobs=8)]: Done 586 tasks      | elapsed:    1.0s\n",
      "[Parallel(n_jobs=8)]: Done 587 tasks      | elapsed:    1.0s\n",
      "[Parallel(n_jobs=8)]: Done 588 tasks      | elapsed:    1.0s\n",
      "[Parallel(n_jobs=8)]: Done 589 tasks      | elapsed:    1.0s\n",
      "[Parallel(n_jobs=8)]: Done 590 tasks      | elapsed:    1.0s\n",
      "[Parallel(n_jobs=8)]: Done 591 tasks      | elapsed:    1.0s\n",
      "[Parallel(n_jobs=8)]: Done 592 tasks      | elapsed:    1.0s\n",
      "[Parallel(n_jobs=8)]: Done 593 tasks      | elapsed:    1.0s\n",
      "[Parallel(n_jobs=8)]: Done 594 tasks      | elapsed:    1.0s\n",
      "[Parallel(n_jobs=8)]: Done 595 tasks      | elapsed:    1.0s\n",
      "[Parallel(n_jobs=8)]: Done 596 tasks      | elapsed:    1.0s\n",
      "[Parallel(n_jobs=8)]: Done 597 tasks      | elapsed:    1.0s\n",
      "[Parallel(n_jobs=8)]: Done 598 tasks      | elapsed:    1.0s\n",
      "[Parallel(n_jobs=8)]: Done 599 tasks      | elapsed:    1.0s\n",
      "[Parallel(n_jobs=8)]: Done 600 tasks      | elapsed:    1.0s\n",
      "[Parallel(n_jobs=8)]: Done 601 tasks      | elapsed:    1.0s\n",
      "[Parallel(n_jobs=8)]: Done 602 tasks      | elapsed:    1.0s\n",
      "[Parallel(n_jobs=8)]: Done 603 tasks      | elapsed:    1.0s\n",
      "[Parallel(n_jobs=8)]: Done 604 tasks      | elapsed:    1.0s\n",
      "[Parallel(n_jobs=8)]: Done 605 tasks      | elapsed:    1.1s\n",
      "[Parallel(n_jobs=8)]: Done 606 tasks      | elapsed:    1.1s\n",
      "[Parallel(n_jobs=8)]: Done 607 tasks      | elapsed:    1.1s\n",
      "[Parallel(n_jobs=8)]: Done 608 tasks      | elapsed:    1.1s\n",
      "[Parallel(n_jobs=8)]: Done 609 tasks      | elapsed:    1.1s\n",
      "[Parallel(n_jobs=8)]: Done 610 tasks      | elapsed:    1.1s\n",
      "[Parallel(n_jobs=8)]: Done 611 tasks      | elapsed:    1.1s\n",
      "[Parallel(n_jobs=8)]: Done 612 tasks      | elapsed:    1.1s\n",
      "[Parallel(n_jobs=8)]: Done 613 tasks      | elapsed:    1.1s\n",
      "[Parallel(n_jobs=8)]: Done 614 tasks      | elapsed:    1.1s\n",
      "[Parallel(n_jobs=8)]: Done 615 tasks      | elapsed:    1.1s\n",
      "[Parallel(n_jobs=8)]: Done 616 tasks      | elapsed:    1.1s\n",
      "[Parallel(n_jobs=8)]: Done 617 tasks      | elapsed:    1.1s\n",
      "[Parallel(n_jobs=8)]: Done 618 tasks      | elapsed:    1.1s\n",
      "[Parallel(n_jobs=8)]: Done 619 tasks      | elapsed:    1.1s\n",
      "[Parallel(n_jobs=8)]: Done 620 tasks      | elapsed:    1.1s\n",
      "[Parallel(n_jobs=8)]: Done 621 tasks      | elapsed:    1.1s\n",
      "[Parallel(n_jobs=8)]: Done 622 tasks      | elapsed:    1.1s\n",
      "[Parallel(n_jobs=8)]: Done 623 tasks      | elapsed:    1.1s\n",
      "[Parallel(n_jobs=8)]: Done 624 tasks      | elapsed:    1.1s\n",
      "[Parallel(n_jobs=8)]: Done 625 tasks      | elapsed:    1.1s\n",
      "[Parallel(n_jobs=8)]: Done 626 tasks      | elapsed:    1.1s\n",
      "[Parallel(n_jobs=8)]: Done 627 tasks      | elapsed:    1.1s\n",
      "[Parallel(n_jobs=8)]: Done 628 tasks      | elapsed:    1.1s\n",
      "[Parallel(n_jobs=8)]: Done 629 tasks      | elapsed:    1.1s\n",
      "[Parallel(n_jobs=8)]: Done 630 tasks      | elapsed:    1.1s\n",
      "[Parallel(n_jobs=8)]: Done 631 tasks      | elapsed:    1.1s\n",
      "[Parallel(n_jobs=8)]: Done 632 tasks      | elapsed:    1.1s\n",
      "[Parallel(n_jobs=8)]: Done 633 tasks      | elapsed:    1.1s\n",
      "[Parallel(n_jobs=8)]: Done 634 tasks      | elapsed:    1.1s\n",
      "[Parallel(n_jobs=8)]: Done 635 tasks      | elapsed:    1.1s\n",
      "[Parallel(n_jobs=8)]: Done 636 tasks      | elapsed:    1.1s\n",
      "[Parallel(n_jobs=8)]: Done 637 tasks      | elapsed:    1.1s\n",
      "[Parallel(n_jobs=8)]: Done 638 tasks      | elapsed:    1.1s\n",
      "[Parallel(n_jobs=8)]: Done 639 tasks      | elapsed:    1.1s\n",
      "[Parallel(n_jobs=8)]: Done 640 tasks      | elapsed:    1.1s\n",
      "[Parallel(n_jobs=8)]: Done 641 tasks      | elapsed:    1.1s\n",
      "[Parallel(n_jobs=8)]: Done 642 tasks      | elapsed:    1.1s\n",
      "[Parallel(n_jobs=8)]: Done 643 tasks      | elapsed:    1.1s\n",
      "[Parallel(n_jobs=8)]: Done 644 tasks      | elapsed:    1.1s\n",
      "[Parallel(n_jobs=8)]: Done 645 tasks      | elapsed:    1.1s\n",
      "[Parallel(n_jobs=8)]: Done 646 tasks      | elapsed:    1.1s\n",
      "[Parallel(n_jobs=8)]: Done 647 tasks      | elapsed:    1.1s\n",
      "[Parallel(n_jobs=8)]: Done 648 tasks      | elapsed:    1.1s\n",
      "[Parallel(n_jobs=8)]: Done 649 tasks      | elapsed:    1.1s\n",
      "[Parallel(n_jobs=8)]: Done 650 tasks      | elapsed:    1.1s\n",
      "[Parallel(n_jobs=8)]: Done 651 tasks      | elapsed:    1.1s\n",
      "[Parallel(n_jobs=8)]: Done 652 tasks      | elapsed:    1.1s\n",
      "[Parallel(n_jobs=8)]: Done 653 tasks      | elapsed:    1.1s\n",
      "[Parallel(n_jobs=8)]: Done 654 tasks      | elapsed:    1.2s\n",
      "[Parallel(n_jobs=8)]: Done 655 tasks      | elapsed:    1.2s\n",
      "[Parallel(n_jobs=8)]: Done 656 tasks      | elapsed:    1.2s\n",
      "[Parallel(n_jobs=8)]: Done 657 tasks      | elapsed:    1.2s\n",
      "[Parallel(n_jobs=8)]: Done 658 tasks      | elapsed:    1.2s\n",
      "[Parallel(n_jobs=8)]: Done 659 tasks      | elapsed:    1.2s\n",
      "[Parallel(n_jobs=8)]: Done 660 tasks      | elapsed:    1.2s\n",
      "[Parallel(n_jobs=8)]: Done 661 tasks      | elapsed:    1.2s\n",
      "[Parallel(n_jobs=8)]: Done 662 tasks      | elapsed:    1.2s\n",
      "[Parallel(n_jobs=8)]: Done 663 tasks      | elapsed:    1.2s\n",
      "[Parallel(n_jobs=8)]: Done 664 tasks      | elapsed:    1.2s\n",
      "[Parallel(n_jobs=8)]: Done 665 tasks      | elapsed:    1.2s\n",
      "[Parallel(n_jobs=8)]: Done 666 tasks      | elapsed:    1.2s\n",
      "[Parallel(n_jobs=8)]: Done 667 tasks      | elapsed:    1.2s\n",
      "[Parallel(n_jobs=8)]: Done 668 tasks      | elapsed:    1.2s\n",
      "[Parallel(n_jobs=8)]: Done 669 tasks      | elapsed:    1.2s\n",
      "[Parallel(n_jobs=8)]: Done 670 tasks      | elapsed:    1.2s\n",
      "[Parallel(n_jobs=8)]: Done 671 tasks      | elapsed:    1.2s\n",
      "[Parallel(n_jobs=8)]: Done 672 tasks      | elapsed:    1.2s\n",
      "[Parallel(n_jobs=8)]: Done 673 tasks      | elapsed:    1.2s\n",
      "[Parallel(n_jobs=8)]: Done 674 tasks      | elapsed:    1.2s\n",
      "[Parallel(n_jobs=8)]: Done 675 tasks      | elapsed:    1.2s\n",
      "[Parallel(n_jobs=8)]: Done 676 tasks      | elapsed:    1.2s\n",
      "[Parallel(n_jobs=8)]: Done 677 tasks      | elapsed:    1.2s\n",
      "[Parallel(n_jobs=8)]: Done 678 tasks      | elapsed:    1.2s\n",
      "[Parallel(n_jobs=8)]: Done 679 tasks      | elapsed:    1.2s\n",
      "[Parallel(n_jobs=8)]: Done 680 tasks      | elapsed:    1.2s\n",
      "[Parallel(n_jobs=8)]: Done 681 tasks      | elapsed:    1.2s\n",
      "[Parallel(n_jobs=8)]: Done 682 tasks      | elapsed:    1.2s\n",
      "[Parallel(n_jobs=8)]: Done 683 tasks      | elapsed:    1.2s\n",
      "[Parallel(n_jobs=8)]: Done 684 tasks      | elapsed:    1.2s\n",
      "[Parallel(n_jobs=8)]: Done 685 tasks      | elapsed:    1.2s\n",
      "[Parallel(n_jobs=8)]: Done 686 tasks      | elapsed:    1.2s\n",
      "[Parallel(n_jobs=8)]: Done 687 tasks      | elapsed:    1.2s\n",
      "[Parallel(n_jobs=8)]: Done 688 tasks      | elapsed:    1.2s\n",
      "[Parallel(n_jobs=8)]: Done 689 tasks      | elapsed:    1.2s\n",
      "[Parallel(n_jobs=8)]: Done 690 tasks      | elapsed:    1.2s\n",
      "[Parallel(n_jobs=8)]: Done 691 tasks      | elapsed:    1.2s\n",
      "[Parallel(n_jobs=8)]: Done 692 tasks      | elapsed:    1.2s\n",
      "[Parallel(n_jobs=8)]: Done 693 tasks      | elapsed:    1.2s\n",
      "[Parallel(n_jobs=8)]: Done 694 tasks      | elapsed:    1.2s\n",
      "[Parallel(n_jobs=8)]: Done 695 tasks      | elapsed:    1.2s\n",
      "[Parallel(n_jobs=8)]: Done 696 tasks      | elapsed:    1.2s\n",
      "[Parallel(n_jobs=8)]: Done 697 tasks      | elapsed:    1.2s\n",
      "[Parallel(n_jobs=8)]: Done 698 tasks      | elapsed:    1.2s\n",
      "[Parallel(n_jobs=8)]: Done 699 tasks      | elapsed:    1.2s\n",
      "[Parallel(n_jobs=8)]: Done 700 tasks      | elapsed:    1.2s\n",
      "[Parallel(n_jobs=8)]: Done 701 tasks      | elapsed:    1.2s\n",
      "[Parallel(n_jobs=8)]: Done 702 tasks      | elapsed:    1.2s\n",
      "[Parallel(n_jobs=8)]: Done 703 tasks      | elapsed:    1.2s\n",
      "[Parallel(n_jobs=8)]: Done 704 tasks      | elapsed:    1.2s\n",
      "[Parallel(n_jobs=8)]: Done 705 tasks      | elapsed:    1.2s\n",
      "[Parallel(n_jobs=8)]: Done 706 tasks      | elapsed:    1.2s\n",
      "[Parallel(n_jobs=8)]: Done 707 tasks      | elapsed:    1.2s\n",
      "[Parallel(n_jobs=8)]: Done 708 tasks      | elapsed:    1.2s\n",
      "[Parallel(n_jobs=8)]: Done 709 tasks      | elapsed:    1.2s\n",
      "[Parallel(n_jobs=8)]: Done 710 tasks      | elapsed:    1.2s\n",
      "[Parallel(n_jobs=8)]: Done 711 tasks      | elapsed:    1.2s\n",
      "[Parallel(n_jobs=8)]: Done 712 tasks      | elapsed:    1.2s\n",
      "[Parallel(n_jobs=8)]: Done 713 tasks      | elapsed:    1.2s\n",
      "[Parallel(n_jobs=8)]: Done 714 tasks      | elapsed:    1.2s\n",
      "[Parallel(n_jobs=8)]: Done 715 tasks      | elapsed:    1.2s\n",
      "[Parallel(n_jobs=8)]: Done 716 tasks      | elapsed:    1.2s\n",
      "[Parallel(n_jobs=8)]: Done 717 tasks      | elapsed:    1.3s\n",
      "[Parallel(n_jobs=8)]: Done 718 tasks      | elapsed:    1.3s\n",
      "[Parallel(n_jobs=8)]: Done 719 tasks      | elapsed:    1.3s\n",
      "[Parallel(n_jobs=8)]: Done 720 tasks      | elapsed:    1.3s\n",
      "[Parallel(n_jobs=8)]: Done 721 tasks      | elapsed:    1.3s\n",
      "[Parallel(n_jobs=8)]: Done 722 tasks      | elapsed:    1.3s\n",
      "[Parallel(n_jobs=8)]: Done 723 tasks      | elapsed:    1.3s\n",
      "[Parallel(n_jobs=8)]: Done 724 tasks      | elapsed:    1.3s\n",
      "[Parallel(n_jobs=8)]: Done 725 tasks      | elapsed:    1.3s\n",
      "[Parallel(n_jobs=8)]: Done 726 tasks      | elapsed:    1.3s\n",
      "[Parallel(n_jobs=8)]: Done 727 tasks      | elapsed:    1.3s\n",
      "[Parallel(n_jobs=8)]: Done 728 tasks      | elapsed:    1.3s\n",
      "[Parallel(n_jobs=8)]: Done 729 tasks      | elapsed:    1.3s\n",
      "[Parallel(n_jobs=8)]: Done 730 tasks      | elapsed:    1.3s\n",
      "[Parallel(n_jobs=8)]: Done 731 tasks      | elapsed:    1.3s\n",
      "[Parallel(n_jobs=8)]: Done 732 tasks      | elapsed:    1.3s\n",
      "[Parallel(n_jobs=8)]: Done 733 tasks      | elapsed:    1.3s\n",
      "[Parallel(n_jobs=8)]: Done 734 tasks      | elapsed:    1.3s\n",
      "[Parallel(n_jobs=8)]: Done 735 tasks      | elapsed:    1.3s\n",
      "[Parallel(n_jobs=8)]: Done 736 tasks      | elapsed:    1.3s\n",
      "[Parallel(n_jobs=8)]: Done 737 tasks      | elapsed:    1.3s\n",
      "[Parallel(n_jobs=8)]: Done 738 tasks      | elapsed:    1.3s\n",
      "[Parallel(n_jobs=8)]: Done 739 tasks      | elapsed:    1.3s\n",
      "[Parallel(n_jobs=8)]: Done 740 tasks      | elapsed:    1.3s\n",
      "[Parallel(n_jobs=8)]: Done 741 tasks      | elapsed:    1.3s\n",
      "[Parallel(n_jobs=8)]: Done 742 tasks      | elapsed:    1.3s\n",
      "[Parallel(n_jobs=8)]: Done 743 tasks      | elapsed:    1.3s\n",
      "[Parallel(n_jobs=8)]: Done 744 tasks      | elapsed:    1.3s\n",
      "[Parallel(n_jobs=8)]: Done 745 tasks      | elapsed:    1.3s\n",
      "[Parallel(n_jobs=8)]: Done 746 tasks      | elapsed:    1.3s\n",
      "[Parallel(n_jobs=8)]: Done 747 tasks      | elapsed:    1.3s\n",
      "[Parallel(n_jobs=8)]: Done 748 tasks      | elapsed:    1.3s\n",
      "[Parallel(n_jobs=8)]: Done 749 tasks      | elapsed:    1.3s\n",
      "[Parallel(n_jobs=8)]: Done 750 tasks      | elapsed:    1.3s\n",
      "[Parallel(n_jobs=8)]: Done 751 tasks      | elapsed:    1.3s\n",
      "[Parallel(n_jobs=8)]: Done 752 tasks      | elapsed:    1.3s\n",
      "[Parallel(n_jobs=8)]: Done 753 tasks      | elapsed:    1.3s\n",
      "[Parallel(n_jobs=8)]: Done 754 tasks      | elapsed:    1.3s\n",
      "[Parallel(n_jobs=8)]: Done 755 tasks      | elapsed:    1.3s\n",
      "[Parallel(n_jobs=8)]: Done 756 tasks      | elapsed:    1.3s\n",
      "[Parallel(n_jobs=8)]: Done 757 tasks      | elapsed:    1.3s\n",
      "[Parallel(n_jobs=8)]: Done 758 tasks      | elapsed:    1.3s\n",
      "[Parallel(n_jobs=8)]: Done 759 tasks      | elapsed:    1.3s\n",
      "[Parallel(n_jobs=8)]: Done 760 tasks      | elapsed:    1.3s\n",
      "[Parallel(n_jobs=8)]: Done 761 tasks      | elapsed:    1.3s\n",
      "[Parallel(n_jobs=8)]: Done 762 tasks      | elapsed:    1.3s\n",
      "[Parallel(n_jobs=8)]: Done 763 tasks      | elapsed:    1.3s\n",
      "[Parallel(n_jobs=8)]: Done 764 tasks      | elapsed:    1.3s\n",
      "[Parallel(n_jobs=8)]: Done 765 tasks      | elapsed:    1.3s\n",
      "[Parallel(n_jobs=8)]: Done 766 tasks      | elapsed:    1.3s\n",
      "[Parallel(n_jobs=8)]: Done 767 tasks      | elapsed:    1.3s\n",
      "[Parallel(n_jobs=8)]: Done 768 tasks      | elapsed:    1.3s\n",
      "[Parallel(n_jobs=8)]: Done 769 tasks      | elapsed:    1.4s\n",
      "[Parallel(n_jobs=8)]: Done 770 tasks      | elapsed:    1.4s\n",
      "[Parallel(n_jobs=8)]: Done 771 tasks      | elapsed:    1.4s\n",
      "[Parallel(n_jobs=8)]: Done 772 tasks      | elapsed:    1.4s\n",
      "[Parallel(n_jobs=8)]: Done 773 tasks      | elapsed:    1.4s\n",
      "[Parallel(n_jobs=8)]: Done 774 tasks      | elapsed:    1.4s\n",
      "[Parallel(n_jobs=8)]: Done 775 tasks      | elapsed:    1.4s\n",
      "[Parallel(n_jobs=8)]: Done 776 tasks      | elapsed:    1.4s\n",
      "[Parallel(n_jobs=8)]: Done 777 tasks      | elapsed:    1.4s\n"
     ]
    },
    {
     "name": "stderr",
     "output_type": "stream",
     "text": [
      "[Parallel(n_jobs=8)]: Done 778 tasks      | elapsed:    1.4s\n",
      "[Parallel(n_jobs=8)]: Done 779 tasks      | elapsed:    1.4s\n",
      "[Parallel(n_jobs=8)]: Done 780 tasks      | elapsed:    1.4s\n",
      "[Parallel(n_jobs=8)]: Done 781 tasks      | elapsed:    1.4s\n",
      "[Parallel(n_jobs=8)]: Done 782 tasks      | elapsed:    1.4s\n",
      "[Parallel(n_jobs=8)]: Done 783 tasks      | elapsed:    1.4s\n",
      "[Parallel(n_jobs=8)]: Done 784 tasks      | elapsed:    1.4s\n",
      "[Parallel(n_jobs=8)]: Done 785 tasks      | elapsed:    1.4s\n",
      "[Parallel(n_jobs=8)]: Done 786 tasks      | elapsed:    1.4s\n",
      "[Parallel(n_jobs=8)]: Done 787 tasks      | elapsed:    1.4s\n",
      "[Parallel(n_jobs=8)]: Done 788 tasks      | elapsed:    1.4s\n",
      "[Parallel(n_jobs=8)]: Done 789 tasks      | elapsed:    1.4s\n",
      "[Parallel(n_jobs=8)]: Done 790 tasks      | elapsed:    1.4s\n",
      "[Parallel(n_jobs=8)]: Done 791 tasks      | elapsed:    1.4s\n",
      "[Parallel(n_jobs=8)]: Done 792 tasks      | elapsed:    1.4s\n",
      "[Parallel(n_jobs=8)]: Done 793 tasks      | elapsed:    1.4s\n",
      "[Parallel(n_jobs=8)]: Done 794 tasks      | elapsed:    1.4s\n",
      "[Parallel(n_jobs=8)]: Done 795 tasks      | elapsed:    1.4s\n",
      "[Parallel(n_jobs=8)]: Done 796 tasks      | elapsed:    1.4s\n",
      "[Parallel(n_jobs=8)]: Done 797 tasks      | elapsed:    1.4s\n",
      "[Parallel(n_jobs=8)]: Done 798 tasks      | elapsed:    1.4s\n",
      "[Parallel(n_jobs=8)]: Done 799 tasks      | elapsed:    1.4s\n",
      "[Parallel(n_jobs=8)]: Done 800 tasks      | elapsed:    1.4s\n",
      "[Parallel(n_jobs=8)]: Done 801 tasks      | elapsed:    1.4s\n",
      "[Parallel(n_jobs=8)]: Done 802 tasks      | elapsed:    1.4s\n",
      "[Parallel(n_jobs=8)]: Done 803 tasks      | elapsed:    1.4s\n",
      "[Parallel(n_jobs=8)]: Done 804 tasks      | elapsed:    1.4s\n",
      "[Parallel(n_jobs=8)]: Done 805 tasks      | elapsed:    1.4s\n",
      "[Parallel(n_jobs=8)]: Done 806 tasks      | elapsed:    1.4s\n",
      "[Parallel(n_jobs=8)]: Done 807 tasks      | elapsed:    1.4s\n",
      "[Parallel(n_jobs=8)]: Done 808 tasks      | elapsed:    1.4s\n",
      "[Parallel(n_jobs=8)]: Done 809 tasks      | elapsed:    1.4s\n",
      "[Parallel(n_jobs=8)]: Done 810 tasks      | elapsed:    1.4s\n",
      "[Parallel(n_jobs=8)]: Done 811 tasks      | elapsed:    1.4s\n",
      "[Parallel(n_jobs=8)]: Done 812 tasks      | elapsed:    1.4s\n",
      "[Parallel(n_jobs=8)]: Done 813 tasks      | elapsed:    1.4s\n",
      "[Parallel(n_jobs=8)]: Done 814 tasks      | elapsed:    1.4s\n",
      "[Parallel(n_jobs=8)]: Done 815 tasks      | elapsed:    1.4s\n",
      "[Parallel(n_jobs=8)]: Done 816 tasks      | elapsed:    1.4s\n",
      "[Parallel(n_jobs=8)]: Done 817 tasks      | elapsed:    1.4s\n",
      "[Parallel(n_jobs=8)]: Done 818 tasks      | elapsed:    1.4s\n",
      "[Parallel(n_jobs=8)]: Done 819 tasks      | elapsed:    1.4s\n",
      "[Parallel(n_jobs=8)]: Done 820 tasks      | elapsed:    1.4s\n",
      "[Parallel(n_jobs=8)]: Done 821 tasks      | elapsed:    1.4s\n",
      "[Parallel(n_jobs=8)]: Done 822 tasks      | elapsed:    1.4s\n",
      "[Parallel(n_jobs=8)]: Done 823 tasks      | elapsed:    1.4s\n",
      "[Parallel(n_jobs=8)]: Done 824 tasks      | elapsed:    1.4s\n",
      "[Parallel(n_jobs=8)]: Done 825 tasks      | elapsed:    1.4s\n",
      "[Parallel(n_jobs=8)]: Done 826 tasks      | elapsed:    1.5s\n",
      "[Parallel(n_jobs=8)]: Done 827 tasks      | elapsed:    1.5s\n",
      "[Parallel(n_jobs=8)]: Done 828 tasks      | elapsed:    1.5s\n",
      "[Parallel(n_jobs=8)]: Done 829 tasks      | elapsed:    1.5s\n",
      "[Parallel(n_jobs=8)]: Done 830 tasks      | elapsed:    1.5s\n",
      "[Parallel(n_jobs=8)]: Done 831 tasks      | elapsed:    1.5s\n",
      "[Parallel(n_jobs=8)]: Done 832 tasks      | elapsed:    1.5s\n",
      "[Parallel(n_jobs=8)]: Done 833 tasks      | elapsed:    1.5s\n",
      "[Parallel(n_jobs=8)]: Done 834 tasks      | elapsed:    1.5s\n",
      "[Parallel(n_jobs=8)]: Done 835 tasks      | elapsed:    1.5s\n",
      "[Parallel(n_jobs=8)]: Done 836 tasks      | elapsed:    1.5s\n",
      "[Parallel(n_jobs=8)]: Done 837 tasks      | elapsed:    1.5s\n",
      "[Parallel(n_jobs=8)]: Done 838 tasks      | elapsed:    1.5s\n",
      "[Parallel(n_jobs=8)]: Done 839 tasks      | elapsed:    1.5s\n",
      "[Parallel(n_jobs=8)]: Done 840 tasks      | elapsed:    1.5s\n",
      "[Parallel(n_jobs=8)]: Done 841 tasks      | elapsed:    1.5s\n",
      "[Parallel(n_jobs=8)]: Done 842 tasks      | elapsed:    1.5s\n",
      "[Parallel(n_jobs=8)]: Done 843 tasks      | elapsed:    1.5s\n",
      "[Parallel(n_jobs=8)]: Done 844 tasks      | elapsed:    1.5s\n",
      "[Parallel(n_jobs=8)]: Done 845 tasks      | elapsed:    1.5s\n",
      "[Parallel(n_jobs=8)]: Done 846 tasks      | elapsed:    1.5s\n",
      "[Parallel(n_jobs=8)]: Done 847 tasks      | elapsed:    1.5s\n",
      "[Parallel(n_jobs=8)]: Done 848 tasks      | elapsed:    1.5s\n",
      "[Parallel(n_jobs=8)]: Done 849 tasks      | elapsed:    1.5s\n",
      "[Parallel(n_jobs=8)]: Done 850 tasks      | elapsed:    1.5s\n",
      "[Parallel(n_jobs=8)]: Done 851 tasks      | elapsed:    1.5s\n",
      "[Parallel(n_jobs=8)]: Done 852 tasks      | elapsed:    1.5s\n",
      "[Parallel(n_jobs=8)]: Done 853 tasks      | elapsed:    1.5s\n",
      "[Parallel(n_jobs=8)]: Done 854 tasks      | elapsed:    1.5s\n",
      "[Parallel(n_jobs=8)]: Done 855 tasks      | elapsed:    1.5s\n",
      "[Parallel(n_jobs=8)]: Done 856 tasks      | elapsed:    1.5s\n",
      "[Parallel(n_jobs=8)]: Done 857 tasks      | elapsed:    1.5s\n",
      "[Parallel(n_jobs=8)]: Done 858 tasks      | elapsed:    1.5s\n",
      "[Parallel(n_jobs=8)]: Done 859 tasks      | elapsed:    1.5s\n",
      "[Parallel(n_jobs=8)]: Done 860 tasks      | elapsed:    1.5s\n",
      "[Parallel(n_jobs=8)]: Done 861 tasks      | elapsed:    1.5s\n",
      "[Parallel(n_jobs=8)]: Done 862 tasks      | elapsed:    1.5s\n",
      "[Parallel(n_jobs=8)]: Done 863 tasks      | elapsed:    1.5s\n",
      "[Parallel(n_jobs=8)]: Done 864 tasks      | elapsed:    1.5s\n",
      "[Parallel(n_jobs=8)]: Done 865 tasks      | elapsed:    1.5s\n",
      "[Parallel(n_jobs=8)]: Done 866 tasks      | elapsed:    1.5s\n",
      "[Parallel(n_jobs=8)]: Done 867 tasks      | elapsed:    1.5s\n",
      "[Parallel(n_jobs=8)]: Done 868 tasks      | elapsed:    1.5s\n",
      "[Parallel(n_jobs=8)]: Done 869 tasks      | elapsed:    1.5s\n",
      "[Parallel(n_jobs=8)]: Done 870 tasks      | elapsed:    1.5s\n",
      "[Parallel(n_jobs=8)]: Done 871 tasks      | elapsed:    1.5s\n",
      "[Parallel(n_jobs=8)]: Done 872 tasks      | elapsed:    1.5s\n",
      "[Parallel(n_jobs=8)]: Done 873 tasks      | elapsed:    1.5s\n",
      "[Parallel(n_jobs=8)]: Done 874 tasks      | elapsed:    1.5s\n",
      "[Parallel(n_jobs=8)]: Done 875 tasks      | elapsed:    1.5s\n",
      "[Parallel(n_jobs=8)]: Done 876 tasks      | elapsed:    1.5s\n",
      "[Parallel(n_jobs=8)]: Done 877 tasks      | elapsed:    1.5s\n",
      "[Parallel(n_jobs=8)]: Done 878 tasks      | elapsed:    1.5s\n",
      "[Parallel(n_jobs=8)]: Done 879 tasks      | elapsed:    1.5s\n",
      "[Parallel(n_jobs=8)]: Done 880 tasks      | elapsed:    1.5s\n",
      "[Parallel(n_jobs=8)]: Done 881 tasks      | elapsed:    1.5s\n",
      "[Parallel(n_jobs=8)]: Done 882 tasks      | elapsed:    1.5s\n",
      "[Parallel(n_jobs=8)]: Done 883 tasks      | elapsed:    1.5s\n",
      "[Parallel(n_jobs=8)]: Done 884 tasks      | elapsed:    1.5s\n",
      "[Parallel(n_jobs=8)]: Done 885 tasks      | elapsed:    1.5s\n",
      "[Parallel(n_jobs=8)]: Done 886 tasks      | elapsed:    1.5s\n",
      "[Parallel(n_jobs=8)]: Done 887 tasks      | elapsed:    1.6s\n",
      "[Parallel(n_jobs=8)]: Done 888 tasks      | elapsed:    1.6s\n",
      "[Parallel(n_jobs=8)]: Done 889 tasks      | elapsed:    1.6s\n",
      "[Parallel(n_jobs=8)]: Done 890 tasks      | elapsed:    1.6s\n",
      "[Parallel(n_jobs=8)]: Done 891 tasks      | elapsed:    1.6s\n",
      "[Parallel(n_jobs=8)]: Done 892 tasks      | elapsed:    1.6s\n",
      "[Parallel(n_jobs=8)]: Done 893 tasks      | elapsed:    1.6s\n",
      "[Parallel(n_jobs=8)]: Done 894 tasks      | elapsed:    1.6s\n",
      "[Parallel(n_jobs=8)]: Done 895 tasks      | elapsed:    1.6s\n",
      "[Parallel(n_jobs=8)]: Done 896 tasks      | elapsed:    1.6s\n",
      "[Parallel(n_jobs=8)]: Done 897 tasks      | elapsed:    1.6s\n",
      "[Parallel(n_jobs=8)]: Done 898 tasks      | elapsed:    1.6s\n",
      "[Parallel(n_jobs=8)]: Done 899 tasks      | elapsed:    1.6s\n",
      "[Parallel(n_jobs=8)]: Done 900 tasks      | elapsed:    1.6s\n",
      "[Parallel(n_jobs=8)]: Done 901 tasks      | elapsed:    1.6s\n",
      "[Parallel(n_jobs=8)]: Done 902 tasks      | elapsed:    1.6s\n",
      "[Parallel(n_jobs=8)]: Done 903 tasks      | elapsed:    1.6s\n",
      "[Parallel(n_jobs=8)]: Done 904 tasks      | elapsed:    1.6s\n",
      "[Parallel(n_jobs=8)]: Done 905 tasks      | elapsed:    1.6s\n",
      "[Parallel(n_jobs=8)]: Done 906 tasks      | elapsed:    1.6s\n",
      "[Parallel(n_jobs=8)]: Done 907 tasks      | elapsed:    1.6s\n",
      "[Parallel(n_jobs=8)]: Done 908 tasks      | elapsed:    1.6s\n",
      "[Parallel(n_jobs=8)]: Done 909 tasks      | elapsed:    1.6s\n",
      "[Parallel(n_jobs=8)]: Done 910 tasks      | elapsed:    1.6s\n",
      "[Parallel(n_jobs=8)]: Done 911 tasks      | elapsed:    1.6s\n",
      "[Parallel(n_jobs=8)]: Done 912 tasks      | elapsed:    1.6s\n",
      "[Parallel(n_jobs=8)]: Done 913 tasks      | elapsed:    1.6s\n",
      "[Parallel(n_jobs=8)]: Done 914 tasks      | elapsed:    1.6s\n",
      "[Parallel(n_jobs=8)]: Done 915 tasks      | elapsed:    1.6s\n",
      "[Parallel(n_jobs=8)]: Done 916 tasks      | elapsed:    1.6s\n",
      "[Parallel(n_jobs=8)]: Done 917 tasks      | elapsed:    1.6s\n",
      "[Parallel(n_jobs=8)]: Done 918 tasks      | elapsed:    1.6s\n",
      "[Parallel(n_jobs=8)]: Done 919 tasks      | elapsed:    1.6s\n",
      "[Parallel(n_jobs=8)]: Done 920 tasks      | elapsed:    1.6s\n",
      "[Parallel(n_jobs=8)]: Done 921 tasks      | elapsed:    1.6s\n",
      "[Parallel(n_jobs=8)]: Done 922 tasks      | elapsed:    1.6s\n",
      "[Parallel(n_jobs=8)]: Done 923 tasks      | elapsed:    1.6s\n",
      "[Parallel(n_jobs=8)]: Done 924 tasks      | elapsed:    1.6s\n",
      "[Parallel(n_jobs=8)]: Done 925 tasks      | elapsed:    1.6s\n",
      "[Parallel(n_jobs=8)]: Done 926 tasks      | elapsed:    1.6s\n",
      "[Parallel(n_jobs=8)]: Done 927 tasks      | elapsed:    1.6s\n",
      "[Parallel(n_jobs=8)]: Done 928 tasks      | elapsed:    1.6s\n",
      "[Parallel(n_jobs=8)]: Done 929 tasks      | elapsed:    1.6s\n",
      "[Parallel(n_jobs=8)]: Done 930 tasks      | elapsed:    1.6s\n",
      "[Parallel(n_jobs=8)]: Done 931 tasks      | elapsed:    1.6s\n",
      "[Parallel(n_jobs=8)]: Done 932 tasks      | elapsed:    1.6s\n",
      "[Parallel(n_jobs=8)]: Done 933 tasks      | elapsed:    1.6s\n",
      "[Parallel(n_jobs=8)]: Done 934 tasks      | elapsed:    1.6s\n",
      "[Parallel(n_jobs=8)]: Done 935 tasks      | elapsed:    1.6s\n",
      "[Parallel(n_jobs=8)]: Done 936 tasks      | elapsed:    1.6s\n",
      "[Parallel(n_jobs=8)]: Done 937 tasks      | elapsed:    1.6s\n",
      "[Parallel(n_jobs=8)]: Done 938 tasks      | elapsed:    1.6s\n",
      "[Parallel(n_jobs=8)]: Done 939 tasks      | elapsed:    1.6s\n",
      "[Parallel(n_jobs=8)]: Done 940 tasks      | elapsed:    1.6s\n",
      "[Parallel(n_jobs=8)]: Done 941 tasks      | elapsed:    1.6s\n",
      "[Parallel(n_jobs=8)]: Done 942 tasks      | elapsed:    1.6s\n",
      "[Parallel(n_jobs=8)]: Done 943 tasks      | elapsed:    1.6s\n",
      "[Parallel(n_jobs=8)]: Done 944 tasks      | elapsed:    1.6s\n",
      "[Parallel(n_jobs=8)]: Done 945 tasks      | elapsed:    1.6s\n",
      "[Parallel(n_jobs=8)]: Done 946 tasks      | elapsed:    1.7s\n",
      "[Parallel(n_jobs=8)]: Done 947 tasks      | elapsed:    1.7s\n",
      "[Parallel(n_jobs=8)]: Done 948 tasks      | elapsed:    1.7s\n",
      "[Parallel(n_jobs=8)]: Done 949 tasks      | elapsed:    1.7s\n",
      "[Parallel(n_jobs=8)]: Done 950 tasks      | elapsed:    1.7s\n",
      "[Parallel(n_jobs=8)]: Done 951 tasks      | elapsed:    1.7s\n",
      "[Parallel(n_jobs=8)]: Done 952 tasks      | elapsed:    1.7s\n",
      "[Parallel(n_jobs=8)]: Done 953 tasks      | elapsed:    1.7s\n",
      "[Parallel(n_jobs=8)]: Done 954 tasks      | elapsed:    1.7s\n",
      "[Parallel(n_jobs=8)]: Done 955 tasks      | elapsed:    1.7s\n",
      "[Parallel(n_jobs=8)]: Done 956 tasks      | elapsed:    1.7s\n",
      "[Parallel(n_jobs=8)]: Done 957 tasks      | elapsed:    1.7s\n",
      "[Parallel(n_jobs=8)]: Done 958 tasks      | elapsed:    1.7s\n",
      "[Parallel(n_jobs=8)]: Done 959 tasks      | elapsed:    1.7s\n",
      "[Parallel(n_jobs=8)]: Done 960 tasks      | elapsed:    1.7s\n",
      "[Parallel(n_jobs=8)]: Done 961 tasks      | elapsed:    1.7s\n",
      "[Parallel(n_jobs=8)]: Done 962 tasks      | elapsed:    1.7s\n",
      "[Parallel(n_jobs=8)]: Done 963 tasks      | elapsed:    1.7s\n",
      "[Parallel(n_jobs=8)]: Done 964 tasks      | elapsed:    1.7s\n",
      "[Parallel(n_jobs=8)]: Done 965 tasks      | elapsed:    1.7s\n",
      "[Parallel(n_jobs=8)]: Done 966 tasks      | elapsed:    1.7s\n",
      "[Parallel(n_jobs=8)]: Done 967 tasks      | elapsed:    1.7s\n",
      "[Parallel(n_jobs=8)]: Done 968 tasks      | elapsed:    1.7s\n",
      "[Parallel(n_jobs=8)]: Done 969 tasks      | elapsed:    1.7s\n",
      "[Parallel(n_jobs=8)]: Done 970 tasks      | elapsed:    1.7s\n",
      "[Parallel(n_jobs=8)]: Done 971 tasks      | elapsed:    1.7s\n",
      "[Parallel(n_jobs=8)]: Done 972 tasks      | elapsed:    1.7s\n",
      "[Parallel(n_jobs=8)]: Done 973 tasks      | elapsed:    1.7s\n",
      "[Parallel(n_jobs=8)]: Done 974 tasks      | elapsed:    1.7s\n",
      "[Parallel(n_jobs=8)]: Done 975 tasks      | elapsed:    1.7s\n",
      "[Parallel(n_jobs=8)]: Done 976 tasks      | elapsed:    1.7s\n",
      "[Parallel(n_jobs=8)]: Done 977 tasks      | elapsed:    1.7s\n",
      "[Parallel(n_jobs=8)]: Done 978 tasks      | elapsed:    1.7s\n",
      "[Parallel(n_jobs=8)]: Done 979 tasks      | elapsed:    1.7s\n",
      "[Parallel(n_jobs=8)]: Done 980 tasks      | elapsed:    1.7s\n",
      "[Parallel(n_jobs=8)]: Done 981 tasks      | elapsed:    1.7s\n",
      "[Parallel(n_jobs=8)]: Done 982 tasks      | elapsed:    1.7s\n",
      "[Parallel(n_jobs=8)]: Done 983 tasks      | elapsed:    1.7s\n",
      "[Parallel(n_jobs=8)]: Done 984 tasks      | elapsed:    1.7s\n",
      "[Parallel(n_jobs=8)]: Done 985 tasks      | elapsed:    1.7s\n",
      "[Parallel(n_jobs=8)]: Done 1000 out of 1000 | elapsed:    1.7s finished\n"
     ]
    },
    {
     "name": "stdout",
     "output_type": "stream",
     "text": [
      "Accuracy of Random Forest classifier is: 0.733755 \n"
     ]
    }
   ],
   "source": [
    "print(\"training Random Forest classifier now ...\")\n",
    "\n",
    "random_forest_classifier = RandomForestClassifier(n_estimators=1000, verbose=15, n_jobs=-1).fit(X_train,y_train)\n",
    "#increase n_estimators if you face issues in training\n",
    "y_pred=random_forest_classifier.predict(X_test)\n",
    "acc=accuracy_score(y_test,y_pred)\n",
    "print('Accuracy of Random Forest classifier is: %f ' % acc)"
   ]
  },
  {
   "cell_type": "code",
   "execution_count": 9,
   "metadata": {},
   "outputs": [
    {
     "name": "stdout",
     "output_type": "stream",
     "text": [
      "current time:- 2021-04-06 00:17:39.649654\n",
      "[1.32883149e-01 4.76277059e-02 3.56595545e-02 1.37901741e-02\n",
      " 1.26224418e-02 1.16200153e-02 1.01264151e-02 8.84582334e-03\n",
      " 7.55819198e-03 7.21041341e-03 6.55083533e-03 6.28343963e-03\n",
      " 6.14180823e-03 5.66837850e-03 5.47585998e-03 5.46703399e-03\n",
      " 5.25813918e-03 5.14525058e-03 4.97566944e-03 4.82511421e-03\n",
      " 4.61329874e-03 4.41802003e-03 4.33032974e-03 4.29975905e-03\n",
      " 4.25620414e-03 4.06891867e-03 3.97695105e-03 3.90163312e-03\n",
      " 3.78934415e-03 3.74945898e-03 3.69668562e-03 3.55820326e-03\n",
      " 3.54142299e-03 3.47046483e-03 3.41181703e-03 3.38786904e-03\n",
      " 3.36945859e-03 3.31598042e-03 3.28892294e-03 3.23908206e-03\n",
      " 3.17427293e-03 3.13471042e-03 3.07792503e-03 3.05986296e-03\n",
      " 3.02168581e-03 2.98689785e-03 2.92824811e-03 2.90905206e-03\n",
      " 2.85296888e-03 2.84539159e-03 2.79824560e-03 2.77776408e-03\n",
      " 2.73743030e-03 2.73519789e-03 2.70682109e-03 2.69788459e-03\n",
      " 2.64848034e-03 2.63115453e-03 2.61358154e-03 2.59924350e-03\n",
      " 2.58189850e-03 2.55179837e-03 2.52456571e-03 2.50651470e-03\n",
      " 2.49861221e-03 2.48334308e-03 2.45688001e-03 2.44082283e-03\n",
      " 2.42399174e-03 2.41026425e-03 2.38409878e-03 2.35814091e-03\n",
      " 2.34593414e-03 2.33281243e-03 2.32545139e-03 2.30213599e-03\n",
      " 2.28441478e-03 2.26964927e-03 2.24677169e-03 2.23840249e-03\n",
      " 2.23524428e-03 2.21072095e-03 2.19530346e-03 2.19076361e-03\n",
      " 2.18125936e-03 2.15891751e-03 2.15147090e-03 2.13175156e-03\n",
      " 2.11737286e-03 2.11160380e-03 2.08458653e-03 2.06567358e-03\n",
      " 2.06392712e-03 2.04671055e-03 2.03382168e-03 2.02598189e-03\n",
      " 2.01261200e-03 2.00174711e-03 1.99097255e-03 1.97678366e-03\n",
      " 1.96362280e-03 1.95574760e-03 1.94343370e-03 1.94022485e-03\n",
      " 1.93772576e-03 1.91581597e-03 1.90787085e-03 1.89226520e-03\n",
      " 1.88558529e-03 1.88294646e-03 1.87457058e-03 1.86136046e-03\n",
      " 1.84930422e-03 1.84308044e-03 1.82943821e-03 1.81859973e-03\n",
      " 1.81217581e-03 1.80476984e-03 1.79947319e-03 1.78261806e-03\n",
      " 1.77356138e-03 1.76695173e-03 1.75731062e-03 1.74085509e-03\n",
      " 1.73296302e-03 1.73077631e-03 1.72005381e-03 1.71366803e-03\n",
      " 1.70353827e-03 1.70114475e-03 1.69846865e-03 1.68746175e-03\n",
      " 1.68315481e-03 1.67187832e-03 1.65590585e-03 1.64850695e-03\n",
      " 1.64535434e-03 1.63911340e-03 1.63031725e-03 1.61888509e-03\n",
      " 1.61665814e-03 1.60517093e-03 1.60285982e-03 1.58590291e-03\n",
      " 1.57672345e-03 1.56831113e-03 1.56634226e-03 1.55905059e-03\n",
      " 1.55476141e-03 1.53779962e-03 1.53432431e-03 1.52609118e-03\n",
      " 1.51871464e-03 1.50718744e-03 1.49601454e-03 1.49022083e-03\n",
      " 1.48381003e-03 1.47837474e-03 1.46855588e-03 1.46025354e-03\n",
      " 1.45384958e-03 1.45087689e-03 1.44326632e-03 1.43123690e-03\n",
      " 1.42682231e-03 1.42387466e-03 1.41555394e-03 1.41403722e-03\n",
      " 1.40078638e-03 1.39859403e-03 1.39551000e-03 1.38010184e-03\n",
      " 1.37545425e-03 1.37187298e-03 1.36205892e-03 1.35742189e-03\n",
      " 1.34756220e-03 1.34139975e-03 1.33527569e-03 1.32799241e-03\n",
      " 1.32192834e-03 1.31788574e-03 1.30944411e-03 1.29838305e-03\n",
      " 1.29316985e-03 1.28429585e-03 1.27879764e-03 1.27328096e-03\n",
      " 1.26934493e-03 1.26316902e-03 1.25680809e-03 1.25503011e-03\n",
      " 1.25376190e-03 1.24169835e-03 1.23414999e-03 1.23204690e-03\n",
      " 1.22708162e-03 1.22016200e-03 1.21603006e-03 1.21581361e-03\n",
      " 1.20275563e-03 1.19813912e-03 1.19441654e-03 1.19055038e-03\n",
      " 1.18572074e-03 1.17192229e-03 1.16873803e-03 1.16378956e-03\n",
      " 1.16238589e-03 1.15815430e-03 1.15700869e-03 1.14847287e-03\n",
      " 1.14079259e-03 1.13705738e-03 1.12292653e-03 1.12067406e-03\n",
      " 1.11932886e-03 1.11304908e-03 1.11010397e-03 1.10577505e-03\n",
      " 1.10163768e-03 1.09727389e-03 1.09671555e-03 1.09038266e-03\n",
      " 1.08684383e-03 1.07724900e-03 1.07404200e-03 1.07197280e-03\n",
      " 1.06463206e-03 1.06109624e-03 1.05724306e-03 1.05344160e-03\n",
      " 1.04795592e-03 1.04717507e-03 1.04025769e-03 1.03437327e-03\n",
      " 1.03282009e-03 1.02562068e-03 1.02342689e-03 1.02026183e-03\n",
      " 1.01480912e-03 1.01199044e-03 1.00925040e-03 1.00380641e-03\n",
      " 1.00327529e-03 9.98998392e-04 9.95791753e-04 9.87477266e-04\n",
      " 9.85151116e-04 9.78924390e-04 9.75027826e-04 9.71424805e-04\n",
      " 9.67971669e-04 9.64558585e-04 9.63805456e-04 9.60932456e-04\n",
      " 9.57176573e-04 9.50104561e-04 9.46538822e-04 9.43553055e-04\n",
      " 9.36635558e-04 9.32583311e-04 9.22925325e-04 9.19747609e-04\n",
      " 9.14941898e-04 9.12589492e-04 9.09528708e-04 9.08202378e-04\n",
      " 9.05297650e-04 9.04076283e-04 9.01103540e-04 8.96516740e-04\n",
      " 8.95353833e-04 8.91477499e-04 8.83765945e-04 8.78318307e-04\n",
      " 8.76627916e-04 8.74561825e-04 8.68720285e-04 8.63411089e-04\n",
      " 8.62718437e-04 8.57024439e-04 8.54835845e-04 8.51685656e-04\n",
      " 8.47488859e-04 8.41699614e-04 8.37448281e-04 8.34686870e-04\n",
      " 8.31127964e-04 8.28378106e-04 8.26177773e-04 8.21946241e-04\n",
      " 8.19481901e-04 8.16264879e-04 8.15557232e-04 8.09933021e-04\n",
      " 8.06033039e-04 8.03962213e-04 8.03404491e-04 8.01961291e-04\n",
      " 7.98086797e-04 7.93091826e-04 7.91426684e-04 7.90740502e-04\n",
      " 7.86235194e-04 7.84214391e-04 7.80409064e-04 7.79477859e-04\n",
      " 7.77272950e-04 7.73483291e-04 7.72460347e-04 7.67923468e-04\n",
      " 7.65961440e-04 7.62135057e-04 7.61080213e-04 7.58273203e-04\n",
      " 7.57101579e-04 7.55408900e-04 7.51842986e-04 7.51220787e-04\n",
      " 7.49977288e-04 7.44833935e-04 7.44119201e-04 7.40030630e-04\n",
      " 7.39530022e-04 7.35156575e-04 7.30444401e-04 7.28426956e-04\n",
      " 7.27776350e-04 7.27370321e-04 7.25338142e-04 7.21261732e-04\n",
      " 7.16820090e-04 7.15427794e-04 7.14712537e-04 7.14304155e-04\n",
      " 7.09280756e-04 7.07487629e-04 7.03743374e-04 7.02063121e-04\n",
      " 6.95761351e-04 6.95673917e-04 6.93731535e-04 6.91010832e-04\n",
      " 6.88590454e-04 6.86656410e-04 6.83463526e-04 6.81001041e-04\n",
      " 6.79605024e-04 6.78071760e-04 6.74935462e-04 6.74217269e-04\n",
      " 6.71905055e-04 6.70132036e-04 6.68315037e-04 6.67278022e-04\n",
      " 6.65392952e-04 6.60241434e-04 6.59369038e-04 6.55884233e-04\n",
      " 6.54459625e-04 6.53870651e-04 6.53056804e-04 6.51746676e-04\n",
      " 6.49357838e-04 6.45901853e-04 6.44296475e-04 6.42995186e-04\n",
      " 6.41266071e-04 6.37739178e-04 6.35855471e-04 6.33884496e-04\n",
      " 6.30013520e-04 6.27902358e-04 6.26913960e-04 6.22827057e-04\n",
      " 6.22004308e-04 6.20426775e-04 6.19708184e-04 6.16220450e-04\n",
      " 6.14444946e-04 6.13199674e-04 6.11838335e-04 6.09601991e-04\n",
      " 6.08707861e-04 6.05099308e-04 6.02556091e-04 6.01526628e-04\n",
      " 5.98957875e-04 5.96653197e-04 5.95885361e-04 5.93808549e-04\n",
      " 5.92613845e-04 5.90528541e-04 5.87809406e-04 5.85920254e-04\n",
      " 5.85197268e-04 5.83286983e-04 5.82762338e-04 5.80632405e-04\n",
      " 5.79604989e-04 5.78373057e-04 5.77000521e-04 5.73388123e-04\n",
      " 5.70096998e-04 5.69293362e-04 5.65436620e-04 5.64630439e-04\n",
      " 5.64232587e-04 5.63650415e-04 5.60541883e-04 5.59129739e-04\n",
      " 5.58632348e-04 5.56225195e-04 5.53632658e-04 5.51898035e-04\n",
      " 5.50549608e-04 5.48318128e-04 5.46216502e-04 5.45079105e-04\n",
      " 5.44369595e-04 5.42386316e-04 5.39914030e-04 5.38562435e-04\n",
      " 5.35784972e-04 5.33546002e-04 5.32774887e-04 5.30737565e-04\n",
      " 5.28051183e-04 5.26445616e-04 5.26142915e-04 5.24323950e-04\n",
      " 5.23053049e-04 5.22058853e-04 5.20329079e-04 5.16998424e-04\n",
      " 5.14986066e-04 5.12866928e-04 5.11671307e-04 5.09992709e-04\n",
      " 5.07982481e-04 5.07203995e-04 5.05706407e-04 5.05235558e-04\n",
      " 5.03447737e-04 5.02055422e-04 5.00315791e-04 4.99612778e-04\n",
      " 4.98354991e-04 4.97117859e-04 4.95894880e-04 4.93054377e-04\n",
      " 4.91279346e-04 4.90631462e-04 4.88830643e-04 4.86176601e-04\n",
      " 4.85492996e-04 4.83434380e-04 4.82395960e-04 4.79379328e-04\n",
      " 4.78348734e-04 4.76525678e-04 4.76061838e-04 4.75460489e-04\n",
      " 4.72188183e-04 4.71092265e-04 4.69304791e-04 4.67391789e-04\n",
      " 4.65859432e-04 4.65201214e-04 4.62721536e-04 4.61177874e-04\n",
      " 4.59610555e-04 4.58619549e-04 4.56904623e-04 4.55448553e-04\n",
      " 4.54641269e-04 4.53854653e-04 4.53545351e-04 4.51788281e-04\n",
      " 4.50597123e-04 4.49254648e-04 4.47805723e-04 4.45975060e-04\n",
      " 4.44376134e-04 4.43618460e-04 4.41844271e-04 4.40729968e-04\n",
      " 4.38758792e-04 4.38062843e-04 4.35375610e-04 4.34893315e-04\n",
      " 4.32546331e-04 4.30721105e-04 4.30083495e-04 4.27415095e-04\n",
      " 4.27091848e-04 4.25551787e-04 4.24696948e-04 4.24282792e-04\n",
      " 4.22307217e-04 4.21504539e-04 4.20709926e-04 4.19428073e-04\n",
      " 4.17993587e-04 4.17362680e-04 4.16380835e-04 4.15654720e-04\n",
      " 4.14078574e-04 4.12481297e-04 4.10704167e-04 4.09816419e-04\n",
      " 4.09411492e-04 4.09218332e-04 4.06438297e-04 4.04809346e-04\n",
      " 4.04541600e-04 4.03463018e-04 4.01404124e-04 4.00922850e-04\n",
      " 3.99533990e-04 3.98313010e-04 3.96222476e-04 3.95214689e-04\n",
      " 3.92824031e-04 3.92399125e-04 3.90759304e-04 3.89948222e-04\n",
      " 3.88656945e-04 3.87948830e-04 3.86395732e-04 3.85661270e-04\n",
      " 3.84532212e-04 3.83362541e-04 3.82853117e-04 3.81537876e-04\n",
      " 3.80935006e-04 3.78760820e-04 3.78259589e-04 3.76214959e-04\n",
      " 3.75597283e-04 3.74728355e-04 3.74092591e-04 3.70959625e-04\n",
      " 3.70363211e-04 3.69410641e-04 3.69153956e-04 3.67808644e-04\n",
      " 3.66210479e-04 3.64515071e-04 3.64146388e-04 3.63158215e-04\n",
      " 3.62016150e-04 3.61279223e-04 3.60453083e-04 3.59904560e-04\n",
      " 3.59472161e-04 3.58274230e-04 3.57484183e-04 3.55807665e-04\n",
      " 3.54976370e-04 3.53550560e-04 3.52840945e-04 3.51522012e-04\n",
      " 3.50420249e-04 3.48863219e-04 3.47777687e-04 3.47381227e-04\n",
      " 3.46381338e-04 3.45870349e-04 3.44169818e-04 3.42754908e-04\n",
      " 3.42051152e-04 3.41596443e-04 3.40301808e-04 3.39058863e-04\n",
      " 3.37469885e-04 3.37065276e-04 3.35311804e-04 3.34916924e-04\n",
      " 3.33999789e-04 3.31864895e-04 3.30567907e-04 3.29833878e-04\n",
      " 3.28435903e-04 3.26852871e-04 3.26065823e-04 3.25880714e-04\n",
      " 3.25066260e-04 3.23697718e-04 3.22905508e-04 3.22118352e-04\n",
      " 3.20974730e-04 3.20279142e-04 3.20166584e-04 3.17997348e-04\n",
      " 3.17513607e-04 3.16241395e-04 3.14650542e-04 3.13739213e-04\n",
      " 3.13433245e-04 3.12208551e-04 3.11140830e-04 3.10594972e-04\n",
      " 3.09252282e-04 3.08122366e-04 3.06987362e-04 3.06568275e-04\n",
      " 3.04805674e-04 3.04206462e-04 3.02319744e-04 3.01959370e-04\n",
      " 3.01597581e-04 3.00353660e-04 2.98330894e-04 2.97797355e-04\n",
      " 2.97716087e-04 2.96138138e-04 2.95347563e-04 2.94854371e-04\n",
      " 2.93551326e-04 2.92734869e-04 2.92172995e-04 2.91225493e-04\n",
      " 2.89660262e-04 2.88528617e-04 2.88298061e-04 2.86760861e-04\n",
      " 2.85640572e-04 2.85159866e-04 2.84140019e-04 2.81818942e-04\n",
      " 2.80823864e-04 2.80094534e-04 2.78684768e-04 2.78024553e-04\n",
      " 2.76573042e-04 2.76202449e-04 2.75604651e-04 2.74506942e-04\n",
      " 2.73326422e-04 2.72700346e-04 2.71436033e-04 2.71097775e-04\n",
      " 2.69145651e-04 2.68172519e-04 2.66526152e-04 2.65168606e-04\n",
      " 2.63388734e-04 2.61072044e-04 2.60644858e-04 2.59155076e-04\n",
      " 2.58547335e-04 2.58096773e-04 2.55786867e-04 2.55650737e-04\n",
      " 2.54786387e-04 2.53170151e-04 2.51588542e-04 2.50414123e-04\n",
      " 2.48450485e-04 2.47089538e-04 2.46619192e-04 2.45174232e-04\n",
      " 2.44907718e-04 2.41369267e-04 2.39193731e-04 2.38260405e-04\n",
      " 2.37696982e-04 2.35779099e-04 2.34380980e-04 2.31693338e-04\n",
      " 2.31316963e-04 2.29903642e-04 2.27971744e-04 2.26504781e-04\n",
      " 2.24670175e-04 2.23648044e-04 2.21256721e-04 2.18978478e-04\n",
      " 2.17416463e-04 2.16336917e-04 2.14474565e-04 2.12935660e-04\n",
      " 2.08455037e-04 2.06577622e-04 2.05245840e-04 1.98266037e-04\n",
      " 1.96805889e-04 1.93568225e-04 1.89469791e-04 1.81998722e-04\n",
      " 1.76473160e-04 1.64420474e-04 1.57883276e-04 1.43411339e-04\n",
      " 1.19007130e-04 1.16802300e-04 1.13834158e-04 1.11243117e-04]\n",
      "0.9997710586714115\n"
     ]
    },
    {
     "name": "stdout",
     "output_type": "stream",
     "text": [
      "(57552, 700)\n",
      "(57552,)\n",
      "training SVM classifier now ...\n",
      "[LibSVM]Accuracy of SVM classifier is: 0.680520 \n",
      "current time:- 2021-04-06 01:40:49.563906\n"
     ]
    }
   ],
   "source": [
    "print(\"current time:-\", datetime.datetime.now())\n",
    "\n",
    "pca = PCA(n_components=700)\n",
    "pComponents= pca.fit_transform(trainX)\n",
    "print(sum([float(x) for x in pca.explained_variance_ratio_]))\n",
    "\n",
    "X_train, X_test, y_train, y_test = train_test_split(pComponents, trainY, test_size=0.2, random_state=23)\n",
    "print(X_train.shape)\n",
    "print(y_train.shape)\n",
    "\n",
    "print(\"training SVM classifier now ...\")\n",
    "\n",
    "svm_classifier = svm.SVC(verbose=15).fit(X_train,y_train)\n",
    "y_pred = svm_classifier.predict(X_test)\n",
    "acc = accuracy_score(y_test,y_pred)\n",
    "print('Accuracy of SVM classifier is: %f ' % acc)\n",
    "print(\"current time:-\", datetime.datetime.now())"
   ]
  },
  {
   "cell_type": "code",
   "execution_count": 10,
   "metadata": {},
   "outputs": [
    {
     "name": "stdout",
     "output_type": "stream",
     "text": [
      "0.9997710586714115\n"
     ]
    }
   ],
   "source": [
    "pca = PCA(n_components=700)\n",
    "pComponents= pca.fit_transform(trainX)\n",
    "print(sum([float(x) for x in pca.explained_variance_ratio_]))\n",
    "\n",
    "#X_train, X_test, y_train, y_test = train_test_split(pComponents, trainY, test_size=0.15, random_state=23)"
   ]
  },
  {
   "cell_type": "code",
   "execution_count": 11,
   "metadata": {},
   "outputs": [
    {
     "name": "stdout",
     "output_type": "stream",
     "text": [
      "training Deep Neural Network now ...\n",
      "current time:- 2021-04-06 01:42:39.030788\n",
      "Epoch 1/200\n",
      "10791/10791 [==============================] - 30s 3ms/step - loss: -13455.4652 - accuracy: 0.0195 - val_loss: -125456.8672 - val_accuracy: 0.0252\n",
      "Epoch 2/200\n",
      "10791/10791 [==============================] - 27s 3ms/step - loss: -486516.2836 - accuracy: 0.0377 - val_loss: -917297.3125 - val_accuracy: 0.0255\n",
      "Epoch 3/200\n",
      "10791/10791 [==============================] - 27s 2ms/step - loss: -2421440.8241 - accuracy: 0.0382 - val_loss: -2879478.7500 - val_accuracy: 0.0310\n",
      "Epoch 4/200\n",
      "10791/10791 [==============================] - 26s 2ms/step - loss: -6511599.2192 - accuracy: 0.0403 - val_loss: -6612767.0000 - val_accuracy: 0.0306\n",
      "Epoch 5/200\n",
      "10791/10791 [==============================] - 26s 2ms/step - loss: -13874698.4680 - accuracy: 0.0412 - val_loss: -12566360.0000 - val_accuracy: 0.0320\n",
      "Epoch 6/200\n",
      "10791/10791 [==============================] - 24s 2ms/step - loss: -25441730.3536 - accuracy: 0.0382 - val_loss: -21125980.0000 - val_accuracy: 0.0366\n",
      "Epoch 7/200\n",
      "10791/10791 [==============================] - 23s 2ms/step - loss: -40288927.6282 - accuracy: 0.0417 - val_loss: -32972490.0000 - val_accuracy: 0.0391\n",
      "Epoch 8/200\n",
      "10791/10791 [==============================] - 27s 3ms/step - loss: -61707681.9470 - accuracy: 0.0391 - val_loss: -48568728.0000 - val_accuracy: 0.0360\n",
      "Epoch 9/200\n",
      "10791/10791 [==============================] - 39s 4ms/step - loss: -97835040.1030 - accuracy: 0.0400 - val_loss: -68451080.0000 - val_accuracy: 0.0345\n",
      "Epoch 10/200\n",
      "10791/10791 [==============================] - 39s 4ms/step - loss: -125792956.5249 - accuracy: 0.0432 - val_loss: -92944928.0000 - val_accuracy: 0.0330\n",
      "Epoch 11/200\n",
      "10791/10791 [==============================] - 41s 4ms/step - loss: -174323322.0182 - accuracy: 0.0399 - val_loss: -122576296.0000 - val_accuracy: 0.0464\n",
      "Epoch 12/200\n",
      "10791/10791 [==============================] - 39s 4ms/step - loss: -234330554.4424 - accuracy: 0.0420 - val_loss: -158113680.0000 - val_accuracy: 0.0165\n",
      "Epoch 13/200\n",
      "10791/10791 [==============================] - 41s 4ms/step - loss: -304099934.0578 - accuracy: 0.0400 - val_loss: -199816160.0000 - val_accuracy: 0.0305\n",
      "Epoch 14/200\n",
      "10791/10791 [==============================] - 38s 3ms/step - loss: -365866945.6578 - accuracy: 0.0421 - val_loss: -248381808.0000 - val_accuracy: 0.0316\n",
      "Epoch 15/200\n",
      "10791/10791 [==============================] - 40s 4ms/step - loss: -459931501.9389 - accuracy: 0.0430 - val_loss: -303977888.0000 - val_accuracy: 0.0443\n",
      "Epoch 16/200\n",
      "10791/10791 [==============================] - 38s 3ms/step - loss: -571633266.7606 - accuracy: 0.0427 - val_loss: -367831776.0000 - val_accuracy: 0.0173\n",
      "Epoch 17/200\n",
      "10791/10791 [==============================] - 40s 4ms/step - loss: -732834495.2291 - accuracy: 0.0413 - val_loss: -439527744.0000 - val_accuracy: 0.0424\n",
      "Epoch 18/200\n",
      "10791/10791 [==============================] - 37s 3ms/step - loss: -806626653.6457 - accuracy: 0.0418 - val_loss: -519514592.0000 - val_accuracy: 0.0496\n",
      "Epoch 19/200\n",
      "10791/10791 [==============================] - 45s 4ms/step - loss: -999779966.8021 - accuracy: 0.0430 - val_loss: -608713728.0000 - val_accuracy: 0.0230\n",
      "Epoch 20/200\n",
      "10791/10791 [==============================] - 45s 4ms/step - loss: -1144652597.7124 - accuracy: 0.0406 - val_loss: -705875264.0000 - val_accuracy: 0.0322\n",
      "Epoch 21/200\n",
      "10791/10791 [==============================] - 32s 3ms/step - loss: -1249946376.5278 - accuracy: 0.0439 - val_loss: -815993088.0000 - val_accuracy: 0.0413\n",
      "Epoch 22/200\n",
      "10791/10791 [==============================] - 27s 2ms/step - loss: -1491476618.9896 - accuracy: 0.0409 - val_loss: -934528128.0000 - val_accuracy: 0.0404\n",
      "Epoch 23/200\n",
      "10791/10791 [==============================] - 28s 3ms/step - loss: -1752425230.7772 - accuracy: 0.0431 - val_loss: -1065636224.0000 - val_accuracy: 0.0174\n",
      "Epoch 24/200\n",
      "10791/10791 [==============================] - 29s 3ms/step - loss: -1932740912.7507 - accuracy: 0.0424 - val_loss: -1207696512.0000 - val_accuracy: 0.0210\n",
      "Epoch 25/200\n",
      "10791/10791 [==============================] - 30s 3ms/step - loss: -2189409471.0482 - accuracy: 0.0418 - val_loss: -1363325952.0000 - val_accuracy: 0.0330\n",
      "Epoch 26/200\n",
      "10791/10791 [==============================] - 30s 3ms/step - loss: -2519403053.5864 - accuracy: 0.0420 - val_loss: -1529599232.0000 - val_accuracy: 0.0264\n",
      "Epoch 27/200\n",
      "10791/10791 [==============================] - 29s 3ms/step - loss: -2783560697.5923 - accuracy: 0.0412 - val_loss: -1708730752.0000 - val_accuracy: 0.0242\n",
      "Epoch 28/200\n",
      "10791/10791 [==============================] - 29s 3ms/step - loss: -3051516197.9770 - accuracy: 0.0399 - val_loss: -1902598656.0000 - val_accuracy: 0.0289\n",
      "Epoch 29/200\n",
      "10791/10791 [==============================] - 29s 3ms/step - loss: -3486306833.1920 - accuracy: 0.0437 - val_loss: -2110677760.0000 - val_accuracy: 0.0275\n",
      "Epoch 30/200\n",
      "10791/10791 [==============================] - 29s 3ms/step - loss: -3746120828.0358 - accuracy: 0.0423 - val_loss: -2334041344.0000 - val_accuracy: 0.0242\n",
      "Epoch 31/200\n",
      "10791/10791 [==============================] - 34s 3ms/step - loss: -4246042595.1134 - accuracy: 0.0425 - val_loss: -2571725824.0000 - val_accuracy: 0.0199\n",
      "Epoch 32/200\n",
      "10791/10791 [==============================] - 39s 4ms/step - loss: -4634915330.6256 - accuracy: 0.0414 - val_loss: -2825980160.0000 - val_accuracy: 0.0171\n",
      "Epoch 33/200\n",
      "10791/10791 [==============================] - 36s 3ms/step - loss: -5313409252.8065 - accuracy: 0.0398 - val_loss: -3095024128.0000 - val_accuracy: 0.0249\n",
      "Epoch 34/200\n",
      "10791/10791 [==============================] - 36s 3ms/step - loss: -5730870502.3517 - accuracy: 0.0430 - val_loss: -3379247360.0000 - val_accuracy: 0.0247\n",
      "Epoch 35/200\n",
      "10791/10791 [==============================] - 37s 3ms/step - loss: -6395592456.8836 - accuracy: 0.0412 - val_loss: -3682814208.0000 - val_accuracy: 0.0268\n",
      "Epoch 36/200\n",
      "10791/10791 [==============================] - 41s 4ms/step - loss: -6863012295.4366 - accuracy: 0.0407 - val_loss: -4003810816.0000 - val_accuracy: 0.0240\n",
      "Epoch 37/200\n",
      "10791/10791 [==============================] - 33s 3ms/step - loss: -7676431849.7305 - accuracy: 0.0422 - val_loss: -4340969472.0000 - val_accuracy: 0.0200\n",
      "Epoch 38/200\n",
      "10791/10791 [==============================] - 26s 2ms/step - loss: -7791798220.6938 - accuracy: 0.0429 - val_loss: -4695838208.0000 - val_accuracy: 0.0398\n",
      "Epoch 39/200\n",
      "10791/10791 [==============================] - 26s 2ms/step - loss: -9025330680.0578 - accuracy: 0.0436 - val_loss: -5077561344.0000 - val_accuracy: 0.0401\n",
      "Epoch 40/200\n",
      "10791/10791 [==============================] - 27s 2ms/step - loss: -9477979641.5715 - accuracy: 0.0409 - val_loss: -5475073024.0000 - val_accuracy: 0.0250\n",
      "Epoch 41/200\n",
      "10791/10791 [==============================] - 27s 3ms/step - loss: -10197893485.6635 - accuracy: 0.0432 - val_loss: -5894203904.0000 - val_accuracy: 0.0293\n",
      "Epoch 42/200\n",
      "10791/10791 [==============================] - 27s 2ms/step - loss: -10612481906.0519 - accuracy: 0.0400 - val_loss: -6332462080.0000 - val_accuracy: 0.0474\n",
      "Epoch 43/200\n",
      "10791/10791 [==============================] - 27s 2ms/step - loss: -11294323821.4974 - accuracy: 0.0441 - val_loss: -6791821312.0000 - val_accuracy: 0.0307\n",
      "Epoch 44/200\n",
      "10791/10791 [==============================] - 27s 2ms/step - loss: -12638622716.2046 - accuracy: 0.0397 - val_loss: -7271896576.0000 - val_accuracy: 0.0202\n",
      "Epoch 45/200\n",
      "10791/10791 [==============================] - 27s 2ms/step - loss: -13488408978.4552 - accuracy: 0.0420 - val_loss: -7769611264.0000 - val_accuracy: 0.0240\n",
      "Epoch 46/200\n",
      "10791/10791 [==============================] - 27s 3ms/step - loss: -14484151951.7806 - accuracy: 0.0430 - val_loss: -8295199232.0000 - val_accuracy: 0.0364\n",
      "Epoch 47/200\n",
      "10791/10791 [==============================] - 27s 2ms/step - loss: -15769955022.6597 - accuracy: 0.0450 - val_loss: -8843323392.0000 - val_accuracy: 0.0234\n",
      "Epoch 48/200\n",
      "10791/10791 [==============================] - 27s 2ms/step - loss: -15806037451.4099 - accuracy: 0.0432 - val_loss: -9410966528.0000 - val_accuracy: 0.0270\n",
      "Epoch 49/200\n"
     ]
    },
    {
     "name": "stdout",
     "output_type": "stream",
     "text": [
      "10791/10791 [==============================] - 27s 2ms/step - loss: -17416076476.4418 - accuracy: 0.0406 - val_loss: -10005484544.0000 - val_accuracy: 0.0262\n",
      "Epoch 50/200\n",
      "10791/10791 [==============================] - 27s 2ms/step - loss: -18471311952.6049 - accuracy: 0.0405 - val_loss: -10621649920.0000 - val_accuracy: 0.0285\n",
      "Epoch 51/200\n",
      "10791/10791 [==============================] - 27s 3ms/step - loss: -20465342832.2016 - accuracy: 0.0398 - val_loss: -11268064256.0000 - val_accuracy: 0.0466\n",
      "Epoch 52/200\n",
      "10791/10791 [==============================] - 27s 2ms/step - loss: -20898411033.0022 - accuracy: 0.0439 - val_loss: -11945924608.0000 - val_accuracy: 0.0226\n",
      "Epoch 53/200\n",
      "10791/10791 [==============================] - 27s 2ms/step - loss: -20885718307.2122 - accuracy: 0.0391 - val_loss: -12635396096.0000 - val_accuracy: 0.0400\n",
      "Epoch 54/200\n",
      "10791/10791 [==============================] - 27s 2ms/step - loss: -22915895325.4144 - accuracy: 0.0429 - val_loss: -13358636032.0000 - val_accuracy: 0.0322\n",
      "Epoch 55/200\n",
      "10791/10791 [==============================] - 27s 2ms/step - loss: -23841482319.2231 - accuracy: 0.0418 - val_loss: -14102905856.0000 - val_accuracy: 0.0438\n",
      "Epoch 56/200\n",
      "10791/10791 [==============================] - 27s 2ms/step - loss: -26962172076.0267 - accuracy: 0.0409 - val_loss: -14877907968.0000 - val_accuracy: 0.0337\n",
      "Epoch 57/200\n",
      "10791/10791 [==============================] - 27s 2ms/step - loss: -27420390380.1690 - accuracy: 0.0408 - val_loss: -15687933952.0000 - val_accuracy: 0.0405\n",
      "Epoch 58/200\n",
      "10791/10791 [==============================] - 27s 2ms/step - loss: -29053439762.8821 - accuracy: 0.0419 - val_loss: -16521651200.0000 - val_accuracy: 0.0347\n",
      "Epoch 59/200\n",
      "10791/10791 [==============================] - 27s 2ms/step - loss: -31310530452.8273 - accuracy: 0.0424 - val_loss: -17385744384.0000 - val_accuracy: 0.0450\n",
      "Epoch 60/200\n",
      "10791/10791 [==============================] - 27s 2ms/step - loss: -31274212981.1564 - accuracy: 0.0418 - val_loss: -18276913152.0000 - val_accuracy: 0.0216\n",
      "Epoch 61/200\n",
      "10791/10791 [==============================] - 27s 2ms/step - loss: -32552181254.3369 - accuracy: 0.0416 - val_loss: -19193395200.0000 - val_accuracy: 0.0198\n",
      "Epoch 62/200\n",
      "10791/10791 [==============================] - 27s 2ms/step - loss: -34920532467.9303 - accuracy: 0.0416 - val_loss: -20141844480.0000 - val_accuracy: 0.0452\n",
      "Epoch 63/200\n",
      "10791/10791 [==============================] - 27s 2ms/step - loss: -35385837873.2928 - accuracy: 0.0440 - val_loss: -21119725568.0000 - val_accuracy: 0.0379\n",
      "Epoch 64/200\n",
      "10791/10791 [==============================] - 27s 2ms/step - loss: -40120932726.2268 - accuracy: 0.0402 - val_loss: -22135717888.0000 - val_accuracy: 0.0346\n",
      "Epoch 65/200\n",
      "10791/10791 [==============================] - 27s 2ms/step - loss: -42928138843.8488 - accuracy: 0.0422 - val_loss: -23182262272.0000 - val_accuracy: 0.0204\n",
      "Epoch 66/200\n",
      "10791/10791 [==============================] - 26s 2ms/step - loss: -41491305579.0541 - accuracy: 0.0419 - val_loss: -24259811328.0000 - val_accuracy: 0.0327\n",
      "Epoch 67/200\n",
      "10791/10791 [==============================] - 27s 2ms/step - loss: -43448861886.0074 - accuracy: 0.0409 - val_loss: -25368520704.0000 - val_accuracy: 0.0215\n",
      "Epoch 68/200\n",
      "10791/10791 [==============================] - 26s 2ms/step - loss: -47564325277.5093 - accuracy: 0.0406 - val_loss: -26513483776.0000 - val_accuracy: 0.0319\n",
      "Epoch 69/200\n",
      "10791/10791 [==============================] - 27s 2ms/step - loss: -48127783347.2380 - accuracy: 0.0401 - val_loss: -27693379584.0000 - val_accuracy: 0.0442\n",
      "Epoch 70/200\n",
      "10791/10791 [==============================] - 26s 2ms/step - loss: -50195597561.6308 - accuracy: 0.0434 - val_loss: -28908675072.0000 - val_accuracy: 0.0453\n",
      "Epoch 71/200\n",
      "10791/10791 [==============================] - 27s 2ms/step - loss: -53539411472.0356 - accuracy: 0.0424 - val_loss: -30157086720.0000 - val_accuracy: 0.0416\n",
      "Epoch 72/200\n",
      "10791/10791 [==============================] - 26s 2ms/step - loss: -54214195562.6509 - accuracy: 0.0437 - val_loss: -31443812352.0000 - val_accuracy: 0.0394\n",
      "Epoch 73/200\n",
      "10791/10791 [==============================] - 27s 2ms/step - loss: -60528739153.1742 - accuracy: 0.0425 - val_loss: -32757983232.0000 - val_accuracy: 0.0274\n",
      "Epoch 74/200\n",
      "10791/10791 [==============================] - 26s 2ms/step - loss: -58998831919.8265 - accuracy: 0.0416 - val_loss: -34107746304.0000 - val_accuracy: 0.0243\n",
      "Epoch 75/200\n",
      "10791/10791 [==============================] - 27s 2ms/step - loss: -62798422004.9933 - accuracy: 0.0411 - val_loss: -35497132032.0000 - val_accuracy: 0.0296\n",
      "Epoch 76/200\n",
      "10791/10791 [==============================] - 26s 2ms/step - loss: -67028547408.0830 - accuracy: 0.0429 - val_loss: -36912959488.0000 - val_accuracy: 0.0416\n",
      "Epoch 77/200\n",
      "10791/10791 [==============================] - 27s 2ms/step - loss: -64350407024.4388 - accuracy: 0.0430 - val_loss: -38382145536.0000 - val_accuracy: 0.0333\n",
      "Epoch 78/200\n",
      "10791/10791 [==============================] - 26s 2ms/step - loss: -71301925489.4529 - accuracy: 0.0408 - val_loss: -39883497472.0000 - val_accuracy: 0.0306\n",
      "Epoch 79/200\n",
      "10791/10791 [==============================] - 27s 2ms/step - loss: -74889323823.3477 - accuracy: 0.0400 - val_loss: -41411215360.0000 - val_accuracy: 0.0308\n",
      "Epoch 80/200\n",
      "10791/10791 [==============================] - 27s 2ms/step - loss: -72655247421.4855 - accuracy: 0.0405 - val_loss: -43001475072.0000 - val_accuracy: 0.0335\n",
      "Epoch 81/200\n",
      "10791/10791 [==============================] - 26s 2ms/step - loss: -78803550667.7183 - accuracy: 0.0422 - val_loss: -44619030528.0000 - val_accuracy: 0.0348\n",
      "Epoch 82/200\n",
      "10791/10791 [==============================] - 26s 2ms/step - loss: -85167438883.5701 - accuracy: 0.0414 - val_loss: -46283395072.0000 - val_accuracy: 0.0300\n",
      "Epoch 83/200\n",
      "10791/10791 [==============================] - 26s 2ms/step - loss: -82375279282.0044 - accuracy: 0.0406 - val_loss: -47998484480.0000 - val_accuracy: 0.0281\n",
      "Epoch 84/200\n",
      "10791/10791 [==============================] - 27s 2ms/step - loss: -91301784863.4188 - accuracy: 0.0418 - val_loss: -49741828096.0000 - val_accuracy: 0.0429\n",
      "Epoch 85/200\n",
      "10791/10791 [==============================] - 26s 2ms/step - loss: -89771159982.7784 - accuracy: 0.0430 - val_loss: -51524841472.0000 - val_accuracy: 0.0187\n",
      "Epoch 86/200\n",
      "10791/10791 [==============================] - 27s 2ms/step - loss: -96801002298.7339 - accuracy: 0.0429 - val_loss: -53354074112.0000 - val_accuracy: 0.0325\n",
      "Epoch 87/200\n",
      "10791/10791 [==============================] - 27s 2ms/step - loss: -93228876030.0074 - accuracy: 0.0396 - val_loss: -55214616576.0000 - val_accuracy: 0.0190\n",
      "Epoch 88/200\n",
      "10791/10791 [==============================] - 27s 2ms/step - loss: -101676026970.9948 - accuracy: 0.0411 - val_loss: -57111392256.0000 - val_accuracy: 0.0264\n",
      "Epoch 89/200\n",
      "10791/10791 [==============================] - 26s 2ms/step - loss: -102077131648.4744 - accuracy: 0.0441 - val_loss: -59075919872.0000 - val_accuracy: 0.0345\n",
      "Epoch 90/200\n",
      "10791/10791 [==============================] - 27s 2ms/step - loss: -102956416399.6560 - accuracy: 0.0442 - val_loss: -61060403200.0000 - val_accuracy: 0.0166\n",
      "Epoch 91/200\n",
      "10791/10791 [==============================] - 27s 2ms/step - loss: -109897079251.5938 - accuracy: 0.0390 - val_loss: -63101288448.0000 - val_accuracy: 0.0297\n",
      "Epoch 92/200\n",
      "10791/10791 [==============================] - 26s 2ms/step - loss: -110826609933.0941 - accuracy: 0.0417 - val_loss: -65194266624.0000 - val_accuracy: 0.0423\n",
      "Epoch 93/200\n",
      "10791/10791 [==============================] - 27s 2ms/step - loss: -117047114458.8050 - accuracy: 0.0426 - val_loss: -67351375872.0000 - val_accuracy: 0.0406\n",
      "Epoch 94/200\n",
      "10791/10791 [==============================] - 27s 2ms/step - loss: -124651572412.8214 - accuracy: 0.0430 - val_loss: -69539512320.0000 - val_accuracy: 0.0379\n",
      "Epoch 95/200\n",
      "10791/10791 [==============================] - 26s 2ms/step - loss: -126234672450.6093 - accuracy: 0.0431 - val_loss: -71767351296.0000 - val_accuracy: 0.0275\n",
      "Epoch 96/200\n",
      "10791/10791 [==============================] - 27s 2ms/step - loss: -131998291556.5782 - accuracy: 0.0407 - val_loss: -74028113920.0000 - val_accuracy: 0.0396\n"
     ]
    },
    {
     "name": "stdout",
     "output_type": "stream",
     "text": [
      "Epoch 97/200\n",
      "10791/10791 [==============================] - 27s 2ms/step - loss: -141343104008.1601 - accuracy: 0.0424 - val_loss: -76349431808.0000 - val_accuracy: 0.0360\n",
      "Epoch 98/200\n",
      "10791/10791 [==============================] - 27s 2ms/step - loss: -133739414358.5352 - accuracy: 0.0414 - val_loss: -78742126592.0000 - val_accuracy: 0.0249\n",
      "Epoch 99/200\n",
      "10791/10791 [==============================] - 26s 2ms/step - loss: -140004581620.8036 - accuracy: 0.0410 - val_loss: -81137999872.0000 - val_accuracy: 0.0168\n",
      "Epoch 100/200\n",
      "10791/10791 [==============================] - 26s 2ms/step - loss: -155650007884.0978 - accuracy: 0.0408 - val_loss: -83584425984.0000 - val_accuracy: 0.0188\n",
      "Epoch 101/200\n",
      "10791/10791 [==============================] - 26s 2ms/step - loss: -153517480422.5708 - accuracy: 0.0398 - val_loss: -86107955200.0000 - val_accuracy: 0.0291\n",
      "Epoch 102/200\n",
      "10791/10791 [==============================] - 26s 2ms/step - loss: -155422615278.9207 - accuracy: 0.0408 - val_loss: -88667979776.0000 - val_accuracy: 0.0332\n",
      "Epoch 103/200\n",
      "10791/10791 [==============================] - 27s 2ms/step - loss: -157622677220.2935 - accuracy: 0.0439 - val_loss: -91295186944.0000 - val_accuracy: 0.0275\n",
      "Epoch 104/200\n",
      "10791/10791 [==============================] - 27s 2ms/step - loss: -164201277943.2884 - accuracy: 0.0424 - val_loss: -93953941504.0000 - val_accuracy: 0.0425\n",
      "Epoch 105/200\n",
      "10791/10791 [==============================] - 27s 2ms/step - loss: -176549562102.1794 - accuracy: 0.0438 - val_loss: -96664813568.0000 - val_accuracy: 0.0358\n",
      "Epoch 106/200\n",
      "10791/10791 [==============================] - 26s 2ms/step - loss: -176194215882.3899 - accuracy: 0.0443 - val_loss: -99454664704.0000 - val_accuracy: 0.0225\n",
      "Epoch 107/200\n",
      "10791/10791 [==============================] - 27s 2ms/step - loss: -184193745226.3098 - accuracy: 0.0388 - val_loss: -102259163136.0000 - val_accuracy: 0.0368\n",
      "Epoch 108/200\n",
      "10791/10791 [==============================] - 27s 2ms/step - loss: -185765650502.7843 - accuracy: 0.0460 - val_loss: -105133924352.0000 - val_accuracy: 0.0434\n",
      "Epoch 109/200\n",
      "10791/10791 [==============================] - 27s 2ms/step - loss: -196671956612.4596 - accuracy: 0.0428 - val_loss: -108064694272.0000 - val_accuracy: 0.0399\n",
      "Epoch 110/200\n",
      "10791/10791 [==============================] - 27s 2ms/step - loss: -201421934891.8369 - accuracy: 0.0431 - val_loss: -111037317120.0000 - val_accuracy: 0.0419\n",
      "Epoch 111/200\n",
      "10791/10791 [==============================] - 27s 2ms/step - loss: -196853505922.9592 - accuracy: 0.0422 - val_loss: -114076639232.0000 - val_accuracy: 0.0312\n",
      "Epoch 112/200\n",
      "10791/10791 [==============================] - 27s 2ms/step - loss: -211860823034.3069 - accuracy: 0.0411 - val_loss: -117173706752.0000 - val_accuracy: 0.0310\n",
      "Epoch 113/200\n",
      "10791/10791 [==============================] - 26s 2ms/step - loss: -215841812158.1497 - accuracy: 0.0418 - val_loss: -120315428864.0000 - val_accuracy: 0.0315\n",
      "Epoch 114/200\n",
      "10791/10791 [==============================] - 26s 2ms/step - loss: -219784200566.9859 - accuracy: 0.0412 - val_loss: -123500519424.0000 - val_accuracy: 0.0476\n",
      "Epoch 115/200\n",
      "10791/10791 [==============================] - 26s 2ms/step - loss: -223499408479.1698 - accuracy: 0.0421 - val_loss: -126778982400.0000 - val_accuracy: 0.0337\n",
      "Epoch 116/200\n",
      "10791/10791 [==============================] - 27s 2ms/step - loss: -239163461688.9311 - accuracy: 0.0427 - val_loss: -130132344832.0000 - val_accuracy: 0.0309\n",
      "Epoch 117/200\n",
      "10791/10791 [==============================] - 26s 2ms/step - loss: -243230705463.6027 - accuracy: 0.0415 - val_loss: -133504016384.0000 - val_accuracy: 0.0342\n",
      "Epoch 118/200\n",
      "10791/10791 [==============================] - 27s 2ms/step - loss: -241563735153.1030 - accuracy: 0.0412 - val_loss: -136916959232.0000 - val_accuracy: 0.0322\n",
      "Epoch 119/200\n",
      "10791/10791 [==============================] - 26s 2ms/step - loss: -255770235271.0215 - accuracy: 0.0445 - val_loss: -140378882048.0000 - val_accuracy: 0.0213\n",
      "Epoch 120/200\n",
      "10791/10791 [==============================] - 27s 2ms/step - loss: -254817901144.0534 - accuracy: 0.0439 - val_loss: -143943532544.0000 - val_accuracy: 0.0358\n",
      "Epoch 121/200\n",
      "10791/10791 [==============================] - 26s 2ms/step - loss: -267478410202.8051 - accuracy: 0.0427 - val_loss: -147563298816.0000 - val_accuracy: 0.0322\n",
      "Epoch 122/200\n",
      "10791/10791 [==============================] - 27s 2ms/step - loss: -273498666549.2483 - accuracy: 0.0423 - val_loss: -151218782208.0000 - val_accuracy: 0.0220\n",
      "Epoch 123/200\n",
      "10791/10791 [==============================] - 26s 2ms/step - loss: -268420922418.8584 - accuracy: 0.0409 - val_loss: -154962067456.0000 - val_accuracy: 0.0327\n",
      "Epoch 124/200\n",
      "10791/10791 [==============================] - 26s 2ms/step - loss: -277094212988.2869 - accuracy: 0.0442 - val_loss: -158778277888.0000 - val_accuracy: 0.0246\n",
      "Epoch 125/200\n",
      "10791/10791 [==============================] - 26s 2ms/step - loss: -285365693800.1838 - accuracy: 0.0414 - val_loss: -162632876032.0000 - val_accuracy: 0.0201\n",
      "Epoch 126/200\n",
      "10791/10791 [==============================] - 26s 2ms/step - loss: -297468728397.7820 - accuracy: 0.0416 - val_loss: -166539001856.0000 - val_accuracy: 0.0294\n",
      "Epoch 127/200\n",
      "10791/10791 [==============================] - 27s 2ms/step - loss: -300252178197.0645 - accuracy: 0.0431 - val_loss: -170519691264.0000 - val_accuracy: 0.0186\n",
      "Epoch 128/200\n",
      "10791/10791 [==============================] - 27s 2ms/step - loss: -306512115045.5270 - accuracy: 0.0404 - val_loss: -174543994880.0000 - val_accuracy: 0.0334\n",
      "Epoch 129/200\n",
      "10791/10791 [==============================] - 26s 2ms/step - loss: -324158417238.3455 - accuracy: 0.0428 - val_loss: -178675777536.0000 - val_accuracy: 0.0314\n",
      "Epoch 130/200\n",
      "10791/10791 [==============================] - 27s 2ms/step - loss: -307083581908.6731 - accuracy: 0.0434 - val_loss: -182878535680.0000 - val_accuracy: 0.0267\n",
      "Epoch 131/200\n",
      "10791/10791 [==============================] - 26s 2ms/step - loss: -344643744841.2513 - accuracy: 0.0436 - val_loss: -187111882752.0000 - val_accuracy: 0.0250\n",
      "Epoch 132/200\n",
      "10791/10791 [==============================] - 26s 2ms/step - loss: -332331955964.0148 - accuracy: 0.0400 - val_loss: -191389220864.0000 - val_accuracy: 0.0311\n",
      "Epoch 133/200\n",
      "10791/10791 [==============================] - 27s 2ms/step - loss: -354362360902.5945 - accuracy: 0.0423 - val_loss: -195730456576.0000 - val_accuracy: 0.0425\n",
      "Epoch 134/200\n",
      "10791/10791 [==============================] - 27s 2ms/step - loss: -366728323931.2795 - accuracy: 0.0434 - val_loss: -200170373120.0000 - val_accuracy: 0.0378\n",
      "Epoch 135/200\n",
      "10791/10791 [==============================] - 26s 2ms/step - loss: -377377927508.0682 - accuracy: 0.0426 - val_loss: -204669304832.0000 - val_accuracy: 0.0287\n",
      "Epoch 136/200\n",
      "10791/10791 [==============================] - 26s 2ms/step - loss: -371195309475.7717 - accuracy: 0.0406 - val_loss: -209245061120.0000 - val_accuracy: 0.0251\n",
      "Epoch 137/200\n",
      "10791/10791 [==============================] - 26s 2ms/step - loss: -384872370841.0497 - accuracy: 0.0415 - val_loss: -213831319552.0000 - val_accuracy: 0.0441\n",
      "Epoch 138/200\n",
      "10791/10791 [==============================] - 26s 2ms/step - loss: -360973304669.0823 - accuracy: 0.0440 - val_loss: -218515292160.0000 - val_accuracy: 0.0333\n",
      "Epoch 139/200\n",
      "10791/10791 [==============================] - 26s 2ms/step - loss: -388372566320.0118 - accuracy: 0.0404 - val_loss: -223228936192.0000 - val_accuracy: 0.0427\n",
      "Epoch 140/200\n",
      "10791/10791 [==============================] - 26s 2ms/step - loss: -413271249989.8354 - accuracy: 0.0404 - val_loss: -228086726656.0000 - val_accuracy: 0.0444\n",
      "Epoch 141/200\n",
      "10791/10791 [==============================] - 26s 2ms/step - loss: -424197664494.7309 - accuracy: 0.0444 - val_loss: -232951300096.0000 - val_accuracy: 0.0340\n",
      "Epoch 142/200\n",
      "10791/10791 [==============================] - 26s 2ms/step - loss: -413004170204.3232 - accuracy: 0.0437 - val_loss: -237916012544.0000 - val_accuracy: 0.0294\n",
      "Epoch 143/200\n",
      "10791/10791 [==============================] - 26s 2ms/step - loss: -436114695035.9199 - accuracy: 0.0422 - val_loss: -242944901120.0000 - val_accuracy: 0.0381\n",
      "Epoch 144/200\n"
     ]
    },
    {
     "name": "stdout",
     "output_type": "stream",
     "text": [
      "10791/10791 [==============================] - 26s 2ms/step - loss: -433883810828.1453 - accuracy: 0.0425 - val_loss: -248069488640.0000 - val_accuracy: 0.0317\n",
      "Epoch 145/200\n",
      "10791/10791 [==============================] - 27s 2ms/step - loss: -435248041429.8710 - accuracy: 0.0422 - val_loss: -253280632832.0000 - val_accuracy: 0.0309\n",
      "Epoch 146/200\n",
      "10791/10791 [==============================] - 27s 2ms/step - loss: -467046428263.6145 - accuracy: 0.0403 - val_loss: -258477080576.0000 - val_accuracy: 0.0440\n",
      "Epoch 147/200\n",
      "10791/10791 [==============================] - 26s 2ms/step - loss: -463963441936.2847 - accuracy: 0.0433 - val_loss: -263806959616.0000 - val_accuracy: 0.0319\n",
      "Epoch 148/200\n",
      "10791/10791 [==============================] - 26s 2ms/step - loss: -471602766938.8762 - accuracy: 0.0399 - val_loss: -269144850432.0000 - val_accuracy: 0.0306\n",
      "Epoch 149/200\n",
      "10791/10791 [==============================] - 26s 2ms/step - loss: -514258691516.8214 - accuracy: 0.0427 - val_loss: -274645237760.0000 - val_accuracy: 0.0355\n",
      "Epoch 150/200\n",
      "10791/10791 [==============================] - 27s 2ms/step - loss: -497782681492.8877 - accuracy: 0.0424 - val_loss: -280166596608.0000 - val_accuracy: 0.0245\n",
      "Epoch 151/200\n",
      "10791/10791 [==============================] - 27s 2ms/step - loss: -489992280792.7176 - accuracy: 0.0421 - val_loss: -285786406912.0000 - val_accuracy: 0.0223\n",
      "Epoch 152/200\n",
      "10791/10791 [==============================] - 27s 2ms/step - loss: -503281169284.2698 - accuracy: 0.0398 - val_loss: -291484139520.0000 - val_accuracy: 0.0440\n",
      "Epoch 153/200\n",
      "10791/10791 [==============================] - 26s 2ms/step - loss: -540201406843.5404 - accuracy: 0.0412 - val_loss: -297215393792.0000 - val_accuracy: 0.0291\n",
      "Epoch 154/200\n",
      "10791/10791 [==============================] - 26s 2ms/step - loss: -526656770432.0949 - accuracy: 0.0399 - val_loss: -302979776512.0000 - val_accuracy: 0.0326\n",
      "Epoch 155/200\n",
      "10791/10791 [==============================] - 26s 2ms/step - loss: -543813080865.7791 - accuracy: 0.0404 - val_loss: -308936572928.0000 - val_accuracy: 0.0320\n",
      "Epoch 156/200\n",
      "10791/10791 [==============================] - 27s 2ms/step - loss: -555738217007.5967 - accuracy: 0.0435 - val_loss: -314931838976.0000 - val_accuracy: 0.0309\n",
      "Epoch 157/200\n",
      "10791/10791 [==============================] - 26s 2ms/step - loss: -540564570118.0726 - accuracy: 0.0438 - val_loss: -320978616320.0000 - val_accuracy: 0.0312\n",
      "Epoch 158/200\n",
      "10791/10791 [==============================] - 26s 2ms/step - loss: -587042429247.0986 - accuracy: 0.0436 - val_loss: -327134642176.0000 - val_accuracy: 0.0430\n",
      "Epoch 159/200\n",
      "10791/10791 [==============================] - 27s 2ms/step - loss: -586496069703.3536 - accuracy: 0.0434 - val_loss: -333342244864.0000 - val_accuracy: 0.0268\n",
      "Epoch 160/200\n",
      "10791/10791 [==============================] - 27s 2ms/step - loss: -620667041067.8369 - accuracy: 0.0407 - val_loss: -339637469184.0000 - val_accuracy: 0.0249\n",
      "Epoch 161/200\n",
      "10791/10791 [==============================] - 27s 2ms/step - loss: -594582087158.5115 - accuracy: 0.0444 - val_loss: -346018840576.0000 - val_accuracy: 0.0301\n",
      "Epoch 162/200\n",
      "10791/10791 [==============================] - 26s 2ms/step - loss: -610781204352.8540 - accuracy: 0.0394 - val_loss: -352498319360.0000 - val_accuracy: 0.0206\n",
      "Epoch 163/200\n",
      "10791/10791 [==============================] - 26s 2ms/step - loss: -660281746531.4396 - accuracy: 0.0415 - val_loss: -359032487936.0000 - val_accuracy: 0.0342\n",
      "Epoch 164/200\n",
      "10791/10791 [==============================] - 26s 2ms/step - loss: -643985625945.0022 - accuracy: 0.0420 - val_loss: -365623967744.0000 - val_accuracy: 0.0315\n",
      "Epoch 165/200\n",
      "10791/10791 [==============================] - 27s 2ms/step - loss: -668308386238.3395 - accuracy: 0.0418 - val_loss: -372272955392.0000 - val_accuracy: 0.0324\n",
      "Epoch 166/200\n",
      "10791/10791 [==============================] - 26s 2ms/step - loss: -652542737932.3351 - accuracy: 0.0437 - val_loss: -379047673856.0000 - val_accuracy: 0.0289\n",
      "Epoch 167/200\n",
      "10791/10791 [==============================] - 27s 2ms/step - loss: -707887335045.9778 - accuracy: 0.0393 - val_loss: -385872920576.0000 - val_accuracy: 0.0466\n",
      "Epoch 168/200\n",
      "10791/10791 [==============================] - 26s 2ms/step - loss: -686309154698.5322 - accuracy: 0.0439 - val_loss: -392737456128.0000 - val_accuracy: 0.0320\n",
      "Epoch 169/200\n",
      "10791/10791 [==============================] - 26s 2ms/step - loss: -705098680533.3018 - accuracy: 0.0409 - val_loss: -399774318592.0000 - val_accuracy: 0.0458\n",
      "Epoch 170/200\n",
      "10791/10791 [==============================] - 26s 2ms/step - loss: -703713810874.1646 - accuracy: 0.0428 - val_loss: -406825893888.0000 - val_accuracy: 0.0296\n",
      "Epoch 171/200\n",
      "10791/10791 [==============================] - 26s 2ms/step - loss: -738608095495.9703 - accuracy: 0.0418 - val_loss: -413999366144.0000 - val_accuracy: 0.0308\n",
      "Epoch 172/200\n",
      "10791/10791 [==============================] - 26s 2ms/step - loss: -783098119079.1875 - accuracy: 0.0432 - val_loss: -421257379840.0000 - val_accuracy: 0.0419\n",
      "Epoch 173/200\n",
      "10791/10791 [==============================] - 26s 2ms/step - loss: -751755203091.3566 - accuracy: 0.0447 - val_loss: -428633227264.0000 - val_accuracy: 0.0329\n",
      "Epoch 174/200\n",
      "10791/10791 [==============================] - 26s 2ms/step - loss: -769150845047.9348 - accuracy: 0.0436 - val_loss: -436039122944.0000 - val_accuracy: 0.0439\n",
      "Epoch 175/200\n",
      "10791/10791 [==============================] - 26s 2ms/step - loss: -802899042252.3824 - accuracy: 0.0450 - val_loss: -443613151232.0000 - val_accuracy: 0.0349\n",
      "Epoch 176/200\n",
      "10791/10791 [==============================] - 26s 2ms/step - loss: -824073932165.4084 - accuracy: 0.0417 - val_loss: -451182624768.0000 - val_accuracy: 0.0337\n",
      "Epoch 177/200\n",
      "10791/10791 [==============================] - 26s 2ms/step - loss: -812599192601.0497 - accuracy: 0.0410 - val_loss: -458968989696.0000 - val_accuracy: 0.0304\n",
      "Epoch 178/200\n",
      "10791/10791 [==============================] - 26s 2ms/step - loss: -828738751567.3240 - accuracy: 0.0418 - val_loss: -466746900480.0000 - val_accuracy: 0.0401\n",
      "Epoch 179/200\n",
      "10791/10791 [==============================] - 26s 2ms/step - loss: -848585002215.5197 - accuracy: 0.0413 - val_loss: -474628554752.0000 - val_accuracy: 0.0415\n",
      "Epoch 180/200\n",
      "10791/10791 [==============================] - 26s 2ms/step - loss: -850542081915.9199 - accuracy: 0.0451 - val_loss: -482558705664.0000 - val_accuracy: 0.0429\n",
      "Epoch 181/200\n",
      "10791/10791 [==============================] - 26s 2ms/step - loss: -889146040716.8094 - accuracy: 0.0439 - val_loss: -490640670720.0000 - val_accuracy: 0.0415\n",
      "Epoch 182/200\n",
      "10791/10791 [==============================] - 26s 2ms/step - loss: -828402617490.6924 - accuracy: 0.0425 - val_loss: -498864521216.0000 - val_accuracy: 0.0306\n",
      "Epoch 183/200\n",
      "10791/10791 [==============================] - 26s 2ms/step - loss: -905801153482.8644 - accuracy: 0.0395 - val_loss: -507063500800.0000 - val_accuracy: 0.0399\n",
      "Epoch 184/200\n",
      "10791/10791 [==============================] - 26s 2ms/step - loss: -875986803758.4937 - accuracy: 0.0426 - val_loss: -515408363520.0000 - val_accuracy: 0.0281\n",
      "Epoch 185/200\n",
      "10791/10791 [==============================] - 26s 2ms/step - loss: -936772105959.1401 - accuracy: 0.0454 - val_loss: -523900813312.0000 - val_accuracy: 0.0309\n",
      "Epoch 186/200\n",
      "10791/10791 [==============================] - 26s 2ms/step - loss: -960459782977.4707 - accuracy: 0.0425 - val_loss: -532348141568.0000 - val_accuracy: 0.0398\n",
      "Epoch 187/200\n",
      "10791/10791 [==============================] - 26s 2ms/step - loss: -979482974531.3684 - accuracy: 0.0413 - val_loss: -540937420800.0000 - val_accuracy: 0.0401\n",
      "Epoch 188/200\n",
      "10791/10791 [==============================] - 26s 2ms/step - loss: -905373101497.0260 - accuracy: 0.0437 - val_loss: -549628313600.0000 - val_accuracy: 0.0257\n",
      "Epoch 189/200\n",
      "10791/10791 [==============================] - 26s 2ms/step - loss: -1012298134691.2024 - accuracy: 0.0408 - val_loss: -558383431680.0000 - val_accuracy: 0.0421\n",
      "Epoch 190/200\n",
      "10791/10791 [==============================] - 26s 2ms/step - loss: -995284218946.0400 - accuracy: 0.0444 - val_loss: -567219191808.0000 - val_accuracy: 0.0321\n",
      "Epoch 191/200\n"
     ]
    },
    {
     "name": "stdout",
     "output_type": "stream",
     "text": [
      "10791/10791 [==============================] - 26s 2ms/step - loss: -1025091384349.6279 - accuracy: 0.0440 - val_loss: -576221675520.0000 - val_accuracy: 0.0239\n",
      "Epoch 192/200\n",
      "10791/10791 [==============================] - 26s 2ms/step - loss: -1068695325900.1927 - accuracy: 0.0418 - val_loss: -585301295104.0000 - val_accuracy: 0.0282\n",
      "Epoch 193/200\n",
      "10791/10791 [==============================] - 26s 2ms/step - loss: -1073482286000.2017 - accuracy: 0.0406 - val_loss: -594391203840.0000 - val_accuracy: 0.0326\n",
      "Epoch 194/200\n",
      "10791/10791 [==============================] - 26s 2ms/step - loss: -1072368930072.1008 - accuracy: 0.0440 - val_loss: -603717500928.0000 - val_accuracy: 0.0238\n",
      "Epoch 195/200\n",
      "10791/10791 [==============================] - 26s 2ms/step - loss: -1097111147877.5271 - accuracy: 0.0428 - val_loss: -613155733504.0000 - val_accuracy: 0.0236\n",
      "Epoch 196/200\n",
      "10791/10791 [==============================] - 26s 2ms/step - loss: -1097896452099.0364 - accuracy: 0.0401 - val_loss: -622641479680.0000 - val_accuracy: 0.0315\n",
      "Epoch 197/200\n",
      "10791/10791 [==============================] - 26s 2ms/step - loss: -1139162164373.8235 - accuracy: 0.0432 - val_loss: -632208949248.0000 - val_accuracy: 0.0238\n",
      "Epoch 198/200\n",
      "10791/10791 [==============================] - 26s 2ms/step - loss: -1158863255247.6086 - accuracy: 0.0399 - val_loss: -641780809728.0000 - val_accuracy: 0.0170\n",
      "Epoch 199/200\n",
      "10791/10791 [==============================] - 26s 2ms/step - loss: -1210927096824.4092 - accuracy: 0.0416 - val_loss: -651529355264.0000 - val_accuracy: 0.0406\n",
      "Epoch 200/200\n",
      "10791/10791 [==============================] - 26s 2ms/step - loss: -1218970714278.9978 - accuracy: 0.0407 - val_loss: -661360672768.0000 - val_accuracy: 0.0430\n",
      "dict_keys(['loss', 'accuracy', 'val_loss', 'val_accuracy'])\n",
      "current time:- 2021-04-06 03:15:17.314504\n"
     ]
    },
    {
     "data": {
      "image/png": "[encoded data removed]",
      "text/plain": [
       "<Figure size 432x288 with 1 Axes>"
      ]
     },
     "metadata": {
      "needs_background": "light"
     },
     "output_type": "display_data"
    }
   ],
   "source": [
    "print(\"training Deep Neural Network now ...\")\n",
    "\n",
    "dnn_model = keras.Sequential([\n",
    "    keras.layers.Flatten(input_shape=(700,)),\n",
    "    keras.layers.Dense(500, activation=tf.nn.relu),\n",
    "    keras.layers.Dense(200, activation=tf.nn.relu),\n",
    "    keras.layers.Dense(1, activation=tf.nn.sigmoid),\n",
    "])\n",
    "\n",
    "dnn_model.compile(optimizer='adam', loss='binary_crossentropy', metrics=['accuracy'])\n",
    "\n",
    "print(\"current time:-\", datetime.datetime.now())\n",
    "history = dnn_model.fit(pComponents, trainY, validation_split=0.25, epochs=200, batch_size=5)\n",
    "\n",
    "# list all data in history\n",
    "print(history.history.keys())\n",
    "\n",
    "#test_loss, test_acc = dnn_model.evaluate(X_test, y_test)\n",
    "#print('Accuracy of Deep Neural Network is: %f ' % test_acc)\n",
    "print(\"current time:-\", datetime.datetime.now())\n",
    "\n",
    "# summarize history for loss\n",
    "plt.plot(history.history['loss'])\n",
    "plt.plot(history.history['val_loss'])\n",
    "plt.title('model loss')\n",
    "plt.ylabel('loss')\n",
    "plt.xlabel('epoch')\n",
    "plt.legend(['train', 'test'], loc='upper left')\n",
    "plt.show()"
   ]
  },
  {
   "cell_type": "code",
   "execution_count": null,
   "metadata": {},
   "outputs": [],
   "source": []
  }
 ],
 "metadata": {
  "kernelspec": {
   "display_name": "Python 3",
   "language": "python",
   "name": "python3"
  },
  "language_info": {
   "codemirror_mode": {
    "name": "ipython",
    "version": 3
   },
   "file_extension": ".py",
   "mimetype": "text/x-python",
   "name": "python",
   "nbconvert_exporter": "python",
   "pygments_lexer": "ipython3",
   "version": "3.8.5"
  }
 },
 "nbformat": 4,
 "nbformat_minor": 4
}
