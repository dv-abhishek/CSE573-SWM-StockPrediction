{
  "nbformat": 4,
  "nbformat_minor": 0,
  "metadata": {
    "colab": {
      "name": "model-training-chi2-two-gram-four-hours.ipynb",
      "provenance": [],
      "toc_visible": true
    },
    "kernelspec": {
      "name": "python3",
      "display_name": "Python 3"
    },
    "language_info": {
      "name": "python"
    }
  },
  "cells": [
    {
      "cell_type": "markdown",
      "metadata": {
        "id": "6XUHdrKs0Pwb"
      },
      "source": [
        "# All the libraries used in this notebook"
      ]
    },
    {
      "cell_type": "code",
      "metadata": {
        "id": "oYx6t3fjAm-v"
      },
      "source": [
        "from sklearn.model_selection import train_test_split\n",
        "from sklearn.decomposition import PCA\n",
        "from sklearn.metrics import accuracy_score\n",
        "from sklearn.linear_model import LogisticRegression\n",
        "from sklearn.ensemble import RandomForestClassifier\n",
        "from sklearn import svm\n",
        "from sklearn import tree\n",
        "from tensorflow import keras\n",
        "import pickle\n",
        "import datetime\n",
        "import numpy as np\n",
        "from sklearn.feature_selection import chi2\n",
        "from sklearn.feature_selection import SelectKBest"
      ],
      "execution_count": 2,
      "outputs": []
    },
    {
      "cell_type": "markdown",
      "metadata": {
        "id": "LVO_E77q0d5j"
      },
      "source": [
        "#Loading the Apple two gram features for 4 hour time interval"
      ]
    },
    {
      "cell_type": "code",
      "metadata": {
        "id": "y_j4X15aAP-F"
      },
      "source": [
        "with open('/content/drive/MyDrive/SWM/CSE573-SWM-Data/aapl_two_gram_4_hours_features_labelled_df.pkl', 'rb') as f:\n",
        "    labelled_aapl_news_df = pickle.load(f)"
      ],
      "execution_count": 3,
      "outputs": []
    },
    {
      "cell_type": "markdown",
      "metadata": {
        "id": "1z8gLRUa0lj1"
      },
      "source": [
        "#Splitting the dataset for training and testing"
      ]
    },
    {
      "cell_type": "code",
      "metadata": {
        "id": "49ZR-irsAluT"
      },
      "source": [
        "trainX_df=labelled_aapl_news_df['features']\n",
        "trainY_df=labelled_aapl_news_df['label']\n",
        "trainX = np.stack(trainX_df)\n",
        "\n",
        "trainY_df=trainY_df.astype('int')\n",
        "trainY = np.stack(trainY_df)"
      ],
      "execution_count": 4,
      "outputs": []
    },
    {
      "cell_type": "code",
      "metadata": {
        "colab": {
          "base_uri": "https://localhost:8080/"
        },
        "id": "R-VG84rkAsah",
        "outputId": "2f8c8781-854e-415f-89a2-c556d40c6429"
      },
      "source": [
        "print(trainX.shape)\n",
        "print(trainY.shape)"
      ],
      "execution_count": 5,
      "outputs": [
        {
          "output_type": "stream",
          "text": [
            "(72122, 819)\n",
            "(72122,)\n"
          ],
          "name": "stdout"
        }
      ]
    },
    {
      "cell_type": "markdown",
      "metadata": {
        "id": "LjIAx9ZX0x9p"
      },
      "source": [
        "#Feature Extraction using chi2"
      ]
    },
    {
      "cell_type": "code",
      "metadata": {
        "id": "2bU2jf5tA0bv"
      },
      "source": [
        "chi2_selector = SelectKBest(chi2, k = 500)\n",
        "chi_trainX = chi2_selector.fit_transform(trainX, trainY)\n",
        "X_train, X_test, y_train, y_test = train_test_split(chi_trainX, trainY, test_size=0.2, random_state=23)\n",
        "print(X_train.shape)\n",
        "print(y_train.shape)"
      ],
      "execution_count": null,
      "outputs": []
    },
    {
      "cell_type": "markdown",
      "metadata": {
        "id": "P49fiDkM02M0"
      },
      "source": [
        "#Logistic Regression\n",
        "\n",
        "*   Accuracy: 54.6%\n",
        "\n"
      ]
    },
    {
      "cell_type": "code",
      "metadata": {
        "colab": {
          "base_uri": "https://localhost:8080/"
        },
        "id": "C252qNXEA4po",
        "outputId": "aba91d4b-eb35-4911-cf13-6b271de4161f"
      },
      "source": [
        "print(\"training Logistic Regression now ...\")\n",
        "\n",
        "logistic_regression = LogisticRegression(max_iter=1000, verbose=15).fit(X_train,y_train)\n",
        "y_pred = logistic_regression.predict(X_test)\n",
        "acc = accuracy_score(y_test,y_pred)\n",
        "\n",
        "print('Accuracy of Logistic Regression classifier is: %f ' % acc)"
      ],
      "execution_count": null,
      "outputs": [
        {
          "output_type": "stream",
          "text": [
            "training Logistic Regression now ...\n"
          ],
          "name": "stdout"
        },
        {
          "output_type": "stream",
          "text": [
            "[Parallel(n_jobs=1)]: Using backend SequentialBackend with 1 concurrent workers.\n"
          ],
          "name": "stderr"
        },
        {
          "output_type": "stream",
          "text": [
            "Accuracy of Logistic Regression classifier is: 0.546205 \n"
          ],
          "name": "stdout"
        },
        {
          "output_type": "stream",
          "text": [
            "[Parallel(n_jobs=1)]: Done   1 out of   1 | elapsed:    4.8s remaining:    0.0s\n",
            "[Parallel(n_jobs=1)]: Done   1 out of   1 | elapsed:    4.8s finished\n"
          ],
          "name": "stderr"
        }
      ]
    },
    {
      "cell_type": "markdown",
      "metadata": {
        "id": "PDawy5W70-qx"
      },
      "source": [
        "#Decision Tree\n",
        "\n",
        "*   Accuracy: 57.4%\n",
        "\n"
      ]
    },
    {
      "cell_type": "code",
      "metadata": {
        "colab": {
          "base_uri": "https://localhost:8080/"
        },
        "id": "dgMKyFIbA6hJ",
        "outputId": "135b6715-1c5d-448b-9245-5b44be660562"
      },
      "source": [
        "print(\"training Decision Tree now ...\")\n",
        "decision_tree = tree.DecisionTreeClassifier(random_state=0).fit(X_train,y_train)\n",
        "y_pred = decision_tree.predict(X_test)\n",
        "acc=accuracy_score(y_test,y_pred)\n",
        "print('Accuracy of Decision Tree classifier is: %f ' % acc)"
      ],
      "execution_count": null,
      "outputs": [
        {
          "output_type": "stream",
          "text": [
            "training Decision Tree now ...\n",
            "Accuracy of Decision Tree classifier is: 0.574003 \n"
          ],
          "name": "stdout"
        }
      ]
    },
    {
      "cell_type": "markdown",
      "metadata": {
        "id": "abxTq7_b1Fdn"
      },
      "source": [
        "#Random Forest Classifier\n",
        "\n",
        "*   Accuracy: 59.8%\n",
        "\n"
      ]
    },
    {
      "cell_type": "code",
      "metadata": {
        "colab": {
          "base_uri": "https://localhost:8080/"
        },
        "id": "uiPkucz-A9D5",
        "outputId": "0ad1d337-345f-49bd-e28e-b5e2afe7a908"
      },
      "source": [
        "print(\"training Random Forest classifier now ...\")\n",
        "\n",
        "random_forest_classifier = RandomForestClassifier(n_estimators=100, verbose=15, n_jobs=-1).fit(X_train,y_train)\n",
        "#increase n_estimators if you face issues in training\n",
        "y_pred=random_forest_classifier.predict(X_test)\n",
        "acc=accuracy_score(y_test,y_pred)\n",
        "print('Accuracy of Random Forest classifier is: %f ' % acc)"
      ],
      "execution_count": null,
      "outputs": [
        {
          "output_type": "stream",
          "text": [
            "training Random Forest classifier now ...\n",
            "building tree 1 of 100\n",
            "building tree 2 of 100\n"
          ],
          "name": "stdout"
        },
        {
          "output_type": "stream",
          "text": [
            "[Parallel(n_jobs=-1)]: Using backend ThreadingBackend with 2 concurrent workers.\n",
            "[Parallel(n_jobs=-1)]: Done   1 tasks      | elapsed:    2.1s\n",
            "[Parallel(n_jobs=-1)]: Done   2 tasks      | elapsed:    2.1s\n"
          ],
          "name": "stderr"
        },
        {
          "output_type": "stream",
          "text": [
            "building tree 3 of 100\n",
            "building tree 4 of 100\n"
          ],
          "name": "stdout"
        },
        {
          "output_type": "stream",
          "text": [
            "[Parallel(n_jobs=-1)]: Done   3 tasks      | elapsed:    4.2s\n",
            "[Parallel(n_jobs=-1)]: Done   4 tasks      | elapsed:    4.2s\n"
          ],
          "name": "stderr"
        },
        {
          "output_type": "stream",
          "text": [
            "building tree 5 of 100\n",
            "building tree 6 of 100\n"
          ],
          "name": "stdout"
        },
        {
          "output_type": "stream",
          "text": [
            "[Parallel(n_jobs=-1)]: Done   5 tasks      | elapsed:    6.1s\n",
            "[Parallel(n_jobs=-1)]: Done   6 tasks      | elapsed:    6.1s\n"
          ],
          "name": "stderr"
        },
        {
          "output_type": "stream",
          "text": [
            "building tree 7 of 100\n",
            "building tree 8 of 100\n"
          ],
          "name": "stdout"
        },
        {
          "output_type": "stream",
          "text": [
            "[Parallel(n_jobs=-1)]: Done   7 tasks      | elapsed:    8.1s\n",
            "[Parallel(n_jobs=-1)]: Done   8 tasks      | elapsed:    8.2s\n"
          ],
          "name": "stderr"
        },
        {
          "output_type": "stream",
          "text": [
            "building tree 9 of 100\n",
            "building tree 10 of 100\n"
          ],
          "name": "stdout"
        },
        {
          "output_type": "stream",
          "text": [
            "[Parallel(n_jobs=-1)]: Done   9 tasks      | elapsed:   10.2s\n",
            "[Parallel(n_jobs=-1)]: Done  10 tasks      | elapsed:   10.2s\n"
          ],
          "name": "stderr"
        },
        {
          "output_type": "stream",
          "text": [
            "building tree 11 of 100\n",
            "building tree 12 of 100\n"
          ],
          "name": "stdout"
        },
        {
          "output_type": "stream",
          "text": [
            "[Parallel(n_jobs=-1)]: Done  11 tasks      | elapsed:   12.2s\n",
            "[Parallel(n_jobs=-1)]: Done  12 tasks      | elapsed:   12.2s\n"
          ],
          "name": "stderr"
        },
        {
          "output_type": "stream",
          "text": [
            "building tree 13 of 100\n",
            "building tree 14 of 100\n"
          ],
          "name": "stdout"
        },
        {
          "output_type": "stream",
          "text": [
            "[Parallel(n_jobs=-1)]: Done  13 tasks      | elapsed:   14.1s\n",
            "[Parallel(n_jobs=-1)]: Done  14 tasks      | elapsed:   14.2s\n"
          ],
          "name": "stderr"
        },
        {
          "output_type": "stream",
          "text": [
            "building tree 15 of 100\n",
            "building tree 16 of 100\n"
          ],
          "name": "stdout"
        },
        {
          "output_type": "stream",
          "text": [
            "[Parallel(n_jobs=-1)]: Done  15 tasks      | elapsed:   16.2s\n",
            "[Parallel(n_jobs=-1)]: Done  16 tasks      | elapsed:   16.2s\n"
          ],
          "name": "stderr"
        },
        {
          "output_type": "stream",
          "text": [
            "building tree 17 of 100\n",
            "building tree 18 of 100\n"
          ],
          "name": "stdout"
        },
        {
          "output_type": "stream",
          "text": [
            "[Parallel(n_jobs=-1)]: Done  17 tasks      | elapsed:   18.1s\n",
            "[Parallel(n_jobs=-1)]: Done  18 tasks      | elapsed:   18.2s\n"
          ],
          "name": "stderr"
        },
        {
          "output_type": "stream",
          "text": [
            "building tree 19 of 100\n",
            "building tree 20 of 100\n"
          ],
          "name": "stdout"
        },
        {
          "output_type": "stream",
          "text": [
            "[Parallel(n_jobs=-1)]: Done  19 tasks      | elapsed:   20.1s\n",
            "[Parallel(n_jobs=-1)]: Done  20 tasks      | elapsed:   20.2s\n"
          ],
          "name": "stderr"
        },
        {
          "output_type": "stream",
          "text": [
            "building tree 21 of 100\n",
            "building tree 22 of 100\n"
          ],
          "name": "stdout"
        },
        {
          "output_type": "stream",
          "text": [
            "[Parallel(n_jobs=-1)]: Done  21 tasks      | elapsed:   22.2s\n",
            "[Parallel(n_jobs=-1)]: Done  22 tasks      | elapsed:   22.2s\n"
          ],
          "name": "stderr"
        },
        {
          "output_type": "stream",
          "text": [
            "building tree 23 of 100\n",
            "building tree 24 of 100\n"
          ],
          "name": "stdout"
        },
        {
          "output_type": "stream",
          "text": [
            "[Parallel(n_jobs=-1)]: Done  23 tasks      | elapsed:   24.1s\n",
            "[Parallel(n_jobs=-1)]: Done  24 tasks      | elapsed:   24.2s\n"
          ],
          "name": "stderr"
        },
        {
          "output_type": "stream",
          "text": [
            "building tree 25 of 100\n",
            "building tree 26 of 100\n"
          ],
          "name": "stdout"
        },
        {
          "output_type": "stream",
          "text": [
            "[Parallel(n_jobs=-1)]: Done  25 tasks      | elapsed:   26.0s\n",
            "[Parallel(n_jobs=-1)]: Done  26 tasks      | elapsed:   26.2s\n"
          ],
          "name": "stderr"
        },
        {
          "output_type": "stream",
          "text": [
            "building tree 27 of 100\n",
            "building tree 28 of 100\n"
          ],
          "name": "stdout"
        },
        {
          "output_type": "stream",
          "text": [
            "[Parallel(n_jobs=-1)]: Done  27 tasks      | elapsed:   27.9s\n"
          ],
          "name": "stderr"
        },
        {
          "output_type": "stream",
          "text": [
            "building tree 29 of 100\n"
          ],
          "name": "stdout"
        },
        {
          "output_type": "stream",
          "text": [
            "[Parallel(n_jobs=-1)]: Done  28 tasks      | elapsed:   28.1s\n"
          ],
          "name": "stderr"
        },
        {
          "output_type": "stream",
          "text": [
            "building tree 30 of 100\n"
          ],
          "name": "stdout"
        },
        {
          "output_type": "stream",
          "text": [
            "[Parallel(n_jobs=-1)]: Done  29 tasks      | elapsed:   29.9s\n"
          ],
          "name": "stderr"
        },
        {
          "output_type": "stream",
          "text": [
            "building tree 31 of 100\n"
          ],
          "name": "stdout"
        },
        {
          "output_type": "stream",
          "text": [
            "[Parallel(n_jobs=-1)]: Done  30 tasks      | elapsed:   30.3s\n"
          ],
          "name": "stderr"
        },
        {
          "output_type": "stream",
          "text": [
            "building tree 32 of 100\n"
          ],
          "name": "stdout"
        },
        {
          "output_type": "stream",
          "text": [
            "[Parallel(n_jobs=-1)]: Done  31 tasks      | elapsed:   31.9s\n"
          ],
          "name": "stderr"
        },
        {
          "output_type": "stream",
          "text": [
            "building tree 33 of 100\n"
          ],
          "name": "stdout"
        },
        {
          "output_type": "stream",
          "text": [
            "[Parallel(n_jobs=-1)]: Done  32 tasks      | elapsed:   32.2s\n"
          ],
          "name": "stderr"
        },
        {
          "output_type": "stream",
          "text": [
            "building tree 34 of 100\n"
          ],
          "name": "stdout"
        },
        {
          "output_type": "stream",
          "text": [
            "[Parallel(n_jobs=-1)]: Done  33 tasks      | elapsed:   33.8s\n"
          ],
          "name": "stderr"
        },
        {
          "output_type": "stream",
          "text": [
            "building tree 35 of 100\n"
          ],
          "name": "stdout"
        },
        {
          "output_type": "stream",
          "text": [
            "[Parallel(n_jobs=-1)]: Done  34 tasks      | elapsed:   34.2s\n"
          ],
          "name": "stderr"
        },
        {
          "output_type": "stream",
          "text": [
            "building tree 36 of 100\n"
          ],
          "name": "stdout"
        },
        {
          "output_type": "stream",
          "text": [
            "[Parallel(n_jobs=-1)]: Done  35 tasks      | elapsed:   35.7s\n"
          ],
          "name": "stderr"
        },
        {
          "output_type": "stream",
          "text": [
            "building tree 37 of 100\n"
          ],
          "name": "stdout"
        },
        {
          "output_type": "stream",
          "text": [
            "[Parallel(n_jobs=-1)]: Done  36 tasks      | elapsed:   36.1s\n"
          ],
          "name": "stderr"
        },
        {
          "output_type": "stream",
          "text": [
            "building tree 38 of 100\n"
          ],
          "name": "stdout"
        },
        {
          "output_type": "stream",
          "text": [
            "[Parallel(n_jobs=-1)]: Done  37 tasks      | elapsed:   37.6s\n"
          ],
          "name": "stderr"
        },
        {
          "output_type": "stream",
          "text": [
            "building tree 39 of 100\n"
          ],
          "name": "stdout"
        },
        {
          "output_type": "stream",
          "text": [
            "[Parallel(n_jobs=-1)]: Done  38 tasks      | elapsed:   38.1s\n"
          ],
          "name": "stderr"
        },
        {
          "output_type": "stream",
          "text": [
            "building tree 40 of 100\n"
          ],
          "name": "stdout"
        },
        {
          "output_type": "stream",
          "text": [
            "[Parallel(n_jobs=-1)]: Done  39 tasks      | elapsed:   39.6s\n"
          ],
          "name": "stderr"
        },
        {
          "output_type": "stream",
          "text": [
            "building tree 41 of 100\n"
          ],
          "name": "stdout"
        },
        {
          "output_type": "stream",
          "text": [
            "[Parallel(n_jobs=-1)]: Done  40 tasks      | elapsed:   40.1s\n"
          ],
          "name": "stderr"
        },
        {
          "output_type": "stream",
          "text": [
            "building tree 42 of 100\n"
          ],
          "name": "stdout"
        },
        {
          "output_type": "stream",
          "text": [
            "[Parallel(n_jobs=-1)]: Done  41 tasks      | elapsed:   41.6s\n"
          ],
          "name": "stderr"
        },
        {
          "output_type": "stream",
          "text": [
            "building tree 43 of 100\n"
          ],
          "name": "stdout"
        },
        {
          "output_type": "stream",
          "text": [
            "[Parallel(n_jobs=-1)]: Done  42 tasks      | elapsed:   42.0s\n"
          ],
          "name": "stderr"
        },
        {
          "output_type": "stream",
          "text": [
            "building tree 44 of 100\n"
          ],
          "name": "stdout"
        },
        {
          "output_type": "stream",
          "text": [
            "[Parallel(n_jobs=-1)]: Done  43 tasks      | elapsed:   43.6s\n"
          ],
          "name": "stderr"
        },
        {
          "output_type": "stream",
          "text": [
            "building tree 45 of 100\n"
          ],
          "name": "stdout"
        },
        {
          "output_type": "stream",
          "text": [
            "[Parallel(n_jobs=-1)]: Done  44 tasks      | elapsed:   44.0s\n"
          ],
          "name": "stderr"
        },
        {
          "output_type": "stream",
          "text": [
            "building tree 46 of 100\n"
          ],
          "name": "stdout"
        },
        {
          "output_type": "stream",
          "text": [
            "[Parallel(n_jobs=-1)]: Done  45 tasks      | elapsed:   45.5s\n"
          ],
          "name": "stderr"
        },
        {
          "output_type": "stream",
          "text": [
            "building tree 47 of 100\n"
          ],
          "name": "stdout"
        },
        {
          "output_type": "stream",
          "text": [
            "[Parallel(n_jobs=-1)]: Done  46 tasks      | elapsed:   46.0s\n"
          ],
          "name": "stderr"
        },
        {
          "output_type": "stream",
          "text": [
            "building tree 48 of 100\n"
          ],
          "name": "stdout"
        },
        {
          "output_type": "stream",
          "text": [
            "[Parallel(n_jobs=-1)]: Done  47 tasks      | elapsed:   47.5s\n"
          ],
          "name": "stderr"
        },
        {
          "output_type": "stream",
          "text": [
            "building tree 49 of 100\n"
          ],
          "name": "stdout"
        },
        {
          "output_type": "stream",
          "text": [
            "[Parallel(n_jobs=-1)]: Done  48 tasks      | elapsed:   47.9s\n"
          ],
          "name": "stderr"
        },
        {
          "output_type": "stream",
          "text": [
            "building tree 50 of 100\n"
          ],
          "name": "stdout"
        },
        {
          "output_type": "stream",
          "text": [
            "[Parallel(n_jobs=-1)]: Done  49 tasks      | elapsed:   49.6s\n",
            "[Parallel(n_jobs=-1)]: Done  50 tasks      | elapsed:   49.8s\n"
          ],
          "name": "stderr"
        },
        {
          "output_type": "stream",
          "text": [
            "building tree 51 of 100\n",
            "building tree 52 of 100\n"
          ],
          "name": "stdout"
        },
        {
          "output_type": "stream",
          "text": [
            "[Parallel(n_jobs=-1)]: Done  51 tasks      | elapsed:   51.5s\n",
            "[Parallel(n_jobs=-1)]: Done  52 tasks      | elapsed:   51.7s\n"
          ],
          "name": "stderr"
        },
        {
          "output_type": "stream",
          "text": [
            "building tree 53 of 100\n",
            "building tree 54 of 100\n"
          ],
          "name": "stdout"
        },
        {
          "output_type": "stream",
          "text": [
            "[Parallel(n_jobs=-1)]: Done  53 tasks      | elapsed:   53.4s\n"
          ],
          "name": "stderr"
        },
        {
          "output_type": "stream",
          "text": [
            "building tree 55 of 100\n"
          ],
          "name": "stdout"
        },
        {
          "output_type": "stream",
          "text": [
            "[Parallel(n_jobs=-1)]: Done  54 tasks      | elapsed:   53.6s\n"
          ],
          "name": "stderr"
        },
        {
          "output_type": "stream",
          "text": [
            "building tree 56 of 100\n"
          ],
          "name": "stdout"
        },
        {
          "output_type": "stream",
          "text": [
            "[Parallel(n_jobs=-1)]: Done  55 tasks      | elapsed:   55.4s\n"
          ],
          "name": "stderr"
        },
        {
          "output_type": "stream",
          "text": [
            "building tree 57 of 100\n"
          ],
          "name": "stdout"
        },
        {
          "output_type": "stream",
          "text": [
            "[Parallel(n_jobs=-1)]: Done  56 tasks      | elapsed:   55.7s\n"
          ],
          "name": "stderr"
        },
        {
          "output_type": "stream",
          "text": [
            "building tree 58 of 100\n"
          ],
          "name": "stdout"
        },
        {
          "output_type": "stream",
          "text": [
            "[Parallel(n_jobs=-1)]: Done  57 tasks      | elapsed:   57.5s\n",
            "[Parallel(n_jobs=-1)]: Done  58 tasks      | elapsed:   57.6s\n"
          ],
          "name": "stderr"
        },
        {
          "output_type": "stream",
          "text": [
            "building tree 59 of 100\n",
            "building tree 60 of 100\n"
          ],
          "name": "stdout"
        },
        {
          "output_type": "stream",
          "text": [
            "[Parallel(n_jobs=-1)]: Done  59 tasks      | elapsed:   59.4s\n",
            "[Parallel(n_jobs=-1)]: Done  60 tasks      | elapsed:   59.6s\n"
          ],
          "name": "stderr"
        },
        {
          "output_type": "stream",
          "text": [
            "building tree 61 of 100\n",
            "building tree 62 of 100\n"
          ],
          "name": "stdout"
        },
        {
          "output_type": "stream",
          "text": [
            "[Parallel(n_jobs=-1)]: Done  61 tasks      | elapsed:  1.0min\n",
            "[Parallel(n_jobs=-1)]: Done  62 tasks      | elapsed:  1.0min\n"
          ],
          "name": "stderr"
        },
        {
          "output_type": "stream",
          "text": [
            "building tree 63 of 100\n",
            "building tree 64 of 100\n"
          ],
          "name": "stdout"
        },
        {
          "output_type": "stream",
          "text": [
            "[Parallel(n_jobs=-1)]: Done  63 tasks      | elapsed:  1.1min\n",
            "[Parallel(n_jobs=-1)]: Done  64 tasks      | elapsed:  1.1min\n"
          ],
          "name": "stderr"
        },
        {
          "output_type": "stream",
          "text": [
            "building tree 65 of 100\n",
            "building tree 66 of 100\n"
          ],
          "name": "stdout"
        },
        {
          "output_type": "stream",
          "text": [
            "[Parallel(n_jobs=-1)]: Done  65 tasks      | elapsed:  1.1min\n",
            "[Parallel(n_jobs=-1)]: Done  66 tasks      | elapsed:  1.1min\n"
          ],
          "name": "stderr"
        },
        {
          "output_type": "stream",
          "text": [
            "building tree 67 of 100\n",
            "building tree 68 of 100\n"
          ],
          "name": "stdout"
        },
        {
          "output_type": "stream",
          "text": [
            "[Parallel(n_jobs=-1)]: Done  67 tasks      | elapsed:  1.1min\n",
            "[Parallel(n_jobs=-1)]: Done  68 tasks      | elapsed:  1.1min\n"
          ],
          "name": "stderr"
        },
        {
          "output_type": "stream",
          "text": [
            "building tree 69 of 100\n",
            "building tree 70 of 100\n"
          ],
          "name": "stdout"
        },
        {
          "output_type": "stream",
          "text": [
            "[Parallel(n_jobs=-1)]: Done  69 tasks      | elapsed:  1.2min\n",
            "[Parallel(n_jobs=-1)]: Done  70 tasks      | elapsed:  1.2min\n"
          ],
          "name": "stderr"
        },
        {
          "output_type": "stream",
          "text": [
            "building tree 71 of 100\n",
            "building tree 72 of 100\n"
          ],
          "name": "stdout"
        },
        {
          "output_type": "stream",
          "text": [
            "[Parallel(n_jobs=-1)]: Done  71 tasks      | elapsed:  1.2min\n"
          ],
          "name": "stderr"
        },
        {
          "output_type": "stream",
          "text": [
            "building tree 73 of 100\n"
          ],
          "name": "stdout"
        },
        {
          "output_type": "stream",
          "text": [
            "[Parallel(n_jobs=-1)]: Done  72 tasks      | elapsed:  1.2min\n"
          ],
          "name": "stderr"
        },
        {
          "output_type": "stream",
          "text": [
            "building tree 74 of 100\n"
          ],
          "name": "stdout"
        },
        {
          "output_type": "stream",
          "text": [
            "[Parallel(n_jobs=-1)]: Done  73 tasks      | elapsed:  1.2min\n"
          ],
          "name": "stderr"
        },
        {
          "output_type": "stream",
          "text": [
            "building tree 75 of 100\n"
          ],
          "name": "stdout"
        },
        {
          "output_type": "stream",
          "text": [
            "[Parallel(n_jobs=-1)]: Done  74 tasks      | elapsed:  1.2min\n"
          ],
          "name": "stderr"
        },
        {
          "output_type": "stream",
          "text": [
            "building tree 76 of 100\n"
          ],
          "name": "stdout"
        },
        {
          "output_type": "stream",
          "text": [
            "[Parallel(n_jobs=-1)]: Done  75 tasks      | elapsed:  1.2min\n"
          ],
          "name": "stderr"
        },
        {
          "output_type": "stream",
          "text": [
            "building tree 77 of 100\n"
          ],
          "name": "stdout"
        },
        {
          "output_type": "stream",
          "text": [
            "[Parallel(n_jobs=-1)]: Done  76 tasks      | elapsed:  1.3min\n"
          ],
          "name": "stderr"
        },
        {
          "output_type": "stream",
          "text": [
            "building tree 78 of 100\n"
          ],
          "name": "stdout"
        },
        {
          "output_type": "stream",
          "text": [
            "[Parallel(n_jobs=-1)]: Done  77 tasks      | elapsed:  1.3min\n"
          ],
          "name": "stderr"
        },
        {
          "output_type": "stream",
          "text": [
            "building tree 79 of 100\n"
          ],
          "name": "stdout"
        },
        {
          "output_type": "stream",
          "text": [
            "[Parallel(n_jobs=-1)]: Done  78 tasks      | elapsed:  1.3min\n"
          ],
          "name": "stderr"
        },
        {
          "output_type": "stream",
          "text": [
            "building tree 80 of 100\n"
          ],
          "name": "stdout"
        },
        {
          "output_type": "stream",
          "text": [
            "[Parallel(n_jobs=-1)]: Done  79 tasks      | elapsed:  1.3min\n"
          ],
          "name": "stderr"
        },
        {
          "output_type": "stream",
          "text": [
            "building tree 81 of 100\n"
          ],
          "name": "stdout"
        },
        {
          "output_type": "stream",
          "text": [
            "[Parallel(n_jobs=-1)]: Done  80 tasks      | elapsed:  1.3min\n"
          ],
          "name": "stderr"
        },
        {
          "output_type": "stream",
          "text": [
            "building tree 82 of 100\n"
          ],
          "name": "stdout"
        },
        {
          "output_type": "stream",
          "text": [
            "[Parallel(n_jobs=-1)]: Done  81 tasks      | elapsed:  1.3min\n"
          ],
          "name": "stderr"
        },
        {
          "output_type": "stream",
          "text": [
            "building tree 83 of 100\n"
          ],
          "name": "stdout"
        },
        {
          "output_type": "stream",
          "text": [
            "[Parallel(n_jobs=-1)]: Done  82 tasks      | elapsed:  1.4min\n"
          ],
          "name": "stderr"
        },
        {
          "output_type": "stream",
          "text": [
            "building tree 84 of 100\n"
          ],
          "name": "stdout"
        },
        {
          "output_type": "stream",
          "text": [
            "[Parallel(n_jobs=-1)]: Done  83 tasks      | elapsed:  1.4min\n"
          ],
          "name": "stderr"
        },
        {
          "output_type": "stream",
          "text": [
            "building tree 85 of 100\n"
          ],
          "name": "stdout"
        },
        {
          "output_type": "stream",
          "text": [
            "[Parallel(n_jobs=-1)]: Done  84 tasks      | elapsed:  1.4min\n"
          ],
          "name": "stderr"
        },
        {
          "output_type": "stream",
          "text": [
            "building tree 86 of 100\n"
          ],
          "name": "stdout"
        },
        {
          "output_type": "stream",
          "text": [
            "[Parallel(n_jobs=-1)]: Done  85 tasks      | elapsed:  1.4min\n"
          ],
          "name": "stderr"
        },
        {
          "output_type": "stream",
          "text": [
            "building tree 87 of 100\n"
          ],
          "name": "stdout"
        },
        {
          "output_type": "stream",
          "text": [
            "[Parallel(n_jobs=-1)]: Done  86 tasks      | elapsed:  1.4min\n"
          ],
          "name": "stderr"
        },
        {
          "output_type": "stream",
          "text": [
            "building tree 88 of 100\n"
          ],
          "name": "stdout"
        },
        {
          "output_type": "stream",
          "text": [
            "[Parallel(n_jobs=-1)]: Done  87 tasks      | elapsed:  1.4min\n"
          ],
          "name": "stderr"
        },
        {
          "output_type": "stream",
          "text": [
            "building tree 89 of 100\n"
          ],
          "name": "stdout"
        },
        {
          "output_type": "stream",
          "text": [
            "[Parallel(n_jobs=-1)]: Done  88 tasks      | elapsed:  1.5min\n"
          ],
          "name": "stderr"
        },
        {
          "output_type": "stream",
          "text": [
            "building tree 90 of 100\n"
          ],
          "name": "stdout"
        },
        {
          "output_type": "stream",
          "text": [
            "[Parallel(n_jobs=-1)]: Done  89 tasks      | elapsed:  1.5min\n"
          ],
          "name": "stderr"
        },
        {
          "output_type": "stream",
          "text": [
            "building tree 91 of 100\n"
          ],
          "name": "stdout"
        },
        {
          "output_type": "stream",
          "text": [
            "[Parallel(n_jobs=-1)]: Done  90 tasks      | elapsed:  1.5min\n"
          ],
          "name": "stderr"
        },
        {
          "output_type": "stream",
          "text": [
            "building tree 92 of 100\n"
          ],
          "name": "stdout"
        },
        {
          "output_type": "stream",
          "text": [
            "[Parallel(n_jobs=-1)]: Done  91 tasks      | elapsed:  1.5min\n"
          ],
          "name": "stderr"
        },
        {
          "output_type": "stream",
          "text": [
            "building tree 93 of 100\n"
          ],
          "name": "stdout"
        },
        {
          "output_type": "stream",
          "text": [
            "[Parallel(n_jobs=-1)]: Done  92 tasks      | elapsed:  1.5min\n"
          ],
          "name": "stderr"
        },
        {
          "output_type": "stream",
          "text": [
            "building tree 94 of 100\n"
          ],
          "name": "stdout"
        },
        {
          "output_type": "stream",
          "text": [
            "[Parallel(n_jobs=-1)]: Done  93 tasks      | elapsed:  1.5min\n"
          ],
          "name": "stderr"
        },
        {
          "output_type": "stream",
          "text": [
            "building tree 95 of 100\n"
          ],
          "name": "stdout"
        },
        {
          "output_type": "stream",
          "text": [
            "[Parallel(n_jobs=-1)]: Done  94 tasks      | elapsed:  1.5min\n"
          ],
          "name": "stderr"
        },
        {
          "output_type": "stream",
          "text": [
            "building tree 96 of 100\n"
          ],
          "name": "stdout"
        },
        {
          "output_type": "stream",
          "text": [
            "[Parallel(n_jobs=-1)]: Done  95 tasks      | elapsed:  1.6min\n"
          ],
          "name": "stderr"
        },
        {
          "output_type": "stream",
          "text": [
            "building tree 97 of 100\n"
          ],
          "name": "stdout"
        },
        {
          "output_type": "stream",
          "text": [
            "[Parallel(n_jobs=-1)]: Done  96 tasks      | elapsed:  1.6min\n"
          ],
          "name": "stderr"
        },
        {
          "output_type": "stream",
          "text": [
            "building tree 98 of 100\n",
            "building tree 99 of 100\n"
          ],
          "name": "stdout"
        },
        {
          "output_type": "stream",
          "text": [
            "[Parallel(n_jobs=-1)]: Done  97 tasks      | elapsed:  1.6min\n"
          ],
          "name": "stderr"
        },
        {
          "output_type": "stream",
          "text": [
            "building tree 100 of 100\n"
          ],
          "name": "stdout"
        },
        {
          "output_type": "stream",
          "text": [
            "[Parallel(n_jobs=-1)]: Done 100 out of 100 | elapsed:  1.6min finished\n",
            "[Parallel(n_jobs=2)]: Using backend ThreadingBackend with 2 concurrent workers.\n",
            "[Parallel(n_jobs=2)]: Done   1 tasks      | elapsed:    0.0s\n",
            "[Parallel(n_jobs=2)]: Done   2 tasks      | elapsed:    0.0s\n",
            "[Parallel(n_jobs=2)]: Done   3 tasks      | elapsed:    0.0s\n",
            "[Parallel(n_jobs=2)]: Done   4 tasks      | elapsed:    0.0s\n",
            "[Parallel(n_jobs=2)]: Done   5 tasks      | elapsed:    0.1s\n",
            "[Parallel(n_jobs=2)]: Done   6 tasks      | elapsed:    0.1s\n",
            "[Parallel(n_jobs=2)]: Done   7 tasks      | elapsed:    0.1s\n",
            "[Parallel(n_jobs=2)]: Done   8 tasks      | elapsed:    0.1s\n",
            "[Parallel(n_jobs=2)]: Done   9 tasks      | elapsed:    0.1s\n",
            "[Parallel(n_jobs=2)]: Done  10 tasks      | elapsed:    0.1s\n",
            "[Parallel(n_jobs=2)]: Done  11 tasks      | elapsed:    0.1s\n",
            "[Parallel(n_jobs=2)]: Done  12 tasks      | elapsed:    0.1s\n",
            "[Parallel(n_jobs=2)]: Done  13 tasks      | elapsed:    0.2s\n",
            "[Parallel(n_jobs=2)]: Done  14 tasks      | elapsed:    0.2s\n",
            "[Parallel(n_jobs=2)]: Done  15 tasks      | elapsed:    0.2s\n",
            "[Parallel(n_jobs=2)]: Done  16 tasks      | elapsed:    0.2s\n",
            "[Parallel(n_jobs=2)]: Done  17 tasks      | elapsed:    0.2s\n",
            "[Parallel(n_jobs=2)]: Done  18 tasks      | elapsed:    0.2s\n",
            "[Parallel(n_jobs=2)]: Done  19 tasks      | elapsed:    0.2s\n",
            "[Parallel(n_jobs=2)]: Done  20 tasks      | elapsed:    0.2s\n",
            "[Parallel(n_jobs=2)]: Done  21 tasks      | elapsed:    0.2s\n",
            "[Parallel(n_jobs=2)]: Done  22 tasks      | elapsed:    0.3s\n",
            "[Parallel(n_jobs=2)]: Done  23 tasks      | elapsed:    0.3s\n",
            "[Parallel(n_jobs=2)]: Done  24 tasks      | elapsed:    0.3s\n",
            "[Parallel(n_jobs=2)]: Done  25 tasks      | elapsed:    0.3s\n",
            "[Parallel(n_jobs=2)]: Done  26 tasks      | elapsed:    0.3s\n",
            "[Parallel(n_jobs=2)]: Done  27 tasks      | elapsed:    0.3s\n",
            "[Parallel(n_jobs=2)]: Done  28 tasks      | elapsed:    0.3s\n",
            "[Parallel(n_jobs=2)]: Done  29 tasks      | elapsed:    0.3s\n",
            "[Parallel(n_jobs=2)]: Done  30 tasks      | elapsed:    0.3s\n",
            "[Parallel(n_jobs=2)]: Done  31 tasks      | elapsed:    0.4s\n",
            "[Parallel(n_jobs=2)]: Done  32 tasks      | elapsed:    0.4s\n",
            "[Parallel(n_jobs=2)]: Done  33 tasks      | elapsed:    0.4s\n",
            "[Parallel(n_jobs=2)]: Done  34 tasks      | elapsed:    0.4s\n",
            "[Parallel(n_jobs=2)]: Done  35 tasks      | elapsed:    0.4s\n",
            "[Parallel(n_jobs=2)]: Done  36 tasks      | elapsed:    0.4s\n",
            "[Parallel(n_jobs=2)]: Done  37 tasks      | elapsed:    0.4s\n",
            "[Parallel(n_jobs=2)]: Done  38 tasks      | elapsed:    0.4s\n",
            "[Parallel(n_jobs=2)]: Done  39 tasks      | elapsed:    0.4s\n",
            "[Parallel(n_jobs=2)]: Done  40 tasks      | elapsed:    0.5s\n",
            "[Parallel(n_jobs=2)]: Done  41 tasks      | elapsed:    0.5s\n",
            "[Parallel(n_jobs=2)]: Done  42 tasks      | elapsed:    0.5s\n",
            "[Parallel(n_jobs=2)]: Done  43 tasks      | elapsed:    0.5s\n",
            "[Parallel(n_jobs=2)]: Done  44 tasks      | elapsed:    0.5s\n",
            "[Parallel(n_jobs=2)]: Done  45 tasks      | elapsed:    0.5s\n",
            "[Parallel(n_jobs=2)]: Done  46 tasks      | elapsed:    0.5s\n",
            "[Parallel(n_jobs=2)]: Done  47 tasks      | elapsed:    0.5s\n",
            "[Parallel(n_jobs=2)]: Done  48 tasks      | elapsed:    0.5s\n",
            "[Parallel(n_jobs=2)]: Done  49 tasks      | elapsed:    0.6s\n",
            "[Parallel(n_jobs=2)]: Done  50 tasks      | elapsed:    0.6s\n",
            "[Parallel(n_jobs=2)]: Done  51 tasks      | elapsed:    0.6s\n",
            "[Parallel(n_jobs=2)]: Done  52 tasks      | elapsed:    0.6s\n",
            "[Parallel(n_jobs=2)]: Done  53 tasks      | elapsed:    0.6s\n",
            "[Parallel(n_jobs=2)]: Done  54 tasks      | elapsed:    0.6s\n",
            "[Parallel(n_jobs=2)]: Done  55 tasks      | elapsed:    0.6s\n",
            "[Parallel(n_jobs=2)]: Done  56 tasks      | elapsed:    0.6s\n",
            "[Parallel(n_jobs=2)]: Done  57 tasks      | elapsed:    0.7s\n",
            "[Parallel(n_jobs=2)]: Done  58 tasks      | elapsed:    0.7s\n",
            "[Parallel(n_jobs=2)]: Done  59 tasks      | elapsed:    0.7s\n",
            "[Parallel(n_jobs=2)]: Done  60 tasks      | elapsed:    0.7s\n",
            "[Parallel(n_jobs=2)]: Done  61 tasks      | elapsed:    0.7s\n",
            "[Parallel(n_jobs=2)]: Done  62 tasks      | elapsed:    0.7s\n",
            "[Parallel(n_jobs=2)]: Done  63 tasks      | elapsed:    0.7s\n",
            "[Parallel(n_jobs=2)]: Done  64 tasks      | elapsed:    0.7s\n",
            "[Parallel(n_jobs=2)]: Done  65 tasks      | elapsed:    0.7s\n",
            "[Parallel(n_jobs=2)]: Done  66 tasks      | elapsed:    0.7s\n",
            "[Parallel(n_jobs=2)]: Done  67 tasks      | elapsed:    0.8s\n",
            "[Parallel(n_jobs=2)]: Done  68 tasks      | elapsed:    0.8s\n",
            "[Parallel(n_jobs=2)]: Done  69 tasks      | elapsed:    0.8s\n",
            "[Parallel(n_jobs=2)]: Done  70 tasks      | elapsed:    0.8s\n",
            "[Parallel(n_jobs=2)]: Done  71 tasks      | elapsed:    0.8s\n",
            "[Parallel(n_jobs=2)]: Done  72 tasks      | elapsed:    0.8s\n",
            "[Parallel(n_jobs=2)]: Done  73 tasks      | elapsed:    0.8s\n",
            "[Parallel(n_jobs=2)]: Done  74 tasks      | elapsed:    0.8s\n",
            "[Parallel(n_jobs=2)]: Done  75 tasks      | elapsed:    0.8s\n",
            "[Parallel(n_jobs=2)]: Done  76 tasks      | elapsed:    0.8s\n",
            "[Parallel(n_jobs=2)]: Done  77 tasks      | elapsed:    0.9s\n",
            "[Parallel(n_jobs=2)]: Done  78 tasks      | elapsed:    0.9s\n",
            "[Parallel(n_jobs=2)]: Done  79 tasks      | elapsed:    0.9s\n",
            "[Parallel(n_jobs=2)]: Done  80 tasks      | elapsed:    0.9s\n",
            "[Parallel(n_jobs=2)]: Done  81 tasks      | elapsed:    0.9s\n",
            "[Parallel(n_jobs=2)]: Done  82 tasks      | elapsed:    0.9s\n",
            "[Parallel(n_jobs=2)]: Done  83 tasks      | elapsed:    0.9s\n",
            "[Parallel(n_jobs=2)]: Done  84 tasks      | elapsed:    0.9s\n",
            "[Parallel(n_jobs=2)]: Done  85 tasks      | elapsed:    1.0s\n",
            "[Parallel(n_jobs=2)]: Done  86 tasks      | elapsed:    1.0s\n",
            "[Parallel(n_jobs=2)]: Done  87 tasks      | elapsed:    1.0s\n",
            "[Parallel(n_jobs=2)]: Done  88 tasks      | elapsed:    1.0s\n",
            "[Parallel(n_jobs=2)]: Done  89 tasks      | elapsed:    1.0s\n",
            "[Parallel(n_jobs=2)]: Done  90 tasks      | elapsed:    1.0s\n",
            "[Parallel(n_jobs=2)]: Done  91 tasks      | elapsed:    1.0s\n",
            "[Parallel(n_jobs=2)]: Done  92 tasks      | elapsed:    1.0s\n",
            "[Parallel(n_jobs=2)]: Done  93 tasks      | elapsed:    1.0s\n",
            "[Parallel(n_jobs=2)]: Done  94 tasks      | elapsed:    1.0s\n",
            "[Parallel(n_jobs=2)]: Done  95 tasks      | elapsed:    1.1s\n",
            "[Parallel(n_jobs=2)]: Done  96 tasks      | elapsed:    1.1s\n",
            "[Parallel(n_jobs=2)]: Done  97 tasks      | elapsed:    1.1s\n",
            "[Parallel(n_jobs=2)]: Done 100 out of 100 | elapsed:    1.1s finished\n"
          ],
          "name": "stderr"
        },
        {
          "output_type": "stream",
          "text": [
            "Accuracy of Random Forest classifier is: 0.593899 \n"
          ],
          "name": "stdout"
        }
      ]
    },
    {
      "cell_type": "markdown",
      "metadata": {
        "id": "ef0vs_1l1Onh"
      },
      "source": [
        "#SVM Classifier\n",
        "\n",
        "*   Accuracy: 57.59%\n",
        "\n"
      ]
    },
    {
      "cell_type": "code",
      "metadata": {
        "colab": {
          "base_uri": "https://localhost:8080/"
        },
        "id": "uoqDrJIkA_oH",
        "outputId": "a6c8d866-4625-490d-cd78-a95a86ec6bb9"
      },
      "source": [
        "print(\"training SVM classifier now ...\")\n",
        "print(\"current time:-\", datetime.datetime.now())\n",
        "svm_classifier = svm.SVC(verbose=12).fit(X_train,y_train)\n",
        "y_pred = svm_classifier.predict(X_test)\n",
        "acc = accuracy_score(y_test,y_pred)\n",
        "print('Accuracy of SVM classifier is: %f ' % acc)\n",
        "print(\"current time:-\", datetime.datetime.now())"
      ],
      "execution_count": null,
      "outputs": [
        {
          "output_type": "stream",
          "text": [
            "training SVM classifier now ...\n",
            "current time:- 2021-04-07 06:29:51.206521\n",
            "[LibSVM]Accuracy of SVM classifier is: 0.575945 \n",
            "current time:- 2021-04-07 07:52:30.640195\n"
          ],
          "name": "stdout"
        }
      ]
    },
    {
      "cell_type": "code",
      "metadata": {
        "id": "StxSwdOrBDva"
      },
      "source": [
        ""
      ],
      "execution_count": null,
      "outputs": []
    }
  ]
}